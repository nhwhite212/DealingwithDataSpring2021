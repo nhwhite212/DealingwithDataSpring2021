{
  "nbformat": 4,
  "nbformat_minor": 0,
  "metadata": {
    "kernelspec": {
      "display_name": "Python 3",
      "language": "python",
      "name": "python3"
    },
    "language_info": {
      "codemirror_mode": {
        "name": "ipython",
        "version": 3
      },
      "file_extension": ".py",
      "mimetype": "text/x-python",
      "name": "python",
      "nbconvert_exporter": "python",
      "pygments_lexer": "ipython3",
      "version": "3.6.5"
    },
    "colab": {
      "name": "cronhelp.ipynb",
      "provenance": [],
      "collapsed_sections": [],
      "include_colab_link": true
    }
  },
  "cells": [
    {
      "cell_type": "markdown",
      "metadata": {
        "id": "view-in-github",
        "colab_type": "text"
      },
      "source": [
        "<a href=\"https://colab.research.google.com/github/nhwhite212/DealingwithDataSpring2021/blob/master/4-UNIX_Basics/cronhelp.ipynb\" target=\"_parent\"><img src=\"https://colab.research.google.com/assets/colab-badge.svg\" alt=\"Open In Colab\"/></a>"
      ]
    },
    {
      "cell_type": "markdown",
      "metadata": {
        "id": "UZXdHBZxFul4"
      },
      "source": [
        "# DOESN'T RUN, COLAB DOESN'T SUPPORT CRONTABS\n",
        "\n",
        "### Cron assignment, all done from a notebook\n",
        "The following cells are an example of how to do the cron assignment\n",
        "without having to go to the terminal, using notepad etc.\n",
        "Everything can be done fro\n",
        "\n",
        "m notebook cells\n"
      ]
    },
    {
      "cell_type": "markdown",
      "metadata": {
        "id": "EuhlnkaJGnB9"
      },
      "source": [
        ""
      ]
    },
    {
      "cell_type": "markdown",
      "metadata": {
        "id": "Ft50s0_dFul6"
      },
      "source": [
        "#### First, start the cron daemon, to make sure it is running\n"
      ]
    },
    {
      "cell_type": "code",
      "metadata": {
        "id": "QnW9fywWFul7",
        "colab": {
          "base_uri": "https://localhost:8080/"
        },
        "outputId": "81330952-ae2b-4f9c-f04b-39940df64bbd"
      },
      "source": [
        "!sudo service cron start"
      ],
      "execution_count": null,
      "outputs": [
        {
          "output_type": "stream",
          "text": [
            "cron: unrecognized service\n"
          ],
          "name": "stdout"
        }
      ]
    },
    {
      "cell_type": "markdown",
      "metadata": {
        "id": "bM6k6YFKFul8"
      },
      "source": [
        "#### Second, create the getTemp shell file by \"echoing\" the command lines into a file\n",
        "Note: the use of \\'s to escape some of the special characters,\n",
        "but first remove an existing NYC-Temperatures.txt file \n"
      ]
    },
    {
      "cell_type": "code",
      "metadata": {
        "id": "Vg6Bs_LuFul8"
      },
      "source": [
        "!rm /home/nwhite/NYC-Temperatures.txt\n"
      ],
      "execution_count": null,
      "outputs": []
    },
    {
      "cell_type": "code",
      "metadata": {
        "id": "9b9skIutFul9",
        "colab": {
          "base_uri": "https://localhost:8080/"
        },
        "outputId": "ccdebc67-fe45-4e4d-8feb-3c0f397a2418"
      },
      "source": [
        "# create the getTemp file and change it's permissions tø make it readable and executable\n",
        "# First put in the line for the \n",
        "# That tells linux to interpret this line with the bourne shell\n",
        "\n",
        "!rm getTemp\n",
        "!echo \"#!/bin/sh\" >getTemp\n",
        "\n",
        "# Next, add the line to retrieve the temperature from openweather\n",
        "#\n",
        "# Put your APIKEY to replace the APPID below below....\n",
        "#\n",
        "# now add the call to the openweathermap api\n",
        "# Note that we need to surround the curl URL in escaped single quotes\n",
        "!echo \"curl -s \\\"http://api.openweathermap.org/data/2.5/weather?zip=10012&mode=json&units=imperial&APPID=ffb7b9808e07c9135bdcc7d1e867253d \\\"|jq '.main.temp' \" >>getTemp \n",
        "\n",
        "# change permissions\n",
        "!chmod a+rx getTemp\n",
        "# look at the file....\n",
        "!cat getTemp\n"
      ],
      "execution_count": null,
      "outputs": [
        {
          "output_type": "stream",
          "text": [
            "#!/bin/sh\n",
            "curl -s \"http://api.openweathermap.org/data/2.5/weather?zip=10012&mode=json&units=imperial&APPID=ffb7b9808e07c9135bdcc7d1e867253d \"|jq '.main.temp' \n"
          ],
          "name": "stdout"
        }
      ]
    },
    {
      "cell_type": "markdown",
      "metadata": {
        "id": "RuqXGs6_Ful9"
      },
      "source": [
        "### We should now have a good getTemp file, so create the crontab entry ...\n",
        "echo the crontyab entry as input to crontab\n",
        "`!echo \"/10 * * * *  /content/getTemp\"|crontab`\n",
        "(You  might start with 1 minute intervals to test)"
      ]
    },
    {
      "cell_type": "code",
      "metadata": {
        "id": "MqNvwrchFul_",
        "colab": {
          "base_uri": "https://localhost:8080/"
        },
        "outputId": "6ad8250d-9cd9-47dc-fb44-4f10f259b836"
      },
      "source": [
        "!echo \"*/10 * * * * /content/getTemp >>/content/NYC-Temperatures.txt\"|crontab\n",
        "#list the crontab entry to see if it is correct\n",
        "!crontab -l\n"
      ],
      "execution_count": null,
      "outputs": [
        {
          "output_type": "stream",
          "text": [
            "/bin/bash: crontab: command not found\n",
            "/bin/bash: crontab: command not found\n"
          ],
          "name": "stdout"
        }
      ]
    },
    {
      "cell_type": "code",
      "metadata": {
        "id": "9PJ7-6WkFul_",
        "outputId": "0c25ccae-6e64-46e7-ae84-04cff97fceb6"
      },
      "source": [
        "### Now look at the NYC-Temperatures file (Note it may take a few minutes to be created)callable\n",
        "!cat /home/nwhite/NYC-Temperatures.txt\n",
        "# in 5 minutes, you should see an entry !!!\n"
      ],
      "execution_count": null,
      "outputs": [
        {
          "output_type": "stream",
          "text": [
            "76.5\r\n",
            "76.5\r\n",
            "76.5\r\n",
            "76.5\r\n",
            "76.5\r\n"
          ],
          "name": "stdout"
        }
      ]
    },
    {
      "cell_type": "code",
      "metadata": {
        "id": "T9zPhsBDFumA",
        "outputId": "88ec8a84-6f5b-4cd4-aa81-47a151cd0662"
      },
      "source": [
        "!crontab -l"
      ],
      "execution_count": null,
      "outputs": [
        {
          "output_type": "stream",
          "text": [
            "*/10 * * * * /home/nwhite/getTemp >>/home/nwhite/NYC-Temperatures.txt\r\n"
          ],
          "name": "stdout"
        }
      ]
    },
    {
      "cell_type": "code",
      "metadata": {
        "id": "7mErx6KeFumA",
        "outputId": "fad42fba-fa81-433b-8630-4bcffa29be31"
      },
      "source": [
        "!/home/nwhite/getTemp"
      ],
      "execution_count": null,
      "outputs": [
        {
          "output_type": "stream",
          "text": [
            "\u001b[0;39m76.5\u001b[0m\r\n"
          ],
          "name": "stdout"
        }
      ]
    },
    {
      "cell_type": "code",
      "metadata": {
        "id": "RUpsB__JFumB"
      },
      "source": [
        ""
      ],
      "execution_count": null,
      "outputs": []
    }
  ]
}