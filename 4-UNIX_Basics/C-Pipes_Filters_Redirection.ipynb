{
  "nbformat": 4,
  "nbformat_minor": 0,
  "metadata": {
    "colabVersion": "0.1",
    "kernelspec": {
      "display_name": "Python 3",
      "language": "python",
      "name": "python3"
    },
    "language_info": {
      "codemirror_mode": {
        "name": "ipython",
        "version": 3
      },
      "file_extension": ".py",
      "mimetype": "text/x-python",
      "name": "python",
      "nbconvert_exporter": "python",
      "pygments_lexer": "ipython3",
      "version": "3.6.8"
    },
    "colab": {
      "name": "C-Pipes_Filters_Redirection.ipynb",
      "provenance": [],
      "collapsed_sections": [
        "VAELBIrIu1dA"
      ],
      "include_colab_link": true
    }
  },
  "cells": [
    {
      "cell_type": "markdown",
      "metadata": {
        "id": "view-in-github",
        "colab_type": "text"
      },
      "source": [
        "<a href=\"https://colab.research.google.com/github/nhwhite212/DealingwithDataSpring2021/blob/master/4-UNIX_Basics/C-Pipes_Filters_Redirection.ipynb\" target=\"_parent\"><img src=\"https://colab.research.google.com/assets/colab-badge.svg\" alt=\"Open In Colab\"/></a>"
      ]
    },
    {
      "cell_type": "markdown",
      "metadata": {
        "id": "_68vxkahu1cx"
      },
      "source": [
        "Redirection\n",
        "-----------\n",
        "\n",
        "### The `>` operator\n",
        "\n",
        "A very important command-line operator is the “redirection” operator “`>`”.  With “`>`” you can send the result of your command-line processing to a file.  So if you’re using curl to get your current location, using the ip-api.com service (see the previous section) and want to store the output into a file, you can create a new file with just these lines using redirection:"
      ]
    },
    {
      "cell_type": "code",
      "metadata": {
        "id": "P9F6XmqXu1cz"
      },
      "source": [
        "!curl -s \"http://api.ipstack.com/128.122.85.5?access_key=c2192e9aa79a13153a328f383b810862\""
      ],
      "execution_count": null,
      "outputs": []
    },
    {
      "cell_type": "code",
      "metadata": {
        "id": "i0ebvNFgu1c0"
      },
      "source": [
        "!curl -s \"http://api.ipstack.com/128.122.85.5?access_key=c2192e9aa79a13153a328f383b810862\" > location.json\n",
        "!cat location.json"
      ],
      "execution_count": null,
      "outputs": []
    },
    {
      "cell_type": "code",
      "metadata": {
        "id": "IvTjODr7u1c1"
      },
      "source": [
        "!curl -s \"http://api.ipstack.com/128.122.85.5?access_key=c2192e9aa79a13153a328f383b810862\" -o location.json\n",
        "!cat location.json"
      ],
      "execution_count": null,
      "outputs": []
    },
    {
      "cell_type": "code",
      "metadata": {
        "id": "OmXal_H7u1c2"
      },
      "source": [
        "!ls -lA location.json"
      ],
      "execution_count": null,
      "outputs": []
    },
    {
      "cell_type": "markdown",
      "metadata": {
        "id": "9uV-OV5tu1c3"
      },
      "source": [
        "To see the content of the file, we can use the command `cat` (described below)"
      ]
    },
    {
      "cell_type": "code",
      "metadata": {
        "id": "TxJSZSx-u1c4"
      },
      "source": [
        "!cat location.json"
      ],
      "execution_count": null,
      "outputs": []
    },
    {
      "cell_type": "markdown",
      "metadata": {
        "id": "8aZP9uyDu1c4"
      },
      "source": [
        "And let's clean up by removing the file location.json"
      ]
    },
    {
      "cell_type": "code",
      "metadata": {
        "id": "op9n4Jatu1c5"
      },
      "source": [
        "!rm location.json"
      ],
      "execution_count": null,
      "outputs": []
    },
    {
      "cell_type": "markdown",
      "metadata": {
        "id": "OjpRQmVxu1c5"
      },
      "source": [
        "### The `>>` operator\n",
        "\n",
        "If we want to append to a file (instead of creating a new file from scratch), then we can use the `>>` operator. The operator is useful in cases where we want to collect data over time (e.g., by setting up a script that runs every hour, and appends the data in the file, instead of overwriting what is there)"
      ]
    },
    {
      "cell_type": "code",
      "metadata": {
        "id": "_LNqV_2hu1c6"
      },
      "source": [
        "!curl -s \"http://api.ipstack.com/128.122.85.5?access_key=c2192e9aa79a13153a328f383b810862\" > alldata.txt"
      ],
      "execution_count": null,
      "outputs": []
    },
    {
      "cell_type": "code",
      "metadata": {
        "id": "x4uxeY3iu1c7"
      },
      "source": [
        "!cat alldata.txt"
      ],
      "execution_count": null,
      "outputs": []
    },
    {
      "cell_type": "code",
      "metadata": {
        "id": "yv0JwGCWu1c8"
      },
      "source": [
        "!curl \"http://api.openweathermap.org/data/2.5/weather?lat=40.72&lon=-73.98&units=imperial&mode=json&appid=ffb7b9808e07c9135bdcc7d1e867253d\" >> alldata.txt "
      ],
      "execution_count": null,
      "outputs": []
    },
    {
      "cell_type": "code",
      "metadata": {
        "id": "7aE_iovlu1c8"
      },
      "source": [
        "!cat alldata.txt"
      ],
      "execution_count": null,
      "outputs": []
    },
    {
      "cell_type": "code",
      "metadata": {
        "id": "VB8nRjlmu1c9"
      },
      "source": [
        "!echo 'Open Weather Map Data! Haha!' >> alldata.txt"
      ],
      "execution_count": null,
      "outputs": []
    },
    {
      "cell_type": "code",
      "metadata": {
        "id": "v27-8GUku1c-"
      },
      "source": [
        "# The -n option adds the line numbers in front\n",
        "!cat -n alldata.txt"
      ],
      "execution_count": null,
      "outputs": []
    },
    {
      "cell_type": "code",
      "metadata": {
        "id": "8cSgEJiwu1c-"
      },
      "source": [
        "!rm alldata.txt"
      ],
      "execution_count": null,
      "outputs": []
    },
    {
      "cell_type": "markdown",
      "metadata": {
        "id": "0n4w_A64u1c-"
      },
      "source": [
        "### Exercise\n",
        "\n",
        "* let's retrieve a copy of a baseball statistics file in gzip format\n",
        "* and unzip it and take alook at it.\n",
        "\n",
        "\n"
      ]
    },
    {
      "cell_type": "code",
      "metadata": {
        "id": "Q8OIKpbBu1c_"
      },
      "source": [
        "# List all of our data files\n",
        "!ls \n",
        "# copy the zipped baseball file  to our data directory\n",
        "!curl http://people.stern.nyu.edu/nwhite/DealingwithDataSpring2021/data/baseball.csv.gz -o baseball.csv.gz\n",
        "!ls \n",
        "# unzip it\n",
        "!gunzip -f baseball.csv.gz\n",
        "!ls\n",
        "!head baseball.csv\n",
        "\n",
        "\n",
        "\n",
        "\n",
        "\n",
        "\n"
      ],
      "execution_count": null,
      "outputs": []
    },
    {
      "cell_type": "markdown",
      "metadata": {
        "id": "dwjyZpeau1c_"
      },
      "source": [
        ""
      ]
    },
    {
      "cell_type": "markdown",
      "metadata": {
        "id": "LMR6sDxfu1c_"
      },
      "source": [
        "Pipes\n",
        "-----\n",
        "\n",
        "Pipes provide a way of connecting the output of one unix program or utility to the input of another, through standard input and output. \n",
        "\n",
        "Unix pipes give you the power to compose various utilities into a data flow and use your creativity to solve problems. Utilities are connected together (\"piped\" together) via the pipe operator, **|**. \n",
        "\n",
        "We will give more examples that use pipes later, after covering a few useful utilities first."
      ]
    },
    {
      "cell_type": "markdown",
      "metadata": {
        "id": "N2pwZiZQu1c_"
      },
      "source": [
        "Filters\n",
        "-------\n",
        "Unix was designed around the concept of \"pipes\" and \"filters\". A filter is any command or progam that takes a stream of characters and alters it in some way and produces another string of characters. These \"filters\" can be joined together to form pipelines of transformations that be used in many ways.\n",
        "The unix system comes with MANY commands that can be used in pipleines, but users can easily  create their own.\n",
        "\n",
        "### `cat`:\n",
        "\n",
        "Prints the contents of the specified files to standard output. Example:"
      ]
    },
    {
      "cell_type": "code",
      "metadata": {
        "id": "Xnx1Kv2su1c_"
      },
      "source": [
        "!curl -s -L 'http://pages.stern.nyu.edu/~nwhite/DealingwithDataSpring2021/sample.txt' -o sample.txt #retrieve the file\n",
        "!cat sample.txt"
      ],
      "execution_count": null,
      "outputs": []
    },
    {
      "cell_type": "markdown",
      "metadata": {
        "id": "UjMoh27Ou1dA"
      },
      "source": [
        "_Note_: The -L flag tells curl to follow \"redirects\" and -s tells curl not to print any output or statistics but rather store the file in the file specified by the -o flag.)\n",
        "\n",
        "If we also want to number the lines, we use the `-n` option:"
      ]
    },
    {
      "cell_type": "code",
      "metadata": {
        "id": "_Dahm-uLu1dA"
      },
      "source": [
        "!cat -n sample.txt"
      ],
      "execution_count": null,
      "outputs": []
    },
    {
      "cell_type": "markdown",
      "metadata": {
        "id": "VAELBIrIu1dA"
      },
      "source": [
        "### `less`:\n",
        "\n",
        "** _For use within the UNIX shell; not really useful to use it from iPython notebook_ **\n",
        "\n",
        "The command `cat` lets you see the contents of the file, but it is not convenient when the file is big. For that, it is better to use the command `less` which allows you to scroll and navigate through the contents of a file. When invoked like: `less [some big file]`. `less` enters an interactive mode. In this mode, several keys help you navigate the input file. Some key commands are:\n",
        "\n",
        "+ `(space)`: space navigates forward one screen.\n",
        "+ `(enter)`: enter navigates forward one line.\n",
        "+ `b`: navigates backwards one screen\n",
        "+ `y`: navigates backwards one line.\n",
        "+ `/[pattern]`: search forwards for the next occurrence of `[pattern]`\n",
        "+ `?[pattern]`: search backwards for the previous occurrence of `[pattern]`\n",
        "\n",
        "Where `[pattern]` can be a basic string or a regular expression. (We will cover regular expressions in the next session)"
      ]
    },
    {
      "cell_type": "markdown",
      "metadata": {
        "id": "Tji9EEGeu1dA"
      },
      "source": [
        "### `head/tail`:\n",
        "\n",
        "The `cat` command above lists the full file. This is problematic when dealing with big files, as it can often block the terminal or the iPython notebook. \n",
        "\n",
        "The `head` and `tail` commands can be used instead to output the first (last) lines of a file. Typically used like:\n"
      ]
    },
    {
      "cell_type": "code",
      "metadata": {
        "id": "ym1nOtR3u1dA"
      },
      "source": [
        "#Prints the first five lines of a file\n",
        "!head -n 5 sample.txt "
      ],
      "execution_count": null,
      "outputs": []
    },
    {
      "cell_type": "code",
      "metadata": {
        "id": "xNDQa7ynu1dB"
      },
      "source": [
        "#Prints the last five lines of a file\n",
        "!tail -n 5 sample.txt"
      ],
      "execution_count": null,
      "outputs": []
    },
    {
      "cell_type": "markdown",
      "metadata": {
        "id": "LI5zgtCku1dB"
      },
      "source": [
        "The -n option specifies the number of lines to be output, the default value is 10. \n",
        "\n",
        "For more advanced usage, `tail`, when used with the `-f` option, will output the end of a file _as it is written to_. This is useful is a program is writing output or logging progress to a file, and you want to read it _live_ as it is happening."
      ]
    },
    {
      "cell_type": "markdown",
      "metadata": {
        "id": "QaxWxMg4u1dB"
      },
      "source": [
        "### `cut`:\n",
        "\n",
        "The `cat` command prints the full file. The `head` and `tail` commands select the first and last lines of a file. The `cut` command complements these commands by allowing us to select (or “cut”) certain fields (usually columns) from input. \n",
        "\n",
        "Cut is typically used with the `-f` option to specify a comma-separated list of columns to be emitted. Example:"
      ]
    },
    {
      "cell_type": "code",
      "metadata": {
        "id": "97omxeDqu1dB"
      },
      "source": [
        "!cat sample.txt"
      ],
      "execution_count": null,
      "outputs": []
    },
    {
      "cell_type": "code",
      "metadata": {
        "id": "jNrkfofeu1dB"
      },
      "source": [
        "#Selects the first and fourth column. Assumes tab-separated columns.\n",
        "!cut -f1,4 sample.txt"
      ],
      "execution_count": null,
      "outputs": []
    },
    {
      "cell_type": "markdown",
      "metadata": {
        "id": "cXJidwsyu1dC"
      },
      "source": [
        "##### Specifying an alternative delimiter instead \n",
        "\n",
        "`-d` option: To specify the string used to separate the fields use the `-d` option. For example, if \n",
        "spaces were used instead of tabs, we could change the above command to:\n",
        "`cut -f2 -d ' ' sample.txt`"
      ]
    },
    {
      "cell_type": "code",
      "metadata": {
        "id": "4pRjbK23u1dC"
      },
      "source": [
        "# Selects the second column, if the delimiter is a space\n",
        "# Notice that we put space within quotes -d' '; alternatively we could use the escape character and write -d\\ \n",
        "# Notice that the only space characters appear between the words \"foo bar\", \"biz baz\", etc. The earlier separators are tabs.\n",
        "!cut -f2 -d' ' sample.txt"
      ],
      "execution_count": null,
      "outputs": []
    },
    {
      "cell_type": "markdown",
      "metadata": {
        "id": "eoyTXQVFu1dC"
      },
      "source": [
        "### Exercise:\n",
        "\n",
        "* Use the `cut` command to extract the team names from the baseball file. It is a comma separated file, so remember to correctly specify  the separator. The team name is the 5th column\n",
        "* Use the redirect operator > to save the outcome into a file named \"team-names.txt\""
      ]
    },
    {
      "cell_type": "code",
      "metadata": {
        "id": "Ufq59W3Vu1dC"
      },
      "source": [
        "#Your code here\n",
        "! cat baseball.csv| PUT THE CUT COMMAND HERE|head\n"
      ],
      "execution_count": null,
      "outputs": []
    },
    {
      "cell_type": "markdown",
      "metadata": {
        "id": "-BcR5kdnu1dD"
      },
      "source": [
        "### Using pipes \n",
        "\n",
        "Now, let's use pipes for the first time. Pipes are being used to \"pipe\" the output of one program into another. For example, select the second column, and then list only the first 3 entries:"
      ]
    },
    {
      "cell_type": "code",
      "metadata": {
        "id": "KEPhE1V-u1dD"
      },
      "source": [
        "!cut -f 2 sample.txt | head -3"
      ],
      "execution_count": null,
      "outputs": []
    },
    {
      "cell_type": "markdown",
      "metadata": {
        "id": "8H3Xp7Mju1dD"
      },
      "source": [
        "#### Exercise\n",
        "\n",
        "* Select the team names column, and then list the last 10 entries"
      ]
    },
    {
      "cell_type": "code",
      "metadata": {
        "id": "9jqz2Gwmu1dD"
      },
      "source": [
        "#your code here\n",
        "\n",
        "\n",
        "\n",
        "\n",
        "\n",
        "\n"
      ],
      "execution_count": null,
      "outputs": []
    },
    {
      "cell_type": "markdown",
      "metadata": {
        "id": "hwxTniPQu1dD"
      },
      "source": [
        "### `sort`\n",
        "\n",
        "An extremely efficient implementation of [external merge sort](http://dzmitryhuba.blogspot.com/2010/08/external-merge-sort.html). In a nutshell, this means the sort utility can order a dataset far larger than can fit in a system’s main memory. While sorting extremely large files does drastically increase the runtime, smaller files are sorted quickly. Useful both as a component of larger shell scripts, and independently, as a tool to, say, quickly find the most active users, or to see the  most frequently loaded pages on a domain. \n",
        "\n",
        "Typically called like: `sort [options] [file]`. Example:"
      ]
    },
    {
      "cell_type": "code",
      "metadata": {
        "id": "F-y2ehf5u1dD"
      },
      "source": [
        "!cat sample.txt"
      ],
      "execution_count": null,
      "outputs": []
    },
    {
      "cell_type": "code",
      "metadata": {
        "id": "xkxp4njPu1dE"
      },
      "source": [
        "!sort sample.txt"
      ],
      "execution_count": null,
      "outputs": []
    },
    {
      "cell_type": "markdown",
      "metadata": {
        "id": "LxBkCXjIu1dE"
      },
      "source": [
        "\n",
        "\n",
        "Some useful options:\n",
        "\n",
        "+ `-r`: reverse order. Sort the input in descending order:"
      ]
    },
    {
      "cell_type": "code",
      "metadata": {
        "id": "wYwNELm3u1dE"
      },
      "source": [
        "!sort -r sample.txt"
      ],
      "execution_count": null,
      "outputs": []
    },
    {
      "cell_type": "markdown",
      "metadata": {
        "id": "ZnC_VqjEu1dE"
      },
      "source": [
        "+ `-n`: numeric order. Sort the input in numerical order as opposed to the default lexicographical order:"
      ]
    },
    {
      "cell_type": "code",
      "metadata": {
        "id": "JvDujsXzu1dF"
      },
      "source": [
        "!sort -n sample.txt"
      ],
      "execution_count": null,
      "outputs": []
    },
    {
      "cell_type": "markdown",
      "metadata": {
        "id": "8UPcOwrFu1dF"
      },
      "source": [
        "+ `-k n`: sort the input according to the values in the n-th column. Useful for columnar  data. "
      ]
    },
    {
      "cell_type": "code",
      "metadata": {
        "id": "1tvtqVjZu1dF"
      },
      "source": [
        "!sort -k 2 sample.txt"
      ],
      "execution_count": null,
      "outputs": []
    },
    {
      "cell_type": "markdown",
      "metadata": {
        "id": "8fyzmqS8u1dG"
      },
      "source": [
        "* `-t` the option to specify the text used to specify columns. Notice that `sort` uses the `-t` option to specify the delimiter character, while `cut` used `-d`. Yes, it is confusing. (This is mainly the result of different developers creating the commands)"
      ]
    },
    {
      "cell_type": "markdown",
      "metadata": {
        "id": "dJsfDe-9u1dG"
      },
      "source": [
        "### Exercise\n",
        "\n",
        "* Sort the baseball data file by name and store the result in a separate file `sorted.csv`. You will see that this is a comma separated file therefore the character that separates columns is the `,` (comma) character. The team name is the fifth column in the dataset.\n",
        "* Repeat the sorting process above, but instead of storing the file, display the first 5 entries using the `head` command and a pipe."
      ]
    },
    {
      "cell_type": "code",
      "metadata": {
        "id": "eCR67Sngu1dG"
      },
      "source": [
        "#your code here: Get the team names\n",
        "#and store the result in a separate file sorted.csv in your home directory.\n"
      ],
      "execution_count": null,
      "outputs": []
    },
    {
      "cell_type": "code",
      "metadata": {
        "id": "kY3zhX9iu1dG"
      },
      "source": [
        "#your code here: Use the head command and a pipe."
      ],
      "execution_count": null,
      "outputs": []
    },
    {
      "cell_type": "markdown",
      "metadata": {
        "id": "Fvgnh5vCu1dH"
      },
      "source": [
        "### `uniq`\n",
        "\n",
        "Removes *sequential* duplicates (i.e. file should be sorted first): prints only those unique sequential lines from a file. For example, our sample.txt file contains a duplicate line at the end. See:"
      ]
    },
    {
      "cell_type": "code",
      "metadata": {
        "id": "W34GT0Euu1dH"
      },
      "source": [
        "!cat sample.txt"
      ],
      "execution_count": null,
      "outputs": []
    },
    {
      "cell_type": "markdown",
      "metadata": {
        "id": "2DuCnnbJu1dH"
      },
      "source": [
        "By running `uniq` we can remove the duplicate line:"
      ]
    },
    {
      "cell_type": "code",
      "metadata": {
        "id": "aTuxCIbbu1dH"
      },
      "source": [
        "!uniq sample.txt"
      ],
      "execution_count": null,
      "outputs": []
    },
    {
      "cell_type": "markdown",
      "metadata": {
        "id": "HH_sYeeou1dH"
      },
      "source": [
        "Used with the `-c` option, uniq will report the number of duplicates of each line in the sequence. Example:"
      ]
    },
    {
      "cell_type": "code",
      "metadata": {
        "id": "CwhayDNsu1dI"
      },
      "source": [
        "!uniq -c sample.txt"
      ],
      "execution_count": null,
      "outputs": []
    },
    {
      "cell_type": "markdown",
      "metadata": {
        "id": "aOyNAuDvD1ur"
      },
      "source": [
        "### For the next exercise we need to download a copy of the NYC Open Data  restaurants inspections and unzip it.\n"
      ]
    },
    {
      "cell_type": "code",
      "metadata": {
        "id": "gqqBn53-EIm7"
      },
      "source": [
        ""
      ],
      "execution_count": null,
      "outputs": []
    },
    {
      "cell_type": "code",
      "metadata": {
        "id": "iCoa4pz2EIyF"
      },
      "source": [
        "\n",
        "!curl http://people.stern.nyu.edu/nwhite/DealingwithDataSpring2021/data/restaurants.csv.gz >restaurants.csv.gz"
      ],
      "execution_count": null,
      "outputs": []
    },
    {
      "cell_type": "code",
      "metadata": {
        "id": "aQbjYjKfElwZ"
      },
      "source": [
        "!head restaurants.csv"
      ],
      "execution_count": null,
      "outputs": []
    },
    {
      "cell_type": "markdown",
      "metadata": {
        "id": "j2zgvBFWu1dI"
      },
      "source": [
        "#### Exercise\n",
        "\n",
        "For the following three exercises, perform them first by having multiple commands and storing the output of each command in a separate file. Then consolidate the process by using pipes.\n",
        "\n",
        "* Count the number of times that a restaurant name appears in the dataset. Use the `cut`, `sort`, `uniq` commands.\n",
        "* Count the number of times that a restaurant name appears in the dataset, and display in descending order of frequency the count and the restaurant name.\n",
        "* List the ten most frequent restaurant names, *without* displaying their frequency in the dataset."
      ]
    },
    {
      "cell_type": "code",
      "metadata": {
        "id": "tsdCCcF7u1dI"
      },
      "source": [
        "#your code here"
      ],
      "execution_count": null,
      "outputs": []
    },
    {
      "cell_type": "markdown",
      "metadata": {
        "id": "IJgjRVA_u1dI"
      },
      "source": [
        "### `wc`: \n",
        "Compute word, line, and byte counts for specified files or output of other scripts. Particularly useful when used in concert with other utilities such as grep, sort, and uniq. Example usage:"
      ]
    },
    {
      "cell_type": "code",
      "metadata": {
        "id": "_Jnc2EzIu1dI"
      },
      "source": [
        "!uniq -c sample.txt"
      ],
      "execution_count": null,
      "outputs": []
    },
    {
      "cell_type": "code",
      "metadata": {
        "id": "-5yqMfZXu1dI"
      },
      "source": [
        "!wc sample.txt"
      ],
      "execution_count": null,
      "outputs": []
    },
    {
      "cell_type": "markdown",
      "metadata": {
        "id": "O1bGisW5u1dI"
      },
      "source": [
        "Indicating the number of lines, words, and bytes in the file respectively. There are some useful flags for wc that will help you answer specific questions quickly:"
      ]
    },
    {
      "cell_type": "markdown",
      "metadata": {
        "id": "RDU2aMiZu1dJ"
      },
      "source": [
        "+ `-l`: get the number of lines from the input. Example:"
      ]
    },
    {
      "cell_type": "code",
      "metadata": {
        "id": "3Iq_bincu1dJ"
      },
      "source": [
        "!wc -l sample.txt"
      ],
      "execution_count": null,
      "outputs": []
    },
    {
      "cell_type": "markdown",
      "metadata": {
        "id": "5ru43I_zu1dJ"
      },
      "source": [
        "+ `-w`: get the number of words in the input. Example:"
      ]
    },
    {
      "cell_type": "code",
      "metadata": {
        "id": "imVsCVZKu1dJ"
      },
      "source": [
        "!wc -w sample.txt"
      ],
      "execution_count": null,
      "outputs": []
    },
    {
      "cell_type": "markdown",
      "metadata": {
        "id": "E_yyLFPGu1dJ"
      },
      "source": [
        "+ `-m`: the number of characters in the input. Example:"
      ]
    },
    {
      "cell_type": "code",
      "metadata": {
        "id": "lB2nQRMVu1dJ"
      },
      "source": [
        "!wc -m sample.txt"
      ],
      "execution_count": null,
      "outputs": []
    },
    {
      "cell_type": "markdown",
      "metadata": {
        "id": "36dfJtx7u1dK"
      },
      "source": [
        "+ `-c`: the number of bytes in the input. Example:"
      ]
    },
    {
      "cell_type": "code",
      "metadata": {
        "id": "D4xpKdVJu1dK"
      },
      "source": [
        "!wc -c sample.txt"
      ],
      "execution_count": null,
      "outputs": []
    },
    {
      "cell_type": "markdown",
      "metadata": {
        "id": "Zbh1dzHWu1dK"
      },
      "source": [
        "Here, the number of bytes and characters are the same; all characters used are just one byte."
      ]
    },
    {
      "cell_type": "markdown",
      "metadata": {
        "id": "YlEoFXXQu1dK"
      },
      "source": [
        "#### Exercise\n",
        "\n",
        "* List how many entries (inspections) there are in the restaurant data set\n",
        "* Remove any duplicate names (DBA  ==> Doing Business As, column 2)\n",
        "* Report how many unique restaurants are in the dataset\n",
        "* \"Tricky\" questions: \n",
        "    * On average, how many words are there in a NYC restaurant name? Compute the answer both with, and without duplicate names. \n",
        "    * On average, how many characters in a NYC restaurant name?"
      ]
    },
    {
      "cell_type": "code",
      "metadata": {
        "id": "UaR_Q37ju1dL"
      },
      "source": [
        "#your code here\n",
        "\n",
        "\n"
      ],
      "execution_count": null,
      "outputs": []
    },
    {
      "cell_type": "markdown",
      "metadata": {
        "id": "GjB257g5u1dL"
      },
      "source": [
        "### `find` \n",
        "\n",
        "Search directories for matching files. Useful when you know the name of a file (or part of the name), but do not know the file’s location in a directory. Example:"
      ]
    },
    {
      "cell_type": "code",
      "metadata": {
        "id": "cJoTrhyxu1dL"
      },
      "source": [
        "!find . -name 'sample.txt'"
      ],
      "execution_count": null,
      "outputs": []
    },
    {
      "cell_type": "markdown",
      "metadata": {
        "id": "U2K_Er8Mu1dM"
      },
      "source": [
        "### `grep`:\n",
        "A utility for pattern matching. grep is by far the most useful unix utility. While grep is conceptually very simple, an effective developer or data scientist will no doubt find themselves using grep dozens of times a day. grep is typically called like this: `grep [options] [pattern] [files]`. With no options specified, this simply looks for the specified pattern in the given files, printing to the console only those lines that match the given pattern. Example:"
      ]
    },
    {
      "cell_type": "markdown",
      "metadata": {
        "id": "XeS3g_2Wu1dM"
      },
      "source": [
        "This in itself can be very useful, scraping large volumes of data to find what you’re looking for. \n",
        "\n",
        "The power of grep really shows when different command options are specified. Below are just a sample of the more useful grep options:\n",
        "\n",
        "+ `-v`: Inverted matching. In this setting, grep will return all the input lines that do not match the specified pattern. Example"
      ]
    },
    {
      "cell_type": "code",
      "metadata": {
        "id": "OuBab82cu1dN"
      },
      "source": [
        "!cat sample.txt"
      ],
      "execution_count": null,
      "outputs": []
    },
    {
      "cell_type": "code",
      "metadata": {
        "id": "88HqoIXqu1dN"
      },
      "source": [
        "!grep -v 'biz baz' sample.txt"
      ],
      "execution_count": null,
      "outputs": []
    },
    {
      "cell_type": "markdown",
      "metadata": {
        "id": "1A36Dj_Mu1dN"
      },
      "source": [
        "+ `-R`: Recursive matching. Here grep descends sub folders, applying the pattern on all files encountered. Very useful if you’re looking to see if any logs have lines that you’re interested in, or to find the source code file containing the function you’re interested in. Example:"
      ]
    },
    {
      "cell_type": "code",
      "metadata": {
        "id": "8U9IkVzVu1dO"
      },
      "source": [
        "!grep -R 'MORIMOTO' ."
      ],
      "execution_count": null,
      "outputs": []
    },
    {
      "cell_type": "markdown",
      "metadata": {
        "id": "REK7V_iOu1dO"
      },
      "source": [
        "More options:\n",
        "\n",
        "* -c\tPrint only a count of matched lines.\n",
        "* -i \tIgnore lowercase and uppercase distinctions\n",
        "* -n\tPrint matching line with its line number\n",
        "* -v  \tNegate matches; print lines that do not match the regex\n",
        "* -r\tRecursively Search subdirectories listed\n",
        "* -l \tList only filenames\n",
        "* -o\tprints only the matching part of the line\n"
      ]
    },
    {
      "cell_type": "markdown",
      "metadata": {
        "id": "Z_9kgVLQu1dO"
      },
      "source": [
        "We will get back to grep once we learn regular expressions. You will see that grep can be extremely useful for searching through data."
      ]
    },
    {
      "cell_type": "markdown",
      "metadata": {
        "id": "q8cP6IJ6u1dO"
      },
      "source": [
        "### `jq`\n",
        "\n",
        "The [jq](http://stedolan.github.io/jq/) is not one of the \"standard\" UNIX tools but will be useful for us, to be able to parse the JSON responses of the Web API calls.\n",
        "\n",
        "Since it is not installed by default, we had to first install it:\n",
        "The next cell shows you the command to install new software."
      ]
    },
    {
      "cell_type": "code",
      "metadata": {
        "id": "8gAqoedzu1dO"
      },
      "source": [
        "!sudo apt-get install jq"
      ],
      "execution_count": null,
      "outputs": []
    },
    {
      "cell_type": "markdown",
      "metadata": {
        "id": "WCDGc1eIu1dO"
      },
      "source": [
        "The `jq` command has the format\n",
        "\n",
        "`jq [filters] filename`\n",
        "\n",
        "\n",
        "\n",
        "The absolute simplest (and least interesting) filter is `.` \n",
        "\n",
        "This is a filter that takes its input and produces it unchanged as output.\n",
        "\n",
        "Since jq by default \"pretty-prints\" all output, this trivial program can be a useful way of formatting JSON output from, say, curl.\n",
        "\n"
      ]
    },
    {
      "cell_type": "code",
      "metadata": {
        "id": "0Um6rMWOu1dO"
      },
      "source": [
        "!curl -s \"http://api.ipstack.com/128.122.85.5?access_key=c2192e9aa79a13153a328f383b810862\"  > location.json"
      ],
      "execution_count": null,
      "outputs": []
    },
    {
      "cell_type": "code",
      "metadata": {
        "id": "2b0uHz7zu1dP"
      },
      "source": [
        "!jq . location.json"
      ],
      "execution_count": null,
      "outputs": []
    },
    {
      "cell_type": "markdown",
      "metadata": {
        "id": "0YzCqcNCu1dP"
      },
      "source": [
        "Having learned pipes, we can now avoid storing the output of curl into a file, and instead pass it directly through `jq`: "
      ]
    },
    {
      "cell_type": "code",
      "metadata": {
        "id": "lvCjjOEPu1dP"
      },
      "source": [
        "!curl -s \"http://api.ipstack.com/128.122.85.5?access_key=c2192e9aa79a13153a328f383b810862\"|jq .\n"
      ],
      "execution_count": null,
      "outputs": []
    },
    {
      "cell_type": "markdown",
      "metadata": {
        "id": "ElOXDdI4u1dP"
      },
      "source": [
        "(The -s option for curl stands for \"silent\" and prevents the status messages from appearing in the output).\n",
        "\n",
        "The simplest useful filter is `.foo`. When given a JSON object as input, it produces the value at the attribute `foo`, or null if there’s none present.\n",
        "\n",
        "Now, let's try to use such a filter for selecting the \"city\" attribute listed in the JSON output: "
      ]
    },
    {
      "cell_type": "code",
      "metadata": {
        "id": "D_0RiTmfu1dR"
      },
      "source": [
        "!curl -s \"http://api.ipstack.com/128.122.85.5?access_key=c2192e9aa79a13153a328f383b810862\"|jq '.city'"
      ],
      "execution_count": null,
      "outputs": []
    },
    {
      "cell_type": "markdown",
      "metadata": {
        "id": "PtaSii5Iu1dR"
      },
      "source": [
        "And we can also combine multiple attributes, using the addition operator `+`: "
      ]
    },
    {
      "cell_type": "code",
      "metadata": {
        "id": "gCf1pS2yu1dR"
      },
      "source": [
        "!curl -s \"http://api.ipstack.com/128.122.85.5?access_key=c2192e9aa79a13153a328f383b810862\"| jq '.city + \", \" + .region_name + \", \" + .country_name'"
      ],
      "execution_count": null,
      "outputs": []
    },
    {
      "cell_type": "markdown",
      "metadata": {
        "id": "6H6U4j4ou1dR"
      },
      "source": [
        "Now, let's try something more complicated: We will use the jq command to read the location from the output of the ip-api.com API, and then create the URL for calling the OpenWeathermap API (see the previous session for details):"
      ]
    },
    {
      "cell_type": "code",
      "metadata": {
        "id": "IbbC9sQWu1dS"
      },
      "source": [
        "!curl -s \"http://api.ipstack.com/128.122.85.5?access_key=c2192e9aa79a13153a328f383b810862\" \\\n",
        "| jq '\"http://api.openweathermap.org/data/2.5/weather?q=\" + .city + \",\" + .region_name + \"&mode=json&units=imperial&appid=ffb7b9808e07c9135bdcc7d1e867253d\"'"
      ],
      "execution_count": null,
      "outputs": []
    },
    {
      "cell_type": "markdown",
      "metadata": {
        "id": "is472cZRu1dT"
      },
      "source": [
        "This is our first interaction with jq  **variables**. You will notice that we used the `city` and `region` output from one service (Telize), in order to reuse these values later, in the OpenWeatherMap service.\n",
        "\n",
        "#### And now let's get advanced with pipes\n",
        "\n",
        "Now, we will get into a little more advanced topic. No worries if you feel lost. This is pretty tricky...\n",
        "\n",
        "The key trick we will use is the unix `xargs` command. The `xargs` takes its input and passes it as a parameter to the command that follows.\n",
        "\n",
        "So, what we do below: \n",
        "* We first generate the URL, using the commands described above. \n",
        "* Then, we use the `xargs` command to pass the URL as a parameter to curl\n",
        "* Curl can then use this URL, and get the weather in our current location:\n",
        "* We will use this in our \"cron\" homework for next week."
      ]
    },
    {
      "cell_type": "code",
      "metadata": {
        "id": "MCYkTNDou1dT"
      },
      "source": [
        "!curl -s \"http://api.ipstack.com/128.122.85.5?access_key=c2192e9aa79a13153a328f383b810862\" | \\\n",
        "jq '\"http://api.openweathermap.org/data/2.5/weather?q=\" + .city + \",\" + .region_name + \"&mode=json&units=imperial&appid=ffb7b9808e07c9135bdcc7d1e867253d\"'  | \\\n",
        "xargs curl -s  | jq "
      ],
      "execution_count": null,
      "outputs": []
    },
    {
      "cell_type": "markdown",
      "metadata": {
        "id": "dccIvrZbu1dT"
      },
      "source": [
        "What if we just want the temperature?"
      ]
    },
    {
      "cell_type": "code",
      "metadata": {
        "id": "2dNnMRSFu1dT"
      },
      "source": [
        "!curl -s \"http://api.ipstack.com/128.122.85.5?access_key=c2192e9aa79a13153a328f383b810862\" | \\\n",
        "jq '\"http://api.openweathermap.org/data/2.5/weather?q=\" + .city + \",\" + .region_name + \"&mode=json&units=imperial&appid=ffb7b9808e07c9135bdcc7d1e867253d\"' | \\\n",
        "xargs curl -s | jq '.main.temp'"
      ],
      "execution_count": null,
      "outputs": []
    },
    {
      "cell_type": "markdown",
      "metadata": {
        "id": "1cOYC5sIu1dU"
      },
      "source": [
        "Instead of pipes, we can also write and read files (although it is slower and more cumbersome, it may be useful while debugging):"
      ]
    },
    {
      "cell_type": "code",
      "metadata": {
        "id": "7sf8IBFbu1dU"
      },
      "source": [
        "!curl -s \"http://api.ipstack.com/128.122.85.5?access_key=c2192e9aa79a13153a328f383b810862\" > location.json\n",
        "!jq '\"http://api.openweathermap.org/data/2.5/weather?q=\" + .city + \",\" + .region_name + \"&mode=json&units=imperial&appid=ffb7b9808e07c9135bdcc7d1e867253d\"' location.json > openweathermap.url\n",
        "!cat openweathermap.url | xargs curl -s > weather.json\n",
        "!jq '.main.temp' weather.json\n",
        "!rm openweathermap.url\n",
        "!rm weather.json\n",
        "!rm location.json"
      ],
      "execution_count": null,
      "outputs": []
    },
    {
      "cell_type": "markdown",
      "metadata": {
        "id": "w4JQq5Usu1dU"
      },
      "source": [
        "Look at the power of pipes and filters: In three lines and in less than 200 characters, we created a service that reads out current location, using the API at ip-api.com, parses the output, creates a new API call for OpenWeatherMap, and then gets the data from that service, to give us back the temperature in our current location!\n",
        "\n",
        "The full manual of `jq` is available at http://stedolan.github.io/jq/manual/ and you can use the live demo at https://jqplay.org/\n",
        "\n",
        "There are numerous options in the manual. For now, you can restrict yourself to the basic operations that we covered."
      ]
    },
    {
      "cell_type": "markdown",
      "metadata": {
        "id": "54cEER4lu1dU"
      },
      "source": [
        "### Exercise\n",
        "\n",
        "* Instead of reading the city and region, read instead the log/lat coordinates from the Telize API, and modify the API call to OpenWeatherMap to use long/lat instead. (See http://openweathermap.org/current for the details API calls.)\n",
        "(THIS IS VERY TRICKY, DONT TRY UNLESS YOU ARE A LINUX GURU). Latitude and longitude are numbers and can't be concatenated with strings. They need to be converted to strings.\n",
        "\n",
        "* Print the description of the weather, instead of the temperature. (This is easier, the description is a string)"
      ]
    },
    {
      "cell_type": "code",
      "metadata": {
        "id": "M-_64Jx5u1dU"
      },
      "source": [
        "# your code here\n",
        "\n"
      ],
      "execution_count": null,
      "outputs": []
    },
    {
      "cell_type": "markdown",
      "metadata": {
        "id": "BR24jDUcu1dU"
      },
      "source": [
        "\n",
        "\n",
        "\n"
      ]
    },
    {
      "cell_type": "markdown",
      "metadata": {
        "id": "T7sM7AJwu1dU"
      },
      "source": [
        "More examples of using pipes\n",
        "----------------------------\n",
        "\n",
        "We discussed earlier in the session the usage of the `|` operator to connect (aka \"pipe\") the output of one utility and direct it as input in another. Now that we have learned a few tools, lets use these in some examples. For instance, if you want to know how many records in the sample data file do not contain \"foo bar\", you can compose a data flow like this:  (The \"v\" option reVerses the grep...)"
      ]
    },
    {
      "cell_type": "code",
      "metadata": {
        "id": "pM4lC9c_u1dU"
      },
      "source": [
        "!cat sample.txt | grep -v 'foo bar' | wc -l"
      ],
      "execution_count": null,
      "outputs": []
    },
    {
      "cell_type": "markdown",
      "metadata": {
        "id": "oT1A_24qu1dV"
      },
      "source": [
        "Using `wc` at the end of a pipe to count the number of matching output records is a common pattern. Recalling that `uniq` removes any sequential duplicates, we can count the number of unique users making purchases in our file by composing a data flow like this:"
      ]
    },
    {
      "cell_type": "code",
      "metadata": {
        "id": "BpSivDg-u1dV"
      },
      "source": [
        "!cat sample.txt | cut -f3 | sort | uniq  | wc -l"
      ],
      "execution_count": null,
      "outputs": []
    },
    {
      "cell_type": "markdown",
      "metadata": {
        "id": "94RxWXXgu1dV"
      },
      "source": [
        "Or, if you want count how many transactions each user has appeared in:"
      ]
    },
    {
      "cell_type": "code",
      "metadata": {
        "id": "59WWlmtLu1dV"
      },
      "source": [
        "!cat sample.txt | cut -f3 | sort | uniq -c"
      ],
      "execution_count": null,
      "outputs": []
    },
    {
      "cell_type": "markdown",
      "metadata": {
        "id": "dQa0LpRau1dV"
      },
      "source": [
        "To now order the users by number of transactions made, you can try something like:"
      ]
    },
    {
      "cell_type": "code",
      "metadata": {
        "id": "8LOuklnSu1dV"
      },
      "source": [
        "!cat sample.txt | cut -f3 | sort | uniq -c | sort -nr"
      ],
      "execution_count": null,
      "outputs": []
    },
    {
      "cell_type": "code",
      "metadata": {
        "id": "6WkwttcBu1dW"
      },
      "source": [
        "!man sort\n"
      ],
      "execution_count": null,
      "outputs": []
    },
    {
      "cell_type": "markdown",
      "metadata": {
        "id": "FPQMsDztu1dW"
      },
      "source": [
        "Notice here, that the `-r` and `-n` flags for the sort command are combined. This is common shorthand and is acceptable for any unix utility."
      ]
    },
    {
      "cell_type": "code",
      "metadata": {
        "id": "VRTX6Ch5_Npu"
      },
      "source": [
        ""
      ],
      "execution_count": null,
      "outputs": []
    }
  ]
}