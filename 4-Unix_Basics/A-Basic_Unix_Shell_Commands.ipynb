{
  "nbformat": 4,
  "nbformat_minor": 0,
  "metadata": {
    "kernelspec": {
      "display_name": "Python 3",
      "language": "python",
      "name": "python3"
    },
    "language_info": {
      "codemirror_mode": {
        "name": "ipython",
        "version": 3
      },
      "file_extension": ".py",
      "mimetype": "text/x-python",
      "name": "python",
      "nbconvert_exporter": "python",
      "pygments_lexer": "ipython3",
      "version": "3.6.8"
    },
    "colab": {
      "name": "A-Basic_Unix_Shell_Commands.ipynb",
      "provenance": [],
      "collapsed_sections": [],
      "include_colab_link": true
    }
  },
  "cells": [
    {
      "cell_type": "markdown",
      "metadata": {
        "id": "view-in-github",
        "colab_type": "text"
      },
      "source": [
        "<a href=\"https://colab.research.google.com/github/nhwhite212/DealingwithDataSpring2021/blob/master/4-Unix_Basics/A-Basic_Unix_Shell_Commands.ipynb\" target=\"_parent\"><img src=\"https://colab.research.google.com/assets/colab-badge.svg\" alt=\"Open In Colab\"/></a>"
      ]
    },
    {
      "cell_type": "markdown",
      "metadata": {
        "id": "T9MqkwuNMkMp"
      },
      "source": [
        "Overview\n",
        "--------\n",
        "\n",
        "_Readings: The [Appendix A of Learn Python the Hard Way](http://learnpythonthehardway.org/book/appendixa.html) also discusses the material below._\n",
        "\n",
        "Modern data science is impossible without some understanding of the Unix command line.  Unix is a family of computer operating systems including the Mac’s OS X and Linux (technically, Linux is a Unix clone); Windows has also Unix emulators, which allow running Unix commands.  In our class, we use the Linux (specifically, the Ubuntu distribution).\n",
        "Depending on the class, it may be running on Amazon AWS services, in the Google Cloud, or in a cloud at NYU.\n",
        "\n",
        "Let's start:\n",
        "\n",
        "(_**Note**: In IPython/jupyter, to call a command line script, you add an exclamation mark before the command. That's why you will see all the commands in this notebook being preceded by a `!` character._)\n",
        "Let's start by seeing where we are on our server. The pwd (Print Working Directory) will tell us."
      ]
    },
    {
      "cell_type": "markdown",
      "metadata": {
        "id": "iLzTULDgTq_S"
      },
      "source": [
        "#### But first we may want to access the files in our google drive\n",
        "To do that, we need to 'mount' our google drive on our colab server.\n",
        "The following commands will connect yor google drive to your server. You will be promoted to enter an authorization code when you do it."
      ]
    },
    {
      "cell_type": "code",
      "metadata": {
        "colab": {
          "base_uri": "https://localhost:8080/"
        },
        "id": "fOSdXMofS3W3",
        "outputId": "030fee3a-ac38-4fc0-c8c9-3e41c93a8306"
      },
      "source": [
        "from google.colab import drive\n",
        "drive.mount('/content/gdrive')"
      ],
      "execution_count": 27,
      "outputs": [
        {
          "output_type": "stream",
          "text": [
            "Drive already mounted at /content/gdrive; to attempt to forcibly remount, call drive.mount(\"/content/gdrive\", force_remount=True).\n"
          ],
          "name": "stdout"
        }
      ]
    },
    {
      "cell_type": "markdown",
      "metadata": {
        "id": "MouZ6a7PUUw7"
      },
      "source": [
        "As we have already seen, to issue unix commands from a notebook,\n",
        "we put an exclamation mark on the front of the line.\n",
        "Let's issue the pwd command (print working directory). It will show us the directory we are connected to when we first star up a notebook.\n"
      ]
    },
    {
      "cell_type": "code",
      "metadata": {
        "scrolled": true,
        "id": "9bFJ_zs9MkMu",
        "colab": {
          "base_uri": "https://localhost:8080/"
        },
        "outputId": "1e9adca7-fd03-4bbe-cf97-096dfe3032d4"
      },
      "source": [
        "!pwd\n"
      ],
      "execution_count": 29,
      "outputs": [
        {
          "output_type": "stream",
          "text": [
            "/content\n"
          ],
          "name": "stdout"
        }
      ]
    },
    {
      "cell_type": "markdown",
      "metadata": {
        "id": "7ErVWhg4U2TS"
      },
      "source": [
        "### Lets see what is in '/content', to do that, we use the 'ls' command. WE should see our 'grdive' folder that we just connected."
      ]
    },
    {
      "cell_type": "code",
      "metadata": {
        "colab": {
          "base_uri": "https://localhost:8080/"
        },
        "id": "H0T2hcjiTVo1",
        "outputId": "cc321aa0-e9dd-4c2b-f017-6a5b3ecb0200"
      },
      "source": [
        "!ls /content\n",
        "! echo here are the folders in gdrive\n",
        "!echo\n",
        "!ls /content/gdrive\n",
        "!echo\n",
        "! echo and in MyDrive\n",
        "!echo\n",
        "!ls /content/gdrive/MyDrive\n",
        "!echo\n",
        "!echo and in 'Colab Notebooks'\n",
        "!ls /content/gdrive/MyDrive/'Colab Notebooks'"
      ],
      "execution_count": 43,
      "outputs": [
        {
          "output_type": "stream",
          "text": [
            "ctest.csv  gdrive  sample_data\n",
            "here are the folders in gdrive\n",
            "\n",
            "MyDrive  Shareddrives\n",
            "\n",
            "and in MyDrive\n",
            "\n",
            " Assignments\t   'Copy of NYU RCDC On-Prem Colocation Request Procedure.gdoc'\n",
            "'Colab Notebooks'\n",
            "\n",
            "and in Colab Notebooks\n",
            " 000-GettyHW.ipynb\n",
            " 000-SpellingBee-nhw.ipynb\n",
            "'Copy of A-Basic_Unix_Shell_Commands.ipynb'\n",
            "'Copy of A-Navigation_Queries.ipynb'\n",
            "'Copy of Copy of G1-Inserting_Data_in_MySQL_using_Python.ipynb'\n",
            "'Copy of Copy of mysqltest'\n",
            "'Copy of Copy of mysqltest (1)'\n",
            "'Copy of Copy of mysqltest (2)'\n",
            "'Copy of D-MySQL_and_Python.ipynb'\n",
            "'Copy of F-SQL_Queries_For_IMDB_and_Facebook_Databases-checkpoint (1).ipynb'\n",
            "'Copy of F-SQL_Queries_For_IMDB_and_Facebook_Databases-checkpoint (2).ipynb'\n",
            "'Copy of F-SQL_Queries_For_IMDB_and_Facebook_Databases-checkpoint (3).ipynb'\n",
            "'Copy of F-SQL_Queries_For_IMDB_and_Facebook_Databases-checkpoint.ipynb'\n",
            "'Copy of G1-Inserting_Data_in_MySQL_using_Python-checkpoint.ipynb'\n",
            "'Copy of G1-Inserting_Data_in_MySQL_using_Python.ipynb'\n",
            "'Copy of G3-Citibike-checkpoint (1).ipynb'\n",
            "'Copy of G3-Citibike-checkpoint.ipynb'\n",
            "'Copy of GettyHW.ipynb'\n",
            "'F-SQL_Queries_For_IMDB_and_Facebook_Databases (1).ipynb'\n",
            "' F-SQL_Queries_For_IMDB_and_Facebook_Databases-checkpoint.ipynb'\n",
            " F-SQL_Queries_For_IMDB_and_Facebook_Databases.ipynb\n",
            " G1-Inserting_Data_in_MySQL_using_Python.ipynb\n",
            " mysqltest\n",
            "'mysqltest (1)'\n",
            " mysqltest.ipynb\n",
            " Test-D-MySQL_and_Python.ipynb\n",
            " Untitled0.ipynb\n",
            " Untitled1.ipynb\n",
            " Untitled2.ipynb\n",
            " Untitled3.ipynb\n",
            " Untitled4.ipynb\n",
            " Untitled5.ipynb\n",
            " Untitled6.ipynb\n",
            " Untitled7.ipynb\n",
            " Untitled8.ipynb\n",
            " Untitled9.ipynb\n"
          ],
          "name": "stdout"
        }
      ]
    },
    {
      "cell_type": "markdown",
      "metadata": {
        "id": "f01O2QM8WWnt"
      },
      "source": [
        "#### I wonder what is in Shareddrives?"
      ]
    },
    {
      "cell_type": "code",
      "metadata": {
        "colab": {
          "base_uri": "https://localhost:8080/"
        },
        "id": "czZ1fx84Whs-",
        "outputId": "7dd8323b-6e03-43b7-80b8-249ce702091e"
      },
      "source": [
        "!echo\n",
        "!ls /content/gdrive/Shareddrives"
      ],
      "execution_count": 45,
      "outputs": [
        {
          "output_type": "stream",
          "text": [
            "\n"
          ],
          "name": "stdout"
        }
      ]
    },
    {
      "cell_type": "markdown",
      "metadata": {
        "id": "Xz719lQZMkMv"
      },
      "source": [
        "### Understanding the folder structure\n",
        "\n",
        "Basic concepts\n",
        "* Hierarchical directory structure\n",
        "* Absolute vs. relative directories\n",
        "* Parent (..) and current (.) directories\n",
        "\n",
        "\n",
        "### `pwd`\n",
        "\n",
        "Prints the current directory. Type `pwd` in the shell prompt. This will tell you your current directory. "
      ]
    },
    {
      "cell_type": "markdown",
      "metadata": {
        "id": "DfFhguUcMkMw"
      },
      "source": [
        "### `ls`\n",
        "\n",
        "Lists the contents of a directory or provide information about the specified file. Typical usage: \n",
        "\n",
        "`ls [options] [files or directories]`\n",
        "\n",
        "If you want to know the contents of this directory, type `ls -A`. "
      ]
    },
    {
      "cell_type": "code",
      "metadata": {
        "id": "8i0If7BmMkMw",
        "colab": {
          "base_uri": "https://localhost:8080/"
        },
        "outputId": "b151b0e4-8311-4838-e2e2-4f3e1a5e84ab"
      },
      "source": [
        "!ls\n",
        "!ls -A \n",
        "\n",
        "\n"
      ],
      "execution_count": 46,
      "outputs": [
        {
          "output_type": "stream",
          "text": [
            "ctest.csv  gdrive  sample_data\n",
            ".config  ..ctest.csv  ctest.csv  gdrive  sample_data\n"
          ],
          "name": "stdout"
        }
      ]
    },
    {
      "cell_type": "markdown",
      "metadata": {
        "id": "iDVcP1BPMkMx"
      },
      "source": [
        "By default, `ls` simply lists the contents of the current directory. There are several options that when used in conjunction with ls give more detailed information about the files or directories being queried. Here are a sample:\n",
        "\n",
        "+ `-A`: list all of the contents of the queried directory, even hidden files.\n",
        "+ `-l`: detailed format, display additional info for all files and directories.\n",
        "+ `-R`: recursively list the contents of any subdirectories.\n",
        "+ `-t`: sort files by the time of the last modification.\n",
        "+ `-S`: sort files by size.\n",
        "+ `-r`: reverse any sort order.\n",
        "+ `-h`: when used in conjunction with `-l`, gives a more human-readable output.\n",
        "\n"
      ]
    },
    {
      "cell_type": "markdown",
      "metadata": {
        "id": "mcmFslOjMkMx"
      },
      "source": [
        "Let's try now to execute `ls` with a different set of options:"
      ]
    },
    {
      "cell_type": "code",
      "metadata": {
        "id": "Un5UtijoMkMy",
        "colab": {
          "base_uri": "https://localhost:8080/"
        },
        "outputId": "8054f23a-66e9-4605-b5c9-b6067239f78c"
      },
      "source": [
        "!ls -lh"
      ],
      "execution_count": 47,
      "outputs": [
        {
          "output_type": "stream",
          "text": [
            "total 304K\n",
            "-rw-r--r-- 1 root root 295K Apr  1 16:35 ctest.csv\n",
            "drwx------ 6 root root 4.0K Apr  1 16:38 gdrive\n",
            "drwxr-xr-x 1 root root 4.0K Mar 25 13:38 sample_data\n"
          ],
          "name": "stdout"
        }
      ]
    },
    {
      "cell_type": "markdown",
      "metadata": {
        "id": "HfegCCxQMkMz"
      },
      "source": [
        "### `cd`\n",
        "\n",
        "Change the current directory. Usage: \n",
        "\n",
        "`cd [directory to move to]`\n",
        "cd gdrive\n",
        "### Note the cd command DOES NOT work in colab\n"
      ]
    },
    {
      "cell_type": "code",
      "metadata": {
        "id": "djtLWbQ3MkMz",
        "colab": {
          "base_uri": "https://localhost:8080/"
        },
        "outputId": "b671223e-7f91-4516-9bc3-0dbf4b42f183"
      },
      "source": [
        "!cd gdrive\n",
        "!ls "
      ],
      "execution_count": 50,
      "outputs": [
        {
          "output_type": "stream",
          "text": [
            "ctest.csv  gdrive  sample_data\n"
          ],
          "name": "stdout"
        }
      ]
    },
    {
      "cell_type": "markdown",
      "metadata": {
        "id": "8f7p9jGVMkMz"
      },
      "source": [
        "or we can use the cd command alone to connect to our default home directory."
      ]
    },
    {
      "cell_type": "code",
      "metadata": {
        "id": "Gq10ODG2MkM0"
      },
      "source": [
        "!cd"
      ],
      "execution_count": 51,
      "outputs": []
    },
    {
      "cell_type": "markdown",
      "metadata": {
        "id": "umT29yq9MkM1"
      },
      "source": [
        "If we want to run two commands in a row, we separate them using the `;` character. For example, to change to a directory and show its contents:\n",
        "Note: in colab the cd command seems always to put you back to your home directory.\n"
      ]
    },
    {
      "cell_type": "code",
      "metadata": {
        "id": "VFfj8KL8MkM1",
        "colab": {
          "base_uri": "https://localhost:8080/"
        },
        "outputId": "05ea1a0a-1b36-44e0-fd7f-aa150255a741"
      },
      "source": [
        "!pwd\n",
        "!cd /content ;ls -alt\n",
        "!ls -alt  .config"
      ],
      "execution_count": 16,
      "outputs": [
        {
          "output_type": "stream",
          "text": [
            "/content\n",
            "total 16\n",
            "drwxr-xr-x 1 root root 4096 Apr  1 16:23 ..\n",
            "drwxr-xr-x 1 root root 4096 Mar 25 13:38 sample_data\n",
            "drwxr-xr-x 1 root root 4096 Mar 25 13:38 .\n",
            "drwxr-xr-x 4 root root 4096 Mar 25 13:38 .config\n",
            "total 36\n",
            "-rw------- 1 root root    5 Jan  1  2040 gce\n",
            "drwxr-xr-x 1 root root 4096 Mar 25 13:38 ..\n",
            "-rw-r--r-- 1 root root    0 Mar 25 13:38 config_sentinel\n",
            "-rw-r--r-- 1 root root  135 Mar 25 13:38 .last_update_check.json\n",
            "drwxr-xr-x 4 root root 4096 Mar 25 13:38 .\n",
            "-rw-r--r-- 1 root root   37 Mar 25 13:38 .last_survey_prompt.yaml\n",
            "-rw-r--r-- 1 root root    7 Mar 25 13:37 active_config\n",
            "drwxr-xr-x 2 root root 4096 Mar 25 13:37 configurations\n",
            "-rw-r--r-- 1 root root    3 Mar 25 13:37 .last_opt_in_prompt.yaml\n",
            "drwxr-xr-x 3 root root 4096 Mar 25 13:37 logs\n"
          ],
          "name": "stdout"
        }
      ]
    },
    {
      "cell_type": "markdown",
      "metadata": {
        "id": "AL_Vc_FyMkM1"
      },
      "source": [
        "### `mkdir`\n",
        "\n",
        "Creates a new folder. For example, to create a new folder named `DealingWithData` under the current folder, we type:\n"
      ]
    },
    {
      "cell_type": "code",
      "metadata": {
        "id": "hW4DUmXwMkM1",
        "colab": {
          "base_uri": "https://localhost:8080/"
        },
        "outputId": "bdd44de8-f9be-43fe-977c-2722a9dba82a"
      },
      "source": [
        "!mkdir DealingWithData\n",
        "!ls -lA"
      ],
      "execution_count": 52,
      "outputs": [
        {
          "output_type": "stream",
          "text": [
            "total 608\n",
            "drwxr-xr-x 4 root root   4096 Mar 25 13:38 .config\n",
            "-rw-r--r-- 1 root root 301141 Apr  1 16:35 ..ctest.csv\n",
            "-rw-r--r-- 1 root root 301141 Apr  1 16:35 ctest.csv\n",
            "drwxr-xr-x 2 root root   4096 Apr  1 16:55 DealingWithData\n",
            "drwx------ 6 root root   4096 Apr  1 16:38 gdrive\n",
            "drwxr-xr-x 1 root root   4096 Mar 25 13:38 sample_data\n"
          ],
          "name": "stdout"
        }
      ]
    },
    {
      "cell_type": "markdown",
      "metadata": {
        "id": "1-eABOejMkM2"
      },
      "source": [
        "### `rmdir` \n",
        "\n",
        "Removes a folder. (The folder must be empty for the command to succeed.)"
      ]
    },
    {
      "cell_type": "code",
      "metadata": {
        "id": "W6zIBbgcMkM2"
      },
      "source": [
        "!rmdir DealingWithData"
      ],
      "execution_count": 53,
      "outputs": []
    },
    {
      "cell_type": "markdown",
      "metadata": {
        "id": "ldxN5mXpMkM3"
      },
      "source": [
        "### `cp` \n",
        "\n",
        "Copies a file. Usage:\n",
        "\n",
        "`cp [source file] [destination file]`\n",
        "\n",
        "It can also be used to copy multiple files into a directory.\n",
        "\n",
        "`cp [source file1] [source file2] ... [destination directory]`\n",
        "\n",
        "For example, to copy the file named california_housing_test.csv from sample_data to our home directory as ctest.csv\n"
      ]
    },
    {
      "cell_type": "code",
      "metadata": {
        "id": "f6YrYeYwMkM3",
        "colab": {
          "base_uri": "https://localhost:8080/"
        },
        "outputId": "39616a2f-45f9-4d4b-930f-e0bfd5088771"
      },
      "source": [
        "!cp sample_data/california_housing_test.csv ctest.csv\n",
        "!ls -l "
      ],
      "execution_count": 54,
      "outputs": [
        {
          "output_type": "stream",
          "text": [
            "total 304\n",
            "-rw-r--r-- 1 root root 301141 Apr  1 16:56 ctest.csv\n",
            "drwx------ 6 root root   4096 Apr  1 16:38 gdrive\n",
            "drwxr-xr-x 1 root root   4096 Mar 25 13:38 sample_data\n"
          ],
          "name": "stdout"
        }
      ]
    },
    {
      "cell_type": "markdown",
      "metadata": {
        "id": "SSFf10IMMkM3"
      },
      "source": [
        "Or we can copy the file to another folder. For example, the following command copies the file `A-Basic_Unix_Shell_Commands.ipynb` to folder `DealingWithData` and names the new file `NotebookA.ipynb`"
      ]
    },
    {
      "cell_type": "code",
      "metadata": {
        "id": "TNYrnnPFMkM4",
        "colab": {
          "base_uri": "https://localhost:8080/"
        },
        "outputId": "b946b51e-1d94-43e1-89b4-1e86b02e95f7"
      },
      "source": [
        "!mkdir DealingWithData\n",
        "!cp /content/gdrive/MyDrive/'Colab Notebooks'/A-Basic_Unix_Shell_Commands.ipynb DealingWithData/NotebookA.ipynb\n",
        "!ls DealingWithData"
      ],
      "execution_count": 61,
      "outputs": [
        {
          "output_type": "stream",
          "text": [
            "mkdir: cannot create directory ‘DealingWithData’: File exists\n",
            "NotebookA.ipynb\n"
          ],
          "name": "stdout"
        }
      ]
    },
    {
      "cell_type": "markdown",
      "metadata": {
        "id": "d9HDGMQ9MkM4"
      },
      "source": [
        "### `rm` \n",
        "\n",
        "The `rm` command is used to delete a file.\n",
        "\n",
        "rm -r : deletes a folder, recursively"
      ]
    },
    {
      "cell_type": "code",
      "metadata": {
        "id": "NhEJC-FgMkM4",
        "colab": {
          "base_uri": "https://localhost:8080/"
        },
        "outputId": "d49ee4f6-4b5c-4eb0-d991-61baa91631e5"
      },
      "source": [
        "!rm DealingWithData/NotebookA.ipynb\n",
        "!rm NotebookA.ipynb"
      ],
      "execution_count": 62,
      "outputs": [
        {
          "output_type": "stream",
          "text": [
            "rm: cannot remove 'NotebookA.ipynb': No such file or directory\n"
          ],
          "name": "stdout"
        }
      ]
    },
    {
      "cell_type": "code",
      "metadata": {
        "id": "Lla-0vKWMkM5",
        "colab": {
          "base_uri": "https://localhost:8080/"
        },
        "outputId": "c81b1159-eaf3-4bfa-a5e3-9454099cc183"
      },
      "source": [
        "#clean up\n",
        "!rmdir DealingWithData\n",
        "!ls\n"
      ],
      "execution_count": 63,
      "outputs": [
        {
          "output_type": "stream",
          "text": [
            "ctest.csv  gdrive  sample_data\n"
          ],
          "name": "stdout"
        }
      ]
    },
    {
      "cell_type": "markdown",
      "metadata": {
        "id": "CugKLE-GMkM5"
      },
      "source": [
        "### `mv`\n",
        "\n",
        "The `mv` command is similar to `cp` but it moves the file instead of just copying it. Effectively it performs a `cp` command, followed by an `rm` for the original file"
      ]
    },
    {
      "cell_type": "markdown",
      "metadata": {
        "id": "N5D3kkHuMkM5"
      },
      "source": [
        "## Exercise\n",
        "\n",
        "* Create two new directories, dir1 and dir2 with the mkdir command. \n",
        "* Use ls to confirm\n",
        "\n",
        "* Delete both directories with the rm -r command\n"
      ]
    },
    {
      "cell_type": "code",
      "metadata": {
        "id": "WVfF39OjMkM5"
      },
      "source": [
        "# your code here"
      ],
      "execution_count": null,
      "outputs": []
    }
  ]
}