{
  "nbformat": 4,
  "nbformat_minor": 0,
  "metadata": {
    "kernelspec": {
      "display_name": "Python 3",
      "language": "python",
      "name": "python3"
    },
    "language_info": {
      "codemirror_mode": {
        "name": "ipython",
        "version": 3
      },
      "file_extension": ".py",
      "mimetype": "text/x-python",
      "name": "python",
      "nbconvert_exporter": "python",
      "pygments_lexer": "ipython3",
      "version": "3.6.8"
    },
    "colab": {
      "name": "A-Basic_Unix_Shell_Commands.ipynb",
      "provenance": [],
      "collapsed_sections": [],
      "include_colab_link": true
    }
  },
  "cells": [
    {
      "cell_type": "markdown",
      "metadata": {
        "id": "view-in-github",
        "colab_type": "text"
      },
      "source": [
        "<a href=\"https://colab.research.google.com/github/nhwhite212/DealingwithDataSpring2021/blob/master/4-Unix_Basics/A-Basic_Unix_Shell_Commands.ipynb\" target=\"_parent\"><img src=\"https://colab.research.google.com/assets/colab-badge.svg\" alt=\"Open In Colab\"/></a>"
      ]
    },
    {
      "cell_type": "markdown",
      "metadata": {
        "id": "T9MqkwuNMkMp"
      },
      "source": [
        "Overview\n",
        "--------\n",
        "\n",
        "_Readings: The [Appendix A of Learn Python the Hard Way](http://learnpythonthehardway.org/book/appendixa.html) also discusses the material below._\n",
        "\n",
        "Modern data science is impossible without some understanding of the Unix command line.  Unix is a family of computer operating systems including the Mac’s OS X and Linux (technically, Linux is a Unix clone); Windows has also Unix emulators, which allow running Unix commands.  In our class, we use the Linux (specifically, the Ubuntu distribution).\n",
        "Depending on the class, it may be running on Amazon AWS services, in the Google Cloud, or in a cloud at NYU.\n",
        "\n",
        "Let's start:\n",
        "\n",
        "(_**Note**: In IPython/jupyter, to call a command line script, you add an exclamation mark before the command. That's why you will see all the commands in this notebook being preceded by a `!` character._)\n",
        "Let's start by seeing where we are on our server. The pwd (Print Working Directory) will tell us."
      ]
    },
    {
      "cell_type": "markdown",
      "metadata": {
        "id": "iLzTULDgTq_S"
      },
      "source": [
        "#### But first we may want to access the files in our google drive\n",
        "To do that, we need to 'mount' our google drive on our colab server.\n",
        "The following commands will connect yor google drive to your server. You will be promoted to enter an authorization code when you do it."
      ]
    },
    {
      "cell_type": "code",
      "metadata": {
        "id": "fOSdXMofS3W3"
      },
      "source": [
        "from google.colab import drive\n",
        "drive.mount('/content/gdrive')"
      ],
      "execution_count": null,
      "outputs": []
    },
    {
      "cell_type": "markdown",
      "metadata": {
        "id": "MouZ6a7PUUw7"
      },
      "source": [
        "As we have already seen, to issue unix commands from a notebook,\n",
        "we put an exclamation mark on the front of the line.\n",
        "Let's issue the pwd command (print working directory). It will show us the directory we are connected to when we first star up a notebook.\n"
      ]
    },
    {
      "cell_type": "code",
      "metadata": {
        "scrolled": true,
        "id": "9bFJ_zs9MkMu"
      },
      "source": [
        "!pwd\n"
      ],
      "execution_count": null,
      "outputs": []
    },
    {
      "cell_type": "markdown",
      "metadata": {
        "id": "7ErVWhg4U2TS"
      },
      "source": [
        "### Lets see what is in '/content', to do that, we use the 'ls' command. WE should see our 'grdive' folder that we just connected."
      ]
    },
    {
      "cell_type": "code",
      "metadata": {
        "id": "H0T2hcjiTVo1"
      },
      "source": [
        "!ls /content\n",
        "! echo here are the folders in gdrive\n",
        "!echo\n",
        "!ls /content/gdrive\n",
        "!echo\n",
        "! echo and in MyDrive\n",
        "!echo\n",
        "!ls /content/gdrive/MyDrive\n",
        "!echo\n",
        "!echo and in 'Colab Notebooks'\n",
        "!ls /content/gdrive/MyDrive/'Colab Notebooks'"
      ],
      "execution_count": null,
      "outputs": []
    },
    {
      "cell_type": "markdown",
      "metadata": {
        "id": "f01O2QM8WWnt"
      },
      "source": [
        "#### I wonder what is in Shareddrives?"
      ]
    },
    {
      "cell_type": "code",
      "metadata": {
        "id": "czZ1fx84Whs-"
      },
      "source": [
        "!echo\n",
        "!ls /content/gdrive/Shareddrives"
      ],
      "execution_count": null,
      "outputs": []
    },
    {
      "cell_type": "markdown",
      "metadata": {
        "id": "Xz719lQZMkMv"
      },
      "source": [
        "### Understanding the folder structure\n",
        "\n",
        "Basic concepts\n",
        "* Hierarchical directory structure\n",
        "* Absolute vs. relative directories\n",
        "* Parent (..) and current (.) directories\n",
        "\n",
        "\n",
        "### `pwd`\n",
        "\n",
        "Prints the current directory. Type `pwd` in the shell prompt. This will tell you your current directory. "
      ]
    },
    {
      "cell_type": "markdown",
      "metadata": {
        "id": "DfFhguUcMkMw"
      },
      "source": [
        "### `ls`\n",
        "\n",
        "Lists the contents of a directory or provide information about the specified file. Typical usage: \n",
        "\n",
        "`ls [options] [files or directories]`\n",
        "\n",
        "If you want to know the contents of this directory, type `ls -A`. "
      ]
    },
    {
      "cell_type": "code",
      "metadata": {
        "id": "8i0If7BmMkMw"
      },
      "source": [
        "!ls\n",
        "!ls -A \n",
        "\n",
        "\n"
      ],
      "execution_count": null,
      "outputs": []
    },
    {
      "cell_type": "markdown",
      "metadata": {
        "id": "iDVcP1BPMkMx"
      },
      "source": [
        "By default, `ls` simply lists the contents of the current directory. There are several options that when used in conjunction with ls give more detailed information about the files or directories being queried. Here are a sample:\n",
        "\n",
        "+ `-A`: list all of the contents of the queried directory, even hidden files.\n",
        "+ `-l`: detailed format, display additional info for all files and directories.\n",
        "+ `-R`: recursively list the contents of any subdirectories.\n",
        "+ `-t`: sort files by the time of the last modification.\n",
        "+ `-S`: sort files by size.\n",
        "+ `-r`: reverse any sort order.\n",
        "+ `-h`: when used in conjunction with `-l`, gives a more human-readable output.\n",
        "\n"
      ]
    },
    {
      "cell_type": "markdown",
      "metadata": {
        "id": "mcmFslOjMkMx"
      },
      "source": [
        "Let's try now to execute `ls` with a different set of options:"
      ]
    },
    {
      "cell_type": "code",
      "metadata": {
        "id": "Un5UtijoMkMy"
      },
      "source": [
        "!ls -lh"
      ],
      "execution_count": null,
      "outputs": []
    },
    {
      "cell_type": "markdown",
      "metadata": {
        "id": "HfegCCxQMkMz"
      },
      "source": [
        "### `cd`\n",
        "\n",
        "Change the current directory. Usage: \n",
        "\n",
        "`cd [directory to move to]`\n",
        "cd gdrive\n",
        "### Note the cd command DOES NOT work in colab\n"
      ]
    },
    {
      "cell_type": "code",
      "metadata": {
        "id": "djtLWbQ3MkMz"
      },
      "source": [
        "!cd gdrive\n",
        "!ls "
      ],
      "execution_count": null,
      "outputs": []
    },
    {
      "cell_type": "markdown",
      "metadata": {
        "id": "8f7p9jGVMkMz"
      },
      "source": [
        "or we can use the cd command alone to connect to our default home directory."
      ]
    },
    {
      "cell_type": "code",
      "metadata": {
        "id": "Gq10ODG2MkM0"
      },
      "source": [
        "!cd"
      ],
      "execution_count": null,
      "outputs": []
    },
    {
      "cell_type": "markdown",
      "metadata": {
        "id": "umT29yq9MkM1"
      },
      "source": [
        "If we want to run two commands in a row, we separate them using the `;` character. For example, to change to a directory and show its contents:\n",
        "Note: in colab the cd command seems always to put you back to your home directory.\n"
      ]
    },
    {
      "cell_type": "code",
      "metadata": {
        "id": "VFfj8KL8MkM1"
      },
      "source": [
        "!pwd\n",
        "!cd /content ;ls -alt\n",
        "!ls -alt  .config"
      ],
      "execution_count": null,
      "outputs": []
    },
    {
      "cell_type": "markdown",
      "metadata": {
        "id": "AL_Vc_FyMkM1"
      },
      "source": [
        "### `mkdir`\n",
        "\n",
        "Creates a new folder. For example, to create a new folder named `DealingWithData` under the current folder, we type:\n"
      ]
    },
    {
      "cell_type": "code",
      "metadata": {
        "id": "hW4DUmXwMkM1"
      },
      "source": [
        "!mkdir DealingWithData\n",
        "!ls -lA"
      ],
      "execution_count": null,
      "outputs": []
    },
    {
      "cell_type": "markdown",
      "metadata": {
        "id": "1-eABOejMkM2"
      },
      "source": [
        "### `rmdir` \n",
        "\n",
        "Removes a folder. (The folder must be empty for the command to succeed.)"
      ]
    },
    {
      "cell_type": "code",
      "metadata": {
        "id": "W6zIBbgcMkM2"
      },
      "source": [
        "!rmdir DealingWithData"
      ],
      "execution_count": null,
      "outputs": []
    },
    {
      "cell_type": "markdown",
      "metadata": {
        "id": "ldxN5mXpMkM3"
      },
      "source": [
        "### `cp` \n",
        "\n",
        "Copies a file. Usage:\n",
        "\n",
        "`cp [source file] [destination file]`\n",
        "\n",
        "It can also be used to copy multiple files into a directory.\n",
        "\n",
        "`cp [source file1] [source file2] ... [destination directory]`\n",
        "\n",
        "For example, to copy the file named california_housing_test.csv from sample_data to our home directory as ctest.csv\n"
      ]
    },
    {
      "cell_type": "code",
      "metadata": {
        "id": "f6YrYeYwMkM3"
      },
      "source": [
        "!cp sample_data/california_housing_test.csv ctest.csv\n",
        "!ls -l "
      ],
      "execution_count": null,
      "outputs": []
    },
    {
      "cell_type": "markdown",
      "metadata": {
        "id": "SSFf10IMMkM3"
      },
      "source": [
        "Or we can copy the file to another folder. For example, the following command copies the file `A-Basic_Unix_Shell_Commands.ipynb` to folder `DealingWithData` and names the new file `NotebookA.ipynb`"
      ]
    },
    {
      "cell_type": "code",
      "metadata": {
        "id": "TNYrnnPFMkM4"
      },
      "source": [
        "!mkdir DealingWithData\n",
        "!cp /content/gdrive/MyDrive/'Colab Notebooks'/A-Basic_Unix_Shell_Commands.ipynb DealingWithData/NotebookA.ipynb\n",
        "!ls DealingWithData"
      ],
      "execution_count": null,
      "outputs": []
    },
    {
      "cell_type": "markdown",
      "metadata": {
        "id": "d9HDGMQ9MkM4"
      },
      "source": [
        "### `rm` \n",
        "\n",
        "The `rm` command is used to delete a file.\n",
        "\n",
        "rm -r : deletes a folder, recursively"
      ]
    },
    {
      "cell_type": "code",
      "metadata": {
        "id": "NhEJC-FgMkM4"
      },
      "source": [
        "!rm DealingWithData/NotebookA.ipynb\n"
      ],
      "execution_count": null,
      "outputs": []
    },
    {
      "cell_type": "code",
      "metadata": {
        "id": "Lla-0vKWMkM5"
      },
      "source": [
        "#clean up\n",
        "!rmdir DealingWithData\n",
        "!ls\n"
      ],
      "execution_count": null,
      "outputs": []
    },
    {
      "cell_type": "markdown",
      "metadata": {
        "id": "CugKLE-GMkM5"
      },
      "source": [
        "### `mv`\n",
        "\n",
        "The `mv` command is similar to `cp` but it moves the file instead of just copying it. Effectively it performs a `cp` command, followed by an `rm` for the original file"
      ]
    },
    {
      "cell_type": "markdown",
      "metadata": {
        "id": "N5D3kkHuMkM5"
      },
      "source": [
        "## Exercise\n",
        "\n",
        "* Create two new directories, dir1 and dir2 with the mkdir command. \n",
        "* Use ls to confirm\n",
        "*  put a file in each directory\n",
        "* !echo \"this if file1\" > dir1/file1.txt\n",
        "* !echo \"this is file2\" >dir2/file2.txt\n",
        "* move file1 to dir2 and file2 to dir1 \n",
        "* Delete both directories with the rm -r command\n"
      ]
    },
    {
      "cell_type": "code",
      "metadata": {
        "id": "WVfF39OjMkM5"
      },
      "source": [
        "# your code here\n",
        "!mkdir \n",
        "!mkdir \n",
        "!echo \"this is file1\">dir1/file1.txt\n",
        "!echo \"this is file2\">dir2/file2.txt\n",
        "!cat dir1/file1.txt\n",
        "!cat dir2/file2.txt\n",
        "# list the files\n",
        "!ls -R dir*\n",
        "#move then\n",
        "!mv \n",
        "!mv \n",
        "# list them again\n",
        "#"
      ],
      "execution_count": null,
      "outputs": []
    },
    {
      "cell_type": "code",
      "metadata": {
        "id": "FEGA_MpblOP4"
      },
      "source": [
        "# remove the directories (recursivley)\n",
        "!rm -rf dir*\n"
      ],
      "execution_count": null,
      "outputs": []
    },
    {
      "cell_type": "code",
      "metadata": {
        "id": "fUXDqPBrl9tf"
      },
      "source": [
        ""
      ],
      "execution_count": null,
      "outputs": []
    }
  ]
}