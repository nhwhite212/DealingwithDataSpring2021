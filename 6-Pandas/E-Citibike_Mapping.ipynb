{
  "nbformat": 4,
  "nbformat_minor": 0,
  "metadata": {
    "kernelspec": {
      "display_name": "Python 3",
      "language": "python",
      "name": "python3"
    },
    "language_info": {
      "codemirror_mode": {
        "name": "ipython",
        "version": 3
      },
      "file_extension": ".py",
      "mimetype": "text/x-python",
      "name": "python",
      "nbconvert_exporter": "python",
      "pygments_lexer": "ipython3",
      "version": "3.6.8"
    },
    "colab": {
      "name": "E-Citibike_Mapping.ipynb",
      "provenance": [],
      "collapsed_sections": [],
      "include_colab_link": true
    }
  },
  "cells": [
    {
      "cell_type": "markdown",
      "metadata": {
        "id": "view-in-github",
        "colab_type": "text"
      },
      "source": [
        "<a href=\"https://colab.research.google.com/github/nhwhite212/DealingwithDataSpring2021/blob/master/6-Pandas/E-Citibike_Mapping.ipynb\" target=\"_parent\"><img src=\"https://colab.research.google.com/assets/colab-badge.svg\" alt=\"Open In Colab\"/></a>"
      ]
    },
    {
      "cell_type": "markdown",
      "metadata": {
        "id": "1QkNuzTADjBN"
      },
      "source": [
        "## Plotting Real-time Data from Citibike\n",
        "\n",
        "We will now use the Citibike API in combination with Pandas, in order to create a real-time view of the Citibike stations in New York.\n",
        "\n",
        "The API call at http://www.citibikenyc.com/stations/json gives us a real-time view of the Citibike stations in New York."
      ]
    },
    {
      "cell_type": "code",
      "metadata": {
        "id": "s3r6Yy8JDjBU"
      },
      "source": [
        "# Plotting setup\n",
        "\n",
        "%matplotlib inline\n",
        "import matplotlib\n",
        "import matplotlib.pyplot as plt\n",
        "\n",
        "plt.rcParams['figure.figsize'] = (20, 20)\n",
        "matplotlib.style.use(['seaborn-talk', 'seaborn-ticks', 'seaborn-whitegrid'])"
      ],
      "execution_count": null,
      "outputs": []
    },
    {
      "cell_type": "code",
      "metadata": {
        "id": "op9CmcoEDjBV"
      },
      "source": [
        "import requests\n",
        "url = 'http://www.citibikenyc.com/stations/json'\n",
        "data = requests.get(url).json()\n",
        "data"
      ],
      "execution_count": null,
      "outputs": []
    },
    {
      "cell_type": "markdown",
      "metadata": {
        "id": "tbJyQuhhDjBX"
      },
      "source": [
        "The JSON results contain two keys: The `executionTime` and `stationBeanList`. The `stationBeanList` is a list of dictionaries, with each dictionary corresponding to a Citibike station."
      ]
    },
    {
      "cell_type": "code",
      "metadata": {
        "id": "MK0Uh1gwDjBZ"
      },
      "source": [
        "data.keys()"
      ],
      "execution_count": null,
      "outputs": []
    },
    {
      "cell_type": "markdown",
      "metadata": {
        "id": "iXuur16pDjBb"
      },
      "source": [
        "Pandas can directly convert a list of dictionaries into a dataframe."
      ]
    },
    {
      "cell_type": "code",
      "metadata": {
        "scrolled": false,
        "id": "GJac8curDjBb"
      },
      "source": [
        "import pandas\n",
        "df = pandas.DataFrame(data[\"stationBeanList\"])\n",
        "df.head(5)"
      ],
      "execution_count": null,
      "outputs": []
    },
    {
      "cell_type": "markdown",
      "metadata": {
        "id": "oh2oSpwsDjBc"
      },
      "source": [
        "### Plotting\n",
        "\n",
        "We can now create a few plots that will give us a feeling of the status of Citibike stations.\n",
        "\n",
        "First a histogram of the sizes of citibike stations:"
      ]
    },
    {
      "cell_type": "code",
      "metadata": {
        "id": "b7X43yQuDjBd"
      },
      "source": [
        "df[\"totalDocks\"].hist(alpha=0.75)"
      ],
      "execution_count": null,
      "outputs": []
    },
    {
      "cell_type": "markdown",
      "metadata": {
        "id": "Ya-Xa815DjBe"
      },
      "source": [
        "And a histogram of the available bikes across bike stations (real-time):"
      ]
    },
    {
      "cell_type": "code",
      "metadata": {
        "id": "-fqt0Sy9DjBe"
      },
      "source": [
        "df[\"availableBikes\"].hist(alpha=0.75)"
      ],
      "execution_count": null,
      "outputs": []
    },
    {
      "cell_type": "markdown",
      "metadata": {
        "id": "iW3VW7keDjBh"
      },
      "source": [
        "Let's create a variable that shows the percent of capacity at each station."
      ]
    },
    {
      "cell_type": "code",
      "metadata": {
        "id": "ZUQJwRS2DjBh"
      },
      "source": [
        "df[\"perc_full\"] = df['availableBikes']/df['totalDocks']"
      ],
      "execution_count": null,
      "outputs": []
    },
    {
      "cell_type": "code",
      "metadata": {
        "id": "gg1wZp-ADjBh"
      },
      "source": [
        "df[\"perc_full\"].hist(alpha=0.5, bins=20)"
      ],
      "execution_count": null,
      "outputs": []
    },
    {
      "cell_type": "markdown",
      "metadata": {
        "id": "VTCh8KlyDjBh"
      },
      "source": [
        "#### Poor man's mapping\n",
        "\n",
        "We will now do a small attempt at using a scatterplot, together with the longitude and latitude coordinates to plot things in a map."
      ]
    },
    {
      "cell_type": "code",
      "metadata": {
        "id": "yInY5HU4DjBh"
      },
      "source": [
        "df.plot(\n",
        "    kind='scatter', \n",
        "    x='longitude', \n",
        "    y='latitude',\n",
        "    figsize = (10,10)\n",
        ")"
      ],
      "execution_count": null,
      "outputs": []
    },
    {
      "cell_type": "markdown",
      "metadata": {
        "id": "II0yopw4DjBi"
      },
      "source": [
        "### Using multiple visual channels for plotting\n",
        "\n",
        "We used the x and y axes in the plot to show the locations of the stations. \n",
        "\n",
        "When we visualize data, we can use multiple visual channels to communicate information. For example, we can use the size of the dot to communicate how full each station is."
      ]
    },
    {
      "cell_type": "code",
      "metadata": {
        "id": "PUS_PalCDjBi"
      },
      "source": [
        "# The s parameter controls the size of the market. We make the size proportional to the perc_full column\n",
        "df.plot(\n",
        "    kind='scatter', \n",
        "    x='longitude', \n",
        "    y='latitude', \n",
        "    s = 100*df['perc_full'], alpha=0.75,\n",
        "    figsize = (10,10)\n",
        ")"
      ],
      "execution_count": null,
      "outputs": []
    },
    {
      "cell_type": "markdown",
      "metadata": {
        "id": "6jMctHRoDjBj"
      },
      "source": [
        "### Using GeoPandas to plot map outlines\n",
        "\n",
        "We can use GeoPandas to also plot the map underneath the \"map\" that we created above. For that, we will need to install the geopandas package:"
      ]
    },
    {
      "cell_type": "code",
      "metadata": {
        "id": "pQaHwW0hDjBj"
      },
      "source": [
        "! pip3 install -U geopandas fiona shapely pyproj geopy pysal descartes"
      ],
      "execution_count": null,
      "outputs": []
    },
    {
      "cell_type": "code",
      "metadata": {
        "id": "S41Crf-7DjBk"
      },
      "source": [
        "!sudo apt-get install -y libgeos-dev python3-rtree"
      ],
      "execution_count": null,
      "outputs": []
    },
    {
      "cell_type": "code",
      "metadata": {
        "id": "w5QBhmsBDjBk"
      },
      "source": [
        "import geopandas as gpd"
      ],
      "execution_count": null,
      "outputs": []
    },
    {
      "cell_type": "markdown",
      "metadata": {
        "id": "YqBV5rGfDjBl"
      },
      "source": [
        "To draw the maps, we need the corresponding **shapefile** that describes the shapes of the areas that we want to plot. For our example, we will use the shapefile of the NYC neighborhoods that is available from the NYC Open Data repository."
      ]
    },
    {
      "cell_type": "code",
      "metadata": {
        "id": "PwD3xgOSDjBl"
      },
      "source": [
        "# Dataset from NYC Open Data: https://data.cityofnewyork.us/City-Government/Neighborhood-Tabulation-Areas/cpf4-rkhq\n",
        "!mkdir data\n",
        "!rm data/nyc-neighborhoods.geojson\n",
        "#!curl 'https://data.cityofnewyork.us/api/geospatial/cpf4-rkhq?method=export&format=GeoJSON' -o data/nyc-neighborhoods.geojson\n",
        "!curl http://people.stern.nyu.edu/nwhite/DealingwithDataSpring2021/data/nyc-neighborhoods.geojson -o data/nyc-neighborhoods.geojson"
      ],
      "execution_count": null,
      "outputs": []
    },
    {
      "cell_type": "markdown",
      "metadata": {
        "id": "6mDxKhYaDjBl"
      },
      "source": [
        "We use the shapefile that we downloaded (which is in _GeoJSON_ format) and we create a \"geo-dataframe\". Lets take a peek at the contents."
      ]
    },
    {
      "cell_type": "code",
      "metadata": {
        "id": "kVF_I1PqDjBm"
      },
      "source": [
        "#!ls data/*#\n",
        "#!head data/nyc-neighborhoods.geojson\n",
        "#\n",
        "df_nyc = gpd.GeoDataFrame.from_file('data/nyc-neighborhoods.geojson')"
      ],
      "execution_count": null,
      "outputs": []
    },
    {
      "cell_type": "markdown",
      "metadata": {
        "id": "Slfz-nxEDjBm"
      },
      "source": [
        "We can plot the geo information, using our usual syntax."
      ]
    },
    {
      "cell_type": "code",
      "metadata": {
        "id": "kIiszV6VDjBm"
      },
      "source": [
        "df_nyc.plot(figsize=(10,10))"
      ],
      "execution_count": null,
      "outputs": []
    },
    {
      "cell_type": "markdown",
      "metadata": {
        "id": "JsqGBMgeDjBn"
      },
      "source": [
        "### Combining plots\n",
        "\n",
        "We can combine plots by using the `ax` parameter, and pass one plot as parameter to the other. Below, we create the `base` plot, with the neighborhood outlines, and then we pass `base` as the `ax` parameter to the plot that draws the Citibike stations."
      ]
    },
    {
      "cell_type": "code",
      "metadata": {
        "id": "ou4pYbjADjBn"
      },
      "source": [
        "base = df_nyc.plot(linewidth=0.3, color='grey', figsize = (20,20))\n",
        "\n",
        "df.plot(\n",
        "    kind='scatter', \n",
        "    x='longitude', \n",
        "    y='latitude', \n",
        "    s = 100*df['perc_full'],\n",
        "    ax = base\n",
        ")"
      ],
      "execution_count": null,
      "outputs": []
    },
    {
      "cell_type": "markdown",
      "metadata": {
        "id": "gsYBGNAiDjBn"
      },
      "source": [
        "### Exercise\n",
        "\n",
        "* Use the NYC Vehicle Collisions dataset, and plot the accidents with at least one death in the NYC map."
      ]
    },
    {
      "cell_type": "code",
      "metadata": {
        "id": "T9UfiHNyDjBn"
      },
      "source": [
        "# your code here"
      ],
      "execution_count": null,
      "outputs": []
    },
    {
      "cell_type": "markdown",
      "metadata": {
        "id": "6HvMpV5SDjBn"
      },
      "source": [
        "### Beautifying the Plot\n",
        "\n",
        "* Lets reduce the x- and y- range to focus on the areas for which we have data. We use the `set_xlim` and `set_ylim` for that purpose.\n",
        "* We will use the `zorder` parameter to define which plot goes to the top, which to the bottom, etc. The element with the lowest zorder goes to the bottom, and the one with the highest zorder on top."
      ]
    },
    {
      "cell_type": "code",
      "metadata": {
        "id": "wRZukpXvDjBn"
      },
      "source": [
        "base = df_nyc.plot(linewidth=0.3, color='grey', zorder=1, figsize = (20,20))\n",
        "base.set_xlim( (-74.025,-73.92)  )\n",
        "base.set_ylim( (40.65  , 40.81) )\n",
        "df.plot(\n",
        "    kind='scatter', \n",
        "    x='longitude', \n",
        "    y='latitude', \n",
        "    s = 100*df['perc_full'],\n",
        "    ax = base, zorder=2\n",
        ")"
      ],
      "execution_count": null,
      "outputs": []
    },
    {
      "cell_type": "markdown",
      "metadata": {
        "id": "Rv45c2DuDjBo"
      },
      "source": [
        "#### Adding more communication channels\n",
        "\n",
        "Earlier, we used the size of the marker to communicate how full each station is. Now, we will use a different type of a marker, and a different color, to show stations that are out of service."
      ]
    },
    {
      "cell_type": "code",
      "metadata": {
        "id": "B4Xr4ZQiDjBo"
      },
      "source": [
        "inservice = df[df[\"statusValue\"] == 'In Service']\n",
        "outofservice = df[df[\"statusValue\"] == 'Not In Service']\n",
        "inservice.describe()\n",
        "inservice.plot(kind='scatter',x='longitude',y='latitude',s=100*inservice['perc_full'])"
      ],
      "execution_count": null,
      "outputs": []
    },
    {
      "cell_type": "code",
      "metadata": {
        "id": "lcTsu9p0DjBo"
      },
      "source": [
        "# Plot the map\n",
        "base = df_nyc.plot(linewidth=0.3, color='lightgrey', edgecolor='black',zorder=1, figsize = (20,20))\n",
        "base.set_xlim( (-74.025,-73.92)  )\n",
        "base.set_ylim( (40.65  , 40.81) )\n",
        "# Plot the in-service stations, and make the size of each station proportional to its fullness\n",
        "inservice.plot(\n",
        "    kind='scatter', \n",
        "    x='longitude', \n",
        "    y='latitude', \n",
        "    s = 100*inservice['perc_full'],\n",
        "    ax = base, zorder=2, \n",
        "    label = 'In Service'\n",
        ")\n",
        "# Plots the out-of-service stations with a red x mark\n",
        "outofservice.plot(\n",
        "    kind='scatter',\n",
        "    x='longitude',\n",
        "    y='latitude',\n",
        "    edgecolor = 'Black', linewidth=0.5,\n",
        "    color='Red', marker = 'X',\n",
        "    s = 100, alpha = 0.75, \n",
        "    ax = base, \n",
        "    label = 'Out of Service', zorder=3)"
      ],
      "execution_count": null,
      "outputs": []
    },
    {
      "cell_type": "markdown",
      "metadata": {
        "id": "Db5vmDZBDjBp"
      },
      "source": [
        "#### More advanced\n",
        "#### Show more dimensions by altering circle sizes and transparency\n",
        "The part below tries to add even more communication channels. We change the size of the circle to correspond to the size of the station, and then we use the color transparency to show how full (or empty) the station is. Unfortunately, due to limitations of Pandas, we cannot set directly the transparency of each data point, so we need to go and do the plotting directly using matplotlib functions. In that case, we set the color and transparency of each bubble directly."
      ]
    },
    {
      "cell_type": "code",
      "metadata": {
        "id": "WeUN_LQlDjBp"
      },
      "source": [
        "import numpy as np\n",
        "fig, ax = plt.subplots()\n",
        "ax.set_aspect('equal')\n",
        "\n",
        "ax.set_xlim( (-74.025,-73.92)  )\n",
        "ax.set_ylim( (40.66  , 40.81) )\n",
        "\n",
        "# And now make the size of each point proportional to the size of available bikes\n",
        "# using the s option in the plot\n",
        "inservice = df[df[\"statusValue\"] == 'In Service']\n",
        "outofservice = df[df[\"statusValue\"] == 'Not In Service']\n",
        "\n",
        "# alpha is the transparency\n",
        "\n",
        "#DRAW the background \n",
        "\n",
        "df_nyc.plot(linewidth=0.3, color='lightgrey',ax=ax, edgecolor='black',alpha = 0.5, zorder=1)\n",
        "\n",
        "# Following http://stackoverflow.com/questions/26738881/setting-scatter-points-transparency-from-data-array-in-matplotlib-plot\n",
        "# to set alpha in varying degrees\n",
        "plt.scatter( \n",
        "    x=inservice['longitude'],\n",
        "    y=inservice['latitude'],\n",
        "# This is using the RGB model (i.e. Red=0,Green=0, Blue=1, alpha is the perc_full value)\n",
        "# It is generating a list of {R,G,B,alpha) tuples to match each data point\n",
        "\n",
        "    color=np.asarray([(0, 0, 1, a) for a in inservice['perc_full']]), \n",
        "    edgecolors='Black', \n",
        "    label='In Service',\n",
        "    s=3*inservice['totalDocks'], \n",
        "    zorder=2\n",
        ")\n",
        "outofservice.plot(figsize = (20,20),\n",
        "    kind='scatter',\n",
        "    ax = ax, \n",
        "    x='longitude',\n",
        "    y='latitude',\n",
        "    edgecolor = 'Black', color='Red', marker = 'X',\n",
        "    s = 200, alpha = 0.75,\n",
        "    label = 'Out of Service', \n",
        "    zorder=3\n",
        ")"
      ],
      "execution_count": null,
      "outputs": []
    },
    {
      "cell_type": "code",
      "metadata": {
        "id": "EPF1m00fDjBq"
      },
      "source": [
        "# Play with the sizes of the circles and the transparency. How do you change them?"
      ],
      "execution_count": null,
      "outputs": []
    },
    {
      "cell_type": "code",
      "metadata": {
        "id": "aX_Kc9ibbmG8"
      },
      "source": [
        "#your code here\n"
      ],
      "execution_count": null,
      "outputs": []
    }
  ]
}