{
  "nbformat": 4,
  "nbformat_minor": 0,
  "metadata": {
    "kernelspec": {
      "display_name": "Python 3",
      "language": "python",
      "name": "python3"
    },
    "language_info": {
      "codemirror_mode": {
        "name": "ipython",
        "version": 3
      },
      "file_extension": ".py",
      "mimetype": "text/x-python",
      "name": "python",
      "nbconvert_exporter": "python",
      "pygments_lexer": "ipython3",
      "version": "3.6.5"
    },
    "colab": {
      "name": "B-Pandas_and_SQL.ipynb",
      "provenance": [],
      "collapsed_sections": [],
      "include_colab_link": true
    }
  },
  "cells": [
    {
      "cell_type": "markdown",
      "metadata": {
        "id": "view-in-github",
        "colab_type": "text"
      },
      "source": [
        "<a href=\"https://colab.research.google.com/github/nhwhite212/DealingwithDataSpring2021/blob/master/6-Pandas/B-Pandas_and_SQL.ipynb\" target=\"_parent\"><img src=\"https://colab.research.google.com/assets/colab-badge.svg\" alt=\"Open In Colab\"/></a>"
      ]
    },
    {
      "cell_type": "markdown",
      "metadata": {
        "id": "nxK8scHjlY6J"
      },
      "source": [
        "### Using Pandas together with SQL"
      ]
    },
    {
      "cell_type": "markdown",
      "metadata": {
        "id": "44jdXbGfl4Zy"
      },
      "source": [
        "### First install the relevant linux libraries"
      ]
    },
    {
      "cell_type": "code",
      "metadata": {
        "id": "6XGFFg2Dmf20"
      },
      "source": [
        "!sudo apt-get install -y python-dev libmysqlclient-dev && sudo pip install mysqlclient"
      ],
      "execution_count": null,
      "outputs": []
    },
    {
      "cell_type": "code",
      "metadata": {
        "id": "YZFFoyiPlY6P"
      },
      "source": [
        "%matplotlib inline\n",
        "\n",
        "import pandas as pd\n",
        "import matplotlib\n",
        "import matplotlib.pyplot as plt\n",
        "\n",
        "# Make the graphs a bit prettier, and bigger\n",
        "matplotlib.style.use(['seaborn-talk', 'seaborn-ticks', 'seaborn-whitegrid'])\n",
        "plt.rcParams['figure.figsize'] = (15, 5)"
      ],
      "execution_count": null,
      "outputs": []
    },
    {
      "cell_type": "code",
      "metadata": {
        "id": "N1uo17N8lY6R"
      },
      "source": [
        "# Install the SQLAlchemy library if it is not installed\n",
        "!sudo -H pip3 install -U sqlalchemy"
      ],
      "execution_count": null,
      "outputs": []
    },
    {
      "cell_type": "markdown",
      "metadata": {
        "id": "bBqJVSzRlY6S"
      },
      "source": [
        "### Importing into DataFrames using read_sql\n",
        "\n",
        "The `read_sql` function of Pandas allows us to create a dataframe directly from a SQL query. To execute the query, we first setup the connection to the database using the SQLAlchemy library."
      ]
    },
    {
      "cell_type": "code",
      "metadata": {
        "id": "5lawl-7klY6T"
      },
      "source": [
        "from sqlalchemy import create_engine"
      ],
      "execution_count": null,
      "outputs": []
    },
    {
      "cell_type": "code",
      "metadata": {
        "id": "dS7NzxHhlY6U"
      },
      "source": [
        "conn_string_imdb = 'mysql://{user}:{password}@{host}:{port}/{db}'.format(\n",
        "    user='student', \n",
        "    password='dwdstudent2015', \n",
        "    host = 'db.ipeirotis.org', \n",
        "    port=3306, \n",
        "    db='imdb'\n",
        ")\n",
        "engine_imdb = create_engine(conn_string_imdb)"
      ],
      "execution_count": null,
      "outputs": []
    },
    {
      "cell_type": "markdown",
      "metadata": {
        "id": "gueCVSqilY6V"
      },
      "source": [
        "#### Retrieve the first 10 lines from the actors table "
      ]
    },
    {
      "cell_type": "code",
      "metadata": {
        "id": "6dnKupjElY6V"
      },
      "source": [
        "query = '''\n",
        "SELECT * FROM actors LIMIT 10\n",
        "'''"
      ],
      "execution_count": null,
      "outputs": []
    },
    {
      "cell_type": "markdown",
      "metadata": {
        "id": "DCqmish9myrL"
      },
      "source": [
        "#### Now issue that query with the read_sql dataframe method to create a DF from the table"
      ]
    },
    {
      "cell_type": "code",
      "metadata": {
        "id": "dEZRHwOZlY6V"
      },
      "source": [
        "df_actors = pd.read_sql(query, con=engine_imdb)"
      ],
      "execution_count": null,
      "outputs": []
    },
    {
      "cell_type": "code",
      "metadata": {
        "id": "IqktLAxAlY6W"
      },
      "source": [
        "df_actors"
      ],
      "execution_count": null,
      "outputs": []
    },
    {
      "cell_type": "markdown",
      "metadata": {
        "id": "XW3FdL5clY6X"
      },
      "source": [
        "#### Query to retrieve the number of movies per year"
      ]
    },
    {
      "cell_type": "code",
      "metadata": {
        "id": "8evcqxQtlY6Y"
      },
      "source": [
        "query = '''\n",
        "SELECT year, COUNT(*) AS num_movies, COUNT(rating) AS rated_movies\n",
        "FROM movies \n",
        "GROUP BY year\n",
        "ORDER BY year;\n",
        "'''"
      ],
      "execution_count": null,
      "outputs": []
    },
    {
      "cell_type": "markdown",
      "metadata": {
        "id": "qJK-FLoHlY6Y"
      },
      "source": [
        "#### Issue the query using the pandas read_sql method. It returns a pandas dataframe. Note how we have used MYSQL to do the aggregation and sorting for us."
      ]
    },
    {
      "cell_type": "code",
      "metadata": {
        "id": "fPqbU51ulY6Y"
      },
      "source": [
        "df_movies = pd.read_sql(query, con=engine_imdb)"
      ],
      "execution_count": null,
      "outputs": []
    },
    {
      "cell_type": "code",
      "metadata": {
        "id": "qlq-Y4kSlY6Z"
      },
      "source": [
        "df_movies.head(5)"
      ],
      "execution_count": null,
      "outputs": []
    },
    {
      "cell_type": "markdown",
      "metadata": {
        "id": "kQdqcE60lY6Z"
      },
      "source": [
        "#### Let's try to plot the results.  The pandas plot method will pick some default settings for matplotlib."
      ]
    },
    {
      "cell_type": "code",
      "metadata": {
        "id": "GuteThAPlY6Z"
      },
      "source": [
        "df_movies.plot()"
      ],
      "execution_count": null,
      "outputs": []
    },
    {
      "cell_type": "markdown",
      "metadata": {
        "id": "gK06OZ-BlY6a"
      },
      "source": [
        "We have a couple of issues. We also plotted the year as a line, and we do not have it as the label of the x-axis. For that, we need to convert the year into a proper datetime variable, and then make it the index for the dataframe."
      ]
    },
    {
      "cell_type": "code",
      "metadata": {
        "id": "YElv2ZjglY6a"
      },
      "source": [
        "df_movies['year'] = pd.to_datetime(df_movies['year'], format='%Y')\n",
        "df_movies2 = df_movies.set_index('year')"
      ],
      "execution_count": null,
      "outputs": []
    },
    {
      "cell_type": "code",
      "metadata": {
        "id": "adUb39GclY6a"
      },
      "source": [
        "df_movies2.plot()"
      ],
      "execution_count": null,
      "outputs": []
    },
    {
      "cell_type": "markdown",
      "metadata": {
        "id": "U6PnvzAllY6a"
      },
      "source": [
        "### Exercise\n",
        "\n",
        "* Connect to the Facebook database, and use the `MemberSince` variable from the `Profiles` table to plot the growth of Facebook users.\n",
        "* (_Learn something new_) Use the [cumsum()](http://pandas.pydata.org/pandas-docs/stable/generated/pandas.Series.cumsum.html) function of Pandas and plot the total number of registered users over time."
      ]
    },
    {
      "cell_type": "code",
      "metadata": {
        "id": "m2zjPsMNlY6a"
      },
      "source": [
        "# your code here"
      ],
      "execution_count": null,
      "outputs": []
    },
    {
      "cell_type": "markdown",
      "metadata": {
        "id": "5BLVILiklY6a"
      },
      "source": [
        "### Further Examples with SQL and Pandas"
      ]
    },
    {
      "cell_type": "markdown",
      "metadata": {
        "id": "OQmCziP5lY6a"
      },
      "source": [
        "Now let's run a query to get the political views of Facebook users, broken down by gender."
      ]
    },
    {
      "cell_type": "code",
      "metadata": {
        "id": "8MN1J6w1lY6a"
      },
      "source": [
        "conn_string_fb = 'mysql://{user}:{password}@{host}:{port}/{db}'.format(\n",
        "    user='student', \n",
        "    password='dwdstudent2015', \n",
        "    host = 'db.ipeirotis.org', \n",
        "    port=3306, \n",
        "    db='facebook'\n",
        ")\n",
        "engine_fb = create_engine(conn_string_fb)"
      ],
      "execution_count": null,
      "outputs": []
    },
    {
      "cell_type": "code",
      "metadata": {
        "id": "HhlaXkqNlY6b"
      },
      "source": [
        "describeprofiles = '''\n",
        "describe Profiles\n",
        "'''\n",
        "df=pd.read_sql(describeprofiles,con=engine_fb)\n",
        "df"
      ],
      "execution_count": null,
      "outputs": []
    },
    {
      "cell_type": "code",
      "metadata": {
        "id": "H1GgjRtklY6b"
      },
      "source": [
        "polviews_by_gender = '''\n",
        "SELECT Sex,  PoliticalViews, COUNT(*) AS cnt \n",
        "FROM Profiles \n",
        "WHERE Sex IS NOT NULL AND PoliticalViews IS NOT NULL \n",
        "GROUP BY Sex, PoliticalViews  \n",
        "ORDER BY  PoliticalViews, Sex\n",
        "'''\n"
      ],
      "execution_count": null,
      "outputs": []
    },
    {
      "cell_type": "markdown",
      "metadata": {
        "id": "HF84n88vlY6b"
      },
      "source": [
        "And let's get the dataframe:"
      ]
    },
    {
      "cell_type": "code",
      "metadata": {
        "id": "RGSuU4tYlY6c"
      },
      "source": [
        "df = pd.read_sql(polviews_by_gender, con=engine_fb)\n",
        "df"
      ],
      "execution_count": null,
      "outputs": []
    },
    {
      "cell_type": "code",
      "metadata": {
        "id": "oY9L97nClY6c"
      },
      "source": [
        "# Let's plot this!\n",
        "# Bleh, this is really ugly...\n",
        "# Remember that the index of the dataframe becomes the default x-axis\n",
        "df.plot(kind='bar')"
      ],
      "execution_count": null,
      "outputs": []
    },
    {
      "cell_type": "code",
      "metadata": {
        "id": "wkNXJ3P1lY6c"
      },
      "source": [
        "# Pivot, baby!\n",
        "# Now the index contains the Political Views, which will be our x-axis\n",
        "dfp = df.pivot_table(index='PoliticalViews', columns='Sex', values='cnt')\n",
        "dfp"
      ],
      "execution_count": null,
      "outputs": []
    },
    {
      "cell_type": "code",
      "metadata": {
        "id": "fCnEhnczlY6c"
      },
      "source": [
        "dfp.plot(kind='bar')"
      ],
      "execution_count": null,
      "outputs": []
    },
    {
      "cell_type": "code",
      "metadata": {
        "id": "1FPeSNWBlY6c"
      },
      "source": [
        "# Let's normalize the columns, as we have more females than males, and it seems that there are always more women\n",
        "dfp = dfp / dfp.sum()\n",
        "dfp"
      ],
      "execution_count": null,
      "outputs": []
    },
    {
      "cell_type": "code",
      "metadata": {
        "id": "Cdlu95wulY6c"
      },
      "source": [
        "dfp.plot(kind='bar')"
      ],
      "execution_count": null,
      "outputs": []
    },
    {
      "cell_type": "code",
      "metadata": {
        "id": "iiJUgqsulY6d"
      },
      "source": [
        "# OK, now let's try to re-order the list of results according to the logical structure\n",
        "neworder = ['Very Liberal', 'Liberal', 'Moderate', 'Conservative', 'Very Conservative', 'Libertarian', 'Apathetic', 'Other']\n",
        "newindex = sorted(dfp.index, key=lambda x: neworder.index(x))\n",
        "dfp = dfp.reindex(newindex)\n",
        "dfp"
      ],
      "execution_count": null,
      "outputs": []
    },
    {
      "cell_type": "code",
      "metadata": {
        "id": "gyOhOjXalY6d"
      },
      "source": [
        "dfp.plot(kind='bar')"
      ],
      "execution_count": null,
      "outputs": []
    },
    {
      "cell_type": "markdown",
      "metadata": {
        "id": "qYHuDWh9lY6d"
      },
      "source": [
        "### Facebook, Favorite Books, and Political views"
      ]
    },
    {
      "cell_type": "code",
      "metadata": {
        "id": "EdeyHl1VlY6d"
      },
      "source": [
        "Fbooks= '''\n",
        "describe FavoriteBooks\n",
        "'''\n",
        "df_fbooks = pd.read_sql(Fbooks, con=engine_fb)\n",
        "df_fbooks.head(10)"
      ],
      "execution_count": null,
      "outputs": []
    },
    {
      "cell_type": "code",
      "metadata": {
        "id": "5mNCvx0PlY6d"
      },
      "source": [
        "books = '''\n",
        "SELECT F.Book, P.PoliticalViews , COUNT(*) AS cnt \n",
        "FROM Profiles P JOIN FavoriteBooks F ON F.ProfileID = P.ProfileId  \n",
        "WHERE PoliticalViews IS NOT NULL AND F.Book IS NOT NULL \n",
        "      AND (PoliticalViews = 'Liberal' OR PoliticalViews = 'Conservative')\n",
        "GROUP BY F.Book, P.PoliticalViews\n",
        "'''"
      ],
      "execution_count": null,
      "outputs": []
    },
    {
      "cell_type": "code",
      "metadata": {
        "id": "8X9RMLvjlY6d"
      },
      "source": [
        "df_books = pd.read_sql(books, con=engine_fb)\n",
        "df_books.head(10)"
      ],
      "execution_count": null,
      "outputs": []
    },
    {
      "cell_type": "code",
      "metadata": {
        "id": "vVaFDLA3lY6e"
      },
      "source": [
        "dfp = df_books.pivot_table(index='Book', columns='PoliticalViews', values='cnt')\n",
        "dfp.head(10)"
      ],
      "execution_count": null,
      "outputs": []
    },
    {
      "cell_type": "code",
      "metadata": {
        "id": "OPstYFZblY6e"
      },
      "source": [
        "# If we compute the sums, we will see that we have very different \n",
        "# number of likes per political view, due to imbalance in the population\n",
        "dfp.sum()"
      ],
      "execution_count": null,
      "outputs": []
    },
    {
      "cell_type": "code",
      "metadata": {
        "id": "nq8u5jFllY6e"
      },
      "source": [
        "# Normalize the values, so that each column sums up to 1.0\n",
        "dfp = dfp / dfp.sum()\n",
        "dfp.head(20)"
      ],
      "execution_count": null,
      "outputs": []
    },
    {
      "cell_type": "code",
      "metadata": {
        "id": "zue8T5iSlY6e"
      },
      "source": [
        "dfp[\"Liberal_To_Conservative\"] = dfp[\"Liberal\"]  / dfp[\"Conservative\"] \n",
        "dfp[\"Conservative_To_Liberal\"] = dfp[\"Conservative\"]  / dfp[\"Liberal\"] "
      ],
      "execution_count": null,
      "outputs": []
    },
    {
      "cell_type": "code",
      "metadata": {
        "id": "T2RyYK7slY6f"
      },
      "source": [
        "liberal_books = dfp[[\"Liberal_To_Conservative\"]].sort_values(\"Liberal_To_Conservative\", ascending=False).head(10)\n",
        "liberal_books"
      ],
      "execution_count": null,
      "outputs": []
    },
    {
      "cell_type": "code",
      "metadata": {
        "scrolled": true,
        "id": "23BKj8i2lY6f"
      },
      "source": [
        "conservative_books = dfp[[\"Conservative_To_Liberal\"]].sort_values(\"Conservative_To_Liberal\", ascending=False).head(10)\n",
        "conservative_books"
      ],
      "execution_count": null,
      "outputs": []
    },
    {
      "cell_type": "code",
      "metadata": {
        "id": "6mZSyyWTlY6f"
      },
      "source": [
        "conservative_books.plot(kind='bar')"
      ],
      "execution_count": null,
      "outputs": []
    },
    {
      "cell_type": "markdown",
      "metadata": {
        "collapsed": true,
        "id": "sVVzSe24lY6f"
      },
      "source": [
        "#   \n",
        "# Inserting Data in a Database using Pandas\n",
        "### WE NEED TO SWITCH TO THE BIGDATA SERVER for THIS\n",
        "#    We also need to download a copy of the NYC Open Data \n",
        "#    Restaurant Inspections "
      ]
    },
    {
      "cell_type": "code",
      "metadata": {
        "id": "MJErsiPfppfb"
      },
      "source": [
        "!curl http://people.stern.nyu.edu/nwhite/DealingwithDataSpring2021/data/restaurant.csv.gz  -o restaurant.csv.gz"
      ],
      "execution_count": null,
      "outputs": []
    },
    {
      "cell_type": "code",
      "metadata": {
        "id": "42lrS30PlY6f"
      },
      "source": [
        "# Read the CSV file\n",
        "restaurants = pd.read_csv('restaurant.csv.gz', encoding=\"utf-8\", dtype=\"unicode\")\n",
        "restaurants.describe()"
      ],
      "execution_count": null,
      "outputs": []
    },
    {
      "cell_type": "code",
      "metadata": {
        "id": "3uCP6cRglY6g"
      },
      "source": [
        "# Usual bookkeeping regarding datatypes\n",
        "restaurants[\"GRADE DATE\"] = pd.to_datetime(restaurants[\"GRADE DATE\"], format=\"%m/%d/%Y\")\n",
        "restaurants[\"RECORD DATE\"] = pd.to_datetime(restaurants[\"RECORD DATE\"], format=\"%m/%d/%Y\")\n",
        "restaurants[\"INSPECTION DATE\"] = pd.to_datetime(restaurants[\"INSPECTION DATE\"], format=\"%m/%d/%Y\")\n",
        "restaurants[\"SCORE\"] = pd.to_numeric(restaurants[\"SCORE\"])\n",
        "restaurants[\"BORO\"] =  pd.Categorical(restaurants[\"BORO\"], ordered=False)\n",
        "restaurants[\"GRADE\"] =  pd.Categorical(restaurants[\"GRADE\"], categories = ['A', 'B', 'C'], ordered=True)\n",
        "restaurants[\"VIOLATION CODE\"] =  pd.Categorical(restaurants[\"VIOLATION CODE\"], ordered=False)\n",
        "restaurants[\"CRITICAL FLAG\"] =  pd.Categorical(restaurants[\"CRITICAL FLAG\"], ordered=False)\n",
        "restaurants[\"ACTION\"] =  pd.Categorical(restaurants[\"ACTION\"], ordered=False)\n",
        "restaurants[\"CUISINE DESCRIPTION\"] =  pd.Categorical(restaurants[\"CUISINE DESCRIPTION\"], ordered=False)"
      ],
      "execution_count": null,
      "outputs": []
    },
    {
      "cell_type": "code",
      "metadata": {
        "id": "bjuRU2EMlY6g"
      },
      "source": [
        "# Connect to the MySQL, but without selecting a database\n",
        "# I will use the class userid and password for testing\n",
        "#\n",
        "\n",
        "conn_string = 'mysql://{user}:{password}@{host}:{port}/'.format(\n",
        "    user='DealingS21', password='DealingS21!!', \n",
        "    host = 'bigdata.stern.nyu.edu', port=3306)\n",
        "engine = create_engine(conn_string)"
      ],
      "execution_count": null,
      "outputs": []
    },
    {
      "cell_type": "code",
      "metadata": {
        "id": "NuNvP4rplY6h"
      },
      "source": [
        "# Create the database where we want to store the data\n",
        "# Do not worry about the Warning if the database already exists\n",
        "engine.execute('CREATE DATABASE IF NOT EXISTS nyc_restaurant_inspections')\n",
        "engine.execute('USE nyc_restaurant_inspections')"
      ],
      "execution_count": null,
      "outputs": []
    },
    {
      "cell_type": "code",
      "metadata": {
        "id": "deFZ_qoulY6h"
      },
      "source": [
        "# We drop the table if it is already there\n",
        "engine.execute('DROP TABLE inspections1000')\n"
      ],
      "execution_count": null,
      "outputs": []
    },
    {
      "cell_type": "markdown",
      "metadata": {
        "id": "DPoGVJTjlY6h"
      },
      "source": [
        "## BEWARE the to_sql pandas method is VERY SLOW!!!\n",
        "#### I ran this code and created an inspections table, which I will keep\n",
        "#### It took 14 minutes to load all 394000 rows, so for class I will  only load\n",
        "#### 1000 as an example. I am keeping the full inspections table for example queries,\n"
      ]
    },
    {
      "cell_type": "code",
      "metadata": {
        "id": "MDniOYWtlY6i"
      },
      "source": [
        "# Lets create a small table to test, since insertions are very slow\n",
        "# Takes over 10 minutes to insert all of the restaurant data\n",
        "\n",
        "restaurants1000=restaurants.head(1000)"
      ],
      "execution_count": null,
      "outputs": []
    },
    {
      "cell_type": "code",
      "metadata": {
        "id": "h9LuR8aKlY6i"
      },
      "source": [
        "# Store the dataframe as a SQL table, using the to_sql command\n",
        "# This command is very slow, so this can take a while\n",
        "restaurants1000.to_sql(name='inspections1000', if_exists='replace', index=False, con=engine, chunksize=500)"
      ],
      "execution_count": null,
      "outputs": []
    },
    {
      "cell_type": "code",
      "metadata": {
        "id": "n_MPpJ-VlY6i"
      },
      "source": [
        "# And then we can just retrieve it from the database\n",
        "df = pd.read_sql(\"SELECT * FROM inspections1000 LIMIT 100\", con=engine)\n",
        "df.head(5)"
      ],
      "execution_count": null,
      "outputs": []
    },
    {
      "cell_type": "code",
      "metadata": {
        "id": "UO12vzimrsKU"
      },
      "source": [
        "### How many rows do we have?\n",
        "df1= pd.read_sql('select count(*) from inspections1000',con=engine)\n",
        "df1"
      ],
      "execution_count": null,
      "outputs": []
    },
    {
      "cell_type": "code",
      "metadata": {
        "id": "XPSrEE11zMg4"
      },
      "source": [
        "### How about in the full table? \n",
        "df1=pd.read_sql('select count(*) from inspections',con=engine)\n",
        "df1"
      ],
      "execution_count": null,
      "outputs": []
    },
    {
      "cell_type": "markdown",
      "metadata": {
        "collapsed": true,
        "id": "REYsYnN6lY6j"
      },
      "source": [
        "# In class exercise\n",
        "####   \n",
        "### Connect to the mysql server on bigdata.stern.nyu.edu\n",
        "#### using your team userid and password\n",
        "\n",
        "#### Just copy the cell above, and use your team userid and password\n",
        "##### DealingS21GBx   DealingFS21GBx!!   \n",
        "#### Use your team database (DealingS21GBx)\n",
        "####  \n",
        "#### Create a table named  (\"yournetid) in your team database. It should have two \n",
        "#### attributes, a and b, both ints\n",
        "#### i.e.\n",
        "##### create table nhw1 (a int, b int);\n",
        "##### insert into yournetid(a,b) values(1,2);  \n",
        "#### and 3,4 in the first two rows.\n",
        "#### select * from the table into a dataframe\n",
        "#### print it.\n",
        "#### drop the table"
      ]
    },
    {
      "cell_type": "code",
      "metadata": {
        "id": "vEKKSnitlY6j"
      },
      "source": [
        "# create a small data frame\n",
        "data=[[1,2],[3,4],[5,6]]\n",
        "mydf=pd.DataFrame(data,columns=['a','b'])\n",
        "mydf\n"
      ],
      "execution_count": null,
      "outputs": []
    },
    {
      "cell_type": "code",
      "metadata": {
        "id": "khsVCA8slY6k"
      },
      "source": [
        "# Your code here (Change the user and password)\n",
        "# Connect to the MySQL, but without selecting a database\n",
        "# I will use team 10's userid and password for testing\n",
        "#\n",
        "\n",
        "conn_string = 'mysql://{user}:{password}@{host}:{port}/'.format(\n",
        "    user='DealingS21GB10', password='DealingS21GB10!!', \n",
        "    host = 'bigdata.stern.nyu.edu', port=3306)\n",
        "engine = create_engine(conn_string)\n",
        "\n",
        "engine.execute(\"USE DealingS21GB10\")\n",
        "\n",
        "engine.execute(\"SHOW TABLES\")\n",
        "engine.execute(\"DROP TABLE IF EXISTS  nhw1\")\n",
        "# create a table for the data frame\n",
        "\n",
        "mydf.to_sql(name='nhw1', index=False, con=engine, chunksize=500)\n",
        "\n",
        "engine.execute(\"SHOW TABLES\")"
      ],
      "execution_count": null,
      "outputs": []
    },
    {
      "cell_type": "code",
      "metadata": {
        "id": "ajvCbqwulY6k"
      },
      "source": [
        "engine.execute(\"USE DealingS21GB10\")\n",
        "df = pd.read_sql(\"SELECT * FROM nhw1 LIMIT 100\", con=engine)\n",
        "df.head(5)\n",
        "res=pd.read_sql(\"SHOW TABLES\", con=engine)\n",
        "res\n",
        "engine.execute(\"DROP TABLE nhw1\")"
      ],
      "execution_count": null,
      "outputs": []
    },
    {
      "cell_type": "code",
      "metadata": {
        "id": "162Ayg_RlY6k"
      },
      "source": [
        "df"
      ],
      "execution_count": null,
      "outputs": []
    },
    {
      "cell_type": "code",
      "metadata": {
        "id": "CgShlY-plY6k"
      },
      "source": [
        "res"
      ],
      "execution_count": null,
      "outputs": []
    },
    {
      "cell_type": "markdown",
      "metadata": {
        "id": "uUD0Lhib016K"
      },
      "source": [
        "# That should get you started on using mysql and Pandas"
      ]
    },
    {
      "cell_type": "code",
      "metadata": {
        "id": "ZndePdOx00UE"
      },
      "source": [
        ""
      ],
      "execution_count": null,
      "outputs": []
    }
  ]
}