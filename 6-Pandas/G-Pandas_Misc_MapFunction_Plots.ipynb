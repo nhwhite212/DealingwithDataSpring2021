{
  "nbformat": 4,
  "nbformat_minor": 0,
  "metadata": {
    "kernelspec": {
      "display_name": "Python 3",
      "language": "python",
      "name": "python3"
    },
    "language_info": {
      "codemirror_mode": {
        "name": "ipython",
        "version": 3
      },
      "file_extension": ".py",
      "mimetype": "text/x-python",
      "name": "python",
      "nbconvert_exporter": "python",
      "pygments_lexer": "ipython3",
      "version": "3.6.5"
    },
    "colab": {
      "name": "G-Pandas-Misc_MapFunction_Plots.ipynb",
      "provenance": [],
      "collapsed_sections": [],
      "include_colab_link": true
    }
  },
  "cells": [
    {
      "cell_type": "markdown",
      "metadata": {
        "id": "view-in-github",
        "colab_type": "text"
      },
      "source": [
        "<a href=\"https://colab.research.google.com/github/nhwhite212/DealingwithDataSpring2021/blob/master/6-Pandas/G-Pandas_Misc_MapFunction_Plots.ipynb\" target=\"_parent\"><img src=\"https://colab.research.google.com/assets/colab-badge.svg\" alt=\"Open In Colab\"/></a>"
      ]
    },
    {
      "cell_type": "markdown",
      "metadata": {
        "id": "2UhtPUYmIWN8"
      },
      "source": [
        "We start this notebook by typing a \"magic\" command that allows iPython notebooks to display plots directly in the browser."
      ]
    },
    {
      "cell_type": "code",
      "metadata": {
        "id": "Dh_hl5jyIWOC"
      },
      "source": [
        "# Render our plots inline\n",
        "%matplotlib inline"
      ],
      "execution_count": null,
      "outputs": []
    },
    {
      "cell_type": "markdown",
      "metadata": {
        "id": "X_P2dFDaIWOD"
      },
      "source": [
        "In order to read and process files, we are going to use a very powerful, and widely used Python library, called pandas. So, our next step is to import the pandas library in Python, and also import the library matplotlib for generating plots:"
      ]
    },
    {
      "cell_type": "code",
      "metadata": {
        "id": "94tMGyupIWOE"
      },
      "source": [
        "import pandas as pd\n",
        "import matplotlib.pyplot as plt"
      ],
      "execution_count": null,
      "outputs": []
    },
    {
      "cell_type": "markdown",
      "metadata": {
        "id": "mosgkxZ6IWOE"
      },
      "source": [
        "Pandas should already be installed on your machine, but if you get an error in the import statement above, indicating that pandas is not available, please uncomment the following command and execute:"
      ]
    },
    {
      "cell_type": "code",
      "metadata": {
        "id": "VJE1davqIWOF"
      },
      "source": [
        "# !sudo python3 -m pip install -U pandas"
      ],
      "execution_count": null,
      "outputs": []
    },
    {
      "cell_type": "markdown",
      "metadata": {
        "id": "xrtid7OwIWOF"
      },
      "source": [
        "And we type some code to simply change the visual style of the plots. (The code below is optional and not necessary, and for now you do not need to understand what exactly is happening.)"
      ]
    },
    {
      "cell_type": "code",
      "metadata": {
        "id": "FOqVG7-QIWOG"
      },
      "source": [
        "# Make the graphs a bit bigger\n",
        "plt.rcParams['figure.figsize'] = (15, 5)"
      ],
      "execution_count": null,
      "outputs": []
    },
    {
      "cell_type": "markdown",
      "metadata": {
        "id": "REtvVhL4IWOH"
      },
      "source": [
        "### Basic Example: Creating a DataFrame from Scratch\n",
        "\n",
        "This is an example of creating a dataframe by passing a list of dictionaries."
      ]
    },
    {
      "cell_type": "code",
      "metadata": {
        "id": "wTt6PjLAIWOH"
      },
      "source": [
        "df = pd.DataFrame([ \n",
        "    {\"First Name\": \"Panos\", \"Last Name\":\" Ipeirotis\"},\n",
        "    {\"First Name\": \"John\", \"Last Name\":\" Doe\"},\n",
        "    {\"Last Name\":\"Trump\"}\n",
        "])\n"
      ],
      "execution_count": null,
      "outputs": []
    },
    {
      "cell_type": "code",
      "metadata": {
        "id": "OKJZk4tfIWOH"
      },
      "source": [
        "df"
      ],
      "execution_count": null,
      "outputs": []
    },
    {
      "cell_type": "markdown",
      "metadata": {
        "id": "tmn47YaWIWOJ"
      },
      "source": [
        "### Reading Data Files"
      ]
    },
    {
      "cell_type": "markdown",
      "metadata": {
        "id": "s2rxH_vCIWOK"
      },
      "source": [
        "Let's take a look at the restaurant inspections file (at `data/restaurants.csv`), which we used in our earlier classes.\n",
        "\n",
        "If you do not have it, then uncomment and execute the following:"
      ]
    },
    {
      "cell_type": "code",
      "metadata": {
        "id": "bKyx4RNfIWOK"
      },
      "source": [
        "!mkdir data\n",
        "# NOTE: THE API NO LONGER INCLUDES DESCRIPTIONS, YOU NEED THE FULL DATASET\n",
        "#!curl 'https://data.cityofnewyork.us/api/views/43nn-pn8j/rows.csv?accessType=DOWNLOAD' -o data/restaurant.csv\n",
        "!curl http://people.stern.nyu.edu/nwhite/DealingwithDataSpring2021/data/restaurant.csv.gz -o data/restaurant.csv.gz\n"
      ],
      "execution_count": null,
      "outputs": []
    },
    {
      "cell_type": "code",
      "metadata": {
        "id": "5I5gaNJ1IWOL"
      },
      "source": [
        "#!rm data/restaurant.csv.gz\n",
        "#!gzip data/restaurant.csv"
      ],
      "execution_count": null,
      "outputs": []
    },
    {
      "cell_type": "code",
      "metadata": {
        "id": "IJTzLnNaIWOM"
      },
      "source": [
        "!gzip -cd data/restaurant.csv.gz | head -3"
      ],
      "execution_count": null,
      "outputs": []
    },
    {
      "cell_type": "markdown",
      "metadata": {
        "id": "g18gWG6tIWON"
      },
      "source": [
        "### Reading a CSV file"
      ]
    },
    {
      "cell_type": "markdown",
      "metadata": {
        "id": "RYwIf-vxIWOO"
      },
      "source": [
        "We want to be able to read and process this file within Python. The pandas library has a very convenient method `read_csv` which reads the file, and returns back a variable that contains its contents."
      ]
    },
    {
      "cell_type": "code",
      "metadata": {
        "id": "GrOUQPccIWOO"
      },
      "source": [
        "import pandas as pd\n",
        "restaurants = pd.read_csv(\"data/restaurant.csv.gz\", encoding=\"utf-8\", dtype=\"unicode\")"
      ],
      "execution_count": null,
      "outputs": []
    },
    {
      "cell_type": "markdown",
      "metadata": {
        "id": "x_2kEimqIWOO"
      },
      "source": [
        "When you read a CSV, you get back a kind of object called a DataFrame, which is made up of rows and columns. You get columns out of a DataFrame the same way you get elements out of a dictionary. Let's take a look at how the object looks like:"
      ]
    },
    {
      "cell_type": "code",
      "metadata": {
        "scrolled": true,
        "id": "7Fl6tsuOIWOO"
      },
      "source": [
        "restaurants.head(5)"
      ],
      "execution_count": null,
      "outputs": []
    },
    {
      "cell_type": "markdown",
      "metadata": {
        "id": "Rk8bJxPsIWOP"
      },
      "source": [
        "The read_csv method has many options, and you can read further in the [online documentation](http://pandas.pydata.org/pandas-docs/stable/generated/pandas.io.parsers.read_csv.html)."
      ]
    },
    {
      "cell_type": "markdown",
      "metadata": {
        "id": "YTXt8VgUIWOP"
      },
      "source": [
        "### Descriptive statistics\n",
        "\n",
        "We can use the method \"describe()\" to get a quick overview of the data in the dataframe."
      ]
    },
    {
      "cell_type": "code",
      "metadata": {
        "id": "QCTGgcGmIWOP"
      },
      "source": [
        "restaurants.describe()"
      ],
      "execution_count": null,
      "outputs": []
    },
    {
      "cell_type": "markdown",
      "metadata": {
        "id": "olPPWzakIWOQ"
      },
      "source": [
        "We can also check the data types for each column"
      ]
    },
    {
      "cell_type": "code",
      "metadata": {
        "id": "u70I254-IWOQ"
      },
      "source": [
        "restaurants.dtypes"
      ],
      "execution_count": null,
      "outputs": []
    },
    {
      "cell_type": "markdown",
      "metadata": {
        "id": "W2hugGFnIWOR"
      },
      "source": [
        "The `object` type is a string. For many of these, we would like to change the data types for a few columns, using the `pd.to_numeric` and `pd.to_datetime` functions:"
      ]
    },
    {
      "cell_type": "code",
      "metadata": {
        "id": "1uQJPH7wIWOR"
      },
      "source": [
        "restaurants[\"SCORE\"] = pd.to_numeric(restaurants[\"SCORE\"])\n",
        "restaurants.dtypes"
      ],
      "execution_count": null,
      "outputs": []
    },
    {
      "cell_type": "code",
      "metadata": {
        "scrolled": true,
        "id": "pgCFK3PIIWOR"
      },
      "source": [
        "restaurants[[\"SCORE\"]].describe()"
      ],
      "execution_count": null,
      "outputs": []
    },
    {
      "cell_type": "markdown",
      "metadata": {
        "id": "1ofkmk6FIWOS"
      },
      "source": [
        "Now let's convert the dates columns into the appropriate data types:"
      ]
    },
    {
      "cell_type": "code",
      "metadata": {
        "id": "HRr_6vvsIWOS"
      },
      "source": [
        "restaurants[\"GRADE DATE\"] = pd.to_datetime(restaurants[\"GRADE DATE\"], format=\"%m/%d/%Y\")\n",
        "restaurants[\"RECORD DATE\"] = pd.to_datetime(restaurants[\"RECORD DATE\"], format=\"%m/%d/%Y\")\n",
        "restaurants[\"INSPECTION DATE\"] = pd.to_datetime(restaurants[\"INSPECTION DATE\"], format=\"%m/%d/%Y\")"
      ],
      "execution_count": null,
      "outputs": []
    },
    {
      "cell_type": "code",
      "metadata": {
        "id": "XrNb5d1wIWOS"
      },
      "source": [
        "restaurants.dtypes"
      ],
      "execution_count": null,
      "outputs": []
    },
    {
      "cell_type": "code",
      "metadata": {
        "id": "rFpfwR_eIWOS"
      },
      "source": [
        "restaurants[[\"INSPECTION DATE\", \"GRADE DATE\", \"RECORD DATE\"]].describe()"
      ],
      "execution_count": null,
      "outputs": []
    },
    {
      "cell_type": "code",
      "metadata": {
        "id": "UmaBELSWIWOT"
      },
      "source": [
        "restaurants[\"BORO\"] =  pd.Categorical(restaurants[\"BORO\"], ordered=False)\n",
        "restaurants[\"GRADE\"] =  pd.Categorical(restaurants[\"GRADE\"], categories = ['A', 'B', 'C'], ordered=True)\n",
        "restaurants[\"VIOLATION CODE\"] =  pd.Categorical(restaurants[\"VIOLATION CODE\"], ordered=False)\n",
        "restaurants[\"CRITICAL FLAG\"] =  pd.Categorical(restaurants[\"CRITICAL FLAG\"], ordered=False)\n",
        "restaurants[\"ACTION\"] =  pd.Categorical(restaurants[\"ACTION\"], ordered=False)\n",
        "restaurants[\"CUISINE DESCRIPTION\"] =  pd.Categorical(restaurants[\"CUISINE DESCRIPTION\"], ordered=False)\n",
        "restaurants.dtypes"
      ],
      "execution_count": null,
      "outputs": []
    },
    {
      "cell_type": "code",
      "metadata": {
        "id": "WAPaXMcJIWOU"
      },
      "source": [
        "restaurants.describe(include='all')"
      ],
      "execution_count": null,
      "outputs": []
    },
    {
      "cell_type": "markdown",
      "metadata": {
        "id": "On5SwxG7IWOU"
      },
      "source": [
        "### Selecting a subset of the columns\n",
        "\n",
        "In a dataframe, we can specify the column(s) that we want to keep, and get back another dataframe with just the subset of the columns that we want to keep."
      ]
    },
    {
      "cell_type": "code",
      "metadata": {
        "id": "7Ua6Fr4XIWOU"
      },
      "source": [
        "restaurants[\"VIOLATION CODE\"].head(5)"
      ],
      "execution_count": null,
      "outputs": []
    },
    {
      "cell_type": "code",
      "metadata": {
        "id": "6eX1yX91IWOV"
      },
      "source": [
        "column_list = [\"GRADE DATE\",\"VIOLATION CODE\", \"DBA\"]\n",
        "restaurants[ column_list ].head(5)"
      ],
      "execution_count": null,
      "outputs": []
    },
    {
      "cell_type": "markdown",
      "metadata": {
        "id": "4-qwWjl7IWOV"
      },
      "source": [
        "We can also get quick statistics about the common values that appear in each column:"
      ]
    },
    {
      "cell_type": "code",
      "metadata": {
        "id": "GrL2lD9VIWOV"
      },
      "source": [
        "restaurants[\"DBA\"].value_counts()"
      ],
      "execution_count": null,
      "outputs": []
    },
    {
      "cell_type": "code",
      "metadata": {
        "id": "xZeFmfcNIWOV"
      },
      "source": [
        "restaurants[\"CUISINE DESCRIPTION\"].value_counts()[:20]"
      ],
      "execution_count": null,
      "outputs": []
    },
    {
      "cell_type": "code",
      "metadata": {
        "id": "IrSGvm0aIWOW"
      },
      "source": [
        "violation_counts = restaurants[\"VIOLATION CODE\"].value_counts();\n",
        "violation_counts[0:10]"
      ],
      "execution_count": null,
      "outputs": []
    },
    {
      "cell_type": "code",
      "metadata": {
        "id": "JLHY-OBSIWOW"
      },
      "source": [
        "violation_counts = restaurants[\"VIOLATION DESCRIPTION\"].value_counts();\n",
        "violation_counts[0:10]"
      ],
      "execution_count": null,
      "outputs": []
    },
    {
      "cell_type": "markdown",
      "metadata": {
        "id": "tFN_tV3nIWOW"
      },
      "source": [
        "And we can use the \"plot\" command to plot the resulting histogram. (More details at http://pandas.pydata.org/pandas-docs/stable/visualization.html) We also revisit plotting below."
      ]
    },
    {
      "cell_type": "code",
      "metadata": {
        "id": "YHCcxjnwIWOW"
      },
      "source": [
        "violation_counts[:5].plot(kind='bar')"
      ],
      "execution_count": null,
      "outputs": []
    },
    {
      "cell_type": "code",
      "metadata": {
        "id": "r3yHQMx1IWOW"
      },
      "source": [
        "popular = restaurants[\"CUISINE DESCRIPTION\"].value_counts()\n",
        "popular[:10].plot(kind='bar')"
      ],
      "execution_count": null,
      "outputs": []
    },
    {
      "cell_type": "markdown",
      "metadata": {
        "id": "y8D2M4goIWOW"
      },
      "source": [
        "### Using the map command\n",
        "\n",
        "The map command in Python has the following syntax:\n",
        "\n",
        "`map(function, [list of values for first argument], [list of values for second argument]...)`\n",
        "\n",
        "It takes as input a function, which has a set of parameters. Then, it iterates over the lists that follow; the lists contain the arguments that are passed to the function. Map returns a list of values that are the result of applying the function to all the elements of the list(s). \n",
        "\n",
        "For example, in the following code, the `add` function is going to be applied to the two lists (`[1, 2, 3, 4]` and `[9, 10, 10, 11]`) that follow. The result of the map will be a list containing the values `[add(1,2), add(2,10), add(3,10), add(4,11)]`\n",
        "\n",
        "\n"
      ]
    },
    {
      "cell_type": "code",
      "metadata": {
        "id": "BuUou9KBIWOX"
      },
      "source": [
        "def capitalize(x):\n",
        "    return x[0].upper() + x[1:].lower()\n",
        "\n",
        "capitalize(\"panos\")"
      ],
      "execution_count": null,
      "outputs": []
    },
    {
      "cell_type": "code",
      "metadata": {
        "id": "DYWG3kdgIWOX"
      },
      "source": [
        "example = map(capitalize, [\"panos\", \"christopher\", \"caterina\", \"lucy\"])\n",
        "list(example)"
      ],
      "execution_count": null,
      "outputs": []
    },
    {
      "cell_type": "code",
      "metadata": {
        "id": "N5BozKr8IWOX"
      },
      "source": [
        "def add(x,y):\n",
        "    return x+y\n",
        "    \n",
        "example = map(add, [1, 2, 3, 4], [9, 10, 10, 11])\n",
        "list(example)"
      ],
      "execution_count": null,
      "outputs": []
    },
    {
      "cell_type": "markdown",
      "metadata": {
        "id": "ziFNfuNQIWOY"
      },
      "source": [
        "#### Using the map for dataframes\n",
        "\n",
        "Using the map command, we can:\n",
        "* Create new columns for the dataframe\n",
        "* Modify existing columns\n",
        "* Generate new columns that are the result of operations on the columns of the dataframe\n",
        "\n",
        "For example, suppose that we want to format the phone column. We can write a function that takes as input a phone and formats it as we want. Then we apply the function using the map command as follows:"
      ]
    },
    {
      "cell_type": "code",
      "metadata": {
        "id": "F-RRrLWQIWOY"
      },
      "source": [
        "restaurants['PHONE']"
      ],
      "execution_count": null,
      "outputs": []
    },
    {
      "cell_type": "code",
      "metadata": {
        "id": "4NxmdVDoIWOY"
      },
      "source": [
        "import re\n",
        "def formatPhone(phoneString):\n",
        "    if phoneString == None:\n",
        "        return \"\"\n",
        "    regex = re.compile(r'([2-9]\\d{2})\\W*(\\d{3})\\W*(\\d{4})')\n",
        "    match = regex.search(str(phoneString))\n",
        "    if match:\n",
        "        area_code = match.group(1)\n",
        "        first_three = match.group(2)\n",
        "        last_four = match.group(3)\n",
        "        formatted = \"(\" + area_code + \") \" + first_three + \"-\" + last_four\n",
        "        return formatted\n",
        "    else:\n",
        "        return \"\""
      ],
      "execution_count": null,
      "outputs": []
    },
    {
      "cell_type": "code",
      "metadata": {
        "id": "-stcojfIIWOY"
      },
      "source": [
        "formatPhone(\"2129980803\")"
      ],
      "execution_count": null,
      "outputs": []
    },
    {
      "cell_type": "code",
      "metadata": {
        "id": "fkvBW8CIIWOZ"
      },
      "source": [
        "restaurants['FormattedPhone'] = restaurants['PHONE'].apply(formatPhone)"
      ],
      "execution_count": null,
      "outputs": []
    },
    {
      "cell_type": "code",
      "metadata": {
        "id": "1x-3D_awIWOZ"
      },
      "source": [
        "list(map(formatPhone, restaurants['PHONE']))"
      ],
      "execution_count": null,
      "outputs": []
    },
    {
      "cell_type": "code",
      "metadata": {
        "id": "b7wExvglIWOZ"
      },
      "source": [
        "restaurants[['PHONE', 'FormattedPhone']]"
      ],
      "execution_count": null,
      "outputs": []
    },
    {
      "cell_type": "code",
      "metadata": {
        "id": "Jz6A6nQYIWOZ"
      },
      "source": [
        "def printAddress(boro, building, street, zipcode, phone):\n",
        "    if boro == None:\n",
        "        boro = \"\"\n",
        "    if building == None:\n",
        "        building = \"\"\n",
        "    if street == None:\n",
        "        street = \"\"\n",
        "    if zipcode == None:\n",
        "        zipcode = \"\"\n",
        "    if phone == None:\n",
        "        phone = \"\"\n",
        "    \n",
        "    result = str(building) + \" \" + str(street) + \", \" + \\\n",
        "    str(boro) + \", \" + str(zipcode) +  \", Phone: \" + str(formatPhone(phone))\n",
        "    return result\n",
        "\n",
        "printAddress(\"Manhattan\", \"44\", \"West 4th\", \"10012\", 2129980803\n",
        "             \n",
        "             \n",
        "            )\n"
      ],
      "execution_count": null,
      "outputs": []
    },
    {
      "cell_type": "code",
      "metadata": {
        "id": "hbG32M19IWOa"
      },
      "source": [
        "\n",
        "restaurants[\"FormattedAddress\"] = list(map(printAddress, \n",
        "                                     restaurants[\"BORO\"],\n",
        "                                     restaurants[\"BUILDING\"],\n",
        "                                     restaurants[\"STREET\"],\n",
        "                                     restaurants[\"ZIPCODE\"],\n",
        "                                     restaurants[\"PHONE\"]))"
      ],
      "execution_count": null,
      "outputs": []
    },
    {
      "cell_type": "code",
      "metadata": {
        "id": "fHoDwaGdIWOa"
      },
      "source": [
        "restaurants.head(10)"
      ],
      "execution_count": null,
      "outputs": []
    },
    {
      "cell_type": "code",
      "metadata": {
        "id": "QEz8Waf4IWOa"
      },
      "source": [
        "restaurants[[\"FormattedAddress\", \"STREET\", \"BUILDING\", \"BORO\"]]\n"
      ],
      "execution_count": null,
      "outputs": []
    },
    {
      "cell_type": "code",
      "metadata": {
        "id": "D2aG_7MFIWOb"
      },
      "source": [
        ""
      ],
      "execution_count": null,
      "outputs": []
    },
    {
      "cell_type": "markdown",
      "metadata": {
        "id": "8U_Q0gQ5IWOb"
      },
      "source": [
        "### Selecting rows\n",
        "\n",
        "To select rows, we can use the following approach, where we generate a list of boolean values, one for each row of the dataframe, and then we use the list to select which of the rows of the dataframe we want to keep\""
      ]
    },
    {
      "cell_type": "code",
      "metadata": {
        "id": "cqEH9Zh8IWOb"
      },
      "source": [
        "# Selecting columns from a data frame: create a list of column\n",
        "# names and pass it within brackets [ ]\n",
        "restaurants[  [\"GRADE DATE\",\"VIOLATION CODE\", \"DBA\"] ].head(5)"
      ],
      "execution_count": null,
      "outputs": []
    },
    {
      "cell_type": "code",
      "metadata": {
        "id": "mAsb0Kh-IWOc"
      },
      "source": [
        "restaurants"
      ],
      "execution_count": null,
      "outputs": []
    },
    {
      "cell_type": "code",
      "metadata": {
        "id": "PW2HQYb1IWOc"
      },
      "source": [
        "# Create the condition \"has mice\" for code 04L\n",
        "mice = (restaurants[\"VIOLATION CODE\"] == \"04L\")\n",
        "mice"
      ],
      "execution_count": null,
      "outputs": []
    },
    {
      "cell_type": "code",
      "metadata": {
        "id": "izFejsKxIWOc"
      },
      "source": [
        "\n",
        "# Apply the condition to the dataframe \"restaurants\" and store the result \n",
        "# in a dataframe called  has_mice\n",
        "has_mice = restaurants[mice]\n",
        "has_mice"
      ],
      "execution_count": null,
      "outputs": []
    },
    {
      "cell_type": "code",
      "metadata": {
        "id": "sPe_ChaWIWOd"
      },
      "source": [
        "# List the most frequent DBA values in the dataframe\n",
        "has_mice[\"DBA\"].value_counts()[:20]"
      ],
      "execution_count": null,
      "outputs": []
    },
    {
      "cell_type": "code",
      "metadata": {
        "id": "ZzkSVqJ5IWOd"
      },
      "source": [
        "has_mice[\"CAMIS\"].value_counts()[:5]"
      ],
      "execution_count": null,
      "outputs": []
    },
    {
      "cell_type": "code",
      "metadata": {
        "id": "T8akjRpkIWOd"
      },
      "source": [
        "condition = (restaurants[\"CAMIS\"] == '41485393')\n",
        "restaurants[condition]\n"
      ],
      "execution_count": null,
      "outputs": []
    },
    {
      "cell_type": "markdown",
      "metadata": {
        "id": "mbnAf0NlIWOd"
      },
      "source": [
        "And we can use more complex conditions:"
      ]
    },
    {
      "cell_type": "code",
      "metadata": {
        "id": "Kql_0GoRIWOe"
      },
      "source": [
        "mice_manhattan = (restaurants[\"VIOLATION CODE\"] == \"04L\") \\\n",
        "                    & (restaurants[\"BORO\"] == \"MANHATTAN\") \\\n",
        "                    & (restaurants[\"ZIPCODE\"] == \"10012\")"
      ],
      "execution_count": null,
      "outputs": []
    },
    {
      "cell_type": "code",
      "metadata": {
        "id": "J3L9uazBIWOe"
      },
      "source": [
        "has_mice_10012 = restaurants[mice_manhattan]\n",
        "has_mice_10012"
      ],
      "execution_count": null,
      "outputs": []
    },
    {
      "cell_type": "code",
      "metadata": {
        "id": "bBAbKvHDIWOe"
      },
      "source": [
        "has_mice_10012[\"DBA\"].value_counts()[:20]"
      ],
      "execution_count": null,
      "outputs": []
    },
    {
      "cell_type": "code",
      "metadata": {
        "scrolled": true,
        "id": "anQ_P-rMIWOf"
      },
      "source": [
        "has_mice_10012[\"DBA\"].value_counts()[:100].plot(kind='bar')"
      ],
      "execution_count": null,
      "outputs": []
    },
    {
      "cell_type": "markdown",
      "metadata": {
        "id": "Bn0sjtSFIWOf"
      },
      "source": [
        "### Plotting"
      ]
    },
    {
      "cell_type": "code",
      "metadata": {
        "id": "q-_nUBN8IWOf"
      },
      "source": [
        "# We need to convert the \"SCORE\" column to a numeric data type (just in case the related part was not executed above)\n",
        "restaurants[\"SCORE\"] = pd.to_numeric(restaurants[\"SCORE\"])"
      ],
      "execution_count": null,
      "outputs": []
    },
    {
      "cell_type": "code",
      "metadata": {
        "id": "jbzC3HOGIWOf"
      },
      "source": [
        "# We can plot a histogram of the scores using the plot(kind='hist') command\n",
        "restaurants[\"SCORE\"].plot(kind='hist', # histogram\n",
        "                          bins=50, # use 50 bars\n",
        "                          alpha=0.5, # add a bit of transparency\n",
        "                          range=(0,50), # x-axis from 0 to 50\n",
        "                          color='Blue',# use Blue color\n",
        "                          density=False)  # show raw count, density = False"
      ],
      "execution_count": null,
      "outputs": []
    },
    {
      "cell_type": "code",
      "metadata": {
        "id": "S6x01xNRIWOg"
      },
      "source": [
        "# This plots the density of a numeric attribute\n",
        "# kde = kernel density estimation\n",
        "restaurants[\"SCORE\"].plot(kind='kde', color='Black', xlim=(0,50))"
      ],
      "execution_count": null,
      "outputs": []
    },
    {
      "cell_type": "code",
      "metadata": {
        "id": "CCiEBUrTIWOg"
      },
      "source": [
        "# This plots the density of a numeric attribute\n",
        "# kde = kernel density estimation of the probability density function\n",
        "# We can plot a histogram of the scores using the plot(kind='hist') command\n",
        "Norm=(1==1)\n",
        "restaurants[\"SCORE\"].plot(kind='hist', # histogram\n",
        "                          bins=50, # use 50 bars\n",
        "                          alpha=0.5, # add a bit of transparency\n",
        "                          range=(0,50), # x-axis from 0 to 50\n",
        "                          color='Blue', # use blue color\n",
        "                          density=True) # show the density, area adds up to 1.0\n",
        "restaurants[\"SCORE\"].plot(kind='kde', color='Black', xlim=(0,50))"
      ],
      "execution_count": null,
      "outputs": []
    },
    {
      "cell_type": "markdown",
      "metadata": {
        "id": "6LXh55sgPjng"
      },
      "source": [
        "### Look at only the \"A\" Grade restaurants"
      ]
    },
    {
      "cell_type": "code",
      "metadata": {
        "id": "JkS0QiVXIWOg"
      },
      "source": [
        "restaurants[\"SCORE\"][ restaurants[\"GRADE\"] == 'A' ].plot(kind = 'hist', \n",
        "                                                         bins=50, \n",
        "                                                         range=(0,50), \n",
        "                                                         color='Green', \n",
        "                                                         density=True)"
      ],
      "execution_count": null,
      "outputs": []
    },
    {
      "cell_type": "markdown",
      "metadata": {
        "id": "35LSwrK4Pqhq"
      },
      "source": [
        "#### and only the B's"
      ]
    },
    {
      "cell_type": "code",
      "metadata": {
        "scrolled": true,
        "id": "pl7mzBuLIWOg"
      },
      "source": [
        "restaurants[\"SCORE\"][ restaurants[\"GRADE\"] == 'B' ].plot(kind = 'hist', \n",
        "                                                         bins=50, \n",
        "                                                         range=(0,50), \n",
        "                                                         color='Orange', \n",
        "                                                         density=True)"
      ],
      "execution_count": null,
      "outputs": []
    },
    {
      "cell_type": "markdown",
      "metadata": {
        "id": "Vu89aGbYPvdW"
      },
      "source": [
        "### and the C's  (Do you see a problem here?)"
      ]
    },
    {
      "cell_type": "code",
      "metadata": {
        "id": "vDM5jedCIWOh"
      },
      "source": [
        "restaurants[\"SCORE\"][ restaurants[\"GRADE\"] == 'C' ].plot(kind = 'hist', \n",
        "                                                         bins=50, \n",
        "                                                         range=(0,50), \n",
        "                                                         color='Red', \n",
        "                                                         density=True)"
      ],
      "execution_count": null,
      "outputs": []
    },
    {
      "cell_type": "markdown",
      "metadata": {
        "id": "Kp2IHl1dQELR"
      },
      "source": [
        "# All Together"
      ]
    },
    {
      "cell_type": "code",
      "metadata": {
        "id": "jBcYfmS8IWOi"
      },
      "source": [
        "# We can also select specific rows to plot (e.g., in this case based on grade)\n",
        "# Jupyter is smart enough to combine these three plots in one \n",
        "# (sometimes it is not smart, below we show how to make our desire to combine plots explicit)\n",
        "restaurants[\"SCORE\"][ restaurants[\"GRADE\"] == 'A' ].plot(kind = 'hist', bins=50, range=(0,50), color='Green', density=True)\n",
        "restaurants[\"SCORE\"][ restaurants[\"GRADE\"] == 'B' ].plot(kind = 'hist', bins=50, range=(0,50), color='Orange', density=True)\n",
        "restaurants[\"SCORE\"][ restaurants[\"GRADE\"] == 'C' ].plot(kind = 'hist', bins=50, range=(0,50), color='Red', density=True)"
      ],
      "execution_count": null,
      "outputs": []
    },
    {
      "cell_type": "markdown",
      "metadata": {
        "id": "TKXpBfKfQU0L"
      },
      "source": [
        "#### and make the Grades partially transparent so we can show the full density function"
      ]
    },
    {
      "cell_type": "code",
      "metadata": {
        "id": "rtozJ5CUIWOi"
      },
      "source": [
        "ax1 = restaurants[\"SCORE\"][ restaurants[\"GRADE\"] == 'A' ].plot(kind = 'hist',bins=50, alpha=0.5, range=(0,50), color='Green', density=True)\n",
        "ax2 = restaurants[\"SCORE\"][ restaurants[\"GRADE\"] == 'B' ].plot(kind = 'hist',bins=50, alpha=0.5, range=(0,50), color='Orange', density=True, ax=ax1)\n",
        "ax3 = restaurants[\"SCORE\"][ restaurants[\"GRADE\"] == 'C' ].plot(kind = 'hist',bins=50, alpha=0.5, range=(0,50), color='Red', density=True, ax=ax2)\n",
        "restaurants[\"SCORE\"].plot(kind='kde', color='Black', xlim=(0,50), ax=ax3)"
      ],
      "execution_count": null,
      "outputs": []
    },
    {
      "cell_type": "markdown",
      "metadata": {
        "id": "QBOHHNl1IWOj"
      },
      "source": [
        "# USE SQL ON Datframes\n",
        "### Comparison with SQL\n",
        "\n",
        "For a comparison with SQL, see http://pandas.pydata.org/pandas-docs/stable/comparison_with_sql.html"
      ]
    },
    {
      "cell_type": "markdown",
      "metadata": {
        "id": "--gksMTAIWOj"
      },
      "source": [
        "Pandas supports its own set of operators for doing SQL-like operations (in reality it runs a in-memory SQL database in the backend). It is also possible to use straightforward SQL queries to query Pandas dataframes, by using the `pandasql` package:"
      ]
    },
    {
      "cell_type": "code",
      "metadata": {
        "id": "c7c2soRuIWOj"
      },
      "source": [
        "!sudo -H pip install -U pandasql"
      ],
      "execution_count": null,
      "outputs": []
    },
    {
      "cell_type": "code",
      "metadata": {
        "id": "KCwT9l2BIWOj"
      },
      "source": [
        "from pandasql import sqldf"
      ],
      "execution_count": null,
      "outputs": []
    },
    {
      "cell_type": "code",
      "metadata": {
        "id": "54i9_95vIWOj"
      },
      "source": [
        "# PandaSQL does not like column names with spaces. So we will rename (some of) them.\n",
        "restaurants.rename(columns={\"VIOLATION CODE\": \"VIOLATION\"}, inplace = True)"
      ],
      "execution_count": null,
      "outputs": []
    },
    {
      "cell_type": "code",
      "metadata": {
        "id": "PsXR9JwTIWOk"
      },
      "source": [
        "rest = restaurants[[\"DBA\", \"BORO\", \"VIOLATION\", \"SCORE\"]]\n",
        "# only take first 5000 as an example, SEEMS TO BLOW UP AT AROUND 7500\n",
        "nrest=rest.head(50000)"
      ],
      "execution_count": null,
      "outputs": []
    },
    {
      "cell_type": "code",
      "metadata": {
        "id": "7IaYwWfzIWOk"
      },
      "source": [
        "q  = \"\"\"\n",
        "SELECT BORO, VIOLATION, COUNT(*) AS CNT \n",
        "FROM\n",
        "  nrest\n",
        "GROUP BY BORO, VIOLATION\n",
        "ORDER BY CNT DESC\n",
        "LIMIT 20;\n",
        "\"\"\"\n",
        "\n",
        "df = sqldf(q, globals())"
      ],
      "execution_count": null,
      "outputs": []
    },
    {
      "cell_type": "code",
      "metadata": {
        "id": "rMOOc9wJIWOk"
      },
      "source": [
        "df"
      ],
      "execution_count": null,
      "outputs": []
    },
    {
      "cell_type": "code",
      "metadata": {
        "id": "_lGEtZCvIWOk"
      },
      "source": [
        "q  = \"\"\"\n",
        "SELECT SCORE, COUNT(*) AS CNT \n",
        "FROM\n",
        "  nrest\n",
        "GROUP BY SCORE\n",
        "ORDER BY SCORE\n",
        "\"\"\"\n",
        "\n",
        "df = sqldf(q, globals())"
      ],
      "execution_count": null,
      "outputs": []
    },
    {
      "cell_type": "code",
      "metadata": {
        "id": "M4OoRLcqIWOk"
      },
      "source": [
        "df"
      ],
      "execution_count": null,
      "outputs": []
    },
    {
      "cell_type": "code",
      "metadata": {
        "id": "Q0ds5jjVIWOl"
      },
      "source": [
        "df.plot(kind='scatter', s=50, x=\"SCORE\", y=\"CNT\", xlim=(0,30))"
      ],
      "execution_count": null,
      "outputs": []
    },
    {
      "cell_type": "code",
      "metadata": {
        "id": "KFlxXR6LIWOl"
      },
      "source": [
        ""
      ],
      "execution_count": null,
      "outputs": []
    },
    {
      "cell_type": "code",
      "metadata": {
        "id": "nCDuPUCjIWOl"
      },
      "source": [
        ""
      ],
      "execution_count": null,
      "outputs": []
    }
  ]
}