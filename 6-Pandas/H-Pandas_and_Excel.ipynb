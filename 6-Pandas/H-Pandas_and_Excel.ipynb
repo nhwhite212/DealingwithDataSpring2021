{
  "nbformat": 4,
  "nbformat_minor": 0,
  "metadata": {
    "kernelspec": {
      "display_name": "Python 3",
      "language": "python",
      "name": "python3"
    },
    "language_info": {
      "codemirror_mode": {
        "name": "ipython",
        "version": 3
      },
      "file_extension": ".py",
      "mimetype": "text/x-python",
      "name": "python",
      "nbconvert_exporter": "python",
      "pygments_lexer": "ipython3",
      "version": "3.5.2"
    },
    "colab": {
      "name": "H-Pandas_and_Excel.ipynb",
      "provenance": [],
      "collapsed_sections": [],
      "include_colab_link": true
    }
  },
  "cells": [
    {
      "cell_type": "markdown",
      "metadata": {
        "id": "view-in-github",
        "colab_type": "text"
      },
      "source": [
        "<a href=\"https://colab.research.google.com/github/nhwhite212/DealingwithDataSpring2021/blob/master/6-Pandas/H-Pandas_and_Excel.ipynb\" target=\"_parent\"><img src=\"https://colab.research.google.com/assets/colab-badge.svg\" alt=\"Open In Colab\"/></a>"
      ]
    },
    {
      "cell_type": "markdown",
      "metadata": {
        "deletable": true,
        "editable": true,
        "id": "MUw5wVZ4SJHy"
      },
      "source": [
        "## Reading Excel files\n",
        "\n",
        "Pandas make it trivially easy to read the contents of Excel files. For example, I stored the restaurant inspection dataset as an excel file. Let's grab it and get it stored locally:"
      ]
    },
    {
      "cell_type": "markdown",
      "metadata": {
        "deletable": true,
        "editable": true,
        "id": "nBOhImLOSJH4"
      },
      "source": [
        "To read the Excel file, pandas uses the xlrd package. It is already installed in your machine, but if not, then type this in the shell:"
      ]
    },
    {
      "cell_type": "code",
      "metadata": {
        "id": "0v1KwDObSJH4",
        "colab": {
          "base_uri": "https://localhost:8080/"
        },
        "outputId": "79eeb05e-9f78-42e7-d00b-9e8a40a6f66e"
      },
      "source": [
        "!sudo -H pip3 install xlrd"
      ],
      "execution_count": 1,
      "outputs": [
        {
          "output_type": "stream",
          "text": [
            "Requirement already satisfied: xlrd in /usr/local/lib/python3.7/dist-packages (1.1.0)\n"
          ],
          "name": "stdout"
        }
      ]
    },
    {
      "cell_type": "markdown",
      "metadata": {
        "id": "-iBa3wGkWfhw"
      },
      "source": [
        "### xlrd is only one of several python libraries to read and write excel files, there is also openpyxl, xlsxwriter pyxlsb pylightxl,xlwt, ...\n",
        "#### You can also write Excel add-ins in Python, see pyXLL and xlwings\n",
        "\n",
        "\n"
      ]
    },
    {
      "cell_type": "code",
      "metadata": {
        "deletable": true,
        "editable": true,
        "id": "7pfMxWBcSJH5",
        "colab": {
          "base_uri": "https://localhost:8080/"
        },
        "outputId": "79f076ff-3bf2-447a-ee9d-f5b7513363cd"
      },
      "source": [
        "import pandas as pd\n",
        "!mkdir data\n",
        "!curl http://people.stern.nyu.edu/nwhite/DealingwithDataSpring2021/data/restaurant.xlsx -o data/restaurant.xlsx\n"
      ],
      "execution_count": 3,
      "outputs": [
        {
          "output_type": "stream",
          "text": [
            "mkdir: cannot create directory ‘data’: File exists\n",
            "  % Total    % Received % Xferd  Average Speed   Time    Time     Time  Current\n",
            "                                 Dload  Upload   Total   Spent    Left  Speed\n",
            "100 40.2M  100 40.2M    0     0   951k      0  0:00:43  0:00:43 --:--:--  947k\n"
          ],
          "name": "stdout"
        }
      ]
    },
    {
      "cell_type": "code",
      "metadata": {
        "id": "MqU6yGdlXMZW"
      },
      "source": [
        ""
      ],
      "execution_count": null,
      "outputs": []
    },
    {
      "cell_type": "markdown",
      "metadata": {
        "id": "ZMMgFDx6Ub7M"
      },
      "source": [
        "#### we now create a dataframe created from the excel file, lets look at it (It only reads the first sheet)\n"
      ]
    },
    {
      "cell_type": "code",
      "metadata": {
        "id": "wlLz0khbVSp-"
      },
      "source": [
        "xdf=pd.read_excel('data/restaurant.xlsx',sheet_name=None)"
      ],
      "execution_count": 15,
      "outputs": []
    },
    {
      "cell_type": "markdown",
      "metadata": {
        "id": "lMi2O29lY8z4"
      },
      "source": [
        "### Excel can have multiple worksheets, read_execl defaults to sheet0, but 'None' brings in them all, into a dictionary with keys for each sheet"
      ]
    },
    {
      "cell_type": "code",
      "metadata": {
        "colab": {
          "base_uri": "https://localhost:8080/"
        },
        "id": "nsfXUdMvVush",
        "outputId": "7858bb82-f790-498d-859a-b4e80e11fb90"
      },
      "source": [
        "xdf.keys()"
      ],
      "execution_count": 19,
      "outputs": [
        {
          "output_type": "execute_result",
          "data": {
            "text/plain": [
              "dict_keys(['WebExtract', 'Violation', 'Action', 'Cuisine'])"
            ]
          },
          "metadata": {
            "tags": []
          },
          "execution_count": 19
        }
      ]
    },
    {
      "cell_type": "code",
      "metadata": {
        "colab": {
          "base_uri": "https://localhost:8080/",
          "height": 424
        },
        "id": "7jz_llr-ZhZM",
        "outputId": "7402fc82-e828-4928-c95a-606b01fa228d"
      },
      "source": [
        "xdf['Cuisine']"
      ],
      "execution_count": 20,
      "outputs": [
        {
          "output_type": "execute_result",
          "data": {
            "text/html": [
              "<div>\n",
              "<style scoped>\n",
              "    .dataframe tbody tr th:only-of-type {\n",
              "        vertical-align: middle;\n",
              "    }\n",
              "\n",
              "    .dataframe tbody tr th {\n",
              "        vertical-align: top;\n",
              "    }\n",
              "\n",
              "    .dataframe thead th {\n",
              "        text-align: right;\n",
              "    }\n",
              "</style>\n",
              "<table border=\"1\" class=\"dataframe\">\n",
              "  <thead>\n",
              "    <tr style=\"text-align: right;\">\n",
              "      <th></th>\n",
              "      <th>CUISINECODE</th>\n",
              "      <th>CODEDESC</th>\n",
              "    </tr>\n",
              "  </thead>\n",
              "  <tbody>\n",
              "    <tr>\n",
              "      <th>0</th>\n",
              "      <td>2</td>\n",
              "      <td>African</td>\n",
              "    </tr>\n",
              "    <tr>\n",
              "      <th>1</th>\n",
              "      <td>3</td>\n",
              "      <td>American</td>\n",
              "    </tr>\n",
              "    <tr>\n",
              "      <th>2</th>\n",
              "      <td>5</td>\n",
              "      <td>Asian</td>\n",
              "    </tr>\n",
              "    <tr>\n",
              "      <th>3</th>\n",
              "      <td>15</td>\n",
              "      <td>Cajun</td>\n",
              "    </tr>\n",
              "    <tr>\n",
              "      <th>4</th>\n",
              "      <td>17</td>\n",
              "      <td>Caribbean</td>\n",
              "    </tr>\n",
              "    <tr>\n",
              "      <th>...</th>\n",
              "      <td>...</td>\n",
              "      <td>...</td>\n",
              "    </tr>\n",
              "    <tr>\n",
              "      <th>80</th>\n",
              "      <td>80</td>\n",
              "      <td>Tapas</td>\n",
              "    </tr>\n",
              "    <tr>\n",
              "      <th>81</th>\n",
              "      <td>81</td>\n",
              "      <td>Tex-Mex</td>\n",
              "    </tr>\n",
              "    <tr>\n",
              "      <th>82</th>\n",
              "      <td>83</td>\n",
              "      <td>Turkish</td>\n",
              "    </tr>\n",
              "    <tr>\n",
              "      <th>83</th>\n",
              "      <td>84</td>\n",
              "      <td>Vegetarian</td>\n",
              "    </tr>\n",
              "    <tr>\n",
              "      <th>84</th>\n",
              "      <td>0</td>\n",
              "      <td>Not Listed/Not Applicable</td>\n",
              "    </tr>\n",
              "  </tbody>\n",
              "</table>\n",
              "<p>85 rows × 2 columns</p>\n",
              "</div>"
            ],
            "text/plain": [
              "    CUISINECODE                   CODEDESC\n",
              "0             2                    African\n",
              "1             3                  American \n",
              "2             5                      Asian\n",
              "3            15                      Cajun\n",
              "4            17                  Caribbean\n",
              "..          ...                        ...\n",
              "80           80                      Tapas\n",
              "81           81                    Tex-Mex\n",
              "82           83                    Turkish\n",
              "83           84                 Vegetarian\n",
              "84            0  Not Listed/Not Applicable\n",
              "\n",
              "[85 rows x 2 columns]"
            ]
          },
          "metadata": {
            "tags": []
          },
          "execution_count": 20
        }
      ]
    },
    {
      "cell_type": "code",
      "metadata": {
        "colab": {
          "base_uri": "https://localhost:8080/",
          "height": 424
        },
        "id": "pvXIQim4UnZR",
        "outputId": "a3d094af-6cbf-4eb7-cf0c-4a8012853b8b"
      },
      "source": [
        "dfcuisine=pd.DataFrame.from_dict(xdf['Cuisine'])\n",
        "dfcuisine"
      ],
      "execution_count": 26,
      "outputs": [
        {
          "output_type": "execute_result",
          "data": {
            "text/html": [
              "<div>\n",
              "<style scoped>\n",
              "    .dataframe tbody tr th:only-of-type {\n",
              "        vertical-align: middle;\n",
              "    }\n",
              "\n",
              "    .dataframe tbody tr th {\n",
              "        vertical-align: top;\n",
              "    }\n",
              "\n",
              "    .dataframe thead th {\n",
              "        text-align: right;\n",
              "    }\n",
              "</style>\n",
              "<table border=\"1\" class=\"dataframe\">\n",
              "  <thead>\n",
              "    <tr style=\"text-align: right;\">\n",
              "      <th></th>\n",
              "      <th>CUISINECODE</th>\n",
              "      <th>CODEDESC</th>\n",
              "    </tr>\n",
              "  </thead>\n",
              "  <tbody>\n",
              "    <tr>\n",
              "      <th>0</th>\n",
              "      <td>2</td>\n",
              "      <td>African</td>\n",
              "    </tr>\n",
              "    <tr>\n",
              "      <th>1</th>\n",
              "      <td>3</td>\n",
              "      <td>American</td>\n",
              "    </tr>\n",
              "    <tr>\n",
              "      <th>2</th>\n",
              "      <td>5</td>\n",
              "      <td>Asian</td>\n",
              "    </tr>\n",
              "    <tr>\n",
              "      <th>3</th>\n",
              "      <td>15</td>\n",
              "      <td>Cajun</td>\n",
              "    </tr>\n",
              "    <tr>\n",
              "      <th>4</th>\n",
              "      <td>17</td>\n",
              "      <td>Caribbean</td>\n",
              "    </tr>\n",
              "    <tr>\n",
              "      <th>...</th>\n",
              "      <td>...</td>\n",
              "      <td>...</td>\n",
              "    </tr>\n",
              "    <tr>\n",
              "      <th>80</th>\n",
              "      <td>80</td>\n",
              "      <td>Tapas</td>\n",
              "    </tr>\n",
              "    <tr>\n",
              "      <th>81</th>\n",
              "      <td>81</td>\n",
              "      <td>Tex-Mex</td>\n",
              "    </tr>\n",
              "    <tr>\n",
              "      <th>82</th>\n",
              "      <td>83</td>\n",
              "      <td>Turkish</td>\n",
              "    </tr>\n",
              "    <tr>\n",
              "      <th>83</th>\n",
              "      <td>84</td>\n",
              "      <td>Vegetarian</td>\n",
              "    </tr>\n",
              "    <tr>\n",
              "      <th>84</th>\n",
              "      <td>0</td>\n",
              "      <td>Not Listed/Not Applicable</td>\n",
              "    </tr>\n",
              "  </tbody>\n",
              "</table>\n",
              "<p>85 rows × 2 columns</p>\n",
              "</div>"
            ],
            "text/plain": [
              "    CUISINECODE                   CODEDESC\n",
              "0             2                    African\n",
              "1             3                  American \n",
              "2             5                      Asian\n",
              "3            15                      Cajun\n",
              "4            17                  Caribbean\n",
              "..          ...                        ...\n",
              "80           80                      Tapas\n",
              "81           81                    Tex-Mex\n",
              "82           83                    Turkish\n",
              "83           84                 Vegetarian\n",
              "84            0  Not Listed/Not Applicable\n",
              "\n",
              "[85 rows x 2 columns]"
            ]
          },
          "metadata": {
            "tags": []
          },
          "execution_count": 26
        }
      ]
    },
    {
      "cell_type": "markdown",
      "metadata": {
        "deletable": true,
        "editable": true,
        "id": "DyYPvsiYSJH6"
      },
      "source": [
        "Read the worksheet named \"WebExtract\""
      ]
    },
    {
      "cell_type": "markdown",
      "metadata": {
        "id": "5NjnDhGrbJDd"
      },
      "source": [
        "### Or, we can use the ExcelFile method to read all the sheets\n"
      ]
    },
    {
      "cell_type": "code",
      "metadata": {
        "id": "kNcGgFc-bgss"
      },
      "source": [
        "restaurantsExcelFile = pd.ExcelFile(\"data/restaurant.xlsx\")"
      ],
      "execution_count": 27,
      "outputs": []
    },
    {
      "cell_type": "code",
      "metadata": {
        "deletable": true,
        "editable": true,
        "id": "GcaHAYH7SJH6"
      },
      "source": [
        "tableWebExtract = restaurantsExcelFile.parse(sheetname=\"WebExtract\");"
      ],
      "execution_count": 28,
      "outputs": []
    },
    {
      "cell_type": "code",
      "metadata": {
        "deletable": true,
        "editable": true,
        "id": "IU2EzpySSJH7"
      },
      "source": [
        "tableViolationCodes = restaurantsExcelFile.parse(sheetname='Violation');"
      ],
      "execution_count": 29,
      "outputs": []
    },
    {
      "cell_type": "code",
      "metadata": {
        "deletable": true,
        "editable": true,
        "id": "9rUTKKtMSJH7",
        "colab": {
          "base_uri": "https://localhost:8080/"
        },
        "outputId": "4ca9cf9f-c1b6-4d4f-ed4a-d918c2793207"
      },
      "source": [
        "tableWebExtract.dtypes"
      ],
      "execution_count": 13,
      "outputs": [
        {
          "output_type": "execute_result",
          "data": {
            "text/plain": [
              "CAMIS                    int64\n",
              "DBA                     object\n",
              "BORO                     int64\n",
              "BUILDING                object\n",
              "STREET                  object\n",
              "ZIPCODE                float64\n",
              "PHONE                   object\n",
              "CUISINECODE              int64\n",
              "INSPDATE        datetime64[ns]\n",
              "ACTION                  object\n",
              "VIOLCODE                object\n",
              "SCORE                  float64\n",
              "CURRENTGRADE            object\n",
              "GRADEDATE       datetime64[ns]\n",
              "RECORDDATE      datetime64[ns]\n",
              "dtype: object"
            ]
          },
          "metadata": {
            "tags": []
          },
          "execution_count": 13
        }
      ]
    },
    {
      "cell_type": "code",
      "metadata": {
        "deletable": true,
        "editable": true,
        "id": "xwnTE6JxSJH8",
        "colab": {
          "base_uri": "https://localhost:8080/",
          "height": 424
        },
        "outputId": "81d86943-124e-40bc-82a7-1930ae0c5345"
      },
      "source": [
        "tableViolationCodes"
      ],
      "execution_count": 14,
      "outputs": [
        {
          "output_type": "execute_result",
          "data": {
            "text/html": [
              "<div>\n",
              "<style scoped>\n",
              "    .dataframe tbody tr th:only-of-type {\n",
              "        vertical-align: middle;\n",
              "    }\n",
              "\n",
              "    .dataframe tbody tr th {\n",
              "        vertical-align: top;\n",
              "    }\n",
              "\n",
              "    .dataframe thead th {\n",
              "        text-align: right;\n",
              "    }\n",
              "</style>\n",
              "<table border=\"1\" class=\"dataframe\">\n",
              "  <thead>\n",
              "    <tr style=\"text-align: right;\">\n",
              "      <th></th>\n",
              "      <th>CAMIS</th>\n",
              "      <th>DBA</th>\n",
              "      <th>BORO</th>\n",
              "      <th>BUILDING</th>\n",
              "      <th>STREET</th>\n",
              "      <th>ZIPCODE</th>\n",
              "      <th>PHONE</th>\n",
              "      <th>CUISINECODE</th>\n",
              "      <th>INSPDATE</th>\n",
              "      <th>ACTION</th>\n",
              "      <th>VIOLCODE</th>\n",
              "      <th>SCORE</th>\n",
              "      <th>CURRENTGRADE</th>\n",
              "      <th>GRADEDATE</th>\n",
              "      <th>RECORDDATE</th>\n",
              "    </tr>\n",
              "  </thead>\n",
              "  <tbody>\n",
              "    <tr>\n",
              "      <th>0</th>\n",
              "      <td>30191841</td>\n",
              "      <td>DJ REYNOLDS PUB AND RESTAURANT</td>\n",
              "      <td>1</td>\n",
              "      <td>351</td>\n",
              "      <td>WEST 57 STREET</td>\n",
              "      <td>10019.0</td>\n",
              "      <td>2122452912</td>\n",
              "      <td>47</td>\n",
              "      <td>2014-09-06</td>\n",
              "      <td>D</td>\n",
              "      <td>10F</td>\n",
              "      <td>2.0</td>\n",
              "      <td>A</td>\n",
              "      <td>2014-09-06</td>\n",
              "      <td>2014-09-11 06:01:26.563</td>\n",
              "    </tr>\n",
              "    <tr>\n",
              "      <th>1</th>\n",
              "      <td>40356068</td>\n",
              "      <td>TOV KOSHER KITCHEN</td>\n",
              "      <td>4</td>\n",
              "      <td>97-22</td>\n",
              "      <td>63 ROAD</td>\n",
              "      <td>11374.0</td>\n",
              "      <td>7188967788</td>\n",
              "      <td>50</td>\n",
              "      <td>2013-01-17</td>\n",
              "      <td>D</td>\n",
              "      <td>02B</td>\n",
              "      <td>13.0</td>\n",
              "      <td>Z</td>\n",
              "      <td>2013-01-17</td>\n",
              "      <td>2014-09-11 06:01:26.563</td>\n",
              "    </tr>\n",
              "    <tr>\n",
              "      <th>2</th>\n",
              "      <td>40356483</td>\n",
              "      <td>WILKEN'S FINE FOOD</td>\n",
              "      <td>3</td>\n",
              "      <td>7114</td>\n",
              "      <td>AVENUE U</td>\n",
              "      <td>11234.0</td>\n",
              "      <td>7184443838</td>\n",
              "      <td>27</td>\n",
              "      <td>2014-05-29</td>\n",
              "      <td>D</td>\n",
              "      <td>04M</td>\n",
              "      <td>10.0</td>\n",
              "      <td>A</td>\n",
              "      <td>2014-05-29</td>\n",
              "      <td>2014-09-11 06:01:26.563</td>\n",
              "    </tr>\n",
              "    <tr>\n",
              "      <th>3</th>\n",
              "      <td>40356731</td>\n",
              "      <td>TASTE THE TROPICS ICE CREAM</td>\n",
              "      <td>3</td>\n",
              "      <td>1839</td>\n",
              "      <td>NOSTRAND AVENUE                               ...</td>\n",
              "      <td>11226.0</td>\n",
              "      <td>7188560821</td>\n",
              "      <td>43</td>\n",
              "      <td>2014-07-14</td>\n",
              "      <td>D</td>\n",
              "      <td>10F</td>\n",
              "      <td>12.0</td>\n",
              "      <td>A</td>\n",
              "      <td>2014-07-14</td>\n",
              "      <td>2014-09-11 06:01:26.563</td>\n",
              "    </tr>\n",
              "    <tr>\n",
              "      <th>4</th>\n",
              "      <td>30112340</td>\n",
              "      <td>WENDY'S</td>\n",
              "      <td>3</td>\n",
              "      <td>469</td>\n",
              "      <td>FLATBUSH AVENUE</td>\n",
              "      <td>11225.0</td>\n",
              "      <td>7182875005</td>\n",
              "      <td>39</td>\n",
              "      <td>2014-07-01</td>\n",
              "      <td>F</td>\n",
              "      <td>04J</td>\n",
              "      <td>23.0</td>\n",
              "      <td>B</td>\n",
              "      <td>2014-07-01</td>\n",
              "      <td>2014-09-11 06:01:26.563</td>\n",
              "    </tr>\n",
              "    <tr>\n",
              "      <th>...</th>\n",
              "      <td>...</td>\n",
              "      <td>...</td>\n",
              "      <td>...</td>\n",
              "      <td>...</td>\n",
              "      <td>...</td>\n",
              "      <td>...</td>\n",
              "      <td>...</td>\n",
              "      <td>...</td>\n",
              "      <td>...</td>\n",
              "      <td>...</td>\n",
              "      <td>...</td>\n",
              "      <td>...</td>\n",
              "      <td>...</td>\n",
              "      <td>...</td>\n",
              "      <td>...</td>\n",
              "    </tr>\n",
              "    <tr>\n",
              "      <th>531888</th>\n",
              "      <td>30075445</td>\n",
              "      <td>MORRIS PARK BAKE SHOP</td>\n",
              "      <td>2</td>\n",
              "      <td>1007</td>\n",
              "      <td>MORRIS PARK AVE                               ...</td>\n",
              "      <td>10462.0</td>\n",
              "      <td>7188924968</td>\n",
              "      <td>8</td>\n",
              "      <td>2013-01-24</td>\n",
              "      <td>B</td>\n",
              "      <td>NaN</td>\n",
              "      <td>NaN</td>\n",
              "      <td>NaN</td>\n",
              "      <td>NaT</td>\n",
              "      <td>2014-09-11 06:01:35.723</td>\n",
              "    </tr>\n",
              "    <tr>\n",
              "      <th>531889</th>\n",
              "      <td>40356018</td>\n",
              "      <td>RIVIERA CATERER</td>\n",
              "      <td>3</td>\n",
              "      <td>2780</td>\n",
              "      <td>STILLWELL AVENUE</td>\n",
              "      <td>11224.0</td>\n",
              "      <td>7183723031</td>\n",
              "      <td>3</td>\n",
              "      <td>2012-02-15</td>\n",
              "      <td>B</td>\n",
              "      <td>NaN</td>\n",
              "      <td>NaN</td>\n",
              "      <td>NaN</td>\n",
              "      <td>NaT</td>\n",
              "      <td>2014-09-11 06:01:35.723</td>\n",
              "    </tr>\n",
              "    <tr>\n",
              "      <th>531890</th>\n",
              "      <td>40363021</td>\n",
              "      <td>DOWNTOWN DELI</td>\n",
              "      <td>1</td>\n",
              "      <td>107</td>\n",
              "      <td>CHURCH STREET</td>\n",
              "      <td>10007.0</td>\n",
              "      <td>2122332911</td>\n",
              "      <td>3</td>\n",
              "      <td>2014-01-21</td>\n",
              "      <td>B</td>\n",
              "      <td>NaN</td>\n",
              "      <td>NaN</td>\n",
              "      <td>NaN</td>\n",
              "      <td>NaT</td>\n",
              "      <td>2014-09-11 06:01:35.723</td>\n",
              "    </tr>\n",
              "    <tr>\n",
              "      <th>531891</th>\n",
              "      <td>40364304</td>\n",
              "      <td>TEXAS ROTISSERIE</td>\n",
              "      <td>1</td>\n",
              "      <td>94</td>\n",
              "      <td>FULTON STREET                                 ...</td>\n",
              "      <td>10038.0</td>\n",
              "      <td>2125666666</td>\n",
              "      <td>18</td>\n",
              "      <td>2012-09-24</td>\n",
              "      <td>B</td>\n",
              "      <td>NaN</td>\n",
              "      <td>NaN</td>\n",
              "      <td>NaN</td>\n",
              "      <td>NaT</td>\n",
              "      <td>2014-09-11 06:01:35.723</td>\n",
              "    </tr>\n",
              "    <tr>\n",
              "      <th>531892</th>\n",
              "      <td>40365499</td>\n",
              "      <td>YANKEE TAVERN</td>\n",
              "      <td>2</td>\n",
              "      <td>72</td>\n",
              "      <td>EAST  161 STREET                              ...</td>\n",
              "      <td>10451.0</td>\n",
              "      <td>7182926130</td>\n",
              "      <td>3</td>\n",
              "      <td>2012-05-22</td>\n",
              "      <td>B</td>\n",
              "      <td>NaN</td>\n",
              "      <td>NaN</td>\n",
              "      <td>NaN</td>\n",
              "      <td>NaT</td>\n",
              "      <td>2014-09-11 06:01:35.723</td>\n",
              "    </tr>\n",
              "  </tbody>\n",
              "</table>\n",
              "<p>531893 rows × 15 columns</p>\n",
              "</div>"
            ],
            "text/plain": [
              "           CAMIS  ...              RECORDDATE\n",
              "0       30191841  ... 2014-09-11 06:01:26.563\n",
              "1       40356068  ... 2014-09-11 06:01:26.563\n",
              "2       40356483  ... 2014-09-11 06:01:26.563\n",
              "3       40356731  ... 2014-09-11 06:01:26.563\n",
              "4       30112340  ... 2014-09-11 06:01:26.563\n",
              "...          ...  ...                     ...\n",
              "531888  30075445  ... 2014-09-11 06:01:35.723\n",
              "531889  40356018  ... 2014-09-11 06:01:35.723\n",
              "531890  40363021  ... 2014-09-11 06:01:35.723\n",
              "531891  40364304  ... 2014-09-11 06:01:35.723\n",
              "531892  40365499  ... 2014-09-11 06:01:35.723\n",
              "\n",
              "[531893 rows x 15 columns]"
            ]
          },
          "metadata": {
            "tags": []
          },
          "execution_count": 14
        }
      ]
    },
    {
      "cell_type": "code",
      "metadata": {
        "collapsed": true,
        "deletable": true,
        "editable": true,
        "id": "2wZeXeq2SJH8"
      },
      "source": [
        ""
      ],
      "execution_count": null,
      "outputs": []
    }
  ]
}