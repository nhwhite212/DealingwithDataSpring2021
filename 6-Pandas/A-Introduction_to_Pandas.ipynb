{
  "nbformat": 4,
  "nbformat_minor": 0,
  "metadata": {
    "kernelspec": {
      "display_name": "Python 3",
      "language": "python",
      "name": "python3"
    },
    "language_info": {
      "codemirror_mode": {
        "name": "ipython",
        "version": 3
      },
      "file_extension": ".py",
      "mimetype": "text/x-python",
      "name": "python",
      "nbconvert_exporter": "python",
      "pygments_lexer": "ipython3",
      "version": "3.6.8"
    },
    "colab": {
      "name": "A-Introduction_to_Pandas.ipynb",
      "provenance": [],
      "collapsed_sections": [],
      "include_colab_link": true
    }
  },
  "cells": [
    {
      "cell_type": "markdown",
      "metadata": {
        "id": "view-in-github",
        "colab_type": "text"
      },
      "source": [
        "<a href=\"https://colab.research.google.com/github/nhwhite212/DealingwithDataSpring2021/blob/master/6-Pandas/A-Introduction_to_Pandas.ipynb\" target=\"_parent\"><img src=\"https://colab.research.google.com/assets/colab-badge.svg\" alt=\"Open In Colab\"/></a>"
      ]
    },
    {
      "cell_type": "markdown",
      "metadata": {
        "id": "3VcUScgN12qo"
      },
      "source": [
        "We start this notebook by typing a \"magic\" command that allows iPython notebooks to display plots directly in the browser."
      ]
    },
    {
      "cell_type": "code",
      "metadata": {
        "id": "00v9uc2n12qq"
      },
      "source": [
        "# Render our plots inline\n",
        "%matplotlib inline\n"
      ],
      "execution_count": 1,
      "outputs": []
    },
    {
      "cell_type": "markdown",
      "metadata": {
        "id": "MXIo-vO912qr"
      },
      "source": [
        "In order to read and process files, we are going to use a very powerful, and widely used Python library, called pandas. So, our next step is to import the pandas library in Python, and also import the library matplotlib for generating plots:"
      ]
    },
    {
      "cell_type": "code",
      "metadata": {
        "id": "DnHwL2G612qs"
      },
      "source": [
        "import pandas as pd\n",
        "import matplotlib\n",
        "import matplotlib.pyplot as plt"
      ],
      "execution_count": 2,
      "outputs": []
    },
    {
      "cell_type": "markdown",
      "metadata": {
        "id": "EOKJCIMa12qs"
      },
      "source": [
        "Pandas should already be installed on your machine, but if you get an error in the import statement above, indicating that pandas is not available, please uncomment the following command and execute:"
      ]
    },
    {
      "cell_type": "code",
      "metadata": {
        "id": "h1gPTq4v12qt"
      },
      "source": [
        "#!sudo python3 -m pip install -U pandas"
      ],
      "execution_count": 3,
      "outputs": []
    },
    {
      "cell_type": "markdown",
      "metadata": {
        "id": "-GXlU4_w12qu"
      },
      "source": [
        "And we type some code to simply change the visual style of the plots. (The code below is optional and not necessary, and for now you do not need to understand what exactly is happening.)"
      ]
    },
    {
      "cell_type": "code",
      "metadata": {
        "id": "116RJkRR12qv"
      },
      "source": [
        "# Make the graphs a bit bigger\n",
        "matplotlib.style.use(['seaborn-talk', 'seaborn-ticks', 'seaborn-whitegrid'])"
      ],
      "execution_count": 4,
      "outputs": []
    },
    {
      "cell_type": "markdown",
      "metadata": {
        "id": "FVlv3gdQ12qw"
      },
      "source": [
        "### Basic Example: Creating a DataFrame from Scratch\n",
        "\n",
        "This is an example of creating a dataframe by passing a list of dictionaries."
      ]
    },
    {
      "cell_type": "code",
      "metadata": {
        "id": "06dfoN_r12qx"
      },
      "source": [
        "df = pd.DataFrame([ \n",
        "    {\"First Name\": \"Norman\", \"Last Name\":\" White\"},\n",
        "    {\"First Name\": \"John\", \"Last Name\":\" Doe\"},\n",
        "    {\"Last Name\":\"Trump\"}\n",
        "])\n"
      ],
      "execution_count": 5,
      "outputs": []
    },
    {
      "cell_type": "code",
      "metadata": {
        "id": "NJ1NIHIf12qy",
        "colab": {
          "base_uri": "https://localhost:8080/",
          "height": 143
        },
        "outputId": "8548e535-43af-4059-b1da-c6e061764048"
      },
      "source": [
        "df"
      ],
      "execution_count": 6,
      "outputs": [
        {
          "output_type": "execute_result",
          "data": {
            "text/html": [
              "<div>\n",
              "<style scoped>\n",
              "    .dataframe tbody tr th:only-of-type {\n",
              "        vertical-align: middle;\n",
              "    }\n",
              "\n",
              "    .dataframe tbody tr th {\n",
              "        vertical-align: top;\n",
              "    }\n",
              "\n",
              "    .dataframe thead th {\n",
              "        text-align: right;\n",
              "    }\n",
              "</style>\n",
              "<table border=\"1\" class=\"dataframe\">\n",
              "  <thead>\n",
              "    <tr style=\"text-align: right;\">\n",
              "      <th></th>\n",
              "      <th>First Name</th>\n",
              "      <th>Last Name</th>\n",
              "    </tr>\n",
              "  </thead>\n",
              "  <tbody>\n",
              "    <tr>\n",
              "      <th>0</th>\n",
              "      <td>Norman</td>\n",
              "      <td>White</td>\n",
              "    </tr>\n",
              "    <tr>\n",
              "      <th>1</th>\n",
              "      <td>John</td>\n",
              "      <td>Doe</td>\n",
              "    </tr>\n",
              "    <tr>\n",
              "      <th>2</th>\n",
              "      <td>NaN</td>\n",
              "      <td>Trump</td>\n",
              "    </tr>\n",
              "  </tbody>\n",
              "</table>\n",
              "</div>"
            ],
            "text/plain": [
              "  First Name Last Name\n",
              "0     Norman     White\n",
              "1       John       Doe\n",
              "2        NaN     Trump"
            ]
          },
          "metadata": {
            "tags": []
          },
          "execution_count": 6
        }
      ]
    },
    {
      "cell_type": "markdown",
      "metadata": {
        "id": "ElxU1wJm12q1"
      },
      "source": [
        "### Reading Data Files"
      ]
    },
    {
      "cell_type": "markdown",
      "metadata": {
        "id": "zbAyitkC12q1"
      },
      "source": [
        "Let's take a look at the restaurant inspections file (at `data/restaurants.csv`), which we used in our earlier classes.\n",
        "\n",
        "If you do not have it, then uncomment and execute the following:"
      ]
    },
    {
      "cell_type": "code",
      "metadata": {
        "colab": {
          "base_uri": "https://localhost:8080/"
        },
        "id": "PzncAmAM7F25",
        "outputId": "750c718c-cbc0-499b-aae4-031af4cf4304"
      },
      "source": [
        "!mkdir data"
      ],
      "execution_count": 13,
      "outputs": [
        {
          "output_type": "stream",
          "text": [
            "mkdir: cannot create directory ‘data’: File exists\n"
          ],
          "name": "stdout"
        }
      ]
    },
    {
      "cell_type": "code",
      "metadata": {
        "id": "vb3Gvegb12q2",
        "colab": {
          "base_uri": "https://localhost:8080/"
        },
        "outputId": "2e594cd3-f44c-4d66-cfd3-e0a43f99967a"
      },
      "source": [
        "\n",
        "!curl 'http://people.stern.nyu.edu/nwhite/DealingwithDataSpring2021/data/restaurant.csv.gz' -o data/restaurant.csv.gz"
      ],
      "execution_count": 14,
      "outputs": [
        {
          "output_type": "stream",
          "text": [
            "  % Total    % Received % Xferd  Average Speed   Time    Time     Time  Current\n",
            "                                 Dload  Upload   Total   Spent    Left  Speed\n",
            "100 34.2M  100 34.2M    0     0   303k      0  0:01:55  0:01:55 --:--:--  303k\n"
          ],
          "name": "stdout"
        }
      ]
    },
    {
      "cell_type": "code",
      "metadata": {
        "id": "TJII1kgw12q2"
      },
      "source": [
        "# !rm data/restaurant.csv.gz\n",
        "# !gzip data/restaurant.csv"
      ],
      "execution_count": 9,
      "outputs": []
    },
    {
      "cell_type": "code",
      "metadata": {
        "id": "wdpTY9Qm12q2",
        "colab": {
          "base_uri": "https://localhost:8080/"
        },
        "outputId": "7c3be8e5-c56f-436a-d933-dfda813e9597"
      },
      "source": [
        "!gzip -cd data/restaurant.csv.gz | head -3"
      ],
      "execution_count": 15,
      "outputs": [
        {
          "output_type": "stream",
          "text": [
            "CAMIS,DBA,BORO,BUILDING,STREET,ZIPCODE,PHONE,CUISINE DESCRIPTION,INSPECTION DATE,ACTION,VIOLATION CODE,VIOLATION DESCRIPTION,CRITICAL FLAG,SCORE,GRADE,GRADE DATE,RECORD DATE,INSPECTION TYPE,Latitude,Longitude,Community Board,Council District,Census Tract,BIN,BBL,NTA\n",
            "40638039,LEGENDS BAR & GRILL,Queens,7104,35 AVENUE,11372,7188999553,American,03/25/2019,Violations were cited in the following area(s).,06D,\"Food contact surface not properly washed, rinsed and sanitized after each use and following any activity when contamination may have occurred.\",Y,10,A,03/25/2019,10/26/2019,Cycle Inspection / Initial Inspection,40.750719368488,-73.894733598464,403,25,029100,4029524,4012710101,QN28\n",
            "40577241,ROYAL BAKERY & ROTI SHOP,Brooklyn,618,NOSTRAND AVENUE,11216,7186040200,Caribbean,02/27/2017,Violations were cited in the following area(s).,08A,Facility not vermin proof. Harborage or conditions conducive to attracting vermin to the premises and/or allowing vermin to exist.,N,9,A,02/27/2017,10/26/2019,Cycle Inspection / Initial Inspection,40.677323126922,-73.949811619041,308,36,031500,3030003,3012060041,BK61\n"
          ],
          "name": "stdout"
        }
      ]
    },
    {
      "cell_type": "markdown",
      "metadata": {
        "id": "0mwIpFaK12q3"
      },
      "source": [
        "### Reading a CSV file"
      ]
    },
    {
      "cell_type": "markdown",
      "metadata": {
        "id": "_HVNZvwv12q3"
      },
      "source": [
        "We want to be able to read and process this file within Python. The pandas library has a very convenient method `read_csv` which reads the file, and returns back a variable that contains its contents."
      ]
    },
    {
      "cell_type": "code",
      "metadata": {
        "id": "ou1TP8ap12q3"
      },
      "source": [
        "import pandas as pd\n",
        "restaurants = pd.read_csv(\"data/restaurant.csv.gz\", encoding=\"utf-8\", dtype=\"unicode\")"
      ],
      "execution_count": 16,
      "outputs": []
    },
    {
      "cell_type": "markdown",
      "metadata": {
        "id": "r-YJaYDM12q3"
      },
      "source": [
        "When you read a CSV, you get back a kind of object called a DataFrame, which is made up of rows and columns. You get columns out of a DataFrame the same way you get elements out of a dictionary. Let's take a look at how the object looks like:"
      ]
    },
    {
      "cell_type": "code",
      "metadata": {
        "scrolled": true,
        "id": "Y9o4V3Jv12q4",
        "colab": {
          "base_uri": "https://localhost:8080/",
          "height": 678
        },
        "outputId": "439db553-6bb7-4616-8e62-7e5768209734"
      },
      "source": [
        "restaurants.head(5)"
      ],
      "execution_count": 17,
      "outputs": [
        {
          "output_type": "execute_result",
          "data": {
            "text/html": [
              "<div>\n",
              "<style scoped>\n",
              "    .dataframe tbody tr th:only-of-type {\n",
              "        vertical-align: middle;\n",
              "    }\n",
              "\n",
              "    .dataframe tbody tr th {\n",
              "        vertical-align: top;\n",
              "    }\n",
              "\n",
              "    .dataframe thead th {\n",
              "        text-align: right;\n",
              "    }\n",
              "</style>\n",
              "<table border=\"1\" class=\"dataframe\">\n",
              "  <thead>\n",
              "    <tr style=\"text-align: right;\">\n",
              "      <th></th>\n",
              "      <th>CAMIS</th>\n",
              "      <th>DBA</th>\n",
              "      <th>BORO</th>\n",
              "      <th>BUILDING</th>\n",
              "      <th>STREET</th>\n",
              "      <th>ZIPCODE</th>\n",
              "      <th>PHONE</th>\n",
              "      <th>CUISINE DESCRIPTION</th>\n",
              "      <th>INSPECTION DATE</th>\n",
              "      <th>ACTION</th>\n",
              "      <th>VIOLATION CODE</th>\n",
              "      <th>VIOLATION DESCRIPTION</th>\n",
              "      <th>CRITICAL FLAG</th>\n",
              "      <th>SCORE</th>\n",
              "      <th>GRADE</th>\n",
              "      <th>GRADE DATE</th>\n",
              "      <th>RECORD DATE</th>\n",
              "      <th>INSPECTION TYPE</th>\n",
              "      <th>Latitude</th>\n",
              "      <th>Longitude</th>\n",
              "      <th>Community Board</th>\n",
              "      <th>Council District</th>\n",
              "      <th>Census Tract</th>\n",
              "      <th>BIN</th>\n",
              "      <th>BBL</th>\n",
              "      <th>NTA</th>\n",
              "    </tr>\n",
              "  </thead>\n",
              "  <tbody>\n",
              "    <tr>\n",
              "      <th>0</th>\n",
              "      <td>40638039</td>\n",
              "      <td>LEGENDS BAR &amp; GRILL</td>\n",
              "      <td>Queens</td>\n",
              "      <td>7104</td>\n",
              "      <td>35 AVENUE</td>\n",
              "      <td>11372</td>\n",
              "      <td>7188999553</td>\n",
              "      <td>American</td>\n",
              "      <td>03/25/2019</td>\n",
              "      <td>Violations were cited in the following area(s).</td>\n",
              "      <td>06D</td>\n",
              "      <td>Food contact surface not properly washed, rins...</td>\n",
              "      <td>Y</td>\n",
              "      <td>10</td>\n",
              "      <td>A</td>\n",
              "      <td>03/25/2019</td>\n",
              "      <td>10/26/2019</td>\n",
              "      <td>Cycle Inspection / Initial Inspection</td>\n",
              "      <td>40.750719368488</td>\n",
              "      <td>-73.894733598464</td>\n",
              "      <td>403</td>\n",
              "      <td>25</td>\n",
              "      <td>029100</td>\n",
              "      <td>4029524</td>\n",
              "      <td>4012710101</td>\n",
              "      <td>QN28</td>\n",
              "    </tr>\n",
              "    <tr>\n",
              "      <th>1</th>\n",
              "      <td>40577241</td>\n",
              "      <td>ROYAL BAKERY &amp; ROTI SHOP</td>\n",
              "      <td>Brooklyn</td>\n",
              "      <td>618</td>\n",
              "      <td>NOSTRAND AVENUE</td>\n",
              "      <td>11216</td>\n",
              "      <td>7186040200</td>\n",
              "      <td>Caribbean</td>\n",
              "      <td>02/27/2017</td>\n",
              "      <td>Violations were cited in the following area(s).</td>\n",
              "      <td>08A</td>\n",
              "      <td>Facility not vermin proof. Harborage or condit...</td>\n",
              "      <td>N</td>\n",
              "      <td>9</td>\n",
              "      <td>A</td>\n",
              "      <td>02/27/2017</td>\n",
              "      <td>10/26/2019</td>\n",
              "      <td>Cycle Inspection / Initial Inspection</td>\n",
              "      <td>40.677323126922</td>\n",
              "      <td>-73.949811619041</td>\n",
              "      <td>308</td>\n",
              "      <td>36</td>\n",
              "      <td>031500</td>\n",
              "      <td>3030003</td>\n",
              "      <td>3012060041</td>\n",
              "      <td>BK61</td>\n",
              "    </tr>\n",
              "    <tr>\n",
              "      <th>2</th>\n",
              "      <td>50057781</td>\n",
              "      <td>BENS COOKIES</td>\n",
              "      <td>Manhattan</td>\n",
              "      <td>822</td>\n",
              "      <td>BROADWAY</td>\n",
              "      <td>10003</td>\n",
              "      <td>5164106172</td>\n",
              "      <td>Café/Coffee/Tea</td>\n",
              "      <td>12/20/2016</td>\n",
              "      <td>Violations were cited in the following area(s).</td>\n",
              "      <td>10F</td>\n",
              "      <td>Non-food contact surface improperly constructe...</td>\n",
              "      <td>N</td>\n",
              "      <td>8</td>\n",
              "      <td>A</td>\n",
              "      <td>12/20/2016</td>\n",
              "      <td>10/26/2019</td>\n",
              "      <td>Pre-permit (Operational) / Initial Inspection</td>\n",
              "      <td>40.733033400166</td>\n",
              "      <td>-73.991138128793</td>\n",
              "      <td>102</td>\n",
              "      <td>02</td>\n",
              "      <td>006100</td>\n",
              "      <td>1009001</td>\n",
              "      <td>1005570017</td>\n",
              "      <td>MN23</td>\n",
              "    </tr>\n",
              "    <tr>\n",
              "      <th>3</th>\n",
              "      <td>40542546</td>\n",
              "      <td>CUCCIOS BAKERY</td>\n",
              "      <td>Brooklyn</td>\n",
              "      <td>320</td>\n",
              "      <td>AVENUE X</td>\n",
              "      <td>11223</td>\n",
              "      <td>7183361944</td>\n",
              "      <td>Bakery</td>\n",
              "      <td>12/19/2017</td>\n",
              "      <td>Violations were cited in the following area(s).</td>\n",
              "      <td>10F</td>\n",
              "      <td>Non-food contact surface improperly constructe...</td>\n",
              "      <td>N</td>\n",
              "      <td>23</td>\n",
              "      <td>NaN</td>\n",
              "      <td>NaN</td>\n",
              "      <td>10/26/2019</td>\n",
              "      <td>Cycle Inspection / Initial Inspection</td>\n",
              "      <td>40.590414238221</td>\n",
              "      <td>-73.971289470632</td>\n",
              "      <td>315</td>\n",
              "      <td>47</td>\n",
              "      <td>037402</td>\n",
              "      <td>3195080</td>\n",
              "      <td>3071940010</td>\n",
              "      <td>BK26</td>\n",
              "    </tr>\n",
              "    <tr>\n",
              "      <th>4</th>\n",
              "      <td>41383250</td>\n",
              "      <td>OSAKA JAPANESE FUSION</td>\n",
              "      <td>Queens</td>\n",
              "      <td>2524</td>\n",
              "      <td>BROADWAY</td>\n",
              "      <td>11106</td>\n",
              "      <td>7187772662</td>\n",
              "      <td>Japanese</td>\n",
              "      <td>10/05/2016</td>\n",
              "      <td>Violations were cited in the following area(s).</td>\n",
              "      <td>08A</td>\n",
              "      <td>Facility not vermin proof. Harborage or condit...</td>\n",
              "      <td>N</td>\n",
              "      <td>11</td>\n",
              "      <td>A</td>\n",
              "      <td>10/05/2016</td>\n",
              "      <td>10/26/2019</td>\n",
              "      <td>Cycle Inspection / Re-inspection</td>\n",
              "      <td>40.76329423995</td>\n",
              "      <td>-73.928209921765</td>\n",
              "      <td>401</td>\n",
              "      <td>22</td>\n",
              "      <td>005300</td>\n",
              "      <td>4007160</td>\n",
              "      <td>4005800026</td>\n",
              "      <td>QN70</td>\n",
              "    </tr>\n",
              "  </tbody>\n",
              "</table>\n",
              "</div>"
            ],
            "text/plain": [
              "      CAMIS                       DBA       BORO  ...      BIN         BBL   NTA\n",
              "0  40638039       LEGENDS BAR & GRILL     Queens  ...  4029524  4012710101  QN28\n",
              "1  40577241  ROYAL BAKERY & ROTI SHOP   Brooklyn  ...  3030003  3012060041  BK61\n",
              "2  50057781              BENS COOKIES  Manhattan  ...  1009001  1005570017  MN23\n",
              "3  40542546            CUCCIOS BAKERY   Brooklyn  ...  3195080  3071940010  BK26\n",
              "4  41383250     OSAKA JAPANESE FUSION     Queens  ...  4007160  4005800026  QN70\n",
              "\n",
              "[5 rows x 26 columns]"
            ]
          },
          "metadata": {
            "tags": []
          },
          "execution_count": 17
        }
      ]
    },
    {
      "cell_type": "markdown",
      "metadata": {
        "id": "hKnRnu0m12q4"
      },
      "source": [
        "The read_csv method has many options, and you can read further in the [online documentation](http://pandas.pydata.org/pandas-docs/stable/generated/pandas.io.parsers.read_csv.html)."
      ]
    },
    {
      "cell_type": "markdown",
      "metadata": {
        "id": "3TKynIQt12q4"
      },
      "source": [
        "### Descriptive statistics\n",
        "\n",
        "We can use the method \"describe()\" to get a quick overview of the data in the dataframe."
      ]
    },
    {
      "cell_type": "code",
      "metadata": {
        "id": "0VIirqLJ12q5",
        "colab": {
          "base_uri": "https://localhost:8080/",
          "height": 299
        },
        "outputId": "a7bda574-0d0e-48da-d236-ba436fa4db37"
      },
      "source": [
        "restaurants.describe()"
      ],
      "execution_count": 18,
      "outputs": [
        {
          "output_type": "execute_result",
          "data": {
            "text/html": [
              "<div>\n",
              "<style scoped>\n",
              "    .dataframe tbody tr th:only-of-type {\n",
              "        vertical-align: middle;\n",
              "    }\n",
              "\n",
              "    .dataframe tbody tr th {\n",
              "        vertical-align: top;\n",
              "    }\n",
              "\n",
              "    .dataframe thead th {\n",
              "        text-align: right;\n",
              "    }\n",
              "</style>\n",
              "<table border=\"1\" class=\"dataframe\">\n",
              "  <thead>\n",
              "    <tr style=\"text-align: right;\">\n",
              "      <th></th>\n",
              "      <th>CAMIS</th>\n",
              "      <th>DBA</th>\n",
              "      <th>BORO</th>\n",
              "      <th>BUILDING</th>\n",
              "      <th>STREET</th>\n",
              "      <th>ZIPCODE</th>\n",
              "      <th>PHONE</th>\n",
              "      <th>CUISINE DESCRIPTION</th>\n",
              "      <th>INSPECTION DATE</th>\n",
              "      <th>ACTION</th>\n",
              "      <th>VIOLATION CODE</th>\n",
              "      <th>VIOLATION DESCRIPTION</th>\n",
              "      <th>CRITICAL FLAG</th>\n",
              "      <th>SCORE</th>\n",
              "      <th>GRADE</th>\n",
              "      <th>GRADE DATE</th>\n",
              "      <th>RECORD DATE</th>\n",
              "      <th>INSPECTION TYPE</th>\n",
              "      <th>Latitude</th>\n",
              "      <th>Longitude</th>\n",
              "      <th>Community Board</th>\n",
              "      <th>Council District</th>\n",
              "      <th>Census Tract</th>\n",
              "      <th>BIN</th>\n",
              "      <th>BBL</th>\n",
              "      <th>NTA</th>\n",
              "    </tr>\n",
              "  </thead>\n",
              "  <tbody>\n",
              "    <tr>\n",
              "      <th>count</th>\n",
              "      <td>394724</td>\n",
              "      <td>394084</td>\n",
              "      <td>394724</td>\n",
              "      <td>394476</td>\n",
              "      <td>394710</td>\n",
              "      <td>389154</td>\n",
              "      <td>394707</td>\n",
              "      <td>394724</td>\n",
              "      <td>394724</td>\n",
              "      <td>393220</td>\n",
              "      <td>388805</td>\n",
              "      <td>385566</td>\n",
              "      <td>385566</td>\n",
              "      <td>377579</td>\n",
              "      <td>199356</td>\n",
              "      <td>197928</td>\n",
              "      <td>394724</td>\n",
              "      <td>393220</td>\n",
              "      <td>394299</td>\n",
              "      <td>394299</td>\n",
              "      <td>388743</td>\n",
              "      <td>388743</td>\n",
              "      <td>388743</td>\n",
              "      <td>387030</td>\n",
              "      <td>394299</td>\n",
              "      <td>388743</td>\n",
              "    </tr>\n",
              "    <tr>\n",
              "      <th>unique</th>\n",
              "      <td>26979</td>\n",
              "      <td>21101</td>\n",
              "      <td>6</td>\n",
              "      <td>7288</td>\n",
              "      <td>3223</td>\n",
              "      <td>224</td>\n",
              "      <td>25342</td>\n",
              "      <td>84</td>\n",
              "      <td>1327</td>\n",
              "      <td>5</td>\n",
              "      <td>106</td>\n",
              "      <td>91</td>\n",
              "      <td>2</td>\n",
              "      <td>137</td>\n",
              "      <td>7</td>\n",
              "      <td>1254</td>\n",
              "      <td>1</td>\n",
              "      <td>32</td>\n",
              "      <td>22501</td>\n",
              "      <td>22501</td>\n",
              "      <td>69</td>\n",
              "      <td>51</td>\n",
              "      <td>1184</td>\n",
              "      <td>19585</td>\n",
              "      <td>19293</td>\n",
              "      <td>193</td>\n",
              "    </tr>\n",
              "    <tr>\n",
              "      <th>top</th>\n",
              "      <td>41669112</td>\n",
              "      <td>DUNKIN'</td>\n",
              "      <td>Manhattan</td>\n",
              "      <td>1</td>\n",
              "      <td>BROADWAY</td>\n",
              "      <td>10003</td>\n",
              "      <td>7185958100</td>\n",
              "      <td>American</td>\n",
              "      <td>01/01/1900</td>\n",
              "      <td>Violations were cited in the following area(s).</td>\n",
              "      <td>10F</td>\n",
              "      <td>Non-food contact surface improperly constructe...</td>\n",
              "      <td>Y</td>\n",
              "      <td>12</td>\n",
              "      <td>A</td>\n",
              "      <td>06/13/2019</td>\n",
              "      <td>10/26/2019</td>\n",
              "      <td>Cycle Inspection / Initial Inspection</td>\n",
              "      <td>0</td>\n",
              "      <td>0</td>\n",
              "      <td>105</td>\n",
              "      <td>03</td>\n",
              "      <td>003800</td>\n",
              "      <td>4000000</td>\n",
              "      <td>1</td>\n",
              "      <td>MN17</td>\n",
              "    </tr>\n",
              "    <tr>\n",
              "      <th>freq</th>\n",
              "      <td>91</td>\n",
              "      <td>4021</td>\n",
              "      <td>154802</td>\n",
              "      <td>2246</td>\n",
              "      <td>14437</td>\n",
              "      <td>10408</td>\n",
              "      <td>274</td>\n",
              "      <td>82885</td>\n",
              "      <td>1504</td>\n",
              "      <td>368393</td>\n",
              "      <td>55692</td>\n",
              "      <td>55692</td>\n",
              "      <td>215906</td>\n",
              "      <td>40985</td>\n",
              "      <td>156686</td>\n",
              "      <td>525</td>\n",
              "      <td>394724</td>\n",
              "      <td>228967</td>\n",
              "      <td>5556</td>\n",
              "      <td>5556</td>\n",
              "      <td>31480</td>\n",
              "      <td>34450</td>\n",
              "      <td>3250</td>\n",
              "      <td>2474</td>\n",
              "      <td>3033</td>\n",
              "      <td>23156</td>\n",
              "    </tr>\n",
              "  </tbody>\n",
              "</table>\n",
              "</div>"
            ],
            "text/plain": [
              "           CAMIS      DBA       BORO  ...      BIN     BBL     NTA\n",
              "count     394724   394084     394724  ...   387030  394299  388743\n",
              "unique     26979    21101          6  ...    19585   19293     193\n",
              "top     41669112  DUNKIN'  Manhattan  ...  4000000       1    MN17\n",
              "freq          91     4021     154802  ...     2474    3033   23156\n",
              "\n",
              "[4 rows x 26 columns]"
            ]
          },
          "metadata": {
            "tags": []
          },
          "execution_count": 18
        }
      ]
    },
    {
      "cell_type": "markdown",
      "metadata": {
        "id": "i8abdZHi12q5"
      },
      "source": [
        "We can also check the data types for each column"
      ]
    },
    {
      "cell_type": "code",
      "metadata": {
        "id": "0Lksi3Lh12q5",
        "colab": {
          "base_uri": "https://localhost:8080/"
        },
        "outputId": "65d8ad14-deee-4989-f45d-5c0a400e05d7"
      },
      "source": [
        "restaurants.dtypes"
      ],
      "execution_count": 19,
      "outputs": [
        {
          "output_type": "execute_result",
          "data": {
            "text/plain": [
              "CAMIS                    object\n",
              "DBA                      object\n",
              "BORO                     object\n",
              "BUILDING                 object\n",
              "STREET                   object\n",
              "ZIPCODE                  object\n",
              "PHONE                    object\n",
              "CUISINE DESCRIPTION      object\n",
              "INSPECTION DATE          object\n",
              "ACTION                   object\n",
              "VIOLATION CODE           object\n",
              "VIOLATION DESCRIPTION    object\n",
              "CRITICAL FLAG            object\n",
              "SCORE                    object\n",
              "GRADE                    object\n",
              "GRADE DATE               object\n",
              "RECORD DATE              object\n",
              "INSPECTION TYPE          object\n",
              "Latitude                 object\n",
              "Longitude                object\n",
              "Community Board          object\n",
              "Council District         object\n",
              "Census Tract             object\n",
              "BIN                      object\n",
              "BBL                      object\n",
              "NTA                      object\n",
              "dtype: object"
            ]
          },
          "metadata": {
            "tags": []
          },
          "execution_count": 19
        }
      ]
    },
    {
      "cell_type": "markdown",
      "metadata": {
        "id": "ifSDHjO912q6"
      },
      "source": [
        "The `object` type is a string. For many of these, we would like to change the data types for a few columns, using the `pd.to_numeric` and `pd.to_datetime` functions:"
      ]
    },
    {
      "cell_type": "code",
      "metadata": {
        "id": "2jFx6qAL12q6",
        "colab": {
          "base_uri": "https://localhost:8080/"
        },
        "outputId": "eef55402-a357-4d9a-8404-5d3e7b6c07a1"
      },
      "source": [
        "restaurants[\"SCORE\"] = pd.to_numeric(restaurants[\"SCORE\"])\n",
        "restaurants.dtypes"
      ],
      "execution_count": 20,
      "outputs": [
        {
          "output_type": "execute_result",
          "data": {
            "text/plain": [
              "CAMIS                     object\n",
              "DBA                       object\n",
              "BORO                      object\n",
              "BUILDING                  object\n",
              "STREET                    object\n",
              "ZIPCODE                   object\n",
              "PHONE                     object\n",
              "CUISINE DESCRIPTION       object\n",
              "INSPECTION DATE           object\n",
              "ACTION                    object\n",
              "VIOLATION CODE            object\n",
              "VIOLATION DESCRIPTION     object\n",
              "CRITICAL FLAG             object\n",
              "SCORE                    float64\n",
              "GRADE                     object\n",
              "GRADE DATE                object\n",
              "RECORD DATE               object\n",
              "INSPECTION TYPE           object\n",
              "Latitude                  object\n",
              "Longitude                 object\n",
              "Community Board           object\n",
              "Council District          object\n",
              "Census Tract              object\n",
              "BIN                       object\n",
              "BBL                       object\n",
              "NTA                       object\n",
              "dtype: object"
            ]
          },
          "metadata": {
            "tags": []
          },
          "execution_count": 20
        }
      ]
    },
    {
      "cell_type": "code",
      "metadata": {
        "scrolled": true,
        "id": "WBkVLPSH12q6",
        "colab": {
          "base_uri": "https://localhost:8080/",
          "height": 300
        },
        "outputId": "38adc6bb-dc98-418d-9962-3c9f38b85050"
      },
      "source": [
        "restaurants[[\"SCORE\"]].describe()"
      ],
      "execution_count": 21,
      "outputs": [
        {
          "output_type": "execute_result",
          "data": {
            "text/html": [
              "<div>\n",
              "<style scoped>\n",
              "    .dataframe tbody tr th:only-of-type {\n",
              "        vertical-align: middle;\n",
              "    }\n",
              "\n",
              "    .dataframe tbody tr th {\n",
              "        vertical-align: top;\n",
              "    }\n",
              "\n",
              "    .dataframe thead th {\n",
              "        text-align: right;\n",
              "    }\n",
              "</style>\n",
              "<table border=\"1\" class=\"dataframe\">\n",
              "  <thead>\n",
              "    <tr style=\"text-align: right;\">\n",
              "      <th></th>\n",
              "      <th>SCORE</th>\n",
              "    </tr>\n",
              "  </thead>\n",
              "  <tbody>\n",
              "    <tr>\n",
              "      <th>count</th>\n",
              "      <td>377579.000000</td>\n",
              "    </tr>\n",
              "    <tr>\n",
              "      <th>mean</th>\n",
              "      <td>20.357313</td>\n",
              "    </tr>\n",
              "    <tr>\n",
              "      <th>std</th>\n",
              "      <td>14.782690</td>\n",
              "    </tr>\n",
              "    <tr>\n",
              "      <th>min</th>\n",
              "      <td>-1.000000</td>\n",
              "    </tr>\n",
              "    <tr>\n",
              "      <th>25%</th>\n",
              "      <td>11.000000</td>\n",
              "    </tr>\n",
              "    <tr>\n",
              "      <th>50%</th>\n",
              "      <td>15.000000</td>\n",
              "    </tr>\n",
              "    <tr>\n",
              "      <th>75%</th>\n",
              "      <td>26.000000</td>\n",
              "    </tr>\n",
              "    <tr>\n",
              "      <th>max</th>\n",
              "      <td>164.000000</td>\n",
              "    </tr>\n",
              "  </tbody>\n",
              "</table>\n",
              "</div>"
            ],
            "text/plain": [
              "               SCORE\n",
              "count  377579.000000\n",
              "mean       20.357313\n",
              "std        14.782690\n",
              "min        -1.000000\n",
              "25%        11.000000\n",
              "50%        15.000000\n",
              "75%        26.000000\n",
              "max       164.000000"
            ]
          },
          "metadata": {
            "tags": []
          },
          "execution_count": 21
        }
      ]
    },
    {
      "cell_type": "markdown",
      "metadata": {
        "id": "ZObF9Sxe12q7"
      },
      "source": [
        "Now let's convert the dates columns into the appropriate data types:"
      ]
    },
    {
      "cell_type": "code",
      "metadata": {
        "id": "QYEjiudI12q7"
      },
      "source": [
        "restaurants[\"GRADE DATE\"] = pd.to_datetime(restaurants[\"GRADE DATE\"], format=\"%m/%d/%Y\")\n",
        "restaurants[\"RECORD DATE\"] = pd.to_datetime(restaurants[\"RECORD DATE\"], format=\"%m/%d/%Y\")\n",
        "restaurants[\"INSPECTION DATE\"] = pd.to_datetime(restaurants[\"INSPECTION DATE\"], format=\"%m/%d/%Y\")"
      ],
      "execution_count": 22,
      "outputs": []
    },
    {
      "cell_type": "code",
      "metadata": {
        "id": "F14Fh37x12q7",
        "colab": {
          "base_uri": "https://localhost:8080/"
        },
        "outputId": "066e9b9a-21f3-4cf0-99bb-ff66a19e20b6"
      },
      "source": [
        "restaurants.dtypes"
      ],
      "execution_count": 23,
      "outputs": [
        {
          "output_type": "execute_result",
          "data": {
            "text/plain": [
              "CAMIS                            object\n",
              "DBA                              object\n",
              "BORO                             object\n",
              "BUILDING                         object\n",
              "STREET                           object\n",
              "ZIPCODE                          object\n",
              "PHONE                            object\n",
              "CUISINE DESCRIPTION              object\n",
              "INSPECTION DATE          datetime64[ns]\n",
              "ACTION                           object\n",
              "VIOLATION CODE                   object\n",
              "VIOLATION DESCRIPTION            object\n",
              "CRITICAL FLAG                    object\n",
              "SCORE                           float64\n",
              "GRADE                            object\n",
              "GRADE DATE               datetime64[ns]\n",
              "RECORD DATE              datetime64[ns]\n",
              "INSPECTION TYPE                  object\n",
              "Latitude                         object\n",
              "Longitude                        object\n",
              "Community Board                  object\n",
              "Council District                 object\n",
              "Census Tract                     object\n",
              "BIN                              object\n",
              "BBL                              object\n",
              "NTA                              object\n",
              "dtype: object"
            ]
          },
          "metadata": {
            "tags": []
          },
          "execution_count": 23
        }
      ]
    },
    {
      "cell_type": "code",
      "metadata": {
        "id": "WlbzJyDa12q7",
        "colab": {
          "base_uri": "https://localhost:8080/",
          "height": 368
        },
        "outputId": "7c8e99d0-962e-4328-888b-b8d85eff124b"
      },
      "source": [
        "restaurants[[\"INSPECTION DATE\", \"GRADE DATE\", \"RECORD DATE\"]].describe()"
      ],
      "execution_count": 24,
      "outputs": [
        {
          "output_type": "stream",
          "text": [
            "/usr/local/lib/python3.7/dist-packages/ipykernel_launcher.py:1: FutureWarning: Treating datetime data as categorical rather than numeric in `.describe` is deprecated and will be removed in a future version of pandas. Specify `datetime_is_numeric=True` to silence this warning and adopt the future behavior now.\n",
            "  \"\"\"Entry point for launching an IPython kernel.\n",
            "/usr/local/lib/python3.7/dist-packages/ipykernel_launcher.py:1: FutureWarning: Treating datetime data as categorical rather than numeric in `.describe` is deprecated and will be removed in a future version of pandas. Specify `datetime_is_numeric=True` to silence this warning and adopt the future behavior now.\n",
            "  \"\"\"Entry point for launching an IPython kernel.\n",
            "/usr/local/lib/python3.7/dist-packages/ipykernel_launcher.py:1: FutureWarning: Treating datetime data as categorical rather than numeric in `.describe` is deprecated and will be removed in a future version of pandas. Specify `datetime_is_numeric=True` to silence this warning and adopt the future behavior now.\n",
            "  \"\"\"Entry point for launching an IPython kernel.\n"
          ],
          "name": "stderr"
        },
        {
          "output_type": "execute_result",
          "data": {
            "text/html": [
              "<div>\n",
              "<style scoped>\n",
              "    .dataframe tbody tr th:only-of-type {\n",
              "        vertical-align: middle;\n",
              "    }\n",
              "\n",
              "    .dataframe tbody tr th {\n",
              "        vertical-align: top;\n",
              "    }\n",
              "\n",
              "    .dataframe thead th {\n",
              "        text-align: right;\n",
              "    }\n",
              "</style>\n",
              "<table border=\"1\" class=\"dataframe\">\n",
              "  <thead>\n",
              "    <tr style=\"text-align: right;\">\n",
              "      <th></th>\n",
              "      <th>INSPECTION DATE</th>\n",
              "      <th>GRADE DATE</th>\n",
              "      <th>RECORD DATE</th>\n",
              "    </tr>\n",
              "  </thead>\n",
              "  <tbody>\n",
              "    <tr>\n",
              "      <th>count</th>\n",
              "      <td>394724</td>\n",
              "      <td>197928</td>\n",
              "      <td>394724</td>\n",
              "    </tr>\n",
              "    <tr>\n",
              "      <th>unique</th>\n",
              "      <td>1327</td>\n",
              "      <td>1254</td>\n",
              "      <td>1</td>\n",
              "    </tr>\n",
              "    <tr>\n",
              "      <th>top</th>\n",
              "      <td>1900-01-01 00:00:00</td>\n",
              "      <td>2019-06-13 00:00:00</td>\n",
              "      <td>2019-10-26 00:00:00</td>\n",
              "    </tr>\n",
              "    <tr>\n",
              "      <th>freq</th>\n",
              "      <td>1504</td>\n",
              "      <td>525</td>\n",
              "      <td>394724</td>\n",
              "    </tr>\n",
              "    <tr>\n",
              "      <th>first</th>\n",
              "      <td>1900-01-01 00:00:00</td>\n",
              "      <td>2013-06-07 00:00:00</td>\n",
              "      <td>2019-10-26 00:00:00</td>\n",
              "    </tr>\n",
              "    <tr>\n",
              "      <th>last</th>\n",
              "      <td>2019-10-24 00:00:00</td>\n",
              "      <td>2019-10-24 00:00:00</td>\n",
              "      <td>2019-10-26 00:00:00</td>\n",
              "    </tr>\n",
              "  </tbody>\n",
              "</table>\n",
              "</div>"
            ],
            "text/plain": [
              "            INSPECTION DATE           GRADE DATE          RECORD DATE\n",
              "count                394724               197928               394724\n",
              "unique                 1327                 1254                    1\n",
              "top     1900-01-01 00:00:00  2019-06-13 00:00:00  2019-10-26 00:00:00\n",
              "freq                   1504                  525               394724\n",
              "first   1900-01-01 00:00:00  2013-06-07 00:00:00  2019-10-26 00:00:00\n",
              "last    2019-10-24 00:00:00  2019-10-24 00:00:00  2019-10-26 00:00:00"
            ]
          },
          "metadata": {
            "tags": []
          },
          "execution_count": 24
        }
      ]
    },
    {
      "cell_type": "code",
      "metadata": {
        "id": "RvjN3mC-12q8",
        "colab": {
          "base_uri": "https://localhost:8080/"
        },
        "outputId": "8c57fdbc-1a90-4e8d-d8df-a97d09b4454d"
      },
      "source": [
        "restaurants[\"BORO\"] =  pd.Categorical(restaurants[\"BORO\"], ordered=False)\n",
        "restaurants[\"GRADE\"] =  pd.Categorical(restaurants[\"GRADE\"], categories = ['A', 'B', 'C'], ordered=True)\n",
        "restaurants[\"VIOLATION CODE\"] =  pd.Categorical(restaurants[\"VIOLATION CODE\"], ordered=False)\n",
        "restaurants[\"CRITICAL FLAG\"] =  pd.Categorical(restaurants[\"CRITICAL FLAG\"], ordered=False)\n",
        "restaurants[\"ACTION\"] =  pd.Categorical(restaurants[\"ACTION\"], ordered=False)\n",
        "restaurants[\"CUISINE DESCRIPTION\"] =  pd.Categorical(restaurants[\"CUISINE DESCRIPTION\"], ordered=False)\n",
        "restaurants.dtypes"
      ],
      "execution_count": 25,
      "outputs": [
        {
          "output_type": "execute_result",
          "data": {
            "text/plain": [
              "CAMIS                            object\n",
              "DBA                              object\n",
              "BORO                           category\n",
              "BUILDING                         object\n",
              "STREET                           object\n",
              "ZIPCODE                          object\n",
              "PHONE                            object\n",
              "CUISINE DESCRIPTION            category\n",
              "INSPECTION DATE          datetime64[ns]\n",
              "ACTION                         category\n",
              "VIOLATION CODE                 category\n",
              "VIOLATION DESCRIPTION            object\n",
              "CRITICAL FLAG                  category\n",
              "SCORE                           float64\n",
              "GRADE                          category\n",
              "GRADE DATE               datetime64[ns]\n",
              "RECORD DATE              datetime64[ns]\n",
              "INSPECTION TYPE                  object\n",
              "Latitude                         object\n",
              "Longitude                        object\n",
              "Community Board                  object\n",
              "Council District                 object\n",
              "Census Tract                     object\n",
              "BIN                              object\n",
              "BBL                              object\n",
              "NTA                              object\n",
              "dtype: object"
            ]
          },
          "metadata": {
            "tags": []
          },
          "execution_count": 25
        }
      ]
    },
    {
      "cell_type": "code",
      "metadata": {
        "id": "Ke3rpXuc12q8",
        "colab": {
          "base_uri": "https://localhost:8080/",
          "height": 726
        },
        "outputId": "f2dc83aa-f204-4ba7-bc30-f96b63d78477"
      },
      "source": [
        "restaurants.describe(include='all')"
      ],
      "execution_count": 26,
      "outputs": [
        {
          "output_type": "stream",
          "text": [
            "/usr/local/lib/python3.7/dist-packages/ipykernel_launcher.py:1: FutureWarning: Treating datetime data as categorical rather than numeric in `.describe` is deprecated and will be removed in a future version of pandas. Specify `datetime_is_numeric=True` to silence this warning and adopt the future behavior now.\n",
            "  \"\"\"Entry point for launching an IPython kernel.\n",
            "/usr/local/lib/python3.7/dist-packages/ipykernel_launcher.py:1: FutureWarning: Treating datetime data as categorical rather than numeric in `.describe` is deprecated and will be removed in a future version of pandas. Specify `datetime_is_numeric=True` to silence this warning and adopt the future behavior now.\n",
            "  \"\"\"Entry point for launching an IPython kernel.\n",
            "/usr/local/lib/python3.7/dist-packages/ipykernel_launcher.py:1: FutureWarning: Treating datetime data as categorical rather than numeric in `.describe` is deprecated and will be removed in a future version of pandas. Specify `datetime_is_numeric=True` to silence this warning and adopt the future behavior now.\n",
            "  \"\"\"Entry point for launching an IPython kernel.\n"
          ],
          "name": "stderr"
        },
        {
          "output_type": "execute_result",
          "data": {
            "text/html": [
              "<div>\n",
              "<style scoped>\n",
              "    .dataframe tbody tr th:only-of-type {\n",
              "        vertical-align: middle;\n",
              "    }\n",
              "\n",
              "    .dataframe tbody tr th {\n",
              "        vertical-align: top;\n",
              "    }\n",
              "\n",
              "    .dataframe thead th {\n",
              "        text-align: right;\n",
              "    }\n",
              "</style>\n",
              "<table border=\"1\" class=\"dataframe\">\n",
              "  <thead>\n",
              "    <tr style=\"text-align: right;\">\n",
              "      <th></th>\n",
              "      <th>CAMIS</th>\n",
              "      <th>DBA</th>\n",
              "      <th>BORO</th>\n",
              "      <th>BUILDING</th>\n",
              "      <th>STREET</th>\n",
              "      <th>ZIPCODE</th>\n",
              "      <th>PHONE</th>\n",
              "      <th>CUISINE DESCRIPTION</th>\n",
              "      <th>INSPECTION DATE</th>\n",
              "      <th>ACTION</th>\n",
              "      <th>VIOLATION CODE</th>\n",
              "      <th>VIOLATION DESCRIPTION</th>\n",
              "      <th>CRITICAL FLAG</th>\n",
              "      <th>SCORE</th>\n",
              "      <th>GRADE</th>\n",
              "      <th>GRADE DATE</th>\n",
              "      <th>RECORD DATE</th>\n",
              "      <th>INSPECTION TYPE</th>\n",
              "      <th>Latitude</th>\n",
              "      <th>Longitude</th>\n",
              "      <th>Community Board</th>\n",
              "      <th>Council District</th>\n",
              "      <th>Census Tract</th>\n",
              "      <th>BIN</th>\n",
              "      <th>BBL</th>\n",
              "      <th>NTA</th>\n",
              "    </tr>\n",
              "  </thead>\n",
              "  <tbody>\n",
              "    <tr>\n",
              "      <th>count</th>\n",
              "      <td>394724</td>\n",
              "      <td>394084</td>\n",
              "      <td>394724</td>\n",
              "      <td>394476</td>\n",
              "      <td>394710</td>\n",
              "      <td>389154</td>\n",
              "      <td>394707</td>\n",
              "      <td>394724</td>\n",
              "      <td>394724</td>\n",
              "      <td>393220</td>\n",
              "      <td>388805</td>\n",
              "      <td>385566</td>\n",
              "      <td>385566</td>\n",
              "      <td>377579.000000</td>\n",
              "      <td>190618</td>\n",
              "      <td>197928</td>\n",
              "      <td>394724</td>\n",
              "      <td>393220</td>\n",
              "      <td>394299</td>\n",
              "      <td>394299</td>\n",
              "      <td>388743</td>\n",
              "      <td>388743</td>\n",
              "      <td>388743</td>\n",
              "      <td>387030</td>\n",
              "      <td>394299</td>\n",
              "      <td>388743</td>\n",
              "    </tr>\n",
              "    <tr>\n",
              "      <th>unique</th>\n",
              "      <td>26979</td>\n",
              "      <td>21101</td>\n",
              "      <td>6</td>\n",
              "      <td>7288</td>\n",
              "      <td>3223</td>\n",
              "      <td>224</td>\n",
              "      <td>25342</td>\n",
              "      <td>84</td>\n",
              "      <td>1327</td>\n",
              "      <td>5</td>\n",
              "      <td>106</td>\n",
              "      <td>91</td>\n",
              "      <td>2</td>\n",
              "      <td>NaN</td>\n",
              "      <td>3</td>\n",
              "      <td>1254</td>\n",
              "      <td>1</td>\n",
              "      <td>32</td>\n",
              "      <td>22501</td>\n",
              "      <td>22501</td>\n",
              "      <td>69</td>\n",
              "      <td>51</td>\n",
              "      <td>1184</td>\n",
              "      <td>19585</td>\n",
              "      <td>19293</td>\n",
              "      <td>193</td>\n",
              "    </tr>\n",
              "    <tr>\n",
              "      <th>top</th>\n",
              "      <td>41669112</td>\n",
              "      <td>DUNKIN'</td>\n",
              "      <td>Manhattan</td>\n",
              "      <td>1</td>\n",
              "      <td>BROADWAY</td>\n",
              "      <td>10003</td>\n",
              "      <td>7185958100</td>\n",
              "      <td>American</td>\n",
              "      <td>1900-01-01 00:00:00</td>\n",
              "      <td>Violations were cited in the following area(s).</td>\n",
              "      <td>10F</td>\n",
              "      <td>Non-food contact surface improperly constructe...</td>\n",
              "      <td>Y</td>\n",
              "      <td>NaN</td>\n",
              "      <td>A</td>\n",
              "      <td>2019-06-13 00:00:00</td>\n",
              "      <td>2019-10-26 00:00:00</td>\n",
              "      <td>Cycle Inspection / Initial Inspection</td>\n",
              "      <td>0</td>\n",
              "      <td>0</td>\n",
              "      <td>105</td>\n",
              "      <td>03</td>\n",
              "      <td>003800</td>\n",
              "      <td>4000000</td>\n",
              "      <td>1</td>\n",
              "      <td>MN17</td>\n",
              "    </tr>\n",
              "    <tr>\n",
              "      <th>freq</th>\n",
              "      <td>91</td>\n",
              "      <td>4021</td>\n",
              "      <td>154802</td>\n",
              "      <td>2246</td>\n",
              "      <td>14437</td>\n",
              "      <td>10408</td>\n",
              "      <td>274</td>\n",
              "      <td>82885</td>\n",
              "      <td>1504</td>\n",
              "      <td>368393</td>\n",
              "      <td>55692</td>\n",
              "      <td>55692</td>\n",
              "      <td>215906</td>\n",
              "      <td>NaN</td>\n",
              "      <td>156686</td>\n",
              "      <td>525</td>\n",
              "      <td>394724</td>\n",
              "      <td>228967</td>\n",
              "      <td>5556</td>\n",
              "      <td>5556</td>\n",
              "      <td>31480</td>\n",
              "      <td>34450</td>\n",
              "      <td>3250</td>\n",
              "      <td>2474</td>\n",
              "      <td>3033</td>\n",
              "      <td>23156</td>\n",
              "    </tr>\n",
              "    <tr>\n",
              "      <th>first</th>\n",
              "      <td>NaN</td>\n",
              "      <td>NaN</td>\n",
              "      <td>NaN</td>\n",
              "      <td>NaN</td>\n",
              "      <td>NaN</td>\n",
              "      <td>NaN</td>\n",
              "      <td>NaN</td>\n",
              "      <td>NaN</td>\n",
              "      <td>1900-01-01 00:00:00</td>\n",
              "      <td>NaN</td>\n",
              "      <td>NaN</td>\n",
              "      <td>NaN</td>\n",
              "      <td>NaN</td>\n",
              "      <td>NaN</td>\n",
              "      <td>NaN</td>\n",
              "      <td>2013-06-07 00:00:00</td>\n",
              "      <td>2019-10-26 00:00:00</td>\n",
              "      <td>NaN</td>\n",
              "      <td>NaN</td>\n",
              "      <td>NaN</td>\n",
              "      <td>NaN</td>\n",
              "      <td>NaN</td>\n",
              "      <td>NaN</td>\n",
              "      <td>NaN</td>\n",
              "      <td>NaN</td>\n",
              "      <td>NaN</td>\n",
              "    </tr>\n",
              "    <tr>\n",
              "      <th>last</th>\n",
              "      <td>NaN</td>\n",
              "      <td>NaN</td>\n",
              "      <td>NaN</td>\n",
              "      <td>NaN</td>\n",
              "      <td>NaN</td>\n",
              "      <td>NaN</td>\n",
              "      <td>NaN</td>\n",
              "      <td>NaN</td>\n",
              "      <td>2019-10-24 00:00:00</td>\n",
              "      <td>NaN</td>\n",
              "      <td>NaN</td>\n",
              "      <td>NaN</td>\n",
              "      <td>NaN</td>\n",
              "      <td>NaN</td>\n",
              "      <td>NaN</td>\n",
              "      <td>2019-10-24 00:00:00</td>\n",
              "      <td>2019-10-26 00:00:00</td>\n",
              "      <td>NaN</td>\n",
              "      <td>NaN</td>\n",
              "      <td>NaN</td>\n",
              "      <td>NaN</td>\n",
              "      <td>NaN</td>\n",
              "      <td>NaN</td>\n",
              "      <td>NaN</td>\n",
              "      <td>NaN</td>\n",
              "      <td>NaN</td>\n",
              "    </tr>\n",
              "    <tr>\n",
              "      <th>mean</th>\n",
              "      <td>NaN</td>\n",
              "      <td>NaN</td>\n",
              "      <td>NaN</td>\n",
              "      <td>NaN</td>\n",
              "      <td>NaN</td>\n",
              "      <td>NaN</td>\n",
              "      <td>NaN</td>\n",
              "      <td>NaN</td>\n",
              "      <td>NaN</td>\n",
              "      <td>NaN</td>\n",
              "      <td>NaN</td>\n",
              "      <td>NaN</td>\n",
              "      <td>NaN</td>\n",
              "      <td>20.357313</td>\n",
              "      <td>NaN</td>\n",
              "      <td>NaN</td>\n",
              "      <td>NaN</td>\n",
              "      <td>NaN</td>\n",
              "      <td>NaN</td>\n",
              "      <td>NaN</td>\n",
              "      <td>NaN</td>\n",
              "      <td>NaN</td>\n",
              "      <td>NaN</td>\n",
              "      <td>NaN</td>\n",
              "      <td>NaN</td>\n",
              "      <td>NaN</td>\n",
              "    </tr>\n",
              "    <tr>\n",
              "      <th>std</th>\n",
              "      <td>NaN</td>\n",
              "      <td>NaN</td>\n",
              "      <td>NaN</td>\n",
              "      <td>NaN</td>\n",
              "      <td>NaN</td>\n",
              "      <td>NaN</td>\n",
              "      <td>NaN</td>\n",
              "      <td>NaN</td>\n",
              "      <td>NaN</td>\n",
              "      <td>NaN</td>\n",
              "      <td>NaN</td>\n",
              "      <td>NaN</td>\n",
              "      <td>NaN</td>\n",
              "      <td>14.782690</td>\n",
              "      <td>NaN</td>\n",
              "      <td>NaN</td>\n",
              "      <td>NaN</td>\n",
              "      <td>NaN</td>\n",
              "      <td>NaN</td>\n",
              "      <td>NaN</td>\n",
              "      <td>NaN</td>\n",
              "      <td>NaN</td>\n",
              "      <td>NaN</td>\n",
              "      <td>NaN</td>\n",
              "      <td>NaN</td>\n",
              "      <td>NaN</td>\n",
              "    </tr>\n",
              "    <tr>\n",
              "      <th>min</th>\n",
              "      <td>NaN</td>\n",
              "      <td>NaN</td>\n",
              "      <td>NaN</td>\n",
              "      <td>NaN</td>\n",
              "      <td>NaN</td>\n",
              "      <td>NaN</td>\n",
              "      <td>NaN</td>\n",
              "      <td>NaN</td>\n",
              "      <td>NaN</td>\n",
              "      <td>NaN</td>\n",
              "      <td>NaN</td>\n",
              "      <td>NaN</td>\n",
              "      <td>NaN</td>\n",
              "      <td>-1.000000</td>\n",
              "      <td>NaN</td>\n",
              "      <td>NaN</td>\n",
              "      <td>NaN</td>\n",
              "      <td>NaN</td>\n",
              "      <td>NaN</td>\n",
              "      <td>NaN</td>\n",
              "      <td>NaN</td>\n",
              "      <td>NaN</td>\n",
              "      <td>NaN</td>\n",
              "      <td>NaN</td>\n",
              "      <td>NaN</td>\n",
              "      <td>NaN</td>\n",
              "    </tr>\n",
              "    <tr>\n",
              "      <th>25%</th>\n",
              "      <td>NaN</td>\n",
              "      <td>NaN</td>\n",
              "      <td>NaN</td>\n",
              "      <td>NaN</td>\n",
              "      <td>NaN</td>\n",
              "      <td>NaN</td>\n",
              "      <td>NaN</td>\n",
              "      <td>NaN</td>\n",
              "      <td>NaN</td>\n",
              "      <td>NaN</td>\n",
              "      <td>NaN</td>\n",
              "      <td>NaN</td>\n",
              "      <td>NaN</td>\n",
              "      <td>11.000000</td>\n",
              "      <td>NaN</td>\n",
              "      <td>NaN</td>\n",
              "      <td>NaN</td>\n",
              "      <td>NaN</td>\n",
              "      <td>NaN</td>\n",
              "      <td>NaN</td>\n",
              "      <td>NaN</td>\n",
              "      <td>NaN</td>\n",
              "      <td>NaN</td>\n",
              "      <td>NaN</td>\n",
              "      <td>NaN</td>\n",
              "      <td>NaN</td>\n",
              "    </tr>\n",
              "    <tr>\n",
              "      <th>50%</th>\n",
              "      <td>NaN</td>\n",
              "      <td>NaN</td>\n",
              "      <td>NaN</td>\n",
              "      <td>NaN</td>\n",
              "      <td>NaN</td>\n",
              "      <td>NaN</td>\n",
              "      <td>NaN</td>\n",
              "      <td>NaN</td>\n",
              "      <td>NaN</td>\n",
              "      <td>NaN</td>\n",
              "      <td>NaN</td>\n",
              "      <td>NaN</td>\n",
              "      <td>NaN</td>\n",
              "      <td>15.000000</td>\n",
              "      <td>NaN</td>\n",
              "      <td>NaN</td>\n",
              "      <td>NaN</td>\n",
              "      <td>NaN</td>\n",
              "      <td>NaN</td>\n",
              "      <td>NaN</td>\n",
              "      <td>NaN</td>\n",
              "      <td>NaN</td>\n",
              "      <td>NaN</td>\n",
              "      <td>NaN</td>\n",
              "      <td>NaN</td>\n",
              "      <td>NaN</td>\n",
              "    </tr>\n",
              "    <tr>\n",
              "      <th>75%</th>\n",
              "      <td>NaN</td>\n",
              "      <td>NaN</td>\n",
              "      <td>NaN</td>\n",
              "      <td>NaN</td>\n",
              "      <td>NaN</td>\n",
              "      <td>NaN</td>\n",
              "      <td>NaN</td>\n",
              "      <td>NaN</td>\n",
              "      <td>NaN</td>\n",
              "      <td>NaN</td>\n",
              "      <td>NaN</td>\n",
              "      <td>NaN</td>\n",
              "      <td>NaN</td>\n",
              "      <td>26.000000</td>\n",
              "      <td>NaN</td>\n",
              "      <td>NaN</td>\n",
              "      <td>NaN</td>\n",
              "      <td>NaN</td>\n",
              "      <td>NaN</td>\n",
              "      <td>NaN</td>\n",
              "      <td>NaN</td>\n",
              "      <td>NaN</td>\n",
              "      <td>NaN</td>\n",
              "      <td>NaN</td>\n",
              "      <td>NaN</td>\n",
              "      <td>NaN</td>\n",
              "    </tr>\n",
              "    <tr>\n",
              "      <th>max</th>\n",
              "      <td>NaN</td>\n",
              "      <td>NaN</td>\n",
              "      <td>NaN</td>\n",
              "      <td>NaN</td>\n",
              "      <td>NaN</td>\n",
              "      <td>NaN</td>\n",
              "      <td>NaN</td>\n",
              "      <td>NaN</td>\n",
              "      <td>NaN</td>\n",
              "      <td>NaN</td>\n",
              "      <td>NaN</td>\n",
              "      <td>NaN</td>\n",
              "      <td>NaN</td>\n",
              "      <td>164.000000</td>\n",
              "      <td>NaN</td>\n",
              "      <td>NaN</td>\n",
              "      <td>NaN</td>\n",
              "      <td>NaN</td>\n",
              "      <td>NaN</td>\n",
              "      <td>NaN</td>\n",
              "      <td>NaN</td>\n",
              "      <td>NaN</td>\n",
              "      <td>NaN</td>\n",
              "      <td>NaN</td>\n",
              "      <td>NaN</td>\n",
              "      <td>NaN</td>\n",
              "    </tr>\n",
              "  </tbody>\n",
              "</table>\n",
              "</div>"
            ],
            "text/plain": [
              "           CAMIS      DBA       BORO  ...      BIN     BBL     NTA\n",
              "count     394724   394084     394724  ...   387030  394299  388743\n",
              "unique     26979    21101          6  ...    19585   19293     193\n",
              "top     41669112  DUNKIN'  Manhattan  ...  4000000       1    MN17\n",
              "freq          91     4021     154802  ...     2474    3033   23156\n",
              "first        NaN      NaN        NaN  ...      NaN     NaN     NaN\n",
              "last         NaN      NaN        NaN  ...      NaN     NaN     NaN\n",
              "mean         NaN      NaN        NaN  ...      NaN     NaN     NaN\n",
              "std          NaN      NaN        NaN  ...      NaN     NaN     NaN\n",
              "min          NaN      NaN        NaN  ...      NaN     NaN     NaN\n",
              "25%          NaN      NaN        NaN  ...      NaN     NaN     NaN\n",
              "50%          NaN      NaN        NaN  ...      NaN     NaN     NaN\n",
              "75%          NaN      NaN        NaN  ...      NaN     NaN     NaN\n",
              "max          NaN      NaN        NaN  ...      NaN     NaN     NaN\n",
              "\n",
              "[13 rows x 26 columns]"
            ]
          },
          "metadata": {
            "tags": []
          },
          "execution_count": 26
        }
      ]
    },
    {
      "cell_type": "markdown",
      "metadata": {
        "id": "tWxJNIg612q9"
      },
      "source": [
        "### Selecting a subset of the columns\n",
        "\n",
        "In a dataframe, we can specify the column(s) that we want to keep, and get back another dataframe with just the subset of the columns that we want to keep."
      ]
    },
    {
      "cell_type": "code",
      "metadata": {
        "id": "QXXzXMPg12q9",
        "colab": {
          "base_uri": "https://localhost:8080/"
        },
        "outputId": "67c9b24e-2eb2-4e87-d433-7557625e639e"
      },
      "source": [
        "restaurants[\"VIOLATION CODE\"].head(5)"
      ],
      "execution_count": 27,
      "outputs": [
        {
          "output_type": "execute_result",
          "data": {
            "text/plain": [
              "0    06D\n",
              "1    08A\n",
              "2    10F\n",
              "3    10F\n",
              "4    08A\n",
              "Name: VIOLATION CODE, dtype: category\n",
              "Categories (106, object): ['02A', '02B', '02C', '02D', ..., '22C', '22E', '22F', '22G']"
            ]
          },
          "metadata": {
            "tags": []
          },
          "execution_count": 27
        }
      ]
    },
    {
      "cell_type": "code",
      "metadata": {
        "id": "BZmdyetf12q9",
        "colab": {
          "base_uri": "https://localhost:8080/",
          "height": 206
        },
        "outputId": "7405af36-b6fe-4772-ed77-1669388eb5ed"
      },
      "source": [
        "column_list = [\"GRADE DATE\",\"VIOLATION CODE\", \"DBA\"]\n",
        "restaurants[ column_list ].head(5)"
      ],
      "execution_count": 28,
      "outputs": [
        {
          "output_type": "execute_result",
          "data": {
            "text/html": [
              "<div>\n",
              "<style scoped>\n",
              "    .dataframe tbody tr th:only-of-type {\n",
              "        vertical-align: middle;\n",
              "    }\n",
              "\n",
              "    .dataframe tbody tr th {\n",
              "        vertical-align: top;\n",
              "    }\n",
              "\n",
              "    .dataframe thead th {\n",
              "        text-align: right;\n",
              "    }\n",
              "</style>\n",
              "<table border=\"1\" class=\"dataframe\">\n",
              "  <thead>\n",
              "    <tr style=\"text-align: right;\">\n",
              "      <th></th>\n",
              "      <th>GRADE DATE</th>\n",
              "      <th>VIOLATION CODE</th>\n",
              "      <th>DBA</th>\n",
              "    </tr>\n",
              "  </thead>\n",
              "  <tbody>\n",
              "    <tr>\n",
              "      <th>0</th>\n",
              "      <td>2019-03-25</td>\n",
              "      <td>06D</td>\n",
              "      <td>LEGENDS BAR &amp; GRILL</td>\n",
              "    </tr>\n",
              "    <tr>\n",
              "      <th>1</th>\n",
              "      <td>2017-02-27</td>\n",
              "      <td>08A</td>\n",
              "      <td>ROYAL BAKERY &amp; ROTI SHOP</td>\n",
              "    </tr>\n",
              "    <tr>\n",
              "      <th>2</th>\n",
              "      <td>2016-12-20</td>\n",
              "      <td>10F</td>\n",
              "      <td>BENS COOKIES</td>\n",
              "    </tr>\n",
              "    <tr>\n",
              "      <th>3</th>\n",
              "      <td>NaT</td>\n",
              "      <td>10F</td>\n",
              "      <td>CUCCIOS BAKERY</td>\n",
              "    </tr>\n",
              "    <tr>\n",
              "      <th>4</th>\n",
              "      <td>2016-10-05</td>\n",
              "      <td>08A</td>\n",
              "      <td>OSAKA JAPANESE FUSION</td>\n",
              "    </tr>\n",
              "  </tbody>\n",
              "</table>\n",
              "</div>"
            ],
            "text/plain": [
              "  GRADE DATE VIOLATION CODE                       DBA\n",
              "0 2019-03-25            06D       LEGENDS BAR & GRILL\n",
              "1 2017-02-27            08A  ROYAL BAKERY & ROTI SHOP\n",
              "2 2016-12-20            10F              BENS COOKIES\n",
              "3        NaT            10F            CUCCIOS BAKERY\n",
              "4 2016-10-05            08A     OSAKA JAPANESE FUSION"
            ]
          },
          "metadata": {
            "tags": []
          },
          "execution_count": 28
        }
      ]
    },
    {
      "cell_type": "markdown",
      "metadata": {
        "id": "XgcvKkyy12q-"
      },
      "source": [
        "We can also get quick statistics about the common values that appear in each column:"
      ]
    },
    {
      "cell_type": "code",
      "metadata": {
        "id": "R0wUFiWd12q-",
        "colab": {
          "base_uri": "https://localhost:8080/"
        },
        "outputId": "6e493920-5d05-4c8c-d571-ef0e4a4d2205"
      },
      "source": [
        "restaurants[\"DBA\"].value_counts()"
      ],
      "execution_count": 29,
      "outputs": [
        {
          "output_type": "execute_result",
          "data": {
            "text/plain": [
              "DUNKIN'                  4021\n",
              "SUBWAY                   2899\n",
              "STARBUCKS                2101\n",
              "MCDONALD'S               1994\n",
              "KENNEDY FRIED CHICKEN    1292\n",
              "                         ... \n",
              "Spicy Palace                1\n",
              "CAKEBURGERS                 1\n",
              "SAMMI SWEETZ                1\n",
              "SNOW WOLF                   1\n",
              "AU CHEVAL DINER             1\n",
              "Name: DBA, Length: 21101, dtype: int64"
            ]
          },
          "metadata": {
            "tags": []
          },
          "execution_count": 29
        }
      ]
    },
    {
      "cell_type": "code",
      "metadata": {
        "id": "ntir8GKm12q-",
        "colab": {
          "base_uri": "https://localhost:8080/"
        },
        "outputId": "641633dd-692e-4402-a6d2-7472e6169e3f"
      },
      "source": [
        "restaurants[\"CUISINE DESCRIPTION\"].value_counts()[:20]"
      ],
      "execution_count": 30,
      "outputs": [
        {
          "output_type": "execute_result",
          "data": {
            "text/plain": [
              "American                                                            82885\n",
              "Chinese                                                             41707\n",
              "Café/Coffee/Tea                                                     19074\n",
              "Pizza                                                               17515\n",
              "Latin (Cuban, Dominican, Puerto Rican, South & Central American)    17291\n",
              "Mexican                                                             16065\n",
              "Italian                                                             15931\n",
              "Caribbean                                                           14229\n",
              "Japanese                                                            14083\n",
              "Bakery                                                              12320\n",
              "Spanish                                                             12300\n",
              "Pizza/Italian                                                        8311\n",
              "Chicken                                                              7428\n",
              "Indian                                                               6842\n",
              "Delicatessen                                                         6371\n",
              "Asian                                                                6314\n",
              "Jewish/Kosher                                                        5665\n",
              "Thai                                                                 5425\n",
              "Korean                                                               5380\n",
              "Donuts                                                               5201\n",
              "Name: CUISINE DESCRIPTION, dtype: int64"
            ]
          },
          "metadata": {
            "tags": []
          },
          "execution_count": 30
        }
      ]
    },
    {
      "cell_type": "code",
      "metadata": {
        "id": "hBIqjXNX12q-",
        "colab": {
          "base_uri": "https://localhost:8080/"
        },
        "outputId": "7d53f183-c5ce-40f7-9427-c7edd9fdf2e9"
      },
      "source": [
        "violation_counts = restaurants[\"VIOLATION CODE\"].value_counts()\n",
        "violation_counts[0:10]"
      ],
      "execution_count": 31,
      "outputs": [
        {
          "output_type": "execute_result",
          "data": {
            "text/plain": [
              "10F    55692\n",
              "08A    43599\n",
              "04L    28962\n",
              "06D    27072\n",
              "06C    24432\n",
              "10B    23471\n",
              "02G    23059\n",
              "04N    21129\n",
              "02B    20097\n",
              "04M     8653\n",
              "Name: VIOLATION CODE, dtype: int64"
            ]
          },
          "metadata": {
            "tags": []
          },
          "execution_count": 31
        }
      ]
    },
    {
      "cell_type": "markdown",
      "metadata": {
        "id": "Stboetp_12q_"
      },
      "source": [
        "And we can use the \"plot\" command to plot the resulting histogram. (More details at http://pandas.pydata.org/pandas-docs/stable/visualization.html) We also revisit plotting below."
      ]
    },
    {
      "cell_type": "code",
      "metadata": {
        "id": "xEcyVSFk12q_",
        "colab": {
          "base_uri": "https://localhost:8080/",
          "height": 471
        },
        "outputId": "a7126d03-135e-4319-93c3-f4cd439cbf64"
      },
      "source": [
        "violation_counts[:5].plot(kind='bar')"
      ],
      "execution_count": 32,
      "outputs": [
        {
          "output_type": "execute_result",
          "data": {
            "text/plain": [
              "<matplotlib.axes._subplots.AxesSubplot at 0x7fc26cde88d0>"
            ]
          },
          "metadata": {
            "tags": []
          },
          "execution_count": 32
        },
        {
          "output_type": "display_data",
          "data": {
            "image/png": "[encoded data removed]",
            "text/plain": [
              "<Figure size 748.8x514.8 with 1 Axes>"
            ]
          },
          "metadata": {
            "tags": []
          }
        }
      ]
    },
    {
      "cell_type": "code",
      "metadata": {
        "id": "3HgQhhNT12rA",
        "colab": {
          "base_uri": "https://localhost:8080/",
          "height": 835
        },
        "outputId": "c184f52f-d047-441c-b668-26a8fb61f9a4"
      },
      "source": [
        "popular = restaurants[\"CUISINE DESCRIPTION\"].value_counts()\n",
        "popular[:10].plot(kind='bar')"
      ],
      "execution_count": 33,
      "outputs": [
        {
          "output_type": "execute_result",
          "data": {
            "text/plain": [
              "<matplotlib.axes._subplots.AxesSubplot at 0x7fc26cd27350>"
            ]
          },
          "metadata": {
            "tags": []
          },
          "execution_count": 33
        },
        {
          "output_type": "display_data",
          "data": {
            "image/png": "[encoded data removed]",
            "text/plain": [
              "<Figure size 748.8x514.8 with 1 Axes>"
            ]
          },
          "metadata": {
            "tags": []
          }
        }
      ]
    },
    {
      "cell_type": "markdown",
      "metadata": {
        "id": "vcG_0Oxy12rC"
      },
      "source": [
        "### Selecting rows\n",
        "\n",
        "To select rows, we can use the following approach, where we generate a list of boolean values, one for each row of the dataframe, and then we use the list to select which of the rows of the dataframe we want to keep\""
      ]
    },
    {
      "cell_type": "code",
      "metadata": {
        "id": "BTQgDWjl12rD",
        "colab": {
          "base_uri": "https://localhost:8080/"
        },
        "outputId": "1b4c575b-1a97-454c-e119-4d1c0d4364f8"
      },
      "source": [
        "# Create the condition \"has mice\" for code 04L\n",
        "mice = (restaurants[\"VIOLATION CODE\"] == \"04L\")\n",
        "mice"
      ],
      "execution_count": 34,
      "outputs": [
        {
          "output_type": "execute_result",
          "data": {
            "text/plain": [
              "0         False\n",
              "1         False\n",
              "2         False\n",
              "3         False\n",
              "4         False\n",
              "          ...  \n",
              "394719    False\n",
              "394720    False\n",
              "394721    False\n",
              "394722    False\n",
              "394723     True\n",
              "Name: VIOLATION CODE, Length: 394724, dtype: bool"
            ]
          },
          "metadata": {
            "tags": []
          },
          "execution_count": 34
        }
      ]
    },
    {
      "cell_type": "code",
      "metadata": {
        "id": "akegSVyO12rE",
        "colab": {
          "base_uri": "https://localhost:8080/",
          "height": 1000
        },
        "outputId": "47a7b5d5-ed59-4909-f29c-b625d433b6d9"
      },
      "source": [
        "# Apply the condition to the dataframe \"restaurants\" and store the result \n",
        "# in a dataframe called  has_mice\n",
        "has_mice = restaurants[mice]\n",
        "has_mice"
      ],
      "execution_count": 35,
      "outputs": [
        {
          "output_type": "execute_result",
          "data": {
            "text/html": [
              "<div>\n",
              "<style scoped>\n",
              "    .dataframe tbody tr th:only-of-type {\n",
              "        vertical-align: middle;\n",
              "    }\n",
              "\n",
              "    .dataframe tbody tr th {\n",
              "        vertical-align: top;\n",
              "    }\n",
              "\n",
              "    .dataframe thead th {\n",
              "        text-align: right;\n",
              "    }\n",
              "</style>\n",
              "<table border=\"1\" class=\"dataframe\">\n",
              "  <thead>\n",
              "    <tr style=\"text-align: right;\">\n",
              "      <th></th>\n",
              "      <th>CAMIS</th>\n",
              "      <th>DBA</th>\n",
              "      <th>BORO</th>\n",
              "      <th>BUILDING</th>\n",
              "      <th>STREET</th>\n",
              "      <th>ZIPCODE</th>\n",
              "      <th>PHONE</th>\n",
              "      <th>CUISINE DESCRIPTION</th>\n",
              "      <th>INSPECTION DATE</th>\n",
              "      <th>ACTION</th>\n",
              "      <th>VIOLATION CODE</th>\n",
              "      <th>VIOLATION DESCRIPTION</th>\n",
              "      <th>CRITICAL FLAG</th>\n",
              "      <th>SCORE</th>\n",
              "      <th>GRADE</th>\n",
              "      <th>GRADE DATE</th>\n",
              "      <th>RECORD DATE</th>\n",
              "      <th>INSPECTION TYPE</th>\n",
              "      <th>Latitude</th>\n",
              "      <th>Longitude</th>\n",
              "      <th>Community Board</th>\n",
              "      <th>Council District</th>\n",
              "      <th>Census Tract</th>\n",
              "      <th>BIN</th>\n",
              "      <th>BBL</th>\n",
              "      <th>NTA</th>\n",
              "    </tr>\n",
              "  </thead>\n",
              "  <tbody>\n",
              "    <tr>\n",
              "      <th>13</th>\n",
              "      <td>50014362</td>\n",
              "      <td>URUBAMBA</td>\n",
              "      <td>Queens</td>\n",
              "      <td>8620</td>\n",
              "      <td>37TH AVE</td>\n",
              "      <td>11372</td>\n",
              "      <td>7186722224</td>\n",
              "      <td>Peruvian</td>\n",
              "      <td>2019-10-02</td>\n",
              "      <td>Establishment Closed by DOHMH.  Violations wer...</td>\n",
              "      <td>04L</td>\n",
              "      <td>Evidence of mice or live mice present in facil...</td>\n",
              "      <td>Y</td>\n",
              "      <td>45.0</td>\n",
              "      <td>NaN</td>\n",
              "      <td>NaT</td>\n",
              "      <td>2019-10-26</td>\n",
              "      <td>Cycle Inspection / Initial Inspection</td>\n",
              "      <td>40.750153541975</td>\n",
              "      <td>-73.880319400676</td>\n",
              "      <td>403</td>\n",
              "      <td>21</td>\n",
              "      <td>027900</td>\n",
              "      <td>4036257</td>\n",
              "      <td>4014740001</td>\n",
              "      <td>QN28</td>\n",
              "    </tr>\n",
              "    <tr>\n",
              "      <th>29</th>\n",
              "      <td>50035483</td>\n",
              "      <td>CAFE KASHKAR</td>\n",
              "      <td>Brooklyn</td>\n",
              "      <td>1141</td>\n",
              "      <td>BRIGHTON BEACH AVE</td>\n",
              "      <td>11235</td>\n",
              "      <td>7187433832</td>\n",
              "      <td>Turkish</td>\n",
              "      <td>2017-10-25</td>\n",
              "      <td>Violations were cited in the following area(s).</td>\n",
              "      <td>04L</td>\n",
              "      <td>Evidence of mice or live mice present in facil...</td>\n",
              "      <td>Y</td>\n",
              "      <td>13.0</td>\n",
              "      <td>A</td>\n",
              "      <td>2017-10-25</td>\n",
              "      <td>2019-10-26</td>\n",
              "      <td>Cycle Inspection / Re-inspection</td>\n",
              "      <td>40.577591047209</td>\n",
              "      <td>-73.955556572692</td>\n",
              "      <td>313</td>\n",
              "      <td>48</td>\n",
              "      <td>061004</td>\n",
              "      <td>3245670</td>\n",
              "      <td>3087177501</td>\n",
              "      <td>BK19</td>\n",
              "    </tr>\n",
              "    <tr>\n",
              "      <th>50</th>\n",
              "      <td>41655252</td>\n",
              "      <td>CHINA TOP</td>\n",
              "      <td>Bronx</td>\n",
              "      <td>3563</td>\n",
              "      <td>BOSTON RD</td>\n",
              "      <td>10469</td>\n",
              "      <td>7184055550</td>\n",
              "      <td>Chinese</td>\n",
              "      <td>2018-11-29</td>\n",
              "      <td>Violations were cited in the following area(s).</td>\n",
              "      <td>04L</td>\n",
              "      <td>Evidence of mice or live mice present in facil...</td>\n",
              "      <td>Y</td>\n",
              "      <td>13.0</td>\n",
              "      <td>A</td>\n",
              "      <td>2018-11-29</td>\n",
              "      <td>2019-10-26</td>\n",
              "      <td>Cycle Inspection / Initial Inspection</td>\n",
              "      <td>40.878227012665</td>\n",
              "      <td>-73.844371082316</td>\n",
              "      <td>212</td>\n",
              "      <td>12</td>\n",
              "      <td>038600</td>\n",
              "      <td>2097013</td>\n",
              "      <td>2047280035</td>\n",
              "      <td>BX03</td>\n",
              "    </tr>\n",
              "    <tr>\n",
              "      <th>64</th>\n",
              "      <td>40363630</td>\n",
              "      <td>LORENZO &amp; MARIA'S KITCHEN</td>\n",
              "      <td>Manhattan</td>\n",
              "      <td>1418</td>\n",
              "      <td>THIRD AVENUE</td>\n",
              "      <td>10028</td>\n",
              "      <td>2127941080</td>\n",
              "      <td>Continental</td>\n",
              "      <td>2018-02-21</td>\n",
              "      <td>Violations were cited in the following area(s).</td>\n",
              "      <td>04L</td>\n",
              "      <td>Evidence of mice or live mice present in facil...</td>\n",
              "      <td>Y</td>\n",
              "      <td>32.0</td>\n",
              "      <td>NaN</td>\n",
              "      <td>NaT</td>\n",
              "      <td>2019-10-26</td>\n",
              "      <td>Cycle Inspection / Initial Inspection</td>\n",
              "      <td>40.775281106431</td>\n",
              "      <td>-73.95657589237</td>\n",
              "      <td>108</td>\n",
              "      <td>05</td>\n",
              "      <td>014000</td>\n",
              "      <td>1047523</td>\n",
              "      <td>1015090035</td>\n",
              "      <td>MN40</td>\n",
              "    </tr>\n",
              "    <tr>\n",
              "      <th>92</th>\n",
              "      <td>41676787</td>\n",
              "      <td>CHOBANI SOHO</td>\n",
              "      <td>Manhattan</td>\n",
              "      <td>150</td>\n",
              "      <td>PRINCE STREET</td>\n",
              "      <td>10012</td>\n",
              "      <td>6073371246</td>\n",
              "      <td>American</td>\n",
              "      <td>2019-07-12</td>\n",
              "      <td>Violations were cited in the following area(s).</td>\n",
              "      <td>04L</td>\n",
              "      <td>Evidence of mice or live mice present in facil...</td>\n",
              "      <td>Y</td>\n",
              "      <td>9.0</td>\n",
              "      <td>A</td>\n",
              "      <td>2019-07-12</td>\n",
              "      <td>2019-10-26</td>\n",
              "      <td>Cycle Inspection / Re-inspection</td>\n",
              "      <td>40.725836962282</td>\n",
              "      <td>-74.001064319466</td>\n",
              "      <td>102</td>\n",
              "      <td>01</td>\n",
              "      <td>004900</td>\n",
              "      <td>1007733</td>\n",
              "      <td>1005020023</td>\n",
              "      <td>MN24</td>\n",
              "    </tr>\n",
              "    <tr>\n",
              "      <th>...</th>\n",
              "      <td>...</td>\n",
              "      <td>...</td>\n",
              "      <td>...</td>\n",
              "      <td>...</td>\n",
              "      <td>...</td>\n",
              "      <td>...</td>\n",
              "      <td>...</td>\n",
              "      <td>...</td>\n",
              "      <td>...</td>\n",
              "      <td>...</td>\n",
              "      <td>...</td>\n",
              "      <td>...</td>\n",
              "      <td>...</td>\n",
              "      <td>...</td>\n",
              "      <td>...</td>\n",
              "      <td>...</td>\n",
              "      <td>...</td>\n",
              "      <td>...</td>\n",
              "      <td>...</td>\n",
              "      <td>...</td>\n",
              "      <td>...</td>\n",
              "      <td>...</td>\n",
              "      <td>...</td>\n",
              "      <td>...</td>\n",
              "      <td>...</td>\n",
              "      <td>...</td>\n",
              "    </tr>\n",
              "    <tr>\n",
              "      <th>394629</th>\n",
              "      <td>50070322</td>\n",
              "      <td>INDIAN CURRY HEIGHTS</td>\n",
              "      <td>Brooklyn</td>\n",
              "      <td>125</td>\n",
              "      <td>RALPH AVE</td>\n",
              "      <td>11221</td>\n",
              "      <td>7189287707</td>\n",
              "      <td>Indian</td>\n",
              "      <td>2019-09-18</td>\n",
              "      <td>Violations were cited in the following area(s).</td>\n",
              "      <td>04L</td>\n",
              "      <td>Evidence of mice or live mice present in facil...</td>\n",
              "      <td>Y</td>\n",
              "      <td>40.0</td>\n",
              "      <td>NaN</td>\n",
              "      <td>2019-09-18</td>\n",
              "      <td>2019-10-26</td>\n",
              "      <td>Cycle Inspection / Re-inspection</td>\n",
              "      <td>40.685773324163</td>\n",
              "      <td>-73.923274585543</td>\n",
              "      <td>303</td>\n",
              "      <td>41</td>\n",
              "      <td>037500</td>\n",
              "      <td>3039836</td>\n",
              "      <td>3014870002</td>\n",
              "      <td>BK35</td>\n",
              "    </tr>\n",
              "    <tr>\n",
              "      <th>394631</th>\n",
              "      <td>41116575</td>\n",
              "      <td>GENEROSO BAKERY</td>\n",
              "      <td>Brooklyn</td>\n",
              "      <td>5812</td>\n",
              "      <td>5 AVENUE</td>\n",
              "      <td>11220</td>\n",
              "      <td>7184920895</td>\n",
              "      <td>Bakery</td>\n",
              "      <td>2018-03-15</td>\n",
              "      <td>Violations were cited in the following area(s).</td>\n",
              "      <td>04L</td>\n",
              "      <td>Evidence of mice or live mice present in facil...</td>\n",
              "      <td>Y</td>\n",
              "      <td>12.0</td>\n",
              "      <td>A</td>\n",
              "      <td>2018-03-15</td>\n",
              "      <td>2019-10-26</td>\n",
              "      <td>Cycle Inspection / Initial Inspection</td>\n",
              "      <td>40.640492696091</td>\n",
              "      <td>-74.015122757887</td>\n",
              "      <td>307</td>\n",
              "      <td>38</td>\n",
              "      <td>007400</td>\n",
              "      <td>3016008</td>\n",
              "      <td>3008550041</td>\n",
              "      <td>BK32</td>\n",
              "    </tr>\n",
              "    <tr>\n",
              "      <th>394696</th>\n",
              "      <td>50073615</td>\n",
              "      <td>PIZZA MERCATO</td>\n",
              "      <td>Manhattan</td>\n",
              "      <td>11</td>\n",
              "      <td>WAVERLY PL</td>\n",
              "      <td>10003</td>\n",
              "      <td>2124208432</td>\n",
              "      <td>Pizza</td>\n",
              "      <td>2018-04-17</td>\n",
              "      <td>Violations were cited in the following area(s).</td>\n",
              "      <td>04L</td>\n",
              "      <td>Evidence of mice or live mice present in facil...</td>\n",
              "      <td>Y</td>\n",
              "      <td>9.0</td>\n",
              "      <td>A</td>\n",
              "      <td>2018-04-17</td>\n",
              "      <td>2019-10-26</td>\n",
              "      <td>Pre-permit (Operational) / Re-inspection</td>\n",
              "      <td>40.730033566227</td>\n",
              "      <td>-73.994172933544</td>\n",
              "      <td>102</td>\n",
              "      <td>01</td>\n",
              "      <td>005900</td>\n",
              "      <td>1008838</td>\n",
              "      <td>1005480040</td>\n",
              "      <td>MN23</td>\n",
              "    </tr>\n",
              "    <tr>\n",
              "      <th>394707</th>\n",
              "      <td>50008878</td>\n",
              "      <td>GENARO'S PIZZERIA AND RESTAURANT</td>\n",
              "      <td>Queens</td>\n",
              "      <td>1812</td>\n",
              "      <td>COLLEGE POINT BLVD</td>\n",
              "      <td>11356</td>\n",
              "      <td>7183091096</td>\n",
              "      <td>Pizza/Italian</td>\n",
              "      <td>2018-01-24</td>\n",
              "      <td>Violations were cited in the following area(s).</td>\n",
              "      <td>04L</td>\n",
              "      <td>Evidence of mice or live mice present in facil...</td>\n",
              "      <td>Y</td>\n",
              "      <td>12.0</td>\n",
              "      <td>A</td>\n",
              "      <td>2018-01-24</td>\n",
              "      <td>2019-10-26</td>\n",
              "      <td>Cycle Inspection / Re-inspection</td>\n",
              "      <td>40.782972727419</td>\n",
              "      <td>-73.845876479734</td>\n",
              "      <td>407</td>\n",
              "      <td>19</td>\n",
              "      <td>092500</td>\n",
              "      <td>4098307</td>\n",
              "      <td>4040830025</td>\n",
              "      <td>QN23</td>\n",
              "    </tr>\n",
              "    <tr>\n",
              "      <th>394723</th>\n",
              "      <td>50061303</td>\n",
              "      <td>MIGHTY BOWL</td>\n",
              "      <td>Manhattan</td>\n",
              "      <td>817</td>\n",
              "      <td>2ND AVE</td>\n",
              "      <td>10017</td>\n",
              "      <td>3476401888</td>\n",
              "      <td>Asian</td>\n",
              "      <td>2017-09-08</td>\n",
              "      <td>Violations were cited in the following area(s).</td>\n",
              "      <td>04L</td>\n",
              "      <td>Evidence of mice or live mice present in facil...</td>\n",
              "      <td>Y</td>\n",
              "      <td>34.0</td>\n",
              "      <td>NaN</td>\n",
              "      <td>NaT</td>\n",
              "      <td>2019-10-26</td>\n",
              "      <td>Pre-permit (Operational) / Initial Inspection</td>\n",
              "      <td>40.75089310228</td>\n",
              "      <td>-73.971432984905</td>\n",
              "      <td>106</td>\n",
              "      <td>04</td>\n",
              "      <td>008800</td>\n",
              "      <td>1037562</td>\n",
              "      <td>1013170026</td>\n",
              "      <td>MN19</td>\n",
              "    </tr>\n",
              "  </tbody>\n",
              "</table>\n",
              "<p>28962 rows × 26 columns</p>\n",
              "</div>"
            ],
            "text/plain": [
              "           CAMIS                               DBA  ...         BBL   NTA\n",
              "13      50014362                          URUBAMBA  ...  4014740001  QN28\n",
              "29      50035483                      CAFE KASHKAR  ...  3087177501  BK19\n",
              "50      41655252                         CHINA TOP  ...  2047280035  BX03\n",
              "64      40363630         LORENZO & MARIA'S KITCHEN  ...  1015090035  MN40\n",
              "92      41676787                      CHOBANI SOHO  ...  1005020023  MN24\n",
              "...          ...                               ...  ...         ...   ...\n",
              "394629  50070322              INDIAN CURRY HEIGHTS  ...  3014870002  BK35\n",
              "394631  41116575                   GENEROSO BAKERY  ...  3008550041  BK32\n",
              "394696  50073615                     PIZZA MERCATO  ...  1005480040  MN23\n",
              "394707  50008878  GENARO'S PIZZERIA AND RESTAURANT  ...  4040830025  QN23\n",
              "394723  50061303                       MIGHTY BOWL  ...  1013170026  MN19\n",
              "\n",
              "[28962 rows x 26 columns]"
            ]
          },
          "metadata": {
            "tags": []
          },
          "execution_count": 35
        }
      ]
    },
    {
      "cell_type": "code",
      "metadata": {
        "id": "5mslRbdz12rF",
        "colab": {
          "base_uri": "https://localhost:8080/"
        },
        "outputId": "d024bb8f-f655-4939-a792-51d837b6b04b"
      },
      "source": [
        "# List the most frequent DBA values in the dataframe\n",
        "has_mice[\"DBA\"].value_counts()[:20]"
      ],
      "execution_count": 36,
      "outputs": [
        {
          "output_type": "execute_result",
          "data": {
            "text/plain": [
              "SUBWAY                                   238\n",
              "DUNKIN'                                  141\n",
              "KENNEDY FRIED CHICKEN                    123\n",
              "CROWN FRIED CHICKEN                      112\n",
              "STARBUCKS                                 84\n",
              "GOLDEN KRUST CARIBBEAN BAKERY & GRILL     69\n",
              "POPEYES                                   68\n",
              "MCDONALD'S                                66\n",
              "BURGER KING                               59\n",
              "DUNKIN', BASKIN ROBBINS                   57\n",
              "DOMINO'S                                  49\n",
              "LE PAIN QUOTIDIEN                         36\n",
              "KFC                                       36\n",
              "LITTLE CAESARS                            35\n",
              "CARVEL ICE CREAM                          35\n",
              "AMC THEATRES                              29\n",
              "VIVI BUBBLE TEA                           27\n",
              "EMPANADAS MONUMENTAL                      23\n",
              "CHECKERS                                  22\n",
              "IHOP                                      21\n",
              "Name: DBA, dtype: int64"
            ]
          },
          "metadata": {
            "tags": []
          },
          "execution_count": 36
        }
      ]
    },
    {
      "cell_type": "code",
      "metadata": {
        "id": "0x2pPkbD12rF",
        "colab": {
          "base_uri": "https://localhost:8080/"
        },
        "outputId": "e042ce32-3d86-48a7-e9ec-a972866d1fc9"
      },
      "source": [
        "has_mice[\"CAMIS\"].value_counts()[:5]"
      ],
      "execution_count": 37,
      "outputs": [
        {
          "output_type": "execute_result",
          "data": {
            "text/plain": [
              "50016943    13\n",
              "50015263    12\n",
              "40423819    12\n",
              "50046623    12\n",
              "50058969    12\n",
              "Name: CAMIS, dtype: int64"
            ]
          },
          "metadata": {
            "tags": []
          },
          "execution_count": 37
        }
      ]
    },
    {
      "cell_type": "code",
      "metadata": {
        "id": "y-6S8qoj12rG",
        "colab": {
          "base_uri": "https://localhost:8080/",
          "height": 1000
        },
        "outputId": "e10c5f41-f968-42ef-8320-b759e8534399"
      },
      "source": [
        "condition = (restaurants[\"CAMIS\"] == '41430594')\n",
        "restaurants[condition]\n"
      ],
      "execution_count": 38,
      "outputs": [
        {
          "output_type": "execute_result",
          "data": {
            "text/html": [
              "<div>\n",
              "<style scoped>\n",
              "    .dataframe tbody tr th:only-of-type {\n",
              "        vertical-align: middle;\n",
              "    }\n",
              "\n",
              "    .dataframe tbody tr th {\n",
              "        vertical-align: top;\n",
              "    }\n",
              "\n",
              "    .dataframe thead th {\n",
              "        text-align: right;\n",
              "    }\n",
              "</style>\n",
              "<table border=\"1\" class=\"dataframe\">\n",
              "  <thead>\n",
              "    <tr style=\"text-align: right;\">\n",
              "      <th></th>\n",
              "      <th>CAMIS</th>\n",
              "      <th>DBA</th>\n",
              "      <th>BORO</th>\n",
              "      <th>BUILDING</th>\n",
              "      <th>STREET</th>\n",
              "      <th>ZIPCODE</th>\n",
              "      <th>PHONE</th>\n",
              "      <th>CUISINE DESCRIPTION</th>\n",
              "      <th>INSPECTION DATE</th>\n",
              "      <th>ACTION</th>\n",
              "      <th>VIOLATION CODE</th>\n",
              "      <th>VIOLATION DESCRIPTION</th>\n",
              "      <th>CRITICAL FLAG</th>\n",
              "      <th>SCORE</th>\n",
              "      <th>GRADE</th>\n",
              "      <th>GRADE DATE</th>\n",
              "      <th>RECORD DATE</th>\n",
              "      <th>INSPECTION TYPE</th>\n",
              "      <th>Latitude</th>\n",
              "      <th>Longitude</th>\n",
              "      <th>Community Board</th>\n",
              "      <th>Council District</th>\n",
              "      <th>Census Tract</th>\n",
              "      <th>BIN</th>\n",
              "      <th>BBL</th>\n",
              "      <th>NTA</th>\n",
              "    </tr>\n",
              "  </thead>\n",
              "  <tbody>\n",
              "    <tr>\n",
              "      <th>16820</th>\n",
              "      <td>41430594</td>\n",
              "      <td>1 STOP PATTY SHOP</td>\n",
              "      <td>Manhattan</td>\n",
              "      <td>1708</td>\n",
              "      <td>AMSTERDAM AVENUE</td>\n",
              "      <td>10031</td>\n",
              "      <td>2124917466</td>\n",
              "      <td>Bakery</td>\n",
              "      <td>2016-07-22</td>\n",
              "      <td>Establishment re-opened by DOHMH</td>\n",
              "      <td>04L</td>\n",
              "      <td>Evidence of mice or live mice present in facil...</td>\n",
              "      <td>Y</td>\n",
              "      <td>7.0</td>\n",
              "      <td>NaN</td>\n",
              "      <td>2016-07-22</td>\n",
              "      <td>2019-10-26</td>\n",
              "      <td>Cycle Inspection / Reopening Inspection</td>\n",
              "      <td>40.824869602416</td>\n",
              "      <td>-73.947878825434</td>\n",
              "      <td>109</td>\n",
              "      <td>07</td>\n",
              "      <td>022900</td>\n",
              "      <td>1084345</td>\n",
              "      <td>1020760031</td>\n",
              "      <td>MN04</td>\n",
              "    </tr>\n",
              "    <tr>\n",
              "      <th>32381</th>\n",
              "      <td>41430594</td>\n",
              "      <td>1 STOP PATTY SHOP</td>\n",
              "      <td>Manhattan</td>\n",
              "      <td>1708</td>\n",
              "      <td>AMSTERDAM AVENUE</td>\n",
              "      <td>10031</td>\n",
              "      <td>2124917466</td>\n",
              "      <td>Bakery</td>\n",
              "      <td>2017-03-15</td>\n",
              "      <td>Violations were cited in the following area(s).</td>\n",
              "      <td>04L</td>\n",
              "      <td>Evidence of mice or live mice present in facil...</td>\n",
              "      <td>Y</td>\n",
              "      <td>9.0</td>\n",
              "      <td>A</td>\n",
              "      <td>2017-03-15</td>\n",
              "      <td>2019-10-26</td>\n",
              "      <td>Cycle Inspection / Initial Inspection</td>\n",
              "      <td>40.824869602416</td>\n",
              "      <td>-73.947878825434</td>\n",
              "      <td>109</td>\n",
              "      <td>07</td>\n",
              "      <td>022900</td>\n",
              "      <td>1084345</td>\n",
              "      <td>1020760031</td>\n",
              "      <td>MN04</td>\n",
              "    </tr>\n",
              "    <tr>\n",
              "      <th>82176</th>\n",
              "      <td>41430594</td>\n",
              "      <td>1 STOP PATTY SHOP</td>\n",
              "      <td>Manhattan</td>\n",
              "      <td>1708</td>\n",
              "      <td>AMSTERDAM AVENUE</td>\n",
              "      <td>10031</td>\n",
              "      <td>2124917466</td>\n",
              "      <td>Bakery</td>\n",
              "      <td>2017-03-15</td>\n",
              "      <td>Violations were cited in the following area(s).</td>\n",
              "      <td>08A</td>\n",
              "      <td>Facility not vermin proof. Harborage or condit...</td>\n",
              "      <td>N</td>\n",
              "      <td>9.0</td>\n",
              "      <td>A</td>\n",
              "      <td>2017-03-15</td>\n",
              "      <td>2019-10-26</td>\n",
              "      <td>Cycle Inspection / Initial Inspection</td>\n",
              "      <td>40.824869602416</td>\n",
              "      <td>-73.947878825434</td>\n",
              "      <td>109</td>\n",
              "      <td>07</td>\n",
              "      <td>022900</td>\n",
              "      <td>1084345</td>\n",
              "      <td>1020760031</td>\n",
              "      <td>MN04</td>\n",
              "    </tr>\n",
              "    <tr>\n",
              "      <th>87350</th>\n",
              "      <td>41430594</td>\n",
              "      <td>1 STOP PATTY SHOP</td>\n",
              "      <td>Manhattan</td>\n",
              "      <td>1708</td>\n",
              "      <td>AMSTERDAM AVENUE</td>\n",
              "      <td>10031</td>\n",
              "      <td>2124917466</td>\n",
              "      <td>Bakery</td>\n",
              "      <td>2016-09-07</td>\n",
              "      <td>Establishment Closed by DOHMH.  Violations wer...</td>\n",
              "      <td>05F</td>\n",
              "      <td>Insufficient or no refrigerated or hot holding...</td>\n",
              "      <td>Y</td>\n",
              "      <td>48.0</td>\n",
              "      <td>NaN</td>\n",
              "      <td>NaT</td>\n",
              "      <td>2019-10-26</td>\n",
              "      <td>Cycle Inspection / Re-inspection</td>\n",
              "      <td>40.824869602416</td>\n",
              "      <td>-73.947878825434</td>\n",
              "      <td>109</td>\n",
              "      <td>07</td>\n",
              "      <td>022900</td>\n",
              "      <td>1084345</td>\n",
              "      <td>1020760031</td>\n",
              "      <td>MN04</td>\n",
              "    </tr>\n",
              "    <tr>\n",
              "      <th>93684</th>\n",
              "      <td>41430594</td>\n",
              "      <td>1 STOP PATTY SHOP</td>\n",
              "      <td>Manhattan</td>\n",
              "      <td>1708</td>\n",
              "      <td>AMSTERDAM AVENUE</td>\n",
              "      <td>10031</td>\n",
              "      <td>2124917466</td>\n",
              "      <td>Bakery</td>\n",
              "      <td>2016-09-07</td>\n",
              "      <td>Establishment Closed by DOHMH.  Violations wer...</td>\n",
              "      <td>10F</td>\n",
              "      <td>Non-food contact surface improperly constructe...</td>\n",
              "      <td>N</td>\n",
              "      <td>48.0</td>\n",
              "      <td>NaN</td>\n",
              "      <td>NaT</td>\n",
              "      <td>2019-10-26</td>\n",
              "      <td>Cycle Inspection / Re-inspection</td>\n",
              "      <td>40.824869602416</td>\n",
              "      <td>-73.947878825434</td>\n",
              "      <td>109</td>\n",
              "      <td>07</td>\n",
              "      <td>022900</td>\n",
              "      <td>1084345</td>\n",
              "      <td>1020760031</td>\n",
              "      <td>MN04</td>\n",
              "    </tr>\n",
              "    <tr>\n",
              "      <th>93749</th>\n",
              "      <td>41430594</td>\n",
              "      <td>1 STOP PATTY SHOP</td>\n",
              "      <td>Manhattan</td>\n",
              "      <td>1708</td>\n",
              "      <td>AMSTERDAM AVENUE</td>\n",
              "      <td>10031</td>\n",
              "      <td>2124917466</td>\n",
              "      <td>Bakery</td>\n",
              "      <td>2016-07-14</td>\n",
              "      <td>Establishment Closed by DOHMH.  Violations wer...</td>\n",
              "      <td>10H</td>\n",
              "      <td>Proper sanitization not provided for utensil w...</td>\n",
              "      <td>N</td>\n",
              "      <td>30.0</td>\n",
              "      <td>NaN</td>\n",
              "      <td>NaT</td>\n",
              "      <td>2019-10-26</td>\n",
              "      <td>Cycle Inspection / Initial Inspection</td>\n",
              "      <td>40.824869602416</td>\n",
              "      <td>-73.947878825434</td>\n",
              "      <td>109</td>\n",
              "      <td>07</td>\n",
              "      <td>022900</td>\n",
              "      <td>1084345</td>\n",
              "      <td>1020760031</td>\n",
              "      <td>MN04</td>\n",
              "    </tr>\n",
              "    <tr>\n",
              "      <th>94182</th>\n",
              "      <td>41430594</td>\n",
              "      <td>1 STOP PATTY SHOP</td>\n",
              "      <td>Manhattan</td>\n",
              "      <td>1708</td>\n",
              "      <td>AMSTERDAM AVENUE</td>\n",
              "      <td>10031</td>\n",
              "      <td>2124917466</td>\n",
              "      <td>Bakery</td>\n",
              "      <td>2016-07-14</td>\n",
              "      <td>Establishment Closed by DOHMH.  Violations wer...</td>\n",
              "      <td>04N</td>\n",
              "      <td>Filth flies or food/refuse/sewage-associated (...</td>\n",
              "      <td>Y</td>\n",
              "      <td>30.0</td>\n",
              "      <td>NaN</td>\n",
              "      <td>NaT</td>\n",
              "      <td>2019-10-26</td>\n",
              "      <td>Cycle Inspection / Initial Inspection</td>\n",
              "      <td>40.824869602416</td>\n",
              "      <td>-73.947878825434</td>\n",
              "      <td>109</td>\n",
              "      <td>07</td>\n",
              "      <td>022900</td>\n",
              "      <td>1084345</td>\n",
              "      <td>1020760031</td>\n",
              "      <td>MN04</td>\n",
              "    </tr>\n",
              "    <tr>\n",
              "      <th>119992</th>\n",
              "      <td>41430594</td>\n",
              "      <td>1 STOP PATTY SHOP</td>\n",
              "      <td>Manhattan</td>\n",
              "      <td>1708</td>\n",
              "      <td>AMSTERDAM AVENUE</td>\n",
              "      <td>10031</td>\n",
              "      <td>2124917466</td>\n",
              "      <td>Bakery</td>\n",
              "      <td>2019-03-27</td>\n",
              "      <td>Violations were cited in the following area(s).</td>\n",
              "      <td>06C</td>\n",
              "      <td>Food not protected from potential source of co...</td>\n",
              "      <td>Y</td>\n",
              "      <td>10.0</td>\n",
              "      <td>A</td>\n",
              "      <td>2019-03-27</td>\n",
              "      <td>2019-10-26</td>\n",
              "      <td>Cycle Inspection / Initial Inspection</td>\n",
              "      <td>40.824869602416</td>\n",
              "      <td>-73.947878825434</td>\n",
              "      <td>109</td>\n",
              "      <td>07</td>\n",
              "      <td>022900</td>\n",
              "      <td>1084345</td>\n",
              "      <td>1020760031</td>\n",
              "      <td>MN04</td>\n",
              "    </tr>\n",
              "    <tr>\n",
              "      <th>178374</th>\n",
              "      <td>41430594</td>\n",
              "      <td>1 STOP PATTY SHOP</td>\n",
              "      <td>Manhattan</td>\n",
              "      <td>1708</td>\n",
              "      <td>AMSTERDAM AVENUE</td>\n",
              "      <td>10031</td>\n",
              "      <td>2124917466</td>\n",
              "      <td>Bakery</td>\n",
              "      <td>2016-09-13</td>\n",
              "      <td>Establishment re-opened by DOHMH</td>\n",
              "      <td>08A</td>\n",
              "      <td>Facility not vermin proof. Harborage or condit...</td>\n",
              "      <td>N</td>\n",
              "      <td>9.0</td>\n",
              "      <td>C</td>\n",
              "      <td>2016-09-13</td>\n",
              "      <td>2019-10-26</td>\n",
              "      <td>Cycle Inspection / Reopening Inspection</td>\n",
              "      <td>40.824869602416</td>\n",
              "      <td>-73.947878825434</td>\n",
              "      <td>109</td>\n",
              "      <td>07</td>\n",
              "      <td>022900</td>\n",
              "      <td>1084345</td>\n",
              "      <td>1020760031</td>\n",
              "      <td>MN04</td>\n",
              "    </tr>\n",
              "    <tr>\n",
              "      <th>178767</th>\n",
              "      <td>41430594</td>\n",
              "      <td>1 STOP PATTY SHOP</td>\n",
              "      <td>Manhattan</td>\n",
              "      <td>1708</td>\n",
              "      <td>AMSTERDAM AVENUE</td>\n",
              "      <td>10031</td>\n",
              "      <td>2124917466</td>\n",
              "      <td>Bakery</td>\n",
              "      <td>2016-09-07</td>\n",
              "      <td>Establishment Closed by DOHMH.  Violations wer...</td>\n",
              "      <td>02G</td>\n",
              "      <td>Cold food item held above 41º F (smoked fish a...</td>\n",
              "      <td>Y</td>\n",
              "      <td>48.0</td>\n",
              "      <td>NaN</td>\n",
              "      <td>NaT</td>\n",
              "      <td>2019-10-26</td>\n",
              "      <td>Cycle Inspection / Re-inspection</td>\n",
              "      <td>40.824869602416</td>\n",
              "      <td>-73.947878825434</td>\n",
              "      <td>109</td>\n",
              "      <td>07</td>\n",
              "      <td>022900</td>\n",
              "      <td>1084345</td>\n",
              "      <td>1020760031</td>\n",
              "      <td>MN04</td>\n",
              "    </tr>\n",
              "    <tr>\n",
              "      <th>179143</th>\n",
              "      <td>41430594</td>\n",
              "      <td>1 STOP PATTY SHOP</td>\n",
              "      <td>Manhattan</td>\n",
              "      <td>1708</td>\n",
              "      <td>AMSTERDAM AVENUE</td>\n",
              "      <td>10031</td>\n",
              "      <td>2124917466</td>\n",
              "      <td>Bakery</td>\n",
              "      <td>2016-07-22</td>\n",
              "      <td>Establishment re-opened by DOHMH</td>\n",
              "      <td>10F</td>\n",
              "      <td>Non-food contact surface improperly constructe...</td>\n",
              "      <td>N</td>\n",
              "      <td>7.0</td>\n",
              "      <td>NaN</td>\n",
              "      <td>2016-07-22</td>\n",
              "      <td>2019-10-26</td>\n",
              "      <td>Cycle Inspection / Reopening Inspection</td>\n",
              "      <td>40.824869602416</td>\n",
              "      <td>-73.947878825434</td>\n",
              "      <td>109</td>\n",
              "      <td>07</td>\n",
              "      <td>022900</td>\n",
              "      <td>1084345</td>\n",
              "      <td>1020760031</td>\n",
              "      <td>MN04</td>\n",
              "    </tr>\n",
              "    <tr>\n",
              "      <th>196436</th>\n",
              "      <td>41430594</td>\n",
              "      <td>1 STOP PATTY SHOP</td>\n",
              "      <td>Manhattan</td>\n",
              "      <td>1708</td>\n",
              "      <td>AMSTERDAM AVENUE</td>\n",
              "      <td>10031</td>\n",
              "      <td>2124917466</td>\n",
              "      <td>Bakery</td>\n",
              "      <td>2016-09-07</td>\n",
              "      <td>Establishment Closed by DOHMH.  Violations wer...</td>\n",
              "      <td>10A</td>\n",
              "      <td>Toilet facility not maintained and provided wi...</td>\n",
              "      <td>N</td>\n",
              "      <td>48.0</td>\n",
              "      <td>NaN</td>\n",
              "      <td>NaT</td>\n",
              "      <td>2019-10-26</td>\n",
              "      <td>Cycle Inspection / Re-inspection</td>\n",
              "      <td>40.824869602416</td>\n",
              "      <td>-73.947878825434</td>\n",
              "      <td>109</td>\n",
              "      <td>07</td>\n",
              "      <td>022900</td>\n",
              "      <td>1084345</td>\n",
              "      <td>1020760031</td>\n",
              "      <td>MN04</td>\n",
              "    </tr>\n",
              "    <tr>\n",
              "      <th>247757</th>\n",
              "      <td>41430594</td>\n",
              "      <td>1 STOP PATTY SHOP</td>\n",
              "      <td>Manhattan</td>\n",
              "      <td>1708</td>\n",
              "      <td>AMSTERDAM AVENUE</td>\n",
              "      <td>10031</td>\n",
              "      <td>2124917466</td>\n",
              "      <td>Bakery</td>\n",
              "      <td>2016-07-19</td>\n",
              "      <td>Violations were cited in the following area(s).</td>\n",
              "      <td>04L</td>\n",
              "      <td>Evidence of mice or live mice present in facil...</td>\n",
              "      <td>Y</td>\n",
              "      <td>7.0</td>\n",
              "      <td>NaN</td>\n",
              "      <td>NaT</td>\n",
              "      <td>2019-10-26</td>\n",
              "      <td>Cycle Inspection / Reopening Inspection</td>\n",
              "      <td>40.824869602416</td>\n",
              "      <td>-73.947878825434</td>\n",
              "      <td>109</td>\n",
              "      <td>07</td>\n",
              "      <td>022900</td>\n",
              "      <td>1084345</td>\n",
              "      <td>1020760031</td>\n",
              "      <td>MN04</td>\n",
              "    </tr>\n",
              "    <tr>\n",
              "      <th>251553</th>\n",
              "      <td>41430594</td>\n",
              "      <td>1 STOP PATTY SHOP</td>\n",
              "      <td>Manhattan</td>\n",
              "      <td>1708</td>\n",
              "      <td>AMSTERDAM AVENUE</td>\n",
              "      <td>10031</td>\n",
              "      <td>2124917466</td>\n",
              "      <td>Bakery</td>\n",
              "      <td>2016-09-13</td>\n",
              "      <td>Establishment re-opened by DOHMH</td>\n",
              "      <td>04L</td>\n",
              "      <td>Evidence of mice or live mice present in facil...</td>\n",
              "      <td>Y</td>\n",
              "      <td>9.0</td>\n",
              "      <td>C</td>\n",
              "      <td>2016-09-13</td>\n",
              "      <td>2019-10-26</td>\n",
              "      <td>Cycle Inspection / Reopening Inspection</td>\n",
              "      <td>40.824869602416</td>\n",
              "      <td>-73.947878825434</td>\n",
              "      <td>109</td>\n",
              "      <td>07</td>\n",
              "      <td>022900</td>\n",
              "      <td>1084345</td>\n",
              "      <td>1020760031</td>\n",
              "      <td>MN04</td>\n",
              "    </tr>\n",
              "    <tr>\n",
              "      <th>278026</th>\n",
              "      <td>41430594</td>\n",
              "      <td>1 STOP PATTY SHOP</td>\n",
              "      <td>Manhattan</td>\n",
              "      <td>1708</td>\n",
              "      <td>AMSTERDAM AVENUE</td>\n",
              "      <td>10031</td>\n",
              "      <td>2124917466</td>\n",
              "      <td>Bakery</td>\n",
              "      <td>2016-07-14</td>\n",
              "      <td>Establishment Closed by DOHMH.  Violations wer...</td>\n",
              "      <td>04L</td>\n",
              "      <td>Evidence of mice or live mice present in facil...</td>\n",
              "      <td>Y</td>\n",
              "      <td>30.0</td>\n",
              "      <td>NaN</td>\n",
              "      <td>NaT</td>\n",
              "      <td>2019-10-26</td>\n",
              "      <td>Cycle Inspection / Initial Inspection</td>\n",
              "      <td>40.824869602416</td>\n",
              "      <td>-73.947878825434</td>\n",
              "      <td>109</td>\n",
              "      <td>07</td>\n",
              "      <td>022900</td>\n",
              "      <td>1084345</td>\n",
              "      <td>1020760031</td>\n",
              "      <td>MN04</td>\n",
              "    </tr>\n",
              "    <tr>\n",
              "      <th>296686</th>\n",
              "      <td>41430594</td>\n",
              "      <td>1 STOP PATTY SHOP</td>\n",
              "      <td>Manhattan</td>\n",
              "      <td>1708</td>\n",
              "      <td>AMSTERDAM AVENUE</td>\n",
              "      <td>10031</td>\n",
              "      <td>2124917466</td>\n",
              "      <td>Bakery</td>\n",
              "      <td>2016-09-07</td>\n",
              "      <td>Establishment Closed by DOHMH.  Violations wer...</td>\n",
              "      <td>04L</td>\n",
              "      <td>Evidence of mice or live mice present in facil...</td>\n",
              "      <td>Y</td>\n",
              "      <td>48.0</td>\n",
              "      <td>NaN</td>\n",
              "      <td>NaT</td>\n",
              "      <td>2019-10-26</td>\n",
              "      <td>Cycle Inspection / Re-inspection</td>\n",
              "      <td>40.824869602416</td>\n",
              "      <td>-73.947878825434</td>\n",
              "      <td>109</td>\n",
              "      <td>07</td>\n",
              "      <td>022900</td>\n",
              "      <td>1084345</td>\n",
              "      <td>1020760031</td>\n",
              "      <td>MN04</td>\n",
              "    </tr>\n",
              "    <tr>\n",
              "      <th>311639</th>\n",
              "      <td>41430594</td>\n",
              "      <td>1 STOP PATTY SHOP</td>\n",
              "      <td>Manhattan</td>\n",
              "      <td>1708</td>\n",
              "      <td>AMSTERDAM AVENUE</td>\n",
              "      <td>10031</td>\n",
              "      <td>2124917466</td>\n",
              "      <td>Bakery</td>\n",
              "      <td>2019-03-27</td>\n",
              "      <td>Violations were cited in the following area(s).</td>\n",
              "      <td>10F</td>\n",
              "      <td>Non-food contact surface improperly constructe...</td>\n",
              "      <td>N</td>\n",
              "      <td>10.0</td>\n",
              "      <td>A</td>\n",
              "      <td>2019-03-27</td>\n",
              "      <td>2019-10-26</td>\n",
              "      <td>Cycle Inspection / Initial Inspection</td>\n",
              "      <td>40.824869602416</td>\n",
              "      <td>-73.947878825434</td>\n",
              "      <td>109</td>\n",
              "      <td>07</td>\n",
              "      <td>022900</td>\n",
              "      <td>1084345</td>\n",
              "      <td>1020760031</td>\n",
              "      <td>MN04</td>\n",
              "    </tr>\n",
              "    <tr>\n",
              "      <th>318122</th>\n",
              "      <td>41430594</td>\n",
              "      <td>1 STOP PATTY SHOP</td>\n",
              "      <td>Manhattan</td>\n",
              "      <td>1708</td>\n",
              "      <td>AMSTERDAM AVENUE</td>\n",
              "      <td>10031</td>\n",
              "      <td>2124917466</td>\n",
              "      <td>Bakery</td>\n",
              "      <td>2016-09-12</td>\n",
              "      <td>Violations were cited in the following area(s).</td>\n",
              "      <td>04L</td>\n",
              "      <td>Evidence of mice or live mice present in facil...</td>\n",
              "      <td>Y</td>\n",
              "      <td>6.0</td>\n",
              "      <td>NaN</td>\n",
              "      <td>NaT</td>\n",
              "      <td>2019-10-26</td>\n",
              "      <td>Cycle Inspection / Reopening Inspection</td>\n",
              "      <td>40.824869602416</td>\n",
              "      <td>-73.947878825434</td>\n",
              "      <td>109</td>\n",
              "      <td>07</td>\n",
              "      <td>022900</td>\n",
              "      <td>1084345</td>\n",
              "      <td>1020760031</td>\n",
              "      <td>MN04</td>\n",
              "    </tr>\n",
              "    <tr>\n",
              "      <th>384801</th>\n",
              "      <td>41430594</td>\n",
              "      <td>1 STOP PATTY SHOP</td>\n",
              "      <td>Manhattan</td>\n",
              "      <td>1708</td>\n",
              "      <td>AMSTERDAM AVENUE</td>\n",
              "      <td>10031</td>\n",
              "      <td>2124917466</td>\n",
              "      <td>Bakery</td>\n",
              "      <td>2016-07-14</td>\n",
              "      <td>Violations were cited in the following area(s).</td>\n",
              "      <td>15I</td>\n",
              "      <td>\"\"No Smoking” and/or 'Smoking Permitted” sign ...</td>\n",
              "      <td>N</td>\n",
              "      <td>NaN</td>\n",
              "      <td>NaN</td>\n",
              "      <td>NaT</td>\n",
              "      <td>2019-10-26</td>\n",
              "      <td>Smoke-Free Air Act / Initial Inspection</td>\n",
              "      <td>40.824869602416</td>\n",
              "      <td>-73.947878825434</td>\n",
              "      <td>109</td>\n",
              "      <td>07</td>\n",
              "      <td>022900</td>\n",
              "      <td>1084345</td>\n",
              "      <td>1020760031</td>\n",
              "      <td>MN04</td>\n",
              "    </tr>\n",
              "    <tr>\n",
              "      <th>387601</th>\n",
              "      <td>41430594</td>\n",
              "      <td>1 STOP PATTY SHOP</td>\n",
              "      <td>Manhattan</td>\n",
              "      <td>1708</td>\n",
              "      <td>AMSTERDAM AVENUE</td>\n",
              "      <td>10031</td>\n",
              "      <td>2124917466</td>\n",
              "      <td>Bakery</td>\n",
              "      <td>2018-03-27</td>\n",
              "      <td>Violations were cited in the following area(s).</td>\n",
              "      <td>06E</td>\n",
              "      <td>Sanitized equipment or utensil, including in-u...</td>\n",
              "      <td>Y</td>\n",
              "      <td>5.0</td>\n",
              "      <td>A</td>\n",
              "      <td>2018-03-27</td>\n",
              "      <td>2019-10-26</td>\n",
              "      <td>Cycle Inspection / Initial Inspection</td>\n",
              "      <td>40.824869602416</td>\n",
              "      <td>-73.947878825434</td>\n",
              "      <td>109</td>\n",
              "      <td>07</td>\n",
              "      <td>022900</td>\n",
              "      <td>1084345</td>\n",
              "      <td>1020760031</td>\n",
              "      <td>MN04</td>\n",
              "    </tr>\n",
              "  </tbody>\n",
              "</table>\n",
              "</div>"
            ],
            "text/plain": [
              "           CAMIS                DBA       BORO  ...      BIN         BBL   NTA\n",
              "16820   41430594  1 STOP PATTY SHOP  Manhattan  ...  1084345  1020760031  MN04\n",
              "32381   41430594  1 STOP PATTY SHOP  Manhattan  ...  1084345  1020760031  MN04\n",
              "82176   41430594  1 STOP PATTY SHOP  Manhattan  ...  1084345  1020760031  MN04\n",
              "87350   41430594  1 STOP PATTY SHOP  Manhattan  ...  1084345  1020760031  MN04\n",
              "93684   41430594  1 STOP PATTY SHOP  Manhattan  ...  1084345  1020760031  MN04\n",
              "93749   41430594  1 STOP PATTY SHOP  Manhattan  ...  1084345  1020760031  MN04\n",
              "94182   41430594  1 STOP PATTY SHOP  Manhattan  ...  1084345  1020760031  MN04\n",
              "119992  41430594  1 STOP PATTY SHOP  Manhattan  ...  1084345  1020760031  MN04\n",
              "178374  41430594  1 STOP PATTY SHOP  Manhattan  ...  1084345  1020760031  MN04\n",
              "178767  41430594  1 STOP PATTY SHOP  Manhattan  ...  1084345  1020760031  MN04\n",
              "179143  41430594  1 STOP PATTY SHOP  Manhattan  ...  1084345  1020760031  MN04\n",
              "196436  41430594  1 STOP PATTY SHOP  Manhattan  ...  1084345  1020760031  MN04\n",
              "247757  41430594  1 STOP PATTY SHOP  Manhattan  ...  1084345  1020760031  MN04\n",
              "251553  41430594  1 STOP PATTY SHOP  Manhattan  ...  1084345  1020760031  MN04\n",
              "278026  41430594  1 STOP PATTY SHOP  Manhattan  ...  1084345  1020760031  MN04\n",
              "296686  41430594  1 STOP PATTY SHOP  Manhattan  ...  1084345  1020760031  MN04\n",
              "311639  41430594  1 STOP PATTY SHOP  Manhattan  ...  1084345  1020760031  MN04\n",
              "318122  41430594  1 STOP PATTY SHOP  Manhattan  ...  1084345  1020760031  MN04\n",
              "384801  41430594  1 STOP PATTY SHOP  Manhattan  ...  1084345  1020760031  MN04\n",
              "387601  41430594  1 STOP PATTY SHOP  Manhattan  ...  1084345  1020760031  MN04\n",
              "\n",
              "[20 rows x 26 columns]"
            ]
          },
          "metadata": {
            "tags": []
          },
          "execution_count": 38
        }
      ]
    },
    {
      "cell_type": "markdown",
      "metadata": {
        "id": "nuFvRgUD12rG"
      },
      "source": [
        "And we can use more complex conditions:"
      ]
    },
    {
      "cell_type": "code",
      "metadata": {
        "id": "-qDvIeGd12rH"
      },
      "source": [
        "mice_manhattan = (restaurants[\"VIOLATION CODE\"] == \"04L\") \\\n",
        "                    & (restaurants[\"BORO\"] == \"Manhattan\")\\\n",
        "                    & (restaurants[\"ZIPCODE\"] == \"10012\") \n",
        "                    "
      ],
      "execution_count": 48,
      "outputs": []
    },
    {
      "cell_type": "code",
      "metadata": {
        "id": "EDKtP1Zu12rH",
        "colab": {
          "base_uri": "https://localhost:8080/",
          "height": 1000
        },
        "outputId": "b19a799c-42c4-4300-fd05-274dfab55d61"
      },
      "source": [
        "has_mice_10012 = restaurants[mice_manhattan]\n",
        "has_mice_10012"
      ],
      "execution_count": 49,
      "outputs": [
        {
          "output_type": "execute_result",
          "data": {
            "text/html": [
              "<div>\n",
              "<style scoped>\n",
              "    .dataframe tbody tr th:only-of-type {\n",
              "        vertical-align: middle;\n",
              "    }\n",
              "\n",
              "    .dataframe tbody tr th {\n",
              "        vertical-align: top;\n",
              "    }\n",
              "\n",
              "    .dataframe thead th {\n",
              "        text-align: right;\n",
              "    }\n",
              "</style>\n",
              "<table border=\"1\" class=\"dataframe\">\n",
              "  <thead>\n",
              "    <tr style=\"text-align: right;\">\n",
              "      <th></th>\n",
              "      <th>CAMIS</th>\n",
              "      <th>DBA</th>\n",
              "      <th>BORO</th>\n",
              "      <th>BUILDING</th>\n",
              "      <th>STREET</th>\n",
              "      <th>ZIPCODE</th>\n",
              "      <th>PHONE</th>\n",
              "      <th>CUISINE DESCRIPTION</th>\n",
              "      <th>INSPECTION DATE</th>\n",
              "      <th>ACTION</th>\n",
              "      <th>VIOLATION CODE</th>\n",
              "      <th>VIOLATION DESCRIPTION</th>\n",
              "      <th>CRITICAL FLAG</th>\n",
              "      <th>SCORE</th>\n",
              "      <th>GRADE</th>\n",
              "      <th>GRADE DATE</th>\n",
              "      <th>RECORD DATE</th>\n",
              "      <th>INSPECTION TYPE</th>\n",
              "      <th>Latitude</th>\n",
              "      <th>Longitude</th>\n",
              "      <th>Community Board</th>\n",
              "      <th>Council District</th>\n",
              "      <th>Census Tract</th>\n",
              "      <th>BIN</th>\n",
              "      <th>BBL</th>\n",
              "      <th>NTA</th>\n",
              "    </tr>\n",
              "  </thead>\n",
              "  <tbody>\n",
              "    <tr>\n",
              "      <th>92</th>\n",
              "      <td>41676787</td>\n",
              "      <td>CHOBANI SOHO</td>\n",
              "      <td>Manhattan</td>\n",
              "      <td>150</td>\n",
              "      <td>PRINCE STREET</td>\n",
              "      <td>10012</td>\n",
              "      <td>6073371246</td>\n",
              "      <td>American</td>\n",
              "      <td>2019-07-12</td>\n",
              "      <td>Violations were cited in the following area(s).</td>\n",
              "      <td>04L</td>\n",
              "      <td>Evidence of mice or live mice present in facil...</td>\n",
              "      <td>Y</td>\n",
              "      <td>9.0</td>\n",
              "      <td>A</td>\n",
              "      <td>2019-07-12</td>\n",
              "      <td>2019-10-26</td>\n",
              "      <td>Cycle Inspection / Re-inspection</td>\n",
              "      <td>40.725836962282</td>\n",
              "      <td>-74.001064319466</td>\n",
              "      <td>102</td>\n",
              "      <td>01</td>\n",
              "      <td>004900</td>\n",
              "      <td>1007733</td>\n",
              "      <td>1005020023</td>\n",
              "      <td>MN24</td>\n",
              "    </tr>\n",
              "    <tr>\n",
              "      <th>7389</th>\n",
              "      <td>50004221</td>\n",
              "      <td>INSOMNIA COOKIES</td>\n",
              "      <td>Manhattan</td>\n",
              "      <td>116</td>\n",
              "      <td>MACDOUGAL ST</td>\n",
              "      <td>10012</td>\n",
              "      <td>8776326654</td>\n",
              "      <td>Bakery</td>\n",
              "      <td>2018-09-14</td>\n",
              "      <td>Violations were cited in the following area(s).</td>\n",
              "      <td>04L</td>\n",
              "      <td>Evidence of mice or live mice present in facil...</td>\n",
              "      <td>Y</td>\n",
              "      <td>12.0</td>\n",
              "      <td>A</td>\n",
              "      <td>2018-09-14</td>\n",
              "      <td>2019-10-26</td>\n",
              "      <td>Cycle Inspection / Initial Inspection</td>\n",
              "      <td>40.729696105789</td>\n",
              "      <td>-74.00072522254</td>\n",
              "      <td>102</td>\n",
              "      <td>01</td>\n",
              "      <td>006500</td>\n",
              "      <td>1008694</td>\n",
              "      <td>1005400007</td>\n",
              "      <td>MN23</td>\n",
              "    </tr>\n",
              "    <tr>\n",
              "      <th>8692</th>\n",
              "      <td>41722632</td>\n",
              "      <td>CAFE HABANA/CAFE HABANA TO GO</td>\n",
              "      <td>Manhattan</td>\n",
              "      <td>17</td>\n",
              "      <td>PRINCE STREET</td>\n",
              "      <td>10012</td>\n",
              "      <td>2126252001</td>\n",
              "      <td>Latin (Cuban, Dominican, Puerto Rican, South &amp;...</td>\n",
              "      <td>2017-06-30</td>\n",
              "      <td>Establishment Closed by DOHMH.  Violations wer...</td>\n",
              "      <td>04L</td>\n",
              "      <td>Evidence of mice or live mice present in facil...</td>\n",
              "      <td>Y</td>\n",
              "      <td>20.0</td>\n",
              "      <td>NaN</td>\n",
              "      <td>NaT</td>\n",
              "      <td>2019-10-26</td>\n",
              "      <td>Cycle Inspection / Initial Inspection</td>\n",
              "      <td>40.72277091925</td>\n",
              "      <td>-73.994260155704</td>\n",
              "      <td>102</td>\n",
              "      <td>01</td>\n",
              "      <td>004300</td>\n",
              "      <td>1007909</td>\n",
              "      <td>1005080046</td>\n",
              "      <td>MN24</td>\n",
              "    </tr>\n",
              "    <tr>\n",
              "      <th>8842</th>\n",
              "      <td>50078380</td>\n",
              "      <td>JUICE PRESS</td>\n",
              "      <td>Manhattan</td>\n",
              "      <td>156</td>\n",
              "      <td>PRINCE ST</td>\n",
              "      <td>10012</td>\n",
              "      <td>6462854078</td>\n",
              "      <td>Juice, Smoothies, Fruit Salads</td>\n",
              "      <td>2018-08-10</td>\n",
              "      <td>Establishment Closed by DOHMH.  Violations wer...</td>\n",
              "      <td>04L</td>\n",
              "      <td>Evidence of mice or live mice present in facil...</td>\n",
              "      <td>Y</td>\n",
              "      <td>83.0</td>\n",
              "      <td>NaN</td>\n",
              "      <td>NaT</td>\n",
              "      <td>2019-10-26</td>\n",
              "      <td>Pre-permit (Operational) / Initial Inspection</td>\n",
              "      <td>40.72591930365</td>\n",
              "      <td>-74.001226674804</td>\n",
              "      <td>102</td>\n",
              "      <td>01</td>\n",
              "      <td>004900</td>\n",
              "      <td>1007732</td>\n",
              "      <td>1005020020</td>\n",
              "      <td>MN24</td>\n",
              "    </tr>\n",
              "    <tr>\n",
              "      <th>10829</th>\n",
              "      <td>41718160</td>\n",
              "      <td>CARBONE</td>\n",
              "      <td>Manhattan</td>\n",
              "      <td>181</td>\n",
              "      <td>THOMPSON STREET</td>\n",
              "      <td>10012</td>\n",
              "      <td>2129330707</td>\n",
              "      <td>Italian</td>\n",
              "      <td>2017-05-17</td>\n",
              "      <td>Violations were cited in the following area(s).</td>\n",
              "      <td>04L</td>\n",
              "      <td>Evidence of mice or live mice present in facil...</td>\n",
              "      <td>Y</td>\n",
              "      <td>20.0</td>\n",
              "      <td>NaN</td>\n",
              "      <td>NaT</td>\n",
              "      <td>2019-10-26</td>\n",
              "      <td>Cycle Inspection / Initial Inspection</td>\n",
              "      <td>40.727876328343</td>\n",
              "      <td>-74.000144318937</td>\n",
              "      <td>102</td>\n",
              "      <td>03</td>\n",
              "      <td>006500</td>\n",
              "      <td>1084920</td>\n",
              "      <td>1005257503</td>\n",
              "      <td>MN23</td>\n",
              "    </tr>\n",
              "    <tr>\n",
              "      <th>...</th>\n",
              "      <td>...</td>\n",
              "      <td>...</td>\n",
              "      <td>...</td>\n",
              "      <td>...</td>\n",
              "      <td>...</td>\n",
              "      <td>...</td>\n",
              "      <td>...</td>\n",
              "      <td>...</td>\n",
              "      <td>...</td>\n",
              "      <td>...</td>\n",
              "      <td>...</td>\n",
              "      <td>...</td>\n",
              "      <td>...</td>\n",
              "      <td>...</td>\n",
              "      <td>...</td>\n",
              "      <td>...</td>\n",
              "      <td>...</td>\n",
              "      <td>...</td>\n",
              "      <td>...</td>\n",
              "      <td>...</td>\n",
              "      <td>...</td>\n",
              "      <td>...</td>\n",
              "      <td>...</td>\n",
              "      <td>...</td>\n",
              "      <td>...</td>\n",
              "      <td>...</td>\n",
              "    </tr>\n",
              "    <tr>\n",
              "      <th>388052</th>\n",
              "      <td>50045947</td>\n",
              "      <td>SPRINGBONE KITCHEN</td>\n",
              "      <td>Manhattan</td>\n",
              "      <td>90</td>\n",
              "      <td>W 3RD ST</td>\n",
              "      <td>10012</td>\n",
              "      <td>6463689192</td>\n",
              "      <td>American</td>\n",
              "      <td>2017-12-06</td>\n",
              "      <td>Establishment Closed by DOHMH.  Violations wer...</td>\n",
              "      <td>04L</td>\n",
              "      <td>Evidence of mice or live mice present in facil...</td>\n",
              "      <td>Y</td>\n",
              "      <td>62.0</td>\n",
              "      <td>NaN</td>\n",
              "      <td>NaT</td>\n",
              "      <td>2019-10-26</td>\n",
              "      <td>Cycle Inspection / Initial Inspection</td>\n",
              "      <td>40.729901961802</td>\n",
              "      <td>-73.9990799387</td>\n",
              "      <td>102</td>\n",
              "      <td>01</td>\n",
              "      <td>006500</td>\n",
              "      <td>1008671</td>\n",
              "      <td>1005390014</td>\n",
              "      <td>MN23</td>\n",
              "    </tr>\n",
              "    <tr>\n",
              "      <th>388859</th>\n",
              "      <td>50049466</td>\n",
              "      <td>SWEETS BY CHLOE</td>\n",
              "      <td>Manhattan</td>\n",
              "      <td>185</td>\n",
              "      <td>BLEECKER ST</td>\n",
              "      <td>10012</td>\n",
              "      <td>2122908000</td>\n",
              "      <td>Bakery</td>\n",
              "      <td>2017-05-26</td>\n",
              "      <td>Violations were cited in the following area(s).</td>\n",
              "      <td>04L</td>\n",
              "      <td>Evidence of mice or live mice present in facil...</td>\n",
              "      <td>Y</td>\n",
              "      <td>10.0</td>\n",
              "      <td>A</td>\n",
              "      <td>2017-05-26</td>\n",
              "      <td>2019-10-26</td>\n",
              "      <td>Cycle Inspection / Initial Inspection</td>\n",
              "      <td>40.729078531416</td>\n",
              "      <td>-74.001006642818</td>\n",
              "      <td>102</td>\n",
              "      <td>01</td>\n",
              "      <td>006500</td>\n",
              "      <td>1008715</td>\n",
              "      <td>1005400043</td>\n",
              "      <td>MN23</td>\n",
              "    </tr>\n",
              "    <tr>\n",
              "      <th>389629</th>\n",
              "      <td>50036129</td>\n",
              "      <td>BISTROT LEO</td>\n",
              "      <td>Manhattan</td>\n",
              "      <td>60</td>\n",
              "      <td>THOMPSON ST</td>\n",
              "      <td>10012</td>\n",
              "      <td>2122198119</td>\n",
              "      <td>American</td>\n",
              "      <td>2018-09-04</td>\n",
              "      <td>Violations were cited in the following area(s).</td>\n",
              "      <td>04L</td>\n",
              "      <td>Evidence of mice or live mice present in facil...</td>\n",
              "      <td>Y</td>\n",
              "      <td>25.0</td>\n",
              "      <td>B</td>\n",
              "      <td>2018-09-04</td>\n",
              "      <td>2019-10-26</td>\n",
              "      <td>Cycle Inspection / Re-inspection</td>\n",
              "      <td>40.724176338947</td>\n",
              "      <td>-74.0031964863</td>\n",
              "      <td>102</td>\n",
              "      <td>01</td>\n",
              "      <td>004700</td>\n",
              "      <td>1087362</td>\n",
              "      <td>1004880003</td>\n",
              "      <td>MN24</td>\n",
              "    </tr>\n",
              "    <tr>\n",
              "      <th>390652</th>\n",
              "      <td>50079043</td>\n",
              "      <td>DOMODOMO KITCHEN/ RAW BAR</td>\n",
              "      <td>Manhattan</td>\n",
              "      <td>138-140</td>\n",
              "      <td>W HOUSTON ST</td>\n",
              "      <td>10012</td>\n",
              "      <td>6467070301</td>\n",
              "      <td>Seafood</td>\n",
              "      <td>2018-06-05</td>\n",
              "      <td>Violations were cited in the following area(s).</td>\n",
              "      <td>04L</td>\n",
              "      <td>Evidence of mice or live mice present in facil...</td>\n",
              "      <td>Y</td>\n",
              "      <td>33.0</td>\n",
              "      <td>NaN</td>\n",
              "      <td>NaT</td>\n",
              "      <td>2019-10-26</td>\n",
              "      <td>Pre-permit (Operational) / Initial Inspection</td>\n",
              "      <td>40.727821420367</td>\n",
              "      <td>-74.001710177992</td>\n",
              "      <td>102</td>\n",
              "      <td>03</td>\n",
              "      <td>006500</td>\n",
              "      <td>1008338</td>\n",
              "      <td>1005260079</td>\n",
              "      <td>MN23</td>\n",
              "    </tr>\n",
              "    <tr>\n",
              "      <th>392552</th>\n",
              "      <td>40620325</td>\n",
              "      <td>BOND ST</td>\n",
              "      <td>Manhattan</td>\n",
              "      <td>6</td>\n",
              "      <td>BOND STREET</td>\n",
              "      <td>10012</td>\n",
              "      <td>2127772500</td>\n",
              "      <td>Japanese</td>\n",
              "      <td>2018-12-05</td>\n",
              "      <td>Violations were cited in the following area(s).</td>\n",
              "      <td>04L</td>\n",
              "      <td>Evidence of mice or live mice present in facil...</td>\n",
              "      <td>Y</td>\n",
              "      <td>32.0</td>\n",
              "      <td>NaN</td>\n",
              "      <td>NaT</td>\n",
              "      <td>2019-10-26</td>\n",
              "      <td>Cycle Inspection / Initial Inspection</td>\n",
              "      <td>40.726833186084</td>\n",
              "      <td>-73.994512358639</td>\n",
              "      <td>102</td>\n",
              "      <td>01</td>\n",
              "      <td>005502</td>\n",
              "      <td>1080072</td>\n",
              "      <td>1005300065</td>\n",
              "      <td>MN23</td>\n",
              "    </tr>\n",
              "  </tbody>\n",
              "</table>\n",
              "<p>405 rows × 26 columns</p>\n",
              "</div>"
            ],
            "text/plain": [
              "           CAMIS                            DBA  ...         BBL   NTA\n",
              "92      41676787                   CHOBANI SOHO  ...  1005020023  MN24\n",
              "7389    50004221               INSOMNIA COOKIES  ...  1005400007  MN23\n",
              "8692    41722632  CAFE HABANA/CAFE HABANA TO GO  ...  1005080046  MN24\n",
              "8842    50078380                    JUICE PRESS  ...  1005020020  MN24\n",
              "10829   41718160                        CARBONE  ...  1005257503  MN23\n",
              "...          ...                            ...  ...         ...   ...\n",
              "388052  50045947             SPRINGBONE KITCHEN  ...  1005390014  MN23\n",
              "388859  50049466                SWEETS BY CHLOE  ...  1005400043  MN23\n",
              "389629  50036129                    BISTROT LEO  ...  1004880003  MN24\n",
              "390652  50079043      DOMODOMO KITCHEN/ RAW BAR  ...  1005260079  MN23\n",
              "392552  40620325                        BOND ST  ...  1005300065  MN23\n",
              "\n",
              "[405 rows x 26 columns]"
            ]
          },
          "metadata": {
            "tags": []
          },
          "execution_count": 49
        }
      ]
    },
    {
      "cell_type": "code",
      "metadata": {
        "id": "wuWopMHl12rH",
        "colab": {
          "base_uri": "https://localhost:8080/"
        },
        "outputId": "66058a16-d66e-4803-b855-443a77cbf3e1"
      },
      "source": [
        "has_mice_10012[\"DBA\"].value_counts()[:20]"
      ],
      "execution_count": 50,
      "outputs": [
        {
          "output_type": "execute_result",
          "data": {
            "text/plain": [
              "LITTLE CUPCAKE BAKE SHOP        10\n",
              "CHACHIS                          8\n",
              "THINK COFFEE                     7\n",
              "SPRINGBONE KITCHEN               7\n",
              "COCO & CRU/SWEETWATER SOCIAL     7\n",
              "DANTE                            6\n",
              "INSOMNIA COOKIES                 6\n",
              "EGG SHOP                         6\n",
              "MONTE'S                          6\n",
              "PICCOLA CUCINA                   5\n",
              "BANTER                           5\n",
              "TRIONA'S                         5\n",
              "LITTLE RASCAL                    5\n",
              "THE RED LION                     5\n",
              "THE GRISLY PEAR                  5\n",
              "ANGELIKA FILM CENTER             5\n",
              "GO ZEN RESTAURANT                5\n",
              "BAO TEA HOUSE                    5\n",
              "GROOVE                           5\n",
              "GATSBY'S                         5\n",
              "Name: DBA, dtype: int64"
            ]
          },
          "metadata": {
            "tags": []
          },
          "execution_count": 50
        }
      ]
    },
    {
      "cell_type": "code",
      "metadata": {
        "scrolled": true,
        "id": "6-a_Dbpo12rI",
        "colab": {
          "base_uri": "https://localhost:8080/",
          "height": 677
        },
        "outputId": "eb9383ec-dbe4-49f6-9223-540e1f6da29d"
      },
      "source": [
        "has_mice_10012[\"DBA\"].value_counts()[:20].plot(kind='bar')"
      ],
      "execution_count": 51,
      "outputs": [
        {
          "output_type": "execute_result",
          "data": {
            "text/plain": [
              "<matplotlib.axes._subplots.AxesSubplot at 0x7fc268442490>"
            ]
          },
          "metadata": {
            "tags": []
          },
          "execution_count": 51
        },
        {
          "output_type": "display_data",
          "data": {
            "image/png": "[encoded data removed]",
            "text/plain": [
              "<Figure size 748.8x514.8 with 1 Axes>"
            ]
          },
          "metadata": {
            "tags": []
          }
        }
      ]
    },
    {
      "cell_type": "markdown",
      "metadata": {
        "id": "vZVJpgft12rI"
      },
      "source": [
        "### Pivot Tables\n",
        "\n",
        "[Pivot tables](http://pandas.pydata.org/pandas-docs/stable/generated/pandas.pivot_table.html) is one of the most commonly used exploratory tools, and in Pandas they are extremely flexible. \n",
        "\n",
        "For example, let's try to count the number of restaurants that are inspected every day. "
      ]
    },
    {
      "cell_type": "code",
      "metadata": {
        "id": "IlhbGYfT12rI"
      },
      "source": [
        "pivot = pd.pivot_table(\n",
        "    data = restaurants, \n",
        "    index = 'INSPECTION DATE', \n",
        "    values = 'CAMIS', \n",
        "    aggfunc = 'count'\n",
        ")"
      ],
      "execution_count": 52,
      "outputs": []
    },
    {
      "cell_type": "code",
      "metadata": {
        "id": "5PXoRaXu12rI",
        "colab": {
          "base_uri": "https://localhost:8080/",
          "height": 455
        },
        "outputId": "c2a57308-d573-4507-df63-f702960a9a33"
      },
      "source": [
        "pivot"
      ],
      "execution_count": 53,
      "outputs": [
        {
          "output_type": "execute_result",
          "data": {
            "text/html": [
              "<div>\n",
              "<style scoped>\n",
              "    .dataframe tbody tr th:only-of-type {\n",
              "        vertical-align: middle;\n",
              "    }\n",
              "\n",
              "    .dataframe tbody tr th {\n",
              "        vertical-align: top;\n",
              "    }\n",
              "\n",
              "    .dataframe thead th {\n",
              "        text-align: right;\n",
              "    }\n",
              "</style>\n",
              "<table border=\"1\" class=\"dataframe\">\n",
              "  <thead>\n",
              "    <tr style=\"text-align: right;\">\n",
              "      <th></th>\n",
              "      <th>CAMIS</th>\n",
              "    </tr>\n",
              "    <tr>\n",
              "      <th>INSPECTION DATE</th>\n",
              "      <th></th>\n",
              "    </tr>\n",
              "  </thead>\n",
              "  <tbody>\n",
              "    <tr>\n",
              "      <th>1900-01-01</th>\n",
              "      <td>1504</td>\n",
              "    </tr>\n",
              "    <tr>\n",
              "      <th>2013-06-04</th>\n",
              "      <td>10</td>\n",
              "    </tr>\n",
              "    <tr>\n",
              "      <th>2013-06-07</th>\n",
              "      <td>1</td>\n",
              "    </tr>\n",
              "    <tr>\n",
              "      <th>2013-06-20</th>\n",
              "      <td>9</td>\n",
              "    </tr>\n",
              "    <tr>\n",
              "      <th>2013-06-24</th>\n",
              "      <td>3</td>\n",
              "    </tr>\n",
              "    <tr>\n",
              "      <th>...</th>\n",
              "      <td>...</td>\n",
              "    </tr>\n",
              "    <tr>\n",
              "      <th>2019-10-19</th>\n",
              "      <td>101</td>\n",
              "    </tr>\n",
              "    <tr>\n",
              "      <th>2019-10-21</th>\n",
              "      <td>800</td>\n",
              "    </tr>\n",
              "    <tr>\n",
              "      <th>2019-10-22</th>\n",
              "      <td>875</td>\n",
              "    </tr>\n",
              "    <tr>\n",
              "      <th>2019-10-23</th>\n",
              "      <td>916</td>\n",
              "    </tr>\n",
              "    <tr>\n",
              "      <th>2019-10-24</th>\n",
              "      <td>676</td>\n",
              "    </tr>\n",
              "  </tbody>\n",
              "</table>\n",
              "<p>1327 rows × 1 columns</p>\n",
              "</div>"
            ],
            "text/plain": [
              "                 CAMIS\n",
              "INSPECTION DATE       \n",
              "1900-01-01        1504\n",
              "2013-06-04          10\n",
              "2013-06-07           1\n",
              "2013-06-20           9\n",
              "2013-06-24           3\n",
              "...                ...\n",
              "2019-10-19         101\n",
              "2019-10-21         800\n",
              "2019-10-22         875\n",
              "2019-10-23         916\n",
              "2019-10-24         676\n",
              "\n",
              "[1327 rows x 1 columns]"
            ]
          },
          "metadata": {
            "tags": []
          },
          "execution_count": 53
        }
      ]
    },
    {
      "cell_type": "markdown",
      "metadata": {
        "id": "aP2M1f5X12rJ"
      },
      "source": [
        "##### Changing date granularity \n",
        "\n",
        "We can also use the `[resample](http://pandas.pydata.org/pandas-docs/stable/generated/pandas.DataFrame.resample.html)` command to change the frequency from one day, to, say, 7 days."
      ]
    },
    {
      "cell_type": "code",
      "metadata": {
        "id": "4R-VBMqc12rJ",
        "colab": {
          "base_uri": "https://localhost:8080/",
          "height": 455
        },
        "outputId": "c5c7f1ee-5d0c-42fc-b645-310f4bb242e7"
      },
      "source": [
        "pivot.resample('7D').mean()"
      ],
      "execution_count": 54,
      "outputs": [
        {
          "output_type": "execute_result",
          "data": {
            "text/html": [
              "<div>\n",
              "<style scoped>\n",
              "    .dataframe tbody tr th:only-of-type {\n",
              "        vertical-align: middle;\n",
              "    }\n",
              "\n",
              "    .dataframe tbody tr th {\n",
              "        vertical-align: top;\n",
              "    }\n",
              "\n",
              "    .dataframe thead th {\n",
              "        text-align: right;\n",
              "    }\n",
              "</style>\n",
              "<table border=\"1\" class=\"dataframe\">\n",
              "  <thead>\n",
              "    <tr style=\"text-align: right;\">\n",
              "      <th></th>\n",
              "      <th>CAMIS</th>\n",
              "    </tr>\n",
              "    <tr>\n",
              "      <th>INSPECTION DATE</th>\n",
              "      <th></th>\n",
              "    </tr>\n",
              "  </thead>\n",
              "  <tbody>\n",
              "    <tr>\n",
              "      <th>1900-01-01</th>\n",
              "      <td>1504.000000</td>\n",
              "    </tr>\n",
              "    <tr>\n",
              "      <th>1900-01-08</th>\n",
              "      <td>NaN</td>\n",
              "    </tr>\n",
              "    <tr>\n",
              "      <th>1900-01-15</th>\n",
              "      <td>NaN</td>\n",
              "    </tr>\n",
              "    <tr>\n",
              "      <th>1900-01-22</th>\n",
              "      <td>NaN</td>\n",
              "    </tr>\n",
              "    <tr>\n",
              "      <th>1900-01-29</th>\n",
              "      <td>NaN</td>\n",
              "    </tr>\n",
              "    <tr>\n",
              "      <th>...</th>\n",
              "      <td>...</td>\n",
              "    </tr>\n",
              "    <tr>\n",
              "      <th>2019-09-23</th>\n",
              "      <td>514.714286</td>\n",
              "    </tr>\n",
              "    <tr>\n",
              "      <th>2019-09-30</th>\n",
              "      <td>571.666667</td>\n",
              "    </tr>\n",
              "    <tr>\n",
              "      <th>2019-10-07</th>\n",
              "      <td>592.666667</td>\n",
              "    </tr>\n",
              "    <tr>\n",
              "      <th>2019-10-14</th>\n",
              "      <td>526.600000</td>\n",
              "    </tr>\n",
              "    <tr>\n",
              "      <th>2019-10-21</th>\n",
              "      <td>816.750000</td>\n",
              "    </tr>\n",
              "  </tbody>\n",
              "</table>\n",
              "<p>6252 rows × 1 columns</p>\n",
              "</div>"
            ],
            "text/plain": [
              "                       CAMIS\n",
              "INSPECTION DATE             \n",
              "1900-01-01       1504.000000\n",
              "1900-01-08               NaN\n",
              "1900-01-15               NaN\n",
              "1900-01-22               NaN\n",
              "1900-01-29               NaN\n",
              "...                      ...\n",
              "2019-09-23        514.714286\n",
              "2019-09-30        571.666667\n",
              "2019-10-07        592.666667\n",
              "2019-10-14        526.600000\n",
              "2019-10-21        816.750000\n",
              "\n",
              "[6252 rows x 1 columns]"
            ]
          },
          "metadata": {
            "tags": []
          },
          "execution_count": 54
        }
      ]
    },
    {
      "cell_type": "markdown",
      "metadata": {
        "id": "dhr3ci6P12rJ"
      },
      "source": [
        "Now, let's plot this. By default, Pandas considers the \"index\" column to be the x-axis, and plots the rest."
      ]
    },
    {
      "cell_type": "code",
      "metadata": {
        "id": "WQWUT39_12rJ",
        "colab": {
          "base_uri": "https://localhost:8080/",
          "height": 451
        },
        "outputId": "a88e34c3-af4b-4b6c-c8b0-d9ea63c36e71"
      },
      "source": [
        "pivot.plot()"
      ],
      "execution_count": 55,
      "outputs": [
        {
          "output_type": "execute_result",
          "data": {
            "text/plain": [
              "<matplotlib.axes._subplots.AxesSubplot at 0x7fc268442810>"
            ]
          },
          "metadata": {
            "tags": []
          },
          "execution_count": 55
        },
        {
          "output_type": "display_data",
          "data": {
            "image/png": "[encoded data removed]",
            "text/plain": [
              "<Figure size 748.8x514.8 with 1 Axes>"
            ]
          },
          "metadata": {
            "tags": []
          }
        }
      ]
    },
    {
      "cell_type": "markdown",
      "metadata": {
        "id": "so1KBaMW12rK"
      },
      "source": [
        "#### Deleting rows from a DataFrame\n",
        "\n",
        "Hm, that '1900-01-01' line is messing things up. Let's delete it, using the `drop` command. Notice a few things:\n",
        "* We use the `pd.to_datetime` command to convert the '1900-01-01' string into a datetime data type.\n",
        "* We use the `axis=0` parameter means that we delete a **row** with that index value. (The `axis=1` means that we delete a column.)\n",
        "* The `inplace=True` means that we change directly the dataframe, instead of returning a new dataframe that does not have the deleted value."
      ]
    },
    {
      "cell_type": "code",
      "metadata": {
        "id": "rjlHjsna12rK"
      },
      "source": [
        "pivot.drop(pd.to_datetime('1900-01-01'), axis=0, inplace=True) "
      ],
      "execution_count": 56,
      "outputs": []
    },
    {
      "cell_type": "markdown",
      "metadata": {
        "id": "l2HBN2ps12rK"
      },
      "source": [
        "And let's plot again."
      ]
    },
    {
      "cell_type": "code",
      "metadata": {
        "id": "-KS0uW2n12rK",
        "colab": {
          "base_uri": "https://localhost:8080/",
          "height": 451
        },
        "outputId": "49765832-cf6a-472a-c8e2-843453204647"
      },
      "source": [
        "pivot.plot()"
      ],
      "execution_count": 57,
      "outputs": [
        {
          "output_type": "execute_result",
          "data": {
            "text/plain": [
              "<matplotlib.axes._subplots.AxesSubplot at 0x7fc267d51850>"
            ]
          },
          "metadata": {
            "tags": []
          },
          "execution_count": 57
        },
        {
          "output_type": "display_data",
          "data": {
            "image/png": "[encoded data removed]",
            "text/plain": [
              "<Figure size 748.8x514.8 with 1 Axes>"
            ]
          },
          "metadata": {
            "tags": []
          }
        }
      ]
    },
    {
      "cell_type": "code",
      "metadata": {
        "id": "oxM8964H12rL",
        "colab": {
          "base_uri": "https://localhost:8080/",
          "height": 477
        },
        "outputId": "833121cc-d75f-41de-b2dc-037f3d68e323"
      },
      "source": [
        "pivot.resample('7D').mean().plot()"
      ],
      "execution_count": 58,
      "outputs": [
        {
          "output_type": "execute_result",
          "data": {
            "text/plain": [
              "<matplotlib.axes._subplots.AxesSubplot at 0x7fc267cddd50>"
            ]
          },
          "metadata": {
            "tags": []
          },
          "execution_count": 58
        },
        {
          "output_type": "display_data",
          "data": {
            "image/png": "[encoded data removed]",
            "text/plain": [
              "<Figure size 748.8x514.8 with 1 Axes>"
            ]
          },
          "metadata": {
            "tags": []
          }
        }
      ]
    },
    {
      "cell_type": "markdown",
      "metadata": {
        "id": "bPF1lMI912rL"
      },
      "source": [
        "#### Pivot Table with two (or more) variables)\n",
        "\n",
        "We would like to break down the results by borough, so we add the `columns` parameter."
      ]
    },
    {
      "cell_type": "code",
      "metadata": {
        "id": "Vfa9ei2S12rM"
      },
      "source": [
        "pivot2 = pd.pivot_table(\n",
        "    data = restaurants, #\n",
        "    index = 'INSPECTION DATE', \n",
        "    columns = 'BORO', \n",
        "    values = 'CAMIS', \n",
        "    aggfunc = 'count'\n",
        ")"
      ],
      "execution_count": 59,
      "outputs": []
    },
    {
      "cell_type": "code",
      "metadata": {
        "id": "ziB2N9o612rM",
        "colab": {
          "base_uri": "https://localhost:8080/",
          "height": 394
        },
        "outputId": "25c70731-1c2f-4b95-9e22-bdca6ced5db7"
      },
      "source": [
        "pivot2.head(10)"
      ],
      "execution_count": 60,
      "outputs": [
        {
          "output_type": "execute_result",
          "data": {
            "text/html": [
              "<div>\n",
              "<style scoped>\n",
              "    .dataframe tbody tr th:only-of-type {\n",
              "        vertical-align: middle;\n",
              "    }\n",
              "\n",
              "    .dataframe tbody tr th {\n",
              "        vertical-align: top;\n",
              "    }\n",
              "\n",
              "    .dataframe thead th {\n",
              "        text-align: right;\n",
              "    }\n",
              "</style>\n",
              "<table border=\"1\" class=\"dataframe\">\n",
              "  <thead>\n",
              "    <tr style=\"text-align: right;\">\n",
              "      <th>BORO</th>\n",
              "      <th>0</th>\n",
              "      <th>Bronx</th>\n",
              "      <th>Brooklyn</th>\n",
              "      <th>Manhattan</th>\n",
              "      <th>Queens</th>\n",
              "      <th>Staten Island</th>\n",
              "    </tr>\n",
              "    <tr>\n",
              "      <th>INSPECTION DATE</th>\n",
              "      <th></th>\n",
              "      <th></th>\n",
              "      <th></th>\n",
              "      <th></th>\n",
              "      <th></th>\n",
              "      <th></th>\n",
              "    </tr>\n",
              "  </thead>\n",
              "  <tbody>\n",
              "    <tr>\n",
              "      <th>1900-01-01</th>\n",
              "      <td>14.0</td>\n",
              "      <td>92.0</td>\n",
              "      <td>384.0</td>\n",
              "      <td>675.0</td>\n",
              "      <td>297.0</td>\n",
              "      <td>42.0</td>\n",
              "    </tr>\n",
              "    <tr>\n",
              "      <th>2013-06-04</th>\n",
              "      <td>NaN</td>\n",
              "      <td>NaN</td>\n",
              "      <td>10.0</td>\n",
              "      <td>NaN</td>\n",
              "      <td>NaN</td>\n",
              "      <td>NaN</td>\n",
              "    </tr>\n",
              "    <tr>\n",
              "      <th>2013-06-07</th>\n",
              "      <td>NaN</td>\n",
              "      <td>NaN</td>\n",
              "      <td>NaN</td>\n",
              "      <td>1.0</td>\n",
              "      <td>NaN</td>\n",
              "      <td>NaN</td>\n",
              "    </tr>\n",
              "    <tr>\n",
              "      <th>2013-06-20</th>\n",
              "      <td>NaN</td>\n",
              "      <td>NaN</td>\n",
              "      <td>9.0</td>\n",
              "      <td>NaN</td>\n",
              "      <td>NaN</td>\n",
              "      <td>NaN</td>\n",
              "    </tr>\n",
              "    <tr>\n",
              "      <th>2013-06-24</th>\n",
              "      <td>NaN</td>\n",
              "      <td>NaN</td>\n",
              "      <td>3.0</td>\n",
              "      <td>NaN</td>\n",
              "      <td>NaN</td>\n",
              "      <td>NaN</td>\n",
              "    </tr>\n",
              "    <tr>\n",
              "      <th>2013-10-08</th>\n",
              "      <td>NaN</td>\n",
              "      <td>NaN</td>\n",
              "      <td>3.0</td>\n",
              "      <td>NaN</td>\n",
              "      <td>NaN</td>\n",
              "      <td>NaN</td>\n",
              "    </tr>\n",
              "    <tr>\n",
              "      <th>2013-10-22</th>\n",
              "      <td>NaN</td>\n",
              "      <td>NaN</td>\n",
              "      <td>2.0</td>\n",
              "      <td>NaN</td>\n",
              "      <td>NaN</td>\n",
              "      <td>NaN</td>\n",
              "    </tr>\n",
              "    <tr>\n",
              "      <th>2013-10-29</th>\n",
              "      <td>NaN</td>\n",
              "      <td>NaN</td>\n",
              "      <td>2.0</td>\n",
              "      <td>NaN</td>\n",
              "      <td>NaN</td>\n",
              "      <td>NaN</td>\n",
              "    </tr>\n",
              "    <tr>\n",
              "      <th>2013-11-01</th>\n",
              "      <td>NaN</td>\n",
              "      <td>NaN</td>\n",
              "      <td>1.0</td>\n",
              "      <td>NaN</td>\n",
              "      <td>NaN</td>\n",
              "      <td>NaN</td>\n",
              "    </tr>\n",
              "    <tr>\n",
              "      <th>2014-03-06</th>\n",
              "      <td>NaN</td>\n",
              "      <td>NaN</td>\n",
              "      <td>1.0</td>\n",
              "      <td>NaN</td>\n",
              "      <td>NaN</td>\n",
              "      <td>NaN</td>\n",
              "    </tr>\n",
              "  </tbody>\n",
              "</table>\n",
              "</div>"
            ],
            "text/plain": [
              "BORO                0  Bronx  Brooklyn  Manhattan  Queens  Staten Island\n",
              "INSPECTION DATE                                                         \n",
              "1900-01-01       14.0   92.0     384.0      675.0   297.0           42.0\n",
              "2013-06-04        NaN    NaN      10.0        NaN     NaN            NaN\n",
              "2013-06-07        NaN    NaN       NaN        1.0     NaN            NaN\n",
              "2013-06-20        NaN    NaN       9.0        NaN     NaN            NaN\n",
              "2013-06-24        NaN    NaN       3.0        NaN     NaN            NaN\n",
              "2013-10-08        NaN    NaN       3.0        NaN     NaN            NaN\n",
              "2013-10-22        NaN    NaN       2.0        NaN     NaN            NaN\n",
              "2013-10-29        NaN    NaN       2.0        NaN     NaN            NaN\n",
              "2013-11-01        NaN    NaN       1.0        NaN     NaN            NaN\n",
              "2014-03-06        NaN    NaN       1.0        NaN     NaN            NaN"
            ]
          },
          "metadata": {
            "tags": []
          },
          "execution_count": 60
        }
      ]
    },
    {
      "cell_type": "markdown",
      "metadata": {
        "id": "bvD3TQiE12rM"
      },
      "source": [
        "##### Deleting rows and columns\n",
        "\n",
        "Now, you will notice that there are a few columns and rows that are just noise. The first row with date *'1900-01-01'* is clearly noise, and the *'0'* columns the same. We can use the `drop` command of Pandas to drop these."
      ]
    },
    {
      "cell_type": "code",
      "metadata": {
        "id": "O1PxZJ4y12rN",
        "colab": {
          "base_uri": "https://localhost:8080/",
          "height": 343
        },
        "outputId": "b59cab39-f18e-432d-d634-121804f36a16"
      },
      "source": [
        "# The \"axis=0\" means that we delete a row with that index value\n",
        "pivot2 = pivot2.drop(pd.to_datetime('1900-01-01'), axis=0) "
      ],
      "execution_count": 65,
      "outputs": [
        {
          "output_type": "error",
          "ename": "KeyError",
          "evalue": "ignored",
          "traceback": [
            "\u001b[0;31m---------------------------------------------------------------------------\u001b[0m",
            "\u001b[0;31mKeyError\u001b[0m                                  Traceback (most recent call last)",
            "\u001b[0;32m<ipython-input-65-4bfa45a763f6>\u001b[0m in \u001b[0;36m<module>\u001b[0;34m()\u001b[0m\n\u001b[1;32m      1\u001b[0m \u001b[0;31m# The \"axis=0\" means that we delete a row with that index value\u001b[0m\u001b[0;34m\u001b[0m\u001b[0;34m\u001b[0m\u001b[0;34m\u001b[0m\u001b[0m\n\u001b[0;32m----> 2\u001b[0;31m \u001b[0mpivot2\u001b[0m \u001b[0;34m=\u001b[0m \u001b[0mpivot2\u001b[0m\u001b[0;34m.\u001b[0m\u001b[0mdrop\u001b[0m\u001b[0;34m(\u001b[0m\u001b[0mpd\u001b[0m\u001b[0;34m.\u001b[0m\u001b[0mto_datetime\u001b[0m\u001b[0;34m(\u001b[0m\u001b[0;34m'1900-01-01'\u001b[0m\u001b[0;34m)\u001b[0m\u001b[0;34m,\u001b[0m \u001b[0maxis\u001b[0m\u001b[0;34m=\u001b[0m\u001b[0;36m0\u001b[0m\u001b[0;34m)\u001b[0m\u001b[0;34m\u001b[0m\u001b[0;34m\u001b[0m\u001b[0m\n\u001b[0m",
            "\u001b[0;32m/usr/local/lib/python3.7/dist-packages/pandas/core/frame.py\u001b[0m in \u001b[0;36mdrop\u001b[0;34m(self, labels, axis, index, columns, level, inplace, errors)\u001b[0m\n\u001b[1;32m   4172\u001b[0m             \u001b[0mlevel\u001b[0m\u001b[0;34m=\u001b[0m\u001b[0mlevel\u001b[0m\u001b[0;34m,\u001b[0m\u001b[0;34m\u001b[0m\u001b[0;34m\u001b[0m\u001b[0m\n\u001b[1;32m   4173\u001b[0m             \u001b[0minplace\u001b[0m\u001b[0;34m=\u001b[0m\u001b[0minplace\u001b[0m\u001b[0;34m,\u001b[0m\u001b[0;34m\u001b[0m\u001b[0;34m\u001b[0m\u001b[0m\n\u001b[0;32m-> 4174\u001b[0;31m             \u001b[0merrors\u001b[0m\u001b[0;34m=\u001b[0m\u001b[0merrors\u001b[0m\u001b[0;34m,\u001b[0m\u001b[0;34m\u001b[0m\u001b[0;34m\u001b[0m\u001b[0m\n\u001b[0m\u001b[1;32m   4175\u001b[0m         )\n\u001b[1;32m   4176\u001b[0m \u001b[0;34m\u001b[0m\u001b[0m\n",
            "\u001b[0;32m/usr/local/lib/python3.7/dist-packages/pandas/core/generic.py\u001b[0m in \u001b[0;36mdrop\u001b[0;34m(self, labels, axis, index, columns, level, inplace, errors)\u001b[0m\n\u001b[1;32m   3887\u001b[0m         \u001b[0;32mfor\u001b[0m \u001b[0maxis\u001b[0m\u001b[0;34m,\u001b[0m \u001b[0mlabels\u001b[0m \u001b[0;32min\u001b[0m \u001b[0maxes\u001b[0m\u001b[0;34m.\u001b[0m\u001b[0mitems\u001b[0m\u001b[0;34m(\u001b[0m\u001b[0;34m)\u001b[0m\u001b[0;34m:\u001b[0m\u001b[0;34m\u001b[0m\u001b[0;34m\u001b[0m\u001b[0m\n\u001b[1;32m   3888\u001b[0m             \u001b[0;32mif\u001b[0m \u001b[0mlabels\u001b[0m \u001b[0;32mis\u001b[0m \u001b[0;32mnot\u001b[0m \u001b[0;32mNone\u001b[0m\u001b[0;34m:\u001b[0m\u001b[0;34m\u001b[0m\u001b[0;34m\u001b[0m\u001b[0m\n\u001b[0;32m-> 3889\u001b[0;31m                 \u001b[0mobj\u001b[0m \u001b[0;34m=\u001b[0m \u001b[0mobj\u001b[0m\u001b[0;34m.\u001b[0m\u001b[0m_drop_axis\u001b[0m\u001b[0;34m(\u001b[0m\u001b[0mlabels\u001b[0m\u001b[0;34m,\u001b[0m \u001b[0maxis\u001b[0m\u001b[0;34m,\u001b[0m \u001b[0mlevel\u001b[0m\u001b[0;34m=\u001b[0m\u001b[0mlevel\u001b[0m\u001b[0;34m,\u001b[0m \u001b[0merrors\u001b[0m\u001b[0;34m=\u001b[0m\u001b[0merrors\u001b[0m\u001b[0;34m)\u001b[0m\u001b[0;34m\u001b[0m\u001b[0;34m\u001b[0m\u001b[0m\n\u001b[0m\u001b[1;32m   3890\u001b[0m \u001b[0;34m\u001b[0m\u001b[0m\n\u001b[1;32m   3891\u001b[0m         \u001b[0;32mif\u001b[0m \u001b[0minplace\u001b[0m\u001b[0;34m:\u001b[0m\u001b[0;34m\u001b[0m\u001b[0;34m\u001b[0m\u001b[0m\n",
            "\u001b[0;32m/usr/local/lib/python3.7/dist-packages/pandas/core/generic.py\u001b[0m in \u001b[0;36m_drop_axis\u001b[0;34m(self, labels, axis, level, errors)\u001b[0m\n\u001b[1;32m   3921\u001b[0m                 \u001b[0mnew_axis\u001b[0m \u001b[0;34m=\u001b[0m \u001b[0maxis\u001b[0m\u001b[0;34m.\u001b[0m\u001b[0mdrop\u001b[0m\u001b[0;34m(\u001b[0m\u001b[0mlabels\u001b[0m\u001b[0;34m,\u001b[0m \u001b[0mlevel\u001b[0m\u001b[0;34m=\u001b[0m\u001b[0mlevel\u001b[0m\u001b[0;34m,\u001b[0m \u001b[0merrors\u001b[0m\u001b[0;34m=\u001b[0m\u001b[0merrors\u001b[0m\u001b[0;34m)\u001b[0m\u001b[0;34m\u001b[0m\u001b[0;34m\u001b[0m\u001b[0m\n\u001b[1;32m   3922\u001b[0m             \u001b[0;32melse\u001b[0m\u001b[0;34m:\u001b[0m\u001b[0;34m\u001b[0m\u001b[0;34m\u001b[0m\u001b[0m\n\u001b[0;32m-> 3923\u001b[0;31m                 \u001b[0mnew_axis\u001b[0m \u001b[0;34m=\u001b[0m \u001b[0maxis\u001b[0m\u001b[0;34m.\u001b[0m\u001b[0mdrop\u001b[0m\u001b[0;34m(\u001b[0m\u001b[0mlabels\u001b[0m\u001b[0;34m,\u001b[0m \u001b[0merrors\u001b[0m\u001b[0;34m=\u001b[0m\u001b[0merrors\u001b[0m\u001b[0;34m)\u001b[0m\u001b[0;34m\u001b[0m\u001b[0;34m\u001b[0m\u001b[0m\n\u001b[0m\u001b[1;32m   3924\u001b[0m             \u001b[0mresult\u001b[0m \u001b[0;34m=\u001b[0m \u001b[0mself\u001b[0m\u001b[0;34m.\u001b[0m\u001b[0mreindex\u001b[0m\u001b[0;34m(\u001b[0m\u001b[0;34m**\u001b[0m\u001b[0;34m{\u001b[0m\u001b[0maxis_name\u001b[0m\u001b[0;34m:\u001b[0m \u001b[0mnew_axis\u001b[0m\u001b[0;34m}\u001b[0m\u001b[0;34m)\u001b[0m\u001b[0;34m\u001b[0m\u001b[0;34m\u001b[0m\u001b[0m\n\u001b[1;32m   3925\u001b[0m \u001b[0;34m\u001b[0m\u001b[0m\n",
            "\u001b[0;32m/usr/local/lib/python3.7/dist-packages/pandas/core/indexes/base.py\u001b[0m in \u001b[0;36mdrop\u001b[0;34m(self, labels, errors)\u001b[0m\n\u001b[1;32m   5285\u001b[0m         \u001b[0;32mif\u001b[0m \u001b[0mmask\u001b[0m\u001b[0;34m.\u001b[0m\u001b[0many\u001b[0m\u001b[0;34m(\u001b[0m\u001b[0;34m)\u001b[0m\u001b[0;34m:\u001b[0m\u001b[0;34m\u001b[0m\u001b[0;34m\u001b[0m\u001b[0m\n\u001b[1;32m   5286\u001b[0m             \u001b[0;32mif\u001b[0m \u001b[0merrors\u001b[0m \u001b[0;34m!=\u001b[0m \u001b[0;34m\"ignore\"\u001b[0m\u001b[0;34m:\u001b[0m\u001b[0;34m\u001b[0m\u001b[0;34m\u001b[0m\u001b[0m\n\u001b[0;32m-> 5287\u001b[0;31m                 \u001b[0;32mraise\u001b[0m \u001b[0mKeyError\u001b[0m\u001b[0;34m(\u001b[0m\u001b[0;34mf\"{labels[mask]} not found in axis\"\u001b[0m\u001b[0;34m)\u001b[0m\u001b[0;34m\u001b[0m\u001b[0;34m\u001b[0m\u001b[0m\n\u001b[0m\u001b[1;32m   5288\u001b[0m             \u001b[0mindexer\u001b[0m \u001b[0;34m=\u001b[0m \u001b[0mindexer\u001b[0m\u001b[0;34m[\u001b[0m\u001b[0;34m~\u001b[0m\u001b[0mmask\u001b[0m\u001b[0;34m]\u001b[0m\u001b[0;34m\u001b[0m\u001b[0;34m\u001b[0m\u001b[0m\n\u001b[1;32m   5289\u001b[0m         \u001b[0;32mreturn\u001b[0m \u001b[0mself\u001b[0m\u001b[0;34m.\u001b[0m\u001b[0mdelete\u001b[0m\u001b[0;34m(\u001b[0m\u001b[0mindexer\u001b[0m\u001b[0;34m)\u001b[0m\u001b[0;34m\u001b[0m\u001b[0;34m\u001b[0m\u001b[0m\n",
            "\u001b[0;31mKeyError\u001b[0m: \"[Timestamp('1900-01-01 00:00:00')] not found in axis\""
          ]
        }
      ]
    },
    {
      "cell_type": "code",
      "metadata": {
        "id": "Sn9oq87y12rN",
        "colab": {
          "base_uri": "https://localhost:8080/",
          "height": 343
        },
        "outputId": "036d52ad-f976-4f87-9155-26dca62738d4"
      },
      "source": [
        "# The \"axis=1\" means that we delete a columns with that value\n",
        "pivot2 = pivot2.drop('0', axis=1)"
      ],
      "execution_count": 66,
      "outputs": [
        {
          "output_type": "error",
          "ename": "KeyError",
          "evalue": "ignored",
          "traceback": [
            "\u001b[0;31m---------------------------------------------------------------------------\u001b[0m",
            "\u001b[0;31mKeyError\u001b[0m                                  Traceback (most recent call last)",
            "\u001b[0;32m<ipython-input-66-fc9c85ae7c08>\u001b[0m in \u001b[0;36m<module>\u001b[0;34m()\u001b[0m\n\u001b[1;32m      1\u001b[0m \u001b[0;31m# The \"axis=1\" means that we delete a columns with that value\u001b[0m\u001b[0;34m\u001b[0m\u001b[0;34m\u001b[0m\u001b[0;34m\u001b[0m\u001b[0m\n\u001b[0;32m----> 2\u001b[0;31m \u001b[0mpivot2\u001b[0m \u001b[0;34m=\u001b[0m \u001b[0mpivot2\u001b[0m\u001b[0;34m.\u001b[0m\u001b[0mdrop\u001b[0m\u001b[0;34m(\u001b[0m\u001b[0;34m'0'\u001b[0m\u001b[0;34m,\u001b[0m \u001b[0maxis\u001b[0m\u001b[0;34m=\u001b[0m\u001b[0;36m1\u001b[0m\u001b[0;34m)\u001b[0m\u001b[0;34m\u001b[0m\u001b[0;34m\u001b[0m\u001b[0m\n\u001b[0m",
            "\u001b[0;32m/usr/local/lib/python3.7/dist-packages/pandas/core/frame.py\u001b[0m in \u001b[0;36mdrop\u001b[0;34m(self, labels, axis, index, columns, level, inplace, errors)\u001b[0m\n\u001b[1;32m   4172\u001b[0m             \u001b[0mlevel\u001b[0m\u001b[0;34m=\u001b[0m\u001b[0mlevel\u001b[0m\u001b[0;34m,\u001b[0m\u001b[0;34m\u001b[0m\u001b[0;34m\u001b[0m\u001b[0m\n\u001b[1;32m   4173\u001b[0m             \u001b[0minplace\u001b[0m\u001b[0;34m=\u001b[0m\u001b[0minplace\u001b[0m\u001b[0;34m,\u001b[0m\u001b[0;34m\u001b[0m\u001b[0;34m\u001b[0m\u001b[0m\n\u001b[0;32m-> 4174\u001b[0;31m             \u001b[0merrors\u001b[0m\u001b[0;34m=\u001b[0m\u001b[0merrors\u001b[0m\u001b[0;34m,\u001b[0m\u001b[0;34m\u001b[0m\u001b[0;34m\u001b[0m\u001b[0m\n\u001b[0m\u001b[1;32m   4175\u001b[0m         )\n\u001b[1;32m   4176\u001b[0m \u001b[0;34m\u001b[0m\u001b[0m\n",
            "\u001b[0;32m/usr/local/lib/python3.7/dist-packages/pandas/core/generic.py\u001b[0m in \u001b[0;36mdrop\u001b[0;34m(self, labels, axis, index, columns, level, inplace, errors)\u001b[0m\n\u001b[1;32m   3887\u001b[0m         \u001b[0;32mfor\u001b[0m \u001b[0maxis\u001b[0m\u001b[0;34m,\u001b[0m \u001b[0mlabels\u001b[0m \u001b[0;32min\u001b[0m \u001b[0maxes\u001b[0m\u001b[0;34m.\u001b[0m\u001b[0mitems\u001b[0m\u001b[0;34m(\u001b[0m\u001b[0;34m)\u001b[0m\u001b[0;34m:\u001b[0m\u001b[0;34m\u001b[0m\u001b[0;34m\u001b[0m\u001b[0m\n\u001b[1;32m   3888\u001b[0m             \u001b[0;32mif\u001b[0m \u001b[0mlabels\u001b[0m \u001b[0;32mis\u001b[0m \u001b[0;32mnot\u001b[0m \u001b[0;32mNone\u001b[0m\u001b[0;34m:\u001b[0m\u001b[0;34m\u001b[0m\u001b[0;34m\u001b[0m\u001b[0m\n\u001b[0;32m-> 3889\u001b[0;31m                 \u001b[0mobj\u001b[0m \u001b[0;34m=\u001b[0m \u001b[0mobj\u001b[0m\u001b[0;34m.\u001b[0m\u001b[0m_drop_axis\u001b[0m\u001b[0;34m(\u001b[0m\u001b[0mlabels\u001b[0m\u001b[0;34m,\u001b[0m \u001b[0maxis\u001b[0m\u001b[0;34m,\u001b[0m \u001b[0mlevel\u001b[0m\u001b[0;34m=\u001b[0m\u001b[0mlevel\u001b[0m\u001b[0;34m,\u001b[0m \u001b[0merrors\u001b[0m\u001b[0;34m=\u001b[0m\u001b[0merrors\u001b[0m\u001b[0;34m)\u001b[0m\u001b[0;34m\u001b[0m\u001b[0;34m\u001b[0m\u001b[0m\n\u001b[0m\u001b[1;32m   3890\u001b[0m \u001b[0;34m\u001b[0m\u001b[0m\n\u001b[1;32m   3891\u001b[0m         \u001b[0;32mif\u001b[0m \u001b[0minplace\u001b[0m\u001b[0;34m:\u001b[0m\u001b[0;34m\u001b[0m\u001b[0;34m\u001b[0m\u001b[0m\n",
            "\u001b[0;32m/usr/local/lib/python3.7/dist-packages/pandas/core/generic.py\u001b[0m in \u001b[0;36m_drop_axis\u001b[0;34m(self, labels, axis, level, errors)\u001b[0m\n\u001b[1;32m   3921\u001b[0m                 \u001b[0mnew_axis\u001b[0m \u001b[0;34m=\u001b[0m \u001b[0maxis\u001b[0m\u001b[0;34m.\u001b[0m\u001b[0mdrop\u001b[0m\u001b[0;34m(\u001b[0m\u001b[0mlabels\u001b[0m\u001b[0;34m,\u001b[0m \u001b[0mlevel\u001b[0m\u001b[0;34m=\u001b[0m\u001b[0mlevel\u001b[0m\u001b[0;34m,\u001b[0m \u001b[0merrors\u001b[0m\u001b[0;34m=\u001b[0m\u001b[0merrors\u001b[0m\u001b[0;34m)\u001b[0m\u001b[0;34m\u001b[0m\u001b[0;34m\u001b[0m\u001b[0m\n\u001b[1;32m   3922\u001b[0m             \u001b[0;32melse\u001b[0m\u001b[0;34m:\u001b[0m\u001b[0;34m\u001b[0m\u001b[0;34m\u001b[0m\u001b[0m\n\u001b[0;32m-> 3923\u001b[0;31m                 \u001b[0mnew_axis\u001b[0m \u001b[0;34m=\u001b[0m \u001b[0maxis\u001b[0m\u001b[0;34m.\u001b[0m\u001b[0mdrop\u001b[0m\u001b[0;34m(\u001b[0m\u001b[0mlabels\u001b[0m\u001b[0;34m,\u001b[0m \u001b[0merrors\u001b[0m\u001b[0;34m=\u001b[0m\u001b[0merrors\u001b[0m\u001b[0;34m)\u001b[0m\u001b[0;34m\u001b[0m\u001b[0;34m\u001b[0m\u001b[0m\n\u001b[0m\u001b[1;32m   3924\u001b[0m             \u001b[0mresult\u001b[0m \u001b[0;34m=\u001b[0m \u001b[0mself\u001b[0m\u001b[0;34m.\u001b[0m\u001b[0mreindex\u001b[0m\u001b[0;34m(\u001b[0m\u001b[0;34m**\u001b[0m\u001b[0;34m{\u001b[0m\u001b[0maxis_name\u001b[0m\u001b[0;34m:\u001b[0m \u001b[0mnew_axis\u001b[0m\u001b[0;34m}\u001b[0m\u001b[0;34m)\u001b[0m\u001b[0;34m\u001b[0m\u001b[0;34m\u001b[0m\u001b[0m\n\u001b[1;32m   3925\u001b[0m \u001b[0;34m\u001b[0m\u001b[0m\n",
            "\u001b[0;32m/usr/local/lib/python3.7/dist-packages/pandas/core/indexes/base.py\u001b[0m in \u001b[0;36mdrop\u001b[0;34m(self, labels, errors)\u001b[0m\n\u001b[1;32m   5285\u001b[0m         \u001b[0;32mif\u001b[0m \u001b[0mmask\u001b[0m\u001b[0;34m.\u001b[0m\u001b[0many\u001b[0m\u001b[0;34m(\u001b[0m\u001b[0;34m)\u001b[0m\u001b[0;34m:\u001b[0m\u001b[0;34m\u001b[0m\u001b[0;34m\u001b[0m\u001b[0m\n\u001b[1;32m   5286\u001b[0m             \u001b[0;32mif\u001b[0m \u001b[0merrors\u001b[0m \u001b[0;34m!=\u001b[0m \u001b[0;34m\"ignore\"\u001b[0m\u001b[0;34m:\u001b[0m\u001b[0;34m\u001b[0m\u001b[0;34m\u001b[0m\u001b[0m\n\u001b[0;32m-> 5287\u001b[0;31m                 \u001b[0;32mraise\u001b[0m \u001b[0mKeyError\u001b[0m\u001b[0;34m(\u001b[0m\u001b[0;34mf\"{labels[mask]} not found in axis\"\u001b[0m\u001b[0;34m)\u001b[0m\u001b[0;34m\u001b[0m\u001b[0;34m\u001b[0m\u001b[0m\n\u001b[0m\u001b[1;32m   5288\u001b[0m             \u001b[0mindexer\u001b[0m \u001b[0;34m=\u001b[0m \u001b[0mindexer\u001b[0m\u001b[0;34m[\u001b[0m\u001b[0;34m~\u001b[0m\u001b[0mmask\u001b[0m\u001b[0;34m]\u001b[0m\u001b[0;34m\u001b[0m\u001b[0;34m\u001b[0m\u001b[0m\n\u001b[1;32m   5289\u001b[0m         \u001b[0;32mreturn\u001b[0m \u001b[0mself\u001b[0m\u001b[0;34m.\u001b[0m\u001b[0mdelete\u001b[0m\u001b[0;34m(\u001b[0m\u001b[0mindexer\u001b[0m\u001b[0;34m)\u001b[0m\u001b[0;34m\u001b[0m\u001b[0;34m\u001b[0m\u001b[0m\n",
            "\u001b[0;31mKeyError\u001b[0m: \"['0'] not found in axis\""
          ]
        }
      ]
    },
    {
      "cell_type": "code",
      "metadata": {
        "id": "V_F0le2K12rN",
        "colab": {
          "base_uri": "https://localhost:8080/",
          "height": 455
        },
        "outputId": "79c807ee-b2e6-41c7-9e95-75652241839b"
      },
      "source": [
        "pivot2"
      ],
      "execution_count": 67,
      "outputs": [
        {
          "output_type": "execute_result",
          "data": {
            "text/html": [
              "<div>\n",
              "<style scoped>\n",
              "    .dataframe tbody tr th:only-of-type {\n",
              "        vertical-align: middle;\n",
              "    }\n",
              "\n",
              "    .dataframe tbody tr th {\n",
              "        vertical-align: top;\n",
              "    }\n",
              "\n",
              "    .dataframe thead th {\n",
              "        text-align: right;\n",
              "    }\n",
              "</style>\n",
              "<table border=\"1\" class=\"dataframe\">\n",
              "  <thead>\n",
              "    <tr style=\"text-align: right;\">\n",
              "      <th>BORO</th>\n",
              "      <th>Bronx</th>\n",
              "      <th>Brooklyn</th>\n",
              "      <th>Manhattan</th>\n",
              "      <th>Queens</th>\n",
              "      <th>Staten Island</th>\n",
              "    </tr>\n",
              "    <tr>\n",
              "      <th>INSPECTION DATE</th>\n",
              "      <th></th>\n",
              "      <th></th>\n",
              "      <th></th>\n",
              "      <th></th>\n",
              "      <th></th>\n",
              "    </tr>\n",
              "  </thead>\n",
              "  <tbody>\n",
              "    <tr>\n",
              "      <th>2013-06-04</th>\n",
              "      <td>NaN</td>\n",
              "      <td>10.0</td>\n",
              "      <td>NaN</td>\n",
              "      <td>NaN</td>\n",
              "      <td>NaN</td>\n",
              "    </tr>\n",
              "    <tr>\n",
              "      <th>2013-06-07</th>\n",
              "      <td>NaN</td>\n",
              "      <td>NaN</td>\n",
              "      <td>1.0</td>\n",
              "      <td>NaN</td>\n",
              "      <td>NaN</td>\n",
              "    </tr>\n",
              "    <tr>\n",
              "      <th>2013-06-20</th>\n",
              "      <td>NaN</td>\n",
              "      <td>9.0</td>\n",
              "      <td>NaN</td>\n",
              "      <td>NaN</td>\n",
              "      <td>NaN</td>\n",
              "    </tr>\n",
              "    <tr>\n",
              "      <th>2013-06-24</th>\n",
              "      <td>NaN</td>\n",
              "      <td>3.0</td>\n",
              "      <td>NaN</td>\n",
              "      <td>NaN</td>\n",
              "      <td>NaN</td>\n",
              "    </tr>\n",
              "    <tr>\n",
              "      <th>2013-10-08</th>\n",
              "      <td>NaN</td>\n",
              "      <td>3.0</td>\n",
              "      <td>NaN</td>\n",
              "      <td>NaN</td>\n",
              "      <td>NaN</td>\n",
              "    </tr>\n",
              "    <tr>\n",
              "      <th>...</th>\n",
              "      <td>...</td>\n",
              "      <td>...</td>\n",
              "      <td>...</td>\n",
              "      <td>...</td>\n",
              "      <td>...</td>\n",
              "    </tr>\n",
              "    <tr>\n",
              "      <th>2019-10-19</th>\n",
              "      <td>NaN</td>\n",
              "      <td>82.0</td>\n",
              "      <td>12.0</td>\n",
              "      <td>7.0</td>\n",
              "      <td>NaN</td>\n",
              "    </tr>\n",
              "    <tr>\n",
              "      <th>2019-10-21</th>\n",
              "      <td>58.0</td>\n",
              "      <td>206.0</td>\n",
              "      <td>399.0</td>\n",
              "      <td>113.0</td>\n",
              "      <td>24.0</td>\n",
              "    </tr>\n",
              "    <tr>\n",
              "      <th>2019-10-22</th>\n",
              "      <td>89.0</td>\n",
              "      <td>211.0</td>\n",
              "      <td>292.0</td>\n",
              "      <td>244.0</td>\n",
              "      <td>39.0</td>\n",
              "    </tr>\n",
              "    <tr>\n",
              "      <th>2019-10-23</th>\n",
              "      <td>108.0</td>\n",
              "      <td>248.0</td>\n",
              "      <td>320.0</td>\n",
              "      <td>220.0</td>\n",
              "      <td>20.0</td>\n",
              "    </tr>\n",
              "    <tr>\n",
              "      <th>2019-10-24</th>\n",
              "      <td>29.0</td>\n",
              "      <td>153.0</td>\n",
              "      <td>245.0</td>\n",
              "      <td>245.0</td>\n",
              "      <td>4.0</td>\n",
              "    </tr>\n",
              "  </tbody>\n",
              "</table>\n",
              "<p>1326 rows × 5 columns</p>\n",
              "</div>"
            ],
            "text/plain": [
              "BORO             Bronx  Brooklyn  Manhattan  Queens  Staten Island\n",
              "INSPECTION DATE                                                   \n",
              "2013-06-04         NaN      10.0        NaN     NaN            NaN\n",
              "2013-06-07         NaN       NaN        1.0     NaN            NaN\n",
              "2013-06-20         NaN       9.0        NaN     NaN            NaN\n",
              "2013-06-24         NaN       3.0        NaN     NaN            NaN\n",
              "2013-10-08         NaN       3.0        NaN     NaN            NaN\n",
              "...                ...       ...        ...     ...            ...\n",
              "2019-10-19         NaN      82.0       12.0     7.0            NaN\n",
              "2019-10-21        58.0     206.0      399.0   113.0           24.0\n",
              "2019-10-22        89.0     211.0      292.0   244.0           39.0\n",
              "2019-10-23       108.0     248.0      320.0   220.0           20.0\n",
              "2019-10-24        29.0     153.0      245.0   245.0            4.0\n",
              "\n",
              "[1326 rows x 5 columns]"
            ]
          },
          "metadata": {
            "tags": []
          },
          "execution_count": 67
        }
      ]
    },
    {
      "cell_type": "markdown",
      "metadata": {
        "id": "TEYRpz1d12rO"
      },
      "source": [
        "### Exercise \n",
        "\n",
        "Now let's do the same exercise, but instead of counting the number of inspections, we want to compute the average score assigned by the inspectors. Hint: We will need to change the `values` and the `aggfunc` parameters in the `pivot_table` function above."
      ]
    },
    {
      "cell_type": "code",
      "metadata": {
        "id": "bYbG6bKN12rO"
      },
      "source": [
        "# your code here"
      ],
      "execution_count": null,
      "outputs": []
    },
    {
      "cell_type": "markdown",
      "metadata": {
        "id": "X1La97M312rP"
      },
      "source": [
        "### Exercise\n",
        "\n",
        "* We interacted with the NYC Restaurant Inspection Data. Now, let's download another dataset, and do some analysis. We will focus on the [NYPD Vehicle Collisions](https://data.cityofnewyork.us/Public-Safety/NYPD-Motor-Vehicle-Collisions/h9gi-nx95/data) data set.\n"
      ]
    },
    {
      "cell_type": "markdown",
      "metadata": {
        "id": "rQLhFBkA12rP"
      },
      "source": [
        "* Task 1: Download the dataset. Use the \"Export\" view, get the URL for the CSV file, and download it using curl. (See the top of the notebook for guidance.) \n",
        "I have already downloaded it. See below\n"
      ]
    },
    {
      "cell_type": "code",
      "metadata": {
        "colab": {
          "base_uri": "https://localhost:8080/"
        },
        "id": "jyciUfzPLK0X",
        "outputId": "f81090a7-60f0-44ce-ee98-8f4bf66e4b39"
      },
      "source": [
        "!rm collisions.csv.gz"
      ],
      "execution_count": 93,
      "outputs": [
        {
          "output_type": "stream",
          "text": [
            "rm: cannot remove 'collisions.csv.gz': No such file or directory\n"
          ],
          "name": "stdout"
        }
      ]
    },
    {
      "cell_type": "code",
      "metadata": {
        "id": "s-JptbVdLRqV"
      },
      "source": [
        ""
      ],
      "execution_count": 93,
      "outputs": []
    },
    {
      "cell_type": "code",
      "metadata": {
        "id": "xgNztE6S12rP",
        "colab": {
          "base_uri": "https://localhost:8080/"
        },
        "outputId": "dd933d22-83dc-43f1-a63d-bb4641bf0a47"
      },
      "source": [
        "!curl \"http://people.stern.nyu.edu/nwhite/DealingwithDataSpring2021/data/collisions.csv.gz\" -o collisions.csv.gz"
      ],
      "execution_count": 94,
      "outputs": [
        {
          "output_type": "stream",
          "text": [
            "  % Total    % Received % Xferd  Average Speed   Time    Time     Time  Current\n",
            "                                 Dload  Upload   Total   Spent    Left  Speed\n",
            "100 67.3M  100 67.3M    0     0   289k      0  0:03:58  0:03:58 --:--:--  287k\n"
          ],
          "name": "stdout"
        }
      ]
    },
    {
      "cell_type": "code",
      "metadata": {
        "colab": {
          "base_uri": "https://localhost:8080/"
        },
        "id": "0-I9CTfRLTQy",
        "outputId": "c5002299-96ad-4811-dc7d-4d59dfba792d"
      },
      "source": [
        "!ls\n",
        "#colls=pd.read_csv(\"collisions.csv.gz\")\n",
        "colls = pd.read_csv(\"collisions.csv.gz\", encoding=\"utf-8\", dtype=\"unicode\")"
      ],
      "execution_count": 213,
      "outputs": [
        {
          "output_type": "stream",
          "text": [
            "collisions.csv\tcollisions.csv.gz  data  sample_data\n"
          ],
          "name": "stdout"
        }
      ]
    },
    {
      "cell_type": "code",
      "metadata": {
        "id": "yC7AyeCjT7oS"
      },
      "source": [
        "colls[\"CRASH DATE\"] = pd.to_datetime(colls[\"CRASH DATE\"], format=\"%m/%d/%Y\")\n",
        "colls[\"CRASH TIME\"] = pd.to_datetime(colls[\"CRASH TIME\"], format=\"%H:%M\")\n"
      ],
      "execution_count": 214,
      "outputs": []
    },
    {
      "cell_type": "markdown",
      "metadata": {
        "id": "4pJ9aCT512rQ"
      },
      "source": [
        "\n",
        "* Task 2: Find out the most common contributing factors to the collisions. \n",
        " "
      ]
    },
    {
      "cell_type": "code",
      "metadata": {
        "colab": {
          "base_uri": "https://localhost:8080/",
          "height": 453
        },
        "id": "HlJmxRy7LQX7",
        "outputId": "52ccad0c-f46c-4d51-a921-e114bacaf395"
      },
      "source": [
        "colls.describe()"
      ],
      "execution_count": 215,
      "outputs": [
        {
          "output_type": "stream",
          "text": [
            "/usr/local/lib/python3.7/dist-packages/ipykernel_launcher.py:1: FutureWarning: Treating datetime data as categorical rather than numeric in `.describe` is deprecated and will be removed in a future version of pandas. Specify `datetime_is_numeric=True` to silence this warning and adopt the future behavior now.\n",
            "  \"\"\"Entry point for launching an IPython kernel.\n",
            "/usr/local/lib/python3.7/dist-packages/ipykernel_launcher.py:1: FutureWarning: Treating datetime data as categorical rather than numeric in `.describe` is deprecated and will be removed in a future version of pandas. Specify `datetime_is_numeric=True` to silence this warning and adopt the future behavior now.\n",
            "  \"\"\"Entry point for launching an IPython kernel.\n"
          ],
          "name": "stderr"
        },
        {
          "output_type": "execute_result",
          "data": {
            "text/html": [
              "<div>\n",
              "<style scoped>\n",
              "    .dataframe tbody tr th:only-of-type {\n",
              "        vertical-align: middle;\n",
              "    }\n",
              "\n",
              "    .dataframe tbody tr th {\n",
              "        vertical-align: top;\n",
              "    }\n",
              "\n",
              "    .dataframe thead th {\n",
              "        text-align: right;\n",
              "    }\n",
              "</style>\n",
              "<table border=\"1\" class=\"dataframe\">\n",
              "  <thead>\n",
              "    <tr style=\"text-align: right;\">\n",
              "      <th></th>\n",
              "      <th>CRASH DATE</th>\n",
              "      <th>CRASH TIME</th>\n",
              "      <th>BOROUGH</th>\n",
              "      <th>ZIP CODE</th>\n",
              "      <th>LATITUDE</th>\n",
              "      <th>LONGITUDE</th>\n",
              "      <th>LOCATION</th>\n",
              "      <th>ON STREET NAME</th>\n",
              "      <th>CROSS STREET NAME</th>\n",
              "      <th>OFF STREET NAME</th>\n",
              "      <th>NUMBER OF PERSONS INJURED</th>\n",
              "      <th>NUMBER OF PERSONS KILLED</th>\n",
              "      <th>NUMBER OF PEDESTRIANS INJURED</th>\n",
              "      <th>NUMBER OF PEDESTRIANS KILLED</th>\n",
              "      <th>NUMBER OF CYCLIST INJURED</th>\n",
              "      <th>NUMBER OF CYCLIST KILLED</th>\n",
              "      <th>NUMBER OF MOTORIST INJURED</th>\n",
              "      <th>NUMBER OF MOTORIST KILLED</th>\n",
              "      <th>CONTRIBUTING FACTOR VEHICLE 1</th>\n",
              "      <th>CONTRIBUTING FACTOR VEHICLE 2</th>\n",
              "      <th>CONTRIBUTING FACTOR VEHICLE 3</th>\n",
              "      <th>CONTRIBUTING FACTOR VEHICLE 4</th>\n",
              "      <th>CONTRIBUTING FACTOR VEHICLE 5</th>\n",
              "      <th>COLLISION_ID</th>\n",
              "      <th>VEHICLE TYPE CODE 1</th>\n",
              "      <th>VEHICLE TYPE CODE 2</th>\n",
              "      <th>VEHICLE TYPE CODE 3</th>\n",
              "      <th>VEHICLE TYPE CODE 4</th>\n",
              "      <th>VEHICLE TYPE CODE 5</th>\n",
              "    </tr>\n",
              "  </thead>\n",
              "  <tbody>\n",
              "    <tr>\n",
              "      <th>count</th>\n",
              "      <td>1770003</td>\n",
              "      <td>1770003</td>\n",
              "      <td>1225931</td>\n",
              "      <td>1225719</td>\n",
              "      <td>1560613</td>\n",
              "      <td>1560613</td>\n",
              "      <td>1560613</td>\n",
              "      <td>1412817</td>\n",
              "      <td>1146158</td>\n",
              "      <td>264818</td>\n",
              "      <td>1769985</td>\n",
              "      <td>1769972</td>\n",
              "      <td>1770003</td>\n",
              "      <td>1770003</td>\n",
              "      <td>1770003</td>\n",
              "      <td>1770003</td>\n",
              "      <td>1770003</td>\n",
              "      <td>1770003</td>\n",
              "      <td>1765016</td>\n",
              "      <td>1518849</td>\n",
              "      <td>118876</td>\n",
              "      <td>25627</td>\n",
              "      <td>6712</td>\n",
              "      <td>1770003</td>\n",
              "      <td>1760645</td>\n",
              "      <td>1475995</td>\n",
              "      <td>115619</td>\n",
              "      <td>24910</td>\n",
              "      <td>6536</td>\n",
              "    </tr>\n",
              "    <tr>\n",
              "      <th>unique</th>\n",
              "      <td>3206</td>\n",
              "      <td>1440</td>\n",
              "      <td>5</td>\n",
              "      <td>232</td>\n",
              "      <td>118862</td>\n",
              "      <td>93305</td>\n",
              "      <td>229301</td>\n",
              "      <td>12115</td>\n",
              "      <td>18902</td>\n",
              "      <td>161831</td>\n",
              "      <td>27</td>\n",
              "      <td>7</td>\n",
              "      <td>13</td>\n",
              "      <td>4</td>\n",
              "      <td>6</td>\n",
              "      <td>3</td>\n",
              "      <td>27</td>\n",
              "      <td>6</td>\n",
              "      <td>61</td>\n",
              "      <td>61</td>\n",
              "      <td>50</td>\n",
              "      <td>39</td>\n",
              "      <td>29</td>\n",
              "      <td>1770003</td>\n",
              "      <td>1219</td>\n",
              "      <td>1316</td>\n",
              "      <td>186</td>\n",
              "      <td>76</td>\n",
              "      <td>54</td>\n",
              "    </tr>\n",
              "    <tr>\n",
              "      <th>top</th>\n",
              "      <td>2014-01-21 00:00:00</td>\n",
              "      <td>1900-01-01 16:00:00</td>\n",
              "      <td>BROOKLYN</td>\n",
              "      <td>11207</td>\n",
              "      <td>0</td>\n",
              "      <td>0</td>\n",
              "      <td>(0.0, 0.0)</td>\n",
              "      <td>BROADWAY</td>\n",
              "      <td>3 AVENUE</td>\n",
              "      <td>772       EDGEWATER ROAD</td>\n",
              "      <td>0</td>\n",
              "      <td>0</td>\n",
              "      <td>0</td>\n",
              "      <td>0</td>\n",
              "      <td>0</td>\n",
              "      <td>0</td>\n",
              "      <td>0</td>\n",
              "      <td>0</td>\n",
              "      <td>Unspecified</td>\n",
              "      <td>Unspecified</td>\n",
              "      <td>Unspecified</td>\n",
              "      <td>Unspecified</td>\n",
              "      <td>Unspecified</td>\n",
              "      <td>2988575</td>\n",
              "      <td>Sedan</td>\n",
              "      <td>Sedan</td>\n",
              "      <td>Sedan</td>\n",
              "      <td>Sedan</td>\n",
              "      <td>Sedan</td>\n",
              "    </tr>\n",
              "    <tr>\n",
              "      <th>freq</th>\n",
              "      <td>1161</td>\n",
              "      <td>25554</td>\n",
              "      <td>384441</td>\n",
              "      <td>22605</td>\n",
              "      <td>1768</td>\n",
              "      <td>1768</td>\n",
              "      <td>1768</td>\n",
              "      <td>17272</td>\n",
              "      <td>9843</td>\n",
              "      <td>402</td>\n",
              "      <td>1414298</td>\n",
              "      <td>1767831</td>\n",
              "      <td>1682534</td>\n",
              "      <td>1768844</td>\n",
              "      <td>1729846</td>\n",
              "      <td>1769836</td>\n",
              "      <td>1540247</td>\n",
              "      <td>1769184</td>\n",
              "      <td>632962</td>\n",
              "      <td>1277154</td>\n",
              "      <td>110630</td>\n",
              "      <td>24166</td>\n",
              "      <td>6321</td>\n",
              "      <td>1</td>\n",
              "      <td>434327</td>\n",
              "      <td>319711</td>\n",
              "      <td>31055</td>\n",
              "      <td>7184</td>\n",
              "      <td>1947</td>\n",
              "    </tr>\n",
              "    <tr>\n",
              "      <th>first</th>\n",
              "      <td>2012-07-01 00:00:00</td>\n",
              "      <td>1900-01-01 00:00:00</td>\n",
              "      <td>NaN</td>\n",
              "      <td>NaN</td>\n",
              "      <td>NaN</td>\n",
              "      <td>NaN</td>\n",
              "      <td>NaN</td>\n",
              "      <td>NaN</td>\n",
              "      <td>NaN</td>\n",
              "      <td>NaN</td>\n",
              "      <td>NaN</td>\n",
              "      <td>NaN</td>\n",
              "      <td>NaN</td>\n",
              "      <td>NaN</td>\n",
              "      <td>NaN</td>\n",
              "      <td>NaN</td>\n",
              "      <td>NaN</td>\n",
              "      <td>NaN</td>\n",
              "      <td>NaN</td>\n",
              "      <td>NaN</td>\n",
              "      <td>NaN</td>\n",
              "      <td>NaN</td>\n",
              "      <td>NaN</td>\n",
              "      <td>NaN</td>\n",
              "      <td>NaN</td>\n",
              "      <td>NaN</td>\n",
              "      <td>NaN</td>\n",
              "      <td>NaN</td>\n",
              "      <td>NaN</td>\n",
              "    </tr>\n",
              "    <tr>\n",
              "      <th>last</th>\n",
              "      <td>2021-04-10 00:00:00</td>\n",
              "      <td>1900-01-01 23:59:00</td>\n",
              "      <td>NaN</td>\n",
              "      <td>NaN</td>\n",
              "      <td>NaN</td>\n",
              "      <td>NaN</td>\n",
              "      <td>NaN</td>\n",
              "      <td>NaN</td>\n",
              "      <td>NaN</td>\n",
              "      <td>NaN</td>\n",
              "      <td>NaN</td>\n",
              "      <td>NaN</td>\n",
              "      <td>NaN</td>\n",
              "      <td>NaN</td>\n",
              "      <td>NaN</td>\n",
              "      <td>NaN</td>\n",
              "      <td>NaN</td>\n",
              "      <td>NaN</td>\n",
              "      <td>NaN</td>\n",
              "      <td>NaN</td>\n",
              "      <td>NaN</td>\n",
              "      <td>NaN</td>\n",
              "      <td>NaN</td>\n",
              "      <td>NaN</td>\n",
              "      <td>NaN</td>\n",
              "      <td>NaN</td>\n",
              "      <td>NaN</td>\n",
              "      <td>NaN</td>\n",
              "      <td>NaN</td>\n",
              "    </tr>\n",
              "  </tbody>\n",
              "</table>\n",
              "</div>"
            ],
            "text/plain": [
              "                 CRASH DATE  ... VEHICLE TYPE CODE 5\n",
              "count               1770003  ...                6536\n",
              "unique                 3206  ...                  54\n",
              "top     2014-01-21 00:00:00  ...               Sedan\n",
              "freq                   1161  ...                1947\n",
              "first   2012-07-01 00:00:00  ...                 NaN\n",
              "last    2021-04-10 00:00:00  ...                 NaN\n",
              "\n",
              "[6 rows x 29 columns]"
            ]
          },
          "metadata": {
            "tags": []
          },
          "execution_count": 215
        }
      ]
    },
    {
      "cell_type": "code",
      "metadata": {
        "id": "A1ayNa6v12rQ",
        "colab": {
          "base_uri": "https://localhost:8080/"
        },
        "outputId": "3f3f8661-3e7e-42d0-c8ed-bc310179ba8e"
      },
      "source": [
        "colls[\"CONTRIBUTING FACTOR VEHICLE 1\"].value_counts()"
      ],
      "execution_count": 216,
      "outputs": [
        {
          "output_type": "execute_result",
          "data": {
            "text/plain": [
              "Unspecified                       632962\n",
              "Driver Inattention/Distraction    340120\n",
              "Failure to Yield Right-of-Way     101925\n",
              "Following Too Closely              91196\n",
              "Backing Unsafely                   67384\n",
              "                                   ...  \n",
              "Shoulders Defective/Improper          79\n",
              "Windshield Inadequate                 71\n",
              "Texting                               39\n",
              "Listening/Using Headphones            19\n",
              "1                                     10\n",
              "Name: CONTRIBUTING FACTOR VEHICLE 1, Length: 61, dtype: int64"
            ]
          },
          "metadata": {
            "tags": []
          },
          "execution_count": 216
        }
      ]
    },
    {
      "cell_type": "markdown",
      "metadata": {
        "id": "Tq2ejkX_12rQ"
      },
      "source": [
        "   \n",
        "* Task 3: Break down the number of collisions by borough.\n",
        "\n",
        "\n",
        "\n"
      ]
    },
    {
      "cell_type": "code",
      "metadata": {
        "id": "rK7T4h8s12rR"
      },
      "source": [
        ""
      ],
      "execution_count": 216,
      "outputs": []
    },
    {
      "cell_type": "markdown",
      "metadata": {
        "id": "QguEE2Ce12rR"
      },
      "source": [
        "* Task 4: Find out the how many collisions had 0 persons injured, 1 persons injured, etc. persons injured in each accident. Use the `value_counts()` approach. You may also find the `.plot(logy=True)` option useful when you create the plot to make the y-axis logarithmic.\n",
        " "
      ]
    },
    {
      "cell_type": "code",
      "metadata": {
        "id": "5NjNh5yV12rR"
      },
      "source": [
        ""
      ],
      "execution_count": 216,
      "outputs": []
    },
    {
      "cell_type": "markdown",
      "metadata": {
        "id": "ns5RlGab12rS"
      },
      "source": [
        "   \n",
        "* Task 5: Break down the accidents by borough and contributing factor. Use the `pivot_table` function of Pandas\n",
        " "
      ]
    },
    {
      "cell_type": "code",
      "metadata": {
        "id": "tn9oARYC12rS"
      },
      "source": [
        ""
      ],
      "execution_count": 216,
      "outputs": []
    },
    {
      "cell_type": "markdown",
      "metadata": {
        "id": "ZhmgQFr412rT"
      },
      "source": [
        " * Task 6: Find the dates with the most accidents. Can you figure out what happened on these days? \n"
      ]
    },
    {
      "cell_type": "code",
      "metadata": {
        "id": "_j4iNHAw12rT"
      },
      "source": [
        ""
      ],
      "execution_count": 216,
      "outputs": []
    },
    {
      "cell_type": "markdown",
      "metadata": {
        "id": "eRnGRExF12rT"
      },
      "source": [
        "\n",
        "* Task 7: Plot the number of accidents per day. (Hint: Ensure that your date column is in the right datatype and that it is properly sorted, before plotting)\n"
      ]
    },
    {
      "cell_type": "code",
      "metadata": {
        "id": "naE3p8KH12rT",
        "colab": {
          "base_uri": "https://localhost:8080/",
          "height": 477
        },
        "outputId": "5e14e061-bcbd-47d1-911b-41d03bca6f60"
      },
      "source": [
        "pivot = pd.pivot_table(\n",
        "    data = colls, \n",
        "    index = 'CRASH DATE', \n",
        "    values = 'COLLISION_ID', \n",
        "    aggfunc = 'count'\n",
        ")\n",
        "pivot.plot()\n"
      ],
      "execution_count": 217,
      "outputs": [
        {
          "output_type": "execute_result",
          "data": {
            "text/plain": [
              "<matplotlib.axes._subplots.AxesSubplot at 0x7fc22ada2250>"
            ]
          },
          "metadata": {
            "tags": []
          },
          "execution_count": 217
        },
        {
          "output_type": "display_data",
          "data": {
            "image/png": "[encoded data removed]",
            "text/plain": [
              "<Figure size 748.8x514.8 with 1 Axes>"
            ]
          },
          "metadata": {
            "tags": []
          }
        }
      ]
    },
    {
      "cell_type": "code",
      "metadata": {
        "id": "3aCoO9GYwpkZ"
      },
      "source": [
        ""
      ],
      "execution_count": 217,
      "outputs": []
    },
    {
      "cell_type": "markdown",
      "metadata": {
        "id": "2ymlq-QR12rU"
      },
      "source": [
        "* Task 8: Plot the accidents in map. Use a scatter plot using the `plot(kind='scatter', x=..., y=....)` command, and use the `LATITUDE` and `LONGITUDE` parameters. (Hint: You may have to delete bad data points before getting into the right visual result.)"
      ]
    },
    {
      "cell_type": "code",
      "metadata": {
        "id": "Q2WnFRTs4aD-"
      },
      "source": [
        "\n",
        "\n"
      ],
      "execution_count": 217,
      "outputs": []
    },
    {
      "cell_type": "code",
      "metadata": {
        "id": "7iBnD3cG12rU",
        "colab": {
          "base_uri": "https://localhost:8080/",
          "height": 477
        },
        "outputId": "01db9e0b-1607-4b7f-d63a-699234665147"
      },
      "source": [
        "\n",
        "colls['LONGITUDE']=pd.to_numeric(colls['LONGITUDE'])\n",
        "colls['LATITUDE']=pd.to_numeric(colls['LATITUDE'])\n",
        "\n",
        "\n",
        "colls=colls[(colls['LATITUDE']  > 40. )] \n",
        "colls =colls[(colls['LATITUDE'] < 41.)]\n",
        "colls= colls[(colls['LONGITUDE'] < -73.)]\n",
        "colls =colls[(colls['LONGITUDE'] > -74.3)]\n",
        "\n",
        "colls.plot(kind='scatter',x='LATITUDE', y='LONGITUDE')\n"
      ],
      "execution_count": 218,
      "outputs": [
        {
          "output_type": "execute_result",
          "data": {
            "text/plain": [
              "<matplotlib.axes._subplots.AxesSubplot at 0x7fc234afa250>"
            ]
          },
          "metadata": {
            "tags": []
          },
          "execution_count": 218
        },
        {
          "output_type": "display_data",
          "data": {
            "image/png": "[encoded data removed]",
            "text/plain": [
              "<Figure size 748.8x514.8 with 1 Axes>"
            ]
          },
          "metadata": {
            "tags": []
          }
        }
      ]
    },
    {
      "cell_type": "markdown",
      "metadata": {
        "id": "GsJ-3WOK12rU"
      },
      "source": [
        "* Task 9: Plot the accidents in map as above, but limit the data only to accidents with at least one injury."
      ]
    },
    {
      "cell_type": "code",
      "metadata": {
        "id": "sbTztHA_12rU"
      },
      "source": [
        ""
      ],
      "execution_count": 218,
      "outputs": []
    },
    {
      "cell_type": "code",
      "metadata": {
        "id": "H9xRuWQN12rU"
      },
      "source": [
        ""
      ],
      "execution_count": 218,
      "outputs": []
    },
    {
      "cell_type": "code",
      "metadata": {
        "id": "iH69ZkkP12rU"
      },
      "source": [
        ""
      ],
      "execution_count": 218,
      "outputs": []
    }
  ]
}