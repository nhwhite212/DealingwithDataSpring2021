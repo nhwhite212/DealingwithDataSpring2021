{
  "nbformat": 4,
  "nbformat_minor": 0,
  "metadata": {
    "kernelspec": {
      "display_name": "Python 3",
      "language": "python",
      "name": "python3"
    },
    "language_info": {
      "codemirror_mode": {
        "name": "ipython",
        "version": 3
      },
      "file_extension": ".py",
      "mimetype": "text/x-python",
      "name": "python",
      "nbconvert_exporter": "python",
      "pygments_lexer": "ipython3",
      "version": "3.6.5"
    },
    "colab": {
      "name": "D5-String_Formatting.ipynb",
      "provenance": []
    }
  },
  "cells": [
    {
      "cell_type": "markdown",
      "metadata": {
        "id": "q9rGXe-KTubf"
      },
      "source": [
        "### String Formatting, How do we \n",
        "\n",
        "Often one wants to embed other information into strings, sometimes with special formatting constraints. In python, one may insert special formatting characters into strings that convey what type of data should be inserted and where, and how the \"stringified\" form should be formatted. Note: we enclose the variables whose value we want inside {}'s. \n",
        "For instance:"
      ]
    },
    {
      "cell_type": "code",
      "metadata": {
        "id": "_je6rlpBTubl"
      },
      "source": [
        "print('Coordinates: {latitude}, {longitude}'\n",
        "      .format(latitude='37.24N', longitude='115.81W'))"
      ],
      "execution_count": null,
      "outputs": []
    },
    {
      "cell_type": "markdown",
      "metadata": {
        "id": "r_SJRPhATubm"
      },
      "source": [
        "Or we can have the parameter values being variables:"
      ]
    },
    {
      "cell_type": "code",
      "metadata": {
        "id": "JtoytfqSTubn"
      },
      "source": [
        "lat = '37.24N'\n",
        "lon = '115.81W'\n",
        "print('Coordinates: {latitude}, {longitude}'\n",
        "      .format(latitude=lat, longitude=lon))"
      ],
      "execution_count": null,
      "outputs": []
    },
    {
      "cell_type": "markdown",
      "metadata": {
        "id": "BeBnTW73Tubo"
      },
      "source": [
        "We can of course re-order and use the placeholders  multiple times:"
      ]
    },
    {
      "cell_type": "code",
      "metadata": {
        "id": "hkWg1ABHTubo"
      },
      "source": [
        "lat = '37.24N'\n",
        "lon = '115.81W'\n",
        "print('Latitude: {latitude}, Longitude: {longitude} ==> [{latitude}, {longitude}]'\n",
        "      .format(latitude=lat, longitude=lon))"
      ],
      "execution_count": null,
      "outputs": []
    },
    {
      "cell_type": "markdown",
      "metadata": {
        "id": "GX3QQ6yHTubp"
      },
      "source": [
        "#### More formatting options\n",
        "\n",
        "Below we will see a few more options, mainly for formatting numbers. (For a more detailed treatment on string formatting options, [see here](https://docs.python.org/3.5/library/string.html#format-string-syntax).) We can achieve the formatting by adding after the number/name the character `:` follows by a set of formatting options."
      ]
    },
    {
      "cell_type": "markdown",
      "metadata": {
        "id": "_arQwDXhTubp"
      },
      "source": [
        "```\n",
        "field       ::=  \"{\" field_name [\":\" format_spec] \"}\"\n",
        "format_spec ::=  [[fill character]align][width][,][.precision][type]\n",
        "align       ::=  \"<\" | \">\" | \"=\" | \"^\"\n",
        "sign        ::=  \"+\" | \"-\" | \" \"\n",
        "width       ::=  number of digita in total (if width has a 0 in front, we add  for zero-padding)\n",
        "precision   ::=  number of decimal points\n",
        "```"
      ]
    },
    {
      "cell_type": "markdown",
      "metadata": {
        "id": "aMM-bPAHTubq"
      },
      "source": [
        "Some common `type`s: \n",
        "\n",
        "* `d` integer\n",
        "* `f` floating point\n",
        "* `%` percent\n",
        "* `e` exponential format\n",
        "* `c` character\n",
        "* `s` string \n"
      ]
    },
    {
      "cell_type": "code",
      "metadata": {
        "id": "FZwsynRPTubq"
      },
      "source": [
        "print(\"Result: |\",100/23,\"|\")"
      ],
      "execution_count": null,
      "outputs": []
    },
    {
      "cell_type": "code",
      "metadata": {
        "id": "KHwkinIfTubr"
      },
      "source": [
        "print(\"Result: |{num}|\".format(num=100/23))"
      ],
      "execution_count": null,
      "outputs": []
    },
    {
      "cell_type": "code",
      "metadata": {
        "id": "Pe1VuidBTubs"
      },
      "source": [
        "# Keep six digits for the whole number, out of which 3 for the decimals\n",
        "# Notice that `num` is just the name of the placeholder, does not have any special meaning in terms of formatting\n",
        "print(\"Result: |{num:6.3f}|\".format(num=100/23))\n",
        "print(\"Result: |{num:8.3f}|\".format(num=100/23))\n",
        "print(\"Result: |{num:8.5f}|\".format(num=100/23))\n"
      ],
      "execution_count": null,
      "outputs": []
    },
    {
      "cell_type": "code",
      "metadata": {
        "id": "B-Q_yODJTubs"
      },
      "source": [
        "# Keep six digits for the whole number, out of which 3 for the decimals\n",
        "# Notice that `num` is just the name of the placeholder, does not have any special meaning in terms of formatting\n",
        "print(\"Result: |{num:7.2f}|\".format(num=100/23))\n",
        "print(\"Result: |{num:7.2f}|\".format(num=1000/23))\n",
        "print(\"Result: |{num:7.2f}|\".format(num=10000/23))\n",
        "print(\"Result: |{num:7.2f}|\".format(num=100000/23))\n",
        "print(\"Result: |{num:7.2f}|\".format(num=1000000/23))"
      ],
      "execution_count": null,
      "outputs": []
    },
    {
      "cell_type": "code",
      "metadata": {
        "id": "zfz9stD1Tubt"
      },
      "source": [
        "print(\"Result: |{:7.2f}|\".format(100/23))"
      ],
      "execution_count": null,
      "outputs": []
    },
    {
      "cell_type": "code",
      "metadata": {
        "id": "cpNyEX74Tubu"
      },
      "source": [
        "# Keep six digits for the whole number, out of which 3 for the decimals, with zero padding in front\n",
        "print(\"Result: |{num:07.3f}|\".format(num=100.0/23))"
      ],
      "execution_count": null,
      "outputs": []
    },
    {
      "cell_type": "code",
      "metadata": {
        "id": "3goJDsWNTubu"
      },
      "source": [
        "# Floating point with three decimal digits\n",
        "print(\"Result: |{num:.7f}|\".format(num=100.0/23))"
      ],
      "execution_count": null,
      "outputs": []
    },
    {
      "cell_type": "code",
      "metadata": {
        "id": "VegQusneTubv"
      },
      "source": [
        "# Sixteen digits total and four decimal digits, with comma-separated thousands\n",
        "print(\"Result: |{num:16,.4f}|\".format(num=1000000.0/7))\n",
        "print(\"Result: |{num:16.4f}|\".format(num=1000000.0/7))"
      ],
      "execution_count": null,
      "outputs": []
    },
    {
      "cell_type": "code",
      "metadata": {
        "id": "Kjgecn4iTubw"
      },
      "source": [
        "# Expressing a percentage:\n",
        "points = 19\n",
        "total = 22\n",
        "print('Correct answers: {p:.2%}'.format(p=points/total))"
      ],
      "execution_count": null,
      "outputs": []
    },
    {
      "cell_type": "markdown",
      "metadata": {
        "id": "a8LSzQAvW_Kw"
      },
      "source": [
        "# text functions"
      ]
    },
    {
      "cell_type": "code",
      "metadata": {
        "id": "viMzE402Wnoi"
      },
      "source": [
        "article = \"\"\"\r\n",
        "THE BIG IDEA:\r\n",
        "PITTSBURGH—Hillary Clinton will carry Pennsylvania if she can just get the Democratic base to show up, but that’s easier said than done.\r\n",
        "African Americans are lukewarm compared to four and eight years ago, leaders of the community say, and distaste for Donald Trump is not enough to drive them to the polls. Many supporters of Bernie Sanders, who lost the state’s Democratic primary this spring by 12 points, say they might not vote at all.\r\n",
        "-- Trying to re-activate the coalition that allowed him to carry the state twice, Barack Obama will travel to Philadelphia today for a big downtown rally on Clinton’s behalf. Elizabeth Warren spoke to college students at Penn last Friday, and Sanders is coming to Carnegie Mellon this Friday. Bill Clinton spoke to a predominantly black audience here last week.\r\n",
        "-- While Hillary maintains a lead, and is favored to ultimately carry the state, everyone acknowledges that the race has tightened here over the past month even more than it has nationally. A Quinnipiac poll last week put Clinton up 5 points, down from 10 points a few weeks before. A Franklin and Marshall College poll published the week before had her up 7 points, but the percentage viewing her favorably had dropped to 38 percent from 47 percent in July.\r\n",
        "-- Many analysts believe turnout will be lower in 2016 than in 2012 or 2008. That would help Trump and Republican Sen. Pat Toomey. Less important than the percentage of support Clinton pulls among young people and minorities is the number of total votes she gets from these constituencies. In the past two presidential elections, for example, Obama won in Philly proper by more than half a million votes – creating an almost insurmountable advantage that Romney’s strength elsewhere could not match.\r\n",
        "In 2012, as a point of reference, 5.8 million ballots were cast. “I don’t know how we get there,” said James Lee, who runs Susquehanna Polling and Research, a Republican-aligned firm that does survey work for several media outlets. “The closer you get to 5 million, the better for Trump. We know who is not turning out: the college students and the minorities. That’s polling 101.”\r\n",
        "Trump speaks last night at U.S. Cellular Center in Asheville, North Carolina. (Brian Blanco/Getty Images)\r\n",
        "-- Anecdotally, there are many reasons for Democrats to worry about a lack of enthusiasm.\r\n",
        "Take Jared Ault of Pittsburgh, who supported Sanders in the primary and has not decided what to do in November. He said two of his brothers are certain they will not vote. Neither will his aunt, and five of his friends at work have told him they plan to stay home.\r\n",
        "“It’s probably the most difficult election we’ve had in recent years, probably since the 1950s. I really think we’re going to see the lowest turnout in my lifetime,” Ault said. “Both are just so divisive. Clinton has so many skeletons in her closet, and I honestly believe Trump is a sociopath. … Hillary has her hands in the pockets of a lot of the major corporations, and that’s why they support her. I’m just thoroughly disgusted by the way this election has gone.”\r\n",
        "The 30-year-old banking consultant, with a two-year-old in a stroller and another baby on the way, cast his first vote for George W. Bush but has steadily become more liberal since then. He was one of a few Democratic-leaning folks I met at a Pirates baseball game who are torn about whether to get behind Clinton, support someone like Jill Stein or Gary Johnson or just not bother with figuring it out. Ultimately, Ault allowed, he might vote for Clinton if he concluded that Trump would become president if he did not. But someone needs to convince him\r\n",
        "John Fetterman announces his candidacy for U.S. Senate last September. (Keith Srakocic/AP)\r\n",
        "-- David Plouffe, who managed Obama’s 2008 campaign, has repeatedly said that Pennsylvania is not a true battleground and advises Democrats against spending too much there.\r\n",
        "“I don’t share David Plouffe’s supreme confidence that Pennsylvania is guaranteed to be blue,” responds Braddock Mayor John Fetterman, a Bernie supporter who ran unsuccessfully in the Democratic primary for Senate this year. “Without a doubt, it is one that’s going to be close. The Democrats have to continue to make a case. If Democrats keep their head down and stay focused, we can. It’s not a sure thing, and we can’t take any vote for granted. That’s for sure.”\r\n",
        "Fetterman is hosting the Sanders rally in Pittsburgh this Friday, and he’s been campaigning for Katie McGinty, who beat him in the Democratic primary and now faces Toomey. “In my case, I tell people, ‘Look I ran as the most progressive voice in my campaign and I came up short. Democrats have to come together,’” he said in an interview. “Once again, I remain convinced that the biggest driving force toward unity is the prospect of Donald Trump.”\r\n",
        "-- After Trump telegraphed that his theory of the case hinged on Pennsylvania, Democrats siphoned additional resources to the state. Operatives say the nuts-and-bolts of their field program in 2016 is much stronger than in 2012, especially with the top-tier Senate race.\r\n",
        "“I’m really not the eternal optimist. I’m the guy that urges caution. And I do today,” said T.J. Rooney, a former chairman of the state Democratic Party. “But I do so with an appreciation of how much better the ground operation is here this cycle than it’s ever been. What gives me comfort, or solace, is the understanding that all the things that can possibly be done to communicate with these men and women are being done.”\r\n",
        "He thinks Obama coming to Philly today will make a difference. “He reminds people of what’s at stake and what we need to do,” said Rooney. “You can do events with this president, and you can see almost overnight the tangible result of his visit.”\r\n",
        "-- The Keystone State is already drawing vastly more attention and money than four years ago, when Mitt Romney stayed away until the 11th hour and then lost by 5.5 points.\r\n",
        "George W. Bush campaigns in the Rust Belt in 2004. (Stephen Jaffe/AFP/Getty Images)\r\n",
        "-- But a generation of GOP operatives has experienced the quadrennial temptations of the Pennsylvania Siren Song, and many feel like Trump’s big play is a fool’s errand. George H.W. Bush in 1988 was the last Republican to carry the state. George W. Bush tried very hard and still lost Pennsylvania by 144,000 votes in 2004 – the closest margin since then.\r\n",
        "“Even when Republicans get close, they never really get over the finish line,” said Lee, who runs the GOP-aligned polling firm. “The problem is that in the polling four years ago, when Obama had a slight lead or Romney was within the margin of error, most of the undecided were Democrats. People usually break toward their party in the final days.”\r\n",
        "-- When you do the math, Trump has a narrow path to victory:\r\n",
        "He’s over-performing Romney in rural areas but under-performing him in the suburbs, and there are more voters in the latter. “The four suburban Philadelphia counties are the lynchpin to carrying the state,” said Terry Madonna, who conducts the Franklin & Marshall College Poll. Obama carried all four in 2008 and got three of them in 2012. Right now, Trump is trailing in the double digits in these areas and would lose all four.\r\n",
        "Hillary campaigns in West Philadelphia last month. (Jessica Kourkounis/Getty Images)\r\n",
        "Democrats, with a registration advantage of 919,000, also simply have more potential voters. Steven Yaccino and Sasha Issenberg dive into the voter file for a numbers-heavy piece on Bloomberg this morning: “(The party) can count on a base of nearly 1.69 million votes, and—thanks in part to overwhelming support from African-Americans in Philadelphia—another 1.37 million less-reliable voters who can be mobilized through get-out-the-vote work. If Clinton manages to turn out all of the Democratic base and get out the vote targets, she would have more than 3 million votes in her pocket without having to win over a single persuadable voter. And Trump could run a perfect ground game, miraculously turn out all his Republican targets, win every expected persuadable vote cast—projected to be around 187,000—and still lose.”\r\n",
        "“That means that the difference between a battleground and a blowout in Pennsylvania is whether Trump can peel off Democrats,” Steven and Sasha add. “The most obvious targets are the some 300,000 white blue-collar men living in areas most affected by shuttered plants. If, say, Trump were able to lure this entire group, it would be enough to flip Democrats’ 556,000-voter lead to an ever-so-slight 21,000 Republican advantage.”\r\n",
        "-- Analyzing voter registration data, the Philadelphia Inquirer argues that The Trump Effect is being overstated and that he’s not drawing new as many new voters into the process as his campaign claims: “Some 129,000 new Pennsylvania voters have joined the GOP since November. But Democrats, aided by a heated primary between Clinton and Sanders, have added 172,000 … In a separate tally, a sizable 39,000 more voters converted to Republican than switched to Democrat this year -- part of a trend of party defections that began in 1988. … Of the Republican voters (in Bucks County) who skipped at least the last three presidential elections, only 3 percent showed up for this year's primary.”\r\n",
        "-- But Pennsylvania is a big prize, and Trump is coming back this week. If he can find a way to get the state’s 20 electoral votes, several additional routes to 270 open. He could afford to lose another, smaller battleground, including Virginia (13), North Carolina (15), Nevada (6), New Hampshire (4) or Iowa (6).\r\n",
        "Welcome to the Daily 202, PowerPost's morning newsletter.\r\n",
        "With contributions from Elise Viebeck (@eliseviebeck).\r\n",
        "Sign up to receive the newsletter.\r\n",
        "WHILE YOU WERE SLEEPING:\r\n",
        "-- U.S. News's 2017 college rankings posted at midnight. “Among this year’s novelties, the University of Chicago placed third on the national university list, tied with Yale, just behind Harvard and up from ninth as recently as six years ago,” Nick Anderson flags. “Wellesley, previously fourth among liberal arts colleges, moved up to third, switching places with Swarthmore.” See the full list here.\r\n",
        "-- The NCAA announced it will pull all 2016-17 championship events out of North Carolina to retaliate against the state’s so-called “bathroom bill.\" A spokesman for the Republican Party responded: “I wish the NCAA was this concerned about the women who were raped at Baylor.\" (Des Bieler)\r\n",
        "-- The Clinton campaign said it will release additional medical records this week, seeking to put to rest lingering concerns over her health after Sunday’s incident, and Hillary herself called into CNN last night to talk about her pneumonia. “I didn’t think it was going to be that big a deal,\" she said. “Obviously I should have gotten some rest sooner,\" she told Anderson Cooper. \"It's just the kind of thing that if it happens to you and you're a busy, active person, you keep moving forward.” (Abby Phillip and Anne Gearan)\r\n",
        "Scuffles break out at Trump's Asheville rally Embed Share Play Video3:07\r\n",
        "Pushing, grabbing, punching and obscene gesturing broke out between Donald Trump supporters and protesters at the Republican presidential nominee's rally in Asheville, N.C., on Sept. 12. (Jenny Starrs/The Washington Post)\r\n",
        "-- Trump accused Clinton of running \"a hate-filled campaign” during a rally in North Carolina, riling up an already-tense crowd. \"While my opponent slams you as deplorable and irredeemable, I call you hard-working American patriots who love your country,\" Trump told supporters in Asheville. “But the atmosphere quickly grew tense as protesters repeatedly interrupted his speech,” Sean Sullivan reports: \"At one point, a man took a fighting stance and then pushed and grabbed male protesters and swatted at a female protester.\" While protesters were taken out of the rally, a supporter – who later began shouting at a woman in a hijab to “get out” – was permitted to stay.\r\n",
        "-- Clinton is responding to Trump's attacks over \"deplorables\" with a new ad that will run on national cable. It juxtaposes clips of the GOP nominee disparaging various \"losers\" and groups -- including women, Mexicans, the disabled, John McCain, the Khans -- against footage of him saying: \"You can't lead this nation if you have such a low opinion of its citizens.\" Watch the Clinton ad here. Watch Trump's ad on this topic, released yesterday morning, here.\r\n",
        "Farmworkers celebrate in Sacramento. (Rich Pedroncelli/AP)\r\n",
        "-- Big win for labor: Jerry Brown last night signed historic legislation that will gradually add hundreds of thousands of California farmworkers to the ranks of those who are paid overtime. “Leaders of the United Farm Workers of America, which sponsored the overtime bill, called Brown’s decision a victory in a nearly 80-year quest to establish broad rights and protections for farm laborers. But the move shocked the agricultural community, which lobbied heavily against its provisions,” the Los Angeles Times reports. “Brown’s signature followed a pair of intense showdowns on the floor of the state Assembly, where a similar proposal died in June a few votes short of the majority it needed to pass.”\r\n",
        "Ryan Lochte performs on \"Dancing With the Stars.\" (Eric McCandless/AP)\r\n",
        "-- Ryan Lochte’s “Dancing With the Stars” debut was interrupted after two male protesters stormed the stage. Witnesses said the men tried to knock down the embattled Olympic swimmer before they were escorted offstage by security. (Emily Yahr)\r\n",
        "Syrian men carrying babies make their way through the rubble of destroyed buildings following a air strike on the rebel-held Salihin neighborhood of Aleppo. (Ameer Alhalbi/AFP/Getty Images)\r\n",
        "GET SMART FAST:??\r\n",
        "A U.S.- and Russian-backed ceasefire agreement that went into effect Monday was almost immediately violated, diluting hopes for an imminent halt to the relentless violence that has raged for five years. Residents of the besieged rebel portion of Aleppo said that Syrian government helicopters dropped barrel bombs on one neighborhood and that loyalist forces were shelling a route intended to be used for the delivery of humanitarian aid. (Liz Sly and Karen DeYoung)\r\n",
        "North Korea’s nuclear program is directed at the United States, a close adviser to Kim Jong Un said after last week’s atomic test, according to a Japanese lawmaker who just returned from Pyongyang. (Anna Fifield)\r\n",
        "President Obama is expected to veto a bill approved by Congress that would allow families of the victims of the 9/11 terror attacks to sue Saudi Arabia. Obama is worried about such suits hurting a key U.S. alliance. Congressional leaders will likely pursue an override vote. (David Nakamura, Karoun Demirjian and Mike DeBonis)\r\n",
        "A federal judge announced that he is unlikely to hear arguments in a lawsuit challenging a proof-of-citizenship requirement in a mail-in federal voter registration form used by Kansas, Alabama and Georgia until an appeals court panel that looked at the matter issues its written opinion. The move by U.S. District Judge Richard J. Leon of Washington means it is unlikely that the requirement will be enforced for November’s elections. (Spencer S. Hsu)\r\n",
        "The FDA is weighing a crackdown on stem-cell clinics across the United States. (Laurie McGinley)\r\n",
        "Shameful: The Department of Veterans Affairs stopped sharing data on the quality of care at its facilities this summer, breaking a 2014 law that helps veterans make informed decisions. In a separate move, the VA also took down its own site that provided side-by-side quality comparisons of its hospitals – leaving the site completely blank. (USA Today)\r\n",
        "Occidental College is launching an investigation after vandals destroyed a 9/11 memorial on campus – ripping out 3,000 flags from the ground and displaying posters and fliers that shamed the victims. (Cleve R. Wootson Jr.)\r\n",
        "New York police are investigating a potential hate crime after the blouse of a traditionally-dressed Muslim woman was set on fire. The woman was not badly hurt in the attack, which occurred on the eve of 9/11. (New York Daily News)\r\n",
        "Police charged a man with attempting to destroy a 9/11 memorial wreath at Arlington National Cemetery. The guy was intoxicated. (Dana Hedgpeth)\r\n",
        "The Defense Department announced the death of a top ISIS leader, confirming the success of a drone strike launched two weeks ago. The Pentagon took extra precautions before announcing the militant’s death because it was falsely reported last year. (Thomas Gibbons-Neff)\r\n",
        "Federal Reserve governors are leaning towards waiting until late in the year to raise short-term interest rates, feeling little sense of urgency as unemployment rates remain steady and inflation holds below their 2 percent target. (Wall Street Journal lead story)\r\n",
        "Iran threatened to shoot down two U.S. Navy planes flying close to Iranian territory in the Persian Gulf over the weekend, Fox News reports. It is the latest in a series of confrontations, with Iranian fast-boats harassing U.S. warships “on at least five occasions” in August.\r\n",
        "The deadliest fire in Memphis in a century ripped through a family home, killing nine and leaving just one survivor. Investigators believe the family may have been trapped by bars on the windows, and the blaze blocked their only means of escape. (Cleve R. Wootson Jr.)\r\n",
        "Former British Prime Minister David Cameron will step down from Parliament. Brexit ended his political career. (AP)\r\n",
        "Four Paralympic athletes ran the 1,500-meter race faster than anyone at the Rio Olympics – all besting the times of U.S. gold-medal winner Matthew Centrowitz. The class in which they competed is among those for the visually impaired, Des Bieler reports, and none of the athletes had access to blades or any other devices to help them compete.\r\n",
        "The U.S. Naval Academy announced it will update its instructor screening process after allowing the employment of a Marine Corps officer investigating for an improper sexual relationship with a female midshipman. (John Woodrow Cox)\r\n",
        "Prince George’s County prosecutors dropped the bad-check charge against Walter E. Fauntroy, putting an end to a years-long legal mess that prompted the 83-year-old (D.C.'s former delegate to Congress) to flee the country. The onetime civil rights leader paid back his $20,000 debt last week. (Lynh Bui)\r\n",
        "Former California Assemblyman Tom Calderon was sentenced to a year in federal custody for laundering bribes taken by his brother, a former state senator. He will be sentenced next week. (LA Times)\r\n",
        "The Canadian federal judge who found himself in hot water for asking a rape victim during a trial why she couldn't keep her knees together said he now regrets those comments. (Kristine Guerra)\r\n",
        "-- PowerPost's second installment of its Women in Power series just posted this morning with an inside look at how women have operated inside the traditionally male-dominated West Wing. Our White House bureau chief, Juliet Eilperin, reveala a practice known as \"amplification,\" which female staffers used during President Obama's first term to get heard: \"When a woman made a key point, other women would repeat it, giving credit to its author. This forced the men in the room to recognize the contribution – and denied them the chance to claim the idea as their own ... 'We just started doing it, and made a purpose of doing it. It was an everyday thing,' said one former Obama aide who requested anonymity to speak frankly.\" Getting into important meetings and face-time with the president are the coins of the realm in any administration, Juliet reports: Before becoming national security adviser, for example, Susan E. \"Rice said, she had to push to get into key gatherings. 'It’s not pleasant to have to appeal to a man to say, ‘Include me in that meeting,'” she said.\"\r\n",
        "More from the Women in Washington series:\r\n",
        "Matt Zapotosky interviews Attorney General Loretta Lynch about how race and gender have affected her career.L\r\n",
        "Elise Viebeck tells us how fundraising is critical to female lawmakers' success an interviews Rep. Karen Bass (D-Calif.) about how male politicians are more emotional than women.\r\n",
        "Kelsey Snell reports on how hard it is -- still -- to recruit women to run for federal office. She also interviews longtime Ways and Means staff director Janice Mays about her four decades on the Hill.\r\n",
        "Ben Terris talks to Rep. Elise Stefanik about what its like to be the youngest woman in the House\r\n",
        "Elise gets some words of wisdom from GOP operative Juleanna Glover about how conservative women can #NeverTrump.\r\n",
        "Hillary waves after leaving Chelsea's apartment in New York on Sunday. (AP/Andrew Harnik)\r\n",
        "THE DAILY HILLARY:\r\n",
        "-- It's not the pneumonia. It's the way they handled it that's causing problems. “There’s a reason that we have had a long tradition in this country of individual candidates disclosing information about their health to the American public before the election,\" White House Press Secretary Joshua Earnest said, noting that Obama did so as a candidate, and has continued to do so as president, to underscore the point.\"\r\n",
        "-- Clinton’s decision to “power through” set in motion perhaps the most damaging cascade of events for her general election so far, Philip Rucker and Anne Gearan report. “Had Clinton heeded her doctor’s advice, she would not have gone to a glitzy fundraiser Friday night where she let her guard down and inartfully talked about Trump’s supporters, nor would she have been spotted collapsing Sunday morning.\"\r\n",
        "-- Many of Clinton’s own staff did not know she was sick, and her campaign spokesmen refusing to specify how many aides knew about her illness. It also was unclear whether Clinton’s running mate, Sen. Tim Kaine, was in the know. \r\n",
        "-- “The real issue is chronic dehydration,\" according to Politico’s Glenn Thrush, \"exacerbated by her lung problem and Clinton’s reluctance to drink water, which has become a source of tension with her staff. 'She won’t drink water, and you try telling Hillary Clinton she has to drink water,” said a person in her orbit.\"\r\n",
        "-- Sen. Chuck Schumer (D-N.Y.) said yesterday that he too was diagnosed with pneumonia a few weeks ago, but it has already cleared up.\r\n",
        "-- As they always do with with the Clintons, Republicans are overplaying their hand with unhinged conspiracy theories:\r\n",
        "A co-chair of the “Veterans for Trump” coalition said he believes Clinton has Parkinson’s disease: “They may have admitted HRC has pneumonia, but that’s not WHY she has pneumonia,” Daniel Tamburello, a New Hampshire State representative and former Trump delegate, wrote on his Facebook page. “I believe she has pneumonia caused by Parkinson’s disease.” (Buzzfeed)\r\n",
        "Rep. Gary Palmer said he has “serious doubts” as to whether Clinton has pneumonia: “I mean … just my observation, if it were pneumonia, I would’ve thought they would’ve come out and said that very early on,” the Alabama lawmaker said. Palmer went on to reference Clinton’s recent coughing spells: “They’ve tried to attribute the cough to bronchitis, they’ve tried to attribute it to pneumonia, but I sat in the Benghazi hearing for three hours,” he said. “And she sat there and coughed her way through that. You know, again, you just look at the pattern and it just begs the question, are we being lied to again?” (Buzzfeed)\r\n",
        "And Trump adviser Ben Carson called for Clinton to release results of a “specialized MRI,” continuing to make vague speculations about her overall health. “The fact that the security detail assisting her as she clumsily attempted to enter her vehicle … did not appear surprised as if dealing with something new,” Carson said of Clinton’s 9/11 departure. “[It] … makes one wonder if such awkward moments are something they have become accustomed to.” Carson’s comments come as a break with the Trump campaign, who has avoided discussion about Clinton’s health. (Buzzfeed)\r\n",
        "-- Bennet Omalu, the forensic pathologist best known for his discovery of chronic traumatic brain encephalopathy in the brains of deceased football players, suggested that Clinton’s campaign be checked for “possible poisons” after her collapse: “I must [advise] the Clinton campaign to perform toxicologic analysis of Ms. Clinton’s blood,” he said on Twitter. “It is possible she is being poisoned.” The well-credentialed expert, whose story was told in the movie “Concussion,” went on to insist he “does not trust” Putin or Trump in the 2016 election. (Cindy Boren)\r\n",
        "-- “The hidden history of presidential disease, sickness and secrecy,” by Joel Achenbach and Lillian Cunningham: “In his second term as president, Dwight Eisenhower looked like an old man. He’d had a serious heart attack in 1955, requiring extensive hospitalization. In contrast to his seeming senescence, his successor, John F. Kennedy, seemed vibrant and flamboyant. The reality was that …. Kennedy wasn't actually that vigorous, and indeed was secretly afflicted by serious medical problems, including Addison’s disease, that his aides concealed from the public. The history of the presidency includes a running thread of illness and incapacity, much of it hidden from the public out of political calculation. A stroke incapacitated Woodrow Wilson in 1919, for example, but the public had no inkling until many months later. And when Grover Cleveland needed surgery in 1893 to remove a cancerous tumor in his mouth, he did it secretly, on a friend's yacht cruising through Long Island Sound. The desire to keep their physical condition secret led many American presidents to avoid the best doctors, says historian Matthew Algeo.”\r\n",
        "-- Both Clinton and Trump owe voters more specifics on their health, The Post’s editorial board writes. “Sen. John McCain, who was 71 when he ran for president … released nearly 1,200 pages of medical records. He did not do this to feed pure voyeurism. He did it so that voters could evaluate their comfort with the health of a septuagenarian applying for the toughest job in the world — in which there are no sick days and a slip of the tongue can become an international incident. Neither Ms. Clinton, who is 68, nor Mr. Trump have come close to this level of disclosure. Both need to do better.”\r\n",
        "-- “It seems unlikely that [Trump] has familiarized himself with Susan Sontag’s ‘Illness as Metaphor,’ in which Sontag argued that illness is often perceived as a result of weak character traits,” NYT’s Susan Dominus writes. “But for weeks, Trump seemed to be working off some kind of Sontag-inspired playbook. Clinton was not just lacking in the physical stamina required to fight ISIS, he said, ‘but the mental stamina’; his team often spoke of her as ‘frail.’ In turning illness into a personality flaw, a dangerous side effect of femaleness, Trump most likely made it all the more difficult for Clinton to acknowledge straightaway whatever health issue was in fact troubling her, whenever it kicked in in earnest. … In the narrative of this particular, strange election cycle, Clinton’s moment of evident illness will surely come to symbolize something. What that is, exactly, depends on how crudely, how truthfully, campaigners on both sides manipulate or manage a subject that is both intimately personal and yet significant for the public.”\r\n",
        "-- Bill Clinton will take his wife's place place at two Beverley Hill fundraisers today, headlining an event at the home of Seth MacFarlane -- which will feature a performance by Lionel Richie -- and a dinner hosted at the home of of Diane von Furstenberg and Barry Diller. (Matea Gold)\r\n",
        "-- The former president told Charlie Rose that his wife has gotten sick like this before and said she does not have a more “serious” illness. “Well if it is, it’s a mystery to me and all of her doctors,” he said, “because frequently—well not frequently, rarely—but on more than one occasion, over the last many, many years, the same sort of thing happened to her when she got severely dehydrated.” She had “two and a half hard days” on the campaign trail before the incident, he added, saying he is “glad” she made the decision to take a break.\r\n",
        "Bill also defended the Clinton Foundation’s relationship with the State Department, saying he’s “unaware” of any instance in which a Clinton Foundation donor ever received special treatment from his wife when she was secretary of state. The foundation, he said, has been “as transparent as we can be.” Clinton also differentiated between long-standing government relationships and “pay-to-play” favors leveraged for a few minutes of facetime with his wife: “Now, if you think nobody should ever call somebody they know and say, ‘Well, so-and-so would like a meeting’—that’s just the way the national government works, so I can’t say anything about that,” he said. “But I can say to the best of my knowledge … that the people they accused or implied gave money to the foundation just so they could have some in with Hillary did not do that. That’s simply not true.”\r\n",
        "Trump scolds Clinton for ‘deplorables’ comment Embed Share Play Video0:56\r\n",
        "Speaking in Asheville, N.C., Sept. 12, Republican presidential nominee Donald Trump said his Democratic opponent Hillary Clinton “talks about people like they are objects, not human beings,” following her comments on Trump’s supporters. (The Washington Post)\r\n",
        "THE DAILY DONALD:\r\n",
        "-- Pot calls kettle black: Trump slammed Clinton’s “basket of deplorables” comment as \"the single biggest mistake of the political season\" and demanded she apologize to anyone she might have offended. From Jenna Johnson: \"Personally, when I heard it, I thought that it was not something that was within the realm of possible, that she would have said it,” he said on Fox News. \"And she actually did, and she even really doubled up, because it was said with such anger, such unbelievable anger. And I think this is the biggest mistake of the political season.\"\r\n",
        "-- Clinton has expressed regret for saying that \"HALF\" of Trump's supporters were in the \"basket of deplorables\" but not for the underlying point. But as Trump’s campaign hones in on the comment, conservatives and progressives are growing further apart in their analysis of what was even said. From Dave Weigel: “In a conference call organized by the RNC, Rep. Marsha Blackburn (R-Tenn.) insisted that Clinton was referring to some percentage of veterans. Bill Kristol, an anti-Trump conservative, also suggested that Clinton may have been insulting the troops. The argument, which is expected to be advanced by [Trump] … is not about the specifics of the gaffe. It is about the fact that Clinton could consider any voter ‘deplorable,’ and whether doing so reveals a snobbiness that is unbecoming (or, to use the buzzword of 2016, ‘disqualifying’) from a presidential candidate.”\r\n",
        "-- Mike Pence refused to call former KKK Grand Wizard David Duke “deplorable” in a CNN interview -- highlighting the difficulty of taking a hardline stance against Clinton's remarks. When asked by host Wolf Blitzer if Duke and other white nationalists would fit into the “deplorable category,” Pence declined to respond directly. “I’m not really sure why the media keeps dropping David Duke’s name,” Pence replied. “He has denounced David Duke repeatedly.” “So you call him a deplorable?” Blizter pressed.“ No, I’m not in the name-calling business, Wolf,” Pence said. “You know me better than that.” (Philip Bump)\r\n",
        "-- Making it worse: Duke then praised Pence for his remarks, saying he is “pleased” that the GOP vice presidential nominee declined to call him deplorable. “It’s good to see an individual like Pence and others start to reject this absolute controlled media,” Duke said. “The truth is the Republican Party is big tent. I served in the Republican caucus. I was in the Republican caucus in the legislature. I had a perfect Republican voting record. It’s ridiculous that they attack me because of my involvement in that nonviolent Klan four decades ago.” (Buzzfeed)\r\n",
        "-- “The media’s criticism of Clinton’s claim has been matched in vehemence only by their allergy to exploring it,” Ta-Nehisi Coates complains in The Atlantic. “It is easy enough to look into Clinton’s claim and verify it or falsify it. … Consider the following: Had polling showed that relatively few Trump supporters believe black people are lazy and criminally-inclined, if only a tiny minority of Trump supporters believed that Muslims should be banned from the country … would journalists decline to point this out as they excoriated her? Of course not. But the case against Clinton’s 'basket of deplorables' is a triumph of style over substance, of clamorous white grievance over knowable facts. The safe space for the act of being white endures today. This weekend, the media … saw it challenged and—not for the first time—organized to preserve it. For speaking a truth, backed up by data, Clinton was accused of promoting bigotry. No. The true crime was endangering white consciousness.”\r\n",
        "Janet Yellen, right, attends a Jackson Hole economic summit in Wyoming last month. (David Paul Morris/Bloomberg)\r\n",
        "-- Trump accused the Federal Reserve of keeping interest rates low to help bolster Obama’s political legacy, saying in a CNBC interview that Fed Chair Janet Yellen should be “ashamed of herself.” “She’s obviously political and doing what Obama wants her to do, and I know that’s not supposed to be the way it is,” Trump said. Doubting whether rates would change while Obama remains in office, Trump said: \"[Obama] wants to go out. He wants to play golf for the rest of this life. And he doesn't care what's going to happen after January.\" Trump’s remarks come as a shift from his previous comments this spring, in which he praised low interest rates as “the best thing we have going for us.” (Ylan Q. Mui)\r\n",
        "-- James Woolsey, one of Bill Clinton’s CIA directors, joined the Trump campaign as a senior adviser on national security, defense and intelligence. Woolsey, who also advised John McCain in 2008, said he favors the Republican nominee’s plan to remove the sequester caps on defense spending. (Politico)\r\n",
        "-- Robert Zoellick, who served as a top official in both Bush administrations and as president of the World Bank, slammed Trump as a “dangerous man” with a dark side: “I’ve seen the presidency up close,” Zoellick said during a podcast hosted by Republican strategist Mike Murphy. “Trump is a dangerous man. I would not want that man with his finger on the triggers.” In the podcast, Zoellick said Trump “has no sense of dignity … and there’s a dark side to him, too.” (Buzzfeed)\r\n",
        "-- Trump's presidential transition operation is quietly building a series of policy teams tasked with mapping out his agenda, Politico’s Andrew Restuccia reports. “The transition operation [chaired by Chris Christie] is setting up policy teams focused on taxes, financial services, veterans, national security, energy and even building a border wall between the United States and Mexico … Christie huddled behind closed doors last week with GOP lobbyists from the financial services and energy sector, and the transition staff is expected to balloon in size over the next week as Christie brings more policy advisers on board.” Each policy team, currently in the process of vetting and conducting background checks on potential staffers, will reportedly be tasked with developing a series of \"action items\" for Day 1, Day 100 and Day 200 of a potential Trump administration.\r\n",
        "-- The Post’s David A. Fahrenthold looks more deeply at the five cases in which the Trump Foundation reported making a donation that does not seem to exist. “Five times, the Trump Foundation's tax filings described giving a specific amount of money to a specific charity — in some cases, even including the recipient's address. But when The Post called, the charities listed said the tax filings appeared wrong. They'd never received anything from Trump or his foundation.”\r\n",
        "-- Trump’s campaign attempted to push back on reports about his stingy charitable giving, with both spokeswoman Hope Hicks and Mike Pence saying he has given “tens of millions” to charity over his lifetime, David adds. But they refuse to offer any details or proof to back up the claim. “In all, The Post has identified less than $9 million in gifts to charity from Trump's pocket over his lifetime, including the $5.3 million he gave to his foundation before the last gift in 2008. In addition, Trump's foundation has taken in about $9 million from other donors, and given away most of it. Last year, the Trump campaign also put out a detailed list of what it said was $102 million in charitable giving from Trump over five years. But a close look by The Post found that not a single one of the gifts listed was actually a donation of Trump's own money.”\r\n",
        "-- LinkedIn co-founder Reid Hoffman said he will donate up to $5 million to veterans if Trump releases his tax returns before the final presidential debate. A Crowdpac campaign led by Marine veteran Peter Kiernan is also trying to incentivize Trump to release his returns. (Business Insider)\r\n",
        "Demonstrators gather in front of the newly opened Trump International Hotel. (Chip Somodevilla/Getty)\r\n",
        "-- Trump came to D.C. for the opening of his new luxury hotel. \"When Trump International Hotel Washington, D.C. hosted its soft opening Monday, it capped the transformation of a century-old post office building into one of Washington’s most expensive and ostentatious new hotels — and a monument to Trump,\" Jonathan O'Connell and Drew Harwell report. \"But its main draw, the gilded name out front, might also be its biggest obstacle. … Indeed, the hotel reflects many of the contradictions at the heart of Trump’s campaign: a 1 percenter fortress built alongside a populist campaign by a self-described billionaire, whose blue-collar rallygoers couldn’t afford a spoon of wine at his newest high-class masterwork. While Trump was shouting across middle America that Mexicans were drug-smuggling rapists, Hispanic men were building his luxury hotel for him on one of the national capital’s ritziest blocks. What began as merely a prominent real estate project has morphed into a political landmark, where polarizing ties to the blustery mogul could influence its business through November and beyond.\" \r\n",
        "-- Rooms at the Trump International Hotel are going for more than $700 a night. (Petula Dvorak)\r\n",
        "-- Trump posed for a photo with the staff:\r\n",
        "View image on Twitter\r\n",
        "View image on Twitter\r\n",
        " Follow\r\n",
        " Donald J. Trump ? @realDonaldTrump\r\n",
        "Stopped by @TrumpDC to thank all of the tremendous men & women for their hard work!\r\n",
        "11:51 AM - 12 Sep 2016\r\n",
        " 8,209 8,209 Retweets 27,509 27,509 likes\r\n",
        "THE BATTLEGROUNDS:\r\n",
        "-- “Worried Republicans are pouring resources into North Carolina,” by Sean Sullivan: Republicans are increasingly nervous about Trump and Pat McCrory losing the state and dragging down Sen. Richard Burr with them. \"More than a quarter of the 392 field staffers the [RNC] recently added nationwide have been assigned to North Carolina … [The Koch-backed] Americans for Prosperity … recently decided to shift its resources in the state to help Burr and go after his Democratic challenger.\"\r\n",
        "-- Morning Consult just posted a new Senator Approval Rankings survey, using more than 70,000 online interviews to determine how constituents feel about their home-state lawmakers. Some highlights:\r\n",
        "Mitch McConnell remains the least popular senator among home-state constituents (with 51 percent disapproval). Harry Reid is the third-least popular senator, with a 43 percent disapproval rating.\r\n",
        "Bernie Sanders is the most popular senator. (His approval rating in Vermont is 87 percent.)\r\n",
        "Susan Collins, who might run for governor of Maine in 2018, is the second most popular senator back home (69 percent approval). But her approval has fallen 10 points since she declined to endorse Trump earlier this year.\r\n",
        "Meanwhile, vulnerable senators continue to struggle: Pat Toomey saw a NINE point drop in his approval rating in Pennsylvania. Rob Portman’s approval has declined by four points in Ohio since the last Consult poll.\r\n",
        "The most vulnerable Republican up for re-election – Mark Kirk – now has more home-state voters disapproving of him than approving of him (38 percent vs. 35 percent.)\r\n",
        "Freshman Gary Peters is the most unknown: 38 percent of Michiganders do not know enough about him to offer an opinion, more than the number who approve (35) or disapprove (27). (See the list of approval numbers for all 100 senators here.)\r\n",
        "-- Evan Bayh's lead in Indiana continues to dwindle, according to a Howey Politics/WTHR survey. Bayh now holds just a four-point advantage over Republican candidate Todd Young in the state, 44 to 40, down from his double-digit lead in earlier surveys. George W. Bush campaigned and raised money with Young yesterday.\r\n",
        "-- Joe Garcia told supporters in Miami that Hillary \"is under no illusions that you want to have sex with her, or that she's going to seduce you.\" From the Miami Herald: Why the former Democratic congressman, running to win back his old seat, went there is unclear. Garcia’s remarks were secretly captured as he spoke informally at a Key West campaign office Saturday, praising Clinton as an “extremely, exceedingly competent” leader “similar to Lyndon Johnson.” \"Lyndon Johnson wasn't a particularly charming man, wasn't a particularly nice man: He would ask you nice, and then when you didn't do it, he made you do it,\" Garcia said. \"And Hillary is under no illusions that you want to have sex with her, or that she's going to seduce you, or out-think you.\" Garcia later defended his comments in a statement to the Herald, saying they speak to Clinton’s focus “on getting things done,” and “not on the gender stereotypes and biases women in public life are frequently subjected to.”\r\n",
        "Heavy flooding in North Korea (AFP Photo/Unicef DPRK/Murat Sahin)\r\n",
        "WAPO HIGHLIGHTS:\r\n",
        "-- “North Korea defied the world with a nuclear test. Now it seeks aid for a flood disaster,” by Anna Fifield: “Floods that devastated North Korea last month are turning out to be worse than initially feared, with more than 100,000 people left homeless, according to aid workers who visited the area last week. That puts Pyongyang in the inconvenient position of having to turn to the international community for help — at the same time North Korea is facing global condemnation after its nuclear test last week.” “The people there are in a very desperate situation,” said one emergency responder. “… At least 140,000 people are in urgent need of assistance, the [U.N. Office for the Coordination of Humanitarian Affairs] said in a statement, including an estimated 100,000 people who have been displaced. Water supplies to about 600,000 people have been cut.” One responder asked donor nations to remember that the flood has hurt regular people in North Korea: “These are people who are doing the best they can,” he said. “They’re just normal, everyday people.”\r\n",
        "\"\"\""
      ],
      "execution_count": null,
      "outputs": []
    },
    {
      "cell_type": "markdown",
      "metadata": {
        "id": "CmcOQAZ6XvZ0"
      },
      "source": [
        "### Compute percentages from the article"
      ]
    },
    {
      "cell_type": "code",
      "metadata": {
        "id": "aZPbXT83Tubw"
      },
      "source": [
        "clinton = article.count(\"Clinton\")\n",
        "trump = article.count(\"Trump\")\n",
        "p_c = clinton / (clinton + trump)\n",
        "p_t = trump / (clinton+trump)\n",
        "template = \"Relative percentage for {candidate:<7} : {perc:.2%}\"\n",
        "print(template.format(candidate=\"Clinton\", perc=p_c) ) \n",
        "print(template.format(candidate=\"Trump\", perc=p_t) )"
      ],
      "execution_count": null,
      "outputs": []
    },
    {
      "cell_type": "code",
      "metadata": {
        "id": "P86qcE3ITuby"
      },
      "source": [
        "# alignment\n",
        "print('|{message:<30}|'.format(message='left aligned'))\n",
        "print('|{message:>30}|'.format(message='right aligned'))\n",
        "print('|{message:^30}|'.format(message='centered'))\n"
      ],
      "execution_count": null,
      "outputs": []
    },
    {
      "cell_type": "code",
      "metadata": {
        "id": "Vax1PSHETuby"
      },
      "source": [
        "# fill\n",
        "print('|{message:#<80}|'.format(message='left aligned with # chars as fill'))\n",
        "print('|{message:#>80}|'.format(message='right aligned with # chars as fill'))\n",
        "print('|{message:#^80}|'.format(message='centered with # chars as fill'))"
      ],
      "execution_count": null,
      "outputs": []
    },
    {
      "cell_type": "markdown",
      "metadata": {
        "collapsed": true,
        "id": "hHDzPxs0Tuby"
      },
      "source": [
        "#### Exercise\n",
        "\n",
        "We have a list of people and scores to display. \n",
        "```\n",
        "Name Score\n",
        "Beth 10\n",
        "Frederick 8\n",
        "Panos 7\n",
        "``` \n",
        "\n",
        "Write code that:\n",
        "* Assigns the names and the scores into variables. Call them name1, score1, name2, score2, name3, score3, etc.\n",
        "* Align the names to the left, and the scores to the right\n",
        "* Allocate 10 characters for the name, and 3 characters for the score"
      ]
    },
    {
      "cell_type": "code",
      "metadata": {
        "id": "zyHuBUrVTuby"
      },
      "source": [
        "# your code here"
      ],
      "execution_count": 4,
      "outputs": []
    },
    {
      "cell_type": "code",
      "metadata": {
        "id": "nG1eie4mTubz"
      },
      "source": [
        ""
      ],
      "execution_count": null,
      "outputs": []
    },
    {
      "cell_type": "code",
      "metadata": {
        "id": "RHYTiCs5Tub0"
      },
      "source": [
        ""
      ],
      "execution_count": null,
      "outputs": []
    },
    {
      "cell_type": "code",
      "metadata": {
        "id": "OvrK4fRUTub0"
      },
      "source": [
        ""
      ],
      "execution_count": null,
      "outputs": []
    },
    {
      "cell_type": "code",
      "metadata": {
        "id": "1InhvdLzTub0"
      },
      "source": [
        ""
      ],
      "execution_count": null,
      "outputs": []
    },
    {
      "cell_type": "code",
      "metadata": {
        "id": "HYlKTxmMTub0"
      },
      "source": [
        ""
      ],
      "execution_count": null,
      "outputs": []
    },
    {
      "cell_type": "code",
      "metadata": {
        "id": "NI_R3KazTub1"
      },
      "source": [
        "'''\n",
        "\n",
        "\n",
        "\n",
        "\n",
        "\n",
        "\n",
        "\n",
        "\n",
        "\n",
        "\n",
        "\n",
        "\n",
        "\n",
        "\n",
        "\n",
        "\n",
        "\n",
        "\n",
        "\n",
        "\n",
        "\n",
        "\n",
        "\n",
        "\n",
        "\n",
        "\n",
        "\n",
        "\n",
        "\n",
        "'''"
      ],
      "execution_count": null,
      "outputs": []
    },
    {
      "cell_type": "code",
      "metadata": {
        "id": "myn4zv1WTub2"
      },
      "source": [
        "# Solution; do not use this before trying your own solution\n",
        "\n",
        "name1 = \"Beth\"\n",
        "name2 = \"Frederick\"\n",
        "name3 = \"Panos\"\n",
        "score1 = 10.0\n",
        "score2 = 8.51324\n",
        "score3 = 7.12321\n",
        "# Different formatting for headers and the data rows\n",
        "# since we cannot apply floating point formatting to the \n",
        "# strings in the header\n",
        "template_header = \"{name:<10}\\t{score:>7}\"\n",
        "template_row    = \"{name:<10}\\t{score:7.1f}\"\n",
        "# Print the header lines with the header template\n",
        "print(template_header.format(name=\"NAME\", score=\"SCORE\"))\n",
        "print(template_header.format(name=\"----\", score=\"-----\"))\n",
        "# Print the data lines with the data template\n",
        "print(template_row.format(name=name1, score=score1))\n",
        "print(template_row.format(name=name2, score=score2))\n",
        "print(template_row.format(name=name3, score=score3))"
      ],
      "execution_count": null,
      "outputs": []
    }
  ]
}