{
  "nbformat": 4,
  "nbformat_minor": 0,
  "metadata": {
    "kernelspec": {
      "display_name": "Python 3",
      "language": "python",
      "name": "python3"
    },
    "language_info": {
      "codemirror_mode": {
        "name": "ipython",
        "version": 3
      },
      "file_extension": ".py",
      "mimetype": "text/x-python",
      "name": "python",
      "nbconvert_exporter": "python",
      "pygments_lexer": "ipython3",
      "version": "3.5.2"
    },
    "colab": {
      "name": "C3-DataTypes.ipynb",
      "provenance": []
    }
  },
  "cells": [
    {
      "cell_type": "markdown",
      "metadata": {
        "id": "lXzmf8_dMkhu"
      },
      "source": [
        "## Data Types"
      ]
    },
    {
      "cell_type": "markdown",
      "metadata": {
        "id": "4eLoOyTtMkhz"
      },
      "source": [
        "Notice in the examples below, the different operations result in different types of outcomes."
      ]
    },
    {
      "cell_type": "code",
      "metadata": {
        "id": "sGx2TDKeMkh0"
      },
      "source": [
        "print(1 + 1) # this is an integer"
      ],
      "execution_count": null,
      "outputs": []
    },
    {
      "cell_type": "code",
      "metadata": {
        "id": "aU2GRIZeMkh3"
      },
      "source": [
        "print(1.0 + 1) # this is an integer added to a decimal/floating point"
      ],
      "execution_count": null,
      "outputs": []
    },
    {
      "cell_type": "code",
      "metadata": {
        "id": "9XhEH6SWMkh4"
      },
      "source": [
        "print(\"1\" + \"1\") # this a string/text "
      ],
      "execution_count": null,
      "outputs": []
    },
    {
      "cell_type": "code",
      "metadata": {
        "id": "pE1c9GEKMkh6"
      },
      "source": [
        "print(100 * 2)"
      ],
      "execution_count": null,
      "outputs": []
    },
    {
      "cell_type": "code",
      "metadata": {
        "id": "r5sQCFPlMkh7"
      },
      "source": [
        "print(100 * \"2\")"
      ],
      "execution_count": null,
      "outputs": []
    },
    {
      "cell_type": "markdown",
      "metadata": {
        "id": "GXuKC-mpMkh8"
      },
      "source": [
        "We will learn more about the different types of variables later, but for now, remember that you can use the `type` command to find out the type of an expression:"
      ]
    },
    {
      "cell_type": "code",
      "metadata": {
        "id": "jDUBG4pvMkh-"
      },
      "source": [
        "type(1)"
      ],
      "execution_count": null,
      "outputs": []
    },
    {
      "cell_type": "code",
      "metadata": {
        "id": "aMWN9FbwMkh_"
      },
      "source": [
        "type(3.14)"
      ],
      "execution_count": null,
      "outputs": []
    },
    {
      "cell_type": "code",
      "metadata": {
        "id": "lRl0clr_MkiA"
      },
      "source": [
        "type(\"Hello\")"
      ],
      "execution_count": null,
      "outputs": []
    },
    {
      "cell_type": "code",
      "metadata": {
        "id": "QQtIg8lDMkiC"
      },
      "source": [
        "type(\"1\")"
      ],
      "execution_count": null,
      "outputs": []
    },
    {
      "cell_type": "code",
      "metadata": {
        "id": "XrCiJ4qtMkiC"
      },
      "source": [
        "type(\"3.14\")"
      ],
      "execution_count": null,
      "outputs": []
    },
    {
      "cell_type": "code",
      "metadata": {
        "id": "JngugYpDMkiD"
      },
      "source": [
        "type(1+1)"
      ],
      "execution_count": null,
      "outputs": []
    },
    {
      "cell_type": "code",
      "metadata": {
        "id": "oKoQfmC-MkiE"
      },
      "source": [
        "type(\"1\" + \"1\")"
      ],
      "execution_count": null,
      "outputs": []
    },
    {
      "cell_type": "code",
      "metadata": {
        "id": "j2KWeYxKMkiF"
      },
      "source": [
        "type(10 * \"2\")"
      ],
      "execution_count": null,
      "outputs": []
    },
    {
      "cell_type": "markdown",
      "metadata": {
        "id": "RQ8E4tz0MkiG"
      },
      "source": [
        "**Lesson**: Notice the different data types above: `str` (string), `int` (integer), `float` (decimal numbers). One thing hat you will notice is that the outcome of the various operators (`+`, `*`, etc) can be different based on the data types involved."
      ]
    },
    {
      "cell_type": "markdown",
      "metadata": {
        "collapsed": true,
        "id": "fTqjO5seMkiG"
      },
      "source": [
        "#### Exercise \n",
        "\n",
        "What will the following program print out? Figure it our _before_ running the program."
      ]
    },
    {
      "cell_type": "code",
      "metadata": {
        "id": "q_5kFXYmMkiG"
      },
      "source": [
        "x = 41\n",
        "x = x + 1\n",
        "print(x)"
      ],
      "execution_count": null,
      "outputs": []
    },
    {
      "cell_type": "code",
      "metadata": {
        "id": "MntH3rmTMkiG"
      },
      "source": [
        "x = \"41\"\n",
        "x = x + \"1\"\n",
        "print(x)"
      ],
      "execution_count": null,
      "outputs": []
    }
  ]
}