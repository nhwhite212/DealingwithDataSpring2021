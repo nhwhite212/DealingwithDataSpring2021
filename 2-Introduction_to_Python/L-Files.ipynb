{
  "nbformat": 4,
  "nbformat_minor": 0,
  "metadata": {
    "kernelspec": {
      "display_name": "Python 3",
      "language": "python",
      "name": "python3"
    },
    "language_info": {
      "codemirror_mode": {
        "name": "ipython",
        "version": 3
      },
      "file_extension": ".py",
      "mimetype": "text/x-python",
      "name": "python",
      "nbconvert_exporter": "python",
      "pygments_lexer": "ipython3",
      "version": "3.5.2"
    },
    "colab": {
      "name": "Copy of L-Files.ipynb",
      "provenance": [],
      "include_colab_link": true
    }
  },
  "cells": [
    {
      "cell_type": "markdown",
      "metadata": {
        "id": "view-in-github",
        "colab_type": "text"
      },
      "source": [
        "<a href=\"https://colab.research.google.com/github/nhwhite212/DealingwithDataSpring2021/blob/master/2-Introduction_to_Python/L-Files.ipynb\" target=\"_parent\"><img src=\"https://colab.research.google.com/assets/colab-badge.svg\" alt=\"Open In Colab\"/></a>"
      ]
    },
    {
      "cell_type": "markdown",
      "metadata": {
        "id": "FCExbNx6eBXs"
      },
      "source": [
        "\n",
        "Files and Printing\n",
        "------------------\n",
        "\n",
        "** See also Examples 15, 16, and 17 from Learn Python the Hard Way**\n",
        "\n",
        "You'll often be reading data from a file, or writing the output of your python scripts back into a file. Python makes this very easy. You need to open a file in the appropriate mode, using the `open` function, then you can read or write to accomplish your task. The `open` function takes two arguments, the name of the file, and the mode. The mode is a single letter string that specifies if you're going to be reading from a file, writing to a file, or appending to the end of an existing file. The function returns a file object that performs the various tasks you'll be performing: `a_file = open(filename, mode)`. The modes are:\n",
        "\n",
        "+ `'r'`: open a file for reading\n",
        "+ `'w'`: open a file for writing. Caution: this will overwrite any previously existing file\n",
        "+ `'a'`: append. Write to the end of a file. \n",
        "\n",
        "When reading, you typically want to iterate through the lines in a file using a for loop, as above. Some other common methods for dealing with files are: \n",
        "\n",
        "+ `file.read()`: read the entire contents of a file into a string\n",
        "+ `file.write(some_string)`: writes to the file, note this doesn't automatically include any new lines. Also note that sometimes writes are buffered- python will wait until you have several writes pending, and perform them all at once\n",
        "+ `file.flush()`: write out any buffered writes\n",
        "+ `file.close()`: close the open file. This will free up some computer resources occupied by keeping a file open.\n",
        "\n",
        "Here is an example using files:"
      ]
    },
    {
      "cell_type": "markdown",
      "metadata": {
        "id": "FcLaHjS0eBX4"
      },
      "source": [
        "#### Writing a file to disk"
      ]
    },
    {
      "cell_type": "code",
      "metadata": {
        "id": "QXVq6nB_eBX6"
      },
      "source": [
        "# Create the file temp.txt, and get it ready for writing\n",
        "f = open(\"temp.txt\", \"w\")\n",
        "f.write(\"This is my first file! The end!\\n\")\n",
        "f.write(\"Oh wait, I wanted to say something else.\")\n",
        "f.close()"
      ],
      "execution_count": null,
      "outputs": []
    },
    {
      "cell_type": "code",
      "metadata": {
        "id": "MPYbXMY8eBX7"
      },
      "source": [
        "# Let's check that we did everything as expected\n",
        "!cat temp.txt"
      ],
      "execution_count": null,
      "outputs": []
    },
    {
      "cell_type": "code",
      "metadata": {
        "id": "DXUcUqvdeBX8"
      },
      "source": [
        "# Create a file numbers.txt and write the numbers from 0 to 24 there\n",
        "f = open(\"numbers.txt\", \"w\")\n",
        "for num in range(25):\n",
        "    f.write(str(num)+'\\n')\n",
        "f.close()"
      ],
      "execution_count": null,
      "outputs": []
    },
    {
      "cell_type": "code",
      "metadata": {
        "id": "pVZ9GaVDeBX9"
      },
      "source": [
        "# Let's check that we did everything as expected\n",
        "# cat is the linux command that 'cat'entates files and send them to the output.\n",
        "!cat numbers.txt"
      ],
      "execution_count": null,
      "outputs": []
    },
    {
      "cell_type": "markdown",
      "metadata": {
        "id": "qRkvUEuDeBX-"
      },
      "source": [
        "#### Reading a file from disk"
      ]
    },
    {
      "cell_type": "code",
      "metadata": {
        "id": "7N2KRk6deBX-"
      },
      "source": [
        "# We now open the file for reading\n",
        "f = open(\"temp.txt\", \"r\")\n",
        "# And we read the full content of the file in memory, as a long string\n",
        "content = f.read()\n",
        "f.close()"
      ],
      "execution_count": null,
      "outputs": []
    },
    {
      "cell_type": "code",
      "metadata": {
        "id": "FvQxr8wheBX_"
      },
      "source": [
        "content"
      ],
      "execution_count": null,
      "outputs": []
    },
    {
      "cell_type": "code",
      "metadata": {
        "id": "1MdX-vsQeBYA"
      },
      "source": [
        "# Read the file in the cell above, the content is in f2_content\n",
        "\n",
        "# Split the content of the file using the newline character \\n\n",
        "lines = content.split(\"\\n\")\n",
        "\n",
        "# Iterate through the line variable (it is a list of strings)\n",
        "# and then print the length of each line\n",
        "for line in lines:\n",
        "    print(line, \" ===> \", len(line))"
      ],
      "execution_count": null,
      "outputs": []
    },
    {
      "cell_type": "code",
      "metadata": {
        "id": "WLGsxnSEeBYB"
      },
      "source": [
        "# We now open the file for reading\n",
        "f = open(\"numbers.txt\", \"r\")\n",
        "# And we read the full content of the file in memory, as a string\n",
        "content = f.read()\n",
        "f.close()\n",
        "content"
      ],
      "execution_count": null,
      "outputs": []
    },
    {
      "cell_type": "markdown",
      "metadata": {
        "id": "4vAMYYuuetYF"
      },
      "source": [
        "### Note the \"\\n\"  in the line above. That is the \"newline\" or end of line character."
      ]
    },
    {
      "cell_type": "markdown",
      "metadata": {
        "id": "2dHbZf-OeBYC"
      },
      "source": [
        "Once we read the file, we have the lines in a big string. Let's process that big string a little bit: We want to \"split\" the string of characters on the  newline character and create a list of the lines in the numbers.txt file."
      ]
    },
    {
      "cell_type": "code",
      "metadata": {
        "id": "w3TRuWC1eBYC"
      },
      "source": [
        "lines = content.split(\"\\n\") # we get back a list of strings\n",
        "print(lines)"
      ],
      "execution_count": null,
      "outputs": []
    },
    {
      "cell_type": "code",
      "metadata": {
        "id": "sam2H7bUeBYD"
      },
      "source": [
        "# Next,  we can convert the list of strings into list of integers, using a list comprehension\n",
        "# we have the conditional to avoid trying to parse the string '' that \n",
        "# is at the end of the list. \n",
        "numbers = [int(line) for line in lines if len(line)>0]\n",
        "print(numbers)"
      ],
      "execution_count": null,
      "outputs": []
    },
    {
      "cell_type": "code",
      "metadata": {
        "id": "pIoxoVtieBYE"
      },
      "source": [
        "# Let's clean up\n",
        "!rm temp.txt\n",
        "!rm numbers.txt"
      ],
      "execution_count": null,
      "outputs": []
    },
    {
      "cell_type": "markdown",
      "metadata": {
        "id": "4rtFy4FHeBYE"
      },
      "source": [
        "####  Exercise 1\n",
        "\n",
        "* Write a function that reads a file and returns its content as a list of strings (one string per line). Read the file with filename `restaurant-names.txt`. First we will retrieve a copy of the file."
      ]
    },
    {
      "cell_type": "code",
      "metadata": {
        "id": "2Bx2erUcPGjf"
      },
      "source": [
        "# use curl to get a copy of restaurant-names.txt\n",
        "!curl -s  http://people.stern.nyu.edu/nwhite/DealingwithDataSpring2021/data/restaurant-names.txt >restaurant-names.txt\n",
        "!head restaurant-names.txt"
      ],
      "execution_count": null,
      "outputs": []
    },
    {
      "cell_type": "code",
      "metadata": {
        "id": "6ylHMtaDP1La"
      },
      "source": [
        "# Your code here"
      ],
      "execution_count": null,
      "outputs": []
    },
    {
      "cell_type": "markdown",
      "metadata": {
        "id": "3OSgyeGEeBYG"
      },
      "source": [
        "####  Exercise 2\n",
        "\n",
        "* Write a function that reads the n-th column of a CSV file and returns its contents. (Reuse the function that you wrote above.) Then reads the file `baseball.csv` and return the content of the 5th column (`team`).\n",
        "Firt we download the file with curl"
      ]
    },
    {
      "cell_type": "code",
      "metadata": {
        "id": "Iy8VNTgMeBYH"
      },
      "source": [
        "\n",
        "!curl -s http://people.stern.nyu.edu/nwhite/DealingwithDataSpring2021/data/baseball.csv >baseball.csv\n",
        "!head baseball.csv"
      ],
      "execution_count": null,
      "outputs": []
    },
    {
      "cell_type": "markdown",
      "metadata": {
        "id": "agz2LU9UeBYH"
      },
      "source": [
        "#### Exercise 3 \n",
        "\n",
        "The command below will create a file called `phonetest.txt`. Write code that:\n",
        "* Reads the file `phonetest.txt`\n",
        "* Write a function that takes as input a string, and removes any non-digit characters\n",
        "* Print out the \"clean\" string, without any non-digit characters"
      ]
    },
    {
      "cell_type": "code",
      "metadata": {
        "id": "leqZ-voIeBYI"
      },
      "source": [
        "%%file phonetest.txt\n",
        "679-397-5255\n",
        "2126660921\n",
        "212-998-0902\n",
        "888-888-2222\n",
        "800-555-1211\n",
        "800 555 1212\n",
        "800.555.1213\n",
        "(800) 555-1214\n",
        "1-800-555-1215\n",
        "1(800)555-1216\n",
        "800-555-1212-1234\n",
        "800-555-1212x1234\n",
        "800-555-1212 ext. 1234\n",
        "work 1-(800) 555.1212 #1234"
      ],
      "execution_count": null,
      "outputs": []
    },
    {
      "cell_type": "code",
      "metadata": {
        "id": "H_HT1OmceBYJ"
      },
      "source": [
        "# your code here"
      ],
      "execution_count": null,
      "outputs": []
    },
    {
      "cell_type": "code",
      "metadata": {
        "id": "_Q1SL8ejeBYJ"
      },
      "source": [
        ""
      ],
      "execution_count": null,
      "outputs": []
    },
    {
      "cell_type": "code",
      "metadata": {
        "id": "CEntaxyoeBYJ"
      },
      "source": [
        ""
      ],
      "execution_count": null,
      "outputs": []
    },
    {
      "cell_type": "code",
      "metadata": {
        "id": "zcycmeKEeBYK"
      },
      "source": [
        ""
      ],
      "execution_count": null,
      "outputs": []
    },
    {
      "cell_type": "code",
      "metadata": {
        "id": "__S5VufXeBYK"
      },
      "source": [
        ""
      ],
      "execution_count": null,
      "outputs": []
    },
    {
      "cell_type": "code",
      "metadata": {
        "id": "QFa0NUTneBYL"
      },
      "source": [
        ""
      ],
      "execution_count": null,
      "outputs": []
    },
    {
      "cell_type": "markdown",
      "metadata": {
        "id": "dO9KbXkSeBYL"
      },
      "source": [
        "#### Solution for exercise 4 (with a lot of comments)"
      ]
    },
    {
      "cell_type": "code",
      "metadata": {
        "id": "FqHajCIqeBYL"
      },
      "source": [
        "# this function takes as input a phone (string variable)\n",
        "# and prints only its digits\n",
        "def clean(phone):\n",
        "    # We initialize the result variable to be empty. \n",
        "    # We will append to this variable the digit characters \n",
        "    result = \"\"\n",
        "    # This is a set of digits (as **strings**) that will\n",
        "    # allow us to filter the characters\n",
        "    digits = {\"0\",\"1\",\"2\",\"3\",\"4\",\"5\",\"6\",\"7\",\"8\",\"9\"}\n",
        "    # We iterate over all the characters in the string \"phone\"\n",
        "    # which is a parameter of the function clean\n",
        "    for c in phone:\n",
        "        # We check if the character c is a digit\n",
        "        if c in digits:\n",
        "            # if it is, we append it to the result\n",
        "            result = result + c\n",
        "    # once we are done we return a string variable with the result\n",
        "    return result \n",
        "\n",
        "# This is an alternative, one-line solution that uses a list \n",
        "# comprehension to create the list of acceptable characters, \n",
        "# and then uses the join command to concatenate all the \n",
        "# characters in the list into a string. Notice that we use \n",
        "# the empty string \"\" as the connector\n",
        "def clean_oneline(phone):\n",
        "    digits = {\"0\",\"1\",\"2\",\"3\",\"4\",\"5\",\"6\",\"7\",\"8\",\"9\"}\n",
        "    return \"\".join([c for c in phone if c in digits])\n",
        "\n",
        "# your code here\n",
        "# We open the file\n",
        "f = open(\"phonetest.txt\", \"r\")\n",
        "# We read the content using the f.read() command\n",
        "content = f.read()\n",
        "# Close the file\n",
        "f.close()\n",
        "# We split the file into lines\n",
        "lines = content.split(\"\\n\")\n",
        "# We iterate over the lines, and we clean each one of them\n",
        "for line in lines:\n",
        "    print(line, \"==>\", clean(line))"
      ],
      "execution_count": null,
      "outputs": []
    },
    {
      "cell_type": "code",
      "metadata": {
        "id": "43Bi9n3IeBYL"
      },
      "source": [
        "# Let's clean up\n",
        "!rm phonetest.txt"
      ],
      "execution_count": null,
      "outputs": []
    }
  ]
}