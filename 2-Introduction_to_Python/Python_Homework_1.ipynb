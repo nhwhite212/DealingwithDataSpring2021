{
  "nbformat": 4,
  "nbformat_minor": 0,
  "metadata": {
    "kernelspec": {
      "display_name": "Python 3",
      "language": "python",
      "name": "python3"
    },
    "language_info": {
      "codemirror_mode": {
        "name": "ipython",
        "version": 3
      },
      "file_extension": ".py",
      "mimetype": "text/x-python",
      "name": "python",
      "nbconvert_exporter": "python",
      "pygments_lexer": "ipython3",
      "version": "3.5.2"
    },
    "colab": {
      "name": "Python Homework 1.ipynb",
      "provenance": [],
      "include_colab_link": true
    }
  },
  "cells": [
    {
      "cell_type": "markdown",
      "metadata": {
        "id": "view-in-github",
        "colab_type": "text"
      },
      "source": [
        "<a href=\"https://colab.research.google.com/github/nhwhite212/DealingwithDataSpring2021/blob/master/2-Introduction_to_Python/Python_Homework_1.ipynb\" target=\"_parent\"><img src=\"https://colab.research.google.com/assets/colab-badge.svg\" alt=\"Open In Colab\"/></a>"
      ]
    },
    {
      "cell_type": "markdown",
      "metadata": {
        "id": "9-pakTABNaUY"
      },
      "source": [
        "### This Homework asks you to write some simple python programs\r\n",
        "#### Please use \"reasonable\" variable names\r\n",
        "Each question is worth 4 points.\r\n",
        "\r\n",
        "==================================================="
      ]
    },
    {
      "cell_type": "markdown",
      "metadata": {
        "id": "z2PozzIlNaUe"
      },
      "source": [
        "#### *Question  1*\n",
        "###  The volume of a sphere is  4/3 PI R^3\n",
        "#### Where R is the radius of the sphere and PI  is 3.1415926535897931\n",
        "\n",
        "#### (In python exponentiation is \\*\\*, so 4\\*\\*2 = 16)\n",
        "#### Write the python program to calculate and print the volume of a sphere of radius 32.\n",
        "\n"
      ]
    },
    {
      "cell_type": "code",
      "metadata": {
        "id": "m02Zn20lNaUf"
      },
      "source": [
        "# your code here\r\n",
        "\r\n",
        "\r\n",
        "\r\n"
      ],
      "execution_count": null,
      "outputs": []
    },
    {
      "cell_type": "markdown",
      "metadata": {
        "id": "dBjBFeB2NaUh"
      },
      "source": [
        "#### *Question  2*\n",
        "\n",
        "Write a Python program to convert kilometers to miles, feet and inches. Remember that one foot is 30.48 centimeters, and one inch is 2.54 centimeters. One mile is 5280 feet.  Test it for 4.63 kilometers"
      ]
    },
    {
      "cell_type": "code",
      "metadata": {
        "id": "VD3Jj29oNaUh"
      },
      "source": [
        "# your code here\r\n",
        "\r\n",
        "\r\n"
      ],
      "execution_count": null,
      "outputs": []
    },
    {
      "cell_type": "markdown",
      "metadata": {
        "id": "kWUGERNcNaUh"
      },
      "source": [
        "#### *Question 3*\n",
        "\n",
        "We want to compute the \"[wind chill index](https://en.wikipedia.org/wiki/Wind_chill)\" as described at Wikipedia\n",
        "\n",
        "$T_\\mathrm{wc}=35.74+0.6215 T_\\mathrm{a}-35.75 v^{0.16}+0.4275 T_\\mathrm{a} v^{0.16}$\n",
        "\n",
        "where $T_\\mathrm{wc}$  is the wind chill index, based on the Fahrenheit scale; $T_\\mathrm{a}$ is the air temperature in degrees Fahrenheit, and $v$ is the wind speed in miles per hour. (Note: Windchill temperature is defined only for temperatures at or below 50 °F and wind speeds above 3.0 miles per hour.)\n",
        "\n"
      ]
    },
    {
      "cell_type": "code",
      "metadata": {
        "id": "0bEJX1RVNaUi"
      },
      "source": [
        "# your code here\r\n",
        "\r\n",
        "\r\n"
      ],
      "execution_count": null,
      "outputs": []
    },
    {
      "cell_type": "markdown",
      "metadata": {
        "id": "zA2L9lDjNaUi"
      },
      "source": [
        "#### *Question  4*  \n",
        "\n",
        "You have a loan with a given principal amount $p$, to be repaid over a period of $n$ years. At the end of each year, you  get charged an interest of $r$ for the total amount that you owe. Each year you pay an installment equal to $1/n$-th of the initial principal, plus interest on the *remaining* principal. \n",
        "\n",
        "Assume that the principal is \\$15K, interest rate of 3%, and repayment is over 10 years.\n",
        "\n",
        "Write code that computes how much you owe at the end of year 1. Then write code for calculating your payment at the end of year 2.\n",
        "\n"
      ]
    },
    {
      "cell_type": "code",
      "metadata": {
        "id": "N50dGEdMNaUj"
      },
      "source": [
        "# your code here\r\n",
        "\r\n",
        "\r\n"
      ],
      "execution_count": null,
      "outputs": []
    },
    {
      "cell_type": "markdown",
      "metadata": {
        "id": "6FLopiGMZ2hN"
      },
      "source": [
        "#### *Question 5*\r\n",
        "\r\n",
        "Write a python program that will compute the distance between two points with coordinates (x1,y1) and (x2,y2) on the x,y plane.\r\n",
        "### Test with x1, y1 = 10.3, 34.  and x2,y2 = 22.,55.3\r\n"
      ]
    },
    {
      "cell_type": "code",
      "metadata": {
        "id": "31RYURfPNaUk"
      },
      "source": [
        "x1=10.3\r\n",
        "y1= 34. \r\n",
        "x2=22.\r\n",
        "y2=55.3\r\n",
        "distance = ((x2-x1)**2 + (y2-y1)**2)**.5\r\n",
        "distance"
      ],
      "execution_count": null,
      "outputs": []
    },
    {
      "cell_type": "markdown",
      "metadata": {
        "id": "KbKHiClQNaUk"
      },
      "source": [
        "```\n",
        "\n",
        "\n",
        "\n",
        "\n",
        "\n",
        "\n",
        "\n",
        "\n",
        "\n",
        "\n",
        "\n",
        "\n",
        "\n",
        "\n",
        "\n",
        "\n",
        "\n",
        "\n",
        "\n",
        "\n",
        "\n",
        "\n",
        "\n",
        "\n",
        "\n",
        "\n",
        "\n",
        "  \n",
        "\n",
        "```"
      ]
    },
    {
      "cell_type": "markdown",
      "metadata": {
        "id": "S1EhE6EcNaUl"
      },
      "source": [
        "##### Solution for Exercise 1"
      ]
    },
    {
      "cell_type": "code",
      "metadata": {
        "id": "IqxHdFSpNaUm"
      },
      "source": [
        "price_mon = 550\n",
        "price_tue = 560\n",
        "daily_return = 100*(price_tue-price_mon)/price_mon\n",
        "print(\"The daily return is\")\n",
        "print(daily_return)"
      ],
      "execution_count": null,
      "outputs": []
    },
    {
      "cell_type": "code",
      "metadata": {
        "id": "Mqt0Sy0ANaUm"
      },
      "source": [
        "price_mon = 550\n",
        "price_tue = 560\n",
        "return = 100*(price_tue-price_mon)/price_mon\n",
        "print(\"The daily return is\")\n",
        "print(return)"
      ],
      "execution_count": null,
      "outputs": []
    },
    {
      "cell_type": "markdown",
      "metadata": {
        "id": "QkI1xwMvNaUn"
      },
      "source": [
        "##### Solution for Exercise 2"
      ]
    },
    {
      "cell_type": "code",
      "metadata": {
        "id": "ulIoddNkNaUn"
      },
      "source": [
        "# So, let's take a look at our code from last time:\n",
        "print(\"180 cm is\", int(180//30.48), \"feet and\", round(180%30.48 / 2.54, 1) , \"inches\")"
      ],
      "execution_count": null,
      "outputs": []
    },
    {
      "cell_type": "code",
      "metadata": {
        "id": "lTS1u9D0NaUo"
      },
      "source": [
        "# We will now start introducing variables\n",
        "centimeters = 180\n",
        "feet = int(centimeters / 30.48)\n",
        "inches = int(centimeters % 30.48 / 2.54)\n",
        "print(centimeters, \"cm is\", feet, \"ft and\", inches, \"inches\")"
      ],
      "execution_count": null,
      "outputs": []
    },
    {
      "cell_type": "code",
      "metadata": {
        "id": "e198ihI5NaUo"
      },
      "source": [
        "# Now let's introduce more variables to eliminate the \"magic numbers\" 30.48 and 2.54\n",
        "cm_per_foot = 30.48\n",
        "cm_per_in = 2.54\n",
        "# And now let's modify our code from above\n",
        "centimeters = 180\n",
        "feet = int(centimeters / cm_per_foot)\n",
        "inches = int(centimeters % cm_per_foot / cm_per_in)\n",
        "print(centimeters, \"cm is\", feet, \"ft and\", inches, \"inches\")\n",
        "\n",
        "# And if we want to use round instead of int:\n",
        "inches = round(centimeters % cm_per_foot / cm_per_in,1)\n",
        "print(centimeters, \"cm is\", feet, \"ft and\", inches, \"inches\")\n"
      ],
      "execution_count": null,
      "outputs": []
    },
    {
      "cell_type": "markdown",
      "metadata": {
        "id": "1-CMZgiXNaUp"
      },
      "source": [
        "#### Solution for Exercise 3"
      ]
    },
    {
      "cell_type": "code",
      "metadata": {
        "id": "7EvJMIl9NaUp"
      },
      "source": [
        "v = 5 # miles per hour\n",
        "Ta = 32 # air temperature in F\n",
        "Twc = 35.74 + 0.6215 * Ta - 35.75 * v**0.16 + 0.4275 * Ta * v**0.16\n",
        "print(\"The windchil index (feels-like) is:\", int(Twc))"
      ],
      "execution_count": null,
      "outputs": []
    },
    {
      "cell_type": "markdown",
      "metadata": {
        "id": "IKv2DFgENaUq"
      },
      "source": [
        "#### Solution for Exercise 4"
      ]
    },
    {
      "cell_type": "code",
      "metadata": {
        "id": "vqC9Q7DbNaUq"
      },
      "source": [
        "principal = 10000\n",
        "rate = 0.03\n",
        "years = 10"
      ],
      "execution_count": null,
      "outputs": []
    },
    {
      "cell_type": "code",
      "metadata": {
        "id": "htfIJPglNaUr"
      },
      "source": [
        "interest = rate * principal\n",
        "payment = principal / years + interest\n",
        "print(\"Payment at the end of year 1\")\n",
        "print(payment)"
      ],
      "execution_count": null,
      "outputs": []
    },
    {
      "cell_type": "code",
      "metadata": {
        "id": "dmpmDQU0NaUr"
      },
      "source": [
        "remaining_principal = principal - principal / years\n",
        "interest = rate * remaining_principal\n",
        "payment = principal / years + interest\n",
        "print(\"payment at the end of year 2\")\n",
        "print(payment)"
      ],
      "execution_count": null,
      "outputs": []
    }
  ]
}