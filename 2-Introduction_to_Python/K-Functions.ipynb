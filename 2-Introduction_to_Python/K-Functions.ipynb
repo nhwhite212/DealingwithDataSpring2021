{
  "nbformat": 4,
  "nbformat_minor": 0,
  "metadata": {
    "kernelspec": {
      "display_name": "Python 3",
      "language": "python",
      "name": "python3"
    },
    "language_info": {
      "codemirror_mode": {
        "name": "ipython",
        "version": 3
      },
      "file_extension": ".py",
      "mimetype": "text/x-python",
      "name": "python",
      "nbconvert_exporter": "python",
      "pygments_lexer": "ipython3",
      "version": "3.5.2"
    },
    "colab": {
      "name": "K-Functions.ipynb",
      "provenance": []
    }
  },
  "cells": [
    {
      "cell_type": "markdown",
      "metadata": {
        "id": "pWcOORGMC05O"
      },
      "source": [
        "### Built-in functions\n",
        "\n",
        "Python provides a set of functions already built-in. You are already very familiar with one of them:"
      ]
    },
    {
      "cell_type": "code",
      "metadata": {
        "id": "pL1ckSDIC05P"
      },
      "source": [
        "# Here print is the function\n",
        "# Within parentheses we pass ONE parameter, the string with the message\n",
        "print(\"Oh yeah, I am a function! I print things on the screen\")\n",
        "\n",
        "# The print function can take more than one parameters\n",
        "# For example below we pass three strings as parameters\n",
        "name = \"Panos\"\n",
        "print(\"Hi\", name, \"How are you\")"
      ],
      "execution_count": null,
      "outputs": []
    },
    {
      "cell_type": "markdown",
      "metadata": {
        "id": "Y-weY9ROC05R"
      },
      "source": [
        "You have already encountered `len`, `sum`, `max`, and `min`."
      ]
    },
    {
      "cell_type": "code",
      "metadata": {
        "id": "jyBnH_leC05R"
      },
      "source": [
        "nums = [3, 41, 12, 9, 74, 15]\n",
        "\n",
        "# len() takes as a parameter a string (and returns its length in characters)\n",
        "# or a list/set/dictionary/... (and returns the number of elements)\n",
        "print(\"Length:\", len(nums))\n",
        "\n",
        "# max() / min() takes as a parameter a *list* and returns \n",
        "# the maximum or minimum element\n",
        "print(\"Max:\", max(nums))\n",
        "print(\"Min:\", min(nums))\n",
        "# sum() gets as input a list of numbers and returns their sum\n",
        "print(\"Sum:\", sum(nums))"
      ],
      "execution_count": null,
      "outputs": []
    },
    {
      "cell_type": "markdown",
      "metadata": {
        "id": "eR3cJJ9FC05S"
      },
      "source": [
        "We have also used various type conversion functions, such as `int`, `float`, `str`, `set`, `list`,  `tuple`, and we also used `type` to find out the type of a given variable. \n",
        "\n",
        "In a variety of contexts, we also used the  `range`, `round`, and `sorted` functions."
      ]
    },
    {
      "cell_type": "code",
      "metadata": {
        "id": "QmFpKEnCC05S"
      },
      "source": [
        "list(range(-10,10,2))"
      ],
      "execution_count": null,
      "outputs": []
    },
    {
      "cell_type": "code",
      "metadata": {
        "id": "JCuNBjGlC05T"
      },
      "source": [
        "a = [0.819, 0.277, 0.817, 0.575, 0.168, 0.973, 0.987, 0.883, 0.293, 0.933]\n",
        "# Keep only numbers above 0.5 and round them to 2 decimals\n",
        "b = [round(num,2) for num in a if num>0.5]\n",
        "print(a)\n",
        "print(b)\n",
        "print(sorted(b))"
      ],
      "execution_count": null,
      "outputs": []
    },
    {
      "cell_type": "code",
      "metadata": {
        "id": "r5R3W0vIC05U"
      },
      "source": [
        "a = [0.819, 0.277, 0.817, 0.575, 0.168, 0.973, 0.987, 0.883, 0.293, 0.933]\n",
        "# Keep only numbers above 0.5 and round them to 2 decimals\n",
        "b = [] # we initialize the list b\n",
        "for num in a:\n",
        "    if num>0.5: # Keep only numbers above 0.5\n",
        "        x = round(num,2) # round them to 2 decimals\n",
        "        b.append(x)\n",
        "\n",
        "print(a)\n",
        "print(b)\n",
        "\n",
        "# sorted() has a list as input and returns the list with the elements sorted\n",
        "print(sorted(b))"
      ],
      "execution_count": null,
      "outputs": []
    },
    {
      "cell_type": "markdown",
      "metadata": {
        "id": "MHD-VqbGC05U"
      },
      "source": [
        "The list at https://docs.python.org/3/library/functions.html contains all the built-in functions of Python. **As a general rule of thumb, avoid using these bult-in function names as variable names.**"
      ]
    },
    {
      "cell_type": "markdown",
      "metadata": {
        "id": "SfGJc6v4C05V"
      },
      "source": [
        "### Functions from Libraries\n",
        "\n",
        "We can also add more functions by `import`-ing libraries. You may recall importing the `math` library. "
      ]
    },
    {
      "cell_type": "code",
      "metadata": {
        "id": "j4M03TaeC05V",
        "outputId": "e272d7ad-597b-418d-dcd1-987bc44635bc",
        "colab": {
          "base_uri": "https://localhost:8080/"
        }
      },
      "source": [
        "# Let's have some fun\n",
        "import math\n",
        "for i in range(32):\n",
        "    # math.fabs returns the absolute value\n",
        "    # math.cos returns the cosine of the value\n",
        "    x = int(math.fabs((i*math.cos(i/4)))+1)\n",
        "    print(x*'#')"
      ],
      "execution_count": 1,
      "outputs": [
        {
          "output_type": "stream",
          "text": [
            "#\n",
            "#\n",
            "##\n",
            "###\n",
            "###\n",
            "##\n",
            "#\n",
            "##\n",
            "####\n",
            "######\n",
            "#########\n",
            "###########\n",
            "############\n",
            "#############\n",
            "##############\n",
            "#############\n",
            "###########\n",
            "########\n",
            "####\n",
            "#\n",
            "######\n",
            "###########\n",
            "################\n",
            "####################\n",
            "########################\n",
            "#########################\n",
            "##########################\n",
            "#########################\n",
            "######################\n",
            "#################\n",
            "###########\n",
            "####\n"
          ],
          "name": "stdout"
        }
      ]
    },
    {
      "cell_type": "markdown",
      "metadata": {
        "id": "BAmzn_EvC05W"
      },
      "source": [
        "Another commonly used library is the `random` library that returns random numbers."
      ]
    },
    {
      "cell_type": "code",
      "metadata": {
        "scrolled": true,
        "id": "7VZ09w7kC05W",
        "outputId": "73cbf409-1c6d-480f-bc18-705691f34446",
        "colab": {
          "base_uri": "https://localhost:8080/"
        }
      },
      "source": [
        "import random\n",
        "for i in range(10):\n",
        "    x = random.random() # random.random() returns random values from 0 to 1\n",
        "    print(\"The number is {n:.3f}\".format(n=round(x,3)))\n",
        "    "
      ],
      "execution_count": 2,
      "outputs": [
        {
          "output_type": "stream",
          "text": [
            "The number is 0.954\n",
            "The number is 0.715\n",
            "The number is 0.439\n",
            "The number is 0.974\n",
            "The number is 0.717\n",
            "The number is 0.238\n",
            "The number is 0.147\n",
            "The number is 0.499\n",
            "The number is 0.999\n",
            "The number is 0.837\n"
          ],
          "name": "stdout"
        }
      ]
    },
    {
      "cell_type": "markdown",
      "metadata": {
        "id": "OxXIZ72XC05X"
      },
      "source": [
        "### User Defined Functions\n",
        "\n",
        "\n",
        "** See also Examples 18, 19, 20, and 21 from Learn Python the Hard Way **\n",
        "\n",
        "Functions assign a name to a block of code the way variables assign names to bits of data. This seeminly benign naming of things is incredibly powerful; alloing one to reuse common functionality over and over. Well-tested functions form building blocks for large, complex systems. As you progress through python, you'll find yourself using powerful functions defined in some of python's vast libraries of code. \n",
        "\n"
      ]
    },
    {
      "cell_type": "markdown",
      "metadata": {
        "id": "4ogCAUNEC05X"
      },
      "source": [
        "Function definitions begin with the `def` keyword, followed by the name you wish to assign to a function. Following this name are parentheses, `( )`, containing zero or more variable names, those values that are passed into the function. There is then a colon, followed by a code block defining the actions of the function:"
      ]
    },
    {
      "cell_type": "markdown",
      "metadata": {
        "id": "u5uekTHNC05Y"
      },
      "source": [
        "#### Printing \"Hi\"\n",
        "\n",
        "Let's start by looking at a function that performs a set of steps.\n",
        "\n",
        "First we define a function named 'print_hi'. It doesn't take any parameters/arguments."
      ]
    },
    {
      "cell_type": "code",
      "metadata": {
        "id": "-q1lBuI4C05Y"
      },
      "source": [
        "def print_hi():\n",
        "    print(\"hi!\")"
      ],
      "execution_count": 3,
      "outputs": []
    },
    {
      "cell_type": "markdown",
      "metadata": {
        "id": "Nu4BdaaVD6ZM"
      },
      "source": [
        "### Let's call it 10 times"
      ]
    },
    {
      "cell_type": "code",
      "metadata": {
        "id": "zp-YkWpQC05Y",
        "outputId": "04006f77-927b-45ca-a94f-9a8af6a2b7b3",
        "colab": {
          "base_uri": "https://localhost:8080/"
        }
      },
      "source": [
        "for i in range(10):\n",
        "    print_hi()"
      ],
      "execution_count": 5,
      "outputs": [
        {
          "output_type": "stream",
          "text": [
            "hi!\n",
            "hi!\n",
            "hi!\n",
            "hi!\n",
            "hi!\n",
            "hi!\n",
            "hi!\n",
            "hi!\n",
            "hi!\n",
            "hi!\n"
          ],
          "name": "stdout"
        }
      ]
    },
    {
      "cell_type": "markdown",
      "metadata": {
        "id": "z3nF_d5MC05Y"
      },
      "source": [
        "* Of course, most functions have also one or more _parameters_. For example, the function below will accept the name as a parameter, and then print out the message \"HI _name_\". where _name_ is the value of the parameter that we pass to the function. The function will also convert the _name_ into uppercase:"
      ]
    },
    {
      "cell_type": "code",
      "metadata": {
        "id": "JvN-OKKgC05Y"
      },
      "source": [
        "def hi_you(name):\n",
        "    '''\n",
        "    This function takes as input/parameter the variable name\n",
        "    And then prints in the screen the message \n",
        "    HI <NAME>! \n",
        "    where <NAME> is the content of the name variable converted to uppercase\n",
        "    '''\n",
        "    print(\"HI\", name.upper())"
      ],
      "execution_count": 6,
      "outputs": []
    },
    {
      "cell_type": "markdown",
      "metadata": {
        "id": "2zt_vqHzEPmU"
      },
      "source": [
        "### Notice that 'name' is just a placeholder whose value is \"passed\" to the function."
      ]
    },
    {
      "cell_type": "code",
      "metadata": {
        "id": "WD5IcIwxC05Y",
        "outputId": "810d4236-f8f7-48ce-e846-3f27dae3f4b0",
        "colab": {
          "base_uri": "https://localhost:8080/"
        }
      },
      "source": [
        "names = ['Panos', 'Peter', 'Norman', 'Jennifer', 'Elena']\n",
        "for n in names:\n",
        "    hi_you(n)"
      ],
      "execution_count": 7,
      "outputs": [
        {
          "output_type": "stream",
          "text": [
            "HI PANOS\n",
            "HI PETER\n",
            "HI NORMAN\n",
            "HI JENNIFER\n",
            "HI ELENA\n"
          ],
          "name": "stdout"
        }
      ]
    },
    {
      "cell_type": "markdown",
      "metadata": {
        "id": "VcUoOyGoC05Z"
      },
      "source": [
        "* Let's modify the `hi_you` to take as input a *list* of names and print out all of them "
      ]
    },
    {
      "cell_type": "code",
      "metadata": {
        "id": "Xe79kPAZC05a"
      },
      "source": [
        "def hi_you_all(list_of_names):\n",
        "    '''\n",
        "    This function takes as input/parameter list_of_names\n",
        "    And then prints in the screen the message \n",
        "    HI <NAME>! \n",
        "    for all the names in the list_of_names.\n",
        "    \n",
        "    The parameter names is a list of strings, with every string\n",
        "    being a name that we want to print out\n",
        "    '''\n",
        "    for name in list_of_names:\n",
        "        print(\"HI\", name.upper(), \"!\")\n",
        "        # Alternatively, we could reuse the function hi_you(name)\n",
        "        # hi_you(name)"
      ],
      "execution_count": 9,
      "outputs": []
    },
    {
      "cell_type": "code",
      "metadata": {
        "id": "7pLk3_CqC05a",
        "outputId": "76c6829b-f241-407f-cb5e-697055462e9c",
        "colab": {
          "base_uri": "https://localhost:8080/"
        }
      },
      "source": [
        "names = ['Panos', 'Peter', 'Norman', 'Jennifer', 'Elena']\n",
        "hi_you_all(names)"
      ],
      "execution_count": 10,
      "outputs": [
        {
          "output_type": "stream",
          "text": [
            "HI PANOS !\n",
            "HI PETER !\n",
            "HI NORMAN !\n",
            "HI JENNIFER !\n",
            "HI ELENA !\n"
          ],
          "name": "stdout"
        }
      ]
    },
    {
      "cell_type": "markdown",
      "metadata": {
        "id": "xj8DpHQkC05a"
      },
      "source": [
        "#### The `return` statement \n",
        "\n",
        "Example of computing a math function"
      ]
    },
    {
      "cell_type": "code",
      "metadata": {
        "id": "QknI1r1WC05b"
      },
      "source": [
        "# The functions are often designed to **return** the\n",
        "# result of a computation/operation\n",
        "def square(num):\n",
        "    squared = num*num\n",
        "    # return the value of squared as the result of the function.\n",
        "    return squared"
      ],
      "execution_count": 11,
      "outputs": []
    },
    {
      "cell_type": "code",
      "metadata": {
        "id": "30UcVHXcC05b",
        "outputId": "61b97a94-f623-4240-9922-e6e4e8ae85a7",
        "colab": {
          "base_uri": "https://localhost:8080/"
        }
      },
      "source": [
        "x = square(3) # notice that square RETURNS a value that \n",
        "              # we store in variable x \n",
        "              # this is in contrast to hi_you and hi_you_all\n",
        "              # that just printed out messages on the screen\n",
        "print(x)"
      ],
      "execution_count": 12,
      "outputs": [
        {
          "output_type": "stream",
          "text": [
            "9\n"
          ],
          "name": "stdout"
        }
      ]
    },
    {
      "cell_type": "code",
      "metadata": {
        "id": "u_xwUhvxC05b",
        "outputId": "6abe36e0-8746-4c48-951a-0f868caabb15",
        "colab": {
          "base_uri": "https://localhost:8080/"
        }
      },
      "source": [
        "for i in range(15):\n",
        "    print(\"The square of {a} is {aa}\".format(a=i, aa=square(i)))"
      ],
      "execution_count": 13,
      "outputs": [
        {
          "output_type": "stream",
          "text": [
            "The square of 0 is 0\n",
            "The square of 1 is 1\n",
            "The square of 2 is 4\n",
            "The square of 3 is 9\n",
            "The square of 4 is 16\n",
            "The square of 5 is 25\n",
            "The square of 6 is 36\n",
            "The square of 7 is 49\n",
            "The square of 8 is 64\n",
            "The square of 9 is 81\n",
            "The square of 10 is 100\n",
            "The square of 11 is 121\n",
            "The square of 12 is 144\n",
            "The square of 13 is 169\n",
            "The square of 14 is 196\n"
          ],
          "name": "stdout"
        }
      ]
    },
    {
      "cell_type": "markdown",
      "metadata": {
        "id": "kk0UrkRqC05b"
      },
      "source": [
        "Note that the function `square` has a special keyword `return`. The argument to return is passed to whatever piece of code is calling the function. In this case, the square of the number that was input. "
      ]
    },
    {
      "cell_type": "markdown",
      "metadata": {
        "id": "aFHNx_SbC05b"
      },
      "source": [
        "#### Solving the quadratic equation\n",
        "\n",
        "Here is another example of a function, for solving the quadratic equation $ a*x^2 + b*x + c = 0$."
      ]
    },
    {
      "cell_type": "code",
      "metadata": {
        "id": "koqjomxpC05b",
        "outputId": "aae8c1a8-362b-4821-aeeb-0aa5d22c9ccc",
        "colab": {
          "base_uri": "https://localhost:8080/"
        }
      },
      "source": [
        "# This was our solution in Assignment 2F\n",
        "import math\n",
        "a = 1\n",
        "b = -5.86\n",
        "c = 8.5408\n",
        "x1 = (-b + math.sqrt(b**2 - 4*a*c))/(2*a)\n",
        "print(\"Solution 1: {x:.3f}\".format(x=x1))\n",
        "x2 = (-b - math.sqrt(b**2 - 4*a*c))/(2*a)\n",
        "print(\"Solution 2: {x:.3f}\".format(x=x2))\n"
      ],
      "execution_count": 14,
      "outputs": [
        {
          "output_type": "stream",
          "text": [
            "Solution 1: 3.140\n",
            "Solution 2: 2.720\n"
          ],
          "name": "stdout"
        }
      ]
    },
    {
      "cell_type": "code",
      "metadata": {
        "id": "mjvDXbDIC05c",
        "outputId": "6aba6610-fa5f-40bf-f82d-987ad43a782e",
        "colab": {
          "base_uri": "https://localhost:8080/"
        }
      },
      "source": [
        "# We want to solve the quadratic equation a*x^2 + b*x + c = 0 \n",
        "# We have two solutions:\n",
        "# s1 = (-b + sqrt(b^2 - 4ac)) / 2a\n",
        "# s2 = (-b - sqrt(b^2 - 4ac)) / 2a\n",
        "import math\n",
        "\n",
        "# We implement two functions to compute the solutions\n",
        "# Notice that both functions take as input the values a,b,c\n",
        "def s1(a,b,c):\n",
        "    solution = (-b + math.sqrt(b**2 - 4*a*c)) / (2*a) \n",
        "    return solution\n",
        "\n",
        "def s2(a,b,c):\n",
        "    solution = (-b - math.sqrt(b**2 - 4*a*c)) / (2*a) \n",
        "    return solution\n",
        "\n",
        "# Now let's use our functions\n",
        "a = 1\n",
        "b = -5.86\n",
        "c = 8.5408\n",
        "print(\"Solution 1:\", s1(a,b,c) )\n",
        "print(\"Solution 2:\", s2(a,b,c) )"
      ],
      "execution_count": 15,
      "outputs": [
        {
          "output_type": "stream",
          "text": [
            "Solution 1: 3.1400000000000006\n",
            "Solution 2: 2.7199999999999998\n"
          ],
          "name": "stdout"
        }
      ]
    },
    {
      "cell_type": "markdown",
      "metadata": {
        "id": "mD2inpJvFYB8"
      },
      "source": [
        "### Functions in python can also return more than one value"
      ]
    },
    {
      "cell_type": "code",
      "metadata": {
        "id": "T2ZyD75lC05c",
        "outputId": "461ccb6c-63a1-4eb8-b12e-36585ded91a3",
        "colab": {
          "base_uri": "https://localhost:8080/"
        }
      },
      "source": [
        "# Example of returning \"multivalued\" results using tuples/lists\n",
        "def solve_quadratic(a,b,c):\n",
        "    # We can even check that the value of the discriminant\n",
        "    # is positive before returning a result\n",
        "    discr = b**2 - 4*a*c\n",
        "    if discr < 0: # We will not compute \n",
        "        return None # \"None\" is a special value, meaning \"nothing\"\n",
        "    solution1 = s1(a,b,c)\n",
        "    solution2 = s2(a,b,c)\n",
        "    # A function can return a list, tuple, dictionary, etc.\n",
        "    # The \"return\" value does not have to be a single value\n",
        "    return solution1, solution2\n",
        "\n",
        "solutions = solve_quadratic(a,b,c)\n",
        "print(\"Solutions:\", solutions )\n",
        "print(\"Solutions:\", solutions[0] )\n",
        "print(\"Solutions:\", solutions[1] )"
      ],
      "execution_count": 16,
      "outputs": [
        {
          "output_type": "stream",
          "text": [
            "Solutions: (3.1400000000000006, 2.7199999999999998)\n",
            "Solutions: 3.1400000000000006\n",
            "Solutions: 2.7199999999999998\n"
          ],
          "name": "stdout"
        }
      ]
    },
    {
      "cell_type": "code",
      "metadata": {
        "id": "f5UOFrc3C05c"
      },
      "source": [
        "## COMMON MISTAKE 2\n",
        "# Using multiple return statements\n",
        "# Why? After we execute the first return, \n",
        "# we do not execute anything below that\n",
        "def s1(a, b, c):\n",
        "    d = math.sqrt(b**2 - 4*a*c)\n",
        "    return (-b + d)/(2*a) # solution 1 \n",
        "    return (-b - d)/(2*a) # solution 2, BUT this will never be executed"
      ],
      "execution_count": null,
      "outputs": []
    },
    {
      "cell_type": "code",
      "metadata": {
        "id": "aJDQC7cEC05d"
      },
      "source": [
        ""
      ],
      "execution_count": null,
      "outputs": []
    },
    {
      "cell_type": "markdown",
      "metadata": {
        "id": "SiM3EjP8C05d"
      },
      "source": [
        "#### Example function: Cleaning up a string"
      ]
    },
    {
      "cell_type": "code",
      "metadata": {
        "id": "H3gRjPEZC05d"
      },
      "source": [
        "# this function takes as input a phone (string variable)\n",
        "# and prints only its digits\n",
        "def clean(phone):\n",
        "    result = \"\"\n",
        "    digits = {\"0\",\"1\",\"2\",\"3\",\"4\",\"5\",\"6\",\"7\",\"8\",\"9\"}\n",
        "    for c in phone:\n",
        "        if c in digits:\n",
        "            result = result + c\n",
        "    return result        \n"
      ],
      "execution_count": null,
      "outputs": []
    },
    {
      "cell_type": "code",
      "metadata": {
        "id": "vCPX2-ADC05d"
      },
      "source": [
        "p = \"(800) 555-1214 Panos Phone number\"\n",
        "print(clean(p))"
      ],
      "execution_count": null,
      "outputs": []
    },
    {
      "cell_type": "markdown",
      "metadata": {
        "id": "uw63uy22C05d"
      },
      "source": [
        "#### Exercises\n",
        "\n",
        "* Write a function `in_range` that checks if a number `n` is within a given range `(a,b)` and returns True or False. The function takes n, a, and b as parameters.\n",
        "\n"
      ]
    },
    {
      "cell_type": "code",
      "metadata": {
        "id": "iazqMsLLC05d"
      },
      "source": [
        ""
      ],
      "execution_count": null,
      "outputs": []
    },
    {
      "cell_type": "markdown",
      "metadata": {
        "id": "bUB8IHT0C05d"
      },
      "source": [
        "* Write a `dedup` function that takes as input a list and returns back another list, with only unique elements and sorted. For example, if the input is `[1,2,5,5,5,3,3,3,3,4,5]` the returned list should be `[1, 2, 3, 4, 5]`. If the input is `['New York', 'New York',  'Paris', 'London', 'Paris']` the returned list should be `['London', 'New York', 'Paris']`."
      ]
    },
    {
      "cell_type": "code",
      "metadata": {
        "id": "K4qeEW2iC05e"
      },
      "source": [
        ""
      ],
      "execution_count": null,
      "outputs": []
    },
    {
      "cell_type": "markdown",
      "metadata": {
        "id": "RBrxjJarC05e"
      },
      "source": [
        "* Write a function that generates a random password with `n` letters. The value `n` should be a parameter."
      ]
    },
    {
      "cell_type": "code",
      "metadata": {
        "id": "K6giF3FiC05e"
      },
      "source": [
        "# This code generates one random letter\n",
        "import random\n",
        "import string\n",
        "random.choice(string.ascii_letters)\n"
      ],
      "execution_count": null,
      "outputs": []
    }
  ]
}