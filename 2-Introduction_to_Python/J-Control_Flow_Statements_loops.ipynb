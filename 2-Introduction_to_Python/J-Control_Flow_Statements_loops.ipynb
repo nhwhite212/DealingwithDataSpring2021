{
  "nbformat": 4,
  "nbformat_minor": 0,
  "metadata": {
    "kernelspec": {
      "display_name": "Python 3",
      "language": "python",
      "name": "python3"
    },
    "language_info": {
      "codemirror_mode": {
        "name": "ipython",
        "version": 3
      },
      "file_extension": ".py",
      "mimetype": "text/x-python",
      "name": "python",
      "nbconvert_exporter": "python",
      "pygments_lexer": "ipython3",
      "version": "3.5.2"
    },
    "colab": {
      "name": "J-Control_Flow_Statements_loops.ipynb",
      "provenance": []
    }
  },
  "cells": [
    {
      "cell_type": "markdown",
      "metadata": {
        "id": "UO3kzs0Zowub"
      },
      "source": [
        "Control Structures\n",
        "------------------\n",
        "\n",
        "We've spent some time going into detail about some of the data types and structures available in python. It's now time to talk about how to navigate through some of this data, and use data to make decisions. Traversing over data and making decisions based upon data are a common aspect of every programming language, known as control flow. Python provides a rich control flow, with a lot of conveniences for the power users. Here, we're just going to talk about the basics, to learn more, please [consult the documentation](http://docs.python.org/2/tutorial/controlflow.html). \n",
        "\n",
        "A common theme throughout this discussion of control structures is the notion of a \"block of code.\" Blocks of code are **demarcated by a specific level of indentation**, typically separated from the surrounding code by some control structure elements, immediately preceeded by a colon, `:`. We'll see examples below. \n",
        "\n",
        "Finally, note that control structures can be nested arbitrarily, depending on the tasks you're trying to accomplish. "
      ]
    },
    {
      "cell_type": "markdown",
      "metadata": {
        "id": "RcjFCopcowud"
      },
      "source": [
        "### while statements:\n",
        "\n",
        "While loops are keep iterating until a given condition becomes true. For example, the following example counts until `i` becomes larger than 5"
      ]
    },
    {
      "cell_type": "code",
      "metadata": {
        "id": "et5RKRtFowud"
      },
      "source": [
        "i=0\n",
        "while i<=5:\n",
        "    print(i)\n",
        "    i = i + 1"
      ],
      "execution_count": null,
      "outputs": []
    },
    {
      "cell_type": "markdown",
      "metadata": {
        "id": "pXSygpU_owud"
      },
      "source": [
        "Or consider the following example: The tea starts at 115 degrees Fahrenheit. You want it at 110 degrees. A chip of ice turns out to lower the temperature one degree every second. You test the temperature each time, and also print out the temperature before reducing the temperature. In Python you could write and run the code below:"
      ]
    },
    {
      "cell_type": "code",
      "metadata": {
        "id": "9r0BRDyCowue"
      },
      "source": [
        "import time # This is just to use the time.sleep function\n",
        "\n",
        "temperature = 115  \n",
        "while temperature > 110: # first while loop code\n",
        "    print(temperature)\n",
        "    time.sleep(1.0) # Wait for 1 sec\n",
        "    temperature = temperature - 1\n",
        "     \n",
        "print('The tea is cool enough.')"
      ],
      "execution_count": null,
      "outputs": []
    },
    {
      "cell_type": "markdown",
      "metadata": {
        "id": "AhnSFnDAowuf"
      },
      "source": [
        "And here is a simplified simulator that starts with an amount of money in the bank, and then examines the effect of withdrawing a specific amount of money per year, until you run out of money. Notice that the loop will keep running for ever, if you never withdraw more money than what you have. (We will deal with this issue next.)"
      ]
    },
    {
      "cell_type": "code",
      "metadata": {
        "id": "1yYuzGTWowug"
      },
      "source": [
        "money_in_bank = 1000\n",
        "interest = 6\n",
        "year = 2017\n",
        "withdrawal_per_period = 200\n",
        "\n",
        "while money_in_bank>0:\n",
        "    print(\"At the beginning of {y} you have ${m}.\".format(y=year, m=money_in_bank))\n",
        "    money_in_bank = money_in_bank - withdrawal_per_period\n",
        "    money_in_bank = money_in_bank * (1 + interest/100)\n",
        "    year = year + 1\n",
        "    print(\"At the end of {y} you have ${m}.\".format(y=year, m=money_in_bank))\n",
        "    print(\"-----------------\")\n",
        "\n",
        "print(\"You have no money left!\")"
      ],
      "execution_count": null,
      "outputs": []
    },
    {
      "cell_type": "markdown",
      "metadata": {
        "id": "XKz3RN82owuh"
      },
      "source": [
        "### Break and Continue: \n",
        "\n",
        "These two statements are used to modify iteration of loops. Break is used to *exit immediately* the *inner most _loop_* in which it appears. In contrast, continue stops the code executing within the loop and goes on to the *next iteration of the same loop*.\n",
        "\n",
        "For example, consider our previous example. The loop will keep running for ever, if you never withdraw more money than what you have. To avoid this infinite loop, we can add an extra check in the code, checking if the year is above a certain limit, and stop execution of the loop at that point."
      ]
    },
    {
      "cell_type": "code",
      "metadata": {
        "id": "W-uMGfQtowuh"
      },
      "source": [
        "money_in_bank = 1000\n",
        "interest = 6\n",
        "year = 2017\n",
        "\n",
        "# Try also the values 56.6 and 56.7 and see its behavior\n",
        "widthdrawal_per_period = 50 \n",
        "\n",
        "while money_in_bank>0:\n",
        "    print(\"At the beginning of {y} you have ${m}.\".format(y=year, m=money_in_bank))\n",
        "    money_in_bank = money_in_bank - withdrawal_per_period\n",
        "    money_in_bank = money_in_bank * (1 + interest/100)\n",
        "    year = year + 1\n",
        "    if year > 2117:\n",
        "        print(\"I am pretty sure you will not be alive by then\")\n",
        "        break;\n",
        "    print(\"At the end of {y} you have ${m}.\".format(y=year, m=money_in_bank))\n",
        "    print(\"-----------------\")\n",
        "\n",
        "print(\"You have no money left (or you are dead)!\")"
      ],
      "execution_count": null,
      "outputs": []
    },
    {
      "cell_type": "code",
      "metadata": {
        "id": "MlsOty0zowui"
      },
      "source": [
        "import time \n",
        "temperature = 133 \n",
        "while temperature > 110: # first while loop code\n",
        "    temperature = temperature - 1\n",
        "    if temperature % 5 != 0: # If the temperature is not divisible by 5\n",
        "        continue # We keep running the loop, but will not print\n",
        "                 # the temperature and have a delay\n",
        "    time.sleep(0.5)\n",
        "    print(temperature)\n",
        "     \n",
        "print('The tea is cool enough.')"
      ],
      "execution_count": null,
      "outputs": []
    },
    {
      "cell_type": "markdown",
      "metadata": {
        "id": "FGSqAm6uowuj"
      },
      "source": [
        "### for Statements:\n",
        "\n",
        "**See also LPTHW, Exp 32.**\n",
        "\n",
        "for statements are a convenient way to iterate through the values contained in a data structure. Going through the elements in a data structure one at a time, this element is assigned to variable. The code block associated with the for statement (or for loop) is then evaluated with this value."
      ]
    },
    {
      "cell_type": "code",
      "metadata": {
        "id": "OmfLRHNyowuj"
      },
      "source": [
        "set_a = {1, 2, 3, 4}\n",
        "for i in set_a:\n",
        "    print(i, \" squared is:\", i*i )"
      ],
      "execution_count": null,
      "outputs": []
    },
    {
      "cell_type": "code",
      "metadata": {
        "id": "mNinMClmowuj"
      },
      "source": [
        "print(\"a more complex block\")\n",
        "set_a = {1, 2, 3, 4, 5, 6}\n",
        "for i in set_a:\n",
        "    # print(i)\n",
        "    if i >= 3:\n",
        "        print(\"==> \",i, \" squared is:\", i*i )"
      ],
      "execution_count": null,
      "outputs": []
    },
    {
      "cell_type": "code",
      "metadata": {
        "id": "7u0bucQdowuj"
      },
      "source": [
        "print(\"this also works for lists\")\n",
        "list_a = [1,2,3]\n",
        "for num in list_a:\n",
        "    print(num)"
      ],
      "execution_count": null,
      "outputs": []
    },
    {
      "cell_type": "code",
      "metadata": {
        "id": "FUjsKw1uowuk"
      },
      "source": [
        "print(\"dictionaries let you iterate through keys, values, or both\")\n",
        "phones = {\n",
        "    \"Panos\": \"212-998-0803\",\n",
        "    \"Maria\": \"656-233-5555\",\n",
        "    \"John\": \"693-232-5776\",\n",
        "    \"Jake\": \"415-794-3423\"\n",
        "}"
      ],
      "execution_count": null,
      "outputs": []
    },
    {
      "cell_type": "code",
      "metadata": {
        "id": "UCFLzWXjowuk"
      },
      "source": [
        "print(\"Iterating over keys\")\n",
        "for k in phones.keys():\n",
        "    print(\"key =\", k, \", value =\", phones[k])"
      ],
      "execution_count": null,
      "outputs": []
    },
    {
      "cell_type": "code",
      "metadata": {
        "id": "UXKbXdm4owul"
      },
      "source": [
        "print(\"Iterating over values\")\n",
        "for v in phones.values():\n",
        "    print(v)"
      ],
      "execution_count": null,
      "outputs": []
    },
    {
      "cell_type": "code",
      "metadata": {
        "id": "2LzHtiAwowul"
      },
      "source": [
        "print(\"Iterating over both keys and values\")\n",
        "# Items returns *tuples* that correspond to key-value pairs\n",
        "# (\"Panos\", \"212-998-0803\"), (\"Maria\": \"656-233-5555\"), etc.\n",
        "for (k,v) in phones.items():\n",
        "    print(k, v)"
      ],
      "execution_count": null,
      "outputs": []
    },
    {
      "cell_type": "code",
      "metadata": {
        "id": "EeMcMGtLowul"
      },
      "source": [
        "nba_teams = [\"Atlanta Hawks\", \"Boston Celtics\", \"Brooklyn Nets\", \"Charlotte Hornets\", \"Chicago Bulls\", \"Cleveland Cavaliers\", \"Dallas Mavericks\", \"Denver Nuggets\", \"Detroit Pistons\", \"Golden State Warriors\", \"Houston Rockets\", \"Indiana Pacers\", \"LA Clippers\", \"Los Angeles Lakers\", \"Memphis Grizzlies\", \"Miami Heat\", \"Milwaukee Bucks\", \"Minnesota Timberwolves\", \"New Orleans Pelicans\", \"New York Knicks\", \"Oklahoma City Thunder\", \"Orlando Magic\", \"Philadelphia 76ers\", \"Phoenix Suns\", \"Portland Trail Blazers\", \"Sacramento Kings\", \"San Antonio Spurs\", \"Toronto Raptors\", \"Utah Jazz\"]\n",
        "print(\"The list contains\", len(nba_teams), \"teams\")\n",
        "for team in nba_teams:\n",
        "    print(team)"
      ],
      "execution_count": null,
      "outputs": []
    },
    {
      "cell_type": "markdown",
      "metadata": {
        "id": "vaKdBpuJowum"
      },
      "source": [
        "### Exercise\n",
        "\n",
        "* print the names of the people from the dictionary below, by iterating through the keys\n",
        "* print the age of each person, by iterating through the keys, and then looking up the \"YOB\" entry.\n",
        "* print the names of people born after 1980\n",
        "* print the number of children for each person. You need to check if the \"Children\" list exists in the dictionary."
      ]
    },
    {
      "cell_type": "code",
      "metadata": {
        "id": "nctAXauKowum"
      },
      "source": [
        "data = {\n",
        "        \"Foster\": {\n",
        "            \"Job\": \"Professor\", \n",
        "            \"YOB\": 1965, \n",
        "            \"Children\": [\"Hannah\"],\n",
        "            \"Awards\": [\"Best Teacher 2014\", \"Best Researcher 2015\"],\n",
        "            \"Salary\": 120000\n",
        "        }, \n",
        "        \"Joe\": {\n",
        "            \"Job\": \"Data Scientist\", \n",
        "            \"YOB\": 1981,\n",
        "            \"Salary\": 200000\n",
        "        },\n",
        "        \"Maria\": { \n",
        "            \"Job\": \"Software Engineer\", \n",
        "            \"YOB\": 1993, \n",
        "            \"Children\": [],\n",
        "            \"Awards\": [\"Dean's List 2013\", \"Valedictorian 2011\", \"First place in Math Olympiad 2010\"]\n",
        "        }, \n",
        "        \"Panos\": { \n",
        "            \"Job\": \"Professor\", \n",
        "            \"YOB\": 1976, \n",
        "            \"Children\": [\"Gregory\", \"Anna\"]\n",
        "        },\n",
        "    }"
      ],
      "execution_count": null,
      "outputs": []
    },
    {
      "cell_type": "code",
      "metadata": {
        "id": "lKWXcM2uowum"
      },
      "source": [
        "## Print the names of people in the data"
      ],
      "execution_count": null,
      "outputs": []
    },
    {
      "cell_type": "code",
      "metadata": {
        "id": "Qr-9sfN1owum"
      },
      "source": [
        "## Print the names and age"
      ],
      "execution_count": null,
      "outputs": []
    },
    {
      "cell_type": "code",
      "metadata": {
        "id": "efTd1uKPowum"
      },
      "source": [
        "## Print the names of people born after 1980"
      ],
      "execution_count": null,
      "outputs": []
    },
    {
      "cell_type": "code",
      "metadata": {
        "id": "rrdTSF2Dowum"
      },
      "source": [
        "## Print the number of children for each perspon"
      ],
      "execution_count": null,
      "outputs": []
    },
    {
      "cell_type": "markdown",
      "metadata": {
        "id": "XVAVHI-7owun"
      },
      "source": [
        "### Using Break/Continue with for loops\n",
        "\n",
        "Let's see an example of using `break` and `continue` within a for loop."
      ]
    },
    {
      "cell_type": "code",
      "metadata": {
        "id": "RMX-KOUtowun"
      },
      "source": [
        "nba_teams = [\"Atlanta Hawks\", \"Boston Celtics\", \"Brooklyn Nets\", \"Charlotte Hornets\", \"Chicago Bulls\", \"Cleveland Cavaliers\", \"Dallas Mavericks\", \"Denver Nuggets\", \"Detroit Pistons\", \"Golden State Warriors\", \"Houston Rockets\", \"Indiana Pacers\", \"LA Clippers\", \"Los Angeles Lakers\", \"Memphis Grizzlies\", \"Miami Heat\", \"Milwaukee Bucks\", \"Minnesota Timberwolves\", \"New Orleans Pelicans\", \"New York Knicks\", \"Oklahoma City Thunder\", \"Orlando Magic\", \"Philadelphia 76ers\", \"Phoenix Suns\", \"Portland Trail Blazers\", \"Sacramento Kings\", \"San Antonio Spurs\", \"Toronto Raptors\", \"Utah Jazz\"]\n",
        "print(\"The list contains\", len(nba_teams), \"teams\")"
      ],
      "execution_count": null,
      "outputs": []
    },
    {
      "cell_type": "markdown",
      "metadata": {
        "id": "X41dURcXowun"
      },
      "source": [
        "We will now search through the list of teams, to find whether there is a team that contains the `looking_for` string. Try the variant with the `break` and with the `continue`, to see the difference."
      ]
    },
    {
      "cell_type": "code",
      "metadata": {
        "id": "lBAIVRzOowuo"
      },
      "source": [
        "looking_for = \"Brooklyn\"\n",
        "for team in nba_teams:\n",
        "    if looking_for in team: \n",
        "        print(\"We found the team:\", team, \"containing\", looking_for)\n",
        "        print(\"We will stop searching now\")\n",
        "        break # we go out of the loop\n",
        "        # continue # we skip the remaining of the code in the nested block\n",
        "    # else:\n",
        "    print(team, \"does not contain the string\", looking_for)\n",
        "    \n",
        "print(\"Out of the loop!\")"
      ],
      "execution_count": null,
      "outputs": []
    },
    {
      "cell_type": "markdown",
      "metadata": {
        "id": "HQo3cwH1owuo"
      },
      "source": [
        "Technically, we can simulate the use of `break` and `continue` with `if-else` statements, but their usage often makes the code easier to read. Consider the following example, where we want to search for a team, and if we find a team that matches, we want to see if they made it to the play offs."
      ]
    },
    {
      "cell_type": "code",
      "metadata": {
        "id": "jParIcj7owuo"
      },
      "source": [
        "playoff = [\"Atlanta Hawks\", \"Boston Celtics\", \"Charlotte Hornets\",\"Cleveland Cavaliers\", \"Dallas Mavericks\", \"Detroit Pistons\",\"Golden State Warriors\", \"Houston Rockets\", \"Indiana Pacers\", \"LA Clippers\", \"Memphis Grizzlies\", \"Miami Heat\", \"Oklahoma City Thunder\", \"Portland Trail Blazers\", \"San Antonio Spurs\", \"Toronto Raptors\"]\n",
        "print(\"The list contains\", len(playoff), \"teams\")"
      ],
      "execution_count": null,
      "outputs": []
    },
    {
      "cell_type": "code",
      "metadata": {
        "id": "c-u6nG4Xowuo"
      },
      "source": [
        "looking_for = \"Clippers\"\n",
        "\n",
        "for team in nba_teams:\n",
        "    # If the team does not match, we continue searching\n",
        "    # without executing the remaining code\n",
        "    if looking_for not in team: \n",
        "        continue\n",
        " \n",
        "    # If we have found a matching team, we check for their status in playoffs\n",
        "    if team in playoff:\n",
        "        print(team, \"was in the playoffs!\")\n",
        "    else:\n",
        "        print(team, \"was not in the playoffs...\")\n"
      ],
      "execution_count": null,
      "outputs": []
    },
    {
      "cell_type": "markdown",
      "metadata": {
        "id": "fjXHh2zBowuo"
      },
      "source": [
        "### Ranges of Integers:\n",
        "\n",
        "Often it is convenient to define (and iterate through) ranges of integers. Python has a convenient range function that allows you to do just this."
      ]
    },
    {
      "cell_type": "code",
      "metadata": {
        "id": "wLy_8Z2Qowuo"
      },
      "source": [
        "list(range(20))"
      ],
      "execution_count": null,
      "outputs": []
    },
    {
      "cell_type": "code",
      "metadata": {
        "id": "rDchjnqZowuo"
      },
      "source": [
        "print(list(range(10)) )# start at zero, < the specified ceiling value\n",
        "# range(10) <=> range(0,10)\n",
        "for i in range(10):\n",
        "    print(i, \"squared is\", i*i)"
      ],
      "execution_count": null,
      "outputs": []
    },
    {
      "cell_type": "code",
      "metadata": {
        "id": "NQwknOqMowup"
      },
      "source": [
        "# When range command has two parameters, it starts from the first parameter\n",
        "# and finishes at the second \n",
        "print(list(range(-5, 5)))#from the left value, < right value"
      ],
      "execution_count": null,
      "outputs": []
    },
    {
      "cell_type": "code",
      "metadata": {
        "id": "pIWB76Fbowup"
      },
      "source": [
        "# When range has a third argument, this is the \"step\" value\n",
        "print(list(range(-5, 50, 5)) )#from the left value, to the middle value, incrementing by the right value"
      ],
      "execution_count": null,
      "outputs": []
    },
    {
      "cell_type": "markdown",
      "metadata": {
        "id": "UWUnJjATowuq"
      },
      "source": [
        "#### Warning\n",
        "\n",
        "Those that are already familiar with programming will tend to write code like this:"
      ]
    },
    {
      "cell_type": "code",
      "metadata": {
        "id": "_AmnT8Lkowuq"
      },
      "source": [
        "# Old style, using indexing for loops\n",
        "names = [\"Abe\", \"Bill\", \"Chris\", \"Dorothy\", \"Ellis\"]\n",
        "for i in range(0,len(names)):\n",
        "    print(names[i])"
      ],
      "execution_count": null,
      "outputs": []
    },
    {
      "cell_type": "markdown",
      "metadata": {
        "id": "sk-dLXoiowuq"
      },
      "source": [
        "instead of "
      ]
    },
    {
      "cell_type": "code",
      "metadata": {
        "id": "F2VjFIYvowuq"
      },
      "source": [
        "# Pythonic style, use iterators\n",
        "names = [\"Abe\", \"Bill\", \"Chris\", \"Dorothy\", \"Ellis\"]\n",
        "for n in names:\n",
        "    print(n)"
      ],
      "execution_count": null,
      "outputs": []
    },
    {
      "cell_type": "markdown",
      "metadata": {
        "id": "IpQqghPCowuq"
      },
      "source": [
        "*Avoid* using the indexing style method for iterating through data structures. While technically both generate the same result, the \"Pythonic\" way of doing things is the latter: It is simpler, more readable, and less prone to errors. "
      ]
    },
    {
      "cell_type": "code",
      "metadata": {
        "id": "TJDJEdysowuq"
      },
      "source": [
        ""
      ],
      "execution_count": null,
      "outputs": []
    },
    {
      "cell_type": "markdown",
      "metadata": {
        "id": "3A5abRLZowuq"
      },
      "source": [
        "#### Exercise\n",
        "\n",
        "* print your name 10 times (easy, peasy). \n",
        "* print on the screen a \"triangle\", by printing first \"#\", then \"##\", then \"###\", etc. Repeat 10 times; _Hint: The command `print(i*'#')` will print the character '#' a total of `i` times._"
      ]
    },
    {
      "cell_type": "code",
      "metadata": {
        "id": "y-q7cIyAowuq"
      },
      "source": [
        "#\n",
        "##\n",
        "###\n",
        "####\n",
        "#####\n",
        "######\n",
        "#######\n",
        "########\n",
        "#########\n",
        "##########"
      ],
      "execution_count": null,
      "outputs": []
    },
    {
      "cell_type": "markdown",
      "metadata": {
        "id": "AI4BQNn2owur"
      },
      "source": [
        "List Comprehensions\n",
        "-------------------\n",
        "\n",
        "The practical data scientist often faces situations where one list is to be transformed into another list, transforming the values in the input array, filtering out certain undesired values, etc. List comprehensions are a natural, flexible way to perform these transformations on the elements in a list. \n",
        "\n",
        "The syntax of list comprehensions is based on the way mathematicians define sets and lists, a syntax that leaves it clear what the contents should be:\n",
        "\n",
        "+ `S = {x² : x in {0 ... 9}}`\n",
        "\n",
        "Python's list comprehensions give a very natural way to write statements just like these. It may look strange early on, but it becomes a very natural and concise way of creating lists, without having to write for-loops."
      ]
    },
    {
      "cell_type": "code",
      "metadata": {
        "id": "fI288qZvowur"
      },
      "source": [
        "S = [] # initialize the list\n",
        "for x in range(10):\n",
        "    S.append(x*x)\n",
        "print(S)"
      ],
      "execution_count": null,
      "outputs": []
    },
    {
      "cell_type": "code",
      "metadata": {
        "id": "yhTP2Koyowus"
      },
      "source": [
        "# This code below will create a list with the squares\n",
        "# of the numbers from 0 to 9 \n",
        "S = [] # we create an empty list\n",
        "for i in range(10): # We iterate over all numbers from 0 to 9\n",
        "    S.append(i*i) # We add in the list the square of the number i\n",
        "print(S )# we print(the list)"
      ],
      "execution_count": null,
      "outputs": []
    },
    {
      "cell_type": "code",
      "metadata": {
        "id": "yeUK0mpiowus"
      },
      "source": [
        "S = [i*i for i in range(10)]\n",
        "print(S)"
      ],
      "execution_count": null,
      "outputs": []
    },
    {
      "cell_type": "markdown",
      "metadata": {
        "id": "tD2fMXF2owus"
      },
      "source": [
        "Now let's do one more example:\n",
        "\n",
        "+ `V = (1, 2, 4, 8, ..., 2¹²)`\n"
      ]
    },
    {
      "cell_type": "code",
      "metadata": {
        "id": "H6jh6xx4owut"
      },
      "source": [
        "V = [2**i for i in range(13)]\n",
        "print(V)"
      ],
      "execution_count": null,
      "outputs": []
    },
    {
      "cell_type": "code",
      "metadata": {
        "id": "bQQVO5yvowut"
      },
      "source": [
        "V= []\n",
        "for i in range(13):\n",
        "    V.append(2**i)\n",
        "print(V)"
      ],
      "execution_count": null,
      "outputs": []
    },
    {
      "cell_type": "markdown",
      "metadata": {
        "id": "ECdoAsh6owut"
      },
      "source": [
        "### The *if* statement within a list comprehension\n",
        "\n",
        "Now let's consider the following case:\n",
        "\n",
        "+ `M = {x | x in S and x even}`\n",
        "\n",
        "**Note the list comprehension for deriving M uses a \"if statement\" to filter out those values that aren't of interest**, restricting to only the even squares."
      ]
    },
    {
      "cell_type": "code",
      "metadata": {
        "id": "Tz4D1_y7owut"
      },
      "source": [
        "S = [i*i for i in range(10)]\n",
        "print(S)"
      ],
      "execution_count": null,
      "outputs": []
    },
    {
      "cell_type": "code",
      "metadata": {
        "id": "pwurUBJGowuu"
      },
      "source": [
        "M = []\n",
        "for i in S: # iterate through all elements in S\n",
        "    if i%2 == 0: # if i is an even number\n",
        "        M.append(i) # ..add it to the list\n",
        "print(M)"
      ],
      "execution_count": null,
      "outputs": []
    },
    {
      "cell_type": "code",
      "metadata": {
        "id": "OAHghAYnowuu"
      },
      "source": [
        "M = [x for x in S if x%2 == 0]\n",
        "print(M)"
      ],
      "execution_count": null,
      "outputs": []
    },
    {
      "cell_type": "markdown",
      "metadata": {
        "id": "KJbzwoSOowuu"
      },
      "source": [
        "These are simple examples, using numerical compuation. Let's see a more \"practical\" use: In the following operation we transform a string into a list of values, a more complex operation: "
      ]
    },
    {
      "cell_type": "code",
      "metadata": {
        "id": "JrkNBVyuowuu"
      },
      "source": [
        "words = 'The quick brown fox jumps over the lazy dog'\n",
        "[(w.upper(), w.lower(), len(w)) for w in words.split()]"
      ],
      "execution_count": null,
      "outputs": []
    },
    {
      "cell_type": "markdown",
      "metadata": {
        "id": "80veBq_lowuv"
      },
      "source": [
        "#### Exercise\n",
        "\n",
        "* List each word and its length from the string 'The quick brown fox jumps over the lazy dog', conditioned on the length of the word being four characters and above\n",
        "* List only words with the letter o in them"
      ]
    },
    {
      "cell_type": "code",
      "metadata": {
        "id": "vv8FMJZJowuv"
      },
      "source": [
        "# List each word and its length from the string \n",
        "# 'The quick brown fox jumps over the lazy dog', \n",
        "# conditioned on the length of the word being four characters and above\n"
      ],
      "execution_count": null,
      "outputs": []
    },
    {
      "cell_type": "code",
      "metadata": {
        "id": "rtViPN1aowuv"
      },
      "source": [
        "# List only words with the letter o in them\n"
      ],
      "execution_count": null,
      "outputs": []
    },
    {
      "cell_type": "markdown",
      "metadata": {
        "id": "FTWWGKNPowuv"
      },
      "source": [
        "* You are given the `wsj` article below. Write a list comprehension for getting the words that appear more than once. \n",
        "    * Use the `.split()` command for splitting, without passing a parameter.\n",
        "    * When counting words, case does not matter (i.e., YAHOO is the same as Yahoo).\n",
        "\n",
        "* Find all the *characters* in the article that are not letters or numbers. You can use the isdigit() and isalpha() functions, which work on strings. (e.g, `\"Norman\".isalpha()` and `\"1234\".isdigit()` return True) "
      ]
    },
    {
      "cell_type": "code",
      "metadata": {
        "id": "hrnyXusDowuv"
      },
      "source": [
        "wsj = \"\"\"\n",
        "Yahoo Inc. disclosed a massive security breach by a “state-sponsored actor” affecting at least 500 million users, potentially the largest such data breach on record and the latest hurdle for the beaten-down internet company as it works through the sale of its core business.\n",
        "Yahoo said certain user account information—including names, email addresses, telephone numbers, dates of birth, hashed passwords and, in some cases, encrypted or unencrypted security questions and answers—was stolen from the company’s network in late 2014 by what it believes is a state-sponsored actor.\n",
        "Yahoo said it is notifying potentially affected users and has taken steps to secure their accounts by invalidating unencrypted security questions and answers so they can’t be used to access an account and asking potentially affected users to change their passwords.\n",
        "Yahoo recommended users who haven’t changed their passwords since 2014 do so. It also encouraged users change their passwords as well as security questions and answers for any other accounts on which they use the same or similar information used for their Yahoo account.\n",
        "The company, which is working with law enforcement, said the continuing investigation indicates that stolen information didn't include unprotected passwords, payment-card data or bank account information.\n",
        "With 500 million user accounts affected, this is the largest-ever publicly disclosed data breach, according to Paul Stephens, director of policy and advocacy with Privacy Rights Clearing House, a not-for-profit group that compiles information on data breaches.\n",
        "No evidence has been found to suggest the state-sponsored actor is currently in Yahoo’s network, and Yahoo didn’t name the country it suspected was involved. In August, a hacker called “Peace” appeared in online forums, offering to sell 200 million of the company’s usernames and passwords for about $1,900 in total. Peace had previously sold data taken from breaches at Myspace and LinkedIn Corp.\n",
        "\"\"\""
      ],
      "execution_count": null,
      "outputs": []
    },
    {
      "cell_type": "code",
      "metadata": {
        "id": "YVbrYZvwowuv"
      },
      "source": [
        ""
      ],
      "execution_count": null,
      "outputs": []
    }
  ]
}