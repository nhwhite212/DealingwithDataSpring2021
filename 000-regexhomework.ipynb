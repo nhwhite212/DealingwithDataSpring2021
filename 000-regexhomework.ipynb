{
  "nbformat": 4,
  "nbformat_minor": 0,
  "metadata": {
    "kernelspec": {
      "display_name": "Python 3",
      "language": "python",
      "name": "python3"
    },
    "language_info": {
      "codemirror_mode": {
        "name": "ipython",
        "version": 3
      },
      "file_extension": ".py",
      "mimetype": "text/x-python",
      "name": "python",
      "nbconvert_exporter": "python",
      "pygments_lexer": "ipython3",
      "version": "3.6.8"
    },
    "colab": {
      "name": "Homework7.ipynb",
      "provenance": [],
      "include_colab_link": true
    }
  },
  "cells": [
    {
      "cell_type": "markdown",
      "metadata": {
        "id": "view-in-github",
        "colab_type": "text"
      },
      "source": [
        "<a href=\"https://colab.research.google.com/github/nhwhite212/DealingwithDataSpring2021/blob/master/000-regexhomework.ipynb\" target=\"_parent\"><img src=\"https://colab.research.google.com/assets/colab-badge.svg\" alt=\"Open In Colab\"/></a>"
      ]
    },
    {
      "cell_type": "markdown",
      "metadata": {
        "id": "IAuyVPiOtsTQ"
      },
      "source": [
        "\n",
        "### Regular expression problem(s)\n",
        "Professor White has the same problem every term. He teaches a class in which each student has their own web page on the Stern webserver. Students have to create a homepage on the Stern websever. \n",
        "\n",
        " the files are in http://www.stern.nyu.edu/~NETID (where NETID is the students\\'s netid).\n",
        "\n",
        "Professor White needs to create an html file of links to the student's webpages, so it is easy for the grader to see their work.\n",
        "\n",
        "Each line should be formatted as below:\n",
        "<a href=http://www.stern.nyu.edu/~NETID>STUDENTS NAME</a><br>\n",
        "\n",
        "His problem is that NYUClasses will only give him a roster of students as CSV file. He needs to turn the CSV file into an HTML file with links to each of the student's homework directories.\n",
        "\n",
        "Your job is to write a python program that he can run every semester to create the necessary HTML file.\n",
        "As an example, the CSV list below is the NYU Class roster from our class. You should use it as the input to your conversion program.\n"
      ]
    },
    {
      "cell_type": "markdown",
      "metadata": {
        "id": "4gsynLcTtsTX"
      },
      "source": [
        "\n",
        "To solve the problem, you need to use the 're' library and the 'sub' command to find and isolate the\n",
        "relative parts of the line as back references which you can use to construct your html file.\n",
        "Remember, back references are parts of the pattern match that are enclosed by parentheses.\n",
        "\n",
        "i.e. ^(.+,) matches everything on line up to the first comma.  However, there is s problem with the name field, since it has a comma in it. So you need to figure out how to recognize the names between the \"'s \n",
        "\n",
        "i.e.\n",
        "nhw1,\"White,Norman\"\n",
        "\n",
        "Your answer should look like the cell below..., i.e. a list of the html tags for the links. ( I have used our class as an example).\n",
        "\n",
        "There is a copy of the output from NYUCLasses in /class_share/data/dealingF19.csv\n",
        "Each line is separated by a ^M  character..\n"
      ]
    },
    {
      "cell_type": "markdown",
      "metadata": {
        "id": "bkXtWPqJtsTY"
      },
      "source": [
        "## **Q1 (10 points)** code to convert a csv file into a html file with links.\n",
        "Fix the code below so that it works correctly, and creates a list named studhtml with the contents of the cell above.\n"
      ]
    },
    {
      "cell_type": "code",
      "metadata": {
        "id": "vnUeFBXNtsTZ"
      },
      "source": [
        "# First copy this notebook to your homework folder\n",
        "!cp ~/class_share/000-Homework_Assignments/Homework7.ipynb ~/mynotebooks/myhomeworks/Homework7.ipynb\n",
        "\n"
      ],
      "execution_count": null,
      "outputs": []
    },
    {
      "cell_type": "code",
      "metadata": {
        "id": "dVGCDY3DtsTa",
        "outputId": "a835df48-9e54-4aba-92bd-f9191042841d"
      },
      "source": [
        "!ls ~/mynotebooks/myhomeworks/Homework7.ipynb\n",
        "!ls ~/class_share/data\n"
      ],
      "execution_count": null,
      "outputs": [
        {
          "output_type": "stream",
          "text": [
            "/home/nhw1/mynotebooks/myhomeworks/Homework7.ipynb\n",
            " baseball.csv\t     nycbabies.json\t    restaurants.txt   uniquenames.txt\n",
            "'#dealingF19.csv#'   restaurant-names.txt   tips.csv\n",
            " dealingF19.csv      restaurants.csv\t    titanic.xls\n"
          ],
          "name": "stdout"
        }
      ]
    },
    {
      "cell_type": "markdown",
      "metadata": {
        "id": "ue1AVJ80tsTc"
      },
      "source": [
        "## Your assignment is to fix the code below so that it generates valid html links\n",
        "#### That look  like  [Link to Norman White Page](http://www.stern.nyu.edu/~nwhite)"
      ]
    },
    {
      "cell_type": "code",
      "metadata": {
        "id": "0etDlsf8tsTc"
      },
      "source": [
        "# First lets read in the file from class_share/data/dealingF19.csv\n",
        "fp=open(\"../../class_share/data/dealingF19.csv\",\"r\")\n",
        "studs=fp.read()"
      ],
      "execution_count": null,
      "outputs": []
    },
    {
      "cell_type": "code",
      "metadata": {
        "id": "ahWi1ul-tsTd",
        "outputId": "ae2e46b0-9b83-4202-bd65-ab43bd442f4d"
      },
      "source": [
        "print(studs)"
      ],
      "execution_count": null,
      "outputs": [
        {
          "output_type": "stream",
          "text": [
            "nga261,\"Amlani, Nikita Girish\"\n",
            "yb1076,\"Bai, Ethan\"\n",
            "rb4292,\"Barbaccia, Ryan\"\n",
            "ab8127,\"Brody, Alexander\"\n",
            "jc9124,\"Calhoun, Jeffrey\"\n",
            "cc4474,\"Chen, Shelly\"\n",
            "tyc360,\"Chen, Tzu-Ying\"\n",
            "yjc464,\"Chen, Yu-Jui\"\n",
            "kc4200,\"Chiang, KoChun\"\n",
            "pg1828,\"Gumpena, Priyanka\"\n",
            "jth310,\"Han, Jake\"\n",
            "rgh274,\"Hernandez, Richard G\"\n",
            "lj1327,\"Ji, Lingbo\"\n",
            "jj2339,\"Jo, John\"\n",
            "mkk468,\"Kalaga, Mithun Kumar\"\n",
            "tl2726,\"Lerner, Tzivy\"\n",
            "hll322,\"Lin, Simon\"\n",
            "xl2332,\"Liu, Xingyu\"\n",
            "srl506,\"Lochan, Shashank Rajiv\"\n",
            "yl6127,\"Luo, Yue\"\n",
            "lm3541,\"Maggin, Lyndsay\"\n",
            "hm1886,\"Mishra, Harsh\"\n",
            "rhn235,\"Nandwani, Rohit Hariram\"\n",
            "ln1055,\"Nettles, Lee\"\n",
            "np1942,\"Pate, Nicholas\"\n",
            "yp1250,\"Patodia, Yash\"\n",
            "hbr244,\"Rokad, Hardik Bharath\"\n",
            "ass722,\"Salunkhe, Anisha S\"\n",
            "ams1849,\"Sease, Andrea M\"\n",
            "jts570,\"Senko, Jason Thomas\"\n",
            "ss13337,\"Shreya, Shreya\"\n",
            "as13594,\"Singh, Avantika\"\n",
            "ds6137,\"Singh, Devansh\"\n",
            "mt4050,\"Tsai, Ann\"\n",
            "yww234,\"Wang, Kelly\"\n",
            "wx641,\"Xi, Wanting\"\n",
            "jz3613,\"Zhang, Jun\"\n"
          ],
          "name": "stdout"
        }
      ]
    },
    {
      "cell_type": "markdown",
      "metadata": {
        "id": "cSj_qlWdtsTd"
      },
      "source": [
        "### Below is some code that ALMOST works, Fix it ...  There are some missing characters indicate by \"?\"s"
      ]
    },
    {
      "cell_type": "code",
      "metadata": {
        "id": "3JY7W1WbtsTe",
        "outputId": "adb6650a-5179-43a7-b166-5264d5537d47"
      },
      "source": [
        "import re\n",
        "studhtml=[]\n",
        "# we need to break on \"\\m\", since that is the lineending character that NYU classes uses\n",
        "\n",
        "for stud  in studs.split(\"\\m\"):\n",
        "    # use a regex to capture the netid as \\1 and the Name as \\2\n",
        "    # We need to print a line that looks like this\n",
        "    #Click here for the homepage of <a href=http://www.stern.nyu.edu/~netid>lastname, firstname</a> <br>\n",
        "    # That is an html anchor statement will show a clickable element (lastname, firstname) on each line.\n",
        "    \n",
        " #   print(i +\"\\n\")\n",
        " # netids are one or more lowercase letters followed by one or more digits\n",
        " # last names are always capitalized\n",
        "# so we need to make group 1 everything up to a \",\"\n",
        "# and group 2 everything between double quotes  in the rest of the line (with the first character a upper case)\n",
        "# hint there is  one character missing in the    regular expression , and 2 characters in two place in the replacement. \n",
        "# The characters are indicated by a \"?\"\n",
        "\n",
        "    \n",
        "\n",
        "    ans=re.sub(r'([a-z]+\\d+)?.*\"([A-Z].*)\"',\\\n",
        "               r'Click here for the homepage of <a href=http://www.stern.nyu.edu/~?? >??</a>', stud)\n",
        "\n",
        "    studhtml.append(ans)\n",
        "for i in studhtml:\n",
        "    print(i)\n",
        "\n",
        "\n",
        "\n",
        "\n",
        "\n",
        "\n",
        "\n",
        "\n",
        "\n",
        "\n",
        "\n",
        "\n",
        "\n",
        "\n",
        "    "
      ],
      "execution_count": null,
      "outputs": [
        {
          "output_type": "stream",
          "text": [
            "Click here for the homepage of <a href=http://www.stern.nyu.edu/~nga261 >Amlani, Nikita Girish</a>\n",
            "Click here for the homepage of <a href=http://www.stern.nyu.edu/~yb1076 >Bai, Ethan</a>\n",
            "Click here for the homepage of <a href=http://www.stern.nyu.edu/~rb4292 >Barbaccia, Ryan</a>\n",
            "Click here for the homepage of <a href=http://www.stern.nyu.edu/~ab8127 >Brody, Alexander</a>\n",
            "Click here for the homepage of <a href=http://www.stern.nyu.edu/~jc9124 >Calhoun, Jeffrey</a>\n",
            "Click here for the homepage of <a href=http://www.stern.nyu.edu/~cc4474 >Chen, Shelly</a>\n",
            "Click here for the homepage of <a href=http://www.stern.nyu.edu/~tyc360 >Chen, Tzu-Ying</a>\n",
            "Click here for the homepage of <a href=http://www.stern.nyu.edu/~yjc464 >Chen, Yu-Jui</a>\n",
            "Click here for the homepage of <a href=http://www.stern.nyu.edu/~kc4200 >Chiang, KoChun</a>\n",
            "Click here for the homepage of <a href=http://www.stern.nyu.edu/~pg1828 >Gumpena, Priyanka</a>\n",
            "Click here for the homepage of <a href=http://www.stern.nyu.edu/~jth310 >Han, Jake</a>\n",
            "Click here for the homepage of <a href=http://www.stern.nyu.edu/~rgh274 >Hernandez, Richard G</a>\n",
            "Click here for the homepage of <a href=http://www.stern.nyu.edu/~lj1327 >Ji, Lingbo</a>\n",
            "Click here for the homepage of <a href=http://www.stern.nyu.edu/~jj2339 >Jo, John</a>\n",
            "Click here for the homepage of <a href=http://www.stern.nyu.edu/~mkk468 >Kalaga, Mithun Kumar</a>\n",
            "Click here for the homepage of <a href=http://www.stern.nyu.edu/~tl2726 >Lerner, Tzivy</a>\n",
            "Click here for the homepage of <a href=http://www.stern.nyu.edu/~hll322 >Lin, Simon</a>\n",
            "Click here for the homepage of <a href=http://www.stern.nyu.edu/~xl2332 >Liu, Xingyu</a>\n",
            "Click here for the homepage of <a href=http://www.stern.nyu.edu/~srl506 >Lochan, Shashank Rajiv</a>\n",
            "Click here for the homepage of <a href=http://www.stern.nyu.edu/~yl6127 >Luo, Yue</a>\n",
            "Click here for the homepage of <a href=http://www.stern.nyu.edu/~lm3541 >Maggin, Lyndsay</a>\n",
            "Click here for the homepage of <a href=http://www.stern.nyu.edu/~hm1886 >Mishra, Harsh</a>\n",
            "Click here for the homepage of <a href=http://www.stern.nyu.edu/~rhn235 >Nandwani, Rohit Hariram</a>\n",
            "Click here for the homepage of <a href=http://www.stern.nyu.edu/~ln1055 >Nettles, Lee</a>\n",
            "Click here for the homepage of <a href=http://www.stern.nyu.edu/~np1942 >Pate, Nicholas</a>\n",
            "Click here for the homepage of <a href=http://www.stern.nyu.edu/~yp1250 >Patodia, Yash</a>\n",
            "Click here for the homepage of <a href=http://www.stern.nyu.edu/~hbr244 >Rokad, Hardik Bharath</a>\n",
            "Click here for the homepage of <a href=http://www.stern.nyu.edu/~ass722 >Salunkhe, Anisha S</a>\n",
            "Click here for the homepage of <a href=http://www.stern.nyu.edu/~ams1849 >Sease, Andrea M</a>\n",
            "Click here for the homepage of <a href=http://www.stern.nyu.edu/~jts570 >Senko, Jason Thomas</a>\n",
            "Click here for the homepage of <a href=http://www.stern.nyu.edu/~ss13337 >Shreya, Shreya</a>\n",
            "Click here for the homepage of <a href=http://www.stern.nyu.edu/~as13594 >Singh, Avantika</a>\n",
            "Click here for the homepage of <a href=http://www.stern.nyu.edu/~ds6137 >Singh, Devansh</a>\n",
            "Click here for the homepage of <a href=http://www.stern.nyu.edu/~mt4050 >Tsai, Ann</a>\n",
            "Click here for the homepage of <a href=http://www.stern.nyu.edu/~yww234 >Wang, Kelly</a>\n",
            "Click here for the homepage of <a href=http://www.stern.nyu.edu/~wx641 >Xi, Wanting</a>\n",
            "Click here for the homepage of <a href=http://www.stern.nyu.edu/~jz3613 >Zhang, Jun</a>\n"
          ],
          "name": "stdout"
        }
      ]
    },
    {
      "cell_type": "markdown",
      "metadata": {
        "id": "kSVyIDamtsTe"
      },
      "source": [
        "## Q2 (5 points) The output would look better if it was firstname lastname instead of lastname, firstname\n",
        "#### See if you can modify youre code to reverse the names"
      ]
    },
    {
      "cell_type": "code",
      "metadata": {
        "id": "3-y0UeQstsTf"
      },
      "source": [
        "### Your Q2 code here"
      ],
      "execution_count": null,
      "outputs": []
    },
    {
      "cell_type": "markdown",
      "metadata": {
        "id": "_aSoj5jktsTg"
      },
      "source": [
        "## Q3 (5 points) An easier approach?\n",
        "#### Can you think of another way of accomplishing this without using regexes?\n",
        "Put your code in the cell below, or at least describe your approach"
      ]
    },
    {
      "cell_type": "code",
      "metadata": {
        "id": "_5XvzRHjtsTg"
      },
      "source": [
        "### Q3 code here\n",
        "\n"
      ],
      "execution_count": null,
      "outputs": []
    }
  ]
}