{
  "nbformat": 4,
  "nbformat_minor": 0,
  "metadata": {
    "kernelspec": {
      "display_name": "Python 3",
      "language": "python",
      "name": "python3"
    },
    "language_info": {
      "codemirror_mode": {
        "name": "ipython",
        "version": 3
      },
      "file_extension": ".py",
      "mimetype": "text/x-python",
      "name": "python",
      "nbconvert_exporter": "python",
      "pygments_lexer": "ipython3",
      "version": "3.6.8"
    },
    "colab": {
      "name": "000-regexhomework.ipynb",
      "provenance": [],
      "collapsed_sections": [],
      "include_colab_link": true
    }
  },
  "cells": [
    {
      "cell_type": "markdown",
      "metadata": {
        "id": "view-in-github",
        "colab_type": "text"
      },
      "source": [
        "<a href=\"https://colab.research.google.com/github/nhwhite212/DealingwithDataSpring2021/blob/master/000-regexhomework.ipynb\" target=\"_parent\"><img src=\"https://colab.research.google.com/assets/colab-badge.svg\" alt=\"Open In Colab\"/></a>"
      ]
    },
    {
      "cell_type": "markdown",
      "metadata": {
        "id": "IAuyVPiOtsTQ"
      },
      "source": [
        "\n",
        "### Regular expression problem(s)\n",
        "Professor White has the same problem every term. He teaches a class in which each student has their own web page on the Stern webserver. Students have to create a homepage on the Stern websever. \n",
        "\n",
        " the files are in http://www.stern.nyu.edu/~NETID (where NETID is the students\\'s netid).\n",
        "\n",
        "Professor White needs to create an html file of links to the student's webpages, so it is easy for the grader to see their work.\n",
        "\n",
        "Each line should be formatted as below:\n",
        "<a href=http://www.stern.nyu.edu/~NETID>STUDENTS NAME</a><br>\n",
        "\n",
        "His problem is that NYUClasses will only give him a roster of students as CSV file. He needs to turn the CSV file into an HTML file with links to each of the student's homework directories.\n",
        "\n",
        "Your job is to write a python program that he can run every semester to create the necessary HTML file.\n",
        "As an example, the CSV list below is the NYU Class roster from our class. You should use it as the input to your conversion program.\n"
      ]
    },
    {
      "cell_type": "markdown",
      "metadata": {
        "id": "4gsynLcTtsTX"
      },
      "source": [
        "\n",
        "To solve the problem, you need to use the 're' library and the 'sub' command to find and isolate the\n",
        "relative parts of the line as back references which you can use to construct your html file.\n",
        "Remember, back references are parts of the pattern match that are enclosed by parentheses.\n",
        "\n",
        "i.e. ^(.+,) matches everything on line up to the first comma.  However, there is s problem with the name field, since it has a comma in it. So you need to figure out how to recognize the names between the \"'s \n",
        "\n",
        "i.e.\n",
        "nhw1,\"White,Norman\"\n",
        "\n",
        "Your answer should look like the cell below..., i.e. a list of the html tags for the links. ( I have used our class as an example).\n",
        "\n",
        "There is a copy of the output from NYUCLasses in http://people.stern.nyu.edu/nhwhite/DealingwithDataSprin2021/students.csv\n",
        "Each line is separated by a ^M  character..\n"
      ]
    },
    {
      "cell_type": "markdown",
      "metadata": {
        "id": "bkXtWPqJtsTY"
      },
      "source": [
        "## **Q1 (10 points)** code to convert a csv file into a html file with links.\n",
        "Fix the code below so that it works correctly, and creates a list named studhtml with the contents of the cell above.\n"
      ]
    },
    {
      "cell_type": "code",
      "metadata": {
        "id": "vnUeFBXNtsTZ"
      },
      "source": [
        "# First copy this notebook to your homework folder\n",
        "!curl http://people.stern.nyu.edu/nwhite/DealingwithDataSpring2021/students.csv >students.csv\n",
        "\n"
      ],
      "execution_count": null,
      "outputs": []
    },
    {
      "cell_type": "markdown",
      "metadata": {
        "id": "ue1AVJ80tsTc"
      },
      "source": [
        "## Your assignment is to fix the code below so that it generates valid html links\n",
        "#### That look  like  [Link to Norman White Page](http://www.stern.nyu.edu/~nwhite)"
      ]
    },
    {
      "cell_type": "code",
      "metadata": {
        "id": "0etDlsf8tsTc"
      },
      "source": [
        "# First lets read in the file \n",
        "!cat students.csv\n",
        "fp=open(\"students.csv\",\"r\")\n",
        "studs=fp.read()"
      ],
      "execution_count": null,
      "outputs": []
    },
    {
      "cell_type": "code",
      "metadata": {
        "id": "ahWi1ul-tsTd"
      },
      "source": [
        "print(studs)"
      ],
      "execution_count": null,
      "outputs": []
    },
    {
      "cell_type": "markdown",
      "metadata": {
        "id": "cSj_qlWdtsTd"
      },
      "source": [
        "### Below is some code that ALMOST works, Fix it ...  There are some missing characters indicate by \"?\"s   (There are no ?'s in the working regex)\n",
        "\n"
      ]
    },
    {
      "cell_type": "code",
      "metadata": {
        "id": "3JY7W1WbtsTe"
      },
      "source": [
        "import re\n",
        "studhtml=[]\n",
        "# we need to break on \"\\m\", since that is the line ending character that NYU classes uses.\n",
        "\n",
        "for stud  in studs.split('\\m'):\n",
        "    # use a regex to capture the netid as \\1 and the Name as \\2\n",
        "    # We need to print a line that looks like this\n",
        "\n",
        "    #Homepage of <a href=http://people.stern.nyu.edu/netid>lastname,firstname</a> <br>\n",
        "    # That is an html anchor statement will show a clickable element (lastname, firstname) on each line.\n",
        "\n",
        " # netids are one or more lowercase letters followed by one or more digits\n",
        " \n",
        "\n",
        "# so we need to make group 1 everything up to the  \"@\" as the netid\n",
        "\n",
        "# and group 2 everything between double quotes  in the rest of the line (with the first character a upper case)\n",
        "\n",
        "# Hint: Every place there is a \"?\" in the next line, it means there is a missing character there. There are 4 different missing pieces.\n",
        "\n",
        "    print(stud)\n",
        "\n",
        "    ans=re.sub(r'([a-z]+\\d+)?.*\"([a-zA-Z]+.*)\"', r'Homepage of <a href=http://people.stern.nyu.edu/??>??</a>', ????)\n",
        "\n",
        "    studhtml.append(ans)\n",
        "\n",
        "print(\"Here are the links to the student's home pages at Stern\")\n",
        "for i in studhtml:\n",
        "   print(i)\n",
        "\n",
        "\n",
        "\n",
        "\n",
        "\n",
        "\n",
        "\n",
        "\n",
        "\n",
        "\n",
        "\n",
        "\n",
        "\n",
        "\n",
        "    "
      ],
      "execution_count": null,
      "outputs": []
    },
    {
      "cell_type": "markdown",
      "metadata": {
        "id": "kSVyIDamtsTe"
      },
      "source": [
        "### Q2 (5 points) The output would look better if it was firstname lastname instead of lastname, firstname\n",
        "#### See if you can modify youre code to reverse the names"
      ]
    },
    {
      "cell_type": "code",
      "metadata": {
        "id": "3-y0UeQstsTf"
      },
      "source": [
        "### Your Q2 code here"
      ],
      "execution_count": null,
      "outputs": []
    },
    {
      "cell_type": "markdown",
      "metadata": {
        "id": "_aSoj5jktsTg"
      },
      "source": [
        "## Q3 (5 points) An easier approach?\n",
        "#### Can you think of another way of accomplishing this without using regexes?\n",
        "Put your code in the cell below, or at least describe your approach"
      ]
    },
    {
      "cell_type": "code",
      "metadata": {
        "id": "_5XvzRHjtsTg"
      },
      "source": [
        "### Q3 code here\n",
        "\n"
      ],
      "execution_count": null,
      "outputs": []
    }
  ]
}