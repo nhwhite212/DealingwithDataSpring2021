{
  "nbformat": 4,
  "nbformat_minor": 0,
  "metadata": {
    "colab": {
      "name": "Chloropeths and Folium.ipynb",
      "provenance": [],
      "collapsed_sections": [],
      "authorship_tag": "ABX9TyM9KOsVQpfMMnRpr7HzBxU1",
      "include_colab_link": true
    },
    "kernelspec": {
      "name": "python3",
      "display_name": "Python 3"
    },
    "language_info": {
      "name": "python"
    }
  },
  "cells": [
    {
      "cell_type": "markdown",
      "metadata": {
        "id": "view-in-github",
        "colab_type": "text"
      },
      "source": [
        "<a href=\"https://colab.research.google.com/github/nhwhite212/DealingwithDataSpring2021/blob/master/8-Visualization/New_Chloropeths_and_Folium.ipynb\" target=\"_parent\"><img src=\"https://colab.research.google.com/assets/colab-badge.svg\" alt=\"Open In Colab\"/></a>"
      ]
    },
    {
      "cell_type": "markdown",
      "metadata": {
        "id": "5TgFQhvwJVbi"
      },
      "source": [
        "# Introduction to Folium and Chloropeths\n",
        "### Chloropeths is just a fancy name for maps where the areas are colorcoded to \n",
        "### show the value of a 3rd variable."
      ]
    },
    {
      "cell_type": "code",
      "metadata": {
        "id": "tYZTLDKSI5C4"
      },
      "source": [
        "### Actually pretty simple to use."
      ],
      "execution_count": null,
      "outputs": []
    },
    {
      "cell_type": "code",
      "metadata": {
        "id": "Qf2QlOYdIpHl"
      },
      "source": [
        "# import the folium library\n",
        "import folium\n",
        "\n",
        "# initialize the map and store it in a m object\n",
        "# Give it a starting location\n",
        "m = folium.Map(location=[40, -95], zoom_start=4)\n",
        "\n",
        "# show the map\n",
        "m"
      ],
      "execution_count": null,
      "outputs": []
    },
    {
      "cell_type": "markdown",
      "metadata": {
        "id": "X7Md3fJpJGlq"
      },
      "source": [
        ""
      ]
    },
    {
      "cell_type": "markdown",
      "metadata": {
        "id": "Tw04Zc8lLG3B"
      },
      "source": [
        ""
      ]
    },
    {
      "cell_type": "markdown",
      "metadata": {
        "id": "BzjO0rdnLP3H"
      },
      "source": [
        "## You need two data inputs:\n",
        "- A set if geographic regions and their boundary coordinates\n",
        "- A numeric value for each region, used for the color"
      ]
    },
    {
      "cell_type": "markdown",
      "metadata": {
        "id": "rsD37wF7L3aG"
      },
      "source": [
        "https://python-visualization.github.io/folium/quickstart.html is the official documention.\n",
        "### Lets load in some map files and data. Lets look at US Unemployment."
      ]
    },
    {
      "cell_type": "code",
      "metadata": {
        "id": "9lMxID1nMBKU"
      },
      "source": [
        "import pandas as pd\n",
        "\n",
        "url = (\n",
        "    \"https://raw.githubusercontent.com/python-visualization/folium/master/examples/data\"\n",
        ")\n",
        "state_geo = f\"{url}/us-states.json\"\n",
        "state_unemployment = f\"{url}/US_Unemployment_Oct2012.csv\"\n",
        "state_data = pd.read_csv(state_unemployment)\n",
        "state_data"
      ],
      "execution_count": null,
      "outputs": []
    },
    {
      "cell_type": "markdown",
      "metadata": {
        "id": "vICgqpngMhgw"
      },
      "source": [
        "## Chloropeth of US States unemployment rates"
      ]
    },
    {
      "cell_type": "code",
      "metadata": {
        "id": "VW5920ErMdwk"
      },
      "source": [
        "folium.Choropleth(\n",
        "    geo_data=state_geo,\n",
        "    name=\"choropleth\",\n",
        "    data=state_data,\n",
        "    columns=[\"State\", \"Unemployment\"],\n",
        "    key_on=\"feature.id\",\n",
        "    fill_color=\"YlGn\",\n",
        "    fill_opacity=0.7,\n",
        "    line_opacity=.1,\n",
        "    legend_name=\"Unemployment Rate (%)\",\n",
        ").add_to(m)\n",
        "\n",
        "folium.LayerControl().add_to(m)\n",
        "m"
      ],
      "execution_count": null,
      "outputs": []
    },
    {
      "cell_type": "code",
      "metadata": {
        "id": "03ELGJwsMrc8"
      },
      "source": [
        ""
      ],
      "execution_count": null,
      "outputs": []
    },
    {
      "cell_type": "markdown",
      "metadata": {
        "id": "2NBfAg6-O-zg"
      },
      "source": [
        "## However, geojson files are only one of may geographic file formats, shapefiles, which are used by the US Census Bureau need to be converted to geojson files to be used in folium.\n",
        "### The GEOPANDAS package can read SHAPEFILES.\n"
      ]
    },
    {
      "cell_type": "markdown",
      "metadata": {
        "id": "tiRIP38CWRNf"
      },
      "source": [
        "Lets create another map"
      ]
    },
    {
      "cell_type": "code",
      "metadata": {
        "id": "QGdANdYtWfo2"
      },
      "source": [
        "m = folium.Map(location=[40, -95], zoom_start=4)\n",
        "\n",
        "# show the map\n",
        "m"
      ],
      "execution_count": null,
      "outputs": []
    },
    {
      "cell_type": "code",
      "metadata": {
        "id": "ZSDZvvKYQYZa"
      },
      "source": [
        "!pip install geopandas\n",
        "import geopandas"
      ],
      "execution_count": null,
      "outputs": []
    },
    {
      "cell_type": "markdown",
      "metadata": {
        "id": "9EkmZtuyRZRN"
      },
      "source": [
        "### Geopandas is smart, and can read the zipped shapefiles and create a dataframe. Lets add the shapfiles for the Colorado counties."
      ]
    },
    {
      "cell_type": "code",
      "metadata": {
        "id": "Y_18jHaLQh8L"
      },
      "source": [
        "counties_gdf=geopandas.read_file('https://storage.googleapis.com/co-publicdata/lm_cnty.zip')"
      ],
      "execution_count": null,
      "outputs": []
    },
    {
      "cell_type": "code",
      "metadata": {
        "id": "ibvns07qRVG7"
      },
      "source": [
        "counties_gdf"
      ],
      "execution_count": null,
      "outputs": []
    },
    {
      "cell_type": "markdown",
      "metadata": {
        "id": "YuRvnnTIRxhK"
      },
      "source": [
        "### We see that the geometry column has the polygon definitions.\n",
        "#### We will add that to the map to draw the counties."
      ]
    },
    {
      "cell_type": "code",
      "metadata": {
        "id": "AmxkvXtoRlvK"
      },
      "source": [
        "folium.GeoJson(data=counties_gdf[\"geometry\"]).add_to(m)"
      ],
      "execution_count": null,
      "outputs": []
    },
    {
      "cell_type": "code",
      "metadata": {
        "id": "KzhWA8eDSVgK"
      },
      "source": [
        "m"
      ],
      "execution_count": null,
      "outputs": []
    },
    {
      "cell_type": "markdown",
      "metadata": {
        "id": "muRHBjtrX-ME"
      },
      "source": [
        ""
      ]
    },
    {
      "cell_type": "markdown",
      "metadata": {
        "id": "InbRfJwoYDeK"
      },
      "source": [
        "# So, it seems easy to draw almost any map if you can find either the geojson files for it, or the Shapefiles.\n"
      ]
    }
  ]
}