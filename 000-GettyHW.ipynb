{
  "nbformat": 4,
  "nbformat_minor": 0,
  "metadata": {
    "colab": {
      "name": "GettyHW.ipynb",
      "provenance": [],
      "collapsed_sections": [],
      "toc_visible": true,
      "authorship_tag": "ABX9TyOTthu4A3O7hAPMfXoyOvuu",
      "include_colab_link": true
    },
    "kernelspec": {
      "display_name": "Python 3",
      "name": "python3"
    },
    "language_info": {
      "name": "python"
    }
  },
  "cells": [
    {
      "cell_type": "markdown",
      "metadata": {
        "id": "view-in-github",
        "colab_type": "text"
      },
      "source": [
        "<a href=\"https://colab.research.google.com/github/nhwhite212/DealingwithDataSpring2021/blob/master/000-GettyHW.ipynb\" target=\"_parent\"><img src=\"https://colab.research.google.com/assets/colab-badge.svg\" alt=\"Open In Colab\"/></a>"
      ]
    },
    {
      "cell_type": "markdown",
      "metadata": {
        "id": "BAGqguurj_ia"
      },
      "source": [
        "# Some sample code for the Gettysburg homework\n",
        "## This should get you started...\n",
        "### We will use the python natural language toolkit\n",
        "### Among other things, it has a list of stopwords"
      ]
    },
    {
      "cell_type": "code",
      "metadata": {
        "id": "omy-jB23_mEV"
      },
      "source": [
        "#Import the python natural language toolkit\n",
        "import nltk\n",
        "\n"
      ],
      "execution_count": null,
      "outputs": []
    },
    {
      "cell_type": "markdown",
      "metadata": {
        "id": "gOwlnimdbvWj"
      },
      "source": [
        "### import the list of stopwords from the natural language toolkit"
      ]
    },
    {
      "cell_type": "code",
      "metadata": {
        "id": "t42dMKPFAzhX"
      },
      "source": [
        "from nltk.corpus import stopwords"
      ],
      "execution_count": null,
      "outputs": []
    },
    {
      "cell_type": "markdown",
      "metadata": {
        "id": "Sz7EaWUxb6pr"
      },
      "source": [
        "#### Then we have to download them,"
      ]
    },
    {
      "cell_type": "code",
      "metadata": {
        "id": "0mXD6Mv0Cnsw"
      },
      "source": [
        "nltk.download('stopwords')"
      ],
      "execution_count": null,
      "outputs": []
    },
    {
      "cell_type": "code",
      "metadata": {
        "id": "6qwgCDpU_xFr"
      },
      "source": [
        "print(stopwords.words('english'))\n"
      ],
      "execution_count": null,
      "outputs": []
    },
    {
      "cell_type": "markdown",
      "metadata": {
        "id": "BT97OOcocDzH"
      },
      "source": [
        "### create a string which has the text of the GettysBurg Address"
      ]
    },
    {
      "cell_type": "code",
      "metadata": {
        "id": "U_ebhivAE2Ie"
      },
      "source": [
        "getty= '''\n",
        " Four score and seven years ago our fathers brought forth on this continent, a new nation, conceived in Liberty, and dedicated to the proposition that all men are created equal.\n",
        "\n",
        "Now we are engaged in a great civil war, testing whether that nation, or any nation so conceived and so dedicated, can long endure. We are met on a great battle-field of that war. We have come to dedicate a portion of that field, as a final resting place for those who here gave their lives that that nation might live. It is altogether fitting and proper that we should do this.\n",
        "\n",
        "But, in a larger sense, we can not dedicate -- we can not consecrate -- we can not hallow -- this ground. The brave men, living and dead, who struggled here, have consecrated it, far above our poor power to add or detract. The world will little note, nor long remember what we say here, but it can never forget what they did here. It is for us the living, rather, to be dedicated here to the unfinished work which they who fought here have thus far so nobly advanced. It is rather for us to be here dedicated to the great task remaining before us -- that from these honored dead we take increased devotion to that cause for which they gave the last full measure of devotion -- that we here highly resolve that these dead shall not have died in vain -- that this nation, under God, shall have a new birth of freedom -- and that government of the people, by the people, for the people, shall not perish from the earth.\n",
        "'''\n"
      ],
      "execution_count": null,
      "outputs": []
    },
    {
      "cell_type": "markdown",
      "metadata": {
        "id": "r_Lyzo3kkkPY"
      },
      "source": [
        "#### Print it"
      ]
    },
    {
      "cell_type": "code",
      "metadata": {
        "id": "s_uH92iSGN9F"
      },
      "source": [
        "print(getty)"
      ],
      "execution_count": null,
      "outputs": []
    },
    {
      "cell_type": "markdown",
      "metadata": {
        "id": "_Xhqf4yRZWpc"
      },
      "source": [
        "# Split the getty text into a list of words \n",
        "### Good place to do some preprocessing to clean the text "
      ]
    },
    {
      "cell_type": "code",
      "metadata": {
        "id": "HKF0YW0eGPvt"
      },
      "source": [
        "gwords = getty.lower().replace(\".\",\" \").replace(\",\",\" \").replace(\"-\",\" \").split()\n"
      ],
      "execution_count": null,
      "outputs": []
    },
    {
      "cell_type": "markdown",
      "metadata": {
        "id": "p_6K0u0Zmbu2"
      },
      "source": [
        "### How many words are there"
      ]
    },
    {
      "cell_type": "code",
      "metadata": {
        "id": "ZymfUFJWIAgW"
      },
      "source": [
        "# Your code here\n"
      ],
      "execution_count": null,
      "outputs": []
    },
    {
      "cell_type": "markdown",
      "metadata": {
        "id": "cxND_Yi5dFKB"
      },
      "source": [
        "### Find the unique words in the text"
      ]
    },
    {
      "cell_type": "code",
      "metadata": {
        "id": "payvX_xSIB87"
      },
      "source": [
        "setgwords=set(gwords)\n"
      ],
      "execution_count": null,
      "outputs": []
    },
    {
      "cell_type": "markdown",
      "metadata": {
        "id": "cjkGh1B9k_0n"
      },
      "source": [
        "### How many are there?"
      ]
    },
    {
      "cell_type": "code",
      "metadata": {
        "id": "vyMaSQBBIIMa"
      },
      "source": [
        "# Your code here"
      ],
      "execution_count": null,
      "outputs": []
    },
    {
      "cell_type": "markdown",
      "metadata": {
        "id": "zU5PtodUc7S5"
      },
      "source": [
        "### Now remove the stopwords from the unique words"
      ]
    },
    {
      "cell_type": "code",
      "metadata": {
        "id": "D31of7MIIOGq"
      },
      "source": [
        "# Your code here"
      ],
      "execution_count": null,
      "outputs": []
    },
    {
      "cell_type": "markdown",
      "metadata": {
        "id": "deuxu_RVlJpC"
      },
      "source": [
        "### How many unique words are there?"
      ]
    },
    {
      "cell_type": "code",
      "metadata": {
        "id": "Wzp2RzNfIjKa"
      },
      "source": [
        "# Your code here"
      ],
      "execution_count": null,
      "outputs": []
    },
    {
      "cell_type": "markdown",
      "metadata": {
        "id": "49FleBxqlSfD"
      },
      "source": [
        "### What are they?"
      ]
    },
    {
      "cell_type": "code",
      "metadata": {
        "id": "VdDGrpG9Il2r"
      },
      "source": [
        "# Your code here"
      ],
      "execution_count": null,
      "outputs": []
    },
    {
      "cell_type": "markdown",
      "metadata": {
        "id": "cDrF2uKPlYfw"
      },
      "source": [
        "### How many times does each appear?"
      ]
    },
    {
      "cell_type": "code",
      "metadata": {
        "id": "c-mBA30aa6Mp"
      },
      "source": [
        "# Your code here"
      ],
      "execution_count": null,
      "outputs": []
    },
    {
      "cell_type": "markdown",
      "metadata": {
        "id": "TG9IGpbfdivh"
      },
      "source": [
        "### Now count how many times each unique word appears.\n"
      ]
    },
    {
      "cell_type": "code",
      "metadata": {
        "id": "NfXmfN0afNyK"
      },
      "source": [
        "# Your code here\n"
      ],
      "execution_count": null,
      "outputs": []
    }
  ]
}