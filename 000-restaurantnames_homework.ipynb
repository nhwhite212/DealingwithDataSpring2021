{
  "nbformat": 4,
  "nbformat_minor": 0,
  "metadata": {
    "kernelspec": {
      "display_name": "Python 3",
      "language": "python",
      "name": "python3"
    },
    "language_info": {
      "codemirror_mode": {
        "name": "ipython",
        "version": 2
      },
      "file_extension": ".py",
      "mimetype": "text/x-python",
      "name": "python",
      "nbconvert_exporter": "python",
      "pygments_lexer": "ipython2",
      "version": "2.7.5"
    },
    "colab": {
      "name": "000-restaurantnames_homework.ipynb",
      "provenance": [],
      "collapsed_sections": [],
      "include_colab_link": true
    }
  },
  "cells": [
    {
      "cell_type": "markdown",
      "metadata": {
        "id": "view-in-github",
        "colab_type": "text"
      },
      "source": [
        "<a href=\"https://colab.research.google.com/github/nhwhite212/DealingwithDataSpring2021/blob/master/000-restaurantnames_homework.ipynb\" target=\"_parent\"><img src=\"https://colab.research.google.com/assets/colab-badge.svg\" alt=\"Open In Colab\"/></a>"
      ]
    },
    {
      "cell_type": "markdown",
      "metadata": {
        "id": "tN406dNQKKWm"
      },
      "source": [
        "# The homework assignment: Find similar company names\n",
        "\n",
        "Now that we have completed our Python Primer, let's try to complete a real task, while at the same time trying to practice loops, iterations, and other Python functionality that we studied.\n",
        "\n",
        "### Your high level task\n",
        "\n",
        "You are given a list of names. You know that the same entity in the list may have different spellings. You want to find duplicate companies in the data.\n",
        "\n",
        "As a concrete example, open the file under `uniquenames.txt`. This contains a list of restaurant names, extracted from the [NYC Restaurant inspection data set](https://data.cityofnewyork.us/Health/DOHMH-New-York-City-Restaurant-Inspection-Results/xx67-kt59/data) (available online). The Department of Health has been doing a decent, but not perfect, job in recording the company names. Therefore, the same restaurant appears under different names. **Your task is to find \"almost duplicate\" entries in order to decide whether they correspond to the same business.**\n"
      ]
    },
    {
      "cell_type": "markdown",
      "metadata": {
        "id": "FNVMJQ-zKKWn"
      },
      "source": [
        "#### Matching Company Names\n",
        "\n",
        "Quite often, in our data, we have entries represented as strings that refer to the same entity but have different string representations (e.g., McDonald's vs McDonalds vs McDonald‎). We want to write code that will help in the task of finding such similar entries in our data.\n",
        "\n",
        "Our task can be broken in the following tasks:\n",
        "* **Step 1**: Read the data from a file into a list of strings in memory. We have a data set under the `/data` folder: The list of unique restaurant names from the NYC Restaurant Inspection dataset (`uniquenames.txt`). We need to write Python code that will read the file and return a list of strings that are the company names. We will first download the file, and then read it into our notebook.\n",
        "* **Step 2**: We will then need to determine how to compare two strings and find their similarity. For that, we will write a function that takes as input **two** strings, and returns back a measure of their similarities. We will explore multiple ways of writing that function, using various library functions.\n",
        "* **Step 3**: We will need to write a function that takes as input a company name, and returns back a list of matching company names, together with their similarity. Ideally, we would like to also sort the list based on the similarity (highest similarity metrics on top). As part of our learning process, we will use the _list comprehension_ approach to create the list. We will also use tuples as the elements of the list, so that the list contain elements such as `[(\"McDonalds\", 0.88), (\"McDonald's\", 0.81),....]`.\n",
        "* **Step 4**: In the final step, we will just perform the similarity computation across many companies in the dataset, starting with a random sample."
      ]
    },
    {
      "cell_type": "code",
      "metadata": {
        "id": "wf21qLTCi5Pu"
      },
      "source": [
        ""
      ],
      "execution_count": null,
      "outputs": []
    },
    {
      "cell_type": "markdown",
      "metadata": {
        "id": "_LCLCVThKKWo"
      },
      "source": [
        "## STEP 1: Download the file and read the list of names from the  file and create a list of names"
      ]
    },
    {
      "cell_type": "code",
      "metadata": {
        "id": "ex7Gtx6SKKWp",
        "colab": {
          "base_uri": "https://localhost:8080/",
          "height": 448
        },
        "outputId": "4fef3178-e3c1-428b-9e91-ac80a2171632"
      },
      "source": [
        "# STEP 1: Read the list of names from a file and create a list of names\n",
        "### First download the file using curl\n",
        "!curl 'http://people.stern.nyu.edu/nwhite/DealingwithDataSpring2021/data/uniquenames.txt' >uniquenames.txt\n",
        "!head uniquenames.txt\n",
        "filename = 'uniquenames.txt'\n",
        "f= open(filename,'r')\n",
        "\n",
        "# your code here\n",
        "\n",
        "print(len(companyList))"
      ],
      "execution_count": 2,
      "outputs": [
        {
          "output_type": "stream",
          "text": [
            "  % Total    % Received % Xferd  Average Speed   Time    Time     Time  Current\n",
            "                                 Dload  Upload   Total   Spent    Left  Speed\n",
            "100  364k  100  364k    0     0   173k      0  0:00:02  0:00:02 --:--:--  173k\n",
            "#1 GARDEN CHINESE\n",
            "#1 ME. NICK'S\n",
            "#1 SABOR LATINO RESTAURANT\n",
            "$1.25 PIZZA\n",
            "''U'' LIKE CHINESE RESTAURANT\n",
            "''W'' CAFE\n",
            "'WICHCRAFT\n",
            "(LEWIS DRUG STORE) LOCANDA VINI E OLII\n",
            "(LIBRARY)  FOUR & TWENTY BLACKBIRDS\n",
            "(PUBLIC FARE) 81ST STREET AND CENTRAL PARK WEST (DELACORTE THEATRE)\n"
          ],
          "name": "stdout"
        },
        {
          "output_type": "error",
          "ename": "NameError",
          "evalue": "ignored",
          "traceback": [
            "\u001b[0;31m---------------------------------------------------------------------------\u001b[0m",
            "\u001b[0;31mNameError\u001b[0m                                 Traceback (most recent call last)",
            "\u001b[0;32m<ipython-input-2-09bec43dda8a>\u001b[0m in \u001b[0;36m<module>\u001b[0;34m()\u001b[0m\n\u001b[1;32m      8\u001b[0m \u001b[0;31m# your code here\u001b[0m\u001b[0;34m\u001b[0m\u001b[0;34m\u001b[0m\u001b[0;34m\u001b[0m\u001b[0m\n\u001b[1;32m      9\u001b[0m \u001b[0;34m\u001b[0m\u001b[0m\n\u001b[0;32m---> 10\u001b[0;31m \u001b[0mprint\u001b[0m\u001b[0;34m(\u001b[0m\u001b[0mlen\u001b[0m\u001b[0;34m(\u001b[0m\u001b[0mcompanyList\u001b[0m\u001b[0;34m)\u001b[0m\u001b[0;34m)\u001b[0m\u001b[0;34m\u001b[0m\u001b[0;34m\u001b[0m\u001b[0m\n\u001b[0m",
            "\u001b[0;31mNameError\u001b[0m: name 'companyList' is not defined"
          ]
        }
      ]
    },
    {
      "cell_type": "markdown",
      "metadata": {
        "id": "AlAXE0NOKKWq"
      },
      "source": [
        "## STEP 2: Implement the similarity function"
      ]
    },
    {
      "cell_type": "markdown",
      "metadata": {
        "id": "-z30ECunKKWr"
      },
      "source": [
        "### Computing the similarity between two strings\n",
        "\n",
        "There are many ways that we can calculate the similarity between two strings. For our case, we will focus on a few similarity metrics that already have implementations in Python. \n",
        "\n",
        "##### Some commonly used similarity metrics\n",
        "\n",
        "* [Sequence matching](https://docs.python.org/3.6/library/difflib.html) (part of standard Python) ([example](http://stackoverflow.com/questions/17388213/find-the-similarity-percent-between-two-strings))\n",
        "* [Edit distance](https://en.wikipedia.org/wiki/Edit_distance) ([Python Jellyfish Library](https://github.com/jamesturk/jellyfish))\n",
        "* [N-gram distance](http://pythonhosted.org/ngram/tutorial.html#comparing-and-searching-strings)\n",
        "\n",
        "\n",
        "#### STEP 2.a: Let's figure out how we can install the libraries..."
      ]
    },
    {
      "cell_type": "code",
      "metadata": {
        "id": "PMP54uNaKKWr"
      },
      "source": [
        "# Edit distance\n",
        "!sudo pip3 install -U jellyfish"
      ],
      "execution_count": null,
      "outputs": []
    },
    {
      "cell_type": "code",
      "metadata": {
        "id": "zMbSWEQwKKWs"
      },
      "source": [
        "# Ngram\n",
        "!sudo pip3 install -U ngram"
      ],
      "execution_count": null,
      "outputs": []
    },
    {
      "cell_type": "markdown",
      "metadata": {
        "id": "pCDnMfwEKKWs"
      },
      "source": [
        "#### STEP 2.b: Now let's test our similarity functions with various examples\n",
        "\n",
        "Once we have installed the necessary libraries for our project, we proceed to `import` them and test the functions."
      ]
    },
    {
      "cell_type": "code",
      "metadata": {
        "id": "S981EOFUKKWs"
      },
      "source": [
        "import jellyfish"
      ],
      "execution_count": null,
      "outputs": []
    },
    {
      "cell_type": "markdown",
      "metadata": {
        "id": "3A3yuO2RKKWt"
      },
      "source": [
        "##### Edit Distance\n",
        "\n",
        "From Wikipedia:\n",
        "\n",
        "The [edit distance](https://en.wikipedia.org/wiki/Edit_distance) _ is a way of quantifying how dissimilar two strings (e.g., words) are to one another by counting the minimum number of operations required to transform one string into the other._. \n",
        "\n",
        "The Levenshtein distance between \"kitten\" and \"sitting\" is 3. A minimal edit script that transforms the former into the latter is:\n",
        "\n",
        "* kitten → sitten (substitution of \"s\" for \"k\")\n",
        "* sitten → sittin (substitution of \"i\" for \"e\")\n",
        "* sittin → sitting (insertion of \"g\" at the end)."
      ]
    },
    {
      "cell_type": "code",
      "metadata": {
        "id": "8WYZ-NBFKKWu"
      },
      "source": [
        "jellyfish.levenshtein_distance('kitten', 'sitting')"
      ],
      "execution_count": null,
      "outputs": []
    },
    {
      "cell_type": "markdown",
      "metadata": {
        "id": "mWofMHALKKWu"
      },
      "source": [
        "Let's try a few more examples"
      ]
    },
    {
      "cell_type": "code",
      "metadata": {
        "id": "D7c-M0_2KKWv"
      },
      "source": [
        "jellyfish.levenshtein_distance('Starbucks', 'Starbacks')"
      ],
      "execution_count": null,
      "outputs": []
    },
    {
      "cell_type": "code",
      "metadata": {
        "id": "CR3b_xn5KKWv"
      },
      "source": [
        "jellyfish.levenshtein_distance('Starbucks', 'Starbuck')"
      ],
      "execution_count": null,
      "outputs": []
    },
    {
      "cell_type": "code",
      "metadata": {
        "id": "UnVwwOIeKKWv"
      },
      "source": [
        "jellyfish.levenshtein_distance('Starbucks', 'Wendys')"
      ],
      "execution_count": null,
      "outputs": []
    },
    {
      "cell_type": "markdown",
      "metadata": {
        "id": "Nf4AVsM_KKWv"
      },
      "source": [
        "##### Demerau Levenshtein distance\n",
        "\n",
        "The Demerau Levenshtein distance also allows for  transposition of two adjacent characters."
      ]
    },
    {
      "cell_type": "code",
      "metadata": {
        "id": "k-xQ38oUKKWw"
      },
      "source": [
        "jellyfish.damerau_levenshtein_distance('Starbucks', 'Starbucsk')"
      ],
      "execution_count": null,
      "outputs": []
    },
    {
      "cell_type": "code",
      "metadata": {
        "id": "q4Lnpk3SKKWw"
      },
      "source": [
        "jellyfish.levenshtein_distance('Starbucks', 'Starbucsk')"
      ],
      "execution_count": null,
      "outputs": []
    },
    {
      "cell_type": "markdown",
      "metadata": {
        "id": "To8ndsmeKKWw"
      },
      "source": [
        "###### Jaro–Winkler distance\n",
        "\n",
        "[Jaro–Winkler distance](https://en.wikipedia.org/wiki/Jaro%E2%80%93Winkler_distance) is a string metric for measuring the edit distance between two sequences. Informally, the **Jaro** distance between two words is the minimum number of single-character transpositions required to change one word into the other; the **Jaro–Winkler** distance  gives more favourable ratings to strings that match from the beginning.\n"
      ]
    },
    {
      "cell_type": "code",
      "metadata": {
        "id": "wC5URLaGKKWx"
      },
      "source": [
        "jellyfish.jaro_winkler('Starbucks', 'Starbarbr')"
      ],
      "execution_count": null,
      "outputs": []
    },
    {
      "cell_type": "code",
      "metadata": {
        "id": "zjk0uMXfKKWx"
      },
      "source": [
        "jellyfish.jaro_winkler('Starbucks', 'Milwbucks')"
      ],
      "execution_count": null,
      "outputs": []
    },
    {
      "cell_type": "markdown",
      "metadata": {
        "id": "rHEKEs9-KKWx"
      },
      "source": [
        "##### Soundex\n",
        "\n",
        "[Soundex](https://en.wikipedia.org/wiki/Soundex) is a phonetic algorithm for indexing names by sound, as pronounced in English. The goal is for homophones to be encoded to the same representation so that they can be matched despite minor differences in spelling. \n",
        "\n",
        "Using this algorithm, both \"Robert\" and \"Rupert\" return the same string \"R163\" while \"Rubin\" yields \"R150\". \"Ashcraft\" and \"Ashcroft\" both yield \"A261\". \"Tymczak\" yields \"T522\" not \"T520\" (the chars 'z' and 'k' in the name are coded as 2 twice since a vowel lies in between them). \"Pfister\" yields \"P236\" not \"P123\" (the first two letters have the same number and are coded once as 'P')."
      ]
    },
    {
      "cell_type": "code",
      "metadata": {
        "id": "ej9Uia0oKKWy"
      },
      "source": [
        "jellyfish.soundex('Robert')"
      ],
      "execution_count": null,
      "outputs": []
    },
    {
      "cell_type": "code",
      "metadata": {
        "id": "Tl6miHD4KKWy"
      },
      "source": [
        "jellyfish.soundex('Rupert')"
      ],
      "execution_count": null,
      "outputs": []
    },
    {
      "cell_type": "code",
      "metadata": {
        "id": "hj-k1dWrKKWy"
      },
      "source": [
        "jellyfish.soundex('Ashcroft')"
      ],
      "execution_count": null,
      "outputs": []
    },
    {
      "cell_type": "code",
      "metadata": {
        "id": "K1fJZDl1KKWz"
      },
      "source": [
        "jellyfish.soundex('Ashcraft')"
      ],
      "execution_count": null,
      "outputs": []
    },
    {
      "cell_type": "markdown",
      "metadata": {
        "id": "5hx5hzANKKWz"
      },
      "source": [
        "#### Ngrams\n",
        "\n",
        "With the n-gram similarity score, we split the word into sequences of n consecutive characters (n-grams) and then compare the sets of n-grams between the two words. For example, the name \"Panos\" has the following 2-grams: \"Pa\", \"an\", \"no\", \"os\". (We can also add \"#P\" and \"s#\" if we want to capture the prefix and suffixes.) Strings that share a large number of q-grams are often similar."
      ]
    },
    {
      "cell_type": "code",
      "metadata": {
        "id": "IJLGFRueKKWz"
      },
      "source": [
        "import ngram"
      ],
      "execution_count": null,
      "outputs": []
    },
    {
      "cell_type": "code",
      "metadata": {
        "id": "ydU0QY2EKKWz"
      },
      "source": [
        "ngram.NGram.compare('Ipeirotis','Iperotis',N=2)"
      ],
      "execution_count": null,
      "outputs": []
    },
    {
      "cell_type": "code",
      "metadata": {
        "id": "arr3GZHcK-wz"
      },
      "source": [
        "ngram.NGram.compare('White','Whyte',N=2)"
      ],
      "execution_count": null,
      "outputs": []
    },
    {
      "cell_type": "code",
      "metadata": {
        "id": "tmHttqr2KKWz"
      },
      "source": [
        "ngram.NGram.compare('New York University','New York Universty',N=2)"
      ],
      "execution_count": null,
      "outputs": []
    },
    {
      "cell_type": "markdown",
      "metadata": {
        "id": "OaceK9UOKKWz"
      },
      "source": [
        "#### Task 1: Create a function that takes as input two strings and returns their similarity\n",
        "\n",
        "Given the experience with the metrics above, we want now to create a *function* that takes as input a string and returns their similarity. Our key requirement is for the similarity metric to be between 0 and 1, with 0 meaning no similarity, and 1 corresponding to identical strings. Some of the similarity functions above would fit right in, others will need some work. "
      ]
    },
    {
      "cell_type": "code",
      "metadata": {
        "id": "1DSDEDf-KKWz"
      },
      "source": [
        "# For n-gram similarity it is very simple, we just return the result\n",
        "def computeSimilarity(str1, str2):\n",
        "    #your code here\n",
        "    return"
      ],
      "execution_count": null,
      "outputs": []
    },
    {
      "cell_type": "markdown",
      "metadata": {
        "id": "GcuQYpa-KKWz"
      },
      "source": [
        "#### Task 2: Modify the functions above to allow for various similarity calculation methods.\n",
        "\n",
        "We will now up our game, and return back the results of the comparison using various methods. The `method` parameter defines the metric that we will use"
      ]
    },
    {
      "cell_type": "code",
      "metadata": {
        "id": "Qgj_onRSKKW0"
      },
      "source": [
        "def computeSimilarity(str1, str2, method):\n",
        "    #your code here\n",
        "    return\n",
        "    \n"
      ],
      "execution_count": null,
      "outputs": []
    },
    {
      "cell_type": "markdown",
      "metadata": {
        "id": "2aTNPwpDzSiQ"
      },
      "source": [
        "### The next cell once worked, but somehow some lines were deleted, you need to replace the missing pieces.  (i.e. the ???'s)"
      ]
    },
    {
      "cell_type": "code",
      "metadata": {
        "id": "iyngMD0jNmZ5"
      },
      "source": [
        "### nhw cell\n",
        "def computeSimilarity(str1,str2,method):\n",
        "  # str1 and str2 are strings with company names\n",
        "  # method is either '2-gram','jacquard', 'levenshtein', 'jaro_winkler', or 'soundex'\n",
        "  if(method=='2-gram'):\n",
        "    return ???\n",
        "\n",
        "  if(method=='jacquard'):\n",
        "    intsize=len(set(str1).intersection(set(str2)))\n",
        "    unionsize=   ???\n",
        "    return ??? \n",
        "\n",
        "  if(method=='jaro_winkler'):\n",
        "    return ???\n",
        "\n",
        "  if (method=='levenshtein'):\n",
        "    return 1.0- (jellyfish.levenshtein_distance(str1,str2)/max(len(str1),len(str2)))\n",
        "\n",
        "  if(method=='soundex'):\n",
        "    if ???\n",
        "      return 1.0\n",
        "  return 0.0\n",
        "#\n",
        "# let's test our function \n",
        "s1='mcdonalds'\n",
        "s2='macdonaldsaaa'\n",
        "for m in ['2-gram','jacquard','levenshtein','jaro_winkler','soundex'] :\n",
        "  sim=computeSimilarity(s1,s2,m)\n",
        "  print(sim)\n"
      ],
      "execution_count": null,
      "outputs": []
    },
    {
      "cell_type": "markdown",
      "metadata": {
        "id": "utscrMjwKKW0"
      },
      "source": [
        "## STEP 3: Compute the similarity of a company against the list of company names"
      ]
    },
    {
      "cell_type": "markdown",
      "metadata": {
        "id": "5Ot-SKjJKKW0"
      },
      "source": [
        "We now create a function that accepts a company name and a list of companies, and computes their similarity. This part will get us to exercise our for-loops, and also illustrate how we can use lists and tuples."
      ]
    },
    {
      "cell_type": "markdown",
      "metadata": {
        "id": "1HhQ64lWKKW0"
      },
      "source": [
        "**Sorting a list of tuples**:_This part is a little bit advanced for now, so I will just give the code below. (Solution taken from http://stackoverflow.com/questions/3121979/how-to-sort-list-tuple-of-lists-tuples). Here is a small example below, which we will reuse in our function:_"
      ]
    },
    {
      "cell_type": "code",
      "metadata": {
        "id": "YZUZN7Z7KKW1",
        "colab": {
          "base_uri": "https://localhost:8080/"
        },
        "outputId": "c890280e-4821-4960-9b2c-695c16880bb0"
      },
      "source": [
        "data = [(\"Panos\",0.5), (\"Peter\",0.6),(\"Norman\",.05),(\"Pan\", 0.4)]\n",
        "data.sort(key=lambda tupl: tupl[1], reverse=True)  # sorts in place, in descending order, based on the second element of the tuple\n",
        "print(data)"
      ],
      "execution_count": null,
      "outputs": [
        {
          "output_type": "stream",
          "text": [
            "[('Peter', 0.6), ('Panos', 0.5), ('Pan', 0.4), ('Norman', 0.05)]\n"
          ],
          "name": "stdout"
        }
      ]
    },
    {
      "cell_type": "code",
      "metadata": {
        "id": "ftygeyNAKKW1"
      },
      "source": [
        "# STEP 3: Now create a function that accepts a company name\n",
        "# and a list of companies, and computes their similarity\n",
        "# We have a 'top' parameter (by default set to be 5)\n",
        "# that restricts the results to only the most similar \n",
        "# string pairs. We also define a parameter \"method\" that defines \n",
        "# what is the similarity method that we want to use. We also define a \n",
        "# similarity threshold for keeping only results with sufficient similarity\n",
        "\n",
        "def companySimilarity(query, companyList, top = 5, method = '2-gram', sim_threshold = 0.5):\n",
        "    #your code here\n",
        "  thelist=[]\n",
        "  for company in companyList:\n",
        "    thesim= ???\n",
        "    if(thesim> sim_threshold):\n",
        "      thelist.append((company,round(???,2)))\n",
        "  # now sort the list\n",
        "  thelist.sort(key=lambda tupl: tupl[1], reverse=True)\n",
        "\n",
        "  return thelist[0:5]\n",
        "\n",
        "# Test the function \n",
        "sim=companySimilarity('McDonalds', companyList, top = 5, method ='2-gram', sim_threshold=.5)\n",
        "print(sim)"
      ],
      "execution_count": null,
      "outputs": []
    },
    {
      "cell_type": "markdown",
      "metadata": {
        "id": "wpuZJrgQKKW1"
      },
      "source": [
        "##  Step 4: Perform the similarity computation across a random set of companies in the dataset. Pick 100 at random to test. We can use the random.sample method from the random library to pull the random sample"
      ]
    },
    {
      "cell_type": "code",
      "metadata": {
        "id": "vAiYUvLFKKW1"
      },
      "source": [
        "# STEP 4: We are almost done. We now just go through a random set of the companies in the list\n",
        "# and we call the companySimilarity function that computes the similar company names\n",
        "# for all the companies in the list. We store the results in a dictionary, with the \n",
        "# key being the company name, and the value being a \"list of tuples\" with the \n",
        "# similar company names and the corresponding similarity value.\n"
      ],
      "execution_count": null,
      "outputs": []
    },
    {
      "cell_type": "code",
      "metadata": {
        "id": "6d5WeVZpKKW1"
      },
      "source": [
        "#your code here\n",
        "import random\n",
        "thelist=[]\n",
        "# generate a numbe rbetween 1 and the number of companies\n",
        "ncomps=len(companyList)\n",
        "# use the randon.sample method to pull a random sample of 100 from the companyList\n",
        "# to  some if there are some close matches\n",
        "\n",
        "adraw=random.sample(companyList,k=100)\n",
        "\n",
        "#print(adraw)\n",
        "\n",
        "thesims={}\n",
        "for comp in adraw:\n",
        "  # find the list of companies similar to this one\n",
        "  thesims[comp]=???\n",
        "  \n",
        "for i in thesims:\n",
        "  if (len(thesims[i]))>1:\n",
        "      print(i, \" ====> \",thesims[i])\n"
      ],
      "execution_count": null,
      "outputs": []
    },
    {
      "cell_type": "code",
      "metadata": {
        "id": "ihnLTHvbKKW1"
      },
      "source": [
        ""
      ],
      "execution_count": null,
      "outputs": []
    },
    {
      "cell_type": "markdown",
      "metadata": {
        "id": "eoTU2mZN1Vnk"
      },
      "source": [
        "#### Once you have the code working, you can experiment with different similarity measures and different sample sizes. Which one do you like and why?"
      ]
    },
    {
      "cell_type": "code",
      "metadata": {
        "id": "Nll9ws_xksVB"
      },
      "source": [
        ""
      ],
      "execution_count": null,
      "outputs": []
    }
  ]
}