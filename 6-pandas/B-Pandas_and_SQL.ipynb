{
  "nbformat": 4,
  "nbformat_minor": 0,
  "metadata": {
    "kernelspec": {
      "display_name": "Python 3",
      "language": "python",
      "name": "python3"
    },
    "language_info": {
      "codemirror_mode": {
        "name": "ipython",
        "version": 3
      },
      "file_extension": ".py",
      "mimetype": "text/x-python",
      "name": "python",
      "nbconvert_exporter": "python",
      "pygments_lexer": "ipython3",
      "version": "3.6.5"
    },
    "colab": {
      "name": "B-Pandas_and_SQL.ipynb",
      "provenance": [],
      "collapsed_sections": [],
      "include_colab_link": true
    }
  },
  "cells": [
    {
      "cell_type": "markdown",
      "metadata": {
        "id": "view-in-github",
        "colab_type": "text"
      },
      "source": [
        "<a href=\"https://colab.research.google.com/github/nhwhite212/DealingwithDataSpring2021/blob/master/6-pandas/B-Pandas_and_SQL.ipynb\" target=\"_parent\"><img src=\"https://colab.research.google.com/assets/colab-badge.svg\" alt=\"Open In Colab\"/></a>"
      ]
    },
    {
      "cell_type": "markdown",
      "metadata": {
        "id": "b4LuiyB9akPv"
      },
      "source": [
        "### Using Pandas together with SQL"
      ]
    },
    {
      "cell_type": "code",
      "metadata": {
        "id": "tp3ENzdVam1U",
        "colab": {
          "base_uri": "https://localhost:8080/"
        },
        "outputId": "703e9303-d1ab-4c20-ef92-91cffaf1b76c"
      },
      "source": [
        "!sudo apt-get install -y python-dev libmysqlclient-dev && sudo pip install mysqlclient"
      ],
      "execution_count": 1,
      "outputs": [
        {
          "output_type": "stream",
          "text": [
            "Reading package lists... Done\n",
            "Building dependency tree       \n",
            "Reading state information... Done\n",
            "python-dev is already the newest version (2.7.15~rc1-1).\n",
            "libmysqlclient-dev is already the newest version (5.7.33-0ubuntu0.18.04.1).\n",
            "libmysqlclient-dev set to manually installed.\n",
            "0 upgraded, 0 newly installed, 0 to remove and 31 not upgraded.\n",
            "Collecting mysqlclient\n",
            "\u001b[?25l  Downloading https://files.pythonhosted.org/packages/3c/df/59cd2fa5e48d0804d213bdcb1acb4d08c403b61c7ff7ed4dd4a6a2deb3f7/mysqlclient-2.0.3.tar.gz (88kB)\n",
            "\u001b[K     |████████████████████████████████| 92kB 3.9MB/s \n",
            "\u001b[?25hBuilding wheels for collected packages: mysqlclient\n",
            "  Building wheel for mysqlclient (setup.py) ... \u001b[?25l\u001b[?25hdone\n",
            "  Created wheel for mysqlclient: filename=mysqlclient-2.0.3-cp37-cp37m-linux_x86_64.whl size=100100 sha256=f6b4bfa00c2f7d6513567dfe167c3616cadc0b69fe6b814b56c06e7e9bf3ba0b\n",
            "  Stored in directory: /root/.cache/pip/wheels/75/ca/e8/ad4e7ce3df18bcd91c7d84dd28c7c08db491a2a2360efed363\n",
            "Successfully built mysqlclient\n",
            "Installing collected packages: mysqlclient\n",
            "Successfully installed mysqlclient-2.0.3\n"
          ],
          "name": "stdout"
        }
      ]
    },
    {
      "cell_type": "code",
      "metadata": {
        "id": "fc0iL83-akPy"
      },
      "source": [
        "%matplotlib inline\n",
        "\n",
        "import pandas as pd\n",
        "import matplotlib\n",
        "import matplotlib.pyplot as plt\n",
        "\n",
        "# Make the graphs a bit prettier, and bigger\n",
        "matplotlib.style.use(['seaborn-talk', 'seaborn-ticks', 'seaborn-whitegrid'])\n",
        "plt.rcParams['figure.figsize'] = (15, 5)"
      ],
      "execution_count": 2,
      "outputs": []
    },
    {
      "cell_type": "code",
      "metadata": {
        "id": "11aH-wkFakP0",
        "colab": {
          "base_uri": "https://localhost:8080/"
        },
        "outputId": "6ae81ab7-4e34-485f-961b-49e32a302cfe"
      },
      "source": [
        "# Install the SQLAlchemy library if it is not installed\n",
        "!sudo -H pip3 install -U sqlalchemy"
      ],
      "execution_count": 3,
      "outputs": [
        {
          "output_type": "stream",
          "text": [
            "Collecting sqlalchemy\n",
            "\u001b[?25l  Downloading https://files.pythonhosted.org/packages/85/96/1141fd62522a23009db480b05ef8fa0de8c6cb3cbe4e678412190a381a97/SQLAlchemy-1.4.7-cp37-cp37m-manylinux2014_x86_64.whl (1.5MB)\n",
            "\u001b[K     |████████████████████████████████| 1.5MB 5.6MB/s \n",
            "\u001b[?25hRequirement already satisfied, skipping upgrade: greenlet!=0.4.17; python_version >= \"3\" in /usr/local/lib/python3.7/dist-packages (from sqlalchemy) (1.0.0)\n",
            "Requirement already satisfied, skipping upgrade: importlib-metadata; python_version < \"3.8\" in /usr/local/lib/python3.7/dist-packages (from sqlalchemy) (3.10.0)\n",
            "Requirement already satisfied, skipping upgrade: zipp>=0.5 in /usr/local/lib/python3.7/dist-packages (from importlib-metadata; python_version < \"3.8\"->sqlalchemy) (3.4.1)\n",
            "Requirement already satisfied, skipping upgrade: typing-extensions>=3.6.4; python_version < \"3.8\" in /usr/local/lib/python3.7/dist-packages (from importlib-metadata; python_version < \"3.8\"->sqlalchemy) (3.7.4.3)\n",
            "Installing collected packages: sqlalchemy\n",
            "  Found existing installation: SQLAlchemy 1.4.6\n",
            "    Uninstalling SQLAlchemy-1.4.6:\n",
            "      Successfully uninstalled SQLAlchemy-1.4.6\n",
            "Successfully installed sqlalchemy-1.4.7\n"
          ],
          "name": "stdout"
        }
      ]
    },
    {
      "cell_type": "markdown",
      "metadata": {
        "id": "I1_foOBWakP0"
      },
      "source": [
        "### Importing into DataFrames using read_sql\n",
        "\n",
        "The `read_sql` function of Pandas allows us to create a dataframe directly from a SQL query. To execute the query, we first setup the connection to the database using the SQLAlchemy library."
      ]
    },
    {
      "cell_type": "code",
      "metadata": {
        "id": "zlfeVK7yakP1"
      },
      "source": [
        "from sqlalchemy import create_engine"
      ],
      "execution_count": 4,
      "outputs": []
    },
    {
      "cell_type": "code",
      "metadata": {
        "id": "yqMEc7ESakP2"
      },
      "source": [
        "conn_string_imdb = 'mysql://{user}:{password}@{host}:{port}/{db}'.format(\n",
        "    user='student', \n",
        "    password='dwdstudent2015', \n",
        "    host = 'db.ipeirotis.org', \n",
        "    port=3306, \n",
        "    db='imdb'\n",
        ")\n",
        "engine_imdb = create_engine(conn_string_imdb)"
      ],
      "execution_count": 5,
      "outputs": []
    },
    {
      "cell_type": "markdown",
      "metadata": {
        "id": "zyiA-VgiakP3"
      },
      "source": [
        "#### Retrieve the first 10 lines from the actors table "
      ]
    },
    {
      "cell_type": "code",
      "metadata": {
        "id": "Oj1C_r7RakP4"
      },
      "source": [
        "query = '''\n",
        "SELECT * FROM actors LIMIT 10\n",
        "'''"
      ],
      "execution_count": 6,
      "outputs": []
    },
    {
      "cell_type": "code",
      "metadata": {
        "id": "ms0fKnq4akP4"
      },
      "source": [
        "df_actors = pd.read_sql(query, con=engine_imdb)"
      ],
      "execution_count": 7,
      "outputs": []
    },
    {
      "cell_type": "code",
      "metadata": {
        "id": "t7mTbCTxakP5",
        "colab": {
          "base_uri": "https://localhost:8080/",
          "height": 363
        },
        "outputId": "93fe04ea-749c-4ed0-bd0c-21e5208d46e1"
      },
      "source": [
        "df_actors"
      ],
      "execution_count": 8,
      "outputs": [
        {
          "output_type": "execute_result",
          "data": {
            "text/html": [
              "<div>\n",
              "<style scoped>\n",
              "    .dataframe tbody tr th:only-of-type {\n",
              "        vertical-align: middle;\n",
              "    }\n",
              "\n",
              "    .dataframe tbody tr th {\n",
              "        vertical-align: top;\n",
              "    }\n",
              "\n",
              "    .dataframe thead th {\n",
              "        text-align: right;\n",
              "    }\n",
              "</style>\n",
              "<table border=\"1\" class=\"dataframe\">\n",
              "  <thead>\n",
              "    <tr style=\"text-align: right;\">\n",
              "      <th></th>\n",
              "      <th>id</th>\n",
              "      <th>first_name</th>\n",
              "      <th>last_name</th>\n",
              "      <th>gender</th>\n",
              "    </tr>\n",
              "  </thead>\n",
              "  <tbody>\n",
              "    <tr>\n",
              "      <th>0</th>\n",
              "      <td>2</td>\n",
              "      <td>Michael</td>\n",
              "      <td>'babeepower' Viera</td>\n",
              "      <td>M</td>\n",
              "    </tr>\n",
              "    <tr>\n",
              "      <th>1</th>\n",
              "      <td>3</td>\n",
              "      <td>Eloy</td>\n",
              "      <td>'Chincheta'</td>\n",
              "      <td>M</td>\n",
              "    </tr>\n",
              "    <tr>\n",
              "      <th>2</th>\n",
              "      <td>4</td>\n",
              "      <td>Dieguito</td>\n",
              "      <td>'El Cigala'</td>\n",
              "      <td>M</td>\n",
              "    </tr>\n",
              "    <tr>\n",
              "      <th>3</th>\n",
              "      <td>5</td>\n",
              "      <td>Antonio</td>\n",
              "      <td>'El de Chipiona'</td>\n",
              "      <td>M</td>\n",
              "    </tr>\n",
              "    <tr>\n",
              "      <th>4</th>\n",
              "      <td>6</td>\n",
              "      <td>José</td>\n",
              "      <td>'El Francés'</td>\n",
              "      <td>M</td>\n",
              "    </tr>\n",
              "    <tr>\n",
              "      <th>5</th>\n",
              "      <td>7</td>\n",
              "      <td>Félix</td>\n",
              "      <td>'El Gato'</td>\n",
              "      <td>M</td>\n",
              "    </tr>\n",
              "    <tr>\n",
              "      <th>6</th>\n",
              "      <td>8</td>\n",
              "      <td>Marcial</td>\n",
              "      <td>'El Jalisco'</td>\n",
              "      <td>M</td>\n",
              "    </tr>\n",
              "    <tr>\n",
              "      <th>7</th>\n",
              "      <td>9</td>\n",
              "      <td>José</td>\n",
              "      <td>'El Morito'</td>\n",
              "      <td>M</td>\n",
              "    </tr>\n",
              "    <tr>\n",
              "      <th>8</th>\n",
              "      <td>10</td>\n",
              "      <td>Francisco</td>\n",
              "      <td>'El Niño de la Manola'</td>\n",
              "      <td>M</td>\n",
              "    </tr>\n",
              "    <tr>\n",
              "      <th>9</th>\n",
              "      <td>11</td>\n",
              "      <td>Víctor</td>\n",
              "      <td>'El Payaso'</td>\n",
              "      <td>M</td>\n",
              "    </tr>\n",
              "  </tbody>\n",
              "</table>\n",
              "</div>"
            ],
            "text/plain": [
              "   id first_name               last_name gender\n",
              "0   2    Michael      'babeepower' Viera      M\n",
              "1   3       Eloy             'Chincheta'      M\n",
              "2   4   Dieguito             'El Cigala'      M\n",
              "3   5    Antonio        'El de Chipiona'      M\n",
              "4   6       José            'El Francés'      M\n",
              "5   7      Félix               'El Gato'      M\n",
              "6   8    Marcial            'El Jalisco'      M\n",
              "7   9       José             'El Morito'      M\n",
              "8  10  Francisco  'El Niño de la Manola'      M\n",
              "9  11     Víctor             'El Payaso'      M"
            ]
          },
          "metadata": {
            "tags": []
          },
          "execution_count": 8
        }
      ]
    },
    {
      "cell_type": "markdown",
      "metadata": {
        "id": "aTQE4LkrakP5"
      },
      "source": [
        "#### Retrieve the number of movies per year"
      ]
    },
    {
      "cell_type": "code",
      "metadata": {
        "id": "yBdq6z1YakP7"
      },
      "source": [
        "query = '''\n",
        "SELECT year, COUNT(*) AS num_movies, COUNT(*) AS rated_movies\n",
        "FROM movies \n",
        "GROUP BY year\n",
        "order by year\n",
        "'''"
      ],
      "execution_count": 9,
      "outputs": []
    },
    {
      "cell_type": "markdown",
      "metadata": {
        "id": "o7gYCrepakP7"
      },
      "source": [
        "#### Issue the query using the pandas read_sql method. It returns a pandas dataframe"
      ]
    },
    {
      "cell_type": "code",
      "metadata": {
        "id": "q02d8BGmakP7"
      },
      "source": [
        "df_movies = pd.read_sql(query, con=engine_imdb)"
      ],
      "execution_count": 10,
      "outputs": []
    },
    {
      "cell_type": "code",
      "metadata": {
        "id": "jQS_5YFLakP8",
        "colab": {
          "base_uri": "https://localhost:8080/",
          "height": 206
        },
        "outputId": "60cf90e5-ea54-4def-c381-5090c6435204"
      },
      "source": [
        "df_movies.head(5)"
      ],
      "execution_count": 11,
      "outputs": [
        {
          "output_type": "execute_result",
          "data": {
            "text/html": [
              "<div>\n",
              "<style scoped>\n",
              "    .dataframe tbody tr th:only-of-type {\n",
              "        vertical-align: middle;\n",
              "    }\n",
              "\n",
              "    .dataframe tbody tr th {\n",
              "        vertical-align: top;\n",
              "    }\n",
              "\n",
              "    .dataframe thead th {\n",
              "        text-align: right;\n",
              "    }\n",
              "</style>\n",
              "<table border=\"1\" class=\"dataframe\">\n",
              "  <thead>\n",
              "    <tr style=\"text-align: right;\">\n",
              "      <th></th>\n",
              "      <th>year</th>\n",
              "      <th>num_movies</th>\n",
              "      <th>rated_movies</th>\n",
              "    </tr>\n",
              "  </thead>\n",
              "  <tbody>\n",
              "    <tr>\n",
              "      <th>0</th>\n",
              "      <td>1888</td>\n",
              "      <td>2</td>\n",
              "      <td>2</td>\n",
              "    </tr>\n",
              "    <tr>\n",
              "      <th>1</th>\n",
              "      <td>1890</td>\n",
              "      <td>3</td>\n",
              "      <td>3</td>\n",
              "    </tr>\n",
              "    <tr>\n",
              "      <th>2</th>\n",
              "      <td>1891</td>\n",
              "      <td>6</td>\n",
              "      <td>6</td>\n",
              "    </tr>\n",
              "    <tr>\n",
              "      <th>3</th>\n",
              "      <td>1892</td>\n",
              "      <td>9</td>\n",
              "      <td>9</td>\n",
              "    </tr>\n",
              "    <tr>\n",
              "      <th>4</th>\n",
              "      <td>1893</td>\n",
              "      <td>2</td>\n",
              "      <td>2</td>\n",
              "    </tr>\n",
              "  </tbody>\n",
              "</table>\n",
              "</div>"
            ],
            "text/plain": [
              "   year  num_movies  rated_movies\n",
              "0  1888           2             2\n",
              "1  1890           3             3\n",
              "2  1891           6             6\n",
              "3  1892           9             9\n",
              "4  1893           2             2"
            ]
          },
          "metadata": {
            "tags": []
          },
          "execution_count": 11
        }
      ]
    },
    {
      "cell_type": "markdown",
      "metadata": {
        "id": "LY-fEmzrakP8"
      },
      "source": [
        "#### Let's try to plot the results.  The pandas plot method will pick some default settings for matplotlib."
      ]
    },
    {
      "cell_type": "code",
      "metadata": {
        "id": "5kWU_i5_akP9",
        "colab": {
          "base_uri": "https://localhost:8080/",
          "height": 342
        },
        "outputId": "0a47ddfe-0587-4cb5-f098-5e23b259c3b1"
      },
      "source": [
        "df_movies.plot()"
      ],
      "execution_count": 12,
      "outputs": [
        {
          "output_type": "execute_result",
          "data": {
            "text/plain": [
              "<matplotlib.axes._subplots.AxesSubplot at 0x7f16923fea50>"
            ]
          },
          "metadata": {
            "tags": []
          },
          "execution_count": 12
        },
        {
          "output_type": "display_data",
          "data": {
            "image/png": "[encoded data removed]",
            "text/plain": [
              "<Figure size 1080x360 with 1 Axes>"
            ]
          },
          "metadata": {
            "tags": []
          }
        }
      ]
    },
    {
      "cell_type": "markdown",
      "metadata": {
        "id": "Jtrw2X-iakP-"
      },
      "source": [
        "We have a couple of issues. We also plotted the year as a line, and we do not have it as the label of the x-axis. For that, we need to convert the year into a proper datetime variable, and then make it the index for the dataframe."
      ]
    },
    {
      "cell_type": "code",
      "metadata": {
        "id": "pPIpohTfakP-"
      },
      "source": [
        "df_movies['year'] = pd.to_datetime(df_movies['year'], format='%Y')\n",
        "df_movies2 = df_movies.set_index('year')"
      ],
      "execution_count": 13,
      "outputs": []
    },
    {
      "cell_type": "code",
      "metadata": {
        "id": "DP1it8uiakP_",
        "colab": {
          "base_uri": "https://localhost:8080/",
          "height": 346
        },
        "outputId": "4d131a19-c6c9-4caa-8368-43bfb30cda05"
      },
      "source": [
        "df_movies2.plot()"
      ],
      "execution_count": 14,
      "outputs": [
        {
          "output_type": "execute_result",
          "data": {
            "text/plain": [
              "<matplotlib.axes._subplots.AxesSubplot at 0x7f168a06b290>"
            ]
          },
          "metadata": {
            "tags": []
          },
          "execution_count": 14
        },
        {
          "output_type": "display_data",
          "data": {
            "image/png": "[encoded data removed]",
            "text/plain": [
              "<Figure size 1080x360 with 1 Axes>"
            ]
          },
          "metadata": {
            "tags": []
          }
        }
      ]
    },
    {
      "cell_type": "markdown",
      "metadata": {
        "id": "CEbs7WJ1akP_"
      },
      "source": [
        "### Exercise\n",
        "\n",
        "* Connect to the Facebook database, and use the `MemberSince` variable from the `Profiles` table to plot the growth of Facebook users.\n",
        "* (_Learn something new_) Use the [cumsum()](http://pandas.pydata.org/pandas-docs/stable/generated/pandas.Series.cumsum.html) function of Pandas and plot the total number of registered users over time."
      ]
    },
    {
      "cell_type": "code",
      "metadata": {
        "id": "DA_aQlx5akP_"
      },
      "source": [
        "# your code here"
      ],
      "execution_count": 15,
      "outputs": []
    },
    {
      "cell_type": "markdown",
      "metadata": {
        "id": "5-mZvoT0akP_"
      },
      "source": [
        "### Further Examples with SQL and Pandas"
      ]
    },
    {
      "cell_type": "markdown",
      "metadata": {
        "id": "xaMOqArCakQA"
      },
      "source": [
        "Now let's run a query to get the political views of Facebook users, broken down by gender."
      ]
    },
    {
      "cell_type": "code",
      "metadata": {
        "id": "Xma_wTeSakQA"
      },
      "source": [
        "conn_string_fb = 'mysql://{user}:{password}@{host}:{port}/{db}'.format(\n",
        "    user='student', \n",
        "    password='dwdstudent2015', \n",
        "    host = 'db.ipeirotis.org', \n",
        "    port=3306, \n",
        "    db='facebook'\n",
        ")\n",
        "engine_fb = create_engine(conn_string_fb)"
      ],
      "execution_count": 16,
      "outputs": []
    },
    {
      "cell_type": "code",
      "metadata": {
        "id": "D6zOjNe_akQB",
        "colab": {
          "base_uri": "https://localhost:8080/",
          "height": 645
        },
        "outputId": "5ca39fc7-51e9-4629-bdf8-12f8c4df8182"
      },
      "source": [
        "describeprofiles = '''\n",
        "describe Profiles\n",
        "'''\n",
        "df=pd.read_sql(describeprofiles,con=engine_fb)\n",
        "df"
      ],
      "execution_count": 17,
      "outputs": [
        {
          "output_type": "execute_result",
          "data": {
            "text/html": [
              "<div>\n",
              "<style scoped>\n",
              "    .dataframe tbody tr th:only-of-type {\n",
              "        vertical-align: middle;\n",
              "    }\n",
              "\n",
              "    .dataframe tbody tr th {\n",
              "        vertical-align: top;\n",
              "    }\n",
              "\n",
              "    .dataframe thead th {\n",
              "        text-align: right;\n",
              "    }\n",
              "</style>\n",
              "<table border=\"1\" class=\"dataframe\">\n",
              "  <thead>\n",
              "    <tr style=\"text-align: right;\">\n",
              "      <th></th>\n",
              "      <th>Field</th>\n",
              "      <th>Type</th>\n",
              "      <th>Null</th>\n",
              "      <th>Key</th>\n",
              "      <th>Default</th>\n",
              "      <th>Extra</th>\n",
              "    </tr>\n",
              "  </thead>\n",
              "  <tbody>\n",
              "    <tr>\n",
              "      <th>0</th>\n",
              "      <td>ProfileID</td>\n",
              "      <td>int(11)</td>\n",
              "      <td>NO</td>\n",
              "      <td>PRI</td>\n",
              "      <td>None</td>\n",
              "      <td></td>\n",
              "    </tr>\n",
              "    <tr>\n",
              "      <th>1</th>\n",
              "      <td>Name</td>\n",
              "      <td>varchar(255)</td>\n",
              "      <td>YES</td>\n",
              "      <td></td>\n",
              "      <td>None</td>\n",
              "      <td></td>\n",
              "    </tr>\n",
              "    <tr>\n",
              "      <th>2</th>\n",
              "      <td>MemberSince</td>\n",
              "      <td>datetime</td>\n",
              "      <td>YES</td>\n",
              "      <td></td>\n",
              "      <td>None</td>\n",
              "      <td></td>\n",
              "    </tr>\n",
              "    <tr>\n",
              "      <th>3</th>\n",
              "      <td>LastUpdate</td>\n",
              "      <td>datetime</td>\n",
              "      <td>YES</td>\n",
              "      <td></td>\n",
              "      <td>None</td>\n",
              "      <td></td>\n",
              "    </tr>\n",
              "    <tr>\n",
              "      <th>4</th>\n",
              "      <td>School</td>\n",
              "      <td>varchar(255)</td>\n",
              "      <td>YES</td>\n",
              "      <td></td>\n",
              "      <td>None</td>\n",
              "      <td></td>\n",
              "    </tr>\n",
              "    <tr>\n",
              "      <th>5</th>\n",
              "      <td>Status</td>\n",
              "      <td>varchar(255)</td>\n",
              "      <td>YES</td>\n",
              "      <td></td>\n",
              "      <td>None</td>\n",
              "      <td></td>\n",
              "    </tr>\n",
              "    <tr>\n",
              "      <th>6</th>\n",
              "      <td>Sex</td>\n",
              "      <td>varchar(255)</td>\n",
              "      <td>YES</td>\n",
              "      <td></td>\n",
              "      <td>None</td>\n",
              "      <td></td>\n",
              "    </tr>\n",
              "    <tr>\n",
              "      <th>7</th>\n",
              "      <td>Birthday</td>\n",
              "      <td>datetime</td>\n",
              "      <td>YES</td>\n",
              "      <td></td>\n",
              "      <td>None</td>\n",
              "      <td></td>\n",
              "    </tr>\n",
              "    <tr>\n",
              "      <th>8</th>\n",
              "      <td>AIM</td>\n",
              "      <td>varchar(255)</td>\n",
              "      <td>YES</td>\n",
              "      <td></td>\n",
              "      <td>None</td>\n",
              "      <td></td>\n",
              "    </tr>\n",
              "    <tr>\n",
              "      <th>9</th>\n",
              "      <td>Website</td>\n",
              "      <td>varchar(255)</td>\n",
              "      <td>YES</td>\n",
              "      <td></td>\n",
              "      <td>None</td>\n",
              "      <td></td>\n",
              "    </tr>\n",
              "    <tr>\n",
              "      <th>10</th>\n",
              "      <td>PoliticalViews</td>\n",
              "      <td>varchar(255)</td>\n",
              "      <td>YES</td>\n",
              "      <td></td>\n",
              "      <td>None</td>\n",
              "      <td></td>\n",
              "    </tr>\n",
              "    <tr>\n",
              "      <th>11</th>\n",
              "      <td>Geography</td>\n",
              "      <td>varchar(255)</td>\n",
              "      <td>YES</td>\n",
              "      <td></td>\n",
              "      <td>None</td>\n",
              "      <td></td>\n",
              "    </tr>\n",
              "    <tr>\n",
              "      <th>12</th>\n",
              "      <td>HighSchool</td>\n",
              "      <td>varchar(255)</td>\n",
              "      <td>YES</td>\n",
              "      <td></td>\n",
              "      <td>None</td>\n",
              "      <td></td>\n",
              "    </tr>\n",
              "    <tr>\n",
              "      <th>13</th>\n",
              "      <td>HomeTown</td>\n",
              "      <td>varchar(255)</td>\n",
              "      <td>YES</td>\n",
              "      <td></td>\n",
              "      <td>None</td>\n",
              "      <td></td>\n",
              "    </tr>\n",
              "    <tr>\n",
              "      <th>14</th>\n",
              "      <td>HomeState</td>\n",
              "      <td>varchar(255)</td>\n",
              "      <td>YES</td>\n",
              "      <td></td>\n",
              "      <td>None</td>\n",
              "      <td></td>\n",
              "    </tr>\n",
              "    <tr>\n",
              "      <th>15</th>\n",
              "      <td>Residence</td>\n",
              "      <td>varchar(255)</td>\n",
              "      <td>YES</td>\n",
              "      <td></td>\n",
              "      <td>None</td>\n",
              "      <td></td>\n",
              "    </tr>\n",
              "    <tr>\n",
              "      <th>16</th>\n",
              "      <td>CurrentAddress</td>\n",
              "      <td>varchar(255)</td>\n",
              "      <td>YES</td>\n",
              "      <td></td>\n",
              "      <td>None</td>\n",
              "      <td></td>\n",
              "    </tr>\n",
              "    <tr>\n",
              "      <th>17</th>\n",
              "      <td>CurrentTown</td>\n",
              "      <td>varchar(255)</td>\n",
              "      <td>YES</td>\n",
              "      <td></td>\n",
              "      <td>None</td>\n",
              "      <td></td>\n",
              "    </tr>\n",
              "    <tr>\n",
              "      <th>18</th>\n",
              "      <td>CurrentState</td>\n",
              "      <td>varchar(255)</td>\n",
              "      <td>YES</td>\n",
              "      <td></td>\n",
              "      <td>None</td>\n",
              "      <td></td>\n",
              "    </tr>\n",
              "  </tbody>\n",
              "</table>\n",
              "</div>"
            ],
            "text/plain": [
              "             Field          Type Null  Key Default Extra\n",
              "0        ProfileID       int(11)   NO  PRI    None      \n",
              "1             Name  varchar(255)  YES         None      \n",
              "2      MemberSince      datetime  YES         None      \n",
              "3       LastUpdate      datetime  YES         None      \n",
              "4           School  varchar(255)  YES         None      \n",
              "5           Status  varchar(255)  YES         None      \n",
              "6              Sex  varchar(255)  YES         None      \n",
              "7         Birthday      datetime  YES         None      \n",
              "8              AIM  varchar(255)  YES         None      \n",
              "9          Website  varchar(255)  YES         None      \n",
              "10  PoliticalViews  varchar(255)  YES         None      \n",
              "11       Geography  varchar(255)  YES         None      \n",
              "12      HighSchool  varchar(255)  YES         None      \n",
              "13        HomeTown  varchar(255)  YES         None      \n",
              "14       HomeState  varchar(255)  YES         None      \n",
              "15       Residence  varchar(255)  YES         None      \n",
              "16  CurrentAddress  varchar(255)  YES         None      \n",
              "17     CurrentTown  varchar(255)  YES         None      \n",
              "18    CurrentState  varchar(255)  YES         None      "
            ]
          },
          "metadata": {
            "tags": []
          },
          "execution_count": 17
        }
      ]
    },
    {
      "cell_type": "code",
      "metadata": {
        "id": "JRcN57MmakQB"
      },
      "source": [
        "polviews_by_gender = '''\n",
        "SELECT Sex,  PoliticalViews, COUNT(*) AS cnt \n",
        "FROM Profiles \n",
        "WHERE Sex IS NOT NULL AND PoliticalViews IS NOT NULL \n",
        "GROUP BY Sex, PoliticalViews  \n",
        "ORDER BY  PoliticalViews, Sex\n",
        "'''\n"
      ],
      "execution_count": 18,
      "outputs": []
    },
    {
      "cell_type": "markdown",
      "metadata": {
        "id": "isd-DGvnakQC"
      },
      "source": [
        "And let's get the dataframe:"
      ]
    },
    {
      "cell_type": "code",
      "metadata": {
        "id": "qI8qLeOnakQD",
        "colab": {
          "base_uri": "https://localhost:8080/",
          "height": 551
        },
        "outputId": "8c183384-7008-4b26-c3ff-8993cab87e08"
      },
      "source": [
        "df = pd.read_sql(polviews_by_gender, con=engine_fb)\n",
        "df"
      ],
      "execution_count": 19,
      "outputs": [
        {
          "output_type": "execute_result",
          "data": {
            "text/html": [
              "<div>\n",
              "<style scoped>\n",
              "    .dataframe tbody tr th:only-of-type {\n",
              "        vertical-align: middle;\n",
              "    }\n",
              "\n",
              "    .dataframe tbody tr th {\n",
              "        vertical-align: top;\n",
              "    }\n",
              "\n",
              "    .dataframe thead th {\n",
              "        text-align: right;\n",
              "    }\n",
              "</style>\n",
              "<table border=\"1\" class=\"dataframe\">\n",
              "  <thead>\n",
              "    <tr style=\"text-align: right;\">\n",
              "      <th></th>\n",
              "      <th>Sex</th>\n",
              "      <th>PoliticalViews</th>\n",
              "      <th>cnt</th>\n",
              "    </tr>\n",
              "  </thead>\n",
              "  <tbody>\n",
              "    <tr>\n",
              "      <th>0</th>\n",
              "      <td>Female</td>\n",
              "      <td>Apathetic</td>\n",
              "      <td>309</td>\n",
              "    </tr>\n",
              "    <tr>\n",
              "      <th>1</th>\n",
              "      <td>Male</td>\n",
              "      <td>Apathetic</td>\n",
              "      <td>462</td>\n",
              "    </tr>\n",
              "    <tr>\n",
              "      <th>2</th>\n",
              "      <td>Female</td>\n",
              "      <td>Conservative</td>\n",
              "      <td>428</td>\n",
              "    </tr>\n",
              "    <tr>\n",
              "      <th>3</th>\n",
              "      <td>Male</td>\n",
              "      <td>Conservative</td>\n",
              "      <td>474</td>\n",
              "    </tr>\n",
              "    <tr>\n",
              "      <th>4</th>\n",
              "      <td>Female</td>\n",
              "      <td>Liberal</td>\n",
              "      <td>4054</td>\n",
              "    </tr>\n",
              "    <tr>\n",
              "      <th>5</th>\n",
              "      <td>Male</td>\n",
              "      <td>Liberal</td>\n",
              "      <td>2196</td>\n",
              "    </tr>\n",
              "    <tr>\n",
              "      <th>6</th>\n",
              "      <td>Female</td>\n",
              "      <td>Libertarian</td>\n",
              "      <td>113</td>\n",
              "    </tr>\n",
              "    <tr>\n",
              "      <th>7</th>\n",
              "      <td>Male</td>\n",
              "      <td>Libertarian</td>\n",
              "      <td>196</td>\n",
              "    </tr>\n",
              "    <tr>\n",
              "      <th>8</th>\n",
              "      <td>Female</td>\n",
              "      <td>Moderate</td>\n",
              "      <td>1444</td>\n",
              "    </tr>\n",
              "    <tr>\n",
              "      <th>9</th>\n",
              "      <td>Male</td>\n",
              "      <td>Moderate</td>\n",
              "      <td>1379</td>\n",
              "    </tr>\n",
              "    <tr>\n",
              "      <th>10</th>\n",
              "      <td>Female</td>\n",
              "      <td>Other</td>\n",
              "      <td>280</td>\n",
              "    </tr>\n",
              "    <tr>\n",
              "      <th>11</th>\n",
              "      <td>Male</td>\n",
              "      <td>Other</td>\n",
              "      <td>482</td>\n",
              "    </tr>\n",
              "    <tr>\n",
              "      <th>12</th>\n",
              "      <td>Female</td>\n",
              "      <td>Very Conservative</td>\n",
              "      <td>38</td>\n",
              "    </tr>\n",
              "    <tr>\n",
              "      <th>13</th>\n",
              "      <td>Male</td>\n",
              "      <td>Very Conservative</td>\n",
              "      <td>107</td>\n",
              "    </tr>\n",
              "    <tr>\n",
              "      <th>14</th>\n",
              "      <td>Female</td>\n",
              "      <td>Very Liberal</td>\n",
              "      <td>1362</td>\n",
              "    </tr>\n",
              "    <tr>\n",
              "      <th>15</th>\n",
              "      <td>Male</td>\n",
              "      <td>Very Liberal</td>\n",
              "      <td>813</td>\n",
              "    </tr>\n",
              "  </tbody>\n",
              "</table>\n",
              "</div>"
            ],
            "text/plain": [
              "       Sex     PoliticalViews   cnt\n",
              "0   Female          Apathetic   309\n",
              "1     Male          Apathetic   462\n",
              "2   Female       Conservative   428\n",
              "3     Male       Conservative   474\n",
              "4   Female            Liberal  4054\n",
              "5     Male            Liberal  2196\n",
              "6   Female        Libertarian   113\n",
              "7     Male        Libertarian   196\n",
              "8   Female           Moderate  1444\n",
              "9     Male           Moderate  1379\n",
              "10  Female              Other   280\n",
              "11    Male              Other   482\n",
              "12  Female  Very Conservative    38\n",
              "13    Male  Very Conservative   107\n",
              "14  Female       Very Liberal  1362\n",
              "15    Male       Very Liberal   813"
            ]
          },
          "metadata": {
            "tags": []
          },
          "execution_count": 19
        }
      ]
    },
    {
      "cell_type": "code",
      "metadata": {
        "id": "rzMU13FKakQD",
        "colab": {
          "base_uri": "https://localhost:8080/",
          "height": 344
        },
        "outputId": "926d7dca-fce5-4218-c14c-3994ca636f15"
      },
      "source": [
        "# Let's plot this!\n",
        "# Bleh, this is really ugly...\n",
        "# Remember that the index of the dataframe becomes the default x-axis\n",
        "df.plot(kind='bar')"
      ],
      "execution_count": 20,
      "outputs": [
        {
          "output_type": "execute_result",
          "data": {
            "text/plain": [
              "<matplotlib.axes._subplots.AxesSubplot at 0x7f1689ff65d0>"
            ]
          },
          "metadata": {
            "tags": []
          },
          "execution_count": 20
        },
        {
          "output_type": "display_data",
          "data": {
            "image/png": "[encoded data removed]",
            "text/plain": [
              "<Figure size 1080x360 with 1 Axes>"
            ]
          },
          "metadata": {
            "tags": []
          }
        }
      ]
    },
    {
      "cell_type": "code",
      "metadata": {
        "id": "GRwo5NUIakQE",
        "colab": {
          "base_uri": "https://localhost:8080/",
          "height": 332
        },
        "outputId": "ed8f906a-e878-4e21-8fef-346ffaa45538"
      },
      "source": [
        "# Pivot, baby!\n",
        "# Now the index contains the Political Views, which will be our x-axis\n",
        "dfp = df.pivot_table(index='PoliticalViews', columns='Sex', values='cnt')\n",
        "dfp"
      ],
      "execution_count": 21,
      "outputs": [
        {
          "output_type": "execute_result",
          "data": {
            "text/html": [
              "<div>\n",
              "<style scoped>\n",
              "    .dataframe tbody tr th:only-of-type {\n",
              "        vertical-align: middle;\n",
              "    }\n",
              "\n",
              "    .dataframe tbody tr th {\n",
              "        vertical-align: top;\n",
              "    }\n",
              "\n",
              "    .dataframe thead th {\n",
              "        text-align: right;\n",
              "    }\n",
              "</style>\n",
              "<table border=\"1\" class=\"dataframe\">\n",
              "  <thead>\n",
              "    <tr style=\"text-align: right;\">\n",
              "      <th>Sex</th>\n",
              "      <th>Female</th>\n",
              "      <th>Male</th>\n",
              "    </tr>\n",
              "    <tr>\n",
              "      <th>PoliticalViews</th>\n",
              "      <th></th>\n",
              "      <th></th>\n",
              "    </tr>\n",
              "  </thead>\n",
              "  <tbody>\n",
              "    <tr>\n",
              "      <th>Apathetic</th>\n",
              "      <td>309</td>\n",
              "      <td>462</td>\n",
              "    </tr>\n",
              "    <tr>\n",
              "      <th>Conservative</th>\n",
              "      <td>428</td>\n",
              "      <td>474</td>\n",
              "    </tr>\n",
              "    <tr>\n",
              "      <th>Liberal</th>\n",
              "      <td>4054</td>\n",
              "      <td>2196</td>\n",
              "    </tr>\n",
              "    <tr>\n",
              "      <th>Libertarian</th>\n",
              "      <td>113</td>\n",
              "      <td>196</td>\n",
              "    </tr>\n",
              "    <tr>\n",
              "      <th>Moderate</th>\n",
              "      <td>1444</td>\n",
              "      <td>1379</td>\n",
              "    </tr>\n",
              "    <tr>\n",
              "      <th>Other</th>\n",
              "      <td>280</td>\n",
              "      <td>482</td>\n",
              "    </tr>\n",
              "    <tr>\n",
              "      <th>Very Conservative</th>\n",
              "      <td>38</td>\n",
              "      <td>107</td>\n",
              "    </tr>\n",
              "    <tr>\n",
              "      <th>Very Liberal</th>\n",
              "      <td>1362</td>\n",
              "      <td>813</td>\n",
              "    </tr>\n",
              "  </tbody>\n",
              "</table>\n",
              "</div>"
            ],
            "text/plain": [
              "Sex                Female  Male\n",
              "PoliticalViews                 \n",
              "Apathetic             309   462\n",
              "Conservative          428   474\n",
              "Liberal              4054  2196\n",
              "Libertarian           113   196\n",
              "Moderate             1444  1379\n",
              "Other                 280   482\n",
              "Very Conservative      38   107\n",
              "Very Liberal         1362   813"
            ]
          },
          "metadata": {
            "tags": []
          },
          "execution_count": 21
        }
      ]
    },
    {
      "cell_type": "code",
      "metadata": {
        "id": "3661vA33akQE",
        "colab": {
          "base_uri": "https://localhost:8080/",
          "height": 453
        },
        "outputId": "40eeeb00-7c44-4f4f-9a1f-f2695b07af4e"
      },
      "source": [
        "dfp.plot(kind='bar')"
      ],
      "execution_count": 22,
      "outputs": [
        {
          "output_type": "execute_result",
          "data": {
            "text/plain": [
              "<matplotlib.axes._subplots.AxesSubplot at 0x7f1689c40910>"
            ]
          },
          "metadata": {
            "tags": []
          },
          "execution_count": 22
        },
        {
          "output_type": "display_data",
          "data": {
            "image/png": "[encoded data removed]",
            "text/plain": [
              "<Figure size 1080x360 with 1 Axes>"
            ]
          },
          "metadata": {
            "tags": []
          }
        }
      ]
    },
    {
      "cell_type": "code",
      "metadata": {
        "id": "dfgTc-bdakQE",
        "colab": {
          "base_uri": "https://localhost:8080/",
          "height": 332
        },
        "outputId": "b3d2488d-e54f-49eb-8151-d4373c8d9d2e"
      },
      "source": [
        "# Let's normalize the columns, as we have more females than males, and it seems that there are always more women\n",
        "dfp = dfp / dfp.sum()\n",
        "dfp"
      ],
      "execution_count": 23,
      "outputs": [
        {
          "output_type": "execute_result",
          "data": {
            "text/html": [
              "<div>\n",
              "<style scoped>\n",
              "    .dataframe tbody tr th:only-of-type {\n",
              "        vertical-align: middle;\n",
              "    }\n",
              "\n",
              "    .dataframe tbody tr th {\n",
              "        vertical-align: top;\n",
              "    }\n",
              "\n",
              "    .dataframe thead th {\n",
              "        text-align: right;\n",
              "    }\n",
              "</style>\n",
              "<table border=\"1\" class=\"dataframe\">\n",
              "  <thead>\n",
              "    <tr style=\"text-align: right;\">\n",
              "      <th>Sex</th>\n",
              "      <th>Female</th>\n",
              "      <th>Male</th>\n",
              "    </tr>\n",
              "    <tr>\n",
              "      <th>PoliticalViews</th>\n",
              "      <th></th>\n",
              "      <th></th>\n",
              "    </tr>\n",
              "  </thead>\n",
              "  <tbody>\n",
              "    <tr>\n",
              "      <th>Apathetic</th>\n",
              "      <td>0.038490</td>\n",
              "      <td>0.075626</td>\n",
              "    </tr>\n",
              "    <tr>\n",
              "      <th>Conservative</th>\n",
              "      <td>0.053313</td>\n",
              "      <td>0.077590</td>\n",
              "    </tr>\n",
              "    <tr>\n",
              "      <th>Liberal</th>\n",
              "      <td>0.504983</td>\n",
              "      <td>0.359470</td>\n",
              "    </tr>\n",
              "    <tr>\n",
              "      <th>Libertarian</th>\n",
              "      <td>0.014076</td>\n",
              "      <td>0.032084</td>\n",
              "    </tr>\n",
              "    <tr>\n",
              "      <th>Moderate</th>\n",
              "      <td>0.179870</td>\n",
              "      <td>0.225733</td>\n",
              "    </tr>\n",
              "    <tr>\n",
              "      <th>Other</th>\n",
              "      <td>0.034878</td>\n",
              "      <td>0.078900</td>\n",
              "    </tr>\n",
              "    <tr>\n",
              "      <th>Very Conservative</th>\n",
              "      <td>0.004733</td>\n",
              "      <td>0.017515</td>\n",
              "    </tr>\n",
              "    <tr>\n",
              "      <th>Very Liberal</th>\n",
              "      <td>0.169656</td>\n",
              "      <td>0.133082</td>\n",
              "    </tr>\n",
              "  </tbody>\n",
              "</table>\n",
              "</div>"
            ],
            "text/plain": [
              "Sex                  Female      Male\n",
              "PoliticalViews                       \n",
              "Apathetic          0.038490  0.075626\n",
              "Conservative       0.053313  0.077590\n",
              "Liberal            0.504983  0.359470\n",
              "Libertarian        0.014076  0.032084\n",
              "Moderate           0.179870  0.225733\n",
              "Other              0.034878  0.078900\n",
              "Very Conservative  0.004733  0.017515\n",
              "Very Liberal       0.169656  0.133082"
            ]
          },
          "metadata": {
            "tags": []
          },
          "execution_count": 23
        }
      ]
    },
    {
      "cell_type": "code",
      "metadata": {
        "id": "TKsY9GrOakQF",
        "colab": {
          "base_uri": "https://localhost:8080/",
          "height": 453
        },
        "outputId": "828298b8-38df-45cc-b696-146f29681f83"
      },
      "source": [
        "dfp.plot(kind='bar')"
      ],
      "execution_count": 24,
      "outputs": [
        {
          "output_type": "execute_result",
          "data": {
            "text/plain": [
              "<matplotlib.axes._subplots.AxesSubplot at 0x7f1689b75ad0>"
            ]
          },
          "metadata": {
            "tags": []
          },
          "execution_count": 24
        },
        {
          "output_type": "display_data",
          "data": {
            "image/png": "[encoded data removed]",
            "text/plain": [
              "<Figure size 1080x360 with 1 Axes>"
            ]
          },
          "metadata": {
            "tags": []
          }
        }
      ]
    },
    {
      "cell_type": "code",
      "metadata": {
        "id": "-clx_QHFakQG",
        "colab": {
          "base_uri": "https://localhost:8080/",
          "height": 332
        },
        "outputId": "9015384d-391d-49c1-a324-a5462ceeacc6"
      },
      "source": [
        "# OK, now let's try to re-order the list of results according to the logical structure\n",
        "neworder = ['Very Liberal', 'Liberal', 'Moderate', 'Conservative', 'Very Conservative', 'Libertarian', 'Apathetic', 'Other']\n",
        "newindex = sorted(dfp.index, key=lambda x: neworder.index(x))\n",
        "dfp = dfp.reindex(newindex)\n",
        "dfp"
      ],
      "execution_count": 25,
      "outputs": [
        {
          "output_type": "execute_result",
          "data": {
            "text/html": [
              "<div>\n",
              "<style scoped>\n",
              "    .dataframe tbody tr th:only-of-type {\n",
              "        vertical-align: middle;\n",
              "    }\n",
              "\n",
              "    .dataframe tbody tr th {\n",
              "        vertical-align: top;\n",
              "    }\n",
              "\n",
              "    .dataframe thead th {\n",
              "        text-align: right;\n",
              "    }\n",
              "</style>\n",
              "<table border=\"1\" class=\"dataframe\">\n",
              "  <thead>\n",
              "    <tr style=\"text-align: right;\">\n",
              "      <th>Sex</th>\n",
              "      <th>Female</th>\n",
              "      <th>Male</th>\n",
              "    </tr>\n",
              "    <tr>\n",
              "      <th>PoliticalViews</th>\n",
              "      <th></th>\n",
              "      <th></th>\n",
              "    </tr>\n",
              "  </thead>\n",
              "  <tbody>\n",
              "    <tr>\n",
              "      <th>Very Liberal</th>\n",
              "      <td>0.169656</td>\n",
              "      <td>0.133082</td>\n",
              "    </tr>\n",
              "    <tr>\n",
              "      <th>Liberal</th>\n",
              "      <td>0.504983</td>\n",
              "      <td>0.359470</td>\n",
              "    </tr>\n",
              "    <tr>\n",
              "      <th>Moderate</th>\n",
              "      <td>0.179870</td>\n",
              "      <td>0.225733</td>\n",
              "    </tr>\n",
              "    <tr>\n",
              "      <th>Conservative</th>\n",
              "      <td>0.053313</td>\n",
              "      <td>0.077590</td>\n",
              "    </tr>\n",
              "    <tr>\n",
              "      <th>Very Conservative</th>\n",
              "      <td>0.004733</td>\n",
              "      <td>0.017515</td>\n",
              "    </tr>\n",
              "    <tr>\n",
              "      <th>Libertarian</th>\n",
              "      <td>0.014076</td>\n",
              "      <td>0.032084</td>\n",
              "    </tr>\n",
              "    <tr>\n",
              "      <th>Apathetic</th>\n",
              "      <td>0.038490</td>\n",
              "      <td>0.075626</td>\n",
              "    </tr>\n",
              "    <tr>\n",
              "      <th>Other</th>\n",
              "      <td>0.034878</td>\n",
              "      <td>0.078900</td>\n",
              "    </tr>\n",
              "  </tbody>\n",
              "</table>\n",
              "</div>"
            ],
            "text/plain": [
              "Sex                  Female      Male\n",
              "PoliticalViews                       \n",
              "Very Liberal       0.169656  0.133082\n",
              "Liberal            0.504983  0.359470\n",
              "Moderate           0.179870  0.225733\n",
              "Conservative       0.053313  0.077590\n",
              "Very Conservative  0.004733  0.017515\n",
              "Libertarian        0.014076  0.032084\n",
              "Apathetic          0.038490  0.075626\n",
              "Other              0.034878  0.078900"
            ]
          },
          "metadata": {
            "tags": []
          },
          "execution_count": 25
        }
      ]
    },
    {
      "cell_type": "code",
      "metadata": {
        "id": "igtPNLymakQG",
        "colab": {
          "base_uri": "https://localhost:8080/",
          "height": 453
        },
        "outputId": "5dd64788-b413-4930-e8a4-b51d4a8c7631"
      },
      "source": [
        "dfp.plot(kind='bar')"
      ],
      "execution_count": 26,
      "outputs": [
        {
          "output_type": "execute_result",
          "data": {
            "text/plain": [
              "<matplotlib.axes._subplots.AxesSubplot at 0x7f1689b07950>"
            ]
          },
          "metadata": {
            "tags": []
          },
          "execution_count": 26
        },
        {
          "output_type": "display_data",
          "data": {
            "image/png": "[encoded data removed]",
            "text/plain": [
              "<Figure size 1080x360 with 1 Axes>"
            ]
          },
          "metadata": {
            "tags": []
          }
        }
      ]
    },
    {
      "cell_type": "markdown",
      "metadata": {
        "id": "Sofjqk1QakQG"
      },
      "source": [
        "### Facebook, Favorite Books, and Political views"
      ]
    },
    {
      "cell_type": "code",
      "metadata": {
        "id": "4bexn3RuakQH",
        "colab": {
          "base_uri": "https://localhost:8080/",
          "height": 112
        },
        "outputId": "18e26649-1cc0-49dc-cd50-2dc61fdb90a8"
      },
      "source": [
        "Fbooks= '''\n",
        "describe FavoriteBooks\n",
        "'''\n",
        "df_fbooks = pd.read_sql(Fbooks, con=engine_fb)\n",
        "df_fbooks.head(10)"
      ],
      "execution_count": 27,
      "outputs": [
        {
          "output_type": "execute_result",
          "data": {
            "text/html": [
              "<div>\n",
              "<style scoped>\n",
              "    .dataframe tbody tr th:only-of-type {\n",
              "        vertical-align: middle;\n",
              "    }\n",
              "\n",
              "    .dataframe tbody tr th {\n",
              "        vertical-align: top;\n",
              "    }\n",
              "\n",
              "    .dataframe thead th {\n",
              "        text-align: right;\n",
              "    }\n",
              "</style>\n",
              "<table border=\"1\" class=\"dataframe\">\n",
              "  <thead>\n",
              "    <tr style=\"text-align: right;\">\n",
              "      <th></th>\n",
              "      <th>Field</th>\n",
              "      <th>Type</th>\n",
              "      <th>Null</th>\n",
              "      <th>Key</th>\n",
              "      <th>Default</th>\n",
              "      <th>Extra</th>\n",
              "    </tr>\n",
              "  </thead>\n",
              "  <tbody>\n",
              "    <tr>\n",
              "      <th>0</th>\n",
              "      <td>ProfileID</td>\n",
              "      <td>int(11)</td>\n",
              "      <td>NO</td>\n",
              "      <td>MUL</td>\n",
              "      <td>None</td>\n",
              "      <td></td>\n",
              "    </tr>\n",
              "    <tr>\n",
              "      <th>1</th>\n",
              "      <td>Book</td>\n",
              "      <td>varchar(255)</td>\n",
              "      <td>YES</td>\n",
              "      <td></td>\n",
              "      <td>None</td>\n",
              "      <td></td>\n",
              "    </tr>\n",
              "  </tbody>\n",
              "</table>\n",
              "</div>"
            ],
            "text/plain": [
              "       Field          Type Null  Key Default Extra\n",
              "0  ProfileID       int(11)   NO  MUL    None      \n",
              "1       Book  varchar(255)  YES         None      "
            ]
          },
          "metadata": {
            "tags": []
          },
          "execution_count": 27
        }
      ]
    },
    {
      "cell_type": "code",
      "metadata": {
        "id": "nN2qIi-EakQH"
      },
      "source": [
        "books = '''\n",
        "SELECT F.Book, P.PoliticalViews , COUNT(*) AS cnt \n",
        "FROM Profiles P JOIN FavoriteBooks F ON F.ProfileID = P.ProfileId  \n",
        "WHERE PoliticalViews IS NOT NULL AND F.Book IS NOT NULL \n",
        "      AND (PoliticalViews = 'Liberal' OR PoliticalViews = 'Conservative')\n",
        "GROUP BY F.Book, P.PoliticalViews\n",
        "'''"
      ],
      "execution_count": 28,
      "outputs": []
    },
    {
      "cell_type": "code",
      "metadata": {
        "id": "xLBvreu_akQH",
        "colab": {
          "base_uri": "https://localhost:8080/",
          "height": 363
        },
        "outputId": "baf72cd3-f618-4953-9782-23985e3904b0"
      },
      "source": [
        "df_books = pd.read_sql(books, con=engine_fb)\n",
        "df_books.head(10)"
      ],
      "execution_count": 29,
      "outputs": [
        {
          "output_type": "execute_result",
          "data": {
            "text/html": [
              "<div>\n",
              "<style scoped>\n",
              "    .dataframe tbody tr th:only-of-type {\n",
              "        vertical-align: middle;\n",
              "    }\n",
              "\n",
              "    .dataframe tbody tr th {\n",
              "        vertical-align: top;\n",
              "    }\n",
              "\n",
              "    .dataframe thead th {\n",
              "        text-align: right;\n",
              "    }\n",
              "</style>\n",
              "<table border=\"1\" class=\"dataframe\">\n",
              "  <thead>\n",
              "    <tr style=\"text-align: right;\">\n",
              "      <th></th>\n",
              "      <th>Book</th>\n",
              "      <th>PoliticalViews</th>\n",
              "      <th>cnt</th>\n",
              "    </tr>\n",
              "  </thead>\n",
              "  <tbody>\n",
              "    <tr>\n",
              "      <th>0</th>\n",
              "      <td>Mansfield Park</td>\n",
              "      <td>Conservative</td>\n",
              "      <td>2</td>\n",
              "    </tr>\n",
              "    <tr>\n",
              "      <th>1</th>\n",
              "      <td>Memoirs Of A Geisha</td>\n",
              "      <td>Conservative</td>\n",
              "      <td>17</td>\n",
              "    </tr>\n",
              "    <tr>\n",
              "      <th>2</th>\n",
              "      <td>Harry Potter All</td>\n",
              "      <td>Conservative</td>\n",
              "      <td>1</td>\n",
              "    </tr>\n",
              "    <tr>\n",
              "      <th>3</th>\n",
              "      <td>A Gesture Life</td>\n",
              "      <td>Conservative</td>\n",
              "      <td>1</td>\n",
              "    </tr>\n",
              "    <tr>\n",
              "      <th>4</th>\n",
              "      <td>Queen Of Camelot</td>\n",
              "      <td>Conservative</td>\n",
              "      <td>1</td>\n",
              "    </tr>\n",
              "    <tr>\n",
              "      <th>5</th>\n",
              "      <td>Middlesex</td>\n",
              "      <td>Conservative</td>\n",
              "      <td>2</td>\n",
              "    </tr>\n",
              "    <tr>\n",
              "      <th>6</th>\n",
              "      <td>Cat S Cradle</td>\n",
              "      <td>Conservative</td>\n",
              "      <td>6</td>\n",
              "    </tr>\n",
              "    <tr>\n",
              "      <th>7</th>\n",
              "      <td>Diary</td>\n",
              "      <td>Conservative</td>\n",
              "      <td>2</td>\n",
              "    </tr>\n",
              "    <tr>\n",
              "      <th>8</th>\n",
              "      <td>The Bible</td>\n",
              "      <td>Conservative</td>\n",
              "      <td>21</td>\n",
              "    </tr>\n",
              "    <tr>\n",
              "      <th>9</th>\n",
              "      <td>And Online Blogs</td>\n",
              "      <td>Conservative</td>\n",
              "      <td>1</td>\n",
              "    </tr>\n",
              "  </tbody>\n",
              "</table>\n",
              "</div>"
            ],
            "text/plain": [
              "                  Book PoliticalViews  cnt\n",
              "0       Mansfield Park   Conservative    2\n",
              "1  Memoirs Of A Geisha   Conservative   17\n",
              "2     Harry Potter All   Conservative    1\n",
              "3       A Gesture Life   Conservative    1\n",
              "4     Queen Of Camelot   Conservative    1\n",
              "5            Middlesex   Conservative    2\n",
              "6         Cat S Cradle   Conservative    6\n",
              "7                Diary   Conservative    2\n",
              "8            The Bible   Conservative   21\n",
              "9     And Online Blogs   Conservative    1"
            ]
          },
          "metadata": {
            "tags": []
          },
          "execution_count": 29
        }
      ]
    },
    {
      "cell_type": "code",
      "metadata": {
        "id": "kowLL6z_akQI",
        "colab": {
          "base_uri": "https://localhost:8080/",
          "height": 394
        },
        "outputId": "33fe2ea1-ab28-47fe-e1a3-8f1e8ce9cfa8"
      },
      "source": [
        "dfp = df_books.pivot_table(index='Book', columns='PoliticalViews', values='cnt')\n",
        "dfp.head(10)"
      ],
      "execution_count": 30,
      "outputs": [
        {
          "output_type": "execute_result",
          "data": {
            "text/html": [
              "<div>\n",
              "<style scoped>\n",
              "    .dataframe tbody tr th:only-of-type {\n",
              "        vertical-align: middle;\n",
              "    }\n",
              "\n",
              "    .dataframe tbody tr th {\n",
              "        vertical-align: top;\n",
              "    }\n",
              "\n",
              "    .dataframe thead th {\n",
              "        text-align: right;\n",
              "    }\n",
              "</style>\n",
              "<table border=\"1\" class=\"dataframe\">\n",
              "  <thead>\n",
              "    <tr style=\"text-align: right;\">\n",
              "      <th>PoliticalViews</th>\n",
              "      <th>Conservative</th>\n",
              "      <th>Liberal</th>\n",
              "    </tr>\n",
              "    <tr>\n",
              "      <th>Book</th>\n",
              "      <th></th>\n",
              "      <th></th>\n",
              "    </tr>\n",
              "  </thead>\n",
              "  <tbody>\n",
              "    <tr>\n",
              "      <th>000 In College Loans And A Meaningless Diploma Quot</th>\n",
              "      <td>NaN</td>\n",
              "      <td>1.0</td>\n",
              "    </tr>\n",
              "    <tr>\n",
              "      <th>000 Leagues Under The Sea</th>\n",
              "      <td>NaN</td>\n",
              "      <td>2.0</td>\n",
              "    </tr>\n",
              "    <tr>\n",
              "      <th>000 Things To Be Happy About</th>\n",
              "      <td>NaN</td>\n",
              "      <td>1.0</td>\n",
              "    </tr>\n",
              "    <tr>\n",
              "      <th>1</th>\n",
              "      <td>NaN</td>\n",
              "      <td>1.0</td>\n",
              "    </tr>\n",
              "    <tr>\n",
              "      <th>1 Bachelorette</th>\n",
              "      <td>NaN</td>\n",
              "      <td>1.0</td>\n",
              "    </tr>\n",
              "    <tr>\n",
              "      <th>10 Otherland 11 Wheel Of Time Series Ummm There Are More</th>\n",
              "      <td>NaN</td>\n",
              "      <td>1.0</td>\n",
              "    </tr>\n",
              "    <tr>\n",
              "      <th>10 Thousand Sorrows</th>\n",
              "      <td>NaN</td>\n",
              "      <td>1.0</td>\n",
              "    </tr>\n",
              "    <tr>\n",
              "      <th>100 Anos De Soledad</th>\n",
              "      <td>NaN</td>\n",
              "      <td>1.0</td>\n",
              "    </tr>\n",
              "    <tr>\n",
              "      <th>100 People Who Are Screwing Up America</th>\n",
              "      <td>1.0</td>\n",
              "      <td>NaN</td>\n",
              "    </tr>\n",
              "    <tr>\n",
              "      <th>100 Strokes Of The Brush Before Bed</th>\n",
              "      <td>1.0</td>\n",
              "      <td>2.0</td>\n",
              "    </tr>\n",
              "  </tbody>\n",
              "</table>\n",
              "</div>"
            ],
            "text/plain": [
              "PoliticalViews                                      Conservative  Liberal\n",
              "Book                                                                     \n",
              "000 In College Loans And A Meaningless Diploma ...           NaN      1.0\n",
              "000 Leagues Under The Sea                                    NaN      2.0\n",
              "000 Things To Be Happy About                                 NaN      1.0\n",
              "1                                                            NaN      1.0\n",
              "1 Bachelorette                                               NaN      1.0\n",
              "10 Otherland 11 Wheel Of Time Series Ummm There...           NaN      1.0\n",
              "10 Thousand Sorrows                                          NaN      1.0\n",
              "100 Anos De Soledad                                          NaN      1.0\n",
              "100 People Who Are Screwing Up America                       1.0      NaN\n",
              "100 Strokes Of The Brush Before Bed                          1.0      2.0"
            ]
          },
          "metadata": {
            "tags": []
          },
          "execution_count": 30
        }
      ]
    },
    {
      "cell_type": "code",
      "metadata": {
        "id": "0yJyEVb1akQI",
        "colab": {
          "base_uri": "https://localhost:8080/"
        },
        "outputId": "fa254458-b7a8-431d-953e-9a5b3ce1b7fe"
      },
      "source": [
        "# If we compute the sums, we will see that we have very different \n",
        "# number of likes per political view, due to imbalance in the population\n",
        "dfp.sum()"
      ],
      "execution_count": 31,
      "outputs": [
        {
          "output_type": "execute_result",
          "data": {
            "text/plain": [
              "PoliticalViews\n",
              "Conservative     3318.0\n",
              "Liberal         31253.0\n",
              "dtype: float64"
            ]
          },
          "metadata": {
            "tags": []
          },
          "execution_count": 31
        }
      ]
    },
    {
      "cell_type": "code",
      "metadata": {
        "id": "LViAAWezakQI",
        "colab": {
          "base_uri": "https://localhost:8080/",
          "height": 708
        },
        "outputId": "e2f1a543-7cbb-40f6-8d03-f18d57a4dcae"
      },
      "source": [
        "# Normalize the values, so that each column sums up to 1.0\n",
        "dfp = dfp / dfp.sum()\n",
        "dfp.head(20)"
      ],
      "execution_count": 32,
      "outputs": [
        {
          "output_type": "execute_result",
          "data": {
            "text/html": [
              "<div>\n",
              "<style scoped>\n",
              "    .dataframe tbody tr th:only-of-type {\n",
              "        vertical-align: middle;\n",
              "    }\n",
              "\n",
              "    .dataframe tbody tr th {\n",
              "        vertical-align: top;\n",
              "    }\n",
              "\n",
              "    .dataframe thead th {\n",
              "        text-align: right;\n",
              "    }\n",
              "</style>\n",
              "<table border=\"1\" class=\"dataframe\">\n",
              "  <thead>\n",
              "    <tr style=\"text-align: right;\">\n",
              "      <th>PoliticalViews</th>\n",
              "      <th>Conservative</th>\n",
              "      <th>Liberal</th>\n",
              "    </tr>\n",
              "    <tr>\n",
              "      <th>Book</th>\n",
              "      <th></th>\n",
              "      <th></th>\n",
              "    </tr>\n",
              "  </thead>\n",
              "  <tbody>\n",
              "    <tr>\n",
              "      <th>000 In College Loans And A Meaningless Diploma Quot</th>\n",
              "      <td>NaN</td>\n",
              "      <td>0.000032</td>\n",
              "    </tr>\n",
              "    <tr>\n",
              "      <th>000 Leagues Under The Sea</th>\n",
              "      <td>NaN</td>\n",
              "      <td>0.000064</td>\n",
              "    </tr>\n",
              "    <tr>\n",
              "      <th>000 Things To Be Happy About</th>\n",
              "      <td>NaN</td>\n",
              "      <td>0.000032</td>\n",
              "    </tr>\n",
              "    <tr>\n",
              "      <th>1</th>\n",
              "      <td>NaN</td>\n",
              "      <td>0.000032</td>\n",
              "    </tr>\n",
              "    <tr>\n",
              "      <th>1 Bachelorette</th>\n",
              "      <td>NaN</td>\n",
              "      <td>0.000032</td>\n",
              "    </tr>\n",
              "    <tr>\n",
              "      <th>10 Otherland 11 Wheel Of Time Series Ummm There Are More</th>\n",
              "      <td>NaN</td>\n",
              "      <td>0.000032</td>\n",
              "    </tr>\n",
              "    <tr>\n",
              "      <th>10 Thousand Sorrows</th>\n",
              "      <td>NaN</td>\n",
              "      <td>0.000032</td>\n",
              "    </tr>\n",
              "    <tr>\n",
              "      <th>100 Anos De Soledad</th>\n",
              "      <td>NaN</td>\n",
              "      <td>0.000032</td>\n",
              "    </tr>\n",
              "    <tr>\n",
              "      <th>100 People Who Are Screwing Up America</th>\n",
              "      <td>0.000301</td>\n",
              "      <td>NaN</td>\n",
              "    </tr>\n",
              "    <tr>\n",
              "      <th>100 Strokes Of The Brush Before Bed</th>\n",
              "      <td>0.000301</td>\n",
              "      <td>0.000064</td>\n",
              "    </tr>\n",
              "    <tr>\n",
              "      <th>100 Years Of Solitude</th>\n",
              "      <td>0.000904</td>\n",
              "      <td>0.001760</td>\n",
              "    </tr>\n",
              "    <tr>\n",
              "      <th>100 Years Of Solitude And Anything Garcia Marquez</th>\n",
              "      <td>NaN</td>\n",
              "      <td>0.000032</td>\n",
              "    </tr>\n",
              "    <tr>\n",
              "      <th>100 Years Of Solitude Anything By Hemingway</th>\n",
              "      <td>NaN</td>\n",
              "      <td>0.000032</td>\n",
              "    </tr>\n",
              "    <tr>\n",
              "      <th>100 Years Of Solitude By Marquez</th>\n",
              "      <td>NaN</td>\n",
              "      <td>0.000032</td>\n",
              "    </tr>\n",
              "    <tr>\n",
              "      <th>100 Years Of Solitude Especially When Remedios The Beauty Is Lifted Into The Air While Drying Her Sheets</th>\n",
              "      <td>NaN</td>\n",
              "      <td>0.000032</td>\n",
              "    </tr>\n",
              "    <tr>\n",
              "      <th>100 Years Of Solitude For Now</th>\n",
              "      <td>NaN</td>\n",
              "      <td>0.000032</td>\n",
              "    </tr>\n",
              "    <tr>\n",
              "      <th>100 Years Of Solitude Garcia Marquez</th>\n",
              "      <td>NaN</td>\n",
              "      <td>0.000032</td>\n",
              "    </tr>\n",
              "    <tr>\n",
              "      <th>100 Years Of Solitutde</th>\n",
              "      <td>NaN</td>\n",
              "      <td>0.000032</td>\n",
              "    </tr>\n",
              "    <tr>\n",
              "      <th>100 Yrs Of Solitude</th>\n",
              "      <td>NaN</td>\n",
              "      <td>0.000032</td>\n",
              "    </tr>\n",
              "    <tr>\n",
              "      <th>1000 Crossword Puzzles</th>\n",
              "      <td>0.000301</td>\n",
              "      <td>NaN</td>\n",
              "    </tr>\n",
              "  </tbody>\n",
              "</table>\n",
              "</div>"
            ],
            "text/plain": [
              "PoliticalViews                                      Conservative   Liberal\n",
              "Book                                                                      \n",
              "000 In College Loans And A Meaningless Diploma ...           NaN  0.000032\n",
              "000 Leagues Under The Sea                                    NaN  0.000064\n",
              "000 Things To Be Happy About                                 NaN  0.000032\n",
              "1                                                            NaN  0.000032\n",
              "1 Bachelorette                                               NaN  0.000032\n",
              "10 Otherland 11 Wheel Of Time Series Ummm There...           NaN  0.000032\n",
              "10 Thousand Sorrows                                          NaN  0.000032\n",
              "100 Anos De Soledad                                          NaN  0.000032\n",
              "100 People Who Are Screwing Up America                  0.000301       NaN\n",
              "100 Strokes Of The Brush Before Bed                     0.000301  0.000064\n",
              "100 Years Of Solitude                                   0.000904  0.001760\n",
              "100 Years Of Solitude And Anything Garcia Marquez            NaN  0.000032\n",
              "100 Years Of Solitude Anything By Hemingway                  NaN  0.000032\n",
              "100 Years Of Solitude By Marquez                             NaN  0.000032\n",
              "100 Years Of Solitude Especially When Remedios ...           NaN  0.000032\n",
              "100 Years Of Solitude For Now                                NaN  0.000032\n",
              "100 Years Of Solitude Garcia Marquez                         NaN  0.000032\n",
              "100 Years Of Solitutde                                       NaN  0.000032\n",
              "100 Yrs Of Solitude                                          NaN  0.000032\n",
              "1000 Crossword Puzzles                                  0.000301       NaN"
            ]
          },
          "metadata": {
            "tags": []
          },
          "execution_count": 32
        }
      ]
    },
    {
      "cell_type": "code",
      "metadata": {
        "id": "ZetC8LdoakQI"
      },
      "source": [
        "dfp[\"Liberal_To_Conservative\"] = dfp[\"Liberal\"]  / dfp[\"Conservative\"] \n",
        "dfp[\"Conservative_To_Liberal\"] = dfp[\"Conservative\"]  / dfp[\"Liberal\"] "
      ],
      "execution_count": 33,
      "outputs": []
    },
    {
      "cell_type": "code",
      "metadata": {
        "id": "K5HqQQqTakQJ",
        "colab": {
          "base_uri": "https://localhost:8080/",
          "height": 394
        },
        "outputId": "b2ea213c-014d-4d1c-a3e9-ca466f585fee"
      },
      "source": [
        "liberal_books = dfp[[\"Liberal_To_Conservative\"]].sort_values(\"Liberal_To_Conservative\", ascending=False).head(10)\n",
        "liberal_books"
      ],
      "execution_count": 34,
      "outputs": [
        {
          "output_type": "execute_result",
          "data": {
            "text/html": [
              "<div>\n",
              "<style scoped>\n",
              "    .dataframe tbody tr th:only-of-type {\n",
              "        vertical-align: middle;\n",
              "    }\n",
              "\n",
              "    .dataframe tbody tr th {\n",
              "        vertical-align: top;\n",
              "    }\n",
              "\n",
              "    .dataframe thead th {\n",
              "        text-align: right;\n",
              "    }\n",
              "</style>\n",
              "<table border=\"1\" class=\"dataframe\">\n",
              "  <thead>\n",
              "    <tr style=\"text-align: right;\">\n",
              "      <th>PoliticalViews</th>\n",
              "      <th>Liberal_To_Conservative</th>\n",
              "    </tr>\n",
              "    <tr>\n",
              "      <th>Book</th>\n",
              "      <th></th>\n",
              "    </tr>\n",
              "  </thead>\n",
              "  <tbody>\n",
              "    <tr>\n",
              "      <th>The Kite Runner</th>\n",
              "      <td>6.582280</td>\n",
              "    </tr>\n",
              "    <tr>\n",
              "      <th>The Hours</th>\n",
              "      <td>6.157617</td>\n",
              "    </tr>\n",
              "    <tr>\n",
              "      <th>The Bluest Eye</th>\n",
              "      <td>5.414456</td>\n",
              "    </tr>\n",
              "    <tr>\n",
              "      <th>Love In The Time Of Cholera</th>\n",
              "      <td>5.308290</td>\n",
              "    </tr>\n",
              "    <tr>\n",
              "      <th>The Phantom Tollbooth</th>\n",
              "      <td>4.989793</td>\n",
              "    </tr>\n",
              "    <tr>\n",
              "      <th>The Unbearable Lightness Of Being</th>\n",
              "      <td>4.936710</td>\n",
              "    </tr>\n",
              "    <tr>\n",
              "      <th>Angels In America</th>\n",
              "      <td>4.883627</td>\n",
              "    </tr>\n",
              "    <tr>\n",
              "      <th>Middlesex</th>\n",
              "      <td>4.724378</td>\n",
              "    </tr>\n",
              "    <tr>\n",
              "      <th>Beloved</th>\n",
              "      <td>4.565130</td>\n",
              "    </tr>\n",
              "    <tr>\n",
              "      <th>The Namesake</th>\n",
              "      <td>4.352798</td>\n",
              "    </tr>\n",
              "  </tbody>\n",
              "</table>\n",
              "</div>"
            ],
            "text/plain": [
              "PoliticalViews                     Liberal_To_Conservative\n",
              "Book                                                      \n",
              "The Kite Runner                                   6.582280\n",
              "The Hours                                         6.157617\n",
              "The Bluest Eye                                    5.414456\n",
              "Love In The Time Of Cholera                       5.308290\n",
              "The Phantom Tollbooth                             4.989793\n",
              "The Unbearable Lightness Of Being                 4.936710\n",
              "Angels In America                                 4.883627\n",
              "Middlesex                                         4.724378\n",
              "Beloved                                           4.565130\n",
              "The Namesake                                      4.352798"
            ]
          },
          "metadata": {
            "tags": []
          },
          "execution_count": 34
        }
      ]
    },
    {
      "cell_type": "code",
      "metadata": {
        "scrolled": true,
        "id": "068q2S5wakQJ",
        "colab": {
          "base_uri": "https://localhost:8080/",
          "height": 394
        },
        "outputId": "568b6b96-a875-4819-d57e-fd7d5a1fc4e6"
      },
      "source": [
        "conservative_books = dfp[[\"Conservative_To_Liberal\"]].sort_values(\"Conservative_To_Liberal\", ascending=False).head(10)\n",
        "conservative_books"
      ],
      "execution_count": 35,
      "outputs": [
        {
          "output_type": "execute_result",
          "data": {
            "text/html": [
              "<div>\n",
              "<style scoped>\n",
              "    .dataframe tbody tr th:only-of-type {\n",
              "        vertical-align: middle;\n",
              "    }\n",
              "\n",
              "    .dataframe tbody tr th {\n",
              "        vertical-align: top;\n",
              "    }\n",
              "\n",
              "    .dataframe thead th {\n",
              "        text-align: right;\n",
              "    }\n",
              "</style>\n",
              "<table border=\"1\" class=\"dataframe\">\n",
              "  <thead>\n",
              "    <tr style=\"text-align: right;\">\n",
              "      <th>PoliticalViews</th>\n",
              "      <th>Conservative_To_Liberal</th>\n",
              "    </tr>\n",
              "    <tr>\n",
              "      <th>Book</th>\n",
              "      <th></th>\n",
              "    </tr>\n",
              "  </thead>\n",
              "  <tbody>\n",
              "    <tr>\n",
              "      <th>When Genius Failed</th>\n",
              "      <td>37.676914</td>\n",
              "    </tr>\n",
              "    <tr>\n",
              "      <th>Liar S Poker</th>\n",
              "      <td>33.909222</td>\n",
              "    </tr>\n",
              "    <tr>\n",
              "      <th>Exodus</th>\n",
              "      <td>18.838457</td>\n",
              "    </tr>\n",
              "    <tr>\n",
              "      <th>Anything By Nicholas Sparks</th>\n",
              "      <td>18.838457</td>\n",
              "    </tr>\n",
              "    <tr>\n",
              "      <th>Juiced</th>\n",
              "      <td>18.838457</td>\n",
              "    </tr>\n",
              "    <tr>\n",
              "      <th>French Women Don T Get Fat</th>\n",
              "      <td>18.838457</td>\n",
              "    </tr>\n",
              "    <tr>\n",
              "      <th>Fiasco</th>\n",
              "      <td>18.838457</td>\n",
              "    </tr>\n",
              "    <tr>\n",
              "      <th>Anything Dave Barry</th>\n",
              "      <td>18.838457</td>\n",
              "    </tr>\n",
              "    <tr>\n",
              "      <th>The Hardy Boys</th>\n",
              "      <td>18.838457</td>\n",
              "    </tr>\n",
              "    <tr>\n",
              "      <th>Politics</th>\n",
              "      <td>18.838457</td>\n",
              "    </tr>\n",
              "  </tbody>\n",
              "</table>\n",
              "</div>"
            ],
            "text/plain": [
              "PoliticalViews               Conservative_To_Liberal\n",
              "Book                                                \n",
              "When Genius Failed                         37.676914\n",
              "Liar S Poker                               33.909222\n",
              "Exodus                                     18.838457\n",
              "Anything By Nicholas Sparks                18.838457\n",
              "Juiced                                     18.838457\n",
              "French Women Don T Get Fat                 18.838457\n",
              "Fiasco                                     18.838457\n",
              "Anything Dave Barry                        18.838457\n",
              "The Hardy Boys                             18.838457\n",
              "Politics                                   18.838457"
            ]
          },
          "metadata": {
            "tags": []
          },
          "execution_count": 35
        }
      ]
    },
    {
      "cell_type": "code",
      "metadata": {
        "id": "eZczStB4akQJ",
        "colab": {
          "base_uri": "https://localhost:8080/",
          "height": 522
        },
        "outputId": "a2a15ef1-21e3-4c15-a87d-fe2c0b7cc768"
      },
      "source": [
        "conservative_books.plot(kind='bar')"
      ],
      "execution_count": 36,
      "outputs": [
        {
          "output_type": "execute_result",
          "data": {
            "text/plain": [
              "<matplotlib.axes._subplots.AxesSubplot at 0x7f1689751590>"
            ]
          },
          "metadata": {
            "tags": []
          },
          "execution_count": 36
        },
        {
          "output_type": "display_data",
          "data": {
            "image/png": "[encoded data removed]",
            "text/plain": [
              "<Figure size 1080x360 with 1 Axes>"
            ]
          },
          "metadata": {
            "tags": []
          }
        }
      ]
    },
    {
      "cell_type": "markdown",
      "metadata": {
        "collapsed": true,
        "id": "v79WJ2HjakQJ"
      },
      "source": [
        "#   \n",
        "# Inserting Data in a Database using Pandas\n",
        "## WE NEED TO SWITCH TO THE BIGDATA SERVER for THIS\n",
        "#    "
      ]
    },
    {
      "cell_type": "code",
      "metadata": {
        "colab": {
          "base_uri": "https://localhost:8080/"
        },
        "id": "JaMYJPL4Wkqc",
        "outputId": "fe83aa88-6018-436d-962a-accc35f6a6ea"
      },
      "source": [
        "!mkdir data\n",
        "!curl http://people.stern.nyu.edu/nwhite/DealingwithDataSpring2021/data/restaurants.csv.gz -o data/restaurants.csv.gz\n",
        "\n"
      ],
      "execution_count": 43,
      "outputs": [
        {
          "output_type": "stream",
          "text": [
            "  % Total    % Received % Xferd  Average Speed   Time    Time     Time  Current\n",
            "                                 Dload  Upload   Total   Spent    Left  Speed\n",
            "100 34.2M  100 34.2M    0     0  1369k      0  0:00:25  0:00:25 --:--:-- 1444k\n"
          ],
          "name": "stdout"
        }
      ]
    },
    {
      "cell_type": "code",
      "metadata": {
        "id": "ElDU2njtXqYf"
      },
      "source": [
        "!gunzip data/restaurants.csv.gz"
      ],
      "execution_count": 44,
      "outputs": []
    },
    {
      "cell_type": "code",
      "metadata": {
        "id": "l93Iq6dTakQK"
      },
      "source": [
        "# Read the CSV file\n",
        "restaurants = pd.read_csv('restaurants.csv.gz', encoding=\"utf-8\", dtype=\"unicode\")"
      ],
      "execution_count": 47,
      "outputs": []
    },
    {
      "cell_type": "code",
      "metadata": {
        "id": "uagikkudakQK"
      },
      "source": [
        "# Usual bookkeeping regarding datatypes\n",
        "restaurants[\"GRADE DATE\"] = pd.to_datetime(restaurants[\"GRADE DATE\"], format=\"%m/%d/%Y\")\n",
        "restaurants[\"RECORD DATE\"] = pd.to_datetime(restaurants[\"RECORD DATE\"], format=\"%m/%d/%Y\")\n",
        "restaurants[\"INSPECTION DATE\"] = pd.to_datetime(restaurants[\"INSPECTION DATE\"], format=\"%m/%d/%Y\")\n",
        "restaurants[\"SCORE\"] = pd.to_numeric(restaurants[\"SCORE\"])\n",
        "restaurants[\"BORO\"] =  pd.Categorical(restaurants[\"BORO\"], ordered=False)\n",
        "restaurants[\"GRADE\"] =  pd.Categorical(restaurants[\"GRADE\"], categories = ['A', 'B', 'C'], ordered=True)\n",
        "restaurants[\"VIOLATION CODE\"] =  pd.Categorical(restaurants[\"VIOLATION CODE\"], ordered=False)\n",
        "restaurants[\"CRITICAL FLAG\"] =  pd.Categorical(restaurants[\"CRITICAL FLAG\"], ordered=False)\n",
        "restaurants[\"ACTION\"] =  pd.Categorical(restaurants[\"ACTION\"], ordered=False)\n",
        "restaurants[\"CUISINE DESCRIPTION\"] =  pd.Categorical(restaurants[\"CUISINE DESCRIPTION\"], ordered=False)"
      ],
      "execution_count": 48,
      "outputs": []
    },
    {
      "cell_type": "code",
      "metadata": {
        "id": "hpZNWLw3akQL"
      },
      "source": [
        "# Connect to the MySQL, but without selecting a database\n",
        "# I will use my class userid and password for testing\n",
        "#\n",
        "\n",
        "conn_string = 'mysql://{user}:{password}@{host}:{port}/'.format(\n",
        "    user='DealingS21', password='DealingS21!!', \n",
        "    host = 'bigdata.stern.nyu.edu', port=3306)\n",
        "engine = create_engine(conn_string)"
      ],
      "execution_count": 51,
      "outputs": []
    },
    {
      "cell_type": "code",
      "metadata": {
        "id": "OBl8TlvuakQL",
        "colab": {
          "base_uri": "https://localhost:8080/"
        },
        "outputId": "6d5f01e1-14a3-46c0-b241-8eefbc61d651"
      },
      "source": [
        "# Create the database where we want to store the data\n",
        "# Do not worry about the Warning if the database already exists\n",
        "engine.execute('CREATE DATABASE IF NOT EXISTS nyc_restaurant_inspections')\n",
        "engine.execute('USE nyc_restaurant_inspections')"
      ],
      "execution_count": 53,
      "outputs": [
        {
          "output_type": "execute_result",
          "data": {
            "text/plain": [
              "<sqlalchemy.engine.cursor.LegacyCursorResult at 0x7f1683fbab50>"
            ]
          },
          "metadata": {
            "tags": []
          },
          "execution_count": 53
        }
      ]
    },
    {
      "cell_type": "code",
      "metadata": {
        "id": "0Mti7qkiakQL",
        "colab": {
          "base_uri": "https://localhost:8080/"
        },
        "outputId": "e190800a-af63-498a-96fd-f72d4ba03a16"
      },
      "source": [
        "# We drop the table if it is already there\n",
        "engine.execute('DROP TABLE IF EXISTS inspections')\n"
      ],
      "execution_count": 54,
      "outputs": [
        {
          "output_type": "execute_result",
          "data": {
            "text/plain": [
              "<sqlalchemy.engine.cursor.LegacyCursorResult at 0x7f1684747350>"
            ]
          },
          "metadata": {
            "tags": []
          },
          "execution_count": 54
        }
      ]
    },
    {
      "cell_type": "markdown",
      "metadata": {
        "id": "DWOFcwTkakQM"
      },
      "source": [
        "## BEWARE the to_sql pandas method is VERY SLOW!!!\n"
      ]
    },
    {
      "cell_type": "code",
      "metadata": {
        "id": "aqCxqpR4akQN"
      },
      "source": [
        "# Lets create a small table to test, since insertions are very slow\n",
        "# Takes over 10 minutes to insert all of the restaurant data\n",
        "\n",
        "restaurants1=restaurants.head(1000)"
      ],
      "execution_count": 55,
      "outputs": []
    },
    {
      "cell_type": "code",
      "metadata": {
        "id": "eyMy1PTxakQN"
      },
      "source": [
        "# Store the dataframe as a SQL table, using the to_sql command\n",
        "# This command is very slow, so this can take a while\n",
        "restaurants1.to_sql(name='inspections', if_exists='replace', index=False, con=engine, chunksize=500)"
      ],
      "execution_count": 56,
      "outputs": []
    },
    {
      "cell_type": "code",
      "metadata": {
        "id": "VLt8wtanakQN",
        "colab": {
          "base_uri": "https://localhost:8080/",
          "height": 678
        },
        "outputId": "a7041659-5246-45e5-94ac-147e6c46a79d"
      },
      "source": [
        "# And then we can just retrieve it from the database\n",
        "df = pd.read_sql(\"SELECT * FROM inspections LIMIT 100\", con=engine)\n",
        "df.head(5)"
      ],
      "execution_count": 57,
      "outputs": [
        {
          "output_type": "execute_result",
          "data": {
            "text/html": [
              "<div>\n",
              "<style scoped>\n",
              "    .dataframe tbody tr th:only-of-type {\n",
              "        vertical-align: middle;\n",
              "    }\n",
              "\n",
              "    .dataframe tbody tr th {\n",
              "        vertical-align: top;\n",
              "    }\n",
              "\n",
              "    .dataframe thead th {\n",
              "        text-align: right;\n",
              "    }\n",
              "</style>\n",
              "<table border=\"1\" class=\"dataframe\">\n",
              "  <thead>\n",
              "    <tr style=\"text-align: right;\">\n",
              "      <th></th>\n",
              "      <th>CAMIS</th>\n",
              "      <th>DBA</th>\n",
              "      <th>BORO</th>\n",
              "      <th>BUILDING</th>\n",
              "      <th>STREET</th>\n",
              "      <th>ZIPCODE</th>\n",
              "      <th>PHONE</th>\n",
              "      <th>CUISINE DESCRIPTION</th>\n",
              "      <th>INSPECTION DATE</th>\n",
              "      <th>ACTION</th>\n",
              "      <th>VIOLATION CODE</th>\n",
              "      <th>VIOLATION DESCRIPTION</th>\n",
              "      <th>CRITICAL FLAG</th>\n",
              "      <th>SCORE</th>\n",
              "      <th>GRADE</th>\n",
              "      <th>GRADE DATE</th>\n",
              "      <th>RECORD DATE</th>\n",
              "      <th>INSPECTION TYPE</th>\n",
              "      <th>Latitude</th>\n",
              "      <th>Longitude</th>\n",
              "      <th>Community Board</th>\n",
              "      <th>Council District</th>\n",
              "      <th>Census Tract</th>\n",
              "      <th>BIN</th>\n",
              "      <th>BBL</th>\n",
              "      <th>NTA</th>\n",
              "    </tr>\n",
              "  </thead>\n",
              "  <tbody>\n",
              "    <tr>\n",
              "      <th>0</th>\n",
              "      <td>40638039</td>\n",
              "      <td>LEGENDS BAR &amp; GRILL</td>\n",
              "      <td>Queens</td>\n",
              "      <td>7104</td>\n",
              "      <td>35 AVENUE</td>\n",
              "      <td>11372</td>\n",
              "      <td>7188999553</td>\n",
              "      <td>American</td>\n",
              "      <td>2019-03-25</td>\n",
              "      <td>Violations were cited in the following area(s).</td>\n",
              "      <td>06D</td>\n",
              "      <td>Food contact surface not properly washed, rins...</td>\n",
              "      <td>Y</td>\n",
              "      <td>10.0</td>\n",
              "      <td>A</td>\n",
              "      <td>2019-03-25</td>\n",
              "      <td>2019-10-26</td>\n",
              "      <td>Cycle Inspection / Initial Inspection</td>\n",
              "      <td>40.750719368488</td>\n",
              "      <td>-73.894733598464</td>\n",
              "      <td>403</td>\n",
              "      <td>25</td>\n",
              "      <td>029100</td>\n",
              "      <td>4029524</td>\n",
              "      <td>4012710101</td>\n",
              "      <td>QN28</td>\n",
              "    </tr>\n",
              "    <tr>\n",
              "      <th>1</th>\n",
              "      <td>40577241</td>\n",
              "      <td>ROYAL BAKERY &amp; ROTI SHOP</td>\n",
              "      <td>Brooklyn</td>\n",
              "      <td>618</td>\n",
              "      <td>NOSTRAND AVENUE</td>\n",
              "      <td>11216</td>\n",
              "      <td>7186040200</td>\n",
              "      <td>Caribbean</td>\n",
              "      <td>2017-02-27</td>\n",
              "      <td>Violations were cited in the following area(s).</td>\n",
              "      <td>08A</td>\n",
              "      <td>Facility not vermin proof. Harborage or condit...</td>\n",
              "      <td>N</td>\n",
              "      <td>9.0</td>\n",
              "      <td>A</td>\n",
              "      <td>2017-02-27</td>\n",
              "      <td>2019-10-26</td>\n",
              "      <td>Cycle Inspection / Initial Inspection</td>\n",
              "      <td>40.677323126922</td>\n",
              "      <td>-73.949811619041</td>\n",
              "      <td>308</td>\n",
              "      <td>36</td>\n",
              "      <td>031500</td>\n",
              "      <td>3030003</td>\n",
              "      <td>3012060041</td>\n",
              "      <td>BK61</td>\n",
              "    </tr>\n",
              "    <tr>\n",
              "      <th>2</th>\n",
              "      <td>50057781</td>\n",
              "      <td>BENS COOKIES</td>\n",
              "      <td>Manhattan</td>\n",
              "      <td>822</td>\n",
              "      <td>BROADWAY</td>\n",
              "      <td>10003</td>\n",
              "      <td>5164106172</td>\n",
              "      <td>Café/Coffee/Tea</td>\n",
              "      <td>2016-12-20</td>\n",
              "      <td>Violations were cited in the following area(s).</td>\n",
              "      <td>10F</td>\n",
              "      <td>Non-food contact surface improperly constructe...</td>\n",
              "      <td>N</td>\n",
              "      <td>8.0</td>\n",
              "      <td>A</td>\n",
              "      <td>2016-12-20</td>\n",
              "      <td>2019-10-26</td>\n",
              "      <td>Pre-permit (Operational) / Initial Inspection</td>\n",
              "      <td>40.733033400166</td>\n",
              "      <td>-73.991138128793</td>\n",
              "      <td>102</td>\n",
              "      <td>02</td>\n",
              "      <td>006100</td>\n",
              "      <td>1009001</td>\n",
              "      <td>1005570017</td>\n",
              "      <td>MN23</td>\n",
              "    </tr>\n",
              "    <tr>\n",
              "      <th>3</th>\n",
              "      <td>40542546</td>\n",
              "      <td>CUCCIOS BAKERY</td>\n",
              "      <td>Brooklyn</td>\n",
              "      <td>320</td>\n",
              "      <td>AVENUE X</td>\n",
              "      <td>11223</td>\n",
              "      <td>7183361944</td>\n",
              "      <td>Bakery</td>\n",
              "      <td>2017-12-19</td>\n",
              "      <td>Violations were cited in the following area(s).</td>\n",
              "      <td>10F</td>\n",
              "      <td>Non-food contact surface improperly constructe...</td>\n",
              "      <td>N</td>\n",
              "      <td>23.0</td>\n",
              "      <td>None</td>\n",
              "      <td>NaT</td>\n",
              "      <td>2019-10-26</td>\n",
              "      <td>Cycle Inspection / Initial Inspection</td>\n",
              "      <td>40.590414238221</td>\n",
              "      <td>-73.971289470632</td>\n",
              "      <td>315</td>\n",
              "      <td>47</td>\n",
              "      <td>037402</td>\n",
              "      <td>3195080</td>\n",
              "      <td>3071940010</td>\n",
              "      <td>BK26</td>\n",
              "    </tr>\n",
              "    <tr>\n",
              "      <th>4</th>\n",
              "      <td>41383250</td>\n",
              "      <td>OSAKA JAPANESE FUSION</td>\n",
              "      <td>Queens</td>\n",
              "      <td>2524</td>\n",
              "      <td>BROADWAY</td>\n",
              "      <td>11106</td>\n",
              "      <td>7187772662</td>\n",
              "      <td>Japanese</td>\n",
              "      <td>2016-10-05</td>\n",
              "      <td>Violations were cited in the following area(s).</td>\n",
              "      <td>08A</td>\n",
              "      <td>Facility not vermin proof. Harborage or condit...</td>\n",
              "      <td>N</td>\n",
              "      <td>11.0</td>\n",
              "      <td>A</td>\n",
              "      <td>2016-10-05</td>\n",
              "      <td>2019-10-26</td>\n",
              "      <td>Cycle Inspection / Re-inspection</td>\n",
              "      <td>40.76329423995</td>\n",
              "      <td>-73.928209921765</td>\n",
              "      <td>401</td>\n",
              "      <td>22</td>\n",
              "      <td>005300</td>\n",
              "      <td>4007160</td>\n",
              "      <td>4005800026</td>\n",
              "      <td>QN70</td>\n",
              "    </tr>\n",
              "  </tbody>\n",
              "</table>\n",
              "</div>"
            ],
            "text/plain": [
              "      CAMIS                       DBA       BORO  ...      BIN         BBL   NTA\n",
              "0  40638039       LEGENDS BAR & GRILL     Queens  ...  4029524  4012710101  QN28\n",
              "1  40577241  ROYAL BAKERY & ROTI SHOP   Brooklyn  ...  3030003  3012060041  BK61\n",
              "2  50057781              BENS COOKIES  Manhattan  ...  1009001  1005570017  MN23\n",
              "3  40542546            CUCCIOS BAKERY   Brooklyn  ...  3195080  3071940010  BK26\n",
              "4  41383250     OSAKA JAPANESE FUSION     Queens  ...  4007160  4005800026  QN70\n",
              "\n",
              "[5 rows x 26 columns]"
            ]
          },
          "metadata": {
            "tags": []
          },
          "execution_count": 57
        }
      ]
    },
    {
      "cell_type": "markdown",
      "metadata": {
        "collapsed": true,
        "id": "yZO4XYQjakQN"
      },
      "source": [
        "# In class exercise\n",
        "####   \n",
        "### Connect to the mysql server on bigdata.stern.nyu.edu\n",
        "#### using your team userid and password\n",
        "\n",
        "#### Just copy the cell above, and use your team userid and password\n",
        "##### DealingS21GBx   DealingS21GBx!!   \n",
        "#### Use your team database (DealingS21GBx)\n",
        "####  \n",
        "#### Create a table named  (\"yournetid) in your team database. It should have two \n",
        "#### attributes, a and b, both ints\n",
        "#### i.e.\n",
        "##### create table nhw1 (a int, b int);\n",
        "##### insert into yournetid(a,b) values(1,2);  \n",
        "#### and 3,4 in the first two rows.\n",
        "#### select * from the table into a dataframe\n",
        "#### print it.\n",
        "#### drop the table"
      ]
    },
    {
      "cell_type": "code",
      "metadata": {
        "id": "q7ymV6yOakQN",
        "colab": {
          "base_uri": "https://localhost:8080/",
          "height": 143
        },
        "outputId": "439681b0-5f39-4437-a7cb-60956647f929"
      },
      "source": [
        "# create a small data frame\n",
        "data=[[1,2],[3,4],[5,6]]\n",
        "mydf=pd.DataFrame(data,columns=['a','b'])\n",
        "mydf\n"
      ],
      "execution_count": 69,
      "outputs": [
        {
          "output_type": "execute_result",
          "data": {
            "text/html": [
              "<div>\n",
              "<style scoped>\n",
              "    .dataframe tbody tr th:only-of-type {\n",
              "        vertical-align: middle;\n",
              "    }\n",
              "\n",
              "    .dataframe tbody tr th {\n",
              "        vertical-align: top;\n",
              "    }\n",
              "\n",
              "    .dataframe thead th {\n",
              "        text-align: right;\n",
              "    }\n",
              "</style>\n",
              "<table border=\"1\" class=\"dataframe\">\n",
              "  <thead>\n",
              "    <tr style=\"text-align: right;\">\n",
              "      <th></th>\n",
              "      <th>a</th>\n",
              "      <th>b</th>\n",
              "    </tr>\n",
              "  </thead>\n",
              "  <tbody>\n",
              "    <tr>\n",
              "      <th>0</th>\n",
              "      <td>1</td>\n",
              "      <td>2</td>\n",
              "    </tr>\n",
              "    <tr>\n",
              "      <th>1</th>\n",
              "      <td>3</td>\n",
              "      <td>4</td>\n",
              "    </tr>\n",
              "    <tr>\n",
              "      <th>2</th>\n",
              "      <td>5</td>\n",
              "      <td>6</td>\n",
              "    </tr>\n",
              "  </tbody>\n",
              "</table>\n",
              "</div>"
            ],
            "text/plain": [
              "   a  b\n",
              "0  1  2\n",
              "1  3  4\n",
              "2  5  6"
            ]
          },
          "metadata": {
            "tags": []
          },
          "execution_count": 69
        }
      ]
    },
    {
      "cell_type": "code",
      "metadata": {
        "id": "aczqNSeWakQN",
        "colab": {
          "base_uri": "https://localhost:8080/"
        },
        "outputId": "957cf988-415d-4795-bff0-bd07aa3cf295"
      },
      "source": [
        "# Your code here (Change the user and password)\n",
        "# Connect to the MySQL, but without selecting a database\n",
        "# I will use team 10's userid and password for testing\n",
        "#\n",
        "\n",
        "conn_string = 'mysql://{user}:{password}@{host}:{port}/'.format(\n",
        "    user='DealingS21', password='DealingS21!!', \n",
        "    host = 'bigdata.stern.nyu.edu', port=3306)\n",
        "engine = create_engine(conn_string)\n",
        "\n",
        "engine.execute(\"USE DealingS21\")\n",
        "\n",
        "engine.execute(\"SHOW TABLES\")\n",
        "engine.execute(\"DROP TABLE IF EXISTS  nhw1\")\n",
        "\n",
        "mydf.to_sql(name='nhw1', index=False, con=engine, chunksize=500)\n",
        "\n",
        "engine.execute(\"SHOW TABLES\")"
      ],
      "execution_count": 72,
      "outputs": [
        {
          "output_type": "execute_result",
          "data": {
            "text/plain": [
              "<sqlalchemy.engine.cursor.LegacyCursorResult at 0x7f1686559dd0>"
            ]
          },
          "metadata": {
            "tags": []
          },
          "execution_count": 72
        }
      ]
    },
    {
      "cell_type": "code",
      "metadata": {
        "id": "XGh0pF4nakQO",
        "colab": {
          "base_uri": "https://localhost:8080/"
        },
        "outputId": "e052997f-2777-47be-a3cb-959c1a86e6c9"
      },
      "source": [
        "engine.execute(\"USE DealingS21\")\n",
        "df = pd.read_sql(\"SELECT * FROM nhw1 LIMIT 100\", con=engine)\n",
        "df.head(5)\n",
        "res=pd.read_sql(\"SHOW TABLES\", con=engine)\n",
        "res\n",
        "engine.execute(\"DROP TABLE nhw1\")"
      ],
      "execution_count": 73,
      "outputs": [
        {
          "output_type": "execute_result",
          "data": {
            "text/plain": [
              "<sqlalchemy.engine.cursor.LegacyCursorResult at 0x7f1686546cd0>"
            ]
          },
          "metadata": {
            "tags": []
          },
          "execution_count": 73
        }
      ]
    },
    {
      "cell_type": "code",
      "metadata": {
        "id": "x2wafirWakQO",
        "colab": {
          "base_uri": "https://localhost:8080/",
          "height": 143
        },
        "outputId": "c55e47a9-e22d-4f8f-ea7b-aaf0e3a95d57"
      },
      "source": [
        "df"
      ],
      "execution_count": 74,
      "outputs": [
        {
          "output_type": "execute_result",
          "data": {
            "text/html": [
              "<div>\n",
              "<style scoped>\n",
              "    .dataframe tbody tr th:only-of-type {\n",
              "        vertical-align: middle;\n",
              "    }\n",
              "\n",
              "    .dataframe tbody tr th {\n",
              "        vertical-align: top;\n",
              "    }\n",
              "\n",
              "    .dataframe thead th {\n",
              "        text-align: right;\n",
              "    }\n",
              "</style>\n",
              "<table border=\"1\" class=\"dataframe\">\n",
              "  <thead>\n",
              "    <tr style=\"text-align: right;\">\n",
              "      <th></th>\n",
              "      <th>a</th>\n",
              "      <th>b</th>\n",
              "    </tr>\n",
              "  </thead>\n",
              "  <tbody>\n",
              "    <tr>\n",
              "      <th>0</th>\n",
              "      <td>1</td>\n",
              "      <td>2</td>\n",
              "    </tr>\n",
              "    <tr>\n",
              "      <th>1</th>\n",
              "      <td>3</td>\n",
              "      <td>4</td>\n",
              "    </tr>\n",
              "    <tr>\n",
              "      <th>2</th>\n",
              "      <td>5</td>\n",
              "      <td>6</td>\n",
              "    </tr>\n",
              "  </tbody>\n",
              "</table>\n",
              "</div>"
            ],
            "text/plain": [
              "   a  b\n",
              "0  1  2\n",
              "1  3  4\n",
              "2  5  6"
            ]
          },
          "metadata": {
            "tags": []
          },
          "execution_count": 74
        }
      ]
    },
    {
      "cell_type": "code",
      "metadata": {
        "id": "q69iu7njakQO",
        "colab": {
          "base_uri": "https://localhost:8080/",
          "height": 112
        },
        "outputId": "f4b07a44-d4df-4433-b4c5-a782d0b32ece"
      },
      "source": [
        "res"
      ],
      "execution_count": 75,
      "outputs": [
        {
          "output_type": "execute_result",
          "data": {
            "text/html": [
              "<div>\n",
              "<style scoped>\n",
              "    .dataframe tbody tr th:only-of-type {\n",
              "        vertical-align: middle;\n",
              "    }\n",
              "\n",
              "    .dataframe tbody tr th {\n",
              "        vertical-align: top;\n",
              "    }\n",
              "\n",
              "    .dataframe thead th {\n",
              "        text-align: right;\n",
              "    }\n",
              "</style>\n",
              "<table border=\"1\" class=\"dataframe\">\n",
              "  <thead>\n",
              "    <tr style=\"text-align: right;\">\n",
              "      <th></th>\n",
              "      <th>Tables_in_DealingS21</th>\n",
              "    </tr>\n",
              "  </thead>\n",
              "  <tbody>\n",
              "    <tr>\n",
              "      <th>0</th>\n",
              "      <td>311calls</td>\n",
              "    </tr>\n",
              "    <tr>\n",
              "      <th>1</th>\n",
              "      <td>nhw1</td>\n",
              "    </tr>\n",
              "  </tbody>\n",
              "</table>\n",
              "</div>"
            ],
            "text/plain": [
              "  Tables_in_DealingS21\n",
              "0             311calls\n",
              "1                 nhw1"
            ]
          },
          "metadata": {
            "tags": []
          },
          "execution_count": 75
        }
      ]
    },
    {
      "cell_type": "code",
      "metadata": {
        "id": "XOofg7iHakQP"
      },
      "source": [
        ""
      ],
      "execution_count": 75,
      "outputs": []
    }
  ]
}