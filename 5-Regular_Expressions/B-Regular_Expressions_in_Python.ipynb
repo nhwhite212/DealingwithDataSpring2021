{
  "nbformat": 4,
  "nbformat_minor": 0,
  "metadata": {
    "kernelspec": {
      "display_name": "Python 3",
      "language": "python",
      "name": "python3"
    },
    "language_info": {
      "codemirror_mode": {
        "name": "ipython",
        "version": 3
      },
      "file_extension": ".py",
      "mimetype": "text/x-python",
      "name": "python",
      "nbconvert_exporter": "python",
      "pygments_lexer": "ipython3",
      "version": "3.6.5"
    },
    "colab": {
      "name": "B-Regular_Expressions_in_Python.ipynb",
      "provenance": []
    }
  },
  "cells": [
    {
      "cell_type": "markdown",
      "metadata": {
        "id": "0UG4P1z9eFe3"
      },
      "source": [
        "\n",
        "\n",
        "\n",
        "\n",
        "\n",
        "\n",
        "\n",
        "Regular Expressions\n",
        "-------------------\n",
        "\n",
        "This document will present basic regular expression syntax and cover common use cases for regular expressions: pattern matching, filtering, data extraction, and string replacement. \n",
        "\n",
        "We will present examples using python’s standard [re regular expression library](http://docs.python.org/library/re.html).\n",
        "\n",
        "You may also want to look at this [*excellent* tutorial from Google](https://developers.google.com/edu/python/regular-expressions).\n"
      ]
    },
    {
      "cell_type": "markdown",
      "metadata": {
        "id": "n8iH1rF9eFe-"
      },
      "source": [
        "### Basic Patterns\n",
        "\n",
        "* a, X, 9, < -- ordinary characters just match themselves exactly. The meta-characters which do not match themselves because they have special meanings are: . ^ \\$ * + ? { [ ] \\ | ( ) (details below)\n",
        "* . (a period) -- matches any single character except newline '\\n'\n",
        "* \\w -- (lowercase w) matches a \"word\" character: a letter or digit or underbar [a-zA-Z0-9_]. Note that although \"word\" is the mnemonic for this, it only matches a single word char, not a whole word. \n",
        "* \\W (upper case W) matches any non-word character.\n",
        "* \\s -- (lowercase s) matches a single whitespace character -- space, newline, return, tab, form [ \\n\\r\\t\\f]. \n",
        "* \\S (upper case S) matches any non-whitespace character.\n",
        "* \\d -- decimal digit [0-9] (some older regex utilities do not support but \\d, but they all support \\w and \\s)\n",
        "* \\D -- matches anything that is not a number\n",
        "* \\b -- boundary between word and non-word\n",
        "* \\t, \\n, \\r -- tab, newline, return\n",
        "* ^ = start, $ = end -- match the start or end of the string\n",
        "* \\ -- inhibit the \"specialness\" of a character. So, for example, use \\. to match a period or \\\\ to match a slash. If you are unsure if a character has special meaning, such as '@', you can put a slash in front of it, \\@, to make sure it is treated just as a character."
      ]
    },
    {
      "cell_type": "markdown",
      "metadata": {
        "id": "YYLM0ZjieFe_"
      },
      "source": [
        "### Searching strings using regexes"
      ]
    },
    {
      "cell_type": "code",
      "metadata": {
        "id": "QX0XGGwQeFe_"
      },
      "source": [
        "# first import the library\n",
        "import re"
      ],
      "execution_count": null,
      "outputs": []
    },
    {
      "cell_type": "code",
      "metadata": {
        "id": "OMk323pQeFfA"
      },
      "source": [
        "# Regular expressions are compiled into pattern objects\n",
        "regex = re.compile(r'D.*Data')\n",
        "text = \"Norman White, Dealing with Data, 212-998-0842, nwhite@stern.nyu.edu\"\n",
        "matches = regex.finditer(text)\n",
        "for match in matches:\n",
        "    print(match.group())"
      ],
      "execution_count": null,
      "outputs": []
    },
    {
      "cell_type": "code",
      "metadata": {
        "id": "hKhrUqADeFfA"
      },
      "source": [
        "# Find phone numbers: \n",
        "# Three digits \\d{3}\n",
        "# followed by zero or more non-digits \\D*\n",
        "# followed by three digits \\d{3}\n",
        "# followed by zero or more non-digits \\D*\n",
        "# followed by four digits \\d{4}\n",
        "regex = re.compile(r'\\d{3}\\D*\\d{3}\\D*\\d{4}')\n",
        "text = '''\n",
        "Norman White, Dealing with Data,\n",
        "tel: 212-998-0842\n",
        "email: nwhite@stern.nyu.edu\n",
        "fax: 646-255-5555\n",
        "'''\n",
        "\n",
        "matches = regex.finditer(text)\n",
        "for match in matches:\n",
        "    print(match.group())\n",
        "    print(\"Starts at:\", match.start())\n",
        "    print(\"Ends at:\", match.end())"
      ],
      "execution_count": null,
      "outputs": []
    },
    {
      "cell_type": "code",
      "metadata": {
        "id": "NeDU_B66eFfC"
      },
      "source": [
        "# We will now try to match an email address. What is wrong in our regex? \n",
        "# Can you fix it? Try to use \\w as a shorthand\n",
        "regex = re.compile(r'[\\.\\w]+@[\\.\\w_\\-]+')\n",
        "\n",
        "#regex = re.compile(r'[\\.\\w]+@[\\w_\\-]+(.[\\w_\\-]+)+')\n",
        "text = \"My email is adam.branden_burger034@stern.nyu.edu. You can email me.\"\n",
        "\n",
        "matches = regex.finditer(text)\n",
        "for match in matches:\n",
        "    print(match.group())"
      ],
      "execution_count": null,
      "outputs": []
    },
    {
      "cell_type": "code",
      "metadata": {
        "id": "hNewgPyoeFfC"
      },
      "source": [
        "# We are looking for binary numbers\n",
        "regex = re.compile(r'[10]+')\n",
        "text = \"asddf1101110100011abd1111norm0000\"\n",
        "matches = regex.finditer(text)\n",
        "for match in matches:\n",
        "    print(match.group())"
      ],
      "execution_count": null,
      "outputs": []
    },
    {
      "cell_type": "code",
      "metadata": {
        "id": "ivOlPvKPeFfC"
      },
      "source": [
        "# We look for money figures, either integers, or with 1 or 2 decimal\n",
        "# digits\n",
        "regex = re.compile(r'\\$\\d+(\\.\\d\\d?)?')\n",
        "text = '$1200.23 is the price today. $1200 was the price yesterday'\n",
        "matches = regex.finditer(text)\n",
        "for match in matches:\n",
        "    print(match.group())"
      ],
      "execution_count": null,
      "outputs": []
    },
    {
      "cell_type": "code",
      "metadata": {
        "id": "IYFjPFtSeFfC"
      },
      "source": [
        "# This code is going to generate no matches\n",
        "regex = re.compile(r'Ra*nd.*m R[egex]')\n",
        "# Regular expressions are compiled into pattern objects\n",
        "\n",
        "text = \"Norman White, Dealing with Data, 212-998-0842, nwhite@stern.nyu.edu\"\n",
        "matches = regex.finditer(text)\n",
        "for match in matches:\n",
        "    print(match.group())\n",
        "    # Regular expressions are compiled into pattern objects\n",
        "regex = re.compile(r'D.*Data')\n",
        "text = \"Norman White, Dealing with Data, 212-998-0842, nwhite@stern.nyu.edu\"\n",
        "matches = regex.finditer(text)\n",
        "for match in matches:\n",
        "    print(match.group())\n",
        "text = \"Panos Ipeirotis, Dealing with Data, 212-998-0803, panos@nyu.edu\"\n",
        "matches = regex.finditer(text)\n",
        "for match in matches:\n",
        "    print(match.group())"
      ],
      "execution_count": null,
      "outputs": []
    },
    {
      "cell_type": "markdown",
      "metadata": {
        "id": "mHDRobYBeFfD"
      },
      "source": [
        "### Flags for regexes: Case-sentitivity and multiline searches"
      ]
    },
    {
      "cell_type": "markdown",
      "metadata": {
        "id": "YNZZa1-MeFfF"
      },
      "source": [
        "Regular expressions are typically case-sensitive. "
      ]
    },
    {
      "cell_type": "code",
      "metadata": {
        "id": "wfuQ4556eFfF"
      },
      "source": [
        "# Regular expressions are compiled into pattern objects\n",
        "# Regular expressions are case-sensitive\n",
        "regex = re.compile(r'W.*TE,' )\n",
        "#\n",
        "text = \"Norman White, Dealing with Data, 212-998-0842, nwhite@stern.nyu.edu\"\n",
        "matches = regex.finditer(text)\n",
        "for match in matches:\n",
        "    print(match.group())\n"
      ],
      "execution_count": null,
      "outputs": []
    },
    {
      "cell_type": "markdown",
      "metadata": {
        "id": "-8DsDEW6eFfF"
      },
      "source": [
        "But we can specify that they are case-insensitive, using the flag re.IGNORECASE"
      ]
    },
    {
      "cell_type": "code",
      "metadata": {
        "id": "sQRjXPnLeFfF"
      },
      "source": [
        "# Unless we specify that they are case-insensitive, using the flag re.IGNORECASE\n",
        "regex = re.compile('W.*TE,',re.IGNORECASE)\n",
        "# Regular expressions are compiled into pattern objects\n",
        "\n",
        "text = \"Norman White, Dealing with Data, 212-998-0842, nwhite@stern.nyu.edu\"\n",
        "matches = regex.finditer(text)\n",
        "for match in matches:\n",
        "    print(match.group())\n",
        "\n"
      ],
      "execution_count": null,
      "outputs": []
    },
    {
      "cell_type": "markdown",
      "metadata": {
        "id": "Di-GKnvleFfG"
      },
      "source": [
        " For a full list of available flags, please see the [re documentation](http://docs.python.org/library/re.html)."
      ]
    },
    {
      "cell_type": "markdown",
      "metadata": {
        "id": "UwCl026YeFfH"
      },
      "source": [
        "### Multiple matches in a string"
      ]
    },
    {
      "cell_type": "markdown",
      "metadata": {
        "id": "ouYPD_0teFfH"
      },
      "source": [
        "The search command goes through the string to find the longest expression that matches the regex\n",
        "and once it finds the first match, it stops. For example, we will not get the second phone number"
      ]
    },
    {
      "cell_type": "code",
      "metadata": {
        "id": "cjCCITgreFfH"
      },
      "source": [
        "# The search command goes through the string to find the longest expression that matches the regex\n",
        "# Then it continues with the second one\n",
        "regex = re.compile('\\d{3}-\\d{3}-\\d{4}')\n",
        "text = '''\n",
        "Norman White, Dealing with Data, \n",
        "212-998-0842, nwhite@stern.nyu.edu, 646-555-5555\n",
        "'''\n",
        "matches = regex.finditer(text)\n",
        "for i, match in enumerate(matches):\n",
        "    print(i+1, \"==>\", match.group())"
      ],
      "execution_count": null,
      "outputs": []
    },
    {
      "cell_type": "markdown",
      "metadata": {
        "id": "fnysfPLueFfH"
      },
      "source": [
        "If we want to find multiple matches within the string, then we use the `finditer` command that returns a collection of `MatchObject` items. (For comparison, `search` returns just the first `MatchObject` item.)"
      ]
    },
    {
      "cell_type": "code",
      "metadata": {
        "id": "pl9gE6_jeFfI"
      },
      "source": [
        "# The matches command returns an iterator containing \"match\" objects, which have a variety of attributes\n",
        "regex = re.compile(r'\\d{3}-\\d{3}-\\d{4}')\n",
        "text = \"Norman White, Dealing with Data, 212-998-0842, 646-555-5555\"\n",
        "matches = regex.finditer(text)\n",
        "for m in matches:\n",
        "    print(\"Starts at:\", m.start(), \n",
        "    \"Ends at:\", m.end(),\n",
        "    \"Content:\", m.group())"
      ],
      "execution_count": null,
      "outputs": []
    },
    {
      "cell_type": "markdown",
      "metadata": {
        "id": "RE88IG-0eFfI"
      },
      "source": [
        "### Extracting Data -- where regex starts to get really cool\n",
        "\n",
        "#### Defining groups within regexes\n",
        "\n",
        "In addition to simple matching and filtering, many regular expressions implementations, including python’s re, provide a powerful mechanism for extracting meaningful data from raw text. Through capturing, those strings that satisfy a particular regular expression are extracted from the text being matched, and returned to the program processing the raw data. \n",
        "\n",
        "**The portion of regular expressions that should be captured is surrounded by parentheses, `\"( )\"`.**\n",
        "\n",
        "Then, provided the regular expression containing the capturing statement is satisfied, the result of the regular expression will contain a group of text matching patterns. This group method gets the results of the portions of the input text matched by the capturing statements in the regular expression. The matches are indexed from one-- to get the portion of the text matched by first capturing statement, you could query `result.group(1)`, the second parentheses will have its match stored in `result.group(2)`, etc. The value stored at `result.group(0)`, is the entire portion of the input string matched by the regular expression, not just the portion satisfying the capturing parentheses.\n",
        "\n",
        "As example of data extraction using capturing regular expressions, say we’re scanning some raw text for phone numbers that we wish to retain for later processing. We might try something like:"
      ]
    },
    {
      "cell_type": "code",
      "metadata": {
        "id": "AwleiksJeFfJ"
      },
      "source": [
        "raw_text = r\"\"\"\n",
        "512-234-5234\n",
        "foo\n",
        "bar\n",
        "124-512-5555\n",
        "biz\n",
        "125-555-5785\n",
        "679-397-5255\n",
        "2126660921\n",
        "212-998-0902\n",
        "888-888-2222\n",
        "801-555-1211\n",
        "802 555 1212\n",
        "803.555.1213\n",
        "(804) 555-1214\n",
        "1-805-555-1215\n",
        "1(806)555-1216\n",
        "807-555-1217-1234\n",
        "808-555-1218x1\n",
        "809-555-1219 ext. 1234\n",
        "work 1-(810) 555.1220 #1234\n",
        "\"\"\""
      ],
      "execution_count": null,
      "outputs": []
    },
    {
      "cell_type": "code",
      "metadata": {
        "id": "wnynw30neFfJ"
      },
      "source": [
        "raw_text"
      ],
      "execution_count": null,
      "outputs": []
    },
    {
      "cell_type": "code",
      "metadata": {
        "id": "DW6DvkeeeFfK"
      },
      "source": [
        "# Notice now that each part of the phone is included in parentheses\n",
        "# allowing us to grab the individual parts of the phone number\n",
        "#           3 digit  area      non-digits 3 digits non-digits     \n",
        "regex = re.compile(r'([2-9]\\d{2})\\D*(\\d{3})\\D*(\\d{4})\\D*(\\d+)?.*$')\n",
        "matches = regex.finditer(raw_text, re.MULTILINE)\n",
        "\n",
        "phones = set()\n",
        "for m in matches:\n",
        "    area_code = m.group(1)\n",
        "    first_three_digits = m.group(2)\n",
        "    last_four_digits =  m.group(3)\n",
        "    extension = m.group(4)\n",
        "    \n",
        "    if extension:\n",
        "        phone = \"(\" + area_code + \")\" + first_three_digits + \\\n",
        "            \"-\" + last_four_digits + \"x\" + extension\n",
        "    else:\n",
        "        phone = \"(\" + area_code + \")\" + first_three_digits + \\\n",
        "            \"-\" + last_four_digits \n",
        "    phones.add(phone)\n",
        "\n",
        "# Notice that our list does not include numbers with invalid area codes (e.g., 124, 125)\n",
        "phones"
      ],
      "execution_count": null,
      "outputs": []
    },
    {
      "cell_type": "markdown",
      "metadata": {
        "id": "fQO6RtYbeFfK"
      },
      "source": [
        "(See also http://www.diveintopython.net/regular_expressions/phone_numbers.html if you want to see further examples.)\n",
        "\n",
        "The examples will look like gobbledygook at first.  But after you go through some actual cases, and especially after you struggle to write a few for a real data science task, you will realize that you're not in Kansas any longer.  Now get ready for a horse of a different color..."
      ]
    },
    {
      "cell_type": "code",
      "metadata": {
        "id": "TivTLU4qeFfK"
      },
      "source": [
        ""
      ],
      "execution_count": null,
      "outputs": []
    },
    {
      "cell_type": "markdown",
      "metadata": {
        "id": "3XUoObjWeFfL"
      },
      "source": [
        "#### Exercise\n",
        "\n",
        "* Modify the code above to allow the extraction of the extension number, if one exists"
      ]
    },
    {
      "cell_type": "code",
      "metadata": {
        "id": "H1nJbsaWeFfL"
      },
      "source": [
        "# your code here"
      ],
      "execution_count": null,
      "outputs": []
    },
    {
      "cell_type": "markdown",
      "metadata": {
        "id": "Mek5jRBOeFfL"
      },
      "source": [
        "### String Replacement\n",
        "\n",
        "In addition to matching and extraction, regular expressions can be used to change data--especially unstructured text--in very powerful ways.  In particular, regex allow you to find specific patterns and then replace them with specified strings. \n",
        "\n",
        "As a data scientist, this is useful when trying to get data formatted correctly as input to a specific system, such as when doing data cleanup.\n",
        "\n",
        "In python’s re library, the function used for replacement is `sub()` (think \"substitute\"). \n",
        "\n",
        "The pattern for invoking `sub()` is \n",
        "\n",
        "`re.sub(regex, replacement, text)`\n",
        "\n",
        "This will return a version of text where all instances of the regex have been substituted with replacement.\n",
        "\n",
        "Imagine we want to conceal all phone numbers in a document. We could use the following call to `sub()`:"
      ]
    },
    {
      "cell_type": "code",
      "metadata": {
        "id": "TNqIRnR0eFfL"
      },
      "source": [
        "raw_text = \"\"\"512-234-5234\n",
        "foo\n",
        "bar\n",
        "124-512-5555\n",
        "biz\n",
        "125-555-5785\n",
        "679-397-5255\n",
        "2126660921\n",
        "212-998-0902\n",
        "888-888-2222\n",
        "801-555-1211\n",
        "802 555 1212\n",
        "803.555.1213\n",
        "(804) 555-1214\n",
        "1-805-555-1215\n",
        "1(806)555-1216\n",
        "807-555-1217-1234\n",
        "808-555-1218x1234\n",
        "809-555-1219 ext. 1234\n",
        "work 1-(810) 555.1220 #1234\n",
        "\"\"\"\n",
        "\n",
        "regex = re.compile('([2-9][0-9]{2})\\W*([0-9]{3})\\W*([0-9]{4})')\n",
        "\n",
        "newstring = re.sub(regex, \"XXX-XXX-XXXX\", raw_text)\n",
        "\n",
        "print(newstring)"
      ],
      "execution_count": null,
      "outputs": []
    },
    {
      "cell_type": "markdown",
      "metadata": {
        "id": "kBKYwHw4eFfM"
      },
      "source": [
        "When performing substitution, matches found using the capturing mechanism are available to the replacement using `\\1`, `\\2`, and so on, as shortcuts to `group(1)`, `group(2)`, etc. \n",
        "\n",
        "In order to use this back-referencing capability, we need to tell the `sub()` mechanism to treat the replacement string as a regular expression. For instance, if we want to make sure all phone numbers are normalized and all area codes are surrounded by parentheses, we can use:"
      ]
    },
    {
      "cell_type": "code",
      "metadata": {
        "id": "z2WHRrzPeFfM"
      },
      "source": [
        "print(re.sub(regex, r\"(\\1)-\\2-\\3\", raw_text))"
      ],
      "execution_count": null,
      "outputs": []
    },
    {
      "cell_type": "markdown",
      "metadata": {
        "id": "5_1pDp9GeFfM"
      },
      "source": [
        "#### Exercise 1"
      ]
    },
    {
      "cell_type": "markdown",
      "metadata": {
        "id": "O79JMBgEeFfN"
      },
      "source": [
        "The webpage at `http://www.stern.nyu.edu/faculty/search_name_form/` contains the contact emails for all the Stern faculty members. Write code that will allow you to extract all the emails that appear in the page. Just for your convenience, the code below will fetch the page, and store the HTML source in the variable `html`.\n",
        "\n",
        "Then you will need to write the right regex and write the code that finds emails in the retrieved html."
      ]
    },
    {
      "cell_type": "code",
      "metadata": {
        "id": "SH9XP_YAeFfN"
      },
      "source": [
        "import requests\n",
        "url = 'http://www.stern.nyu.edu/faculty/search_name_form'\n",
        "response = requests.get(url)\n",
        "html = response.text\n",
        "html\n",
        "\n",
        "# Your code here\n",
        "# You want to write a regular expression that will find all the email addresses that appear in the html\n",
        "# variable, and store the emails in a list. You may also want to write the list of emails in a text file."
      ],
      "execution_count": null,
      "outputs": []
    },
    {
      "cell_type": "markdown",
      "metadata": {
        "id": "UeEw6fNHeFfN"
      },
      "source": [
        "#### Exercise 2\n",
        "\n",
        "* The webpage at `http://www.nasdaq.com/screening/companies-by-name.aspx?letter=A` contains the list of all tickers at the NASDAQ exchange, which start with the letter `A`. Inspect the HTML, and figure how what is the pattern for referring to the ticker (hint: you will see URLs of the form `http://www.nasdaq.com/symbol/....`). \n",
        "* Write regular expressions to extract the tickers that appear in a web page\n",
        "* Write code for iterating over all pages of NASDAQ for all the different letters\n",
        "* Write code for going over multiple pages within the same letter. (optional)"
      ]
    },
    {
      "cell_type": "code",
      "metadata": {
        "id": "9nI_UMQseFfN"
      },
      "source": [
        "# your code here\n"
      ],
      "execution_count": null,
      "outputs": []
    },
    {
      "cell_type": "code",
      "metadata": {
        "id": "3MjIkBjweFfO"
      },
      "source": [
        ""
      ],
      "execution_count": null,
      "outputs": []
    },
    {
      "cell_type": "code",
      "metadata": {
        "id": "PB-wquR0eFfO"
      },
      "source": [
        ""
      ],
      "execution_count": null,
      "outputs": []
    },
    {
      "cell_type": "code",
      "metadata": {
        "id": "hwlmw8SfeFfO"
      },
      "source": [
        ""
      ],
      "execution_count": null,
      "outputs": []
    },
    {
      "cell_type": "markdown",
      "metadata": {
        "id": "apy2eF8eeFfO"
      },
      "source": [
        "#### Solution for Exercise 1"
      ]
    },
    {
      "cell_type": "code",
      "metadata": {
        "id": "68SC1VRfeFfO"
      },
      "source": [
        "# Email regex\n",
        "regex = re.compile(r'\\w+@(\\w+\\.)+\\w+')\n",
        "\n",
        "# We can create either a list or a set, but let's avoid duplicates\n",
        "emails = set()\n",
        "\n",
        "# Fetch the HTML source\n",
        "url = 'http://www.stern.nyu.edu/faculty/search_name_form'\n",
        "html = requests.get(url).text\n",
        "\n",
        "# Find matches\n",
        "matches = regex.finditer(html)\n",
        "# Go through matches and add them in our result set\n",
        "for m in matches:\n",
        "    emails.add(m.group())\n",
        "\n",
        "sorted(emails)"
      ],
      "execution_count": null,
      "outputs": []
    },
    {
      "cell_type": "code",
      "metadata": {
        "id": "zj9qRDRKeFfP"
      },
      "source": [
        "# and let's make it very compact using list comprehensions\n",
        "import requests\n",
        "url = 'http://www.stern.nyu.edu/faculty/search_name_form'\n",
        "html = requests.get(url).text\n",
        "regex = re.compile(r'\\w+@(\\w+\\.)+\\w+')\n",
        "emails = set([m.group() for m in regex.finditer(html) ])\n",
        "emails"
      ],
      "execution_count": null,
      "outputs": []
    },
    {
      "cell_type": "markdown",
      "metadata": {
        "id": "ktdz4tKIeFfP"
      },
      "source": [
        "#### Solution for exercise 2"
      ]
    },
    {
      "cell_type": "code",
      "metadata": {
        "id": "1D6YdjBjeFfP"
      },
      "source": [
        "import requests\n",
        "\n",
        "alphabet = \"ABCDEFGHIJKLMNOPQRSTUVWXYZ\"\n",
        "tickers = set()\n",
        "for letter in alphabet:\n",
        "    url = 'http://www.nasdaq.com/screening/companies-by-name.aspx?letter='+letter\n",
        "    print(url)\n",
        "    html = requests.get(url).text\n",
        "    \n",
        "    # The code below extracts the number of pages for each letter\n",
        "    # of the alphabet. Potentially we can use that number to\n",
        "    # iterate over all the pages in NASDAQ. Left as an exercise\n",
        "    # for the interested reader :-)\n",
        "    pages_regex = r'Displaying.*of.*<b>(\\d+)</b>.*results'\n",
        "    pregex = re.compile(pages_regex)\n",
        "    pages = pregex.finditer(html)\n",
        "    for m in pages:\n",
        "        print(\"Results:\", m.group(1))\n",
        "        pages = int(int(m.group(1))/50+1)\n",
        "        print(\"Letter\", letter, \"needs\", str(pages), \"pages\")\n",
        "    \n",
        "    ticker_regex = r'http://www.nasdaq.com/symbol/(\\w+)'\n",
        "    regex = re.compile(ticker_regex)\n",
        "    matches = regex.finditer(html)\n",
        "    for m in matches:\n",
        "        ticker = m.group(1).upper()\n",
        "        #print(\"URL:\", m.group())\n",
        "        #print(\"Ticker:\", ticker)\n",
        "        tickers.add(ticker)\n",
        "    print(\"We have \", len(tickers), \"tickers\")\n",
        "\n",
        "tickers"
      ],
      "execution_count": null,
      "outputs": []
    },
    {
      "cell_type": "code",
      "metadata": {
        "id": "iyJgwZBAeFfP"
      },
      "source": [
        ""
      ],
      "execution_count": null,
      "outputs": []
    }
  ]
}