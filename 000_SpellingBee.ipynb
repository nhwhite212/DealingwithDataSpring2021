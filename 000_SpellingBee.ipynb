{
  "nbformat": 4,
  "nbformat_minor": 0,
  "metadata": {
    "colab": {
      "name": "000-SpellingBee.ipynb",
      "provenance": [],
      "collapsed_sections": [],
      "authorship_tag": "ABX9TyP0bb4aPa+WonmUw9qUALZH",
      "include_colab_link": true
    },
    "kernelspec": {
      "name": "python3",
      "display_name": "Python 3"
    },
    "language_info": {
      "name": "python"
    }
  },
  "cells": [
    {
      "cell_type": "markdown",
      "metadata": {
        "id": "view-in-github",
        "colab_type": "text"
      },
      "source": [
        "<a href=\"https://colab.research.google.com/github/nhwhite212/DealingwithDataSpring2021/blob/master/000_SpellingBee.ipynb\" target=\"_parent\"><img src=\"https://colab.research.google.com/assets/colab-badge.svg\" alt=\"Open In Colab\"/></a>"
      ]
    },
    {
      "cell_type": "markdown",
      "metadata": {
        "id": "SnVh3D6aKNXq"
      },
      "source": [
        "# Every Sunday, the NY Times has a \"Spelling Bee\" puzzle.\n",
        "This notebook could be used to solve the puzzle, using the python skills we know so far. (Note: This is **not** a graded assignment and is completely optional)\n",
        "\n",
        "##  The puzzle is that you are  given 7 letters, one of which MUST be used in forming a \"common\" USA English word\n",
        "### The word has to have at least 4 letters that ONLY come from the list of 7. Letters can be reused multiple times.\n",
        "\n",
        "\n",
        "## How to Play\n",
        "\n",
        "Create words using letters from the hive.\n",
        "\n",
        "    Words must contain at least 4 letters.\n",
        "    Words must include the center letter.\n",
        "    Our word list does not include words that are obscure, hyphenated, or proper nouns.\n",
        "    No cussing either, sorry.\n",
        "    Letters can be used more than once.\n",
        "\n",
        "Score points to increase your rating.\n",
        "\n",
        "    4-letter words are worth 1 point each.\n",
        "    Longer words earn 1 point per letter.\n",
        "    Each puzzle includes at least one “pangram” which uses every letter. These are worth 7 extra points!\n",
        "\n",
        "#### Example:\n",
        "Letters: *batonli*\n",
        "### Must use: b\n",
        "\n",
        "#### some answers: \n",
        "baton(2 points), libation( 5+7=12 points) , battalion( 6+7=13 points), lotion(X 0 points, no \"b\"), ...\n",
        "\n"
      ]
    },
    {
      "cell_type": "code",
      "metadata": {
        "id": "MEGo-iGdd5Dw"
      },
      "source": [
        ""
      ],
      "execution_count": null,
      "outputs": []
    },
    {
      "cell_type": "markdown",
      "metadata": {
        "id": "KaCWp2FKLC0k"
      },
      "source": [
        "### some ideas I tried. (that sort of worked).\n",
        "#### Use a dictionary library like enchant\n",
        "Take the  7 letters and the \"Center\" letter (the one that is required),\n",
        "and randomly generate words between 5 and 10 letters that have the \"Center\" letter and only letters from the 7 that are required. Then do a spell check on that word, if it passes, keep it.  Each word counts as a point, words that use all 7 letters count as 3 points. Do that \"many\" times. I did a few million. It pretty much worked, usually getting close to the NY times publshed answers, and sometime exceeding them. BUT, it ran a LONG time. \n",
        "This was the BRUTE force method...\n",
        "There is a MUCH faster way.\n",
        "\n",
        "Maybe you can do better. (Don't waste too much time)...\n",
        "\n",
        "I did discover that there are many different lists of english words. The first list I used, had everything in the dictionary, most of them \"not common\". I think the NY Times defines \"common\" as among the top X words by frequency. The example I gave above is from the Sunday Times on March 28. Their answers were  worth 38 points. I initially found over 200 words, but that was using a dictionary of all the words in the US English dictionary, most of which I had never heard of.\n",
        "\n",
        "https://github.com/first20hours/google-10000-english\n",
        "Looks like it has good lists of \"common\" English words.\n",
        "\n",
        "\n",
        "### Have fun!\n",
        "### Best,\n",
        "### Norm\n",
        "\n",
        "\n"
      ]
    },
    {
      "cell_type": "code",
      "metadata": {
        "id": "i6985S0oIlzD"
      },
      "source": [
        "# Your code here"
      ],
      "execution_count": null,
      "outputs": []
    },
    {
      "cell_type": "code",
      "metadata": {
        "id": "xSYTZvd7Jubv"
      },
      "source": [
        ""
      ],
      "execution_count": null,
      "outputs": []
    }
  ]
}