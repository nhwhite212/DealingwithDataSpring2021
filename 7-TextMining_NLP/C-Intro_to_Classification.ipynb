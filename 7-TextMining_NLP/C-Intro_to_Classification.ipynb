{
  "nbformat": 4,
  "nbformat_minor": 0,
  "metadata": {
    "kernelspec": {
      "display_name": "Python 3",
      "language": "python",
      "name": "python3"
    },
    "language_info": {
      "codemirror_mode": {
        "name": "ipython",
        "version": 3
      },
      "file_extension": ".py",
      "mimetype": "text/x-python",
      "name": "python",
      "nbconvert_exporter": "python",
      "pygments_lexer": "ipython3",
      "version": "3.6.5"
    },
    "colab": {
      "name": "C-Intro_to_Classification.ipynb",
      "provenance": [],
      "collapsed_sections": [],
      "include_colab_link": true
    }
  },
  "cells": [
    {
      "cell_type": "markdown",
      "metadata": {
        "id": "view-in-github",
        "colab_type": "text"
      },
      "source": [
        "<a href=\"https://colab.research.google.com/github/nhwhite212/DealingwithDataSpring2021/blob/master/7-TextMining_NLP/C-Intro_to_Classification.ipynb\" target=\"_parent\"><img src=\"https://colab.research.google.com/assets/colab-badge.svg\" alt=\"Open In Colab\"/></a>"
      ]
    },
    {
      "cell_type": "markdown",
      "metadata": {
        "id": "HBc1TFi68VUt"
      },
      "source": [
        "## Intro to Supervised Classification"
      ]
    },
    {
      "cell_type": "markdown",
      "metadata": {
        "id": "2W1kYIDn8VU0"
      },
      "source": [
        "For this lesson, we will focus on how to build our first automatic classification algorithms. Since the topic is huge, we will be simply scratching the surface, to get something working. For those interested in learning more, taking the Data Mining course next semester is the natural sequence."
      ]
    },
    {
      "cell_type": "markdown",
      "metadata": {
        "id": "hbNpLpH38VU0"
      },
      "source": [
        "Classification is the task of choosing the correct class label for a given input. In basic classification tasks, each input is considered in isolation from all other inputs, and the set of labels is defined in advance. Some examples of classification tasks are:\n",
        "\n",
        "* Deciding whether an email is spam or not.\n",
        "* Deciding what the topic of a news article is, from a fixed list of topic areas such as \"sports,\" \"technology,\" and \"politics.\"\n",
        "* Deciding whether a given occurrence of the word bank is used to refer to a river bank, a financial institution, the act of tilting to the side, or the act of depositing something in a financial institution.\n",
        "\n",
        "A classifier is called supervised if it is built based on **training data** containing the correct label for each input. \n",
        "\n",
        "<img src=\"http://www.nltk.org/images/supervised-classification.png\" width=\"50%\">"
      ]
    },
    {
      "cell_type": "markdown",
      "metadata": {
        "id": "xZg7Ot538VU1"
      },
      "source": [
        "(a) During training, we have a set of input cases, for which we know their correct label. Then we take each input and we extract a set of _features_, which capture the basic information about each input. Pairs of feature sets and labels are fed into the machine learning algorithm to generate a model. \n",
        "\n",
        "(b) During prediction, we need to classify input for which we do not have the correct label. For that, we extract the  same set of features from the input. we feed these features into the model, which generates predicted labels.\n"
      ]
    },
    {
      "cell_type": "markdown",
      "metadata": {
        "id": "1go0TaeH8VU3"
      },
      "source": [
        "### Gender Identification"
      ]
    },
    {
      "cell_type": "markdown",
      "metadata": {
        "id": "QnmLVPqI8VU4"
      },
      "source": [
        "Earlier, we have seen how we can generate frequency distribution (`FreqDist`) objects from texts (or collection of texts), and we discussed how such information can be used for identification of important words in a text.\n",
        "\n",
        "Let's see how we can use these frequency distributions for our first task: Identify the gender of a name.\n",
        "\n",
        "One more wordlist corpus is the Names corpus, containing 8,000 first names categorized by gender. The male and female names are stored in separate files. Let's find names which appear in both files, i.e. names that are ambiguous for gender:"
      ]
    },
    {
      "cell_type": "code",
      "metadata": {
        "id": "FADR0Wuk8VU4"
      },
      "source": [
        "import nltk\n",
        "import nltk.corpus\n",
        "from nltk.corpus import names\n",
        "#  We need to download the 'names' corpus from nltk\n",
        "nltk.download('names')\n",
        "print('there are ',len(names.words('male.txt')), ' in the names corpus for males')\n",
        "names.fileids()"
      ],
      "execution_count": null,
      "outputs": []
    },
    {
      "cell_type": "code",
      "metadata": {
        "id": "VOMtaTcD8VU6"
      },
      "source": [
        "male_names = names.words('male.txt')\n",
        "print(len(male_names))\n",
        "print(male_names[0:20])"
      ],
      "execution_count": null,
      "outputs": []
    },
    {
      "cell_type": "code",
      "metadata": {
        "id": "N7IP7d4E8VU7"
      },
      "source": [
        "female_names = names.words('female.txt')\n",
        "print(len(female_names))\n",
        "print(female_names[0:20])"
      ],
      "execution_count": null,
      "outputs": []
    },
    {
      "cell_type": "markdown",
      "metadata": {
        "id": "oeqmyCAe8VU7"
      },
      "source": [
        "Now, we need to create our training data. For that, we will create a set of tuples, with the *label* for the name ('male' or 'female') and the actual name:"
      ]
    },
    {
      "cell_type": "code",
      "metadata": {
        "id": "wqrsew0X8VU8"
      },
      "source": [
        "data = []\n",
        "data += [(\"female\", name) for name in female_names] \n",
        "data += [(\"male\", name) for name in male_names]"
      ],
      "execution_count": null,
      "outputs": []
    },
    {
      "cell_type": "code",
      "metadata": {
        "id": "13F2p8ZZ8VU-"
      },
      "source": [
        "# first 5\n",
        "data[:5]"
      ],
      "execution_count": null,
      "outputs": []
    },
    {
      "cell_type": "code",
      "metadata": {
        "id": "hLo1JQPY8VU-"
      },
      "source": [
        "data[-5:]"
      ],
      "execution_count": null,
      "outputs": []
    },
    {
      "cell_type": "markdown",
      "metadata": {
        "id": "MuE-R-n58VU_"
      },
      "source": [
        "#### Randomize the order of the names, since the first are always female and the last always male"
      ]
    },
    {
      "cell_type": "code",
      "metadata": {
        "id": "wMeq1wye8VU_"
      },
      "source": [
        "import random\n",
        "random.shuffle(data)\n",
        "data"
      ],
      "execution_count": null,
      "outputs": []
    },
    {
      "cell_type": "markdown",
      "metadata": {
        "id": "95q5Nz3O8VU_"
      },
      "source": [
        "Now, we can build our first rudimentary classifier: We lookup a name in the list, and return the gender in the label."
      ]
    },
    {
      "cell_type": "code",
      "metadata": {
        "id": "ZRQsWkqW8VVA"
      },
      "source": [
        "def classify_name(input_name):\n",
        "    for (label, name) in data:\n",
        "        if name == input_name:\n",
        "            print(label);"
      ],
      "execution_count": null,
      "outputs": []
    },
    {
      "cell_type": "markdown",
      "metadata": {
        "id": "KdyF1Qcm8VVA"
      },
      "source": [
        "Let's try now our classifier for a few different inputs:"
      ]
    },
    {
      "cell_type": "code",
      "metadata": {
        "id": "YBGC4X5q8VVA"
      },
      "source": [
        "input_name = \"John\"\n",
        "print(\"Trying \", input_name)\n",
        "classify_name(input_name)"
      ],
      "execution_count": null,
      "outputs": []
    },
    {
      "cell_type": "code",
      "metadata": {
        "id": "RUThQNfi8VVB"
      },
      "source": [
        "input_name = \"Jane\"\n",
        "print(\"Trying \", input_name)\n",
        "classify_name(input_name)"
      ],
      "execution_count": null,
      "outputs": []
    },
    {
      "cell_type": "code",
      "metadata": {
        "id": "q7epWa938VVB"
      },
      "source": [
        "input_name = \"Leslie\"\n",
        "print(\"Trying \", input_name)\n",
        "classify_name(input_name)"
      ],
      "execution_count": null,
      "outputs": []
    },
    {
      "cell_type": "code",
      "metadata": {
        "id": "wfWJpw_s8VVB"
      },
      "source": [
        "input_name = \"Norman\"\n",
        "print(\"Trying \", input_name)\n",
        "classify_name(input_name)"
      ],
      "execution_count": null,
      "outputs": []
    },
    {
      "cell_type": "markdown",
      "metadata": {
        "id": "FbmMJ1RW8VVC"
      },
      "source": [
        "Apparently, our classifier has a few problems. Cannot handle at all names that are not in the training data, and has problems when the names appear in both lists. Let's see how many such names there are:"
      ]
    },
    {
      "cell_type": "code",
      "metadata": {
        "id": "YGL0avAK8VVC"
      },
      "source": [
        "m = set(male_names)\n",
        "f= set(female_names)\n",
        "# intersect the two sets of names\n",
        "ambiguous = m & f\n",
        "print(len(ambiguous))\n",
        "print(sorted(ambiguous))"
      ],
      "execution_count": null,
      "outputs": []
    },
    {
      "cell_type": "markdown",
      "metadata": {
        "id": "kRiKi6RI8VVC"
      },
      "source": [
        "One way to improve our classifier is to use a bigger dataset, or count the actual frequency of each name in female and male versions, instead of having just a list. However, none of these solve the underlying problem that the classifier cannot extend beyond the training data."
      ]
    },
    {
      "cell_type": "markdown",
      "metadata": {
        "id": "Av_DWwvG8VVD"
      },
      "source": [
        "### Featurization\n",
        "\n",
        "Featurization is a process in which we represent an input using a set of values, that are derived from the input. \n",
        "\n",
        "For example, for gender identification, the last character of the name can give hints about the gender. For example, it is well known that names ending in the letter `a` are almost always female. \n",
        "\n",
        "Let's create a revised data set"
      ]
    },
    {
      "cell_type": "code",
      "metadata": {
        "id": "0Q6rKB3N8VVD"
      },
      "source": [
        "last_char_data = [(label, name[-1]) for (label, name) in data]\n",
        "last_char_data[:10]"
      ],
      "execution_count": null,
      "outputs": []
    },
    {
      "cell_type": "code",
      "metadata": {
        "id": "e_XjFHel8VVD"
      },
      "source": [
        "last_char_data[-10:]"
      ],
      "execution_count": null,
      "outputs": []
    },
    {
      "cell_type": "markdown",
      "metadata": {
        "id": "nGAu7ovM8VVE"
      },
      "source": [
        "#### Now, we can use the concept of **conditional** frequency distribution, to compare the frequencies of each feature in the two classes:"
      ]
    },
    {
      "cell_type": "code",
      "metadata": {
        "id": "YlrLYPP28VVE"
      },
      "source": [
        "cfd = nltk.ConditionalFreqDist(last_char_data)"
      ],
      "execution_count": null,
      "outputs": []
    },
    {
      "cell_type": "code",
      "metadata": {
        "id": "Zn_Ovl7n8VVE"
      },
      "source": [
        "%matplotlib inline\n",
        "import pandas as pd\n",
        "import matplotlib.pyplot as plt\n",
        "# Make the graphs a bit prettier, and bigger\n",
        "plt.rcParams['figure.figsize'] = (15, 5)\n",
        "\n",
        "cfd.plot()"
      ],
      "execution_count": null,
      "outputs": []
    },
    {
      "cell_type": "markdown",
      "metadata": {
        "id": "GsfUkBj_8VVE"
      },
      "source": [
        "This plot shows the number of female and male names ending with each letter of the alphabet; most names ending with a, e or i are female; names ending in h and l are ambiguous and can both male and female; names ending in k, o, r, s, and t are more likely to be male."
      ]
    },
    {
      "cell_type": "markdown",
      "metadata": {
        "id": "GjnMOFZL8VVF"
      },
      "source": [
        "#### Let's build a classifier to model these differences more precisely.\n",
        "\n",
        "The first step in creating a classifier is deciding what features of the input are relevant, and how to encode those features. For this example, we'll start by just looking at the final letter of a given name. The following feature extractor function builds a dictionary containing relevant information about a given name:"
      ]
    },
    {
      "cell_type": "code",
      "metadata": {
        "id": "sUEr421g8VVF"
      },
      "source": [
        "def gender_features(word):\n",
        "     return {\n",
        "        'last_letter': word[-1]\n",
        "    }\n",
        "\n",
        "gender_features('Shrek')"
      ],
      "execution_count": null,
      "outputs": []
    },
    {
      "cell_type": "markdown",
      "metadata": {
        "id": "cYSRzM4N8VVF"
      },
      "source": [
        "Of course, we can add more features if we want. (But beware, as this is not always better, as we will see later.)"
      ]
    },
    {
      "cell_type": "code",
      "metadata": {
        "id": "OWZZ4-5p8VVG"
      },
      "source": [
        "def gender_features(word):\n",
        "     return {\n",
        "        'last_letter': word[-1],\n",
        "        'first_letter': word[0],\n",
        "        'penultimate_letter': word[-2],\n",
        "        'last_two_letters': word[-2:]\n",
        "    }\n",
        "\n",
        "gender_features('Shrek')"
      ],
      "execution_count": null,
      "outputs": []
    },
    {
      "cell_type": "markdown",
      "metadata": {
        "id": "tPDqR2ms8VVG"
      },
      "source": [
        "The returned dictionary, known as a feature set, maps from features' names to their values. Feature names are case-sensitive strings that typically provide a short human-readable description of the feature. Feature values are values with simple types, such as booleans, numbers, and strings.\n",
        "\n",
        "Now that we've defined a feature extractor, we need to prepare a list of examples and corresponding class labels."
      ]
    },
    {
      "cell_type": "code",
      "metadata": {
        "id": "QDWtKVaA8VVG"
      },
      "source": [
        "from nltk.corpus import names\n",
        "\n",
        "def gender_features(word):\n",
        "     return {\n",
        "        'last_letter': word[-1]\n",
        "    }\n",
        "\n",
        "male_names = names.words('male.txt')\n",
        "female_names = names.words('female.txt')\n",
        "\n",
        "labeled_names = []\n",
        "labeled_names += [(\"female\", name) for name in female_names] \n",
        "labeled_names += [(\"male\", name) for name in male_names]\n",
        "# create the labeled feature set\n",
        "\n",
        "labeled_featuresets = [(gender_features(name), gender) for (gender, name) in labeled_names]"
      ],
      "execution_count": null,
      "outputs": []
    },
    {
      "cell_type": "code",
      "metadata": {
        "id": "LT6UhSBC8VVG"
      },
      "source": [
        "labeled_featuresets[-5:]"
      ],
      "execution_count": null,
      "outputs": []
    },
    {
      "cell_type": "markdown",
      "metadata": {
        "id": "eSXvK4Ni8VVH"
      },
      "source": [
        "\n",
        "randomize and then split into a training and test set. We will train on the training set, and then test the\n",
        "classifier on the test set."
      ]
    },
    {
      "cell_type": "code",
      "metadata": {
        "id": "Dzl4f4q08VVH"
      },
      "source": [
        "# We want to randomize the order, before separating into training and test set\n",
        "import random\n",
        "random.shuffle(labeled_featuresets)"
      ],
      "execution_count": null,
      "outputs": []
    },
    {
      "cell_type": "code",
      "metadata": {
        "id": "WOlyTaEa8VVH"
      },
      "source": [
        "labeled_featuresets"
      ],
      "execution_count": null,
      "outputs": []
    },
    {
      "cell_type": "code",
      "metadata": {
        "id": "mSM-y4j18VVH"
      },
      "source": [
        "len(labeled_featuresets)"
      ],
      "execution_count": null,
      "outputs": []
    },
    {
      "cell_type": "markdown",
      "metadata": {
        "id": "RLoBLKgd8VVI"
      },
      "source": [
        "Next, we divide the resulting list of feature sets into a **training set** and a **test set**. The training set is used to train our classifier. The test set will **not** be used for training but only for evaluating the performance of our classifier for \"unseen\" data that have not been present in the training data."
      ]
    },
    {
      "cell_type": "code",
      "metadata": {
        "id": "ZgK2M9428VVJ"
      },
      "source": [
        "# We will keep 500 examples for testing and the remaining ones will be training\n",
        "train_set, test_set = labeled_featuresets[500:], labeled_featuresets[:500]"
      ],
      "execution_count": null,
      "outputs": []
    },
    {
      "cell_type": "markdown",
      "metadata": {
        "id": "Xd5Ancg38VVJ"
      },
      "source": [
        "Now that we have our data ready, let's build our classifier. We will use a \"Naive Bayes\" classifier. We are not going to talk about the underlying mathematical details of the classification model, and instead will treat it as a black box. Covering how the NB classifier works, its strengths and weaknesses, and learning about alternative classification models (e.g., decision trees, logistic regression, support vector machines, etc) is the topic of the Data Mining class."
      ]
    },
    {
      "cell_type": "code",
      "metadata": {
        "id": "upX3CAvr8VVJ"
      },
      "source": [
        "classifier = nltk.NaiveBayesClassifier.train(train_set)"
      ],
      "execution_count": null,
      "outputs": []
    },
    {
      "cell_type": "markdown",
      "metadata": {
        "id": "z9m0aQvD8VVJ"
      },
      "source": [
        "Let's just test it out on some names that did not appear in its training data:"
      ]
    },
    {
      "cell_type": "code",
      "metadata": {
        "id": "6AJYmx2_8VVJ"
      },
      "source": [
        "classifier.classify(gender_features('Neo'))"
      ],
      "execution_count": null,
      "outputs": []
    },
    {
      "cell_type": "code",
      "metadata": {
        "id": "uBx6GlpG8VVK"
      },
      "source": [
        "classifier.classify(gender_features('Trinity'))"
      ],
      "execution_count": null,
      "outputs": []
    },
    {
      "cell_type": "markdown",
      "metadata": {
        "id": "cYDZIVG58VVK"
      },
      "source": [
        "Observe that these character names from The Matrix are correctly classified. Although this science fiction movie is set in 2199, it still conforms with our expectations about names and genders. \n",
        "\n",
        "Let's check a few more:"
      ]
    },
    {
      "cell_type": "code",
      "metadata": {
        "id": "8YKV1KWa8VVK"
      },
      "source": [
        "smalltest = [\"Carlos\", \"Andres\", \"Burcak\", \"Utku\", \"Dmitriy\", \"Michael\", \"Jeffrey\", \n",
        "             \"Akshay\", \"Heidi\", \"Shameka\", \"Angela\", \"Albert\", \"Alejandro\", \"Mark\", \n",
        "             \"Libin\", \"Chris\", \"Rishi\", \"Dimitrij\", \"David\", \"Alexander\", \"Han\", \"Wen\", \n",
        "             \"Alvin\", \"Mitch\", \"Tyler\", \"Kai\",\"Wei\", \"Aamer\", \"Rafael\", \"John\", \"Paola\", \n",
        "             \"Keith\", \"Chinmaya\", \"Aman\", \"Salma\", \"Alex\", \"Li\", \"Jennifer\", \"Tsung-Hsiang\", \n",
        "             \"David\", \"Neil\", \"Brian\", \"Ajay\", \"Esel\", \"Theophilus\", \"Arun\", \"Barath\", \n",
        "             \"Akash\", \"Yaninee\", \"Julius\", \"Brad\", \"Anibal\", \"Mark\", \"Leandro\", \"Johan\" , \n",
        "             \"Marcus\", \"Randy\", \"Saif\", \"Nande\", \"Cactus\", \"Tim\", \"Jesus\", \"Chad\", \"Craig\", \n",
        "             \"Mark\", \"Dannial\", \"Lin\", \"Cindy\", \"Patrick\", \"Tanik\", \"Ahmad\", \"Tiisang\", \"Fengen\", \n",
        "             \"Nicholas\", \"Bharat\", \"Carlos\", \"Vinod\", \"Linda\", \"Tim\", \"Garry\", \"Qing\"]\n",
        "\n",
        "for name in sorted(smalltest):\n",
        "    features = gender_features(name)\n",
        "    print(\"Name: \", name, \" ==> \", classifier.classify(features))\n",
        "    "
      ],
      "execution_count": null,
      "outputs": []
    },
    {
      "cell_type": "markdown",
      "metadata": {
        "id": "Yz-XBd1S8VVL"
      },
      "source": [
        "We can systematically evaluate the classifier on a much larger quantity of unseen data: This is where we use the test set.\n",
        "Note that if we run this again on a different training set, we will get different results.\n",
        "##### Let's see what percentage of the test set our classifier classified correctly\n",
        "#    "
      ]
    },
    {
      "cell_type": "code",
      "metadata": {
        "id": "pNk0bz1Q8VVM"
      },
      "source": [
        "print(nltk.classify.accuracy(classifier, test_set))"
      ],
      "execution_count": null,
      "outputs": []
    },
    {
      "cell_type": "markdown",
      "metadata": {
        "id": "sv8YC2En8VVM"
      },
      "source": [
        "Finally, we can examine the classifier to determine which features it found most effective for distinguishing the names' genders:\n",
        "##### INFORMATIVE FEATURES"
      ]
    },
    {
      "cell_type": "code",
      "metadata": {
        "id": "HFthGSI88VVN"
      },
      "source": [
        "classifier.show_most_informative_features(26)"
      ],
      "execution_count": null,
      "outputs": []
    },
    {
      "cell_type": "markdown",
      "metadata": {
        "id": "0bOm5ipH8VVN"
      },
      "source": [
        "#### Exercise \n",
        "\n",
        "Modify the gender_features() function to provide the classifier with features encoding the length of the name, its first letter, and any other features that seem like they might be informative. Retrain the classifier with these new features, and test its accuracy."
      ]
    },
    {
      "cell_type": "code",
      "metadata": {
        "id": "-9-9Vhuh8VVN"
      },
      "source": [
        "# your code here\n",
        "from nltk.corpus import names\n",
        "import random\n",
        "\n",
        "# Modify this function to add more features\n",
        "def gender_features(word):\n",
        "    return {\n",
        "        'last_letter': word[-1]\n",
        "    }\n",
        "\n",
        "male_names = names.words('male.txt')\n",
        "female_names = names.words('female.txt')\n",
        "\n",
        "labeled_names = []\n",
        "labeled_names += [(\"female\", name) for name in female_names] \n",
        "labeled_names += [(\"male\", name) for name in male_names]\n",
        "\n",
        "labeled_featuresets = [(gender_features(name), gender) for (gender, name) in labeled_names]\n",
        "\n",
        "# We are going to repeat the process multiple times, as the shuffling generates different \n",
        "# sets of training and test data\n",
        "train_set, test_set = [], []\n",
        "trials = 50\n",
        "psum = 0;\n",
        "cnt = 0;\n",
        "for i in range(trials):\n",
        "    random.shuffle(labeled_featuresets)\n",
        "    # We will keep 500 examples for testing and the remaining ones will be training\n",
        "    train_set, test_set = labeled_featuresets[500:], labeled_featuresets[:500]\n",
        "    classifier = nltk.NaiveBayesClassifier.train(train_set)\n",
        "    accuracy = nltk.classify.accuracy(classifier, test_set)\n",
        "    # print(\"Trial:\", cnt, \" Accuracy:\", accuracy)\n",
        "    psum += accuracy\n",
        "    cnt += 1\n",
        "    \n",
        "print(\"Avg Accuracy: \", (psum/cnt))"
      ],
      "execution_count": null,
      "outputs": []
    },
    {
      "cell_type": "code",
      "metadata": {
        "id": "LAhprhHF8VVO"
      },
      "source": [
        "classifier.show_most_informative_features(100)"
      ],
      "execution_count": null,
      "outputs": []
    },
    {
      "cell_type": "markdown",
      "metadata": {
        "id": "fT_vB_2G8VVO"
      },
      "source": [
        "### Choosing the right features"
      ]
    },
    {
      "cell_type": "markdown",
      "metadata": {
        "id": "Fpt6cRVd8VVO"
      },
      "source": [
        "Selecting relevant features and deciding how to encode them for a learning method can have an enormous impact on the learning method's ability to extract a good model. Much of the interesting work in building a classifier is deciding what features might be relevant, and how we can represent them. Although it's often possible to get decent performance by using a fairly simple and obvious set of features, there are usually significant gains to be had by using carefully constructed features based on a thorough understanding of the task at hand.\n",
        "\n",
        "Typically, feature extractors are built through a process of trial-and-error, guided by intuitions about what information is relevant to the problem. It's common to start with a \"kitchen sink\" approach, including all the features that you can think of, and then checking to see which features actually are helpful."
      ]
    },
    {
      "cell_type": "code",
      "metadata": {
        "id": "uALwcu868VVO"
      },
      "source": [
        "def gender_features_expanded(name):\n",
        "    features = {}\n",
        "    #features[\"first_letter\"] = name[0].lower()\n",
        "    #features[\"last_letter\"] = name[-1].lower()\n",
        "    for letter in 'abcdefghijklmnopqrstuvwxyz':\n",
        "        features[\"count(%s)\" % letter] = name.lower().count(letter)\n",
        "        features[\"has(%s)\" % letter] = (letter in name.lower())\n",
        "    return features\n",
        "\n",
        "print(gender_features_expanded('Norman'))"
      ],
      "execution_count": null,
      "outputs": []
    },
    {
      "cell_type": "markdown",
      "metadata": {
        "id": "f5VgIcDK8VVO"
      },
      "source": [
        "However, there are usually limits to the number of features that you should use with a given learning algorithm — if we provide too many features, then the algorithm will have a higher chance of relying on idiosyncrasies of your training data that don't generalize well to new examples. This problem is known as **overfitting**, and can be especially problematic when working with small training sets. \n",
        "\n",
        "For example, if we train a naive Bayes classifier using the feature extractor shown in 1.2, it will overfit relatively small training set, resulting in a system whose accuracy is lower than the accuracy of a classifier that only pays attention to the final letter of each name:"
      ]
    },
    {
      "cell_type": "code",
      "metadata": {
        "id": "rRUn0Yn28VVP"
      },
      "source": [
        "random.shuffle(labeled_names)\n",
        "featuresets = [(gender_features_expanded(n), gender) for (gender, n) in labeled_names]\n",
        "train_set, test_set = featuresets[500:], featuresets[:500]\n",
        "train_names, test_names = labeled_names[500:], labeled_names[:500]\n",
        "classifier = nltk.NaiveBayesClassifier.train(train_set)\n",
        "print(nltk.classify.accuracy(classifier, test_set))\n",
        "classifier.show_most_informative_features(20)"
      ],
      "execution_count": null,
      "outputs": []
    },
    {
      "cell_type": "markdown",
      "metadata": {
        "id": "bdrN7ogK8VVP"
      },
      "source": [
        "So, let's keep our original classifier"
      ]
    },
    {
      "cell_type": "code",
      "metadata": {
        "id": "_KmkgSbo8VVP"
      },
      "source": [
        "random.shuffle(labeled_names)\n",
        "featuresets = [(gender_features(n), gender) for (gender, n) in labeled_names]\n",
        "train_set, test_set = featuresets[500:], featuresets[:500]\n",
        "train_names, test_names = labeled_names[500:], labeled_names[:500]\n",
        "classifier = nltk.NaiveBayesClassifier.train(train_set)\n",
        "print(nltk.classify.accuracy(classifier, test_set))"
      ],
      "execution_count": null,
      "outputs": []
    },
    {
      "cell_type": "markdown",
      "metadata": {
        "id": "CUSzQu-M8VVQ"
      },
      "source": [
        "We can generate a list of the errors that the classifier makes when predicting name genders:"
      ]
    },
    {
      "cell_type": "code",
      "metadata": {
        "id": "1EU0t1RD8VVR"
      },
      "source": [
        "errors = []\n",
        "for (correct, name) in test_names:\n",
        "    guess = classifier.classify(gender_features(name))\n",
        "    if correct != guess:\n",
        "        errors.append( (correct, guess, name) )"
      ],
      "execution_count": null,
      "outputs": []
    },
    {
      "cell_type": "code",
      "metadata": {
        "id": "EGeVey5t8VVR"
      },
      "source": [
        "len(errors)"
      ],
      "execution_count": null,
      "outputs": []
    },
    {
      "cell_type": "code",
      "metadata": {
        "id": "pbrtomkl8VVR"
      },
      "source": [
        "errors"
      ],
      "execution_count": null,
      "outputs": []
    },
    {
      "cell_type": "markdown",
      "metadata": {
        "id": "Zh_CHgEv8VVR"
      },
      "source": [
        "#### Confusion Matrix"
      ]
    },
    {
      "cell_type": "markdown",
      "metadata": {
        "id": "EcAga1LI8VVR"
      },
      "source": [
        "If we want to learn more about the specific types of errors for our classifier, we can create a \"confusion matrix\". A confusion matrix shows the number of times that a classifier classifies a specific instance into a particular class (E.g., males as males, males as females, etc)."
      ]
    },
    {
      "cell_type": "code",
      "metadata": {
        "id": "vlQyhnOL8VVR"
      },
      "source": [
        "gold = [gender for (features,gender) in test_set]"
      ],
      "execution_count": null,
      "outputs": []
    },
    {
      "cell_type": "code",
      "metadata": {
        "id": "mKuCWjiX8VVS"
      },
      "source": [
        "guess = [classifier.classify(features) for (features, gender) in test_set]"
      ],
      "execution_count": null,
      "outputs": []
    },
    {
      "cell_type": "code",
      "metadata": {
        "id": "gDvJxNLp8VVS"
      },
      "source": [
        "gold = [gender for (features,gender) in test_set]\n",
        "guess = [classifier.classify(features) for (features, gender) in test_set]\n",
        "\n",
        "cm = nltk.ConfusionMatrix(gold, guess)"
      ],
      "execution_count": null,
      "outputs": []
    },
    {
      "cell_type": "code",
      "metadata": {
        "id": "4x1LNFm48VVS"
      },
      "source": [
        "print(cm.pretty_format(sort_by_count=True, show_percents=False))"
      ],
      "execution_count": null,
      "outputs": []
    },
    {
      "cell_type": "code",
      "metadata": {
        "id": "yP5-eyP98VVS"
      },
      "source": [
        "print(cm.pretty_format(sort_by_count=True, show_percents=True))"
      ],
      "execution_count": null,
      "outputs": []
    },
    {
      "cell_type": "markdown",
      "metadata": {
        "id": "3lqqSVRH8VVT"
      },
      "source": [
        "We can then examine individual error cases where the model predicted the wrong label, and try to determine what additional pieces of information would allow it to make the right decision (or which existing pieces of information are tricking it into making the wrong decision). The feature set can then be adjusted accordingly. The names classifier that we have built generates about 100 errors on the test corpus:"
      ]
    },
    {
      "cell_type": "code",
      "metadata": {
        "id": "zihthTGM8VVT"
      },
      "source": [
        "for (correct, guess, name) in sorted(errors):\n",
        "    print('correct=%-8s guess=%-8s name=%-30s' % (correct, guess, name))"
      ],
      "execution_count": null,
      "outputs": []
    },
    {
      "cell_type": "markdown",
      "metadata": {
        "id": "vz9sTIwM8VVd"
      },
      "source": [
        "Looking through this list of errors makes it clear that some suffixes that are more than one letter can be indicative of name genders. For example, names ending in yn appear to be predominantly female, despite the fact that names ending in n tend to be male; and names ending in ch are usually male, even though names that end in h tend to be female. We therefore adjust our feature extractor to include features for two-letter suffixes:"
      ]
    },
    {
      "cell_type": "code",
      "metadata": {
        "id": "zIFNOzEf8VVd"
      },
      "source": [
        "def gender_features(word):\n",
        "    return {'last_letter': word[-1:],\n",
        "           'last_two_letters': word[-2:]}\n",
        "\n",
        "random.shuffle(labeled_names)\n",
        "featuresets = [(gender_features(n), gender) for (gender, n) in labeled_names]\n",
        "train_set, test_set = featuresets[500:], featuresets[:500]\n",
        "train_names, test_names = labeled_names[500:], labeled_names[:500]\n",
        "classifier = nltk.NaiveBayesClassifier.train(train_set)\n",
        "print(nltk.classify.accuracy(classifier, test_set))"
      ],
      "execution_count": null,
      "outputs": []
    },
    {
      "cell_type": "markdown",
      "metadata": {
        "id": "NwIUbjTB8VVd"
      },
      "source": [
        "This error analysis procedure can then be repeated, checking for patterns in the errors that are made by the newly improved classifier. Each time the error analysis procedure is repeated, we should select a different test/training split, to ensure that the classifier does not start to reflect idiosyncrasies in the test set."
      ]
    },
    {
      "cell_type": "code",
      "metadata": {
        "id": "SGWgcsq-8VVe"
      },
      "source": [
        ""
      ],
      "execution_count": null,
      "outputs": []
    },
    {
      "cell_type": "code",
      "metadata": {
        "id": "wUT8ltlt8VVe"
      },
      "source": [
        ""
      ],
      "execution_count": null,
      "outputs": []
    }
  ]
}