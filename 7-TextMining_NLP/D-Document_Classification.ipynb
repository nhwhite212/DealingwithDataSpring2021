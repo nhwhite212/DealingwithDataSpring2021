{
  "nbformat": 4,
  "nbformat_minor": 0,
  "metadata": {
    "kernelspec": {
      "display_name": "Python 3",
      "language": "python",
      "name": "python3"
    },
    "language_info": {
      "codemirror_mode": {
        "name": "ipython",
        "version": 3
      },
      "file_extension": ".py",
      "mimetype": "text/x-python",
      "name": "python",
      "nbconvert_exporter": "python",
      "pygments_lexer": "ipython3",
      "version": "3.5.2"
    },
    "colab": {
      "name": "D-Document_Classification.ipynb",
      "provenance": [],
      "collapsed_sections": [],
      "include_colab_link": true
    }
  },
  "cells": [
    {
      "cell_type": "markdown",
      "metadata": {
        "id": "view-in-github",
        "colab_type": "text"
      },
      "source": [
        "<a href=\"https://colab.research.google.com/github/nhwhite212/DealingwithDataSpring2021/blob/master/7-TextMining_NLP/D-Document_Classification.ipynb\" target=\"_parent\"><img src=\"https://colab.research.google.com/assets/colab-badge.svg\" alt=\"Open In Colab\"/></a>"
      ]
    },
    {
      "cell_type": "markdown",
      "metadata": {
        "id": "cGt8u5cBDfEa"
      },
      "source": [
        "## Classifying Text: Supervised Classification"
      ]
    },
    {
      "cell_type": "markdown",
      "metadata": {
        "id": "mom6NRGRDfEc"
      },
      "source": [
        "For this lesson, we will focus on how to build our first automatic classification algorithms. Since the topic is huge, we will be simply scratching the surface, to get something working. For those interested in learning more, taking the Data Mining course next semester is the natural sequence."
      ]
    },
    {
      "cell_type": "markdown",
      "metadata": {
        "id": "eE3wwYdADfEd"
      },
      "source": [
        "Classification is the task of choosing the correct class label for a given input. In basic classification tasks, each input is considered in isolation from all other inputs, and the set of labels is defined in advance. Some examples of classification tasks are:\n",
        "\n",
        "* Deciding whether an email is spam or not.\n",
        "* Deciding what the topic of a news article is, from a fixed list of topic areas such as \"sports,\" \"technology,\" and \"politics.\"\n",
        "* Deciding whether a given occurrence of the word bank is used to refer to a river bank, a financial institution, the act of tilting to the side, or the act of depositing something in a financial institution.\n",
        "\n",
        "A classifier is called supervised if it is built based on **training data** containing the correct label for each input. \n",
        "\n",
        "<img src=\"http://www.nltk.org/images/supervised-classification.png\" width=\"50%\">"
      ]
    },
    {
      "cell_type": "markdown",
      "metadata": {
        "id": "B7E9gWJ5DfEe"
      },
      "source": [
        "### Document Classification"
      ]
    },
    {
      "cell_type": "markdown",
      "metadata": {
        "id": "0W42tSjnDfEf"
      },
      "source": [
        "A common classification task is to classify documents into categories. Let's use for this the Movie Reviews corpus from NLTK:"
      ]
    },
    {
      "cell_type": "code",
      "metadata": {
        "colab": {
          "base_uri": "https://localhost:8080/"
        },
        "id": "uFeuQcd6DxWN",
        "outputId": "21400749-b182-4d75-d166-a9f5e188332d"
      },
      "source": [
        "import nltk\n",
        "nltk.download('movie_reviews')"
      ],
      "execution_count": 4,
      "outputs": [
        {
          "output_type": "stream",
          "text": [
            "[nltk_data] Downloading package movie_reviews to /root/nltk_data...\n",
            "[nltk_data]   Unzipping corpora/movie_reviews.zip.\n"
          ],
          "name": "stdout"
        },
        {
          "output_type": "execute_result",
          "data": {
            "text/plain": [
              "True"
            ]
          },
          "metadata": {
            "tags": []
          },
          "execution_count": 4
        }
      ]
    },
    {
      "cell_type": "code",
      "metadata": {
        "id": "MjKVF_joDfEf",
        "colab": {
          "base_uri": "https://localhost:8080/"
        },
        "outputId": "596aeb68-aefb-4fc1-d48f-4fee1d0710fe"
      },
      "source": [
        "from nltk.corpus import movie_reviews\n",
        "\n",
        "categories = movie_reviews.categories()\n",
        "categories"
      ],
      "execution_count": 5,
      "outputs": [
        {
          "output_type": "execute_result",
          "data": {
            "text/plain": [
              "['neg', 'pos']"
            ]
          },
          "metadata": {
            "tags": []
          },
          "execution_count": 5
        }
      ]
    },
    {
      "cell_type": "markdown",
      "metadata": {
        "id": "4asUtJSRDfEg"
      },
      "source": [
        "Now let's generate the list of files, each with its corresponding category."
      ]
    },
    {
      "cell_type": "code",
      "metadata": {
        "id": "FZWyrKICDfEh"
      },
      "source": [
        "labeled_files = []\n",
        "for category in categories:\n",
        "    labeled_files += [(fileid, category) for fileid in movie_reviews.fileids(category)]"
      ],
      "execution_count": 6,
      "outputs": []
    },
    {
      "cell_type": "code",
      "metadata": {
        "id": "ji94P-ZwDfEh",
        "colab": {
          "base_uri": "https://localhost:8080/"
        },
        "outputId": "155a2821-42e2-4e0f-c549-5bdbac201e15"
      },
      "source": [
        "labeled_files[:5]"
      ],
      "execution_count": 7,
      "outputs": [
        {
          "output_type": "execute_result",
          "data": {
            "text/plain": [
              "[('neg/cv000_29416.txt', 'neg'),\n",
              " ('neg/cv001_19502.txt', 'neg'),\n",
              " ('neg/cv002_17424.txt', 'neg'),\n",
              " ('neg/cv003_12683.txt', 'neg'),\n",
              " ('neg/cv004_12641.txt', 'neg')]"
            ]
          },
          "metadata": {
            "tags": []
          },
          "execution_count": 7
        }
      ]
    },
    {
      "cell_type": "code",
      "metadata": {
        "id": "O2UOoOQ2DfEh",
        "colab": {
          "base_uri": "https://localhost:8080/"
        },
        "outputId": "c81a7637-ff16-42d3-dd39-61e1931753c0"
      },
      "source": [
        "labeled_files[-5:]"
      ],
      "execution_count": 8,
      "outputs": [
        {
          "output_type": "execute_result",
          "data": {
            "text/plain": [
              "[('pos/cv995_21821.txt', 'pos'),\n",
              " ('pos/cv996_11592.txt', 'pos'),\n",
              " ('pos/cv997_5046.txt', 'pos'),\n",
              " ('pos/cv998_14111.txt', 'pos'),\n",
              " ('pos/cv999_13106.txt', 'pos')]"
            ]
          },
          "metadata": {
            "tags": []
          },
          "execution_count": 8
        }
      ]
    },
    {
      "cell_type": "code",
      "metadata": {
        "id": "I_anc2MbDfEi",
        "colab": {
          "base_uri": "https://localhost:8080/"
        },
        "outputId": "24ca489f-1e05-4448-a89f-e46c5d0a4793"
      },
      "source": [
        "len(labeled_files)"
      ],
      "execution_count": 9,
      "outputs": [
        {
          "output_type": "execute_result",
          "data": {
            "text/plain": [
              "2000"
            ]
          },
          "metadata": {
            "tags": []
          },
          "execution_count": 9
        }
      ]
    },
    {
      "cell_type": "code",
      "metadata": {
        "id": "v9AZE7ibDfEj",
        "colab": {
          "base_uri": "https://localhost:8080/"
        },
        "outputId": "1fd827a9-a7a0-4a31-cb8d-1b3b473ec17d"
      },
      "source": [
        "len([l for l in labeled_files if l[1]=='pos'])"
      ],
      "execution_count": 10,
      "outputs": [
        {
          "output_type": "execute_result",
          "data": {
            "text/plain": [
              "1000"
            ]
          },
          "metadata": {
            "tags": []
          },
          "execution_count": 10
        }
      ]
    },
    {
      "cell_type": "code",
      "metadata": {
        "id": "xhKV3w8LDfEk",
        "colab": {
          "base_uri": "https://localhost:8080/"
        },
        "outputId": "90bdf5da-3365-40bc-caca-7c7a3bf0e0d3"
      },
      "source": [
        "len([l for l in labeled_files if l[1]=='neg'])"
      ],
      "execution_count": 11,
      "outputs": [
        {
          "output_type": "execute_result",
          "data": {
            "text/plain": [
              "1000"
            ]
          },
          "metadata": {
            "tags": []
          },
          "execution_count": 11
        }
      ]
    },
    {
      "cell_type": "markdown",
      "metadata": {
        "id": "SYsUo4pkDfEk"
      },
      "source": [
        "### Featurizing a Document\n",
        "\n",
        "Now let's create the features. We will create **one feature per word**, with a **binary value**, indicating whether the document contains the word or not. To limit the number of features that the classifier needs to process, we begin by constructing a list of the 2000 most frequent words in the overall corpus"
      ]
    },
    {
      "cell_type": "code",
      "metadata": {
        "collapsed": true,
        "id": "8vxBfkn_DfEl",
        "colab": {
          "base_uri": "https://localhost:8080/"
        },
        "outputId": "f0d1e179-e17c-41ad-a7eb-70b4453287df"
      },
      "source": [
        "import nltk\n",
        "nltk.download('stopwords')\n",
        "from nltk.corpus import stopwords\n",
        "import random"
      ],
      "execution_count": 14,
      "outputs": [
        {
          "output_type": "stream",
          "text": [
            "[nltk_data] Downloading package stopwords to /root/nltk_data...\n",
            "[nltk_data]   Unzipping corpora/stopwords.zip.\n"
          ],
          "name": "stdout"
        }
      ]
    },
    {
      "cell_type": "code",
      "metadata": {
        "id": "YPevWiBxDfEl"
      },
      "source": [
        "# Extract all the words from all the reviews\n",
        "all_words = []\n",
        "for (fileid, category) in labeled_files:\n",
        "    # Get the words of the document\n",
        "    all_words.extend(movie_reviews.words(fileid))\n",
        "\n",
        "# Keep only words that are not stopwords\n",
        "stopwords = nltk.corpus.stopwords.words('english')\n",
        "filtered = [w.lower() for w in all_words if w.isalpha() and w not in stopwords]\n",
        "    \n",
        "# Compute the word frequency after removing stopwords \n",
        "fdist  = nltk.FreqDist(filtered)\n",
        "features = set([w for (w,f) in fdist.most_common(2000)])"
      ],
      "execution_count": 15,
      "outputs": []
    },
    {
      "cell_type": "code",
      "metadata": {
        "id": "cpohVN09DfEl"
      },
      "source": [
        "def document_features(fileid):\n",
        "    # Get the words of the document\n",
        "    document_words = set(movie_reviews.words(fileid))\n",
        "    document_features = {}\n",
        "    for word in features:\n",
        "        # Create a boolean feature that is True when the document contains the word\n",
        "        if word in document_words:\n",
        "            document_features[word] = True\n",
        "        else:\n",
        "            document_features[word] = False\n",
        "    return document_features"
      ],
      "execution_count": 16,
      "outputs": []
    },
    {
      "cell_type": "markdown",
      "metadata": {
        "id": "qYAkwakmDfEm"
      },
      "source": [
        "Let's see how long it takes to featurize a single document"
      ]
    },
    {
      "cell_type": "code",
      "metadata": {
        "id": "KKABRm3VDfEm",
        "colab": {
          "base_uri": "https://localhost:8080/"
        },
        "outputId": "df4d730f-57c8-4ed8-9d64-f6b06944bb22"
      },
      "source": [
        "%timeit  document_features(\"pos/cv995_21821.txt\")"
      ],
      "execution_count": 17,
      "outputs": [
        {
          "output_type": "stream",
          "text": [
            "1000 loops, best of 5: 1.18 ms per loop\n"
          ],
          "name": "stdout"
        }
      ]
    },
    {
      "cell_type": "markdown",
      "metadata": {
        "id": "aVpFsZM0DfEm"
      },
      "source": [
        "And to visualize how a \"featurized\" document looks like:"
      ]
    },
    {
      "cell_type": "code",
      "metadata": {
        "id": "Sb6KORioDfEm",
        "colab": {
          "base_uri": "https://localhost:8080/",
          "height": 161
        },
        "outputId": "bec5a4de-5a45-4718-f8ba-9b23229470d4"
      },
      "source": [
        "import pandas as pd\n",
        "testdf = pd.DataFrame(\n",
        "    [document_features(\"pos/cv995_21821.txt\"),\n",
        "     document_features(\"neg/cv003_12683.txt\")]\n",
        ")\n",
        "testdf"
      ],
      "execution_count": 18,
      "outputs": [
        {
          "output_type": "execute_result",
          "data": {
            "text/html": [
              "<div>\n",
              "<style scoped>\n",
              "    .dataframe tbody tr th:only-of-type {\n",
              "        vertical-align: middle;\n",
              "    }\n",
              "\n",
              "    .dataframe tbody tr th {\n",
              "        vertical-align: top;\n",
              "    }\n",
              "\n",
              "    .dataframe thead th {\n",
              "        text-align: right;\n",
              "    }\n",
              "</style>\n",
              "<table border=\"1\" class=\"dataframe\">\n",
              "  <thead>\n",
              "    <tr style=\"text-align: right;\">\n",
              "      <th></th>\n",
              "      <th>range</th>\n",
              "      <th>woody</th>\n",
              "      <th>example</th>\n",
              "      <th>job</th>\n",
              "      <th>roll</th>\n",
              "      <th>travolta</th>\n",
              "      <th>nights</th>\n",
              "      <th>prince</th>\n",
              "      <th>bar</th>\n",
              "      <th>particularly</th>\n",
              "      <th>totally</th>\n",
              "      <th>jane</th>\n",
              "      <th>stars</th>\n",
              "      <th>theme</th>\n",
              "      <th>brothers</th>\n",
              "      <th>comedy</th>\n",
              "      <th>wars</th>\n",
              "      <th>image</th>\n",
              "      <th>realistic</th>\n",
              "      <th>effective</th>\n",
              "      <th>suspense</th>\n",
              "      <th>visuals</th>\n",
              "      <th>armageddon</th>\n",
              "      <th>al</th>\n",
              "      <th>amy</th>\n",
              "      <th>existence</th>\n",
              "      <th>stock</th>\n",
              "      <th>big</th>\n",
              "      <th>compelling</th>\n",
              "      <th>length</th>\n",
              "      <th>interest</th>\n",
              "      <th>study</th>\n",
              "      <th>lawrence</th>\n",
              "      <th>seem</th>\n",
              "      <th>brain</th>\n",
              "      <th>sign</th>\n",
              "      <th>capable</th>\n",
              "      <th>harry</th>\n",
              "      <th>provided</th>\n",
              "      <th>complete</th>\n",
              "      <th>...</th>\n",
              "      <th>sorry</th>\n",
              "      <th>bob</th>\n",
              "      <th>filmmaking</th>\n",
              "      <th>morning</th>\n",
              "      <th>behind</th>\n",
              "      <th>feature</th>\n",
              "      <th>intense</th>\n",
              "      <th>flat</th>\n",
              "      <th>twist</th>\n",
              "      <th>etc</th>\n",
              "      <th>themes</th>\n",
              "      <th>members</th>\n",
              "      <th>shame</th>\n",
              "      <th>radio</th>\n",
              "      <th>people</th>\n",
              "      <th>based</th>\n",
              "      <th>solid</th>\n",
              "      <th>pace</th>\n",
              "      <th>cut</th>\n",
              "      <th>find</th>\n",
              "      <th>casting</th>\n",
              "      <th>hit</th>\n",
              "      <th>inspired</th>\n",
              "      <th>rose</th>\n",
              "      <th>waste</th>\n",
              "      <th>dude</th>\n",
              "      <th>exist</th>\n",
              "      <th>technical</th>\n",
              "      <th>miss</th>\n",
              "      <th>pull</th>\n",
              "      <th>dollars</th>\n",
              "      <th>door</th>\n",
              "      <th>constantly</th>\n",
              "      <th>special</th>\n",
              "      <th>right</th>\n",
              "      <th>film</th>\n",
              "      <th>written</th>\n",
              "      <th>plenty</th>\n",
              "      <th>leave</th>\n",
              "      <th>shoot</th>\n",
              "    </tr>\n",
              "  </thead>\n",
              "  <tbody>\n",
              "    <tr>\n",
              "      <th>0</th>\n",
              "      <td>False</td>\n",
              "      <td>False</td>\n",
              "      <td>False</td>\n",
              "      <td>True</td>\n",
              "      <td>False</td>\n",
              "      <td>False</td>\n",
              "      <td>False</td>\n",
              "      <td>False</td>\n",
              "      <td>False</td>\n",
              "      <td>False</td>\n",
              "      <td>False</td>\n",
              "      <td>False</td>\n",
              "      <td>False</td>\n",
              "      <td>False</td>\n",
              "      <td>False</td>\n",
              "      <td>False</td>\n",
              "      <td>False</td>\n",
              "      <td>False</td>\n",
              "      <td>False</td>\n",
              "      <td>False</td>\n",
              "      <td>False</td>\n",
              "      <td>False</td>\n",
              "      <td>False</td>\n",
              "      <td>False</td>\n",
              "      <td>False</td>\n",
              "      <td>False</td>\n",
              "      <td>False</td>\n",
              "      <td>True</td>\n",
              "      <td>False</td>\n",
              "      <td>False</td>\n",
              "      <td>False</td>\n",
              "      <td>False</td>\n",
              "      <td>False</td>\n",
              "      <td>False</td>\n",
              "      <td>False</td>\n",
              "      <td>False</td>\n",
              "      <td>False</td>\n",
              "      <td>False</td>\n",
              "      <td>False</td>\n",
              "      <td>False</td>\n",
              "      <td>...</td>\n",
              "      <td>False</td>\n",
              "      <td>False</td>\n",
              "      <td>False</td>\n",
              "      <td>False</td>\n",
              "      <td>False</td>\n",
              "      <td>False</td>\n",
              "      <td>False</td>\n",
              "      <td>False</td>\n",
              "      <td>False</td>\n",
              "      <td>False</td>\n",
              "      <td>False</td>\n",
              "      <td>False</td>\n",
              "      <td>False</td>\n",
              "      <td>False</td>\n",
              "      <td>False</td>\n",
              "      <td>False</td>\n",
              "      <td>False</td>\n",
              "      <td>False</td>\n",
              "      <td>False</td>\n",
              "      <td>False</td>\n",
              "      <td>False</td>\n",
              "      <td>True</td>\n",
              "      <td>False</td>\n",
              "      <td>False</td>\n",
              "      <td>False</td>\n",
              "      <td>False</td>\n",
              "      <td>False</td>\n",
              "      <td>False</td>\n",
              "      <td>False</td>\n",
              "      <td>False</td>\n",
              "      <td>False</td>\n",
              "      <td>True</td>\n",
              "      <td>False</td>\n",
              "      <td>False</td>\n",
              "      <td>True</td>\n",
              "      <td>True</td>\n",
              "      <td>True</td>\n",
              "      <td>False</td>\n",
              "      <td>False</td>\n",
              "      <td>False</td>\n",
              "    </tr>\n",
              "    <tr>\n",
              "      <th>1</th>\n",
              "      <td>False</td>\n",
              "      <td>False</td>\n",
              "      <td>False</td>\n",
              "      <td>False</td>\n",
              "      <td>False</td>\n",
              "      <td>False</td>\n",
              "      <td>False</td>\n",
              "      <td>False</td>\n",
              "      <td>False</td>\n",
              "      <td>False</td>\n",
              "      <td>False</td>\n",
              "      <td>True</td>\n",
              "      <td>False</td>\n",
              "      <td>False</td>\n",
              "      <td>False</td>\n",
              "      <td>True</td>\n",
              "      <td>False</td>\n",
              "      <td>False</td>\n",
              "      <td>False</td>\n",
              "      <td>False</td>\n",
              "      <td>False</td>\n",
              "      <td>False</td>\n",
              "      <td>False</td>\n",
              "      <td>False</td>\n",
              "      <td>False</td>\n",
              "      <td>False</td>\n",
              "      <td>False</td>\n",
              "      <td>True</td>\n",
              "      <td>False</td>\n",
              "      <td>True</td>\n",
              "      <td>False</td>\n",
              "      <td>False</td>\n",
              "      <td>False</td>\n",
              "      <td>False</td>\n",
              "      <td>False</td>\n",
              "      <td>False</td>\n",
              "      <td>False</td>\n",
              "      <td>False</td>\n",
              "      <td>False</td>\n",
              "      <td>True</td>\n",
              "      <td>...</td>\n",
              "      <td>False</td>\n",
              "      <td>False</td>\n",
              "      <td>False</td>\n",
              "      <td>True</td>\n",
              "      <td>False</td>\n",
              "      <td>True</td>\n",
              "      <td>False</td>\n",
              "      <td>False</td>\n",
              "      <td>False</td>\n",
              "      <td>False</td>\n",
              "      <td>False</td>\n",
              "      <td>False</td>\n",
              "      <td>False</td>\n",
              "      <td>False</td>\n",
              "      <td>False</td>\n",
              "      <td>False</td>\n",
              "      <td>False</td>\n",
              "      <td>False</td>\n",
              "      <td>False</td>\n",
              "      <td>True</td>\n",
              "      <td>False</td>\n",
              "      <td>False</td>\n",
              "      <td>False</td>\n",
              "      <td>False</td>\n",
              "      <td>False</td>\n",
              "      <td>False</td>\n",
              "      <td>False</td>\n",
              "      <td>False</td>\n",
              "      <td>False</td>\n",
              "      <td>False</td>\n",
              "      <td>False</td>\n",
              "      <td>False</td>\n",
              "      <td>False</td>\n",
              "      <td>False</td>\n",
              "      <td>False</td>\n",
              "      <td>True</td>\n",
              "      <td>False</td>\n",
              "      <td>False</td>\n",
              "      <td>False</td>\n",
              "      <td>False</td>\n",
              "    </tr>\n",
              "  </tbody>\n",
              "</table>\n",
              "<p>2 rows × 2000 columns</p>\n",
              "</div>"
            ],
            "text/plain": [
              "   range  woody  example    job   roll  ...  film  written  plenty  leave  shoot\n",
              "0  False  False    False   True  False  ...  True     True   False  False  False\n",
              "1  False  False    False  False  False  ...  True    False   False  False  False\n",
              "\n",
              "[2 rows x 2000 columns]"
            ]
          },
          "metadata": {
            "tags": []
          },
          "execution_count": 18
        }
      ]
    },
    {
      "cell_type": "code",
      "metadata": {
        "id": "tKP5LjQlDfEn"
      },
      "source": [
        "labeled_documents = [(document_features(fileid), category) for (fileid, category) in labeled_files]\n",
        "random.shuffle(labeled_documents)\n",
        "train_set, test_set = labeled_documents[100:], labeled_documents[:100]"
      ],
      "execution_count": 19,
      "outputs": []
    },
    {
      "cell_type": "code",
      "metadata": {
        "id": "1qx-ZQSTDfEn"
      },
      "source": [
        "classifier = nltk.NaiveBayesClassifier.train(train_set)"
      ],
      "execution_count": 20,
      "outputs": []
    },
    {
      "cell_type": "code",
      "metadata": {
        "id": "QeURKJ6tDfEo",
        "colab": {
          "base_uri": "https://localhost:8080/"
        },
        "outputId": "0a66ea1a-d99e-4dff-dfca-b85ba14f92bf"
      },
      "source": [
        "print(nltk.classify.accuracy(classifier, test_set))"
      ],
      "execution_count": 21,
      "outputs": [
        {
          "output_type": "stream",
          "text": [
            "0.75\n"
          ],
          "name": "stdout"
        }
      ]
    },
    {
      "cell_type": "code",
      "metadata": {
        "id": "gnr2zT6yDfEo",
        "colab": {
          "base_uri": "https://localhost:8080/"
        },
        "outputId": "c24d6554-f297-4e2f-edb2-3b3f4be8a3ab"
      },
      "source": [
        "classifier.show_most_informative_features(50)"
      ],
      "execution_count": 22,
      "outputs": [
        {
          "output_type": "stream",
          "text": [
            "Most Informative Features\n",
            "             outstanding = True              pos : neg    =     13.2 : 1.0\n",
            "                   mulan = True              pos : neg    =      8.5 : 1.0\n",
            "                  seagal = True              neg : pos    =      8.1 : 1.0\n",
            "             wonderfully = True              pos : neg    =      7.3 : 1.0\n",
            "              ridiculous = True              neg : pos    =      6.3 : 1.0\n",
            "                   damon = True              pos : neg    =      6.2 : 1.0\n",
            "                   flynt = True              pos : neg    =      5.8 : 1.0\n",
            "                     era = True              pos : neg    =      5.6 : 1.0\n",
            "                  wasted = True              neg : pos    =      5.6 : 1.0\n",
            "                    lame = True              neg : pos    =      5.2 : 1.0\n",
            "                   awful = True              neg : pos    =      5.2 : 1.0\n",
            "                   waste = True              neg : pos    =      4.9 : 1.0\n",
            "                  poorly = True              neg : pos    =      4.9 : 1.0\n",
            "                  allows = True              pos : neg    =      4.5 : 1.0\n",
            "                   worst = True              neg : pos    =      4.5 : 1.0\n",
            "                 unfunny = True              neg : pos    =      4.3 : 1.0\n",
            "               laughable = True              neg : pos    =      4.1 : 1.0\n",
            "                    jedi = True              pos : neg    =      3.9 : 1.0\n",
            "                   bland = True              neg : pos    =      3.9 : 1.0\n",
            "               portrayal = True              pos : neg    =      3.9 : 1.0\n",
            "                    mess = True              neg : pos    =      3.9 : 1.0\n",
            "                terrific = True              pos : neg    =      3.9 : 1.0\n",
            "               memorable = True              pos : neg    =      3.8 : 1.0\n",
            "                  stupid = True              neg : pos    =      3.8 : 1.0\n",
            "               fantastic = True              pos : neg    =      3.7 : 1.0\n",
            "                    dull = True              neg : pos    =      3.7 : 1.0\n",
            "                     eve = True              neg : pos    =      3.6 : 1.0\n",
            "                  boring = True              neg : pos    =      3.5 : 1.0\n",
            "                terrible = True              neg : pos    =      3.5 : 1.0\n",
            "                   badly = True              neg : pos    =      3.4 : 1.0\n",
            "                    anna = True              pos : neg    =      3.4 : 1.0\n",
            "               pointless = True              neg : pos    =      3.4 : 1.0\n",
            "                  superb = True              pos : neg    =      3.4 : 1.0\n",
            "                 freedom = True              pos : neg    =      3.3 : 1.0\n",
            "                  subtle = True              pos : neg    =      3.2 : 1.0\n",
            "               perfectly = True              pos : neg    =      3.2 : 1.0\n",
            "                   lucas = True              pos : neg    =      3.2 : 1.0\n",
            "                   damme = True              neg : pos    =      3.1 : 1.0\n",
            "                contrast = True              pos : neg    =      3.1 : 1.0\n",
            "               excellent = True              pos : neg    =      3.1 : 1.0\n",
            "                    tony = True              pos : neg    =      3.0 : 1.0\n",
            "               portrayed = True              pos : neg    =      3.0 : 1.0\n",
            "                    niro = True              pos : neg    =      3.0 : 1.0\n",
            "                   julie = True              neg : pos    =      3.0 : 1.0\n",
            "                   snake = True              neg : pos    =      3.0 : 1.0\n",
            "               brilliant = True              pos : neg    =      2.9 : 1.0\n",
            "                   hanks = True              pos : neg    =      2.9 : 1.0\n",
            "                  period = True              pos : neg    =      2.9 : 1.0\n",
            "             masterpiece = True              pos : neg    =      2.8 : 1.0\n",
            "                   clich = True              neg : pos    =      2.8 : 1.0\n"
          ],
          "name": "stdout"
        }
      ]
    },
    {
      "cell_type": "markdown",
      "metadata": {
        "id": "Wh4sANxMDfEq"
      },
      "source": [
        "### Exercise\n",
        "\n",
        "Try to come up with ways to improve the classifier that we discussed above. "
      ]
    },
    {
      "cell_type": "code",
      "metadata": {
        "collapsed": true,
        "id": "Z9EqhkzxDfEq"
      },
      "source": [
        "# Extract all the words from all the reviews\n",
        "all_words = []\n",
        "for (fileid, category) in labeled_files:\n",
        "    # Get the words of the document\n",
        "    all_words.extend(movie_reviews.words(fileid))\n",
        "\n",
        "# Keep only words that are not stopwords\n",
        "stopwords = nltk.corpus.stopwords.words('english')\n",
        "# Extend with a few keywords that are named entities\n",
        "stopwords.extend([\"mulan\", \"seagal\", \"damon\", \"ripley\", \"jedi\", \"hanks\"])\n",
        "filtered = [w.lower() for w in all_words if w.isalpha() and w not in stopwords]\n",
        "    \n",
        "# Compute the word frequency after removing stopwords \n",
        "fdist  = nltk.FreqDist(filtered)\n",
        "features = set([w for (w,f) in fdist.most_common(2000)])"
      ],
      "execution_count": 23,
      "outputs": []
    },
    {
      "cell_type": "code",
      "metadata": {
        "collapsed": true,
        "id": "BMcFQdxcDfEq"
      },
      "source": [
        "def document_features(fileid):\n",
        "    # Get the words of the document\n",
        "    document_words = set(movie_reviews.words(fileid))\n",
        "    document_features = {}\n",
        "    for word in features:\n",
        "        # Create a boolean feature that is True when the document contains the word\n",
        "        if word in document_words:\n",
        "            document_features[word] = True\n",
        "        else:\n",
        "            document_features[word] = False\n",
        "    return document_features"
      ],
      "execution_count": 24,
      "outputs": []
    },
    {
      "cell_type": "code",
      "metadata": {
        "id": "9ii6MjqbDfEr",
        "colab": {
          "base_uri": "https://localhost:8080/"
        },
        "outputId": "88b94efd-2928-49f7-b9b9-aa5f402b9ad0"
      },
      "source": [
        "labeled_documents = [(document_features(fileid), category) for (fileid, category) in labeled_files]\n",
        "random.shuffle(labeled_documents)\n",
        "train_set, test_set = labeled_documents[100:], labeled_documents[:100]\n",
        "\n",
        "classifier = nltk.NaiveBayesClassifier.train(train_set)\n",
        "print(\"Accuracy:\", nltk.classify.accuracy(classifier, test_set))\n",
        "classifier.show_most_informative_features(50)"
      ],
      "execution_count": 25,
      "outputs": [
        {
          "output_type": "stream",
          "text": [
            "Accuracy: 0.81\n",
            "Most Informative Features\n",
            "             outstanding = True              pos : neg    =     11.2 : 1.0\n",
            "             wonderfully = True              pos : neg    =      7.4 : 1.0\n",
            "                  poorly = True              neg : pos    =      6.1 : 1.0\n",
            "                   flynt = True              pos : neg    =      5.7 : 1.0\n",
            "                    lame = True              neg : pos    =      5.5 : 1.0\n",
            "                   awful = True              neg : pos    =      5.1 : 1.0\n",
            "                   waste = True              neg : pos    =      5.0 : 1.0\n",
            "              ridiculous = True              neg : pos    =      5.0 : 1.0\n",
            "                  wasted = True              neg : pos    =      4.9 : 1.0\n",
            "                   worst = True              neg : pos    =      4.4 : 1.0\n",
            "                     era = True              pos : neg    =      4.3 : 1.0\n",
            "                   bland = True              neg : pos    =      4.2 : 1.0\n",
            "               laughable = True              neg : pos    =      4.0 : 1.0\n",
            "                 unfunny = True              neg : pos    =      4.0 : 1.0\n",
            "                  allows = True              pos : neg    =      4.0 : 1.0\n",
            "               fantastic = True              pos : neg    =      3.9 : 1.0\n",
            "                terrific = True              pos : neg    =      3.9 : 1.0\n",
            "                    mess = True              neg : pos    =      3.8 : 1.0\n",
            "                  stupid = True              neg : pos    =      3.7 : 1.0\n",
            "               portrayal = True              pos : neg    =      3.7 : 1.0\n",
            "               memorable = True              pos : neg    =      3.7 : 1.0\n",
            "                  boring = True              neg : pos    =      3.7 : 1.0\n",
            "                    dull = True              neg : pos    =      3.7 : 1.0\n",
            "                     eve = True              neg : pos    =      3.7 : 1.0\n",
            "                    anna = True              pos : neg    =      3.6 : 1.0\n",
            "                   badly = True              neg : pos    =      3.5 : 1.0\n",
            "               pointless = True              neg : pos    =      3.5 : 1.0\n",
            "                terrible = True              neg : pos    =      3.4 : 1.0\n",
            "                  superb = True              pos : neg    =      3.3 : 1.0\n",
            "                   lucas = True              pos : neg    =      3.3 : 1.0\n",
            "                  subtle = True              pos : neg    =      3.2 : 1.0\n",
            "                 freedom = True              pos : neg    =      3.1 : 1.0\n",
            "                   snake = True              neg : pos    =      3.1 : 1.0\n",
            "                    zero = True              neg : pos    =      3.1 : 1.0\n",
            "               portrayed = True              pos : neg    =      3.1 : 1.0\n",
            "               excellent = True              pos : neg    =      3.0 : 1.0\n",
            "               perfectly = True              pos : neg    =      3.0 : 1.0\n",
            "                contrast = True              pos : neg    =      2.9 : 1.0\n",
            "               realistic = True              pos : neg    =      2.9 : 1.0\n",
            "             masterpiece = True              pos : neg    =      2.9 : 1.0\n",
            "                   flaws = True              pos : neg    =      2.9 : 1.0\n",
            "                    tony = True              pos : neg    =      2.9 : 1.0\n",
            "                   clich = True              neg : pos    =      2.8 : 1.0\n",
            "                   julie = True              neg : pos    =      2.8 : 1.0\n",
            "                   sadly = True              neg : pos    =      2.8 : 1.0\n",
            "                    epic = True              pos : neg    =      2.8 : 1.0\n",
            "                  period = True              pos : neg    =      2.8 : 1.0\n",
            "             fascinating = True              pos : neg    =      2.8 : 1.0\n",
            "                   study = True              pos : neg    =      2.8 : 1.0\n",
            "                   naked = True              neg : pos    =      2.7 : 1.0\n"
          ],
          "name": "stdout"
        }
      ]
    },
    {
      "cell_type": "code",
      "metadata": {
        "collapsed": true,
        "id": "fHBqPS2cDfEs"
      },
      "source": [
        ""
      ],
      "execution_count": null,
      "outputs": []
    },
    {
      "cell_type": "markdown",
      "metadata": {
        "id": "1I0QZVfOEpxF"
      },
      "source": [
        "### You should be able to apply similar logic to many different types of text..."
      ]
    },
    {
      "cell_type": "code",
      "metadata": {
        "id": "i8u5IdeTE0Mw"
      },
      "source": [
        ""
      ],
      "execution_count": null,
      "outputs": []
    }
  ]
}