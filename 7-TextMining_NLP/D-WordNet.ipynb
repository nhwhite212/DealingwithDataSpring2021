{
  "nbformat": 4,
  "nbformat_minor": 0,
  "metadata": {
    "kernelspec": {
      "display_name": "Python 3",
      "language": "python",
      "name": "python3"
    },
    "language_info": {
      "codemirror_mode": {
        "name": "ipython",
        "version": 3
      },
      "file_extension": ".py",
      "mimetype": "text/x-python",
      "name": "python",
      "nbconvert_exporter": "python",
      "pygments_lexer": "ipython3",
      "version": "3.6.5"
    },
    "colab": {
      "name": "D-WordNet.ipynb",
      "provenance": [],
      "collapsed_sections": [],
      "include_colab_link": true
    }
  },
  "cells": [
    {
      "cell_type": "markdown",
      "metadata": {
        "id": "view-in-github",
        "colab_type": "text"
      },
      "source": [
        "<a href=\"https://colab.research.google.com/github/nhwhite212/DealingwithDataSpring2021/blob/master/7-TextMining_NLP/D-WordNet.ipynb\" target=\"_parent\"><img src=\"https://colab.research.google.com/assets/colab-badge.svg\" alt=\"Open In Colab\"/></a>"
      ]
    },
    {
      "cell_type": "markdown",
      "metadata": {
        "id": "YHGH2AcNFHm5"
      },
      "source": [
        "## WordNet\n",
        "\n",
        "WordNet is a semantically-oriented dictionary of English, similar to a traditional thesaurus but with a richer structure. NLTK includes the English WordNet, with 155,287 words and 117,659 synonym sets. We'll begin by looking at synonyms and how they are accessed in WordNet.\n"
      ]
    },
    {
      "cell_type": "markdown",
      "metadata": {
        "id": "ybBcfQWSFHm8"
      },
      "source": [
        "\n",
        "###  Senses and Synonyms\n",
        "\n",
        "Consider the sentence below. If we replace the word motorcar in by automobile, the meaning of the sentence stays pretty much the same:\n",
        "\n",
        "* Benz is credited with the invention of the motorcar.\n",
        "* Benz is credited with the invention of the automobile.\n",
        "\n",
        "Since everything else in the sentence has remained unchanged, we can conclude that the words motorcar and automobile have the same meaning, i.e. they are **synonyms**. We can explore these words with the help of WordNet:"
      ]
    },
    {
      "cell_type": "markdown",
      "metadata": {
        "id": "DwnBwd5KFenm"
      },
      "source": [
        "# BEWARE - IN COLAB, YOU SHOULD ALWAYS  save your document in your DRIVE, and use nltk.download to download any corpuses you need."
      ]
    },
    {
      "cell_type": "code",
      "metadata": {
        "id": "nU_gF5DBFHm9"
      },
      "source": [
        "import nltk\n",
        "nltk.download('wordnet')\n",
        "from nltk.corpus import wordnet as wn\n",
        "wn.synsets('motorcar')"
      ],
      "execution_count": null,
      "outputs": []
    },
    {
      "cell_type": "markdown",
      "metadata": {
        "id": "KLCuaCJsFHm-"
      },
      "source": [
        "Thus, motorcar has just one possible meaning and it is identified as car.n.01, the first noun sense of car. The entity car.n.01 is called a **synset**, or **\"synonym set\"**, a collection of synonymous words (or \"lemmas\"):"
      ]
    },
    {
      "cell_type": "code",
      "metadata": {
        "id": "IpydFmm9FHm_"
      },
      "source": [
        " wn.synset('car.n.01').lemma_names()"
      ],
      "execution_count": null,
      "outputs": []
    },
    {
      "cell_type": "markdown",
      "metadata": {
        "id": "4lh8aLwvFHm_"
      },
      "source": [
        "Each word of a synset can have several meanings, e.g., car can also signify a train carriage, a gondola, or an elevator car. However, we are only interested in the single meaning that is common to all words of the above synset. Synsets also come with a prose definition and some example sentences:"
      ]
    },
    {
      "cell_type": "code",
      "metadata": {
        "id": "LEPgj04BFHnA"
      },
      "source": [
        "wn.synset('car.n.01').definition()"
      ],
      "execution_count": null,
      "outputs": []
    },
    {
      "cell_type": "code",
      "metadata": {
        "id": "oHfuzlUQFHnB"
      },
      "source": [
        "wn.synset('car.n.01').examples()"
      ],
      "execution_count": null,
      "outputs": []
    },
    {
      "cell_type": "markdown",
      "metadata": {
        "id": "IaIdwXjQFHnC"
      },
      "source": [
        "Although definitions help humans to understand the intended meaning of a synset, the words of the synset are often more useful for our programs. To eliminate ambiguity, we will identify these words as car.n.01.automobile, car.n.01.motorcar, and so on. This pairing of a synset with a word is called a **lemma**. We can get all the lemmas for a given synset, look up a particular lemma, get the synset corresponding to a lemma, and get the \"name\" of a lemma:"
      ]
    },
    {
      "cell_type": "markdown",
      "metadata": {
        "id": "0FnHLzBJFHnD"
      },
      "source": [
        "##### What are the lemmas for the synset car "
      ]
    },
    {
      "cell_type": "code",
      "metadata": {
        "id": "zS6U9gfXFHnD"
      },
      "source": [
        "wn.synset('car.n.01').lemmas() "
      ],
      "execution_count": null,
      "outputs": []
    },
    {
      "cell_type": "markdown",
      "metadata": {
        "id": "ZmdaWb3WFHnF"
      },
      "source": [
        "#### look up car,n.01.automobile"
      ]
    },
    {
      "cell_type": "code",
      "metadata": {
        "id": "_snExuPfFHnF"
      },
      "source": [
        "wn.lemma('car.n.01.automobile')"
      ],
      "execution_count": null,
      "outputs": []
    },
    {
      "cell_type": "markdown",
      "metadata": {
        "id": "_GDfbTvIFHnG"
      },
      "source": [
        "#### What synset does the lemma car.n.01.automobile  belong to?"
      ]
    },
    {
      "cell_type": "code",
      "metadata": {
        "id": "pSjQCTqsFHnG"
      },
      "source": [
        "wn.lemma('car.n.01.automobile').synset()"
      ],
      "execution_count": null,
      "outputs": []
    },
    {
      "cell_type": "code",
      "metadata": {
        "id": "pui4lP1tFHnH"
      },
      "source": [
        "#### and what is it's name?"
      ],
      "execution_count": null,
      "outputs": []
    },
    {
      "cell_type": "code",
      "metadata": {
        "id": "M9Tqd6sQFHnH"
      },
      "source": [
        "wn.lemma('car.n.01.automobile').name()"
      ],
      "execution_count": null,
      "outputs": []
    },
    {
      "cell_type": "markdown",
      "metadata": {
        "id": "vx_YNquWFHnI"
      },
      "source": [
        "Now let's analyze the word `car`, which has multiple **senses** (ie., meanings of the word)"
      ]
    },
    {
      "cell_type": "code",
      "metadata": {
        "id": "04SwynWJFHnI"
      },
      "source": [
        "wn.synsets('car')"
      ],
      "execution_count": null,
      "outputs": []
    },
    {
      "cell_type": "markdown",
      "metadata": {
        "id": "XuE_DRkIFHnI"
      },
      "source": [
        "#### What are all the different types of 'cars'? and their definitions and examples?"
      ]
    },
    {
      "cell_type": "code",
      "metadata": {
        "id": "swIW_eRHFHnJ"
      },
      "source": [
        "senses = [(s.lemma_names(), s.definition(), s.examples()) for s in wn.synsets('car')]\n",
        "for s in senses:\n",
        "    print(\"Lemma name:\", s[0])\n",
        "    print(\"Definition:\", s[1])\n",
        "    print(\"Examples  :\", s[2])\n",
        "    print(\"=======================\")"
      ],
      "execution_count": null,
      "outputs": []
    },
    {
      "cell_type": "markdown",
      "metadata": {
        "id": "kXN71otMFHnJ"
      },
      "source": [
        "#### and the different meanings for 'race'?"
      ]
    },
    {
      "cell_type": "code",
      "metadata": {
        "id": "y-ECjlYqFHnK"
      },
      "source": [
        "wn.synsets('race')"
      ],
      "execution_count": null,
      "outputs": []
    },
    {
      "cell_type": "code",
      "metadata": {
        "id": "0SruIZsbFHnK"
      },
      "source": [
        "## your code here: Analyze the word \"bank\"\n",
        "senses = [(s.lemma_names(), s.definition(), s.examples()) for s in wn.synsets('race')]\n",
        "for s in senses:\n",
        "    print(\"Lemma name:\", s[0])\n",
        "    print(\"Definition:\", s[1])\n",
        "    print(\"Examples  :\", s[2])\n",
        "    print(\"=======================\")"
      ],
      "execution_count": null,
      "outputs": []
    },
    {
      "cell_type": "markdown",
      "metadata": {
        "id": "nogczhN7FHnL"
      },
      "source": [
        "### The WordNet Hierarchy"
      ]
    },
    {
      "cell_type": "markdown",
      "metadata": {
        "id": "Sv7_pJN4FHnM"
      },
      "source": [
        "WordNet synsets correspond to abstract concepts, and they don't always have corresponding words in English. These concepts are linked together in a hierarchy. Some concepts are very general, such as Entity, State, Event — these are called unique beginners or root synsets. Others, such as gas guzzler and hatchback, are much more specific. A small portion of a concept hierarchy is illustrated below:"
      ]
    },
    {
      "cell_type": "markdown",
      "metadata": {
        "id": "GV2a-xfGFHnM"
      },
      "source": [
        "<img src=\"http://www.nltk.org/images/wordnet-hierarchy.png\" width=\"50%\">"
      ]
    },
    {
      "cell_type": "markdown",
      "metadata": {
        "id": "nc5SoWB2FHnN"
      },
      "source": [
        "### Hyponyms\n",
        "\n",
        "WordNet makes it easy to navigate between concepts. For example, given a concept like motorcar, we can look at the concepts that are more specific; the (immediate) hyponyms."
      ]
    },
    {
      "cell_type": "code",
      "metadata": {
        "id": "kxTNpoZXFHnN"
      },
      "source": [
        "motorcar = wn.synset('car.n.01')"
      ],
      "execution_count": null,
      "outputs": []
    },
    {
      "cell_type": "code",
      "metadata": {
        "id": "Vhz1TwItFHnN"
      },
      "source": [
        "types_of_motorcar = motorcar.hyponyms()\n",
        "types_of_motorcar"
      ],
      "execution_count": null,
      "outputs": []
    },
    {
      "cell_type": "code",
      "metadata": {
        "id": "L_oUiI1IFHnO"
      },
      "source": [
        "types_of_motorcar[0]"
      ],
      "execution_count": null,
      "outputs": []
    },
    {
      "cell_type": "markdown",
      "metadata": {
        "id": "yMTmWIDmFHnO"
      },
      "source": [
        "Let's go over all the types of motorcar, and for each of the returned `synsets` (synonym sets), create a list of lemmas."
      ]
    },
    {
      "cell_type": "code",
      "metadata": {
        "id": "xMaA-2YVFHnO"
      },
      "source": [
        "print(sorted(lemma.name() \n",
        "             for synset in types_of_motorcar \n",
        "                 for lemma in synset.lemmas()))"
      ],
      "execution_count": null,
      "outputs": []
    },
    {
      "cell_type": "markdown",
      "metadata": {
        "id": "DyZSPEJfFHnP"
      },
      "source": [
        "### Hypernyms\n",
        "\n",
        "We can also navigate up the hierarchy by visiting hypernyms. Some words have multiple paths, because they can be classified in more than one way. There are two paths between car.n.01 and entity.n.01 because wheeled_vehicle.n.01 can be classified as both a vehicle and a container."
      ]
    },
    {
      "cell_type": "code",
      "metadata": {
        "id": "dLXrm9UkFHnQ"
      },
      "source": [
        "motorcar.hypernyms()\n",
        "paths = motorcar.hypernym_paths()\n",
        "len(paths)"
      ],
      "execution_count": null,
      "outputs": []
    },
    {
      "cell_type": "code",
      "metadata": {
        "id": "xeL-Gs-_FHnQ"
      },
      "source": [
        "print([synset.name() for synset in paths[0]])"
      ],
      "execution_count": null,
      "outputs": []
    },
    {
      "cell_type": "code",
      "metadata": {
        "id": "6bazVb01FHnS"
      },
      "source": [
        "print([synset.name() for synset in paths[1]])"
      ],
      "execution_count": null,
      "outputs": []
    },
    {
      "cell_type": "markdown",
      "metadata": {
        "id": "59kQRSfSFHnS"
      },
      "source": [
        "### More Lexical Relations: Meronyms, Holonyms, Antonyms, Entailment\n",
        "\n",
        "Hypernyms and hyponyms are called lexical relations because they relate one synset to another. These two relations navigate up and down the \"is-a\" hierarchy. Another important way to navigate the WordNet network is from items to their components (**meronyms**) or to the things they are contained in (**holonyms**). For example, the parts of a tree are its trunk, crown, and so on; the part_meronyms(). The substance a tree is made of includes heartwood and sapwood; the substance_meronyms(). A collection of trees forms a forest; the member_holonyms():"
      ]
    },
    {
      "cell_type": "code",
      "metadata": {
        "id": "H9CBeqonFHnT"
      },
      "source": [
        "wn.synset('tree.n.01').part_meronyms()"
      ],
      "execution_count": null,
      "outputs": []
    },
    {
      "cell_type": "code",
      "metadata": {
        "id": "V8Mhp4taFHnT"
      },
      "source": [
        "wn.synset('tree.n.01').member_holonyms()"
      ],
      "execution_count": null,
      "outputs": []
    },
    {
      "cell_type": "code",
      "metadata": {
        "id": "8uOUOO8GFHnT"
      },
      "source": [
        "wn.synset('tree.n.01').substance_meronyms()"
      ],
      "execution_count": null,
      "outputs": []
    },
    {
      "cell_type": "code",
      "metadata": {
        "id": "BDmJRkJ-FHnT"
      },
      "source": [
        "wn.synsets(\"USA\")"
      ],
      "execution_count": null,
      "outputs": []
    },
    {
      "cell_type": "code",
      "metadata": {
        "id": "NfSWF8tKFHnU"
      },
      "source": [
        "wn.synset('united_states.n.01').part_meronyms()"
      ],
      "execution_count": null,
      "outputs": []
    },
    {
      "cell_type": "markdown",
      "metadata": {
        "id": "BaaAFQYdFHnU"
      },
      "source": [
        "To see just how intricate things can get, consider the word mint, which has several closely-related senses. We can see that mint.n.04 is part of mint.n.02 and the substance from which mint.n.05 is made."
      ]
    },
    {
      "cell_type": "code",
      "metadata": {
        "id": "Xy9yavDcFHnU"
      },
      "source": [
        "for synset in wn.synsets('mint', wn.NOUN):\n",
        "    print(synset.name() + ':', synset.definition())"
      ],
      "execution_count": null,
      "outputs": []
    },
    {
      "cell_type": "code",
      "metadata": {
        "id": "AsBpOk8hFHnU"
      },
      "source": [
        "wn.synset('mint.n.04').part_holonyms()"
      ],
      "execution_count": null,
      "outputs": []
    },
    {
      "cell_type": "code",
      "metadata": {
        "scrolled": true,
        "id": "W7PSwU-oFHnV"
      },
      "source": [
        "wn.synset('mint.n.04').substance_holonyms()"
      ],
      "execution_count": null,
      "outputs": []
    },
    {
      "cell_type": "markdown",
      "metadata": {
        "id": "HJXadIl8FHnV"
      },
      "source": [
        "### Exercise with Meronyms\n",
        "\n",
        "* Find the meronyms of the human body\n",
        "* Iterate so that you can find all the meronyms of the meronyms, and so on\n"
      ]
    },
    {
      "cell_type": "code",
      "metadata": {
        "id": "b8kq1aDaFHnW"
      },
      "source": [
        "# Get the synset for \"human\"\n",
        "\n",
        "# Select the right synset, and then get the meronyms for that synset using the part_meronyms() function\n",
        "\n",
        "# Repeat the process for the returned synset. You will need to write a function that takes as input\n",
        "# a synset, gets its meronyms, and processes them again using the same function. This is a technique\n",
        "# called \"recursion\""
      ],
      "execution_count": null,
      "outputs": []
    },
    {
      "cell_type": "code",
      "metadata": {
        "id": "o_8Ky-_qFHnW"
      },
      "source": [
        "wn.synsets(\"human\")"
      ],
      "execution_count": null,
      "outputs": []
    },
    {
      "cell_type": "code",
      "metadata": {
        "collapsed": true,
        "id": "UCadaNFYFHnW"
      },
      "source": [
        ""
      ],
      "execution_count": null,
      "outputs": []
    },
    {
      "cell_type": "code",
      "metadata": {
        "collapsed": true,
        "id": "cno2em1aFHnW"
      },
      "source": [
        ""
      ],
      "execution_count": null,
      "outputs": []
    },
    {
      "cell_type": "markdown",
      "metadata": {
        "id": "uTZXUO5wFHnW"
      },
      "source": [
        "#### Solution "
      ]
    },
    {
      "cell_type": "code",
      "metadata": {
        "id": "oz9TzpHhFHnX"
      },
      "source": [
        "wn.synsets(\"human\")"
      ],
      "execution_count": null,
      "outputs": []
    },
    {
      "cell_type": "code",
      "metadata": {
        "id": "IHtD1a3HFHnX"
      },
      "source": [
        "human = wn.synset('homo.n.02')\n",
        "human.part_meronyms()"
      ],
      "execution_count": null,
      "outputs": []
    },
    {
      "cell_type": "code",
      "metadata": {
        "id": "AdN9VJOtFHnX"
      },
      "source": [
        "def find_meronyms(synset):\n",
        "    result = []\n",
        "    meronyms = synset.part_meronyms()\n",
        "    \n",
        "    if len(meronyms) == 0:\n",
        "        # This one has no meronyms\n",
        "        return result\n",
        "    for part in meronyms:\n",
        "        # Append the meronym in the results\n",
        "        result.append(part)\n",
        "        # \n",
        "        part_meronyms = find_meronyms(part)\n",
        "        result.extend(part_meronyms)\n",
        "\n",
        "    return result\n",
        "\n",
        "human_parts = set(find_meronyms(human))"
      ],
      "execution_count": null,
      "outputs": []
    },
    {
      "cell_type": "code",
      "metadata": {
        "id": "zlV1Dq-zFHnY"
      },
      "source": [
        "human_parts_lemmas = set()\n",
        "for human_part in human_parts:\n",
        "    for lemma in human_part.lemmas():\n",
        "        human_parts_lemmas.add(lemma)\n",
        "        print(lemma)"
      ],
      "execution_count": null,
      "outputs": []
    },
    {
      "cell_type": "code",
      "metadata": {
        "id": "9YCcsZMzFHnY"
      },
      "source": [
        "for lemma in human_parts_lemmas:\n",
        "    print(lemma.name())"
      ],
      "execution_count": null,
      "outputs": []
    },
    {
      "cell_type": "markdown",
      "metadata": {
        "id": "gc1W7iGGFHnY"
      },
      "source": [
        "### Entailment"
      ]
    },
    {
      "cell_type": "markdown",
      "metadata": {
        "id": "shQdI1WgFHnY"
      },
      "source": [
        "There are also relationships between verbs. For example, the act of walking involves the act of stepping, so walking **entails** stepping. Some verbs have multiple entailments:"
      ]
    },
    {
      "cell_type": "code",
      "metadata": {
        "id": "TrN2eaLIFHnZ"
      },
      "source": [
        "wn.synset('walk.v.01').entailments()"
      ],
      "execution_count": null,
      "outputs": []
    },
    {
      "cell_type": "code",
      "metadata": {
        "id": "_ONUM7N8FHnZ"
      },
      "source": [
        "wn.synset('eat.v.01').entailments()"
      ],
      "execution_count": null,
      "outputs": []
    },
    {
      "cell_type": "code",
      "metadata": {
        "id": "knWw2Q-bFHnZ"
      },
      "source": [
        "wn.synset('tease.v.03').entailments()"
      ],
      "execution_count": null,
      "outputs": []
    },
    {
      "cell_type": "markdown",
      "metadata": {
        "id": "uK3OUnWuFHna"
      },
      "source": [
        "### Antonyms"
      ]
    },
    {
      "cell_type": "markdown",
      "metadata": {
        "id": "ZM0RVatAFHna"
      },
      "source": [
        "Some lexical relationships hold between lemmas, e.g., **antonymy**:"
      ]
    },
    {
      "cell_type": "code",
      "metadata": {
        "id": "7zqEVBYNFHna"
      },
      "source": [
        "wn.lemma('supply.n.02.supply').antonyms()"
      ],
      "execution_count": null,
      "outputs": []
    },
    {
      "cell_type": "code",
      "metadata": {
        "id": "19ps8o6ZFHna"
      },
      "source": [
        "wn.lemma('rush.v.01.rush').antonyms()"
      ],
      "execution_count": null,
      "outputs": []
    },
    {
      "cell_type": "code",
      "metadata": {
        "id": "09YLh4UCFHnb"
      },
      "source": [
        "wn.lemma('horizontal.a.01.horizontal').antonyms()"
      ],
      "execution_count": null,
      "outputs": []
    },
    {
      "cell_type": "code",
      "metadata": {
        "id": "xvrr4RzqFHnb"
      },
      "source": [
        "wn.lemma('staccato.r.01.staccato').antonyms()"
      ],
      "execution_count": null,
      "outputs": []
    },
    {
      "cell_type": "markdown",
      "metadata": {
        "id": "Z8vMBJ-bFHnb"
      },
      "source": [
        "You can see the (numerous!) lexical relations, and the other methods defined on a synset, using dir(), for example: dir(wn.synset('harmony.n.02'))."
      ]
    },
    {
      "cell_type": "code",
      "metadata": {
        "id": "ldKBJUtOFHnb"
      },
      "source": [
        "print(dir(wn.synset('harmony.n.02')))"
      ],
      "execution_count": null,
      "outputs": []
    },
    {
      "cell_type": "markdown",
      "metadata": {
        "id": "SiKoNu0gFHnb"
      },
      "source": [
        "### Semantic similarity\n",
        "\n",
        "We have seen that synsets are linked by a complex network of lexical relations. Given a particular synset, we can traverse the WordNet network to find synsets with related meanings. Knowing which words are semantically related is useful for indexing a collection of texts, so that a search for a general term like vehicle will match documents containing specific terms like limousine.\n",
        "\n",
        "Recall that each synset has one or more hypernym paths that link it to a root hypernym such as entity.n.01. Two synsets linked to the same root may have several hypernyms in common. If two synsets share a very specific hypernym — one that is low down in the hypernym hierarchy — they must be closely related."
      ]
    },
    {
      "cell_type": "code",
      "metadata": {
        "id": "7rV21msDFHnb"
      },
      "source": [
        "right = wn.synset('right_whale.n.01')\n",
        "orca = wn.synset('orca.n.01')\n",
        "minke = wn.synset('minke_whale.n.01')\n",
        "tortoise = wn.synset('tortoise.n.01')\n",
        "novel = wn.synset('novel.n.01')"
      ],
      "execution_count": null,
      "outputs": []
    },
    {
      "cell_type": "code",
      "metadata": {
        "id": "5_hdGDjhFHnb"
      },
      "source": [
        "right.lowest_common_hypernyms(minke)"
      ],
      "execution_count": null,
      "outputs": []
    },
    {
      "cell_type": "code",
      "metadata": {
        "id": "fNQoM9rsFHnc"
      },
      "source": [
        "right.lowest_common_hypernyms(orca)"
      ],
      "execution_count": null,
      "outputs": []
    },
    {
      "cell_type": "code",
      "metadata": {
        "id": "mLNtQhYKFHnc"
      },
      "source": [
        "right.lowest_common_hypernyms(tortoise)"
      ],
      "execution_count": null,
      "outputs": []
    },
    {
      "cell_type": "code",
      "metadata": {
        "id": "nO78va90FHnc"
      },
      "source": [
        "right.lowest_common_hypernyms(novel)"
      ],
      "execution_count": null,
      "outputs": []
    },
    {
      "cell_type": "markdown",
      "metadata": {
        "id": "q5TqJAb6FHnc"
      },
      "source": [
        "Of course we know that whale is very specific (and baleen whale even more so), while vertebrate is more general and entity is completely general. We can quantify this concept of generality by looking up the depth of each synset:"
      ]
    },
    {
      "cell_type": "code",
      "metadata": {
        "id": "Wj_vtikfFHnd"
      },
      "source": [
        "rwhale_minke = right.lowest_common_hypernyms(minke)\n",
        "rwhale_minke[0].min_depth()"
      ],
      "execution_count": null,
      "outputs": []
    },
    {
      "cell_type": "code",
      "metadata": {
        "id": "vZt3Ln2-FHnd"
      },
      "source": [
        "rwhale_orca = right.lowest_common_hypernyms(orca)\n",
        "rwhale_orca[0].min_depth()"
      ],
      "execution_count": null,
      "outputs": []
    },
    {
      "cell_type": "code",
      "metadata": {
        "id": "XRxWF-75FHnd"
      },
      "source": [
        "rwhale_vertebrate = right.lowest_common_hypernyms(tortoise)\n",
        "rwhale_vertebrate[0].min_depth()"
      ],
      "execution_count": null,
      "outputs": []
    },
    {
      "cell_type": "code",
      "metadata": {
        "id": "tz9iPKziFHnd"
      },
      "source": [
        "rwhale_novel = right.lowest_common_hypernyms(novel)\n",
        "rwhale_novel[0].min_depth()"
      ],
      "execution_count": null,
      "outputs": []
    },
    {
      "cell_type": "markdown",
      "metadata": {
        "id": "dLXtnsXIFHne"
      },
      "source": [
        "Similarity measures have been defined over the collection of WordNet synsets which incorporate the above insight. For example, path_similarity assigns a score in the range 0–1 based on the shortest path that connects the concepts in the hypernym hierarchy (-1 is returned in those cases where a path cannot be found). Comparing a synset with itself will return 1. Consider the following similarity scores, relating right whale to minke whale, orca, tortoise, and novel. Although the numbers won't mean much, they decrease as we move away from the semantic space of sea creatures to inanimate objects."
      ]
    },
    {
      "cell_type": "code",
      "metadata": {
        "id": "dBs0xJcyFHnf"
      },
      "source": [
        "print(\"Right whale - Minke :\", right.path_similarity(minke))\n",
        "print(\"Right whale - Orca :\", right.path_similarity(orca))\n",
        "print(\"Right whale - Tortoise :\", right.path_similarity(tortoise))\n",
        "print(\"Right whale - Novel :\", right.path_similarity(novel))"
      ],
      "execution_count": null,
      "outputs": []
    },
    {
      "cell_type": "code",
      "metadata": {
        "id": "Qr540w2hFHnf"
      },
      "source": [
        ""
      ],
      "execution_count": null,
      "outputs": []
    },
    {
      "cell_type": "code",
      "metadata": {
        "id": "31hnx9NtFHnf"
      },
      "source": [
        ""
      ],
      "execution_count": null,
      "outputs": []
    }
  ]
}