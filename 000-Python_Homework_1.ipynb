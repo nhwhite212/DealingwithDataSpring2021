{
  "nbformat": 4,
  "nbformat_minor": 0,
  "metadata": {
    "kernelspec": {
      "display_name": "Python 3",
      "language": "python",
      "name": "python3"
    },
    "language_info": {
      "codemirror_mode": {
        "name": "ipython",
        "version": 3
      },
      "file_extension": ".py",
      "mimetype": "text/x-python",
      "name": "python",
      "nbconvert_exporter": "python",
      "pygments_lexer": "ipython3",
      "version": "3.5.2"
    },
    "colab": {
      "name": "Python Homework 1.ipynb",
      "provenance": [],
      "collapsed_sections": [],
      "include_colab_link": true
    }
  },
  "cells": [
    {
      "cell_type": "markdown",
      "metadata": {
        "id": "view-in-github",
        "colab_type": "text"
      },
      "source": [
        "<a href=\"https://colab.research.google.com/github/nhwhite212/DealingwithDataSpring2021/blob/master/000-Python_Homework_1.ipynb\" target=\"_parent\"><img src=\"https://colab.research.google.com/assets/colab-badge.svg\" alt=\"Open In Colab\"/></a>"
      ]
    },
    {
      "cell_type": "markdown",
      "metadata": {
        "id": "9-pakTABNaUY"
      },
      "source": [
        "### This Homework asks you to write some python programs\r\n",
        "#### Please use \"reasonable\" variable names\r\n",
        "Each question is worth 4 points.\r\n",
        "\r\n",
        "==================================================="
      ]
    },
    {
      "cell_type": "markdown",
      "metadata": {
        "id": "z2PozzIlNaUe"
      },
      "source": [
        "#### *Question  1*\n",
        "The volume of a sphere is  \n",
        "$ 4/3 * PI *   R ^{3} $\n",
        "#### Where R is the radius of the sphere and \n",
        "#### PI  is 3.1415926535897931\n",
        "\n",
        "#### Write the python program to calculate and print the volume of a sphere of radius 32.\n",
        "\n"
      ]
    },
    {
      "cell_type": "code",
      "metadata": {
        "id": "m02Zn20lNaUf"
      },
      "source": [
        "# INSERT YOUR CODE HERE\r\n",
        "\r\n",
        "\r\n",
        "\r\n"
      ],
      "execution_count": null,
      "outputs": []
    },
    {
      "cell_type": "markdown",
      "metadata": {
        "id": "dBjBFeB2NaUh"
      },
      "source": [
        "#### *Question  2*\n",
        "In the text from a New York Times Article on Friday, March 12, 2021 which is below, find out how many characters there are in the article before the word \"Russia\" appears.\n"
      ]
    },
    {
      "cell_type": "code",
      "metadata": {
        "id": "VD3Jj29oNaUh",
        "colab": {
          "base_uri": "https://localhost:8080/"
        },
        "outputId": "8209e37c-0548-40f8-e985-2bf495276e27"
      },
      "source": [
        "# your code here\r\n",
        "nytimes= '''The Biden administration, under intense pressure to donate excess coronavirus vaccines to needy nations, is moving to address the global shortage in another way: by partnering with Japan, \r\n",
        "India and Australia to finance a dramatic expansion of the vaccine manufacturing capacity.\r\n",
        "\r\n",
        "The agreement was announced Friday at the Quad Summit, a virtual meeting between the heads of state of those four countries, which President Biden and Vice President Kamala Harris attended Friday morning. \r\n",
        "The goal, senior administration officials said, is to address an acute vaccine shortage in Southeast Asia, which in turn will boost worldwide supply\r\n",
        "\r\n",
        "The United States has fallen far behind China, Russia and India in the race to marshal coronavirus vaccines as an instrument of diplomacy. \r\n",
        "At the same time, Mr. Biden is facing accusations of “vaccine hoarding” from global health advocates who want his administration to channel supplies to needy nations that are desperate for access.\r\n",
        "\r\n",
        "Insisting that Americans come first, the president has so far refused to make any concrete commitments to give away American-made vaccines.\r\n",
        "\r\n",
        "“If we have a surplus, we’re going to share it with the rest of the world,” he said earlier this week, adding, \r\n",
        "“We’re going to start off making sure Americans are taken care of first, but we’re then going to try and help the rest of the world.” '''\r\n",
        "\r\n",
        "\r\n"
      ],
      "execution_count": 26,
      "outputs": [
        {
          "output_type": "stream",
          "text": [
            "The Biden administration, under intense pressure to donate excess coronavirus vaccines to needy nations, is moving to address the global shortage in another way: by partnering with Japan, \n",
            "India and Australia to finance a dramatic expansion of the vaccine manufacturing capacity.\n",
            "\n",
            "The agreement was announced Friday at the Quad Summit, a virtual meeting between the heads of state of those four countries, which President Biden and Vice President Kamala Harris attended Friday morning. \n",
            "The goal, senior administration officials said, is to address an acute vaccine shortage in Southeast Asia, which in turn will boost worldwide supply\n",
            "\n",
            "The United States has fallen far behind China, Russia and India in the race to marshal coronavirus vaccines as an instrument of diplomacy. \n",
            "At the same time, Mr. Biden is facing accusations of “vaccine hoarding” from global health advocates who want his administration to channel supplies to needy nations that are desperate for access.\n",
            "\n",
            "Insisting that Americans come first, the president has so far refused to make any concrete commitments to give away American-made vaccines.\n",
            "\n",
            "“If we have a surplus, we’re going to share it with the rest of the world,” he said earlier this week, adding, \n",
            "“We’re going to start off making sure Americans are taken care of first, but we’re then going to try and help the rest of the world.” \n"
          ],
          "name": "stdout"
        }
      ]
    },
    {
      "cell_type": "markdown",
      "metadata": {
        "id": "kWUGERNcNaUh"
      },
      "source": [
        "#### *Question 3*\n",
        "\n",
        "We want to compute the \"[wind chill index](https://en.wikipedia.org/wiki/Wind_chill)\" as described at Wikipedia\n",
        "\n",
        "$T_\\mathrm{wc}=35.74+0.6215 T_\\mathrm{a}-35.75 v^{0.16}+0.4275 T_\\mathrm{a} v^{0.16}$\n",
        "\n",
        "where $T_\\mathrm{wc}$  is the wind chill index, based on the Fahrenheit scale; $T_\\mathrm{a}$ is the air temperature in degrees Fahrenheit, and $v$ is the wind speed in miles per hour. (Note: Windchill temperature is defined only for temperatures at or below 50 °F and wind speeds above 3.0 miles per hour.) \n",
        "Compute the windchill for 20 degrees F and a 12MPH wind.\n",
        "\n"
      ]
    },
    {
      "cell_type": "code",
      "metadata": {
        "id": "0bEJX1RVNaUi"
      },
      "source": [
        "# INSERT YOUR CODE HERE\r\n",
        "\r\n",
        "\r\n"
      ],
      "execution_count": null,
      "outputs": []
    },
    {
      "cell_type": "markdown",
      "metadata": {
        "id": "6lLI3xJ0KqtV"
      },
      "source": [
        "### *Question 4*\r\n",
        "\r\n",
        "In the following code cell, exchange the first 3 words  of the string \"I am in love with python in the Dealing with Data class\", with the last 3 words. (i.e interchange \" I am in \" with \"with Data Class\")\r\n",
        "hints:\r\n",
        "* a) Convert the string to a list of words with split.\r\n",
        "* b) Save the first 3 words in a list using a slice operator.\r\n",
        "* c) Copy the last 3 words into the first 3 words.\r\n",
        "* d) copy the first 3 words that uou saved into the last 3 words.\r\n",
        "* e) use the .join operator to convert the list back to a string\r\n",
        "* f) print out the answer\r\n",
        "\r\n",
        "\r\n",
        "\r\n"
      ]
    },
    {
      "cell_type": "code",
      "metadata": {
        "id": "N50dGEdMNaUj"
      },
      "source": [
        "str=\"I am in love with python in the Dealing with Data Class\"\r\n",
        "# INSERT YOUR CODE HERE\r\n",
        "\r\n"
      ],
      "execution_count": null,
      "outputs": []
    },
    {
      "cell_type": "markdown",
      "metadata": {
        "id": "6FLopiGMZ2hN"
      },
      "source": [
        "#### *Question 5*\r\n",
        "\r\n",
        "A user has a file that she would like to load into excel. The file has an odd format, the columns are separated by \"_\"s. You need to turn the data into a CSV (Comma Separated Variable) file, where the columns are separated by \",\"s. Use the split and join string functions to produce a CSV file for her. \r\n",
        "#### Try to do it in one line of python code.\r\n",
        "\r\n",
        "\r\n",
        "```\r\n",
        "\"Name\"_\"Course\"_\"Grade\" \r\n",
        "\"Norman White\"_\"Room 8-84, KMEC\"_100\r\n",
        "\"Betty White\"_\"Room 8-85, KMEC\"_98\r\n",
        "\"Student1\"_\"43 West Street, NYC\"_95\r\n",
        "\"Student2\"_\"28 Mainstreet, Hoboken NJ\"_93\r\n",
        "\"Student99\"_\"99 2nd. Ave., NYC\"_85 \r\n",
        "```\r\n",
        "\r\n",
        "\r\n",
        "\r\n",
        "`\r\n",
        "\r\n",
        "\r\n"
      ]
    },
    {
      "cell_type": "code",
      "metadata": {
        "id": "x-9VLmEcAh4y"
      },
      "source": [
        "Thefile= '''\r\n",
        "\"Name\"_\"Course\"_\"Grade\" \r\n",
        "\"Norman White\"_\"Room 8-84, KMEC\"_100\r\n",
        "\"Betty White\"_\"Room 8-85, KMEC\"_98\r\n",
        "\"Student1\"_\"43 West Street, NYC\"_95\r\n",
        "\"Student2\"_\"28 Mainstreet, Hoboken NJ\"_93\r\n",
        "\"Student99\"_\"99 2nd. Ave., NYC\"_85 '''\r\n",
        "print(Thefile)\r\n",
        "# INSERT YOUR CODE HERE"
      ],
      "execution_count": null,
      "outputs": []
    }
  ]
}