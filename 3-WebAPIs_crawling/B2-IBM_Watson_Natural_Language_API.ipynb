{
  "nbformat": 4,
  "nbformat_minor": 0,
  "metadata": {
    "kernelspec": {
      "display_name": "Python 3",
      "language": "python",
      "name": "python3"
    },
    "language_info": {
      "codemirror_mode": {
        "name": "ipython",
        "version": 3
      },
      "file_extension": ".py",
      "mimetype": "text/x-python",
      "name": "python",
      "nbconvert_exporter": "python",
      "pygments_lexer": "ipython3",
      "version": "3.6.7"
    },
    "colab": {
      "name": "Copy of B2-IBM_Watson_Natural_Language_API.ipynb",
      "provenance": [],
      "collapsed_sections": [],
      "include_colab_link": true
    }
  },
  "cells": [
    {
      "cell_type": "markdown",
      "metadata": {
        "id": "view-in-github",
        "colab_type": "text"
      },
      "source": [
        "<a href=\"https://colab.research.google.com/github/nhwhite212/DealingwithDataSpring2021/blob/master/3-WebAPIs_crawling/B2-IBM_Watson_Natural_Language_API.ipynb\" target=\"_parent\"><img src=\"https://colab.research.google.com/assets/colab-badge.svg\" alt=\"Open In Colab\"/></a>"
      ]
    },
    {
      "cell_type": "markdown",
      "metadata": {
        "id": "YpOyKprkg78J"
      },
      "source": [
        "# Interacting with the IBM Watson Natural Language Understanding API; POST vs GET\n",
        "\n",
        "Another useful API, especially when dealing with text, is the [IBM Watson  Natural Language Understanding API](https://console.bluemix.net/catalog/services/natural-language-understanding), which offers a variety of text analysis functionalities, such as sentiment analysis, entity extraction, keyword extraction, etc.\n",
        "\n",
        "We will give a couple of examples below, to understand how we can take an unstructured piece of text (either the text alone, or a URL with text), and extract some \"semi-structured\" representation of its content.\n",
        "\n",
        "\n",
        "\n",
        "## /analyze call\n",
        "\n",
        "We will first start with the `GET /analyze` API call ([documentation](https://www.ibm.com/watson/developercloud/natural-language-understanding/api/v1/#get-analyze)), which takes as input a piece of text, and returns an analysis across various dimensions.\n",
        "\n",
        "The call below gets as input a \"text\" variable, and returns back the sentiment of the text."
      ]
    },
    {
      "cell_type": "code",
      "metadata": {
        "id": "6o4aBLeBg78M"
      },
      "source": [
        "import requests\n",
        "import json\n",
        "\n",
        "def getSentiment(text):\n",
        "    endpoint = \"https://gateway.watsonplatform.net/natural-language-understanding/api/v1/analyze\"\n",
        "\n",
        "    # You can register and get your own credentials\n",
        "    # The ones below have a quota of 1000 calls per day \n",
        "    # and can run out quickly if multiple people use these\n",
        "    username = \"apikey\"\n",
        "    #password = \"xSOLcYbCwXT5bRS36huaiwO9kO07_m1EaMa769hTMpcR\"\n",
        "    password = \"JjBk20E2nz3jxv9tUkasj1CIcyPOwhcb1uhMhkXdTWEn\"\n",
        "    parameters = {\n",
        "        'features': 'emotion,sentiment',\n",
        "        'version' : '2018-11-16',\n",
        "        'text': text,\n",
        "        'language' : 'en',\n",
        "        # url = url_to_analyze, this is an alternative to sending the text\n",
        "    }\n",
        "\n",
        "    resp = requests.get(endpoint, params=parameters, auth=(username, password))\n",
        "    \n",
        "    return resp.json()"
      ],
      "execution_count": 1,
      "outputs": []
    },
    {
      "cell_type": "code",
      "metadata": {
        "id": "HCGGi4Sug78U"
      },
      "source": [
        "# We will analyze the text below using the IBM Watson API\n",
        "\n",
        "text = '''\n",
        "I got their Egg & Cheese sandwich on a Whole Wheat Everything Bagel. \n",
        "First off, I loved loved loved the texture of the bagel itself. \n",
        "It was very chewy yet soft, which is a top feature for a NY style bagel. \n",
        "However, I thought there could've been more seasoning on top of \n",
        "the bagel as I found the bagel itself to be a bit bland. \n",
        "\n",
        "Speaking of bland, I thought the egg and cheese filling were also quite bland. \n",
        "This was definitely lacking salt and pepper in the eggs and the cheese didn't\n",
        "really add too much flavor either, which was really disappointing! \n",
        "My mom also had the same complaint with her bagel sandwich \n",
        "(she had the egg sandwich on a blueberry bagel) so I definitely wasn't \n",
        "the only one.\n",
        "\n",
        "'''"
      ],
      "execution_count": 2,
      "outputs": []
    },
    {
      "cell_type": "code",
      "metadata": {
        "id": "RRYAW9WHg78Y",
        "colab": {
          "base_uri": "https://localhost:8080/"
        },
        "outputId": "cf8361de-fff1-4b07-e247-facb8a551574"
      },
      "source": [
        "data = getSentiment(text)\n",
        "data"
      ],
      "execution_count": 3,
      "outputs": [
        {
          "output_type": "execute_result",
          "data": {
            "text/plain": [
              "{'emotion': {'document': {'emotion': {'anger': 0.104206,\n",
              "    'disgust': 0.152643,\n",
              "    'fear': 0.068719,\n",
              "    'joy': 0.621954,\n",
              "    'sadness': 0.484095}}},\n",
              " 'language': 'en',\n",
              " 'sentiment': {'document': {'label': 'negative', 'score': -0.600662}},\n",
              " 'usage': {'features': 2, 'text_characters': 707, 'text_units': 1}}"
            ]
          },
          "metadata": {
            "tags": []
          },
          "execution_count": 3
        }
      ]
    },
    {
      "cell_type": "markdown",
      "metadata": {
        "id": "HofZ85yFg78c"
      },
      "source": [
        "Now, let's try to understand the structure of the answer. First, we check the high-level keys."
      ]
    },
    {
      "cell_type": "code",
      "metadata": {
        "id": "nD3qoCmMg78d",
        "colab": {
          "base_uri": "https://localhost:8080/"
        },
        "outputId": "347034ed-b362-489c-8292-bafe7090d0c6"
      },
      "source": [
        "data.keys()"
      ],
      "execution_count": 4,
      "outputs": [
        {
          "output_type": "execute_result",
          "data": {
            "text/plain": [
              "dict_keys(['usage', 'sentiment', 'language', 'emotion'])"
            ]
          },
          "metadata": {
            "tags": []
          },
          "execution_count": 4
        }
      ]
    },
    {
      "cell_type": "markdown",
      "metadata": {
        "id": "itoPJcaNg78h"
      },
      "source": [
        "Now, let's check the content of these keys:"
      ]
    },
    {
      "cell_type": "code",
      "metadata": {
        "id": "0ewzjsNHg78i",
        "colab": {
          "base_uri": "https://localhost:8080/",
          "height": 36
        },
        "outputId": "f2a8c837-9d0a-459c-c001-80ca41f722b4"
      },
      "source": [
        "data['language']"
      ],
      "execution_count": 5,
      "outputs": [
        {
          "output_type": "execute_result",
          "data": {
            "application/vnd.google.colaboratory.intrinsic+json": {
              "type": "string"
            },
            "text/plain": [
              "'en'"
            ]
          },
          "metadata": {
            "tags": []
          },
          "execution_count": 5
        }
      ]
    },
    {
      "cell_type": "code",
      "metadata": {
        "id": "wEMFHA_mg78n",
        "colab": {
          "base_uri": "https://localhost:8080/"
        },
        "outputId": "293d4f31-b66f-4386-f21a-b1f8d7c837c6"
      },
      "source": [
        "data['sentiment']"
      ],
      "execution_count": 6,
      "outputs": [
        {
          "output_type": "execute_result",
          "data": {
            "text/plain": [
              "{'document': {'label': 'negative', 'score': -0.600662}}"
            ]
          },
          "metadata": {
            "tags": []
          },
          "execution_count": 6
        }
      ]
    },
    {
      "cell_type": "code",
      "metadata": {
        "id": "_UO7k-scg78r",
        "colab": {
          "base_uri": "https://localhost:8080/"
        },
        "outputId": "1a5ce301-6c00-4774-ad7c-327ca70eb4ad"
      },
      "source": [
        "data['emotion']"
      ],
      "execution_count": 7,
      "outputs": [
        {
          "output_type": "execute_result",
          "data": {
            "text/plain": [
              "{'document': {'emotion': {'anger': 0.104206,\n",
              "   'disgust': 0.152643,\n",
              "   'fear': 0.068719,\n",
              "   'joy': 0.621954,\n",
              "   'sadness': 0.484095}}}"
            ]
          },
          "metadata": {
            "tags": []
          },
          "execution_count": 7
        }
      ]
    },
    {
      "cell_type": "code",
      "metadata": {
        "id": "sdBxICpHg78w",
        "colab": {
          "base_uri": "https://localhost:8080/"
        },
        "outputId": "911559b3-7a52-4d6f-8dbb-0abd0c1a41a7"
      },
      "source": [
        "# Let's go deeper into the 'emotion' dictionary\n",
        "data['emotion']['document']"
      ],
      "execution_count": 8,
      "outputs": [
        {
          "output_type": "execute_result",
          "data": {
            "text/plain": [
              "{'emotion': {'anger': 0.104206,\n",
              "  'disgust': 0.152643,\n",
              "  'fear': 0.068719,\n",
              "  'joy': 0.621954,\n",
              "  'sadness': 0.484095}}"
            ]
          },
          "metadata": {
            "tags": []
          },
          "execution_count": 8
        }
      ]
    },
    {
      "cell_type": "code",
      "metadata": {
        "id": "T-A1ZJFyg780",
        "colab": {
          "base_uri": "https://localhost:8080/"
        },
        "outputId": "08284f06-aaee-40a2-ba83-386080d6985c"
      },
      "source": [
        "# And a bit more\n",
        "data['emotion']['document']['emotion']"
      ],
      "execution_count": 9,
      "outputs": [
        {
          "output_type": "execute_result",
          "data": {
            "text/plain": [
              "{'anger': 0.104206,\n",
              " 'disgust': 0.152643,\n",
              " 'fear': 0.068719,\n",
              " 'joy': 0.621954,\n",
              " 'sadness': 0.484095}"
            ]
          },
          "metadata": {
            "tags": []
          },
          "execution_count": 9
        }
      ]
    },
    {
      "cell_type": "markdown",
      "metadata": {
        "id": "19-vgKPag785"
      },
      "source": [
        "### Exercise\n",
        "\n",
        "Type your own piece of text, and analyze it to extract sentiment and emotions. Discuss your findings"
      ]
    },
    {
      "cell_type": "code",
      "metadata": {
        "id": "AO2SHOE7g786"
      },
      "source": [
        ""
      ],
      "execution_count": 9,
      "outputs": []
    },
    {
      "cell_type": "markdown",
      "metadata": {
        "id": "oFIwBAw9g789"
      },
      "source": [
        "## Entities call\n",
        "\n",
        "[Full Documentation of the call](https://www.ibm.com/watson/developercloud/natural-language-understanding/api/v1/#entities)\n",
        "\n",
        "This is a an API call that extracts entities from the text, and also the sentiment and emotion for each of these entities.\n",
        "\n",
        "There are two new technical aspects with this API. First of all, we use the command `requests.post` as opposed to `requests.get`. This happens because `GET` is designed to handle limited amount of data. When we have a large volume of data to send as parameters, then the HTTP protocol requires the use of the `POST` command. You will also see that the parameters that we pass are not \"flat\" as they used to be. Instead we submit the `watson_options` as the set of parameters, which is itself semi-structured.\n",
        "\n",
        "In terms of natural language processing, we will examine a couple of capabilities of the API. First, you will see that there is the capability of \"normalizing\" each entity, so that two different ways of saying the same thing get mapped to the same entity. So for example, \"President Trump\" and \"Donald Trump\" get mapped to the same Knowledge Graph entity."
      ]
    },
    {
      "cell_type": "code",
      "metadata": {
        "id": "S7MIA3sGg78-"
      },
      "source": [
        "import requests\n",
        "import json\n",
        "\n",
        "def processURL(url_to_analyze):\n",
        "    endpoint_watson = \"https://gateway.watsonplatform.net/natural-language-understanding/api/v1/analyze\"\n",
        "    params = {\n",
        "        'version': '2018-11-16',\n",
        "    }\n",
        "    headers = { \n",
        "        'Content-Type': 'application/json',\n",
        "    }\n",
        "    watson_options = {\n",
        "      \"url\": url_to_analyze,\n",
        "      \"features\": {\n",
        "        \"entities\": {\n",
        "          \"sentiment\": True,\n",
        "          \"emotion\": True,\n",
        "          \"limit\": 10\n",
        "        }\n",
        "      }\n",
        "    }\n",
        "    username = \"apikey\"\n",
        "    password = \"xSOLcYbCwXT5bRS36huaiwO9kO07_m1EaMa769hTMpcR\"\n",
        "\n",
        "    resp = requests.post(endpoint_watson, \n",
        "                         data=json.dumps(watson_options), \n",
        "                         headers=headers, \n",
        "                         params=params, \n",
        "                         auth=(username, password) \n",
        "                        )\n",
        "    return resp.json()"
      ],
      "execution_count": 10,
      "outputs": []
    },
    {
      "cell_type": "code",
      "metadata": {
        "id": "cCfu7Mp8g79F"
      },
      "source": [
        "url_to_analyze = 'https://www.reuters.com/article/us-turkey-greece/erdogan-says-greece-sowing-chaos-in-mediterranean-idUSKBN25K25M/'\n",
        "\n",
        "data = processURL(url_to_analyze)"
      ],
      "execution_count": 11,
      "outputs": []
    },
    {
      "cell_type": "code",
      "metadata": {
        "id": "TXcFMzpSg79L",
        "colab": {
          "base_uri": "https://localhost:8080/"
        },
        "outputId": "e8339676-b9bb-40a8-b747-d4632b469641"
      },
      "source": [
        "# Let's see what we get back as top-level attributes\n",
        "data.keys()"
      ],
      "execution_count": 12,
      "outputs": [
        {
          "output_type": "execute_result",
          "data": {
            "text/plain": [
              "dict_keys(['usage', 'retrieved_url', 'language', 'entities'])"
            ]
          },
          "metadata": {
            "tags": []
          },
          "execution_count": 12
        }
      ]
    },
    {
      "cell_type": "code",
      "metadata": {
        "scrolled": true,
        "id": "V0VyAAtSg79T",
        "colab": {
          "base_uri": "https://localhost:8080/"
        },
        "outputId": "56ee9c98-96b0-4ded-d51f-4157ca70bc71"
      },
      "source": [
        "# Let' see the entities list\n",
        "data[\"entities\"]"
      ],
      "execution_count": 13,
      "outputs": [
        {
          "output_type": "execute_result",
          "data": {
            "text/plain": [
              "[{'count': 7,\n",
              "  'disambiguation': {'dbpedia_resource': 'http://dbpedia.org/resource/Greece',\n",
              "   'name': 'Greece',\n",
              "   'subtype': ['GovernmentalJurisdiction', 'WineRegion', 'Country']},\n",
              "  'emotion': {'anger': 0.20288,\n",
              "   'disgust': 0.157348,\n",
              "   'fear': 0.123059,\n",
              "   'joy': 0.148242,\n",
              "   'sadness': 0.163256},\n",
              "  'relevance': 0.849427,\n",
              "  'sentiment': {'label': 'negative', 'score': -0.188959},\n",
              "  'text': 'Greece',\n",
              "  'type': 'Location'},\n",
              " {'count': 4,\n",
              "  'disambiguation': {'dbpedia_resource': 'http://dbpedia.org/resource/Turkey',\n",
              "   'name': 'Turkey',\n",
              "   'subtype': ['Brand',\n",
              "    'GovernmentalJurisdiction',\n",
              "    'ProjectParticipant',\n",
              "    'Country']},\n",
              "  'emotion': {'anger': 0.482006,\n",
              "   'disgust': 0.049143,\n",
              "   'fear': 0.061887,\n",
              "   'joy': 0.17263,\n",
              "   'sadness': 0.230155},\n",
              "  'relevance': 0.425434,\n",
              "  'sentiment': {'label': 'negative', 'score': -0.369139},\n",
              "  'text': 'Turkey',\n",
              "  'type': 'Location'},\n",
              " {'count': 4,\n",
              "  'disambiguation': {'dbpedia_resource': 'http://dbpedia.org/resource/Recep_Tayyip_Erdoğan',\n",
              "   'name': 'Recep Tayyip Erdoğan',\n",
              "   'subtype': ['Politician']},\n",
              "  'emotion': {'anger': 0.162606,\n",
              "   'disgust': 0.028801,\n",
              "   'fear': 0.037381,\n",
              "   'joy': 0.487219,\n",
              "   'sadness': 0.194969},\n",
              "  'relevance': 0.413638,\n",
              "  'sentiment': {'label': 'negative', 'score': -0.440756},\n",
              "  'text': 'Tayyip Erdogan',\n",
              "  'type': 'Person'},\n",
              " {'count': 1,\n",
              "  'disambiguation': {'dbpedia_resource': 'http://dbpedia.org/resource/Turkish_Navy',\n",
              "   'name': 'Turkish Navy',\n",
              "   'subtype': []},\n",
              "  'emotion': {'anger': 0.330678,\n",
              "   'disgust': 0.35874,\n",
              "   'fear': 0.13258,\n",
              "   'joy': 0.043825,\n",
              "   'sadness': 0.210728},\n",
              "  'relevance': 0.322993,\n",
              "  'sentiment': {'label': 'negative', 'score': -0.386982},\n",
              "  'text': 'Turkish navy',\n",
              "  'type': 'Organization'},\n",
              " {'count': 1,\n",
              "  'disambiguation': {'dbpedia_resource': 'http://dbpedia.org/resource/Mediterranean_Sea',\n",
              "   'name': 'Mediterranean Sea',\n",
              "   'subtype': ['Location', 'BodyOfWater']},\n",
              "  'emotion': {'anger': 0.116916,\n",
              "   'disgust': 0.068269,\n",
              "   'fear': 0.050687,\n",
              "   'joy': 0.341013,\n",
              "   'sadness': 0.147898},\n",
              "  'relevance': 0.301936,\n",
              "  'sentiment': {'label': 'neutral', 'score': 0.0},\n",
              "  'text': 'Mediterranean Sea',\n",
              "  'type': 'GeographicFeature'},\n",
              " {'count': 2,\n",
              "  'disambiguation': {'subtype': ['Region']},\n",
              "  'emotion': {'anger': 0.415572,\n",
              "   'disgust': 0.132745,\n",
              "   'fear': 0.031977,\n",
              "   'joy': 0.162393,\n",
              "   'sadness': 0.173029},\n",
              "  'relevance': 0.298031,\n",
              "  'sentiment': {'label': 'neutral', 'score': 0.0},\n",
              "  'text': 'Mediterranean',\n",
              "  'type': 'Location'},\n",
              " {'count': 1,\n",
              "  'emotion': {'anger': 0.433817,\n",
              "   'disgust': 0.108095,\n",
              "   'fear': 0.05792,\n",
              "   'joy': 0.075278,\n",
              "   'sadness': 0.212043},\n",
              "  'relevance': 0.279478,\n",
              "  'sentiment': {'label': 'neutral', 'score': 0.0},\n",
              "  'text': 'Navtex',\n",
              "  'type': 'Person'},\n",
              " {'count': 2,\n",
              "  'disambiguation': {'dbpedia_resource': 'http://dbpedia.org/resource/Athens',\n",
              "   'name': 'Athens',\n",
              "   'subtype': ['PoliticalDistrict',\n",
              "    'AdministrativeDivision',\n",
              "    'GovernmentalJurisdiction',\n",
              "    'OlympicBiddingCity',\n",
              "    'OlympicHostCity',\n",
              "    'City']},\n",
              "  'emotion': {'anger': 0.255116,\n",
              "   'disgust': 0.116212,\n",
              "   'fear': 0.053303,\n",
              "   'joy': 0.091826,\n",
              "   'sadness': 0.150686},\n",
              "  'relevance': 0.278664,\n",
              "  'sentiment': {'label': 'negative', 'score': -0.582247},\n",
              "  'text': 'Athens',\n",
              "  'type': 'Location'},\n",
              " {'count': 1,\n",
              "  'emotion': {'anger': 0.433817,\n",
              "   'disgust': 0.108095,\n",
              "   'fear': 0.05792,\n",
              "   'joy': 0.075278,\n",
              "   'sadness': 0.212043},\n",
              "  'relevance': 0.260924,\n",
              "  'sentiment': {'label': 'neutral', 'score': 0.0},\n",
              "  'text': 'Navtex',\n",
              "  'type': 'Company'},\n",
              " {'count': 1,\n",
              "  'disambiguation': {'dbpedia_resource': 'http://dbpedia.org/resource/Istanbul',\n",
              "   'name': 'Istanbul',\n",
              "   'subtype': ['OlympicBiddingCity', 'City']},\n",
              "  'emotion': {'anger': 0.0,\n",
              "   'disgust': 0.0,\n",
              "   'fear': 0.0,\n",
              "   'joy': 0.0,\n",
              "   'sadness': 0.0},\n",
              "  'relevance': 0.228762,\n",
              "  'sentiment': {'label': 'neutral', 'score': 0.0},\n",
              "  'text': 'ISTANBUL',\n",
              "  'type': 'Location'}]"
            ]
          },
          "metadata": {
            "tags": []
          },
          "execution_count": 13
        }
      ]
    },
    {
      "cell_type": "code",
      "metadata": {
        "id": "8X5VaaqCg79X",
        "colab": {
          "base_uri": "https://localhost:8080/"
        },
        "outputId": "25f29079-b8d8-4a34-bb5d-e891b9712ed5"
      },
      "source": [
        "# Let' see the third entity. Notice the \"disambiguated\" attribute that\n",
        "# points to \"canonical\" versions of the entity, in DBPedia, Freebase, OpenCYC, YAGO, etc\n",
        "data[\"entities\"][2]"
      ],
      "execution_count": 14,
      "outputs": [
        {
          "output_type": "execute_result",
          "data": {
            "text/plain": [
              "{'count': 4,\n",
              " 'disambiguation': {'dbpedia_resource': 'http://dbpedia.org/resource/Recep_Tayyip_Erdoğan',\n",
              "  'name': 'Recep Tayyip Erdoğan',\n",
              "  'subtype': ['Politician']},\n",
              " 'emotion': {'anger': 0.162606,\n",
              "  'disgust': 0.028801,\n",
              "  'fear': 0.037381,\n",
              "  'joy': 0.487219,\n",
              "  'sadness': 0.194969},\n",
              " 'relevance': 0.413638,\n",
              " 'sentiment': {'label': 'negative', 'score': -0.440756},\n",
              " 'text': 'Tayyip Erdogan',\n",
              " 'type': 'Person'}"
            ]
          },
          "metadata": {
            "tags": []
          },
          "execution_count": 14
        }
      ]
    },
    {
      "cell_type": "code",
      "metadata": {
        "id": "vqm1dcxLg79f",
        "colab": {
          "base_uri": "https://localhost:8080/"
        },
        "outputId": "f13c9173-3751-4c25-ab16-4ef003a1050d"
      },
      "source": [
        "# This function takes as input the result\n",
        "# from the IBM Watson API and returns a list\n",
        "# of entities that are relevant (above threshold)\n",
        "# to the article\n",
        "def getEntities(data, threshold):\n",
        "    result = []\n",
        "    for entity in data[\"entities\"]:\n",
        "        relevance = float(entity['relevance'])\n",
        "        if relevance > threshold:\n",
        "            result.append(entity['text'])\n",
        "    return result\n",
        "\n",
        "getEntities(data, 0.25)"
      ],
      "execution_count": 15,
      "outputs": [
        {
          "output_type": "execute_result",
          "data": {
            "text/plain": [
              "['Greece',\n",
              " 'Turkey',\n",
              " 'Tayyip Erdogan',\n",
              " 'Turkish navy',\n",
              " 'Mediterranean Sea',\n",
              " 'Mediterranean',\n",
              " 'Navtex',\n",
              " 'Athens',\n",
              " 'Navtex']"
            ]
          },
          "metadata": {
            "tags": []
          },
          "execution_count": 15
        }
      ]
    },
    {
      "cell_type": "markdown",
      "metadata": {
        "collapsed": true,
        "id": "PVct5ns8g79m"
      },
      "source": [
        "### Exercise\n",
        "\n",
        "* First of all, **get your own credentials for the IBM Watson API**. The demo key that we use above has a limited quota.\n",
        "* Use an API to get news articles. \n",
        "    * Option 1: Use the API at https://newsapi.org to fetch the news from various sources. Print the entities that are currently being discussed in the news, together with their relevance value and the associated sentiment.\n",
        "    * Option 2: Use the NY Times API to fetch the Top Stories News. You can register and get an API key at https://developer.nytimes.com/. The `Top Stories V2 API` provides the details of the news of the day: (The API call documentation is at https://developer.nytimes.com/docs/top-stories-product/1/overview and the API Call is  https://api.nytimes.com/svc/topstories/v2/home.json?api-key=PUTYOURKEYHERE). Repeat the entity extraction process from above.\n",
        "    * Option 3: Use the Guardian API at https://open-platform.theguardian.com/documentation/ to fetch news from The Guardian.\n"
      ]
    },
    {
      "cell_type": "code",
      "metadata": {
        "id": "vylSuCdkg79n"
      },
      "source": [
        ""
      ],
      "execution_count": null,
      "outputs": []
    }
  ]
}