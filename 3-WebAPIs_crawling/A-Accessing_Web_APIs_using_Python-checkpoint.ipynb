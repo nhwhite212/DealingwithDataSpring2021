{
  "nbformat": 4,
  "nbformat_minor": 0,
  "metadata": {
    "kernelspec": {
      "display_name": "Python 3",
      "language": "python",
      "name": "python3"
    },
    "language_info": {
      "codemirror_mode": {
        "name": "ipython",
        "version": 2
      },
      "file_extension": ".py",
      "mimetype": "text/x-python",
      "name": "python",
      "nbconvert_exporter": "python",
      "pygments_lexer": "ipython2",
      "version": "2.7.5"
    },
    "colab": {
      "name": "A-Accessing_Web_APIs_using_Python-checkpoint.ipynb",
      "provenance": []
    }
  },
  "cells": [
    {
      "cell_type": "markdown",
      "metadata": {
        "id": "20dCOBZ09clI"
      },
      "source": [
        "## Interacting with Web APIs\n",
        "\n",
        "#### One of the strengths of python is it's ability to easily conect with web services using their API (Application Program Interface).\n",
        "An API typically just returns data, and not a complete web page. The data is usually in XML (eXtensible Markup Language), JSON (Javascript Object Notation), or sometime just text.\n",
        "\n",
        "We have seen the use of the  unix \"CURL\" command, which downloads a web page. But it is easier to interact with web services using a python library that will\n",
        "bring the data directly into our python program. The \"requests\" library does this for us. We need to install it using the pip (pip3 since we are using python3), and then we can \"import\" the libary into our application."
      ]
    },
    {
      "cell_type": "code",
      "metadata": {
        "id": "1gYXrhdl9clJ"
      },
      "source": [
        "# !sudo -H pip3 install -U requests\n",
        "# import requests\n",
        "# requests.__version__"
      ],
      "execution_count": 1,
      "outputs": []
    },
    {
      "cell_type": "code",
      "metadata": {
        "id": "DtwDmRS29clK",
        "outputId": "9ea91d38-4070-4837-f119-7265610a4f27",
        "colab": {
          "base_uri": "https://localhost:8080/"
        }
      },
      "source": [
        "# Install the requests library into Python\n",
        "!sudo -H pip3 install -U requests\n"
      ],
      "execution_count": 14,
      "outputs": [
        {
          "output_type": "stream",
          "text": [
            "Requirement already up-to-date: requests in /usr/local/lib/python3.7/dist-packages (2.25.1)\n",
            "Requirement already satisfied, skipping upgrade: chardet<5,>=3.0.2 in /usr/local/lib/python3.7/dist-packages (from requests) (3.0.4)\n",
            "Requirement already satisfied, skipping upgrade: idna<3,>=2.5 in /usr/local/lib/python3.7/dist-packages (from requests) (2.10)\n",
            "Requirement already satisfied, skipping upgrade: urllib3<1.27,>=1.21.1 in /usr/local/lib/python3.7/dist-packages (from requests) (1.24.3)\n",
            "Requirement already satisfied, skipping upgrade: certifi>=2017.4.17 in /usr/local/lib/python3.7/dist-packages (from requests) (2020.12.5)\n"
          ],
          "name": "stdout"
        }
      ]
    },
    {
      "cell_type": "code",
      "metadata": {
        "id": "NfImfCAq9clL"
      },
      "source": [
        "# We first import the requests library\n",
        "import requests\n",
        "# Call the web api api.ipstack.com and ask for ino about an NYU IP address, provide an access_key as a parameter\n",
        "url='http://api.ipstack.com/128.122.85.5?access_key=c2192e9aa79a13153a328f383b810862'\n",
        "#url = 'http://freegeoip.net/json/'\n",
        "resp = requests.get(url)"
      ],
      "execution_count": 15,
      "outputs": []
    },
    {
      "cell_type": "code",
      "metadata": {
        "id": "hzwSPulB9clM",
        "outputId": "afdc9de0-d2f2-4a70-f79b-3bb16e2c01a1",
        "colab": {
          "base_uri": "https://localhost:8080/"
        }
      },
      "source": [
        "# The resp object encapsulates the \"response\" of the server\n",
        "# Notice the status code that is displayed. \n",
        "# Code 200 means that things went fine\n",
        "# Code 404 means that the URL was not found\n",
        "# Codes 5xx mean that something went wrong\n",
        "resp"
      ],
      "execution_count": 16,
      "outputs": [
        {
          "output_type": "execute_result",
          "data": {
            "text/plain": [
              "<Response [200]>"
            ]
          },
          "metadata": {
            "tags": []
          },
          "execution_count": 16
        }
      ]
    },
    {
      "cell_type": "code",
      "metadata": {
        "id": "gqSBgZaA9clM",
        "outputId": "3b96ae47-b2ec-4236-850e-ce3234e74ebd",
        "colab": {
          "base_uri": "https://localhost:8080/"
        }
      },
      "source": [
        "if (resp.status_code == 200):\n",
        "    print(\"Everything was ok:\", resp.status_code)\n",
        "else:\n",
        "    print(\"There was a problem:\", resp.status_code)"
      ],
      "execution_count": 17,
      "outputs": [
        {
          "output_type": "stream",
          "text": [
            "Everything was ok: 200\n"
          ],
          "name": "stdout"
        }
      ]
    },
    {
      "cell_type": "code",
      "metadata": {
        "id": "dOUYrGP39clN",
        "outputId": "39cdcad0-9e3e-447b-e2c5-c3c8161eb0f2",
        "colab": {
          "base_uri": "https://localhost:8080/"
        }
      },
      "source": [
        "# Let's see the content of the response\n",
        "# As you can see, it contains the JSON response (looks like a dictionary)\n",
        "data = resp.text\n",
        "print(data)"
      ],
      "execution_count": 20,
      "outputs": [
        {
          "output_type": "stream",
          "text": [
            "{\"ip\":\"128.122.85.5\",\"type\":\"ipv4\",\"continent_code\":\"NA\",\"continent_name\":\"North America\",\"country_code\":\"US\",\"country_name\":\"United States\",\"region_code\":\"NY\",\"region_name\":\"New York\",\"city\":\"Manhattan\",\"zip\":\"10003\",\"latitude\":40.73139190673828,\"longitude\":-73.9884033203125,\"location\":{\"geoname_id\":5125771,\"capital\":\"Washington D.C.\",\"languages\":[{\"code\":\"en\",\"name\":\"English\",\"native\":\"English\"}],\"country_flag\":\"http:\\/\\/assets.ipstack.com\\/flags\\/us.svg\",\"country_flag_emoji\":\"\\ud83c\\uddfa\\ud83c\\uddf8\",\"country_flag_emoji_unicode\":\"U+1F1FA U+1F1F8\",\"calling_code\":\"1\",\"is_eu\":false}}\n"
          ],
          "name": "stdout"
        }
      ]
    },
    {
      "cell_type": "code",
      "metadata": {
        "id": "S6ZxO4Qz9clN"
      },
      "source": [
        "# We want to transform the JSON file into a Python dictionary object\n",
        "# We use the response.json() command to get back a dictionary\n",
        "data = resp.json()"
      ],
      "execution_count": 21,
      "outputs": []
    },
    {
      "cell_type": "code",
      "metadata": {
        "id": "2dD9hSfo9clN",
        "outputId": "a9a6cdfd-6a21-4aa5-963c-4b1ace6429cb",
        "colab": {
          "base_uri": "https://localhost:8080/"
        }
      },
      "source": [
        "# Now data is a Python dictionary (note the order of the keys has changed)\n",
        "data"
      ],
      "execution_count": 22,
      "outputs": [
        {
          "output_type": "execute_result",
          "data": {
            "text/plain": [
              "{'city': 'Manhattan',\n",
              " 'continent_code': 'NA',\n",
              " 'continent_name': 'North America',\n",
              " 'country_code': 'US',\n",
              " 'country_name': 'United States',\n",
              " 'ip': '128.122.85.5',\n",
              " 'latitude': 40.73139190673828,\n",
              " 'location': {'calling_code': '1',\n",
              "  'capital': 'Washington D.C.',\n",
              "  'country_flag': 'http://assets.ipstack.com/flags/us.svg',\n",
              "  'country_flag_emoji': '🇺🇸',\n",
              "  'country_flag_emoji_unicode': 'U+1F1FA U+1F1F8',\n",
              "  'geoname_id': 5125771,\n",
              "  'is_eu': False,\n",
              "  'languages': [{'code': 'en', 'name': 'English', 'native': 'English'}]},\n",
              " 'longitude': -73.9884033203125,\n",
              " 'region_code': 'NY',\n",
              " 'region_name': 'New York',\n",
              " 'type': 'ipv4',\n",
              " 'zip': '10003'}"
            ]
          },
          "metadata": {
            "tags": []
          },
          "execution_count": 22
        }
      ]
    },
    {
      "cell_type": "code",
      "metadata": {
        "id": "XqA3ZDnu9clO",
        "outputId": "1030d099-4136-4bb8-f28f-b1a30edef61e",
        "colab": {
          "base_uri": "https://localhost:8080/"
        }
      },
      "source": [
        "# And we can access the fields of the JSON as we normally access Python dictionary entries\n",
        "print(\"Lon:\", data[\"longitude\"], \"Lat:\", data[\"latitude\"])"
      ],
      "execution_count": 23,
      "outputs": [
        {
          "output_type": "stream",
          "text": [
            "Lon: -73.9884033203125 Lat: 40.73139190673828\n"
          ],
          "name": "stdout"
        }
      ]
    },
    {
      "cell_type": "markdown",
      "metadata": {
        "id": "vtSEwjAh9clP"
      },
      "source": [
        "And in one piece:"
      ]
    },
    {
      "cell_type": "code",
      "metadata": {
        "id": "UtiBVN_i9clR",
        "outputId": "e3600143-f2c6-4044-ebb5-bf0073daa77e",
        "colab": {
          "base_uri": "https://localhost:8080/"
        }
      },
      "source": [
        "import requests\n",
        "#url = 'http://freegeoip.net/json/'\n",
        "url='http://api.ipstack.com/128.122.85.5?access_key=c2192e9aa79a13153a328f383b810862'\n",
        "resp = requests.get(url)\n",
        "data = resp.json()\n",
        "print(\"Lon:\", data[\"longitude\"], \"Lat:\", data[\"latitude\"])"
      ],
      "execution_count": 24,
      "outputs": [
        {
          "output_type": "stream",
          "text": [
            "Lon: -73.9884033203125 Lat: 40.73139190673828\n"
          ],
          "name": "stdout"
        }
      ]
    },
    {
      "cell_type": "markdown",
      "metadata": {
        "id": "b4_nwS-H9clR"
      },
      "source": [
        "### Parameters \n",
        "\n",
        "The first API call that we tried was very simple. We just fetched a URL. Now let's see a URL that accepts as input a set of **parameters**. We have already seen this concept with functions; the parameters of the API calls are the exact equivalent but for Web APIs, which are, at their core, functions that we call over the web. "
      ]
    },
    {
      "cell_type": "markdown",
      "metadata": {
        "id": "-PHCdmwp9clR"
      },
      "source": [
        "### Example: OpenWeatherMap\n",
        "\n",
        "Let's try to query OpenWeatherMap now, to get data about the weather. [Documentation](http://openweathermap.org/current#geo). Below you can find the URL that you can copy and paste in your browser, to get the weather for New York. You will notice that it contains parameters as part of the URL, including an `appid` which is a key that is used to limit the number of calls that can be issued by a single application. \n",
        "\n",
        "Try the URL in your browser. Also try to change the query parameter `q` and change it from `New%20York,NY` to something different. (Note: The `%20` is a transformation for the space (` `) character in URLs.)"
      ]
    },
    {
      "cell_type": "markdown",
      "metadata": {
        "id": "77mLPhdR9clR"
      },
      "source": [
        "#http://api.openweathermap.org/data/2.5/weather?q=New%20York,NY,USA&units=imperial&mode=json&appid=ffb7b9808e07c9135bdcc7d1e867253d"
      ]
    },
    {
      "cell_type": "markdown",
      "metadata": {
        "id": "5WGYK9Dn9clR"
      },
      "source": [
        "Below you can find the same code, but now we have a Python dictionary to organize and list the parameters."
      ]
    },
    {
      "cell_type": "code",
      "metadata": {
        "id": "z9JcLGan9clS",
        "outputId": "2ceca599-42e1-4fb7-89e3-59af0ee74cf3",
        "colab": {
          "base_uri": "https://localhost:8080/"
        }
      },
      "source": [
        "import requests\n",
        "\n",
        "openweathermap_url = \"http://api.openweathermap.org/data/2.5/weather\"\n",
        "parameters = {\n",
        "    'q'     : 'New York, NY, USA',\n",
        "    'units' : 'imperial',\n",
        "    'mode'  : 'json',\n",
        "    'appid' : 'ffb7b9808e07c9135bdcc7d1e867253d'\n",
        "}\n",
        "resp = requests.get(openweathermap_url, params=parameters)\n",
        "data = resp.json()\n",
        "data"
      ],
      "execution_count": 25,
      "outputs": [
        {
          "output_type": "execute_result",
          "data": {
            "text/plain": [
              "{'base': 'stations',\n",
              " 'clouds': {'all': 90},\n",
              " 'cod': 200,\n",
              " 'coord': {'lat': 40.7306, 'lon': -73.9866},\n",
              " 'dt': 1616703268,\n",
              " 'id': 5128581,\n",
              " 'main': {'feels_like': 64.89,\n",
              "  'humidity': 77,\n",
              "  'pressure': 1018,\n",
              "  'temp': 65.53,\n",
              "  'temp_max': 70,\n",
              "  'temp_min': 62.01},\n",
              " 'name': 'New York',\n",
              " 'sys': {'country': 'US',\n",
              "  'id': 4610,\n",
              "  'sunrise': 1616669433,\n",
              "  'sunset': 1616713976,\n",
              "  'type': 1},\n",
              " 'timezone': -14400,\n",
              " 'visibility': 10000,\n",
              " 'weather': [{'description': 'overcast clouds',\n",
              "   'icon': '04d',\n",
              "   'id': 804,\n",
              "   'main': 'Clouds'}],\n",
              " 'wind': {'deg': 250, 'speed': 5.75}}"
            ]
          },
          "metadata": {
            "tags": []
          },
          "execution_count": 25
        }
      ]
    },
    {
      "cell_type": "markdown",
      "metadata": {
        "id": "nfank6SN9clS"
      },
      "source": [
        "#### Exercise \n",
        "\n",
        "* Extract the current temperature from the returned JSON response.\n",
        "* Extract the description of the current weather\n",
        "* Try to change the units to `metric` and repeat\n",
        "* Get the weather for San Francisco, CA\n",
        "\n"
      ]
    },
    {
      "cell_type": "code",
      "metadata": {
        "id": "LsA7DthU9clS"
      },
      "source": [
        ""
      ],
      "execution_count": 25,
      "outputs": []
    },
    {
      "cell_type": "markdown",
      "metadata": {
        "id": "1qnTZm579clS"
      },
      "source": [
        "#### Exercise\n",
        "\n",
        "* Study the documentation of the API ([Documentation](http://openweathermap.org/current#geo)). Change the API call to use the longitude and latitude."
      ]
    },
    {
      "cell_type": "code",
      "metadata": {
        "id": "8axlC7i49clT"
      },
      "source": [
        ""
      ],
      "execution_count": null,
      "outputs": []
    },
    {
      "cell_type": "markdown",
      "metadata": {
        "id": "SD9yl7S29clT"
      },
      "source": [
        "#### Exercise\n",
        "\n",
        "Read the location of your computer using the GeoIP API. Then use the OpenWeatherMap to query the API and fetch the temperature for the location returned by the GeoIP API. For this exercise, you will need to learn to read variables from a Web API (freegeoip) and use them as input in another (openweathermap)"
      ]
    },
    {
      "cell_type": "code",
      "metadata": {
        "id": "by0fV78i9clT"
      },
      "source": [
        "#your code here\n"
      ],
      "execution_count": null,
      "outputs": []
    },
    {
      "cell_type": "markdown",
      "metadata": {
        "id": "cqBeHoz89clT"
      },
      "source": [
        "### Solution for Exercise"
      ]
    },
    {
      "cell_type": "code",
      "metadata": {
        "scrolled": true,
        "id": "Qb80RP129clT"
      },
      "source": [
        "import requests\n",
        "# This seems only to work on ubuntu\n",
        "#freegeoip_url = 'http://freegeoip.net/json/'\n",
        "freegeoip_url='http://api.ipstack.com/128.122.85.5?access_key=c2192e9aa79a13153a328f383b810862'\n",
        "resp = requests.get(freegeoip_url)\n",
        "data = resp.json()\n",
        "lon = data[\"longitude\"]\n",
        "lat = data[\"latitude\"]\n",
        "\n",
        "openweathermap_url = \"http://api.openweathermap.org/data/2.5/weather\"\n",
        "parameters = {\n",
        "    'lat'   : str(lat),\n",
        "    'lon'   : str(lon),\n",
        "    'units' : 'imperial',\n",
        "    'mode'  : 'json',\n",
        "    'appid' : 'ffb7b9808e07c9135bdcc7d1e867253d'\n",
        "}\n",
        "resp = requests.get(openweathermap_url, params=parameters)\n",
        "data = resp.json()\n",
        "data"
      ],
      "execution_count": null,
      "outputs": []
    },
    {
      "cell_type": "code",
      "metadata": {
        "id": "HN5SEgG69clV"
      },
      "source": [
        ""
      ],
      "execution_count": null,
      "outputs": []
    },
    {
      "cell_type": "code",
      "metadata": {
        "id": "zYtN3xRX9clV"
      },
      "source": [
        ""
      ],
      "execution_count": null,
      "outputs": []
    },
    {
      "cell_type": "code",
      "metadata": {
        "id": "soZZV2Zx9clV"
      },
      "source": [
        ""
      ],
      "execution_count": null,
      "outputs": []
    },
    {
      "cell_type": "code",
      "metadata": {
        "id": "wxys9TJh9clV"
      },
      "source": [
        ""
      ],
      "execution_count": null,
      "outputs": []
    }
  ]
}