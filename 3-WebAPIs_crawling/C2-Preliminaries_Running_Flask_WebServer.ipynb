{
  "nbformat": 4,
  "nbformat_minor": 0,
  "metadata": {
    "kernelspec": {
      "display_name": "Python 3",
      "language": "python",
      "name": "python3"
    },
    "language_info": {
      "codemirror_mode": {
        "name": "ipython",
        "version": 3
      },
      "file_extension": ".py",
      "mimetype": "text/x-python",
      "name": "python",
      "nbconvert_exporter": "python",
      "pygments_lexer": "ipython3",
      "version": "3.5.2"
    },
    "colab": {
      "name": "C2-Preliminaries_Running_Flask_WebServer.ipynb",
      "provenance": []
    }
  },
  "cells": [
    {
      "cell_type": "markdown",
      "metadata": {
        "id": "JE_sxWDtQAzy"
      },
      "source": [
        "### Running our own Python-based web server: Flask  (Doesn't run on colab)"
      ]
    },
    {
      "cell_type": "markdown",
      "metadata": {
        "id": "J-Ojm7KHQAz1"
      },
      "source": [
        "As you can see from the above \"flow\", in OAuth2 authentication, we will need to have our own web server, to receive the answers that come back from the API. Python can do that using Flask, a very lightweight webserver. Below you can find a small example of a webserver that will run on your machine at port 5000. \n",
        "\n",
        "**Please note that we have configured this webserver to shutdown after a responding to a single call (we added the \"stop\\_server()\" function call in call responses). In general, we do not do that, and we leave the server running.**\n",
        "\n",
        "Once you run the call, visit http://yourIP:5000/ or http://yourIP:5000/testNYU to see the results. The server will stop immediately after, and the cell will stop being in \"Busy\" status."
      ]
    },
    {
      "cell_type": "markdown",
      "metadata": {
        "id": "xM0r6tE2QAz3"
      },
      "source": [
        "First, install flask if it isn't there"
      ]
    },
    {
      "cell_type": "code",
      "metadata": {
        "collapsed": true,
        "id": "dL7WUat7QAz4"
      },
      "source": [
        "!sudo pip3 install flask\n"
      ],
      "execution_count": null,
      "outputs": []
    },
    {
      "cell_type": "code",
      "metadata": {
        "id": "GsV8ZUEWQAz4",
        "outputId": "84a8911c-6abb-46c8-ddf6-2c3b8bd038ab"
      },
      "source": [
        "# In this cell, we configure our example web server. \n",
        "# We will show in the next cell how to configure this\n",
        "# web server to handle the OAuth2 calls.\n",
        "\n",
        "# Flask is a webserver\n",
        "from flask import Flask, request\n",
        "\n",
        "# We add a global variable that will be used to count the visitors to a specific URL\n",
        "visitor_counter = 0\n",
        "# Initialize the embedded web server\n",
        "webserver = Flask(\"MyFirstWebServer\")\n",
        "\n",
        "import datetime\n",
        "import time\n",
        "# Go to http://<your IP>:5000/ to see the response\n",
        "@webserver.route('/')\n",
        "def hello_world():\n",
        "    stop_server()\n",
        "    return 'Hello Everyone, it is now ' + str(datetime.date.today() ) \n",
        "\n",
        "# Go to http://<your IP>:5000/testNYU to see the different message\n",
        "@webserver.route('/testNYU')\n",
        "def hello_nyu():\n",
        "    stop_server()\n",
        "    global visitor_counter\n",
        "    visitor_counter += 1\n",
        "    return 'Hello! You are visitor #{i}'.format(i=visitor_counter)\n",
        "\n",
        "def start_server():\n",
        "    global visitor_counter\n",
        "    visitor_counter = 0\n",
        "    webserver.run(host='0.0.0.0', port=5000)\n",
        "    return\n",
        "    \n",
        "def stop_server():\n",
        "    shutdown_after_request = request.environ.get('werkzeug.server.shutdown')\n",
        "    shutdown_after_request()\n",
        "    return\n",
        "\n",
        "start_server()"
      ],
      "execution_count": null,
      "outputs": [
        {
          "output_type": "stream",
          "text": [
            " * Running on http://0.0.0.0:5000/ (Press CTRL+C to quit)\n",
            "73.80.229.237 - - [02/Sep/2017 16:42:55] \"GET /testNYU HTTP/1.1\" 200 -\n"
          ],
          "name": "stderr"
        }
      ]
    },
    {
      "cell_type": "markdown",
      "metadata": {
        "id": "e0oaLRgRQAz6"
      },
      "source": [
        "#### Exercise\n",
        "\n",
        "Consult the notes in 1/D, and figure out how to run the server in the background."
      ]
    },
    {
      "cell_type": "code",
      "metadata": {
        "collapsed": true,
        "id": "ZTb_d0WgQAz7"
      },
      "source": [
        ""
      ],
      "execution_count": null,
      "outputs": []
    }
  ]
}